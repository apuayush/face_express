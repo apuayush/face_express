{
  "nbformat": 4,
  "nbformat_minor": 0,
  "metadata": {
    "colab": {
      "name": "training.ipynb",
      "version": "0.3.2",
      "provenance": []
    },
    "kernelspec": {
      "name": "python3",
      "display_name": "Python 3"
    },
    "accelerator": "GPU"
  },
  "cells": [
    {
      "metadata": {
        "id": "56zu04MAchOf",
        "colab_type": "code",
        "colab": {
          "base_uri": "https://localhost:8080/",
          "height": 104
        },
        "outputId": "344e155d-8ea6-443e-fd56-04eda47fe302"
      },
      "cell_type": "code",
      "source": [
        "# for mounting drive with google colabs\n",
        "!apt-get install -y -qq software-properties-common python-software-properties module-init-tools\n",
        "!add-apt-repository -y ppa:alessandro-strada/ppa 2>&1 > /dev/null\n",
        "!apt-get update -qq 2>&1 > /dev/null\n",
        "!apt-get -y install -qq google-drive-ocamlfuse fuse\n",
        "from google.colab import auth\n",
        "auth.authenticate_user()\n",
        "from oauth2client.client import GoogleCredentials\n",
        "creds = GoogleCredentials.get_application_default()\n",
        "import getpass\n",
        "!google-drive-ocamlfuse -headless -id={creds.client_id} -secret={creds.client_secret} < /dev/null 2>&1 | grep URL\n",
        "vcode = getpass.getpass()\n",
        "!echo {vcode} | google-drive-ocamlfuse -headless -id={creds.client_id} -secret={creds.client_secret}"
      ],
      "execution_count": 3,
      "outputs": [
        {
          "output_type": "stream",
          "text": [
            "Please, open the following URL in a web browser: https://accounts.google.com/o/oauth2/auth?client_id=32555940559.apps.googleusercontent.com&redirect_uri=urn%3Aietf%3Awg%3Aoauth%3A2.0%3Aoob&scope=https%3A%2F%2Fwww.googleapis.com%2Fauth%2Fdrive&response_type=code&access_type=offline&approval_prompt=force\r\n",
            "··········\n",
            "Please, open the following URL in a web browser: https://accounts.google.com/o/oauth2/auth?client_id=32555940559.apps.googleusercontent.com&redirect_uri=urn%3Aietf%3Awg%3Aoauth%3A2.0%3Aoob&scope=https%3A%2F%2Fwww.googleapis.com%2Fauth%2Fdrive&response_type=code&access_type=offline&approval_prompt=force\n",
            "Please enter the verification code: Access token retrieved correctly.\n"
          ],
          "name": "stdout"
        }
      ]
    },
    {
      "metadata": {
        "id": "VIcp0a35KSHS",
        "colab_type": "code",
        "colab": {}
      },
      "cell_type": "code",
      "source": [
        "!mkdir -p drive\n",
        "!google-drive-ocamlfuse drive"
      ],
      "execution_count": 0,
      "outputs": []
    },
    {
      "metadata": {
        "id": "pnHOW57MKWV0",
        "colab_type": "code",
        "colab": {}
      },
      "cell_type": "code",
      "source": [
        "!pip install -q keras"
      ],
      "execution_count": 0,
      "outputs": []
    },
    {
      "metadata": {
        "id": "_jsMmkQq0TD7",
        "colab_type": "code",
        "colab": {
          "base_uri": "https://localhost:8080/",
          "height": 33
        },
        "outputId": "9124a71c-26e3-404c-ce43-bf6efff377f4"
      },
      "cell_type": "code",
      "source": [
        "!ls"
      ],
      "execution_count": 23,
      "outputs": [
        {
          "output_type": "stream",
          "text": [
            "datalab  drive\r\n"
          ],
          "name": "stdout"
        }
      ]
    },
    {
      "metadata": {
        "id": "AwcI6o1NkCAE",
        "colab_type": "code",
        "colab": {}
      },
      "cell_type": "code",
      "source": [
        "import sys\n",
        "import time \n",
        "import os\n",
        "import cv2\n",
        "import datetime\n",
        "from PIL import Image\n",
        "from matplotlib import pyplot as plt\n",
        "\n",
        "import pandas as pd\n",
        "import numpy as np\n",
        "% matplotlib inline"
      ],
      "execution_count": 0,
      "outputs": []
    },
    {
      "metadata": {
        "id": "Ep4jky9PJHZo",
        "colab_type": "text"
      },
      "cell_type": "markdown",
      "source": [
        "# Reading data"
      ]
    },
    {
      "metadata": {
        "id": "Qz-FqetJmBTb",
        "colab_type": "code",
        "colab": {}
      },
      "cell_type": "code",
      "source": [
        "data = pd.read_csv('drive/fer2013.csv')"
      ],
      "execution_count": 0,
      "outputs": []
    },
    {
      "metadata": {
        "id": "wvcWR4P4VMqr",
        "colab_type": "code",
        "colab": {
          "base_uri": "https://localhost:8080/",
          "height": 33
        },
        "outputId": "df48286f-051f-4af0-ba02-2080b805e1f3"
      },
      "cell_type": "code",
      "source": [
        "data['Usage'].unique()"
      ],
      "execution_count": 26,
      "outputs": [
        {
          "output_type": "execute_result",
          "data": {
            "text/plain": [
              "array(['Training', 'PublicTest', 'PrivateTest'], dtype=object)"
            ]
          },
          "metadata": {
            "tags": []
          },
          "execution_count": 26
        }
      ]
    },
    {
      "metadata": {
        "id": "KLS-6PRJUbNQ",
        "colab_type": "code",
        "colab": {}
      },
      "cell_type": "code",
      "source": [
        "data_train = data.loc[data['Usage']=='Training']\n",
        "public_test = data.loc[data['Usage']=='PublicTest']\n",
        "private_test = data.loc[data['Usage']=='PrivateTest']"
      ],
      "execution_count": 0,
      "outputs": []
    },
    {
      "metadata": {
        "id": "W94GR_DZmHXJ",
        "colab_type": "code",
        "colab": {
          "base_uri": "https://localhost:8080/",
          "height": 196
        },
        "outputId": "3c4aa808-6bde-4b65-f608-92caa255601c"
      },
      "cell_type": "code",
      "source": [
        "data_train.head()"
      ],
      "execution_count": 28,
      "outputs": [
        {
          "output_type": "execute_result",
          "data": {
            "text/html": [
              "<div>\n",
              "<style scoped>\n",
              "    .dataframe tbody tr th:only-of-type {\n",
              "        vertical-align: middle;\n",
              "    }\n",
              "\n",
              "    .dataframe tbody tr th {\n",
              "        vertical-align: top;\n",
              "    }\n",
              "\n",
              "    .dataframe thead th {\n",
              "        text-align: right;\n",
              "    }\n",
              "</style>\n",
              "<table border=\"1\" class=\"dataframe\">\n",
              "  <thead>\n",
              "    <tr style=\"text-align: right;\">\n",
              "      <th></th>\n",
              "      <th>emotion</th>\n",
              "      <th>pixels</th>\n",
              "      <th>Usage</th>\n",
              "    </tr>\n",
              "  </thead>\n",
              "  <tbody>\n",
              "    <tr>\n",
              "      <th>0</th>\n",
              "      <td>0</td>\n",
              "      <td>70 80 82 72 58 58 60 63 54 58 60 48 89 115 121...</td>\n",
              "      <td>Training</td>\n",
              "    </tr>\n",
              "    <tr>\n",
              "      <th>1</th>\n",
              "      <td>0</td>\n",
              "      <td>151 150 147 155 148 133 111 140 170 174 182 15...</td>\n",
              "      <td>Training</td>\n",
              "    </tr>\n",
              "    <tr>\n",
              "      <th>2</th>\n",
              "      <td>2</td>\n",
              "      <td>231 212 156 164 174 138 161 173 182 200 106 38...</td>\n",
              "      <td>Training</td>\n",
              "    </tr>\n",
              "    <tr>\n",
              "      <th>3</th>\n",
              "      <td>4</td>\n",
              "      <td>24 32 36 30 32 23 19 20 30 41 21 22 32 34 21 1...</td>\n",
              "      <td>Training</td>\n",
              "    </tr>\n",
              "    <tr>\n",
              "      <th>4</th>\n",
              "      <td>6</td>\n",
              "      <td>4 0 0 0 0 0 0 0 0 0 0 0 3 15 23 28 48 50 58 84...</td>\n",
              "      <td>Training</td>\n",
              "    </tr>\n",
              "  </tbody>\n",
              "</table>\n",
              "</div>"
            ],
            "text/plain": [
              "   emotion                                             pixels     Usage\n",
              "0        0  70 80 82 72 58 58 60 63 54 58 60 48 89 115 121...  Training\n",
              "1        0  151 150 147 155 148 133 111 140 170 174 182 15...  Training\n",
              "2        2  231 212 156 164 174 138 161 173 182 200 106 38...  Training\n",
              "3        4  24 32 36 30 32 23 19 20 30 41 21 22 32 34 21 1...  Training\n",
              "4        6  4 0 0 0 0 0 0 0 0 0 0 0 3 15 23 28 48 50 58 84...  Training"
            ]
          },
          "metadata": {
            "tags": []
          },
          "execution_count": 28
        }
      ]
    },
    {
      "metadata": {
        "id": "mbUnTOc_WCyi",
        "colab_type": "code",
        "colab": {
          "base_uri": "https://localhost:8080/",
          "height": 196
        },
        "outputId": "0571845c-3f66-41e1-a461-d9634a40c848"
      },
      "cell_type": "code",
      "source": [
        "public_test.head()"
      ],
      "execution_count": 29,
      "outputs": [
        {
          "output_type": "execute_result",
          "data": {
            "text/html": [
              "<div>\n",
              "<style scoped>\n",
              "    .dataframe tbody tr th:only-of-type {\n",
              "        vertical-align: middle;\n",
              "    }\n",
              "\n",
              "    .dataframe tbody tr th {\n",
              "        vertical-align: top;\n",
              "    }\n",
              "\n",
              "    .dataframe thead th {\n",
              "        text-align: right;\n",
              "    }\n",
              "</style>\n",
              "<table border=\"1\" class=\"dataframe\">\n",
              "  <thead>\n",
              "    <tr style=\"text-align: right;\">\n",
              "      <th></th>\n",
              "      <th>emotion</th>\n",
              "      <th>pixels</th>\n",
              "      <th>Usage</th>\n",
              "    </tr>\n",
              "  </thead>\n",
              "  <tbody>\n",
              "    <tr>\n",
              "      <th>28709</th>\n",
              "      <td>0</td>\n",
              "      <td>254 254 254 254 254 249 255 160 2 58 53 70 77 ...</td>\n",
              "      <td>PublicTest</td>\n",
              "    </tr>\n",
              "    <tr>\n",
              "      <th>28710</th>\n",
              "      <td>1</td>\n",
              "      <td>156 184 198 202 204 207 210 212 213 214 215 21...</td>\n",
              "      <td>PublicTest</td>\n",
              "    </tr>\n",
              "    <tr>\n",
              "      <th>28711</th>\n",
              "      <td>4</td>\n",
              "      <td>69 118 61 60 96 121 103 87 103 88 70 90 115 12...</td>\n",
              "      <td>PublicTest</td>\n",
              "    </tr>\n",
              "    <tr>\n",
              "      <th>28712</th>\n",
              "      <td>6</td>\n",
              "      <td>205 203 236 157 83 158 120 116 94 86 155 180 2...</td>\n",
              "      <td>PublicTest</td>\n",
              "    </tr>\n",
              "    <tr>\n",
              "      <th>28713</th>\n",
              "      <td>3</td>\n",
              "      <td>87 79 74 66 74 96 77 80 80 84 83 89 102 91 84 ...</td>\n",
              "      <td>PublicTest</td>\n",
              "    </tr>\n",
              "  </tbody>\n",
              "</table>\n",
              "</div>"
            ],
            "text/plain": [
              "       emotion                                             pixels       Usage\n",
              "28709        0  254 254 254 254 254 249 255 160 2 58 53 70 77 ...  PublicTest\n",
              "28710        1  156 184 198 202 204 207 210 212 213 214 215 21...  PublicTest\n",
              "28711        4  69 118 61 60 96 121 103 87 103 88 70 90 115 12...  PublicTest\n",
              "28712        6  205 203 236 157 83 158 120 116 94 86 155 180 2...  PublicTest\n",
              "28713        3  87 79 74 66 74 96 77 80 80 84 83 89 102 91 84 ...  PublicTest"
            ]
          },
          "metadata": {
            "tags": []
          },
          "execution_count": 29
        }
      ]
    },
    {
      "metadata": {
        "id": "BtpLXlF4WG0I",
        "colab_type": "code",
        "colab": {
          "base_uri": "https://localhost:8080/",
          "height": 196
        },
        "outputId": "dadf362c-9866-4f5c-ff58-9bdb646cf809"
      },
      "cell_type": "code",
      "source": [
        "private_test.head()"
      ],
      "execution_count": 30,
      "outputs": [
        {
          "output_type": "execute_result",
          "data": {
            "text/html": [
              "<div>\n",
              "<style scoped>\n",
              "    .dataframe tbody tr th:only-of-type {\n",
              "        vertical-align: middle;\n",
              "    }\n",
              "\n",
              "    .dataframe tbody tr th {\n",
              "        vertical-align: top;\n",
              "    }\n",
              "\n",
              "    .dataframe thead th {\n",
              "        text-align: right;\n",
              "    }\n",
              "</style>\n",
              "<table border=\"1\" class=\"dataframe\">\n",
              "  <thead>\n",
              "    <tr style=\"text-align: right;\">\n",
              "      <th></th>\n",
              "      <th>emotion</th>\n",
              "      <th>pixels</th>\n",
              "      <th>Usage</th>\n",
              "    </tr>\n",
              "  </thead>\n",
              "  <tbody>\n",
              "    <tr>\n",
              "      <th>32298</th>\n",
              "      <td>0</td>\n",
              "      <td>170 118 101 88 88 75 78 82 66 74 68 59 63 64 6...</td>\n",
              "      <td>PrivateTest</td>\n",
              "    </tr>\n",
              "    <tr>\n",
              "      <th>32299</th>\n",
              "      <td>5</td>\n",
              "      <td>7 5 8 6 7 3 2 6 5 4 4 5 7 5 5 5 6 7 7 7 10 10 ...</td>\n",
              "      <td>PrivateTest</td>\n",
              "    </tr>\n",
              "    <tr>\n",
              "      <th>32300</th>\n",
              "      <td>6</td>\n",
              "      <td>232 240 241 239 237 235 246 117 24 24 22 13 12...</td>\n",
              "      <td>PrivateTest</td>\n",
              "    </tr>\n",
              "    <tr>\n",
              "      <th>32301</th>\n",
              "      <td>4</td>\n",
              "      <td>200 197 149 139 156 89 111 58 62 95 113 117 11...</td>\n",
              "      <td>PrivateTest</td>\n",
              "    </tr>\n",
              "    <tr>\n",
              "      <th>32302</th>\n",
              "      <td>2</td>\n",
              "      <td>40 28 33 56 45 33 31 78 152 194 200 186 196 20...</td>\n",
              "      <td>PrivateTest</td>\n",
              "    </tr>\n",
              "  </tbody>\n",
              "</table>\n",
              "</div>"
            ],
            "text/plain": [
              "       emotion                                             pixels        Usage\n",
              "32298        0  170 118 101 88 88 75 78 82 66 74 68 59 63 64 6...  PrivateTest\n",
              "32299        5  7 5 8 6 7 3 2 6 5 4 4 5 7 5 5 5 6 7 7 7 10 10 ...  PrivateTest\n",
              "32300        6  232 240 241 239 237 235 246 117 24 24 22 13 12...  PrivateTest\n",
              "32301        4  200 197 149 139 156 89 111 58 62 95 113 117 11...  PrivateTest\n",
              "32302        2  40 28 33 56 45 33 31 78 152 194 200 186 196 20...  PrivateTest"
            ]
          },
          "metadata": {
            "tags": []
          },
          "execution_count": 30
        }
      ]
    },
    {
      "metadata": {
        "id": "2gyerwiGNZ8F",
        "colab_type": "code",
        "colab": {
          "base_uri": "https://localhost:8080/",
          "height": 286
        },
        "outputId": "cdaf0b29-5baa-4562-ddd7-3954202b461e"
      },
      "cell_type": "code",
      "source": [
        "data_train.describe()"
      ],
      "execution_count": 31,
      "outputs": [
        {
          "output_type": "execute_result",
          "data": {
            "text/html": [
              "<div>\n",
              "<style scoped>\n",
              "    .dataframe tbody tr th:only-of-type {\n",
              "        vertical-align: middle;\n",
              "    }\n",
              "\n",
              "    .dataframe tbody tr th {\n",
              "        vertical-align: top;\n",
              "    }\n",
              "\n",
              "    .dataframe thead th {\n",
              "        text-align: right;\n",
              "    }\n",
              "</style>\n",
              "<table border=\"1\" class=\"dataframe\">\n",
              "  <thead>\n",
              "    <tr style=\"text-align: right;\">\n",
              "      <th></th>\n",
              "      <th>emotion</th>\n",
              "    </tr>\n",
              "  </thead>\n",
              "  <tbody>\n",
              "    <tr>\n",
              "      <th>count</th>\n",
              "      <td>28709.000000</td>\n",
              "    </tr>\n",
              "    <tr>\n",
              "      <th>mean</th>\n",
              "      <td>3.317427</td>\n",
              "    </tr>\n",
              "    <tr>\n",
              "      <th>std</th>\n",
              "      <td>1.876632</td>\n",
              "    </tr>\n",
              "    <tr>\n",
              "      <th>min</th>\n",
              "      <td>0.000000</td>\n",
              "    </tr>\n",
              "    <tr>\n",
              "      <th>25%</th>\n",
              "      <td>2.000000</td>\n",
              "    </tr>\n",
              "    <tr>\n",
              "      <th>50%</th>\n",
              "      <td>3.000000</td>\n",
              "    </tr>\n",
              "    <tr>\n",
              "      <th>75%</th>\n",
              "      <td>5.000000</td>\n",
              "    </tr>\n",
              "    <tr>\n",
              "      <th>max</th>\n",
              "      <td>6.000000</td>\n",
              "    </tr>\n",
              "  </tbody>\n",
              "</table>\n",
              "</div>"
            ],
            "text/plain": [
              "            emotion\n",
              "count  28709.000000\n",
              "mean       3.317427\n",
              "std        1.876632\n",
              "min        0.000000\n",
              "25%        2.000000\n",
              "50%        3.000000\n",
              "75%        5.000000\n",
              "max        6.000000"
            ]
          },
          "metadata": {
            "tags": []
          },
          "execution_count": 31
        }
      ]
    },
    {
      "metadata": {
        "id": "dXhgd_VRK9mH",
        "colab_type": "code",
        "colab": {}
      },
      "cell_type": "code",
      "source": [
        "k = data_train.iloc[1,1]"
      ],
      "execution_count": 0,
      "outputs": []
    },
    {
      "metadata": {
        "id": "7musTnWRMMhi",
        "colab_type": "code",
        "colab": {
          "base_uri": "https://localhost:8080/",
          "height": 33
        },
        "outputId": "1b06636e-35e9-424f-a2ba-80b4d476ddc7"
      },
      "cell_type": "code",
      "source": [
        "len(k.split())"
      ],
      "execution_count": 33,
      "outputs": [
        {
          "output_type": "execute_result",
          "data": {
            "text/plain": [
              "2304"
            ]
          },
          "metadata": {
            "tags": []
          },
          "execution_count": 33
        }
      ]
    },
    {
      "metadata": {
        "id": "gXUbIpYURgAN",
        "colab_type": "text"
      },
      "cell_type": "markdown",
      "source": [
        "# Data Preprocessing\n",
        "## Transforming csv to understandable image data"
      ]
    },
    {
      "metadata": {
        "id": "lhU2G8EKOeHP",
        "colab_type": "code",
        "colab": {}
      },
      "cell_type": "code",
      "source": [
        "from sklearn.utils import shuffle\n",
        "data_train = shuffle(data_train)\n",
        "public_test = shuffle(public_test)\n",
        "private_test = shuffle(private_test)"
      ],
      "execution_count": 0,
      "outputs": []
    },
    {
      "metadata": {
        "id": "hVU6a7pnMT1v",
        "colab_type": "code",
        "colab": {
          "base_uri": "https://localhost:8080/",
          "height": 33
        },
        "outputId": "27a8269c-36e4-4206-cf0c-99148cabccdd"
      },
      "cell_type": "code",
      "source": [
        "train = np.array(data_train.iloc[:,1])\n",
        "validation = np.array(private_test.iloc[:,1])\n",
        "test = np.array(public_test.iloc[:,1])\n",
        "print(train.shape, test.shape, validation.shape)"
      ],
      "execution_count": 35,
      "outputs": [
        {
          "output_type": "stream",
          "text": [
            "(28709,) (3589,) (3589,)\n"
          ],
          "name": "stdout"
        }
      ]
    },
    {
      "metadata": {
        "id": "-KKN2c-lPv5f",
        "colab_type": "code",
        "colab": {}
      },
      "cell_type": "code",
      "source": [
        "train = train.reshape(28709,1)\n",
        "test = test.reshape(3589,1)\n",
        "validation = validation.reshape(3589,1)"
      ],
      "execution_count": 0,
      "outputs": []
    },
    {
      "metadata": {
        "id": "uS8iZp6SLcBq",
        "colab_type": "code",
        "colab": {}
      },
      "cell_type": "code",
      "source": [
        "def data_augmentation(img):\n",
        "  img = cv2.flip(img.reshape(48,48), 1)\n",
        "  return np.array(img.reshape(48,48,1)).astype(np.float32)"
      ],
      "execution_count": 0,
      "outputs": []
    },
    {
      "metadata": {
        "id": "7j56gh-nSIwd",
        "colab_type": "code",
        "colab": {}
      },
      "cell_type": "code",
      "source": [
        "# Trying 48,48,3 because of vgg\n",
        "import cv2\n",
        "X_train_flip = list()\n",
        "\n",
        "def reform_data(img_str):\n",
        "  t1 = img_str[0].split()\n",
        "  t2 = np.array(t1).astype(np.float32)\n",
        "  t3 = t2.reshape(48, 48)\n",
        "  t4 = cv2.cvtColor(t3, cv2.COLOR_GRAY2BGR)\n",
        "  return t4\n",
        "\n",
        "\n",
        "def reform_data_aug(img_str):\n",
        "  t1 = img_str[0].split()\n",
        "  t2 = np.array(t1).astype(np.float32)\n",
        "  t3 = t2.reshape(48,48)\n",
        "  t_1 = data_augmentation(t3)\n",
        "  t4 = cv2.cvtColor(t3, cv2.COLOR_GRAY2BGR)\n",
        "  X_train_flip.append(cv2.cvtColor(t_1, cv2.COLOR_GRAY2BGR))\n",
        "  return t4\n",
        "\n",
        "X_train_1 = np.apply_along_axis(reform_data_aug, 1, train)\n",
        "X_train = np.array(list(X_train_1) + X_train_flip)\n",
        "X_test = np.apply_along_axis(reform_data, 1, test)\n",
        "X_valid = np.apply_along_axis(reform_data, 1, validation)"
      ],
      "execution_count": 0,
      "outputs": []
    },
    {
      "metadata": {
        "id": "-t7nnjYhRfmE",
        "colab_type": "code",
        "colab": {
          "base_uri": "https://localhost:8080/",
          "height": 67
        },
        "outputId": "38edc4f6-b271-4c2b-dc32-e0652b8412d7"
      },
      "cell_type": "code",
      "source": [
        "print(X_train.shape)\n",
        "print(X_test.shape)\n",
        "print(X_valid.shape)"
      ],
      "execution_count": 39,
      "outputs": [
        {
          "output_type": "stream",
          "text": [
            "(57418, 48, 48, 3)\n",
            "(3589, 48, 48, 3)\n",
            "(3589, 48, 48, 3)\n"
          ],
          "name": "stdout"
        }
      ]
    },
    {
      "metadata": {
        "id": "VbThqV1cRZaw",
        "colab_type": "code",
        "colab": {
          "base_uri": "https://localhost:8080/",
          "height": 284
        },
        "outputId": "16b69109-e704-4e37-ec0f-d771bbd1be9e"
      },
      "cell_type": "code",
      "source": [
        "# Sample image\n",
        "plt.imshow(X_train[0])"
      ],
      "execution_count": 40,
      "outputs": [
        {
          "output_type": "execute_result",
          "data": {
            "text/plain": [
              "<matplotlib.image.AxesImage at 0x7ff0fe3fbe10>"
            ]
          },
          "metadata": {
            "tags": []
          },
          "execution_count": 40
        },
        {
          "output_type": "display_data",
          "data": {
            "image/png": "[encoded data removed]",
            "text/plain": [
              "<matplotlib.figure.Figure at 0x7ff0fe4ed5c0>"
            ]
          },
          "metadata": {
            "tags": []
          }
        }
      ]
    },
    {
      "metadata": {
        "id": "WYB7ls1PTmSe",
        "colab_type": "text"
      },
      "cell_type": "markdown",
      "source": [
        "### Normalization "
      ]
    },
    {
      "metadata": {
        "id": "SlrUS2YXSi3O",
        "colab_type": "code",
        "colab": {}
      },
      "cell_type": "code",
      "source": [
        "X_train = X_train/255\n",
        "X_test = X_test/255\n",
        "X_valid = X_valid/255"
      ],
      "execution_count": 0,
      "outputs": []
    },
    {
      "metadata": {
        "id": "VwsAGZnLT6LD",
        "colab_type": "text"
      },
      "cell_type": "markdown",
      "source": [
        "### One Hot Encoding"
      ]
    },
    {
      "metadata": {
        "id": "DddjY8kpTpRH",
        "colab_type": "code",
        "colab": {}
      },
      "cell_type": "code",
      "source": [
        "Y_train = data_train['emotion']\n",
        "Y_test = public_test['emotion']\n",
        "Y_validation = private_test['emotion']"
      ],
      "execution_count": 0,
      "outputs": []
    },
    {
      "metadata": {
        "id": "pqH6KdN9ZmaP",
        "colab_type": "code",
        "colab": {
          "base_uri": "https://localhost:8080/",
          "height": 33
        },
        "outputId": "69c43a47-30c4-462c-dfdf-94742883bdba"
      },
      "cell_type": "code",
      "source": [
        "print(Y_train.shape, Y_test.shape, Y_validation.shape)"
      ],
      "execution_count": 43,
      "outputs": [
        {
          "output_type": "stream",
          "text": [
            "(28709,) (3589,) (3589,)\n"
          ],
          "name": "stdout"
        }
      ]
    },
    {
      "metadata": {
        "id": "zvweNZgLZo4R",
        "colab_type": "code",
        "colab": {}
      },
      "cell_type": "code",
      "source": [
        "def onehot(Y, C):\n",
        "  Y = np.eye(C)[Y].T\n",
        "  return Y"
      ],
      "execution_count": 0,
      "outputs": []
    },
    {
      "metadata": {
        "id": "VsNoXc5HbDHR",
        "colab_type": "code",
        "colab": {
          "base_uri": "https://localhost:8080/",
          "height": 33
        },
        "outputId": "e46a925f-9259-4bd5-8df5-51342fa93a71"
      },
      "cell_type": "code",
      "source": [
        "data['emotion'].unique()"
      ],
      "execution_count": 45,
      "outputs": [
        {
          "output_type": "execute_result",
          "data": {
            "text/plain": [
              "array([0, 2, 4, 6, 3, 5, 1])"
            ]
          },
          "metadata": {
            "tags": []
          },
          "execution_count": 45
        }
      ]
    },
    {
      "metadata": {
        "id": "yNWyfJYNbMFB",
        "colab_type": "code",
        "colab": {}
      },
      "cell_type": "code",
      "source": [
        "Y_test = onehot(Y_test, 7).T\n",
        "Y_train = onehot(Y_train, 7).T\n",
        "Y_valid = onehot(Y_validation, 7).T"
      ],
      "execution_count": 0,
      "outputs": []
    },
    {
      "metadata": {
        "id": "_HLB4j6WbcWR",
        "colab_type": "code",
        "colab": {
          "base_uri": "https://localhost:8080/",
          "height": 33
        },
        "outputId": "540d3f41-c8dc-4d9c-a822-06693a4ba74f"
      },
      "cell_type": "code",
      "source": [
        "Y_train.shape"
      ],
      "execution_count": 47,
      "outputs": [
        {
          "output_type": "execute_result",
          "data": {
            "text/plain": [
              "(28709, 7)"
            ]
          },
          "metadata": {
            "tags": []
          },
          "execution_count": 47
        }
      ]
    },
    {
      "metadata": {
        "id": "0iMkGB1wtYNj",
        "colab_type": "code",
        "colab": {}
      },
      "cell_type": "code",
      "source": [
        "Y_train = np.array(list(Y_train) + list(Y_train))"
      ],
      "execution_count": 0,
      "outputs": []
    },
    {
      "metadata": {
        "id": "pw_OvfvF4rBT",
        "colab_type": "code",
        "colab": {
          "base_uri": "https://localhost:8080/",
          "height": 33
        },
        "outputId": "5ea68714-3070-4297-d8cc-677785af3290"
      },
      "cell_type": "code",
      "source": [
        "Y_train.shape"
      ],
      "execution_count": 49,
      "outputs": [
        {
          "output_type": "execute_result",
          "data": {
            "text/plain": [
              "(57418, 7)"
            ]
          },
          "metadata": {
            "tags": []
          },
          "execution_count": 49
        }
      ]
    },
    {
      "metadata": {
        "id": "h_86wLen4vJR",
        "colab_type": "code",
        "colab": {}
      },
      "cell_type": "code",
      "source": [
        "X_train, Y_train = shuffle(X_train, Y_train, random_state=2)"
      ],
      "execution_count": 0,
      "outputs": []
    },
    {
      "metadata": {
        "id": "GpkHLbumbdvX",
        "colab_type": "code",
        "colab": {}
      },
      "cell_type": "code",
      "source": [
        "# Clear memory\n",
        "del data\n",
        "del data_train\n",
        "del public_test\n",
        "del private_test\n",
        "del Y_validation\n",
        "del X_train_1\n",
        "del X_train_flip\n",
        "del train\n",
        "del validation\n",
        "del test"
      ],
      "execution_count": 0,
      "outputs": []
    },
    {
      "metadata": {
        "id": "00cI1F-aSFhF",
        "colab_type": "text"
      },
      "cell_type": "markdown",
      "source": [
        "## CNN Models\n",
        "Taking 3 - 4 models for ensemble voting"
      ]
    },
    {
      "metadata": {
        "id": "3o79vhYEYKiI",
        "colab_type": "code",
        "colab": {
          "base_uri": "https://localhost:8080/",
          "height": 33
        },
        "outputId": "9ea116f5-dccb-4877-f373-03174bbca1f1"
      },
      "cell_type": "code",
      "source": [
        "from keras.models import Sequential\n",
        "from keras.layers import Dense, Dropout, Activation, Flatten\n",
        "from keras.layers import Conv2D, Conv3D, MaxPooling2D, BatchNormalization, AveragePooling2D\n",
        "from keras.losses import categorical_crossentropy\n",
        "from keras.optimizers import Adam, Adamax\n",
        "from keras.callbacks import ReduceLROnPlateau, TensorBoard, EarlyStopping, ModelCheckpoint\n",
        "from keras.models import load_model\n",
        "from keras.regularizers import l2"
      ],
      "execution_count": 52,
      "outputs": [
        {
          "output_type": "stream",
          "text": [
            "Using TensorFlow backend.\n"
          ],
          "name": "stderr"
        }
      ]
    },
    {
      "metadata": {
        "id": "S_M_Ig2oSLY1",
        "colab_type": "text"
      },
      "cell_type": "markdown",
      "source": [
        "### 1-Basic 5 layer model"
      ]
    },
    {
      "metadata": {
        "id": "eKGfnDEiSNlh",
        "colab_type": "code",
        "colab": {}
      },
      "cell_type": "code",
      "source": [
        "num_features = 64\n",
        "num_labels = 7\n",
        "batch_size = 64\n",
        "epochs = 100\n",
        "input_shape = (48, 48, 3)"
      ],
      "execution_count": 0,
      "outputs": []
    },
    {
      "metadata": {
        "id": "_aM9YHvESPbQ",
        "colab_type": "code",
        "colab": {}
      },
      "cell_type": "code",
      "source": [
        "def Model1(input_shape=(48,48,3)):\n",
        "  model = Sequential()\n",
        "  model.add(Conv2D(1, kernel_size=(1, 1), activation='relu', input_shape=input_shape, data_format='channels_last', kernel_regularizer=l2(0.01)))\n",
        "  model.add(Conv2D(num_features, kernel_size=(3, 3), activation='relu'))\n",
        "  model.add(Conv2D(num_features, kernel_size=(3, 3), activation='relu', padding='same'))\n",
        "  model.add(BatchNormalization())\n",
        "  model.add(MaxPooling2D(pool_size=(2, 2), strides=(2, 2)))\n",
        "  model.add(Dropout(0.5))\n",
        "\n",
        "  model.add(Conv2D(2*num_features, kernel_size=(3, 3), activation='relu', padding='same'))\n",
        "  model.add(BatchNormalization())\n",
        "  model.add(Conv2D(2*num_features, kernel_size=(3, 3), activation='relu', padding='same'))\n",
        "  model.add(BatchNormalization())\n",
        "  model.add(MaxPooling2D(pool_size=(2, 2), strides=(2, 2)))\n",
        "  model.add(Dropout(0.5))\n",
        "\n",
        "  model.add(Conv2D(2*2*num_features, kernel_size=(3, 3), activation='relu', padding='same'))\n",
        "  model.add(BatchNormalization())\n",
        "  model.add(Conv2D(2*2*num_features, kernel_size=(3, 3), activation='relu', padding='same'))\n",
        "  model.add(BatchNormalization())\n",
        "  model.add(MaxPooling2D(pool_size=(2, 2), strides=(2, 2)))\n",
        "  model.add(Dropout(0.5))\n",
        "\n",
        "  model.add(Conv2D(2*2*2*num_features, kernel_size=(3, 3), activation='relu', padding='same'))\n",
        "  model.add(BatchNormalization())\n",
        "  model.add(Conv2D(2*2*2*num_features, kernel_size=(3, 3), activation='relu', padding='same'))\n",
        "  model.add(BatchNormalization())\n",
        "  model.add(MaxPooling2D(pool_size=(2, 2), strides=(2, 2)))\n",
        "  model.add(Dropout(0.5))\n",
        "\n",
        "  model.add(Flatten())\n",
        "\n",
        "  model.add(Dense(2*2*2*num_features, activation='relu'))\n",
        "  model.add(Dropout(0.4))\n",
        "  model.add(Dense(2*2*num_features, activation='relu'))\n",
        "  model.add(Dropout(0.4))\n",
        "  model.add(Dense(2*num_features, activation='relu'))\n",
        "  model.add(Dropout(0.5))\n",
        "\n",
        "  model.add(Dense(num_labels, activation='softmax'))\n",
        "  return model"
      ],
      "execution_count": 0,
      "outputs": []
    },
    {
      "metadata": {
        "id": "zI99IQASU6t-",
        "colab_type": "code",
        "colab": {
          "base_uri": "https://localhost:8080/",
          "height": 1204
        },
        "outputId": "75629993-c68d-469e-b46d-8cb4779cb360"
      },
      "cell_type": "code",
      "source": [
        "model1 = Model1()\n",
        "model1.summary()"
      ],
      "execution_count": 55,
      "outputs": [
        {
          "output_type": "stream",
          "text": [
            "_________________________________________________________________\n",
            "Layer (type)                 Output Shape              Param #   \n",
            "=================================================================\n",
            "conv2d_1 (Conv2D)            (None, 48, 48, 1)         4         \n",
            "_________________________________________________________________\n",
            "conv2d_2 (Conv2D)            (None, 46, 46, 64)        640       \n",
            "_________________________________________________________________\n",
            "conv2d_3 (Conv2D)            (None, 46, 46, 64)        36928     \n",
            "_________________________________________________________________\n",
            "batch_normalization_1 (Batch (None, 46, 46, 64)        256       \n",
            "_________________________________________________________________\n",
            "max_pooling2d_1 (MaxPooling2 (None, 23, 23, 64)        0         \n",
            "_________________________________________________________________\n",
            "dropout_1 (Dropout)          (None, 23, 23, 64)        0         \n",
            "_________________________________________________________________\n",
            "conv2d_4 (Conv2D)            (None, 23, 23, 128)       73856     \n",
            "_________________________________________________________________\n",
            "batch_normalization_2 (Batch (None, 23, 23, 128)       512       \n",
            "_________________________________________________________________\n",
            "conv2d_5 (Conv2D)            (None, 23, 23, 128)       147584    \n",
            "_________________________________________________________________\n",
            "batch_normalization_3 (Batch (None, 23, 23, 128)       512       \n",
            "_________________________________________________________________\n",
            "max_pooling2d_2 (MaxPooling2 (None, 11, 11, 128)       0         \n",
            "_________________________________________________________________\n",
            "dropout_2 (Dropout)          (None, 11, 11, 128)       0         \n",
            "_________________________________________________________________\n",
            "conv2d_6 (Conv2D)            (None, 11, 11, 256)       295168    \n",
            "_________________________________________________________________\n",
            "batch_normalization_4 (Batch (None, 11, 11, 256)       1024      \n",
            "_________________________________________________________________\n",
            "conv2d_7 (Conv2D)            (None, 11, 11, 256)       590080    \n",
            "_________________________________________________________________\n",
            "batch_normalization_5 (Batch (None, 11, 11, 256)       1024      \n",
            "_________________________________________________________________\n",
            "max_pooling2d_3 (MaxPooling2 (None, 5, 5, 256)         0         \n",
            "_________________________________________________________________\n",
            "dropout_3 (Dropout)          (None, 5, 5, 256)         0         \n",
            "_________________________________________________________________\n",
            "conv2d_8 (Conv2D)            (None, 5, 5, 512)         1180160   \n",
            "_________________________________________________________________\n",
            "batch_normalization_6 (Batch (None, 5, 5, 512)         2048      \n",
            "_________________________________________________________________\n",
            "conv2d_9 (Conv2D)            (None, 5, 5, 512)         2359808   \n",
            "_________________________________________________________________\n",
            "batch_normalization_7 (Batch (None, 5, 5, 512)         2048      \n",
            "_________________________________________________________________\n",
            "max_pooling2d_4 (MaxPooling2 (None, 2, 2, 512)         0         \n",
            "_________________________________________________________________\n",
            "dropout_4 (Dropout)          (None, 2, 2, 512)         0         \n",
            "_________________________________________________________________\n",
            "flatten_1 (Flatten)          (None, 2048)              0         \n",
            "_________________________________________________________________\n",
            "dense_1 (Dense)              (None, 512)               1049088   \n",
            "_________________________________________________________________\n",
            "dropout_5 (Dropout)          (None, 512)               0         \n",
            "_________________________________________________________________\n",
            "dense_2 (Dense)              (None, 256)               131328    \n",
            "_________________________________________________________________\n",
            "dropout_6 (Dropout)          (None, 256)               0         \n",
            "_________________________________________________________________\n",
            "dense_3 (Dense)              (None, 128)               32896     \n",
            "_________________________________________________________________\n",
            "dropout_7 (Dropout)          (None, 128)               0         \n",
            "_________________________________________________________________\n",
            "dense_4 (Dense)              (None, 7)                 903       \n",
            "=================================================================\n",
            "Total params: 5,905,867\n",
            "Trainable params: 5,902,155\n",
            "Non-trainable params: 3,712\n",
            "_________________________________________________________________\n"
          ],
          "name": "stdout"
        }
      ]
    },
    {
      "metadata": {
        "id": "8piOth2iZGjD",
        "colab_type": "code",
        "colab": {}
      },
      "cell_type": "code",
      "source": [
        "model1.compile(loss=categorical_crossentropy,\n",
        "              optimizer=Adam(lr=0.0005, beta_1=0.9, beta_2=0.999, epsilon=1e-7),\n",
        "              metrics=['accuracy'])"
      ],
      "execution_count": 0,
      "outputs": []
    },
    {
      "metadata": {
        "id": "8U4Oe6R5d95Y",
        "colab_type": "code",
        "colab": {}
      },
      "cell_type": "code",
      "source": [
        "lr_reducer = ReduceLROnPlateau(monitor='val_loss', factor=0.9, patience=3, verbose=1)\n",
        "tensorboard = TensorBoard(log_dir='./logs')\n",
        "early_stopper = EarlyStopping(monitor='val_loss', min_delta=0, patience=8, verbose=1, mode='auto')\n",
        "checkpointer = ModelCheckpoint(\"/drive\", monitor='val_loss', verbose=1, save_best_only=True)"
      ],
      "execution_count": 0,
      "outputs": []
    },
    {
      "metadata": {
        "id": "QjWde_EayatC",
        "colab_type": "code",
        "colab": {}
      },
      "cell_type": "code",
      "source": [
        "model1.load_weights(\"drive/face_expr_model1.h5\")"
      ],
      "execution_count": 0,
      "outputs": []
    },
    {
      "metadata": {
        "id": "C3ganIoqepJ_",
        "colab_type": "code",
        "colab": {
          "base_uri": "https://localhost:8080/",
          "height": 438
        },
        "outputId": "c8a23a21-5f04-4823-c1f9-dda6d5af22bf"
      },
      "cell_type": "code",
      "source": [
        "model1.fit(X_train,Y_train,\n",
        "          batch_size=batch_size,\n",
        "          epochs=5,\n",
        "          verbose=1,\n",
        "          validation_data=(X_valid, Y_valid),\n",
        "          shuffle=True,\n",
        "          callbacks=[lr_reducer, tensorboard, checkpointer])"
      ],
      "execution_count": 42,
      "outputs": [
        {
          "output_type": "stream",
          "text": [
            "Train on 57418 samples, validate on 3589 samples\n",
            "Epoch 1/5\n",
            "44480/57418 [======================>.......] - ETA: 27s - loss: 0.4322 - acc: 0.8484"
          ],
          "name": "stdout"
        },
        {
          "output_type": "stream",
          "text": [
            "57418/57418 [==============================] - 122s 2ms/step - loss: 0.4353 - acc: 0.8473 - val_loss: 1.1033 - val_acc: 0.6804\n",
            "\n",
            "Epoch 00001: val_loss improved from inf to 1.10326, saving model to /drive\n",
            "Epoch 2/5\n",
            "17728/57418 [========>.....................] - ETA: 1:20 - loss: 0.4295 - acc: 0.8489"
          ],
          "name": "stdout"
        },
        {
          "output_type": "stream",
          "text": [
            "57418/57418 [==============================] - 119s 2ms/step - loss: 0.4293 - acc: 0.8500 - val_loss: 1.1096 - val_acc: 0.6748\n",
            "\n",
            "Epoch 00002: val_loss did not improve from 1.10326\n",
            "Epoch 3/5\n",
            "11072/57418 [====>.........................] - ETA: 1:34 - loss: 0.4086 - acc: 0.8595"
          ],
          "name": "stdout"
        },
        {
          "output_type": "stream",
          "text": [
            "57418/57418 [==============================] - 119s 2ms/step - loss: 0.4198 - acc: 0.8533 - val_loss: 1.1209 - val_acc: 0.6799\n",
            "\n",
            "Epoch 00003: val_loss did not improve from 1.10326\n",
            "Epoch 4/5\n",
            " 9024/57418 [===>..........................] - ETA: 1:38 - loss: 0.4231 - acc: 0.8522"
          ],
          "name": "stdout"
        },
        {
          "output_type": "stream",
          "text": [
            "57418/57418 [==============================] - 119s 2ms/step - loss: 0.4237 - acc: 0.8527 - val_loss: 1.1449 - val_acc: 0.6704\n",
            "\n",
            "Epoch 00004: ReduceLROnPlateau reducing learning rate to 0.0004500000213738531.\n",
            "\n",
            "Epoch 00004: val_loss did not improve from 1.10326\n",
            "Epoch 5/5\n",
            " 6400/57418 [==>...........................] - ETA: 1:43 - loss: 0.4059 - acc: 0.8594"
          ],
          "name": "stdout"
        },
        {
          "output_type": "stream",
          "text": [
            "57418/57418 [==============================] - 119s 2ms/step - loss: 0.4087 - acc: 0.8575 - val_loss: 1.1278 - val_acc: 0.6760\n",
            "\n",
            "Epoch 00005: val_loss did not improve from 1.10326\n"
          ],
          "name": "stdout"
        },
        {
          "output_type": "execute_result",
          "data": {
            "text/plain": [
              "<keras.callbacks.History at 0x7fa1347edf98>"
            ]
          },
          "metadata": {
            "tags": []
          },
          "execution_count": 42
        }
      ]
    },
    {
      "metadata": {
        "id": "rXNlohhle1zS",
        "colab_type": "code",
        "colab": {}
      },
      "cell_type": "code",
      "source": [
        "model1.save_weights(\"drive/face_expr_model1.h5\")"
      ],
      "execution_count": 0,
      "outputs": []
    },
    {
      "metadata": {
        "id": "sLtAOTy6wMeA",
        "colab_type": "code",
        "colab": {
          "base_uri": "https://localhost:8080/",
          "height": 50
        },
        "outputId": "3824846d-b72c-4ac3-8495-3f87c43b3599"
      },
      "cell_type": "code",
      "source": [
        "model1.evaluate(X_test, Y_test, batch_size=batch_size)"
      ],
      "execution_count": 44,
      "outputs": [
        {
          "output_type": "stream",
          "text": [
            "3589/3589 [==============================] - 3s 713us/step\n"
          ],
          "name": "stdout"
        },
        {
          "output_type": "execute_result",
          "data": {
            "text/plain": [
              "[1.1886951760034703, 0.667038172209419]"
            ]
          },
          "metadata": {
            "tags": []
          },
          "execution_count": 44
        }
      ]
    },
    {
      "metadata": {
        "id": "mmSMPa3hfV9r",
        "colab_type": "code",
        "colab": {}
      },
      "cell_type": "code",
      "source": [
        "model1_2 = Model1()"
      ],
      "execution_count": 0,
      "outputs": []
    },
    {
      "metadata": {
        "id": "ncSw76CFD7QW",
        "colab_type": "code",
        "colab": {}
      },
      "cell_type": "code",
      "source": [
        "from keras.preprocessing.image import ImageDataGenerator\n",
        "gen = ImageDataGenerator(horizontal_flip=True,\n",
        "                        vertical_flip=True)\n",
        "train_generator_1 = gen.flow(X_train, Y_train, batch_size=batch_size)\n",
        " \n",
        "model1_2.compile(loss=categorical_crossentropy\n",
        ", optimizer=Adam(lr=0.0001, beta_1=0.9, beta_2=0.999, epsilon=1e-7)\n",
        ", metrics=['accuracy']\n",
        ")\n",
        " "
      ],
      "execution_count": 0,
      "outputs": []
    },
    {
      "metadata": {
        "id": "rotCS-ZtJcBO",
        "colab_type": "code",
        "colab": {}
      },
      "cell_type": "code",
      "source": [
        "model1_2.load_weights(\"drive/face_expr_model1_2.h5\")"
      ],
      "execution_count": 0,
      "outputs": []
    },
    {
      "metadata": {
        "id": "M5hTjiarEnCo",
        "colab_type": "code",
        "colab": {
          "base_uri": "https://localhost:8080/",
          "height": 33508
        },
        "outputId": "4c2b004d-f77d-4b13-8eb9-fc1651bae942"
      },
      "cell_type": "code",
      "source": [
        "model1_2.fit_generator(train_generator_1, steps_per_epoch=50, epochs=1000)"
      ],
      "execution_count": 49,
      "outputs": [
        {
          "output_type": "stream",
          "text": [
            "Epoch 1/1000\n",
            "50/50 [==============================] - 7s 133ms/step - loss: 1.2164 - acc: 0.5447\n",
            "Epoch 2/1000\n",
            "50/50 [==============================] - 7s 133ms/step - loss: 1.2337 - acc: 0.5406\n",
            "Epoch 3/1000\n",
            "50/50 [==============================] - 7s 132ms/step - loss: 1.2276 - acc: 0.5369\n",
            "Epoch 4/1000\n",
            "50/50 [==============================] - 7s 132ms/step - loss: 1.2102 - acc: 0.5422\n",
            "Epoch 5/1000\n",
            "50/50 [==============================] - 7s 131ms/step - loss: 1.2173 - acc: 0.5466\n",
            "Epoch 6/1000\n",
            "47/50 [===========================>..] - ETA: 0s - loss: 1.2128 - acc: 0.5422"
          ],
          "name": "stdout"
        },
        {
          "output_type": "stream",
          "text": [
            "50/50 [==============================] - 7s 132ms/step - loss: 1.2160 - acc: 0.5425\n",
            "Epoch 7/1000\n",
            "50/50 [==============================] - 7s 132ms/step - loss: 1.2334 - acc: 0.5359\n",
            "Epoch 8/1000\n",
            "50/50 [==============================] - 7s 132ms/step - loss: 1.1991 - acc: 0.5603\n",
            "Epoch 9/1000\n",
            "50/50 [==============================] - 7s 132ms/step - loss: 1.2359 - acc: 0.5363\n",
            "Epoch 10/1000\n",
            "50/50 [==============================] - 7s 132ms/step - loss: 1.1842 - acc: 0.5403\n",
            "Epoch 11/1000\n",
            "50/50 [==============================] - 7s 132ms/step - loss: 1.2196 - acc: 0.5459\n",
            "Epoch 12/1000\n",
            " 8/50 [===>..........................] - ETA: 5s - loss: 1.2028 - acc: 0.5137"
          ],
          "name": "stdout"
        },
        {
          "output_type": "stream",
          "text": [
            "50/50 [==============================] - 7s 132ms/step - loss: 1.2018 - acc: 0.5319\n",
            "Epoch 13/1000\n",
            "50/50 [==============================] - 7s 132ms/step - loss: 1.2138 - acc: 0.5491\n",
            "Epoch 14/1000\n",
            "50/50 [==============================] - 7s 132ms/step - loss: 1.1901 - acc: 0.5534\n",
            "Epoch 15/1000\n",
            "50/50 [==============================] - 7s 132ms/step - loss: 1.1904 - acc: 0.5441\n",
            "Epoch 16/1000\n",
            "50/50 [==============================] - 7s 131ms/step - loss: 1.2434 - acc: 0.5338\n",
            "Epoch 17/1000\n",
            "50/50 [==============================] - 7s 133ms/step - loss: 1.2143 - acc: 0.5363\n",
            "Epoch 18/1000\n",
            " 2/50 [>.............................] - ETA: 6s - loss: 1.1376 - acc: 0.5703"
          ],
          "name": "stdout"
        },
        {
          "output_type": "stream",
          "text": [
            "50/50 [==============================] - 7s 132ms/step - loss: 1.1911 - acc: 0.5494\n",
            "Epoch 19/1000\n",
            "50/50 [==============================] - 7s 132ms/step - loss: 1.1735 - acc: 0.5572\n",
            "Epoch 20/1000\n",
            "50/50 [==============================] - 7s 133ms/step - loss: 1.2137 - acc: 0.5450\n",
            "Epoch 21/1000\n",
            "50/50 [==============================] - 7s 132ms/step - loss: 1.1781 - acc: 0.5525\n",
            "Epoch 22/1000\n",
            "50/50 [==============================] - 7s 132ms/step - loss: 1.1658 - acc: 0.5537\n",
            "Epoch 23/1000\n",
            "50/50 [==============================] - 7s 132ms/step - loss: 1.2156 - acc: 0.5356\n",
            "Epoch 24/1000\n",
            " 2/50 [>.............................] - ETA: 6s - loss: 1.1860 - acc: 0.5391"
          ],
          "name": "stdout"
        },
        {
          "output_type": "stream",
          "text": [
            "50/50 [==============================] - 7s 132ms/step - loss: 1.1806 - acc: 0.5447\n",
            "Epoch 25/1000\n",
            "50/50 [==============================] - 7s 132ms/step - loss: 1.2284 - acc: 0.5400\n",
            "Epoch 26/1000\n",
            "50/50 [==============================] - 7s 132ms/step - loss: 1.2077 - acc: 0.5325\n",
            "Epoch 27/1000\n",
            "50/50 [==============================] - 7s 132ms/step - loss: 1.2054 - acc: 0.5544\n",
            "Epoch 28/1000\n",
            "50/50 [==============================] - 7s 132ms/step - loss: 1.1750 - acc: 0.5497\n",
            "Epoch 29/1000\n",
            "50/50 [==============================] - 7s 131ms/step - loss: 1.2225 - acc: 0.5375\n",
            "Epoch 30/1000\n",
            " 2/50 [>.............................] - ETA: 6s - loss: 1.2026 - acc: 0.5000"
          ],
          "name": "stdout"
        },
        {
          "output_type": "stream",
          "text": [
            "50/50 [==============================] - 7s 131ms/step - loss: 1.2165 - acc: 0.5474\n",
            "Epoch 31/1000\n",
            "50/50 [==============================] - 7s 132ms/step - loss: 1.1794 - acc: 0.5475\n",
            "Epoch 32/1000\n",
            "50/50 [==============================] - 7s 132ms/step - loss: 1.1508 - acc: 0.5656\n",
            "Epoch 33/1000\n",
            "50/50 [==============================] - 7s 132ms/step - loss: 1.1925 - acc: 0.5600\n",
            "Epoch 34/1000\n",
            "50/50 [==============================] - 7s 132ms/step - loss: 1.1987 - acc: 0.5641\n",
            "Epoch 35/1000\n",
            "50/50 [==============================] - 7s 132ms/step - loss: 1.2149 - acc: 0.5463\n",
            "Epoch 36/1000\n",
            " 2/50 [>.............................] - ETA: 6s - loss: 1.1306 - acc: 0.5547"
          ],
          "name": "stdout"
        },
        {
          "output_type": "stream",
          "text": [
            "50/50 [==============================] - 7s 131ms/step - loss: 1.1950 - acc: 0.5487\n",
            "Epoch 37/1000\n",
            "50/50 [==============================] - 7s 131ms/step - loss: 1.1875 - acc: 0.5641\n",
            "Epoch 38/1000\n",
            "50/50 [==============================] - 7s 132ms/step - loss: 1.1886 - acc: 0.5563\n",
            "Epoch 39/1000\n",
            "50/50 [==============================] - 7s 132ms/step - loss: 1.1731 - acc: 0.5791\n",
            "Epoch 40/1000\n",
            "50/50 [==============================] - 7s 132ms/step - loss: 1.1756 - acc: 0.5606\n",
            "Epoch 41/1000\n",
            "50/50 [==============================] - 7s 132ms/step - loss: 1.1813 - acc: 0.5634\n",
            "Epoch 42/1000\n",
            " 2/50 [>.............................] - ETA: 6s - loss: 1.1219 - acc: 0.5391"
          ],
          "name": "stdout"
        },
        {
          "output_type": "stream",
          "text": [
            "50/50 [==============================] - 7s 132ms/step - loss: 1.1540 - acc: 0.5600\n",
            "Epoch 43/1000\n",
            "50/50 [==============================] - 7s 132ms/step - loss: 1.2144 - acc: 0.5419\n",
            "Epoch 44/1000\n",
            "50/50 [==============================] - 7s 132ms/step - loss: 1.1762 - acc: 0.5628\n",
            "Epoch 45/1000\n",
            "50/50 [==============================] - 7s 132ms/step - loss: 1.2018 - acc: 0.5506\n",
            "Epoch 46/1000\n",
            "50/50 [==============================] - 7s 132ms/step - loss: 1.1676 - acc: 0.5575\n",
            "Epoch 47/1000\n",
            "50/50 [==============================] - 7s 133ms/step - loss: 1.1766 - acc: 0.5625\n",
            "Epoch 48/1000\n",
            " 2/50 [>.............................] - ETA: 6s - loss: 1.1948 - acc: 0.5547"
          ],
          "name": "stdout"
        },
        {
          "output_type": "stream",
          "text": [
            "50/50 [==============================] - 7s 131ms/step - loss: 1.1666 - acc: 0.5594\n",
            "Epoch 49/1000\n",
            "50/50 [==============================] - 7s 133ms/step - loss: 1.1790 - acc: 0.5591\n",
            "Epoch 50/1000\n",
            "50/50 [==============================] - 7s 130ms/step - loss: 1.2056 - acc: 0.5545\n",
            "Epoch 51/1000\n",
            "50/50 [==============================] - 7s 132ms/step - loss: 1.1641 - acc: 0.5631\n",
            "Epoch 52/1000\n",
            "50/50 [==============================] - 7s 132ms/step - loss: 1.1773 - acc: 0.5613\n",
            "Epoch 53/1000\n",
            "50/50 [==============================] - 7s 133ms/step - loss: 1.1740 - acc: 0.5569\n",
            "Epoch 54/1000\n",
            " 2/50 [>.............................] - ETA: 6s - loss: 1.1255 - acc: 0.5547"
          ],
          "name": "stdout"
        },
        {
          "output_type": "stream",
          "text": [
            "50/50 [==============================] - 7s 132ms/step - loss: 1.1753 - acc: 0.5666\n",
            "Epoch 55/1000\n",
            "50/50 [==============================] - 7s 132ms/step - loss: 1.1525 - acc: 0.5719\n",
            "Epoch 56/1000\n",
            "50/50 [==============================] - 7s 133ms/step - loss: 1.2039 - acc: 0.5563\n",
            "Epoch 57/1000\n",
            "50/50 [==============================] - 7s 133ms/step - loss: 1.1720 - acc: 0.5625\n",
            "Epoch 58/1000\n",
            "50/50 [==============================] - 7s 132ms/step - loss: 1.1722 - acc: 0.5641\n",
            "Epoch 59/1000\n",
            "50/50 [==============================] - 7s 133ms/step - loss: 1.1868 - acc: 0.5444\n",
            "Epoch 60/1000\n",
            " 2/50 [>.............................] - ETA: 6s - loss: 1.2116 - acc: 0.6016"
          ],
          "name": "stdout"
        },
        {
          "output_type": "stream",
          "text": [
            "50/50 [==============================] - 7s 133ms/step - loss: 1.1501 - acc: 0.5716\n",
            "Epoch 61/1000\n",
            "50/50 [==============================] - 7s 132ms/step - loss: 1.1534 - acc: 0.5609\n",
            "Epoch 62/1000\n",
            "50/50 [==============================] - 7s 133ms/step - loss: 1.1502 - acc: 0.5691\n",
            "Epoch 63/1000\n",
            "50/50 [==============================] - 7s 132ms/step - loss: 1.1979 - acc: 0.5534\n",
            "Epoch 64/1000\n",
            "50/50 [==============================] - 7s 132ms/step - loss: 1.1285 - acc: 0.5713\n",
            "Epoch 65/1000\n",
            "50/50 [==============================] - 7s 132ms/step - loss: 1.1930 - acc: 0.5650\n",
            "Epoch 66/1000\n",
            " 2/50 [>.............................] - ETA: 6s - loss: 1.1884 - acc: 0.5312"
          ],
          "name": "stdout"
        },
        {
          "output_type": "stream",
          "text": [
            "50/50 [==============================] - 7s 132ms/step - loss: 1.1671 - acc: 0.5578\n",
            "Epoch 67/1000\n",
            "50/50 [==============================] - 7s 132ms/step - loss: 1.1764 - acc: 0.5616\n",
            "Epoch 68/1000\n",
            "50/50 [==============================] - 7s 132ms/step - loss: 1.1688 - acc: 0.5650\n",
            "Epoch 69/1000\n",
            "50/50 [==============================] - 7s 132ms/step - loss: 1.1621 - acc: 0.5719\n",
            "Epoch 70/1000\n",
            "50/50 [==============================] - 7s 133ms/step - loss: 1.1531 - acc: 0.5719\n",
            "Epoch 71/1000\n",
            "50/50 [==============================] - 7s 130ms/step - loss: 1.1613 - acc: 0.5661\n",
            "Epoch 72/1000\n",
            " 2/50 [>.............................] - ETA: 6s - loss: 1.3417 - acc: 0.4375"
          ],
          "name": "stdout"
        },
        {
          "output_type": "stream",
          "text": [
            "50/50 [==============================] - 7s 131ms/step - loss: 1.2023 - acc: 0.5475\n",
            "Epoch 73/1000\n",
            "50/50 [==============================] - 7s 132ms/step - loss: 1.1656 - acc: 0.5553\n",
            "Epoch 74/1000\n",
            "50/50 [==============================] - 7s 132ms/step - loss: 1.1779 - acc: 0.5725\n",
            "Epoch 75/1000\n",
            "50/50 [==============================] - 7s 132ms/step - loss: 1.1254 - acc: 0.5772\n",
            "Epoch 76/1000\n",
            "50/50 [==============================] - 7s 133ms/step - loss: 1.1427 - acc: 0.5694\n",
            "Epoch 77/1000\n",
            "50/50 [==============================] - 7s 132ms/step - loss: 1.1727 - acc: 0.5509\n",
            "Epoch 78/1000\n",
            " 2/50 [>.............................] - ETA: 6s - loss: 1.1037 - acc: 0.6016"
          ],
          "name": "stdout"
        },
        {
          "output_type": "stream",
          "text": [
            "50/50 [==============================] - 7s 133ms/step - loss: 1.1332 - acc: 0.5912\n",
            "Epoch 79/1000\n",
            "50/50 [==============================] - 7s 130ms/step - loss: 1.1745 - acc: 0.5621\n",
            "Epoch 80/1000\n",
            "50/50 [==============================] - 7s 132ms/step - loss: 1.1642 - acc: 0.5628\n",
            "Epoch 81/1000\n",
            "50/50 [==============================] - 7s 132ms/step - loss: 1.1272 - acc: 0.5756\n",
            "Epoch 82/1000\n",
            "50/50 [==============================] - 7s 132ms/step - loss: 1.1737 - acc: 0.5616\n",
            "Epoch 83/1000\n",
            "50/50 [==============================] - 7s 131ms/step - loss: 1.1690 - acc: 0.5616\n",
            "Epoch 84/1000\n",
            " 1/50 [..............................] - ETA: 6s - loss: 1.1595 - acc: 0.5781"
          ],
          "name": "stdout"
        },
        {
          "output_type": "stream",
          "text": [
            "50/50 [==============================] - 7s 133ms/step - loss: 1.1622 - acc: 0.5628\n",
            "Epoch 85/1000\n",
            "50/50 [==============================] - 7s 132ms/step - loss: 1.1454 - acc: 0.5831\n",
            "Epoch 86/1000\n",
            "50/50 [==============================] - 7s 133ms/step - loss: 1.1259 - acc: 0.5791\n",
            "Epoch 87/1000\n",
            "50/50 [==============================] - 7s 132ms/step - loss: 1.1123 - acc: 0.5922\n",
            "Epoch 88/1000\n",
            "50/50 [==============================] - 7s 133ms/step - loss: 1.1738 - acc: 0.5572\n",
            "Epoch 89/1000\n",
            "50/50 [==============================] - 7s 132ms/step - loss: 1.1741 - acc: 0.5613\n",
            "Epoch 90/1000\n",
            " 1/50 [..............................] - ETA: 6s - loss: 1.1497 - acc: 0.6094"
          ],
          "name": "stdout"
        },
        {
          "output_type": "stream",
          "text": [
            "50/50 [==============================] - 7s 131ms/step - loss: 1.1290 - acc: 0.5753\n",
            "Epoch 91/1000\n",
            "50/50 [==============================] - 7s 132ms/step - loss: 1.1937 - acc: 0.5559\n",
            "Epoch 92/1000\n",
            "50/50 [==============================] - 7s 132ms/step - loss: 1.1286 - acc: 0.5841\n",
            "Epoch 93/1000\n",
            "50/50 [==============================] - 7s 132ms/step - loss: 1.1736 - acc: 0.5578\n",
            "Epoch 94/1000\n",
            "50/50 [==============================] - 7s 132ms/step - loss: 1.1658 - acc: 0.5597\n",
            "Epoch 95/1000\n",
            "50/50 [==============================] - 7s 133ms/step - loss: 1.1539 - acc: 0.5625\n",
            "Epoch 96/1000\n",
            " 1/50 [..............................] - ETA: 6s - loss: 1.1262 - acc: 0.5625"
          ],
          "name": "stdout"
        },
        {
          "output_type": "stream",
          "text": [
            "50/50 [==============================] - 7s 133ms/step - loss: 1.1442 - acc: 0.5813\n",
            "Epoch 97/1000\n",
            "50/50 [==============================] - 7s 132ms/step - loss: 1.1391 - acc: 0.5672\n",
            "Epoch 98/1000\n",
            "50/50 [==============================] - 7s 132ms/step - loss: 1.1595 - acc: 0.5678\n",
            "Epoch 99/1000\n",
            "50/50 [==============================] - 7s 132ms/step - loss: 1.1396 - acc: 0.5772\n",
            "Epoch 100/1000\n",
            "50/50 [==============================] - 7s 133ms/step - loss: 1.1414 - acc: 0.5766\n",
            "Epoch 101/1000\n",
            "50/50 [==============================] - 7s 132ms/step - loss: 1.1339 - acc: 0.5684\n",
            "Epoch 102/1000\n",
            " 1/50 [..............................] - ETA: 6s - loss: 1.2778 - acc: 0.5000"
          ],
          "name": "stdout"
        },
        {
          "output_type": "stream",
          "text": [
            "50/50 [==============================] - 7s 133ms/step - loss: 1.1222 - acc: 0.5747\n",
            "Epoch 103/1000\n",
            "50/50 [==============================] - 7s 132ms/step - loss: 1.1022 - acc: 0.5819\n",
            "Epoch 104/1000\n",
            "50/50 [==============================] - 7s 131ms/step - loss: 1.1154 - acc: 0.5768\n",
            "Epoch 105/1000\n",
            "50/50 [==============================] - 7s 132ms/step - loss: 1.1093 - acc: 0.5853\n",
            "Epoch 106/1000\n",
            "50/50 [==============================] - 7s 132ms/step - loss: 1.1303 - acc: 0.5878\n",
            "Epoch 107/1000\n",
            "50/50 [==============================] - 7s 132ms/step - loss: 1.1415 - acc: 0.5706\n",
            "Epoch 108/1000\n"
          ],
          "name": "stdout"
        },
        {
          "output_type": "stream",
          "text": [
            "50/50 [==============================] - 7s 132ms/step - loss: 1.1446 - acc: 0.5744\n",
            "Epoch 109/1000\n",
            "50/50 [==============================] - 7s 132ms/step - loss: 1.1229 - acc: 0.5875\n",
            "Epoch 110/1000\n",
            "50/50 [==============================] - 7s 133ms/step - loss: 1.1230 - acc: 0.5866\n",
            "Epoch 111/1000\n",
            "50/50 [==============================] - 7s 133ms/step - loss: 1.1319 - acc: 0.5750\n",
            "Epoch 112/1000\n",
            "50/50 [==============================] - 7s 132ms/step - loss: 1.1052 - acc: 0.5981\n",
            "Epoch 113/1000\n",
            "50/50 [==============================] - 7s 132ms/step - loss: 1.1192 - acc: 0.5781\n",
            "Epoch 114/1000\n"
          ],
          "name": "stdout"
        },
        {
          "output_type": "stream",
          "text": [
            "50/50 [==============================] - 7s 133ms/step - loss: 1.1200 - acc: 0.5875\n",
            "Epoch 115/1000\n",
            "50/50 [==============================] - 7s 133ms/step - loss: 1.1329 - acc: 0.5800\n",
            "Epoch 116/1000\n",
            "50/50 [==============================] - 7s 132ms/step - loss: 1.1224 - acc: 0.5703\n",
            "Epoch 117/1000\n",
            "50/50 [==============================] - 7s 133ms/step - loss: 1.1309 - acc: 0.5759\n",
            "Epoch 118/1000\n",
            "50/50 [==============================] - 7s 132ms/step - loss: 1.1303 - acc: 0.5822\n",
            "Epoch 119/1000\n",
            "50/50 [==============================] - 7s 132ms/step - loss: 1.1417 - acc: 0.5763\n",
            "Epoch 120/1000\n"
          ],
          "name": "stdout"
        },
        {
          "output_type": "stream",
          "text": [
            "50/50 [==============================] - 7s 133ms/step - loss: 1.1150 - acc: 0.5828\n",
            "Epoch 121/1000\n",
            "50/50 [==============================] - 7s 131ms/step - loss: 1.1413 - acc: 0.5747\n",
            "Epoch 122/1000\n",
            "50/50 [==============================] - 7s 133ms/step - loss: 1.1178 - acc: 0.5847\n",
            "Epoch 123/1000\n",
            "50/50 [==============================] - 7s 132ms/step - loss: 1.1812 - acc: 0.5581\n",
            "Epoch 124/1000\n",
            "50/50 [==============================] - 7s 132ms/step - loss: 1.1118 - acc: 0.5900\n",
            "Epoch 125/1000\n",
            "50/50 [==============================] - 7s 133ms/step - loss: 1.1144 - acc: 0.5850\n",
            "Epoch 126/1000\n"
          ],
          "name": "stdout"
        },
        {
          "output_type": "stream",
          "text": [
            "50/50 [==============================] - 7s 132ms/step - loss: 1.1023 - acc: 0.5872\n",
            "Epoch 127/1000\n",
            "50/50 [==============================] - 7s 132ms/step - loss: 1.1155 - acc: 0.5813\n",
            "Epoch 128/1000\n",
            "50/50 [==============================] - 7s 131ms/step - loss: 1.0897 - acc: 0.5891\n",
            "Epoch 129/1000\n",
            "50/50 [==============================] - 7s 130ms/step - loss: 1.1483 - acc: 0.5660\n",
            "Epoch 130/1000\n",
            "50/50 [==============================] - 7s 131ms/step - loss: 1.1204 - acc: 0.5819\n",
            "Epoch 131/1000\n",
            "50/50 [==============================] - 7s 131ms/step - loss: 1.0775 - acc: 0.5975\n",
            "Epoch 132/1000\n"
          ],
          "name": "stdout"
        },
        {
          "output_type": "stream",
          "text": [
            "50/50 [==============================] - 7s 132ms/step - loss: 1.1410 - acc: 0.5597\n",
            "Epoch 133/1000\n",
            "50/50 [==============================] - 7s 133ms/step - loss: 1.0894 - acc: 0.5991\n",
            "Epoch 134/1000\n",
            "50/50 [==============================] - 7s 133ms/step - loss: 1.1250 - acc: 0.5822\n",
            "Epoch 135/1000\n",
            "50/50 [==============================] - 7s 133ms/step - loss: 1.0849 - acc: 0.5947\n",
            "Epoch 136/1000\n",
            "50/50 [==============================] - 7s 133ms/step - loss: 1.0933 - acc: 0.5919\n",
            "Epoch 137/1000\n",
            "50/50 [==============================] - 7s 132ms/step - loss: 1.1328 - acc: 0.5722\n",
            "Epoch 138/1000\n"
          ],
          "name": "stdout"
        },
        {
          "output_type": "stream",
          "text": [
            "50/50 [==============================] - 7s 133ms/step - loss: 1.1017 - acc: 0.5966\n",
            "Epoch 139/1000\n",
            "50/50 [==============================] - 7s 132ms/step - loss: 1.1265 - acc: 0.5853\n",
            "Epoch 140/1000\n",
            "50/50 [==============================] - 7s 132ms/step - loss: 1.1357 - acc: 0.5691\n",
            "Epoch 141/1000\n",
            "50/50 [==============================] - 7s 132ms/step - loss: 1.1441 - acc: 0.5747\n",
            "Epoch 142/1000\n",
            "50/50 [==============================] - 7s 132ms/step - loss: 1.1171 - acc: 0.5925\n",
            "Epoch 143/1000\n",
            "50/50 [==============================] - 7s 132ms/step - loss: 1.1072 - acc: 0.5841\n",
            "Epoch 144/1000\n"
          ],
          "name": "stdout"
        },
        {
          "output_type": "stream",
          "text": [
            "50/50 [==============================] - 7s 132ms/step - loss: 1.1255 - acc: 0.5716\n",
            "Epoch 145/1000\n",
            "50/50 [==============================] - 7s 131ms/step - loss: 1.1113 - acc: 0.5836\n",
            "Epoch 146/1000\n",
            "50/50 [==============================] - 7s 132ms/step - loss: 1.1001 - acc: 0.5841\n",
            "Epoch 147/1000\n",
            "50/50 [==============================] - 7s 132ms/step - loss: 1.1018 - acc: 0.5844\n",
            "Epoch 148/1000\n",
            "50/50 [==============================] - 7s 132ms/step - loss: 1.0863 - acc: 0.6044\n",
            "Epoch 149/1000\n",
            "50/50 [==============================] - 7s 132ms/step - loss: 1.0921 - acc: 0.5894\n",
            "Epoch 150/1000\n"
          ],
          "name": "stdout"
        },
        {
          "output_type": "stream",
          "text": [
            "50/50 [==============================] - 7s 132ms/step - loss: 1.1068 - acc: 0.5787\n",
            "Epoch 151/1000\n",
            "50/50 [==============================] - 7s 132ms/step - loss: 1.0899 - acc: 0.5928\n",
            "Epoch 152/1000\n",
            "50/50 [==============================] - 7s 133ms/step - loss: 1.1303 - acc: 0.5778\n",
            "Epoch 153/1000\n",
            "50/50 [==============================] - 7s 132ms/step - loss: 1.0979 - acc: 0.5947\n",
            "Epoch 154/1000\n",
            "50/50 [==============================] - 7s 132ms/step - loss: 1.0935 - acc: 0.5991\n",
            "Epoch 155/1000\n",
            "50/50 [==============================] - 7s 132ms/step - loss: 1.1032 - acc: 0.5875\n",
            "Epoch 156/1000\n"
          ],
          "name": "stdout"
        },
        {
          "output_type": "stream",
          "text": [
            "50/50 [==============================] - 7s 132ms/step - loss: 1.0984 - acc: 0.5894\n",
            "Epoch 157/1000\n",
            "50/50 [==============================] - 7s 132ms/step - loss: 1.1062 - acc: 0.5850\n",
            "Epoch 158/1000\n",
            "50/50 [==============================] - 7s 132ms/step - loss: 1.1021 - acc: 0.5831\n",
            "Epoch 159/1000\n",
            "50/50 [==============================] - 7s 132ms/step - loss: 1.1111 - acc: 0.5819\n",
            "Epoch 160/1000\n",
            "50/50 [==============================] - 7s 132ms/step - loss: 1.1021 - acc: 0.5819\n",
            "Epoch 161/1000\n",
            "50/50 [==============================] - 7s 132ms/step - loss: 1.1082 - acc: 0.5944\n",
            "Epoch 162/1000\n"
          ],
          "name": "stdout"
        },
        {
          "output_type": "stream",
          "text": [
            "50/50 [==============================] - 7s 131ms/step - loss: 1.1252 - acc: 0.5803\n",
            "Epoch 163/1000\n",
            "50/50 [==============================] - 7s 133ms/step - loss: 1.0968 - acc: 0.5925\n",
            "Epoch 164/1000\n",
            "50/50 [==============================] - 7s 132ms/step - loss: 1.1032 - acc: 0.5894\n",
            "Epoch 165/1000\n",
            "50/50 [==============================] - 7s 132ms/step - loss: 1.0894 - acc: 0.5837\n",
            "Epoch 166/1000\n",
            "50/50 [==============================] - 7s 132ms/step - loss: 1.0778 - acc: 0.5978\n",
            "Epoch 167/1000\n",
            "50/50 [==============================] - 7s 132ms/step - loss: 1.0927 - acc: 0.5963\n",
            "Epoch 168/1000\n"
          ],
          "name": "stdout"
        },
        {
          "output_type": "stream",
          "text": [
            "50/50 [==============================] - 7s 132ms/step - loss: 1.1193 - acc: 0.5747\n",
            "Epoch 169/1000\n",
            "50/50 [==============================] - 7s 131ms/step - loss: 1.1022 - acc: 0.5850\n",
            "Epoch 170/1000\n",
            "50/50 [==============================] - 7s 132ms/step - loss: 1.0738 - acc: 0.6081\n",
            "Epoch 171/1000\n",
            "50/50 [==============================] - 7s 132ms/step - loss: 1.1093 - acc: 0.5881\n",
            "Epoch 172/1000\n",
            "50/50 [==============================] - 7s 131ms/step - loss: 1.1014 - acc: 0.5884\n",
            "Epoch 173/1000\n",
            "50/50 [==============================] - 7s 132ms/step - loss: 1.0793 - acc: 0.6053\n",
            "Epoch 174/1000\n"
          ],
          "name": "stdout"
        },
        {
          "output_type": "stream",
          "text": [
            "50/50 [==============================] - 7s 132ms/step - loss: 1.1086 - acc: 0.5869\n",
            "Epoch 175/1000\n",
            "50/50 [==============================] - 7s 131ms/step - loss: 1.1051 - acc: 0.5893\n",
            "Epoch 176/1000\n",
            "50/50 [==============================] - 7s 132ms/step - loss: 1.0954 - acc: 0.5972\n",
            "Epoch 177/1000\n",
            "50/50 [==============================] - 7s 132ms/step - loss: 1.0809 - acc: 0.5981\n",
            "Epoch 178/1000\n",
            "50/50 [==============================] - 7s 133ms/step - loss: 1.0913 - acc: 0.5928\n",
            "Epoch 179/1000\n",
            "50/50 [==============================] - 7s 131ms/step - loss: 1.0833 - acc: 0.5931\n",
            "Epoch 180/1000\n"
          ],
          "name": "stdout"
        },
        {
          "output_type": "stream",
          "text": [
            "50/50 [==============================] - 7s 132ms/step - loss: 1.0493 - acc: 0.6028\n",
            "Epoch 181/1000\n",
            "50/50 [==============================] - 7s 132ms/step - loss: 1.0790 - acc: 0.6103\n",
            "Epoch 182/1000\n",
            "50/50 [==============================] - 7s 133ms/step - loss: 1.0552 - acc: 0.5997\n",
            "Epoch 183/1000\n",
            "50/50 [==============================] - 7s 132ms/step - loss: 1.0970 - acc: 0.5816\n",
            "Epoch 184/1000\n",
            "50/50 [==============================] - 7s 132ms/step - loss: 1.0644 - acc: 0.6047\n",
            "Epoch 185/1000\n",
            "50/50 [==============================] - 7s 131ms/step - loss: 1.1064 - acc: 0.5841\n",
            "Epoch 186/1000\n"
          ],
          "name": "stdout"
        },
        {
          "output_type": "stream",
          "text": [
            "50/50 [==============================] - 7s 133ms/step - loss: 1.0690 - acc: 0.6012\n",
            "Epoch 187/1000\n",
            "50/50 [==============================] - 7s 133ms/step - loss: 1.1109 - acc: 0.5875\n",
            "Epoch 188/1000\n",
            "50/50 [==============================] - 7s 132ms/step - loss: 1.0809 - acc: 0.5984\n",
            "Epoch 189/1000\n",
            "50/50 [==============================] - 7s 132ms/step - loss: 1.0796 - acc: 0.6000\n",
            "Epoch 190/1000\n",
            "50/50 [==============================] - 7s 132ms/step - loss: 1.0436 - acc: 0.6094\n",
            "Epoch 191/1000\n",
            "50/50 [==============================] - 7s 133ms/step - loss: 1.1113 - acc: 0.5912\n",
            "Epoch 192/1000\n"
          ],
          "name": "stdout"
        },
        {
          "output_type": "stream",
          "text": [
            "50/50 [==============================] - 7s 132ms/step - loss: 1.0800 - acc: 0.5934\n",
            "Epoch 193/1000\n",
            "50/50 [==============================] - 7s 132ms/step - loss: 1.0782 - acc: 0.5972\n",
            "Epoch 194/1000\n",
            "50/50 [==============================] - 7s 132ms/step - loss: 1.0514 - acc: 0.6034\n",
            "Epoch 195/1000\n",
            "50/50 [==============================] - 7s 131ms/step - loss: 1.1036 - acc: 0.5822\n",
            "Epoch 196/1000\n",
            "50/50 [==============================] - 7s 132ms/step - loss: 1.0811 - acc: 0.6072\n",
            "Epoch 197/1000\n",
            "50/50 [==============================] - 7s 132ms/step - loss: 1.0719 - acc: 0.6050\n",
            "Epoch 198/1000\n"
          ],
          "name": "stdout"
        },
        {
          "output_type": "stream",
          "text": [
            "50/50 [==============================] - 7s 130ms/step - loss: 1.1131 - acc: 0.5805\n",
            "Epoch 199/1000\n",
            "50/50 [==============================] - 7s 133ms/step - loss: 1.0476 - acc: 0.6103\n",
            "Epoch 200/1000\n",
            "50/50 [==============================] - 7s 132ms/step - loss: 1.0320 - acc: 0.6081\n",
            "Epoch 201/1000\n",
            "50/50 [==============================] - 7s 132ms/step - loss: 1.0800 - acc: 0.5950\n",
            "Epoch 202/1000\n",
            "50/50 [==============================] - 7s 133ms/step - loss: 1.0714 - acc: 0.6028\n",
            "Epoch 203/1000\n",
            "50/50 [==============================] - 7s 132ms/step - loss: 1.0988 - acc: 0.5912\n",
            "Epoch 204/1000\n"
          ],
          "name": "stdout"
        },
        {
          "output_type": "stream",
          "text": [
            "50/50 [==============================] - 7s 133ms/step - loss: 1.0535 - acc: 0.5934\n",
            "Epoch 205/1000\n",
            "50/50 [==============================] - 7s 132ms/step - loss: 1.0516 - acc: 0.6016\n",
            "Epoch 206/1000\n",
            "50/50 [==============================] - 7s 132ms/step - loss: 1.0905 - acc: 0.5837\n",
            "Epoch 207/1000\n",
            "50/50 [==============================] - 7s 131ms/step - loss: 1.0862 - acc: 0.5903\n",
            "Epoch 208/1000\n",
            "50/50 [==============================] - 7s 133ms/step - loss: 1.0670 - acc: 0.5944\n",
            "Epoch 209/1000\n",
            "50/50 [==============================] - 7s 132ms/step - loss: 1.0331 - acc: 0.6250\n",
            "Epoch 210/1000\n"
          ],
          "name": "stdout"
        },
        {
          "output_type": "stream",
          "text": [
            "50/50 [==============================] - 7s 132ms/step - loss: 1.0616 - acc: 0.6097\n",
            "Epoch 211/1000\n",
            "50/50 [==============================] - 7s 132ms/step - loss: 1.1025 - acc: 0.5813\n",
            "Epoch 212/1000\n",
            "50/50 [==============================] - 7s 132ms/step - loss: 1.0742 - acc: 0.6025\n",
            "Epoch 213/1000\n",
            "50/50 [==============================] - 7s 133ms/step - loss: 1.0848 - acc: 0.5972\n",
            "Epoch 214/1000\n",
            "50/50 [==============================] - 7s 132ms/step - loss: 1.0657 - acc: 0.6034\n",
            "Epoch 215/1000\n",
            "50/50 [==============================] - 7s 132ms/step - loss: 1.0592 - acc: 0.6034\n",
            "Epoch 216/1000\n"
          ],
          "name": "stdout"
        },
        {
          "output_type": "stream",
          "text": [
            "50/50 [==============================] - 7s 131ms/step - loss: 1.0611 - acc: 0.5934\n",
            "Epoch 217/1000\n",
            "50/50 [==============================] - 7s 132ms/step - loss: 1.0313 - acc: 0.6194\n",
            "Epoch 218/1000\n",
            "50/50 [==============================] - 7s 132ms/step - loss: 1.0838 - acc: 0.5884\n",
            "Epoch 219/1000\n",
            "50/50 [==============================] - 7s 132ms/step - loss: 1.0345 - acc: 0.6019\n",
            "Epoch 220/1000\n",
            "50/50 [==============================] - 7s 130ms/step - loss: 1.0705 - acc: 0.6096\n",
            "Epoch 221/1000\n",
            "50/50 [==============================] - 7s 132ms/step - loss: 1.0518 - acc: 0.6128\n",
            "Epoch 222/1000\n"
          ],
          "name": "stdout"
        },
        {
          "output_type": "stream",
          "text": [
            "50/50 [==============================] - 7s 132ms/step - loss: 1.0429 - acc: 0.6012\n",
            "Epoch 223/1000\n",
            "50/50 [==============================] - 7s 132ms/step - loss: 1.0397 - acc: 0.6169\n",
            "Epoch 224/1000\n",
            "50/50 [==============================] - 7s 132ms/step - loss: 1.0451 - acc: 0.6025\n",
            "Epoch 225/1000\n",
            "50/50 [==============================] - 7s 132ms/step - loss: 1.0921 - acc: 0.5978\n",
            "Epoch 226/1000\n",
            "50/50 [==============================] - 7s 131ms/step - loss: 1.0492 - acc: 0.6006\n",
            "Epoch 227/1000\n",
            "50/50 [==============================] - 7s 132ms/step - loss: 1.0341 - acc: 0.6200\n",
            "Epoch 228/1000\n"
          ],
          "name": "stdout"
        },
        {
          "output_type": "stream",
          "text": [
            "50/50 [==============================] - 7s 132ms/step - loss: 1.0397 - acc: 0.6153\n",
            "Epoch 229/1000\n",
            "50/50 [==============================] - 7s 132ms/step - loss: 1.0730 - acc: 0.5950\n",
            "Epoch 230/1000\n",
            "50/50 [==============================] - 7s 132ms/step - loss: 1.0619 - acc: 0.6025\n",
            "Epoch 231/1000\n",
            "50/50 [==============================] - 7s 132ms/step - loss: 1.0700 - acc: 0.6025\n",
            "Epoch 232/1000\n",
            "50/50 [==============================] - 7s 133ms/step - loss: 1.0735 - acc: 0.6044\n",
            "Epoch 233/1000\n",
            "50/50 [==============================] - 7s 132ms/step - loss: 1.0409 - acc: 0.6159\n",
            "Epoch 234/1000\n"
          ],
          "name": "stdout"
        },
        {
          "output_type": "stream",
          "text": [
            "50/50 [==============================] - 7s 132ms/step - loss: 1.0540 - acc: 0.6094\n",
            "Epoch 235/1000\n",
            "50/50 [==============================] - 7s 132ms/step - loss: 1.0662 - acc: 0.6038\n",
            "Epoch 236/1000\n",
            "50/50 [==============================] - 7s 132ms/step - loss: 1.0160 - acc: 0.6250\n",
            "Epoch 237/1000\n",
            "50/50 [==============================] - 7s 132ms/step - loss: 1.0571 - acc: 0.6125\n",
            "Epoch 238/1000\n",
            "50/50 [==============================] - 7s 133ms/step - loss: 1.0358 - acc: 0.6100\n",
            "Epoch 239/1000\n",
            "50/50 [==============================] - 7s 132ms/step - loss: 1.0468 - acc: 0.6125\n",
            "Epoch 240/1000\n"
          ],
          "name": "stdout"
        },
        {
          "output_type": "stream",
          "text": [
            "50/50 [==============================] - 7s 132ms/step - loss: 1.0530 - acc: 0.6100\n",
            "Epoch 241/1000\n",
            "50/50 [==============================] - 7s 133ms/step - loss: 1.0800 - acc: 0.5928\n",
            "Epoch 242/1000\n",
            "50/50 [==============================] - 7s 133ms/step - loss: 1.0726 - acc: 0.5938\n",
            "Epoch 243/1000\n",
            "50/50 [==============================] - 7s 131ms/step - loss: 1.0510 - acc: 0.6119\n",
            "Epoch 244/1000\n",
            "50/50 [==============================] - 7s 132ms/step - loss: 1.0128 - acc: 0.6188\n",
            "Epoch 245/1000\n",
            "50/50 [==============================] - 7s 132ms/step - loss: 1.0613 - acc: 0.6041\n",
            "Epoch 246/1000\n"
          ],
          "name": "stdout"
        },
        {
          "output_type": "stream",
          "text": [
            "50/50 [==============================] - 7s 132ms/step - loss: 1.0236 - acc: 0.6209\n",
            "Epoch 247/1000\n",
            "50/50 [==============================] - 7s 132ms/step - loss: 1.0310 - acc: 0.6206\n",
            "Epoch 248/1000\n",
            "50/50 [==============================] - 7s 133ms/step - loss: 1.0524 - acc: 0.6141\n",
            "Epoch 249/1000\n",
            "50/50 [==============================] - 7s 132ms/step - loss: 1.0132 - acc: 0.6153\n",
            "Epoch 250/1000\n",
            "50/50 [==============================] - 7s 132ms/step - loss: 1.0575 - acc: 0.5997\n",
            "Epoch 251/1000\n",
            "50/50 [==============================] - 7s 132ms/step - loss: 1.0429 - acc: 0.6097\n",
            "Epoch 252/1000\n"
          ],
          "name": "stdout"
        },
        {
          "output_type": "stream",
          "text": [
            "50/50 [==============================] - 7s 131ms/step - loss: 1.0392 - acc: 0.5966\n",
            "Epoch 253/1000\n",
            "50/50 [==============================] - 7s 131ms/step - loss: 0.9948 - acc: 0.6381\n",
            "Epoch 254/1000\n",
            "50/50 [==============================] - 7s 132ms/step - loss: 1.0481 - acc: 0.6122\n",
            "Epoch 255/1000\n",
            "50/50 [==============================] - 7s 132ms/step - loss: 1.0593 - acc: 0.6106\n",
            "Epoch 256/1000\n",
            "50/50 [==============================] - 7s 133ms/step - loss: 1.0487 - acc: 0.6053\n",
            "Epoch 257/1000\n",
            "50/50 [==============================] - 7s 132ms/step - loss: 1.0176 - acc: 0.6116\n",
            "Epoch 258/1000\n"
          ],
          "name": "stdout"
        },
        {
          "output_type": "stream",
          "text": [
            "50/50 [==============================] - 7s 132ms/step - loss: 1.0311 - acc: 0.6100\n",
            "Epoch 259/1000\n",
            "50/50 [==============================] - 7s 133ms/step - loss: 1.0500 - acc: 0.6041\n",
            "Epoch 260/1000\n",
            "50/50 [==============================] - 7s 133ms/step - loss: 1.0309 - acc: 0.6209\n",
            "Epoch 261/1000\n",
            "50/50 [==============================] - 7s 132ms/step - loss: 1.0728 - acc: 0.5956\n",
            "Epoch 262/1000\n",
            "50/50 [==============================] - 7s 132ms/step - loss: 1.0691 - acc: 0.5981\n",
            "Epoch 263/1000\n",
            "50/50 [==============================] - 7s 132ms/step - loss: 1.0249 - acc: 0.6184\n",
            "Epoch 264/1000\n"
          ],
          "name": "stdout"
        },
        {
          "output_type": "stream",
          "text": [
            "50/50 [==============================] - 7s 132ms/step - loss: 1.0397 - acc: 0.6094\n",
            "Epoch 265/1000\n",
            "50/50 [==============================] - 7s 132ms/step - loss: 1.0379 - acc: 0.6112\n",
            "Epoch 266/1000\n",
            "50/50 [==============================] - 7s 133ms/step - loss: 1.0281 - acc: 0.6125\n",
            "Epoch 267/1000\n",
            "50/50 [==============================] - 7s 132ms/step - loss: 1.0100 - acc: 0.6178\n",
            "Epoch 268/1000\n",
            "50/50 [==============================] - 7s 132ms/step - loss: 1.0470 - acc: 0.6044\n",
            "Epoch 269/1000\n",
            "50/50 [==============================] - 7s 132ms/step - loss: 1.0296 - acc: 0.6178\n",
            "Epoch 270/1000\n"
          ],
          "name": "stdout"
        },
        {
          "output_type": "stream",
          "text": [
            "50/50 [==============================] - 7s 132ms/step - loss: 1.0170 - acc: 0.6116\n",
            "Epoch 271/1000\n",
            "50/50 [==============================] - 7s 132ms/step - loss: 1.0089 - acc: 0.6262\n",
            "Epoch 272/1000\n",
            "50/50 [==============================] - 7s 132ms/step - loss: 1.0262 - acc: 0.6178\n",
            "Epoch 273/1000\n",
            "50/50 [==============================] - 7s 132ms/step - loss: 1.0573 - acc: 0.6103\n",
            "Epoch 274/1000\n",
            "50/50 [==============================] - 7s 133ms/step - loss: 0.9990 - acc: 0.6278\n",
            "Epoch 275/1000\n",
            "50/50 [==============================] - 7s 132ms/step - loss: 1.0182 - acc: 0.6244\n",
            "Epoch 276/1000\n"
          ],
          "name": "stdout"
        },
        {
          "output_type": "stream",
          "text": [
            "50/50 [==============================] - 7s 132ms/step - loss: 1.0313 - acc: 0.6081\n",
            "Epoch 277/1000\n",
            "50/50 [==============================] - 7s 132ms/step - loss: 1.0344 - acc: 0.6134\n",
            "Epoch 278/1000\n",
            "50/50 [==============================] - 7s 133ms/step - loss: 1.0167 - acc: 0.6309\n",
            "Epoch 279/1000\n",
            "50/50 [==============================] - 7s 132ms/step - loss: 1.0039 - acc: 0.6284\n",
            "Epoch 280/1000\n",
            "50/50 [==============================] - 7s 132ms/step - loss: 1.0383 - acc: 0.6144\n",
            "Epoch 281/1000\n",
            "50/50 [==============================] - 7s 133ms/step - loss: 1.0425 - acc: 0.6197\n",
            "Epoch 282/1000\n"
          ],
          "name": "stdout"
        },
        {
          "output_type": "stream",
          "text": [
            "50/50 [==============================] - 7s 132ms/step - loss: 1.0261 - acc: 0.6119\n",
            "Epoch 283/1000\n",
            "50/50 [==============================] - 7s 132ms/step - loss: 1.0518 - acc: 0.6072\n",
            "Epoch 284/1000\n",
            "50/50 [==============================] - 7s 132ms/step - loss: 1.0463 - acc: 0.6094\n",
            "Epoch 285/1000\n",
            "50/50 [==============================] - 7s 131ms/step - loss: 1.0195 - acc: 0.6066\n",
            "Epoch 286/1000\n",
            "50/50 [==============================] - 7s 133ms/step - loss: 1.0252 - acc: 0.6234\n",
            "Epoch 287/1000\n",
            "50/50 [==============================] - 7s 132ms/step - loss: 1.0234 - acc: 0.6303\n",
            "Epoch 288/1000\n"
          ],
          "name": "stdout"
        },
        {
          "output_type": "stream",
          "text": [
            "50/50 [==============================] - 7s 131ms/step - loss: 1.0217 - acc: 0.6291\n",
            "Epoch 289/1000\n",
            "50/50 [==============================] - 7s 133ms/step - loss: 1.0146 - acc: 0.6175\n",
            "Epoch 290/1000\n",
            "50/50 [==============================] - 7s 132ms/step - loss: 1.0211 - acc: 0.6272\n",
            "Epoch 291/1000\n",
            "50/50 [==============================] - 7s 132ms/step - loss: 1.0311 - acc: 0.6238\n",
            "Epoch 292/1000\n",
            "50/50 [==============================] - 7s 132ms/step - loss: 1.0237 - acc: 0.6225\n",
            "Epoch 293/1000\n",
            "50/50 [==============================] - 7s 132ms/step - loss: 1.0014 - acc: 0.6225\n",
            "Epoch 294/1000\n"
          ],
          "name": "stdout"
        },
        {
          "output_type": "stream",
          "text": [
            "50/50 [==============================] - 7s 133ms/step - loss: 1.0278 - acc: 0.6191\n",
            "Epoch 295/1000\n",
            "50/50 [==============================] - 7s 132ms/step - loss: 1.0223 - acc: 0.6184\n",
            "Epoch 296/1000\n",
            "50/50 [==============================] - 7s 133ms/step - loss: 1.0340 - acc: 0.6109\n",
            "Epoch 297/1000\n",
            "50/50 [==============================] - 7s 133ms/step - loss: 1.0008 - acc: 0.6297\n",
            "Epoch 298/1000\n",
            "50/50 [==============================] - 7s 133ms/step - loss: 1.0208 - acc: 0.6212\n",
            "Epoch 299/1000\n",
            "50/50 [==============================] - 7s 132ms/step - loss: 1.0164 - acc: 0.6228\n",
            "Epoch 300/1000\n"
          ],
          "name": "stdout"
        },
        {
          "output_type": "stream",
          "text": [
            "50/50 [==============================] - 7s 133ms/step - loss: 1.0222 - acc: 0.6147\n",
            "Epoch 301/1000\n",
            "50/50 [==============================] - 7s 131ms/step - loss: 1.0407 - acc: 0.6215\n",
            "Epoch 302/1000\n",
            "50/50 [==============================] - 7s 133ms/step - loss: 1.0341 - acc: 0.6188\n",
            "Epoch 303/1000\n",
            "50/50 [==============================] - 7s 132ms/step - loss: 1.0222 - acc: 0.6256\n",
            "Epoch 304/1000\n",
            "50/50 [==============================] - 7s 132ms/step - loss: 1.0042 - acc: 0.6362\n",
            "Epoch 305/1000\n",
            "50/50 [==============================] - 7s 132ms/step - loss: 1.0055 - acc: 0.6247\n",
            "Epoch 306/1000\n"
          ],
          "name": "stdout"
        },
        {
          "output_type": "stream",
          "text": [
            "50/50 [==============================] - 7s 132ms/step - loss: 0.9806 - acc: 0.6369\n",
            "Epoch 307/1000\n",
            "50/50 [==============================] - 7s 132ms/step - loss: 1.0071 - acc: 0.6222\n",
            "Epoch 308/1000\n",
            "50/50 [==============================] - 7s 133ms/step - loss: 1.0063 - acc: 0.6266\n",
            "Epoch 309/1000\n",
            "50/50 [==============================] - 7s 131ms/step - loss: 1.0126 - acc: 0.6227\n",
            "Epoch 310/1000\n",
            "50/50 [==============================] - 7s 132ms/step - loss: 1.0419 - acc: 0.6062\n",
            "Epoch 311/1000\n",
            "50/50 [==============================] - 7s 133ms/step - loss: 0.9995 - acc: 0.6272\n",
            "Epoch 312/1000\n"
          ],
          "name": "stdout"
        },
        {
          "output_type": "stream",
          "text": [
            "50/50 [==============================] - 7s 132ms/step - loss: 1.0177 - acc: 0.6284\n",
            "Epoch 313/1000\n",
            "50/50 [==============================] - 7s 133ms/step - loss: 1.0121 - acc: 0.6200\n",
            "Epoch 314/1000\n",
            "50/50 [==============================] - 7s 132ms/step - loss: 1.0001 - acc: 0.6269\n",
            "Epoch 315/1000\n",
            "50/50 [==============================] - 7s 132ms/step - loss: 0.9957 - acc: 0.6344\n",
            "Epoch 316/1000\n",
            "50/50 [==============================] - 7s 133ms/step - loss: 0.9962 - acc: 0.6347\n",
            "Epoch 317/1000\n",
            "50/50 [==============================] - 7s 133ms/step - loss: 0.9849 - acc: 0.6300\n",
            "Epoch 318/1000\n"
          ],
          "name": "stdout"
        },
        {
          "output_type": "stream",
          "text": [
            "50/50 [==============================] - 7s 132ms/step - loss: 1.0468 - acc: 0.6150\n",
            "Epoch 319/1000\n",
            "50/50 [==============================] - 7s 132ms/step - loss: 1.0208 - acc: 0.6128\n",
            "Epoch 320/1000\n",
            "50/50 [==============================] - 7s 132ms/step - loss: 0.9889 - acc: 0.6328\n",
            "Epoch 321/1000\n",
            "50/50 [==============================] - 7s 132ms/step - loss: 0.9892 - acc: 0.6338\n",
            "Epoch 322/1000\n",
            "50/50 [==============================] - 7s 132ms/step - loss: 1.0145 - acc: 0.6203\n",
            "Epoch 323/1000\n",
            "50/50 [==============================] - 7s 132ms/step - loss: 1.0436 - acc: 0.6172\n",
            "Epoch 324/1000\n"
          ],
          "name": "stdout"
        },
        {
          "output_type": "stream",
          "text": [
            "50/50 [==============================] - 7s 132ms/step - loss: 0.9965 - acc: 0.6391\n",
            "Epoch 325/1000\n",
            "50/50 [==============================] - 7s 132ms/step - loss: 1.0175 - acc: 0.6219\n",
            "Epoch 326/1000\n",
            "50/50 [==============================] - 7s 132ms/step - loss: 0.9830 - acc: 0.6462\n",
            "Epoch 327/1000\n",
            "50/50 [==============================] - 7s 133ms/step - loss: 1.0034 - acc: 0.6312\n",
            "Epoch 328/1000\n",
            "50/50 [==============================] - 7s 131ms/step - loss: 1.0011 - acc: 0.6242\n",
            "Epoch 329/1000\n",
            "50/50 [==============================] - 7s 132ms/step - loss: 0.9762 - acc: 0.6303\n",
            "Epoch 330/1000\n"
          ],
          "name": "stdout"
        },
        {
          "output_type": "stream",
          "text": [
            "50/50 [==============================] - 7s 133ms/step - loss: 0.9881 - acc: 0.6353\n",
            "Epoch 331/1000\n",
            "50/50 [==============================] - 7s 133ms/step - loss: 1.0027 - acc: 0.6272\n",
            "Epoch 332/1000\n",
            "50/50 [==============================] - 7s 133ms/step - loss: 1.0029 - acc: 0.6206\n",
            "Epoch 333/1000\n",
            "50/50 [==============================] - 7s 133ms/step - loss: 0.9892 - acc: 0.6291\n",
            "Epoch 334/1000\n",
            "50/50 [==============================] - 7s 132ms/step - loss: 1.0114 - acc: 0.6234\n",
            "Epoch 335/1000\n",
            "50/50 [==============================] - 7s 132ms/step - loss: 0.9806 - acc: 0.6287\n",
            "Epoch 336/1000\n"
          ],
          "name": "stdout"
        },
        {
          "output_type": "stream",
          "text": [
            "50/50 [==============================] - 7s 132ms/step - loss: 0.9990 - acc: 0.6378\n",
            "Epoch 337/1000\n",
            "50/50 [==============================] - 7s 133ms/step - loss: 1.0070 - acc: 0.6319\n",
            "Epoch 338/1000\n",
            "50/50 [==============================] - 7s 132ms/step - loss: 1.0031 - acc: 0.6316\n",
            "Epoch 339/1000\n",
            "50/50 [==============================] - 7s 132ms/step - loss: 0.9665 - acc: 0.6441\n",
            "Epoch 340/1000\n",
            "50/50 [==============================] - 7s 133ms/step - loss: 1.0270 - acc: 0.6147\n",
            "Epoch 341/1000\n",
            "50/50 [==============================] - 7s 132ms/step - loss: 1.0084 - acc: 0.6212\n",
            "Epoch 342/1000\n"
          ],
          "name": "stdout"
        },
        {
          "output_type": "stream",
          "text": [
            "50/50 [==============================] - 7s 132ms/step - loss: 0.9889 - acc: 0.6328\n",
            "Epoch 343/1000\n",
            "50/50 [==============================] - 7s 132ms/step - loss: 0.9527 - acc: 0.6541\n",
            "Epoch 344/1000\n",
            "50/50 [==============================] - 7s 132ms/step - loss: 0.9869 - acc: 0.6278\n",
            "Epoch 345/1000\n",
            "50/50 [==============================] - 7s 132ms/step - loss: 0.9811 - acc: 0.6276\n",
            "Epoch 346/1000\n",
            "50/50 [==============================] - 7s 133ms/step - loss: 1.0138 - acc: 0.6306\n",
            "Epoch 347/1000\n",
            "50/50 [==============================] - 7s 132ms/step - loss: 0.9925 - acc: 0.6278\n",
            "Epoch 348/1000\n"
          ],
          "name": "stdout"
        },
        {
          "output_type": "stream",
          "text": [
            "50/50 [==============================] - 7s 132ms/step - loss: 0.9826 - acc: 0.6409\n",
            "Epoch 349/1000\n",
            "50/50 [==============================] - 7s 133ms/step - loss: 1.0052 - acc: 0.6256\n",
            "Epoch 350/1000\n",
            "50/50 [==============================] - 7s 132ms/step - loss: 1.0250 - acc: 0.6112\n",
            "Epoch 351/1000\n",
            "50/50 [==============================] - 7s 132ms/step - loss: 0.9908 - acc: 0.6359\n",
            "Epoch 352/1000\n",
            "50/50 [==============================] - 7s 132ms/step - loss: 0.9856 - acc: 0.6394\n",
            "Epoch 353/1000\n",
            "50/50 [==============================] - 7s 132ms/step - loss: 1.0059 - acc: 0.6319\n",
            "Epoch 354/1000\n"
          ],
          "name": "stdout"
        },
        {
          "output_type": "stream",
          "text": [
            "50/50 [==============================] - 7s 132ms/step - loss: 0.9877 - acc: 0.6294\n",
            "Epoch 355/1000\n",
            "50/50 [==============================] - 7s 132ms/step - loss: 1.0082 - acc: 0.6209\n",
            "Epoch 356/1000\n",
            "50/50 [==============================] - 7s 132ms/step - loss: 0.9754 - acc: 0.6231\n",
            "Epoch 357/1000\n",
            "50/50 [==============================] - 7s 132ms/step - loss: 0.9811 - acc: 0.6319\n",
            "Epoch 358/1000\n",
            "50/50 [==============================] - 7s 132ms/step - loss: 0.9747 - acc: 0.6344\n",
            "Epoch 359/1000\n",
            "50/50 [==============================] - 7s 132ms/step - loss: 0.9910 - acc: 0.6222\n",
            "Epoch 360/1000\n"
          ],
          "name": "stdout"
        },
        {
          "output_type": "stream",
          "text": [
            "50/50 [==============================] - 7s 132ms/step - loss: 0.9798 - acc: 0.6378\n",
            "Epoch 361/1000\n",
            "50/50 [==============================] - 7s 132ms/step - loss: 0.9940 - acc: 0.6272\n",
            "Epoch 362/1000\n",
            "50/50 [==============================] - 7s 132ms/step - loss: 0.9817 - acc: 0.6197\n",
            "Epoch 363/1000\n",
            "50/50 [==============================] - 7s 132ms/step - loss: 0.9716 - acc: 0.6394\n",
            "Epoch 364/1000\n",
            "50/50 [==============================] - 7s 131ms/step - loss: 0.9930 - acc: 0.6271\n",
            "Epoch 365/1000\n",
            "50/50 [==============================] - 7s 132ms/step - loss: 0.9514 - acc: 0.6478\n",
            "Epoch 366/1000\n"
          ],
          "name": "stdout"
        },
        {
          "output_type": "stream",
          "text": [
            "50/50 [==============================] - 7s 131ms/step - loss: 1.0033 - acc: 0.6284\n",
            "Epoch 367/1000\n",
            "50/50 [==============================] - 7s 132ms/step - loss: 0.9558 - acc: 0.6456\n",
            "Epoch 368/1000\n",
            "50/50 [==============================] - 7s 132ms/step - loss: 0.9573 - acc: 0.6497\n",
            "Epoch 369/1000\n",
            "50/50 [==============================] - 7s 132ms/step - loss: 0.9874 - acc: 0.6369\n",
            "Epoch 370/1000\n",
            "50/50 [==============================] - 7s 132ms/step - loss: 0.9794 - acc: 0.6275\n",
            "Epoch 371/1000\n",
            "50/50 [==============================] - 7s 131ms/step - loss: 0.9668 - acc: 0.6472\n",
            "Epoch 372/1000\n"
          ],
          "name": "stdout"
        },
        {
          "output_type": "stream",
          "text": [
            "50/50 [==============================] - 7s 132ms/step - loss: 0.9889 - acc: 0.6334\n",
            "Epoch 373/1000\n",
            "50/50 [==============================] - 7s 131ms/step - loss: 0.9893 - acc: 0.6316\n",
            "Epoch 374/1000\n",
            "50/50 [==============================] - 7s 133ms/step - loss: 1.0058 - acc: 0.6294\n",
            "Epoch 375/1000\n",
            "50/50 [==============================] - 7s 132ms/step - loss: 0.9929 - acc: 0.6209\n",
            "Epoch 376/1000\n",
            "50/50 [==============================] - 7s 132ms/step - loss: 0.9994 - acc: 0.6231\n",
            "Epoch 377/1000\n",
            "50/50 [==============================] - 7s 132ms/step - loss: 0.9831 - acc: 0.6434\n",
            "Epoch 378/1000\n"
          ],
          "name": "stdout"
        },
        {
          "output_type": "stream",
          "text": [
            "50/50 [==============================] - 7s 131ms/step - loss: 0.9985 - acc: 0.6300\n",
            "Epoch 379/1000\n",
            "50/50 [==============================] - 7s 132ms/step - loss: 0.9721 - acc: 0.6297\n",
            "Epoch 380/1000\n",
            "50/50 [==============================] - 7s 132ms/step - loss: 0.9896 - acc: 0.6403\n",
            "Epoch 381/1000\n",
            "50/50 [==============================] - 7s 131ms/step - loss: 0.9951 - acc: 0.6388\n",
            "Epoch 382/1000\n",
            "50/50 [==============================] - 7s 132ms/step - loss: 0.9652 - acc: 0.6422\n",
            "Epoch 383/1000\n",
            "50/50 [==============================] - 7s 133ms/step - loss: 0.9670 - acc: 0.6353\n",
            "Epoch 384/1000\n"
          ],
          "name": "stdout"
        },
        {
          "output_type": "stream",
          "text": [
            "50/50 [==============================] - 7s 132ms/step - loss: 0.9618 - acc: 0.6534\n",
            "Epoch 385/1000\n",
            "50/50 [==============================] - 7s 132ms/step - loss: 0.9706 - acc: 0.6419\n",
            "Epoch 386/1000\n",
            "50/50 [==============================] - 7s 132ms/step - loss: 0.9869 - acc: 0.6400\n",
            "Epoch 387/1000\n",
            "50/50 [==============================] - 6s 130ms/step - loss: 0.9765 - acc: 0.6370\n",
            "Epoch 388/1000\n",
            "50/50 [==============================] - 7s 131ms/step - loss: 0.9816 - acc: 0.6372\n",
            "Epoch 389/1000\n",
            "50/50 [==============================] - 7s 131ms/step - loss: 0.9615 - acc: 0.6425\n",
            "Epoch 390/1000\n"
          ],
          "name": "stdout"
        },
        {
          "output_type": "stream",
          "text": [
            "50/50 [==============================] - 7s 132ms/step - loss: 0.9870 - acc: 0.6338\n",
            "Epoch 391/1000\n",
            "50/50 [==============================] - 7s 132ms/step - loss: 0.9542 - acc: 0.6472\n",
            "Epoch 392/1000\n",
            "50/50 [==============================] - 7s 132ms/step - loss: 0.9676 - acc: 0.6341\n",
            "Epoch 393/1000\n",
            "50/50 [==============================] - 7s 132ms/step - loss: 0.9939 - acc: 0.6181\n",
            "Epoch 394/1000\n",
            "50/50 [==============================] - 7s 131ms/step - loss: 0.9575 - acc: 0.6416\n",
            "Epoch 395/1000\n",
            "50/50 [==============================] - 7s 132ms/step - loss: 0.9845 - acc: 0.6353\n",
            "Epoch 396/1000\n"
          ],
          "name": "stdout"
        },
        {
          "output_type": "stream",
          "text": [
            "50/50 [==============================] - 7s 131ms/step - loss: 0.9588 - acc: 0.6469\n",
            "Epoch 397/1000\n",
            "50/50 [==============================] - 7s 132ms/step - loss: 0.9877 - acc: 0.6241\n",
            "Epoch 398/1000\n",
            "50/50 [==============================] - 7s 132ms/step - loss: 0.9353 - acc: 0.6497\n",
            "Epoch 399/1000\n",
            "50/50 [==============================] - 7s 132ms/step - loss: 0.9525 - acc: 0.6594\n",
            "Epoch 400/1000\n",
            "50/50 [==============================] - 7s 132ms/step - loss: 0.9784 - acc: 0.6347\n",
            "Epoch 401/1000\n",
            "50/50 [==============================] - 7s 132ms/step - loss: 0.9790 - acc: 0.6369\n",
            "Epoch 402/1000\n"
          ],
          "name": "stdout"
        },
        {
          "output_type": "stream",
          "text": [
            "50/50 [==============================] - 7s 132ms/step - loss: 0.9686 - acc: 0.6444\n",
            "Epoch 403/1000\n",
            "50/50 [==============================] - 7s 132ms/step - loss: 0.9628 - acc: 0.6391\n",
            "Epoch 404/1000\n",
            "50/50 [==============================] - 7s 132ms/step - loss: 0.9695 - acc: 0.6350\n",
            "Epoch 405/1000\n",
            "50/50 [==============================] - 7s 131ms/step - loss: 0.9472 - acc: 0.6466\n",
            "Epoch 406/1000\n",
            "50/50 [==============================] - 7s 132ms/step - loss: 0.9866 - acc: 0.6359\n",
            "Epoch 407/1000\n",
            "50/50 [==============================] - 7s 132ms/step - loss: 0.9686 - acc: 0.6437\n",
            "Epoch 408/1000\n"
          ],
          "name": "stdout"
        },
        {
          "output_type": "stream",
          "text": [
            "50/50 [==============================] - 7s 132ms/step - loss: 0.9878 - acc: 0.6403\n",
            "Epoch 409/1000\n",
            "50/50 [==============================] - 7s 131ms/step - loss: 0.9498 - acc: 0.6462\n",
            "Epoch 410/1000\n",
            "50/50 [==============================] - 7s 132ms/step - loss: 0.9619 - acc: 0.6531\n",
            "Epoch 411/1000\n",
            "50/50 [==============================] - 7s 133ms/step - loss: 0.9419 - acc: 0.6572\n",
            "Epoch 412/1000\n",
            "50/50 [==============================] - 7s 132ms/step - loss: 0.9583 - acc: 0.6422\n",
            "Epoch 413/1000\n",
            "50/50 [==============================] - 7s 131ms/step - loss: 0.9420 - acc: 0.6521\n",
            "Epoch 414/1000\n"
          ],
          "name": "stdout"
        },
        {
          "output_type": "stream",
          "text": [
            "50/50 [==============================] - 7s 132ms/step - loss: 0.9813 - acc: 0.6334\n",
            "Epoch 415/1000\n",
            "50/50 [==============================] - 7s 132ms/step - loss: 0.9595 - acc: 0.6562\n",
            "Epoch 416/1000\n",
            "50/50 [==============================] - 7s 131ms/step - loss: 0.9547 - acc: 0.6416\n",
            "Epoch 417/1000\n",
            "50/50 [==============================] - 7s 132ms/step - loss: 0.9681 - acc: 0.6434\n",
            "Epoch 418/1000\n",
            "50/50 [==============================] - 7s 132ms/step - loss: 0.9528 - acc: 0.6450\n",
            "Epoch 419/1000\n",
            "50/50 [==============================] - 7s 133ms/step - loss: 0.9383 - acc: 0.6562\n",
            "Epoch 420/1000\n"
          ],
          "name": "stdout"
        },
        {
          "output_type": "stream",
          "text": [
            "50/50 [==============================] - 7s 132ms/step - loss: 0.9976 - acc: 0.6238\n",
            "Epoch 421/1000\n",
            "50/50 [==============================] - 7s 132ms/step - loss: 0.9347 - acc: 0.6497\n",
            "Epoch 422/1000\n",
            "50/50 [==============================] - 7s 132ms/step - loss: 0.9884 - acc: 0.6262\n",
            "Epoch 423/1000\n",
            "50/50 [==============================] - 7s 132ms/step - loss: 0.9475 - acc: 0.6469\n",
            "Epoch 424/1000\n",
            "50/50 [==============================] - 7s 132ms/step - loss: 0.9660 - acc: 0.6459\n",
            "Epoch 425/1000\n",
            "50/50 [==============================] - 7s 132ms/step - loss: 0.9733 - acc: 0.6428\n",
            "Epoch 426/1000\n"
          ],
          "name": "stdout"
        },
        {
          "output_type": "stream",
          "text": [
            "50/50 [==============================] - 7s 132ms/step - loss: 0.9416 - acc: 0.6494\n",
            "Epoch 427/1000\n",
            "50/50 [==============================] - 7s 132ms/step - loss: 0.9236 - acc: 0.6488\n",
            "Epoch 428/1000\n",
            "50/50 [==============================] - 7s 132ms/step - loss: 0.9225 - acc: 0.6556\n",
            "Epoch 429/1000\n",
            "50/50 [==============================] - 7s 132ms/step - loss: 0.9309 - acc: 0.6562\n",
            "Epoch 430/1000\n",
            "50/50 [==============================] - 7s 132ms/step - loss: 0.9410 - acc: 0.6437\n",
            "Epoch 431/1000\n",
            "50/50 [==============================] - 7s 131ms/step - loss: 0.9466 - acc: 0.6450\n",
            "Epoch 432/1000\n"
          ],
          "name": "stdout"
        },
        {
          "output_type": "stream",
          "text": [
            "50/50 [==============================] - 7s 132ms/step - loss: 0.9396 - acc: 0.6594\n",
            "Epoch 433/1000\n",
            "50/50 [==============================] - 7s 132ms/step - loss: 0.9646 - acc: 0.6397\n",
            "Epoch 434/1000\n",
            "50/50 [==============================] - 7s 132ms/step - loss: 0.9623 - acc: 0.6422\n",
            "Epoch 435/1000\n",
            "50/50 [==============================] - 7s 132ms/step - loss: 0.9864 - acc: 0.6353\n",
            "Epoch 436/1000\n",
            "50/50 [==============================] - 7s 132ms/step - loss: 0.9431 - acc: 0.6450\n",
            "Epoch 437/1000\n",
            "50/50 [==============================] - 7s 132ms/step - loss: 0.9287 - acc: 0.6503\n",
            "Epoch 438/1000\n"
          ],
          "name": "stdout"
        },
        {
          "output_type": "stream",
          "text": [
            "50/50 [==============================] - 7s 132ms/step - loss: 0.9313 - acc: 0.6587\n",
            "Epoch 439/1000\n",
            "50/50 [==============================] - 7s 132ms/step - loss: 0.9367 - acc: 0.6613\n",
            "Epoch 440/1000\n",
            "50/50 [==============================] - 7s 132ms/step - loss: 0.9782 - acc: 0.6481\n",
            "Epoch 441/1000\n",
            "50/50 [==============================] - 7s 132ms/step - loss: 0.9404 - acc: 0.6478\n",
            "Epoch 442/1000\n",
            "50/50 [==============================] - 7s 132ms/step - loss: 0.9777 - acc: 0.6372\n",
            "Epoch 443/1000\n",
            "50/50 [==============================] - 7s 132ms/step - loss: 0.9222 - acc: 0.6541\n",
            "Epoch 444/1000\n"
          ],
          "name": "stdout"
        },
        {
          "output_type": "stream",
          "text": [
            "50/50 [==============================] - 7s 132ms/step - loss: 0.9334 - acc: 0.6356\n",
            "Epoch 445/1000\n",
            "50/50 [==============================] - 7s 131ms/step - loss: 0.9399 - acc: 0.6574\n",
            "Epoch 446/1000\n",
            "50/50 [==============================] - 7s 132ms/step - loss: 0.9478 - acc: 0.6416\n",
            "Epoch 447/1000\n",
            "50/50 [==============================] - 7s 132ms/step - loss: 0.9256 - acc: 0.6472\n",
            "Epoch 448/1000\n",
            "50/50 [==============================] - 7s 131ms/step - loss: 0.9828 - acc: 0.6447\n",
            "Epoch 449/1000\n",
            "50/50 [==============================] - 7s 131ms/step - loss: 0.9209 - acc: 0.6544\n",
            "Epoch 450/1000\n"
          ],
          "name": "stdout"
        },
        {
          "output_type": "stream",
          "text": [
            "50/50 [==============================] - 7s 131ms/step - loss: 0.9490 - acc: 0.6494\n",
            "Epoch 451/1000\n",
            "50/50 [==============================] - 7s 132ms/step - loss: 0.8938 - acc: 0.6744\n",
            "Epoch 452/1000\n",
            "50/50 [==============================] - 7s 131ms/step - loss: 0.9445 - acc: 0.6444\n",
            "Epoch 453/1000\n",
            "50/50 [==============================] - 7s 131ms/step - loss: 0.9496 - acc: 0.6594\n",
            "Epoch 454/1000\n",
            "50/50 [==============================] - 7s 131ms/step - loss: 0.9381 - acc: 0.6419\n",
            "Epoch 455/1000\n",
            "50/50 [==============================] - 7s 132ms/step - loss: 0.9116 - acc: 0.6731\n",
            "Epoch 456/1000\n"
          ],
          "name": "stdout"
        },
        {
          "output_type": "stream",
          "text": [
            "50/50 [==============================] - 7s 131ms/step - loss: 0.9794 - acc: 0.6456\n",
            "Epoch 457/1000\n",
            "50/50 [==============================] - 7s 132ms/step - loss: 0.9114 - acc: 0.6641\n",
            "Epoch 458/1000\n",
            "50/50 [==============================] - 7s 131ms/step - loss: 0.9646 - acc: 0.6434\n",
            "Epoch 459/1000\n",
            "50/50 [==============================] - 7s 132ms/step - loss: 0.9277 - acc: 0.6509\n",
            "Epoch 460/1000\n",
            "50/50 [==============================] - 7s 132ms/step - loss: 0.9284 - acc: 0.6584\n",
            "Epoch 461/1000\n",
            "50/50 [==============================] - 7s 131ms/step - loss: 0.9483 - acc: 0.6412\n",
            "Epoch 462/1000"
          ],
          "name": "stdout"
        },
        {
          "output_type": "stream",
          "text": [
            "\n",
            "50/50 [==============================] - 7s 133ms/step - loss: 0.9414 - acc: 0.6416\n",
            "Epoch 463/1000\n",
            "50/50 [==============================] - 7s 131ms/step - loss: 0.9467 - acc: 0.6500\n",
            "Epoch 464/1000\n",
            "50/50 [==============================] - 7s 132ms/step - loss: 0.9448 - acc: 0.6428\n",
            "Epoch 465/1000\n",
            "50/50 [==============================] - 7s 132ms/step - loss: 0.9540 - acc: 0.6397\n",
            "Epoch 466/1000\n",
            "50/50 [==============================] - 7s 131ms/step - loss: 0.9461 - acc: 0.6475\n",
            "Epoch 467/1000\n",
            "50/50 [==============================] - 7s 131ms/step - loss: 0.9219 - acc: 0.6525\n",
            "Epoch 468/1000\n"
          ],
          "name": "stdout"
        },
        {
          "output_type": "stream",
          "text": [
            "50/50 [==============================] - 7s 132ms/step - loss: 0.9045 - acc: 0.6619\n",
            "Epoch 469/1000\n",
            "50/50 [==============================] - 7s 132ms/step - loss: 0.9256 - acc: 0.6506\n",
            "Epoch 470/1000\n",
            "50/50 [==============================] - 7s 132ms/step - loss: 0.9325 - acc: 0.6522\n",
            "Epoch 471/1000\n",
            "50/50 [==============================] - 7s 131ms/step - loss: 0.9349 - acc: 0.6478\n",
            "Epoch 472/1000\n",
            "50/50 [==============================] - 7s 132ms/step - loss: 0.9407 - acc: 0.6531\n",
            "Epoch 473/1000\n",
            "50/50 [==============================] - 7s 131ms/step - loss: 0.9145 - acc: 0.6647\n",
            "Epoch 474/1000\n"
          ],
          "name": "stdout"
        },
        {
          "output_type": "stream",
          "text": [
            "50/50 [==============================] - 7s 132ms/step - loss: 0.9301 - acc: 0.6569\n",
            "Epoch 475/1000\n",
            "50/50 [==============================] - 7s 132ms/step - loss: 0.9055 - acc: 0.6578\n",
            "Epoch 476/1000\n",
            "50/50 [==============================] - 7s 132ms/step - loss: 0.9251 - acc: 0.6538\n",
            "Epoch 477/1000\n",
            "50/50 [==============================] - 7s 132ms/step - loss: 0.9003 - acc: 0.6603\n",
            "Epoch 478/1000\n",
            "50/50 [==============================] - 7s 132ms/step - loss: 0.9347 - acc: 0.6516\n",
            "Epoch 479/1000\n",
            "50/50 [==============================] - 7s 132ms/step - loss: 0.8978 - acc: 0.6628\n",
            "Epoch 480/1000\n"
          ],
          "name": "stdout"
        },
        {
          "output_type": "stream",
          "text": [
            "50/50 [==============================] - 7s 131ms/step - loss: 0.9403 - acc: 0.6475\n",
            "Epoch 481/1000\n",
            "50/50 [==============================] - 7s 132ms/step - loss: 0.9216 - acc: 0.6509\n",
            "Epoch 482/1000\n",
            "50/50 [==============================] - 7s 132ms/step - loss: 0.9523 - acc: 0.6550\n",
            "Epoch 483/1000\n",
            "50/50 [==============================] - 7s 132ms/step - loss: 0.9301 - acc: 0.6500\n",
            "Epoch 484/1000\n",
            "50/50 [==============================] - 7s 131ms/step - loss: 0.9508 - acc: 0.6381\n",
            "Epoch 485/1000\n",
            "50/50 [==============================] - 7s 132ms/step - loss: 0.9630 - acc: 0.6569\n",
            "Epoch 486/1000\n"
          ],
          "name": "stdout"
        },
        {
          "output_type": "stream",
          "text": [
            "50/50 [==============================] - 7s 133ms/step - loss: 0.9244 - acc: 0.6503\n",
            "Epoch 487/1000\n",
            "50/50 [==============================] - 7s 132ms/step - loss: 0.9166 - acc: 0.6562\n",
            "Epoch 488/1000\n",
            "50/50 [==============================] - 7s 132ms/step - loss: 0.8924 - acc: 0.6631\n",
            "Epoch 489/1000\n",
            "50/50 [==============================] - 7s 132ms/step - loss: 0.9365 - acc: 0.6538\n",
            "Epoch 490/1000\n",
            "50/50 [==============================] - 7s 131ms/step - loss: 0.9021 - acc: 0.6553\n",
            "Epoch 491/1000\n",
            "50/50 [==============================] - 7s 131ms/step - loss: 0.9627 - acc: 0.6419\n",
            "Epoch 492/1000\n"
          ],
          "name": "stdout"
        },
        {
          "output_type": "stream",
          "text": [
            "50/50 [==============================] - 7s 132ms/step - loss: 0.9295 - acc: 0.6534\n",
            "Epoch 493/1000\n",
            "50/50 [==============================] - 7s 132ms/step - loss: 0.9288 - acc: 0.6494\n",
            "Epoch 494/1000\n",
            "50/50 [==============================] - 7s 132ms/step - loss: 0.9295 - acc: 0.6506\n",
            "Epoch 495/1000\n",
            "50/50 [==============================] - 7s 132ms/step - loss: 0.9167 - acc: 0.6597\n",
            "Epoch 496/1000\n",
            "50/50 [==============================] - 7s 132ms/step - loss: 0.9136 - acc: 0.6591\n",
            "Epoch 497/1000\n",
            "50/50 [==============================] - 7s 132ms/step - loss: 0.9136 - acc: 0.6600\n",
            "Epoch 498/1000\n"
          ],
          "name": "stdout"
        },
        {
          "output_type": "stream",
          "text": [
            "50/50 [==============================] - 7s 132ms/step - loss: 0.9259 - acc: 0.6587\n",
            "Epoch 499/1000\n",
            "50/50 [==============================] - 7s 133ms/step - loss: 0.8913 - acc: 0.6606\n",
            "Epoch 500/1000\n",
            "50/50 [==============================] - 7s 132ms/step - loss: 0.9355 - acc: 0.6581\n",
            "Epoch 501/1000\n",
            "50/50 [==============================] - 6s 130ms/step - loss: 0.9349 - acc: 0.6633\n",
            "Epoch 502/1000\n",
            "50/50 [==============================] - 7s 133ms/step - loss: 0.9414 - acc: 0.6497\n",
            "Epoch 503/1000\n",
            "50/50 [==============================] - 7s 132ms/step - loss: 0.9233 - acc: 0.6572\n",
            "Epoch 504/1000\n"
          ],
          "name": "stdout"
        },
        {
          "output_type": "stream",
          "text": [
            "50/50 [==============================] - 7s 132ms/step - loss: 0.8778 - acc: 0.6750\n",
            "Epoch 505/1000\n",
            "50/50 [==============================] - 7s 132ms/step - loss: 0.9306 - acc: 0.6572\n",
            "Epoch 506/1000\n",
            "50/50 [==============================] - 7s 132ms/step - loss: 0.8956 - acc: 0.6706\n",
            "Epoch 507/1000\n",
            "50/50 [==============================] - 7s 131ms/step - loss: 0.9010 - acc: 0.6634\n",
            "Epoch 508/1000\n",
            "50/50 [==============================] - 7s 131ms/step - loss: 0.8961 - acc: 0.6781\n",
            "Epoch 509/1000\n",
            "50/50 [==============================] - 7s 132ms/step - loss: 0.9125 - acc: 0.6616\n",
            "Epoch 510/1000\n"
          ],
          "name": "stdout"
        },
        {
          "output_type": "stream",
          "text": [
            "50/50 [==============================] - 7s 132ms/step - loss: 0.9454 - acc: 0.6572\n",
            "Epoch 511/1000\n",
            "50/50 [==============================] - 7s 132ms/step - loss: 0.9164 - acc: 0.6456\n",
            "Epoch 512/1000\n",
            "50/50 [==============================] - 7s 132ms/step - loss: 0.9425 - acc: 0.6534\n",
            "Epoch 513/1000\n",
            "50/50 [==============================] - 7s 133ms/step - loss: 0.9116 - acc: 0.6506\n",
            "Epoch 514/1000\n",
            "50/50 [==============================] - 7s 132ms/step - loss: 0.8985 - acc: 0.6613\n",
            "Epoch 515/1000\n",
            "50/50 [==============================] - 7s 132ms/step - loss: 0.9140 - acc: 0.6578\n",
            "Epoch 516/1000\n"
          ],
          "name": "stdout"
        },
        {
          "output_type": "stream",
          "text": [
            "50/50 [==============================] - 7s 133ms/step - loss: 0.9097 - acc: 0.6694\n",
            "Epoch 517/1000\n",
            "50/50 [==============================] - 7s 132ms/step - loss: 0.9473 - acc: 0.6422\n",
            "Epoch 518/1000\n",
            "50/50 [==============================] - 7s 132ms/step - loss: 0.9136 - acc: 0.6587\n",
            "Epoch 519/1000\n",
            "50/50 [==============================] - 7s 132ms/step - loss: 0.8972 - acc: 0.6591\n",
            "Epoch 520/1000\n",
            "50/50 [==============================] - 7s 133ms/step - loss: 0.9448 - acc: 0.6488\n",
            "Epoch 521/1000\n",
            "50/50 [==============================] - 7s 130ms/step - loss: 0.9022 - acc: 0.6587\n",
            "Epoch 522/1000\n",
            " 1/50 [..............................] - ETA: 6s - loss: 0.8120 - acc: 0.7188"
          ],
          "name": "stdout"
        },
        {
          "output_type": "stream",
          "text": [
            "50/50 [==============================] - 7s 132ms/step - loss: 0.9087 - acc: 0.6509\n",
            "Epoch 523/1000\n",
            "50/50 [==============================] - 7s 132ms/step - loss: 0.9039 - acc: 0.6516\n",
            "Epoch 524/1000\n",
            "50/50 [==============================] - 7s 132ms/step - loss: 0.9265 - acc: 0.6550\n",
            "Epoch 525/1000\n",
            "50/50 [==============================] - 7s 132ms/step - loss: 0.8970 - acc: 0.6644\n",
            "Epoch 526/1000\n",
            "50/50 [==============================] - 7s 132ms/step - loss: 0.8859 - acc: 0.6719\n",
            "Epoch 527/1000\n",
            "50/50 [==============================] - 7s 133ms/step - loss: 0.8935 - acc: 0.6675\n",
            "Epoch 528/1000\n"
          ],
          "name": "stdout"
        },
        {
          "output_type": "stream",
          "text": [
            "50/50 [==============================] - 7s 132ms/step - loss: 0.8814 - acc: 0.6688\n",
            "Epoch 529/1000\n",
            "50/50 [==============================] - 7s 132ms/step - loss: 0.9075 - acc: 0.6587\n",
            "Epoch 530/1000\n",
            "50/50 [==============================] - 7s 132ms/step - loss: 0.9107 - acc: 0.6594\n",
            "Epoch 531/1000\n",
            "50/50 [==============================] - 7s 132ms/step - loss: 0.8826 - acc: 0.6681\n",
            "Epoch 532/1000\n",
            "50/50 [==============================] - 7s 132ms/step - loss: 0.8878 - acc: 0.6728\n",
            "Epoch 533/1000\n",
            "50/50 [==============================] - 7s 132ms/step - loss: 0.8818 - acc: 0.6772\n",
            "Epoch 534/1000\n"
          ],
          "name": "stdout"
        },
        {
          "output_type": "stream",
          "text": [
            "50/50 [==============================] - 7s 131ms/step - loss: 0.9000 - acc: 0.6634\n",
            "Epoch 535/1000\n",
            "50/50 [==============================] - 7s 132ms/step - loss: 0.8840 - acc: 0.6775\n",
            "Epoch 536/1000\n",
            "50/50 [==============================] - 7s 132ms/step - loss: 0.9027 - acc: 0.6750\n",
            "Epoch 537/1000\n",
            "50/50 [==============================] - 7s 132ms/step - loss: 0.9182 - acc: 0.6597\n",
            "Epoch 538/1000\n",
            "50/50 [==============================] - 7s 132ms/step - loss: 0.9063 - acc: 0.6719\n",
            "Epoch 539/1000\n",
            "50/50 [==============================] - 7s 132ms/step - loss: 0.8935 - acc: 0.6644\n",
            "Epoch 540/1000\n"
          ],
          "name": "stdout"
        },
        {
          "output_type": "stream",
          "text": [
            "50/50 [==============================] - 7s 132ms/step - loss: 0.8733 - acc: 0.6794\n",
            "Epoch 541/1000\n",
            "50/50 [==============================] - 7s 132ms/step - loss: 0.8667 - acc: 0.6800\n",
            "Epoch 542/1000\n",
            "50/50 [==============================] - 7s 132ms/step - loss: 0.8920 - acc: 0.6650\n",
            "Epoch 543/1000\n",
            "50/50 [==============================] - 7s 132ms/step - loss: 0.8897 - acc: 0.6681\n",
            "Epoch 544/1000\n",
            "50/50 [==============================] - 7s 132ms/step - loss: 0.9147 - acc: 0.6575\n",
            "Epoch 545/1000\n",
            "50/50 [==============================] - 7s 132ms/step - loss: 0.8965 - acc: 0.6719\n",
            "Epoch 546/1000\n"
          ],
          "name": "stdout"
        },
        {
          "output_type": "stream",
          "text": [
            "50/50 [==============================] - 7s 132ms/step - loss: 0.8970 - acc: 0.6688\n",
            "Epoch 547/1000\n",
            "50/50 [==============================] - 7s 132ms/step - loss: 0.8964 - acc: 0.6684\n",
            "Epoch 548/1000\n",
            "50/50 [==============================] - 7s 131ms/step - loss: 0.8834 - acc: 0.6726\n",
            "Epoch 549/1000\n",
            "50/50 [==============================] - 7s 132ms/step - loss: 0.9156 - acc: 0.6584\n",
            "Epoch 550/1000\n",
            "50/50 [==============================] - 7s 132ms/step - loss: 0.8940 - acc: 0.6594\n",
            "Epoch 551/1000\n",
            "50/50 [==============================] - 7s 132ms/step - loss: 0.9084 - acc: 0.6744\n",
            "Epoch 552/1000\n"
          ],
          "name": "stdout"
        },
        {
          "output_type": "stream",
          "text": [
            "50/50 [==============================] - 7s 132ms/step - loss: 0.8825 - acc: 0.6591\n",
            "Epoch 553/1000\n",
            "50/50 [==============================] - 7s 131ms/step - loss: 0.9146 - acc: 0.6703\n",
            "Epoch 554/1000\n",
            "50/50 [==============================] - 7s 133ms/step - loss: 0.9257 - acc: 0.6647\n",
            "Epoch 555/1000\n",
            "50/50 [==============================] - 7s 132ms/step - loss: 0.9071 - acc: 0.6637\n",
            "Epoch 556/1000\n",
            "50/50 [==============================] - 7s 132ms/step - loss: 0.9112 - acc: 0.6625\n",
            "Epoch 557/1000\n",
            "50/50 [==============================] - 7s 131ms/step - loss: 0.9067 - acc: 0.6663\n",
            "Epoch 558/1000\n"
          ],
          "name": "stdout"
        },
        {
          "output_type": "stream",
          "text": [
            "50/50 [==============================] - 7s 132ms/step - loss: 0.8740 - acc: 0.6797\n",
            "Epoch 559/1000\n",
            "50/50 [==============================] - 7s 130ms/step - loss: 0.9233 - acc: 0.6523\n",
            "Epoch 560/1000\n",
            "50/50 [==============================] - 7s 132ms/step - loss: 0.8749 - acc: 0.6666\n",
            "Epoch 561/1000\n",
            "50/50 [==============================] - 7s 132ms/step - loss: 0.8916 - acc: 0.6672\n",
            "Epoch 562/1000\n",
            "50/50 [==============================] - 7s 132ms/step - loss: 0.9411 - acc: 0.6472\n",
            "Epoch 563/1000\n",
            "50/50 [==============================] - 7s 132ms/step - loss: 0.8773 - acc: 0.6834\n",
            "Epoch 564/1000\n"
          ],
          "name": "stdout"
        },
        {
          "output_type": "stream",
          "text": [
            "50/50 [==============================] - 7s 132ms/step - loss: 0.9006 - acc: 0.6569\n",
            "Epoch 565/1000\n",
            "50/50 [==============================] - 7s 132ms/step - loss: 0.8948 - acc: 0.6659\n",
            "Epoch 566/1000\n",
            "50/50 [==============================] - 7s 132ms/step - loss: 0.8722 - acc: 0.6756\n",
            "Epoch 567/1000\n",
            "50/50 [==============================] - 7s 132ms/step - loss: 0.8856 - acc: 0.6741\n",
            "Epoch 568/1000\n",
            "50/50 [==============================] - 7s 132ms/step - loss: 0.8965 - acc: 0.6606\n",
            "Epoch 569/1000\n",
            "50/50 [==============================] - 7s 132ms/step - loss: 0.8953 - acc: 0.6781\n",
            "Epoch 570/1000\n"
          ],
          "name": "stdout"
        },
        {
          "output_type": "stream",
          "text": [
            "50/50 [==============================] - 7s 133ms/step - loss: 0.8932 - acc: 0.6725\n",
            "Epoch 571/1000\n",
            "50/50 [==============================] - 7s 132ms/step - loss: 0.8694 - acc: 0.6747\n",
            "Epoch 572/1000\n",
            "50/50 [==============================] - 7s 132ms/step - loss: 0.8869 - acc: 0.6684\n",
            "Epoch 573/1000\n",
            "50/50 [==============================] - 7s 133ms/step - loss: 0.8459 - acc: 0.6894\n",
            "Epoch 574/1000\n",
            "50/50 [==============================] - 7s 132ms/step - loss: 0.8827 - acc: 0.6803\n",
            "Epoch 575/1000\n",
            "50/50 [==============================] - 7s 132ms/step - loss: 0.9171 - acc: 0.6631\n",
            "Epoch 576/1000\n"
          ],
          "name": "stdout"
        },
        {
          "output_type": "stream",
          "text": [
            "50/50 [==============================] - 7s 132ms/step - loss: 0.8679 - acc: 0.6737\n",
            "Epoch 577/1000\n",
            "50/50 [==============================] - 7s 132ms/step - loss: 0.9091 - acc: 0.6688\n",
            "Epoch 578/1000\n",
            "50/50 [==============================] - 7s 132ms/step - loss: 0.8612 - acc: 0.6850\n",
            "Epoch 579/1000\n",
            "50/50 [==============================] - 7s 132ms/step - loss: 0.8848 - acc: 0.6809\n",
            "Epoch 580/1000\n",
            "50/50 [==============================] - 7s 132ms/step - loss: 0.9030 - acc: 0.6613\n",
            "Epoch 581/1000\n",
            "50/50 [==============================] - 7s 132ms/step - loss: 0.8781 - acc: 0.6705\n"
          ],
          "name": "stdout"
        },
        {
          "output_type": "stream",
          "text": [
            "Epoch 582/1000\n",
            "50/50 [==============================] - 7s 133ms/step - loss: 0.8989 - acc: 0.6688\n",
            "Epoch 583/1000\n",
            "50/50 [==============================] - 7s 132ms/step - loss: 0.8697 - acc: 0.6750\n",
            "Epoch 584/1000\n",
            "50/50 [==============================] - 7s 132ms/step - loss: 0.8957 - acc: 0.6606\n",
            "Epoch 585/1000\n",
            "50/50 [==============================] - 7s 132ms/step - loss: 0.8584 - acc: 0.6794\n",
            "Epoch 586/1000\n",
            "50/50 [==============================] - 7s 133ms/step - loss: 0.8577 - acc: 0.6775\n",
            "Epoch 587/1000\n",
            "44/50 [=========================>....] - ETA: 0s - loss: 0.8688 - acc: 0.6815"
          ],
          "name": "stdout"
        },
        {
          "output_type": "stream",
          "text": [
            "50/50 [==============================] - 7s 132ms/step - loss: 0.8599 - acc: 0.6816\n",
            "Epoch 588/1000\n",
            "50/50 [==============================] - 7s 132ms/step - loss: 0.8989 - acc: 0.6725\n",
            "Epoch 589/1000\n",
            "50/50 [==============================] - 7s 132ms/step - loss: 0.8916 - acc: 0.6694\n",
            "Epoch 590/1000\n",
            "50/50 [==============================] - 7s 133ms/step - loss: 0.8923 - acc: 0.6569\n",
            "Epoch 591/1000\n",
            "50/50 [==============================] - 7s 132ms/step - loss: 0.8747 - acc: 0.6822\n",
            "Epoch 592/1000\n",
            "50/50 [==============================] - 7s 132ms/step - loss: 0.8863 - acc: 0.6672\n",
            "Epoch 593/1000\n",
            " 5/50 [==>...........................] - ETA: 5s - loss: 0.8785 - acc: 0.6875"
          ],
          "name": "stdout"
        },
        {
          "output_type": "stream",
          "text": [
            "50/50 [==============================] - 7s 132ms/step - loss: 0.8679 - acc: 0.6787\n",
            "Epoch 594/1000\n",
            "50/50 [==============================] - 7s 131ms/step - loss: 0.8783 - acc: 0.6847\n",
            "Epoch 595/1000\n",
            "50/50 [==============================] - 7s 132ms/step - loss: 0.8992 - acc: 0.6691\n",
            "Epoch 596/1000\n",
            "50/50 [==============================] - 7s 132ms/step - loss: 0.8787 - acc: 0.6853\n",
            "Epoch 597/1000\n",
            "50/50 [==============================] - 7s 132ms/step - loss: 0.8835 - acc: 0.6656\n",
            "Epoch 598/1000\n",
            "50/50 [==============================] - 7s 132ms/step - loss: 0.8722 - acc: 0.6759\n",
            "Epoch 599/1000\n",
            " 1/50 [..............................] - ETA: 6s - loss: 0.8152 - acc: 0.7031"
          ],
          "name": "stdout"
        },
        {
          "output_type": "stream",
          "text": [
            "50/50 [==============================] - 7s 132ms/step - loss: 0.8759 - acc: 0.6825\n",
            "Epoch 600/1000\n",
            "50/50 [==============================] - 7s 133ms/step - loss: 0.9102 - acc: 0.6581\n",
            "Epoch 601/1000\n",
            "50/50 [==============================] - 7s 132ms/step - loss: 0.8517 - acc: 0.6925\n",
            "Epoch 602/1000\n",
            "50/50 [==============================] - 7s 132ms/step - loss: 0.8538 - acc: 0.6869\n",
            "Epoch 603/1000\n",
            "50/50 [==============================] - 7s 131ms/step - loss: 0.8677 - acc: 0.6778\n",
            "Epoch 604/1000\n",
            "50/50 [==============================] - 7s 133ms/step - loss: 0.8874 - acc: 0.6747\n",
            "Epoch 605/1000\n"
          ],
          "name": "stdout"
        },
        {
          "output_type": "stream",
          "text": [
            "50/50 [==============================] - 7s 132ms/step - loss: 0.8741 - acc: 0.6591\n",
            "Epoch 606/1000\n",
            "50/50 [==============================] - 7s 132ms/step - loss: 0.8480 - acc: 0.6895\n",
            "Epoch 607/1000\n",
            "50/50 [==============================] - 7s 132ms/step - loss: 0.8580 - acc: 0.6697\n",
            "Epoch 608/1000\n",
            "50/50 [==============================] - 7s 133ms/step - loss: 0.8538 - acc: 0.6850\n",
            "Epoch 609/1000\n",
            "50/50 [==============================] - 7s 133ms/step - loss: 0.9123 - acc: 0.6653\n",
            "Epoch 610/1000\n",
            "50/50 [==============================] - 7s 132ms/step - loss: 0.8990 - acc: 0.6728\n",
            "Epoch 611/1000\n"
          ],
          "name": "stdout"
        },
        {
          "output_type": "stream",
          "text": [
            "50/50 [==============================] - 7s 132ms/step - loss: 0.8855 - acc: 0.6569\n",
            "Epoch 612/1000\n",
            "50/50 [==============================] - 7s 132ms/step - loss: 0.8432 - acc: 0.6831\n",
            "Epoch 613/1000\n",
            "50/50 [==============================] - 7s 132ms/step - loss: 0.9013 - acc: 0.6713\n",
            "Epoch 614/1000\n",
            "50/50 [==============================] - 7s 132ms/step - loss: 0.8516 - acc: 0.6869\n",
            "Epoch 615/1000\n",
            "50/50 [==============================] - 7s 132ms/step - loss: 0.8804 - acc: 0.6756\n",
            "Epoch 616/1000\n",
            "50/50 [==============================] - 7s 131ms/step - loss: 0.8870 - acc: 0.6743\n",
            "Epoch 617/1000\n"
          ],
          "name": "stdout"
        },
        {
          "output_type": "stream",
          "text": [
            "50/50 [==============================] - 7s 133ms/step - loss: 0.8817 - acc: 0.6691\n",
            "Epoch 618/1000\n",
            "50/50 [==============================] - 7s 132ms/step - loss: 0.8779 - acc: 0.6747\n",
            "Epoch 619/1000\n",
            "50/50 [==============================] - 7s 132ms/step - loss: 0.8698 - acc: 0.6775\n",
            "Epoch 620/1000\n",
            "50/50 [==============================] - 7s 132ms/step - loss: 0.8463 - acc: 0.6884\n",
            "Epoch 621/1000\n",
            "50/50 [==============================] - 7s 132ms/step - loss: 0.8540 - acc: 0.6800\n",
            "Epoch 622/1000\n",
            "50/50 [==============================] - 7s 132ms/step - loss: 0.8571 - acc: 0.6859\n",
            "Epoch 623/1000\n"
          ],
          "name": "stdout"
        },
        {
          "output_type": "stream",
          "text": [
            "50/50 [==============================] - 7s 132ms/step - loss: 0.8840 - acc: 0.6694\n",
            "Epoch 624/1000\n",
            "50/50 [==============================] - 7s 132ms/step - loss: 0.8806 - acc: 0.6700\n",
            "Epoch 625/1000\n",
            "50/50 [==============================] - 7s 131ms/step - loss: 0.8532 - acc: 0.6816\n",
            "Epoch 626/1000\n",
            "50/50 [==============================] - 7s 133ms/step - loss: 0.8416 - acc: 0.6859\n",
            "Epoch 627/1000\n",
            "50/50 [==============================] - 7s 132ms/step - loss: 0.8598 - acc: 0.6784\n",
            "Epoch 628/1000\n",
            "50/50 [==============================] - 7s 132ms/step - loss: 0.8564 - acc: 0.6838\n",
            "Epoch 629/1000\n"
          ],
          "name": "stdout"
        },
        {
          "output_type": "stream",
          "text": [
            "50/50 [==============================] - 7s 131ms/step - loss: 0.8872 - acc: 0.6734\n",
            "Epoch 630/1000\n",
            "50/50 [==============================] - 7s 131ms/step - loss: 0.8642 - acc: 0.6741\n",
            "Epoch 631/1000\n",
            "50/50 [==============================] - 7s 131ms/step - loss: 0.8546 - acc: 0.6816\n",
            "Epoch 632/1000\n",
            "50/50 [==============================] - 7s 132ms/step - loss: 0.8324 - acc: 0.6875\n",
            "Epoch 633/1000\n",
            "50/50 [==============================] - 7s 132ms/step - loss: 0.8919 - acc: 0.6706\n",
            "Epoch 634/1000\n",
            "50/50 [==============================] - 7s 132ms/step - loss: 0.8614 - acc: 0.6931\n",
            "Epoch 635/1000\n"
          ],
          "name": "stdout"
        },
        {
          "output_type": "stream",
          "text": [
            "50/50 [==============================] - 7s 132ms/step - loss: 0.8596 - acc: 0.6775\n",
            "Epoch 636/1000\n",
            "50/50 [==============================] - 7s 132ms/step - loss: 0.8659 - acc: 0.6822\n",
            "Epoch 637/1000\n",
            "50/50 [==============================] - 7s 132ms/step - loss: 0.8355 - acc: 0.6925\n",
            "Epoch 638/1000\n",
            "50/50 [==============================] - 7s 132ms/step - loss: 0.8558 - acc: 0.6819\n",
            "Epoch 639/1000\n",
            "50/50 [==============================] - 7s 131ms/step - loss: 0.8395 - acc: 0.6853\n",
            "Epoch 640/1000\n",
            "50/50 [==============================] - 7s 132ms/step - loss: 0.9231 - acc: 0.6634\n",
            "Epoch 641/1000\n"
          ],
          "name": "stdout"
        },
        {
          "output_type": "stream",
          "text": [
            "50/50 [==============================] - 7s 131ms/step - loss: 0.8622 - acc: 0.6772\n",
            "Epoch 642/1000\n",
            "50/50 [==============================] - 7s 132ms/step - loss: 0.8593 - acc: 0.6716\n",
            "Epoch 643/1000\n",
            "50/50 [==============================] - 7s 131ms/step - loss: 0.8414 - acc: 0.6844\n",
            "Epoch 644/1000\n",
            "50/50 [==============================] - 7s 131ms/step - loss: 0.8496 - acc: 0.6881\n",
            "Epoch 645/1000\n",
            "50/50 [==============================] - 7s 133ms/step - loss: 0.8654 - acc: 0.6856\n",
            "Epoch 646/1000\n",
            "50/50 [==============================] - 7s 131ms/step - loss: 0.8284 - acc: 0.6956\n",
            "Epoch 647/1000\n"
          ],
          "name": "stdout"
        },
        {
          "output_type": "stream",
          "text": [
            "50/50 [==============================] - 7s 131ms/step - loss: 0.8520 - acc: 0.6816\n",
            "Epoch 648/1000\n",
            "50/50 [==============================] - 7s 132ms/step - loss: 0.8283 - acc: 0.6937\n",
            "Epoch 649/1000\n",
            "50/50 [==============================] - 7s 131ms/step - loss: 0.8785 - acc: 0.6787\n",
            "Epoch 650/1000\n",
            "50/50 [==============================] - 7s 132ms/step - loss: 0.8531 - acc: 0.6891\n",
            "Epoch 651/1000\n",
            "50/50 [==============================] - 7s 132ms/step - loss: 0.8640 - acc: 0.6756\n",
            "Epoch 652/1000\n",
            "50/50 [==============================] - 7s 133ms/step - loss: 0.8765 - acc: 0.6897\n",
            "Epoch 653/1000\n"
          ],
          "name": "stdout"
        },
        {
          "output_type": "stream",
          "text": [
            "50/50 [==============================] - 7s 132ms/step - loss: 0.8885 - acc: 0.6587\n",
            "Epoch 654/1000\n",
            "50/50 [==============================] - 7s 132ms/step - loss: 0.8652 - acc: 0.6809\n",
            "Epoch 655/1000\n",
            "50/50 [==============================] - 7s 132ms/step - loss: 0.8591 - acc: 0.6813\n",
            "Epoch 656/1000\n",
            "50/50 [==============================] - 7s 132ms/step - loss: 0.8303 - acc: 0.6903\n",
            "Epoch 657/1000\n",
            "50/50 [==============================] - 7s 132ms/step - loss: 0.8487 - acc: 0.6834\n",
            "Epoch 658/1000\n",
            "50/50 [==============================] - 7s 132ms/step - loss: 0.8291 - acc: 0.6925\n",
            "Epoch 659/1000\n"
          ],
          "name": "stdout"
        },
        {
          "output_type": "stream",
          "text": [
            "50/50 [==============================] - 7s 133ms/step - loss: 0.8542 - acc: 0.6928\n",
            "Epoch 660/1000\n",
            "50/50 [==============================] - 7s 132ms/step - loss: 0.8348 - acc: 0.6884\n",
            "Epoch 661/1000\n",
            "50/50 [==============================] - 7s 131ms/step - loss: 0.8445 - acc: 0.6906\n",
            "Epoch 662/1000\n",
            "50/50 [==============================] - 7s 132ms/step - loss: 0.8630 - acc: 0.6806\n",
            "Epoch 663/1000\n",
            "50/50 [==============================] - 7s 130ms/step - loss: 0.8592 - acc: 0.6774\n",
            "Epoch 664/1000\n",
            "50/50 [==============================] - 7s 132ms/step - loss: 0.8717 - acc: 0.6769\n",
            "Epoch 665/1000\n"
          ],
          "name": "stdout"
        },
        {
          "output_type": "stream",
          "text": [
            "50/50 [==============================] - 7s 132ms/step - loss: 0.8539 - acc: 0.6925\n",
            "Epoch 666/1000\n",
            "50/50 [==============================] - 7s 132ms/step - loss: 0.8395 - acc: 0.6863\n",
            "Epoch 667/1000\n",
            "50/50 [==============================] - 7s 132ms/step - loss: 0.8129 - acc: 0.6969\n",
            "Epoch 668/1000\n",
            "50/50 [==============================] - 7s 132ms/step - loss: 0.8446 - acc: 0.6831\n",
            "Epoch 669/1000\n",
            "50/50 [==============================] - 7s 132ms/step - loss: 0.8763 - acc: 0.6678\n",
            "Epoch 670/1000\n",
            "50/50 [==============================] - 7s 132ms/step - loss: 0.8196 - acc: 0.6931\n",
            "Epoch 671/1000\n"
          ],
          "name": "stdout"
        },
        {
          "output_type": "stream",
          "text": [
            "50/50 [==============================] - 7s 132ms/step - loss: 0.8593 - acc: 0.6772\n",
            "Epoch 672/1000\n",
            "50/50 [==============================] - 7s 132ms/step - loss: 0.8599 - acc: 0.6847\n",
            "Epoch 673/1000\n",
            "50/50 [==============================] - 7s 132ms/step - loss: 0.8218 - acc: 0.6956\n",
            "Epoch 674/1000\n",
            "50/50 [==============================] - 7s 132ms/step - loss: 0.8318 - acc: 0.6903\n",
            "Epoch 675/1000\n",
            "50/50 [==============================] - 7s 132ms/step - loss: 0.8224 - acc: 0.6912\n",
            "Epoch 676/1000\n",
            "50/50 [==============================] - 7s 132ms/step - loss: 0.8708 - acc: 0.6778\n",
            "Epoch 677/1000\n"
          ],
          "name": "stdout"
        },
        {
          "output_type": "stream",
          "text": [
            "50/50 [==============================] - 7s 132ms/step - loss: 0.8458 - acc: 0.6878\n",
            "Epoch 678/1000\n",
            "50/50 [==============================] - 7s 132ms/step - loss: 0.8274 - acc: 0.6872\n",
            "Epoch 679/1000\n",
            "50/50 [==============================] - 7s 132ms/step - loss: 0.8628 - acc: 0.6806\n",
            "Epoch 680/1000\n",
            "50/50 [==============================] - 7s 131ms/step - loss: 0.8466 - acc: 0.6972\n",
            "Epoch 681/1000\n",
            "50/50 [==============================] - 7s 131ms/step - loss: 0.8715 - acc: 0.6806\n",
            "Epoch 682/1000\n",
            "50/50 [==============================] - 6s 130ms/step - loss: 0.8671 - acc: 0.6762\n",
            "Epoch 683/1000\n"
          ],
          "name": "stdout"
        },
        {
          "output_type": "stream",
          "text": [
            "50/50 [==============================] - 7s 131ms/step - loss: 0.8609 - acc: 0.6825\n",
            "Epoch 684/1000\n",
            "50/50 [==============================] - 7s 132ms/step - loss: 0.8225 - acc: 0.7041\n",
            "Epoch 685/1000\n",
            "50/50 [==============================] - 7s 132ms/step - loss: 0.8341 - acc: 0.7034\n",
            "Epoch 686/1000\n",
            "50/50 [==============================] - 7s 132ms/step - loss: 0.8472 - acc: 0.6806\n",
            "Epoch 687/1000\n",
            "50/50 [==============================] - 7s 132ms/step - loss: 0.8610 - acc: 0.6813\n",
            "Epoch 688/1000\n",
            "50/50 [==============================] - 7s 132ms/step - loss: 0.8368 - acc: 0.6978\n",
            "Epoch 689/1000\n"
          ],
          "name": "stdout"
        },
        {
          "output_type": "stream",
          "text": [
            "50/50 [==============================] - 7s 132ms/step - loss: 0.8653 - acc: 0.6819\n",
            "Epoch 690/1000\n",
            "50/50 [==============================] - 7s 132ms/step - loss: 0.8082 - acc: 0.7066\n",
            "Epoch 691/1000\n",
            "50/50 [==============================] - 7s 132ms/step - loss: 0.8313 - acc: 0.6937\n",
            "Epoch 692/1000\n",
            "50/50 [==============================] - 7s 131ms/step - loss: 0.8595 - acc: 0.6775\n",
            "Epoch 693/1000\n",
            "50/50 [==============================] - 7s 131ms/step - loss: 0.8423 - acc: 0.6806\n",
            "Epoch 694/1000\n",
            "50/50 [==============================] - 7s 132ms/step - loss: 0.8623 - acc: 0.6775\n"
          ],
          "name": "stdout"
        },
        {
          "output_type": "stream",
          "text": [
            "Epoch 695/1000\n",
            "50/50 [==============================] - 7s 132ms/step - loss: 0.8627 - acc: 0.6797\n",
            "Epoch 696/1000\n",
            "50/50 [==============================] - 7s 132ms/step - loss: 0.8281 - acc: 0.6881\n",
            "Epoch 697/1000\n",
            "50/50 [==============================] - 7s 132ms/step - loss: 0.8450 - acc: 0.6856\n",
            "Epoch 698/1000\n",
            "50/50 [==============================] - 7s 132ms/step - loss: 0.8307 - acc: 0.6984\n",
            "Epoch 699/1000\n",
            "50/50 [==============================] - 7s 131ms/step - loss: 0.8271 - acc: 0.6847\n",
            "Epoch 700/1000\n",
            "44/50 [=========================>....] - ETA: 0s - loss: 0.8368 - acc: 0.6953"
          ],
          "name": "stdout"
        },
        {
          "output_type": "stream",
          "text": [
            "50/50 [==============================] - 7s 132ms/step - loss: 0.8368 - acc: 0.6944\n",
            "Epoch 701/1000\n",
            "50/50 [==============================] - 7s 131ms/step - loss: 0.7901 - acc: 0.7125\n",
            "Epoch 702/1000\n",
            "50/50 [==============================] - 7s 132ms/step - loss: 0.8159 - acc: 0.7113\n",
            "Epoch 703/1000\n",
            "50/50 [==============================] - 7s 131ms/step - loss: 0.8199 - acc: 0.7044\n",
            "Epoch 704/1000\n",
            "50/50 [==============================] - 7s 132ms/step - loss: 0.8549 - acc: 0.6813\n",
            "Epoch 705/1000\n",
            "50/50 [==============================] - 7s 133ms/step - loss: 0.8296 - acc: 0.6937\n",
            "Epoch 706/1000\n",
            " 5/50 [==>...........................] - ETA: 5s - loss: 0.7841 - acc: 0.6813"
          ],
          "name": "stdout"
        },
        {
          "output_type": "stream",
          "text": [
            "50/50 [==============================] - 7s 131ms/step - loss: 0.8143 - acc: 0.7003\n",
            "Epoch 707/1000\n",
            "50/50 [==============================] - 7s 132ms/step - loss: 0.8734 - acc: 0.6834\n",
            "Epoch 708/1000\n",
            "50/50 [==============================] - 7s 131ms/step - loss: 0.8494 - acc: 0.6864\n",
            "Epoch 709/1000\n",
            "50/50 [==============================] - 7s 131ms/step - loss: 0.8532 - acc: 0.6822\n",
            "Epoch 710/1000\n",
            "50/50 [==============================] - 7s 131ms/step - loss: 0.8543 - acc: 0.6872\n",
            "Epoch 711/1000\n",
            "50/50 [==============================] - 7s 132ms/step - loss: 0.8306 - acc: 0.7025\n",
            "Epoch 712/1000\n",
            " 1/50 [..............................] - ETA: 6s - loss: 0.7927 - acc: 0.6719"
          ],
          "name": "stdout"
        },
        {
          "output_type": "stream",
          "text": [
            "50/50 [==============================] - 7s 131ms/step - loss: 0.8393 - acc: 0.6922\n",
            "Epoch 713/1000\n",
            "50/50 [==============================] - 7s 131ms/step - loss: 0.8332 - acc: 0.6869\n",
            "Epoch 714/1000\n",
            "50/50 [==============================] - 7s 132ms/step - loss: 0.8164 - acc: 0.6931\n",
            "Epoch 715/1000\n",
            "50/50 [==============================] - 7s 131ms/step - loss: 0.8429 - acc: 0.6831\n",
            "Epoch 716/1000\n",
            "50/50 [==============================] - 7s 132ms/step - loss: 0.8191 - acc: 0.6981\n",
            "Epoch 717/1000\n",
            "50/50 [==============================] - 7s 132ms/step - loss: 0.8438 - acc: 0.6919\n",
            "Epoch 718/1000\n"
          ],
          "name": "stdout"
        },
        {
          "output_type": "stream",
          "text": [
            "50/50 [==============================] - 7s 131ms/step - loss: 0.8289 - acc: 0.6966\n",
            "Epoch 719/1000\n",
            "50/50 [==============================] - 7s 132ms/step - loss: 0.8205 - acc: 0.6978\n",
            "Epoch 720/1000\n",
            "50/50 [==============================] - 7s 132ms/step - loss: 0.8018 - acc: 0.7094\n",
            "Epoch 721/1000\n",
            "50/50 [==============================] - 7s 132ms/step - loss: 0.7931 - acc: 0.6997\n",
            "Epoch 722/1000\n",
            "50/50 [==============================] - 7s 132ms/step - loss: 0.8432 - acc: 0.6916\n",
            "Epoch 723/1000\n",
            "50/50 [==============================] - 7s 132ms/step - loss: 0.8009 - acc: 0.7188\n",
            "Epoch 724/1000\n"
          ],
          "name": "stdout"
        },
        {
          "output_type": "stream",
          "text": [
            "50/50 [==============================] - 7s 132ms/step - loss: 0.8100 - acc: 0.7025\n",
            "Epoch 725/1000\n",
            "50/50 [==============================] - 7s 132ms/step - loss: 0.8146 - acc: 0.6928\n",
            "Epoch 726/1000\n",
            "50/50 [==============================] - 7s 131ms/step - loss: 0.8413 - acc: 0.6944\n",
            "Epoch 727/1000\n",
            "50/50 [==============================] - 7s 132ms/step - loss: 0.8170 - acc: 0.6928\n",
            "Epoch 728/1000\n",
            "50/50 [==============================] - 7s 131ms/step - loss: 0.8265 - acc: 0.6944\n",
            "Epoch 729/1000\n",
            "50/50 [==============================] - 7s 132ms/step - loss: 0.8220 - acc: 0.7059\n",
            "Epoch 730/1000\n"
          ],
          "name": "stdout"
        },
        {
          "output_type": "stream",
          "text": [
            "50/50 [==============================] - 7s 132ms/step - loss: 0.8011 - acc: 0.7062\n",
            "Epoch 731/1000\n",
            "50/50 [==============================] - 7s 133ms/step - loss: 0.8427 - acc: 0.6787\n",
            "Epoch 732/1000\n",
            "50/50 [==============================] - 7s 131ms/step - loss: 0.8167 - acc: 0.6911\n",
            "Epoch 733/1000\n",
            "50/50 [==============================] - 7s 133ms/step - loss: 0.8316 - acc: 0.6922\n",
            "Epoch 734/1000\n",
            "50/50 [==============================] - 7s 132ms/step - loss: 0.8358 - acc: 0.6963\n",
            "Epoch 735/1000\n",
            "50/50 [==============================] - 7s 131ms/step - loss: 0.8479 - acc: 0.6919\n",
            "Epoch 736/1000\n"
          ],
          "name": "stdout"
        },
        {
          "output_type": "stream",
          "text": [
            "50/50 [==============================] - 7s 132ms/step - loss: 0.8352 - acc: 0.6928\n",
            "Epoch 737/1000\n",
            "50/50 [==============================] - 7s 132ms/step - loss: 0.8090 - acc: 0.6972\n",
            "Epoch 738/1000\n",
            "50/50 [==============================] - 7s 133ms/step - loss: 0.8118 - acc: 0.6931\n",
            "Epoch 739/1000\n",
            "50/50 [==============================] - 7s 132ms/step - loss: 0.8254 - acc: 0.6872\n",
            "Epoch 740/1000\n",
            "50/50 [==============================] - 7s 131ms/step - loss: 0.7875 - acc: 0.7125\n",
            "Epoch 741/1000\n",
            "50/50 [==============================] - 7s 131ms/step - loss: 0.8224 - acc: 0.7091\n",
            "Epoch 742/1000\n"
          ],
          "name": "stdout"
        },
        {
          "output_type": "stream",
          "text": [
            "50/50 [==============================] - 7s 131ms/step - loss: 0.8190 - acc: 0.6875\n",
            "Epoch 743/1000\n",
            "50/50 [==============================] - 6s 130ms/step - loss: 0.7899 - acc: 0.7106\n",
            "Epoch 744/1000\n",
            "50/50 [==============================] - 7s 132ms/step - loss: 0.8275 - acc: 0.6884\n",
            "Epoch 745/1000\n",
            "50/50 [==============================] - 7s 132ms/step - loss: 0.8769 - acc: 0.6731\n",
            "Epoch 746/1000\n",
            "50/50 [==============================] - 7s 132ms/step - loss: 0.8022 - acc: 0.7116\n",
            "Epoch 747/1000\n",
            "50/50 [==============================] - 7s 132ms/step - loss: 0.8297 - acc: 0.6978\n",
            "Epoch 748/1000\n"
          ],
          "name": "stdout"
        },
        {
          "output_type": "stream",
          "text": [
            "50/50 [==============================] - 7s 133ms/step - loss: 0.8436 - acc: 0.6859\n",
            "Epoch 749/1000\n",
            "50/50 [==============================] - 7s 132ms/step - loss: 0.7969 - acc: 0.7047\n",
            "Epoch 750/1000\n",
            "50/50 [==============================] - 7s 132ms/step - loss: 0.7919 - acc: 0.7081\n",
            "Epoch 751/1000\n",
            "50/50 [==============================] - 7s 132ms/step - loss: 0.8168 - acc: 0.7016\n",
            "Epoch 752/1000\n",
            "50/50 [==============================] - 7s 132ms/step - loss: 0.8095 - acc: 0.6994\n",
            "Epoch 753/1000\n",
            "50/50 [==============================] - 7s 132ms/step - loss: 0.8105 - acc: 0.6975\n",
            "Epoch 754/1000\n"
          ],
          "name": "stdout"
        },
        {
          "output_type": "stream",
          "text": [
            "50/50 [==============================] - 7s 132ms/step - loss: 0.8183 - acc: 0.6987\n",
            "Epoch 755/1000\n",
            "50/50 [==============================] - 7s 131ms/step - loss: 0.7994 - acc: 0.7031\n",
            "Epoch 756/1000\n",
            "50/50 [==============================] - 7s 132ms/step - loss: 0.7765 - acc: 0.7100\n",
            "Epoch 757/1000\n",
            "50/50 [==============================] - 7s 131ms/step - loss: 0.8157 - acc: 0.6981\n",
            "Epoch 758/1000\n",
            "50/50 [==============================] - 7s 132ms/step - loss: 0.8478 - acc: 0.6834\n",
            "Epoch 759/1000\n",
            "50/50 [==============================] - 7s 132ms/step - loss: 0.8081 - acc: 0.7066\n",
            "Epoch 760/1000\n"
          ],
          "name": "stdout"
        },
        {
          "output_type": "stream",
          "text": [
            "50/50 [==============================] - 7s 132ms/step - loss: 0.7855 - acc: 0.7172\n",
            "Epoch 761/1000\n",
            "50/50 [==============================] - 7s 132ms/step - loss: 0.8206 - acc: 0.7009\n",
            "Epoch 762/1000\n",
            "50/50 [==============================] - 7s 132ms/step - loss: 0.8101 - acc: 0.6987\n",
            "Epoch 763/1000\n",
            "50/50 [==============================] - 7s 132ms/step - loss: 0.8310 - acc: 0.6966\n",
            "Epoch 764/1000\n",
            "50/50 [==============================] - 7s 132ms/step - loss: 0.8060 - acc: 0.6941\n",
            "Epoch 765/1000\n",
            "50/50 [==============================] - 7s 131ms/step - loss: 0.8002 - acc: 0.7022\n",
            "Epoch 766/1000\n"
          ],
          "name": "stdout"
        },
        {
          "output_type": "stream",
          "text": [
            "50/50 [==============================] - 7s 132ms/step - loss: 0.8168 - acc: 0.6975\n",
            "Epoch 767/1000\n",
            "50/50 [==============================] - 7s 133ms/step - loss: 0.8175 - acc: 0.6981\n",
            "Epoch 768/1000\n",
            "50/50 [==============================] - 7s 132ms/step - loss: 0.8362 - acc: 0.6884\n",
            "Epoch 769/1000\n",
            "50/50 [==============================] - 7s 132ms/step - loss: 0.8133 - acc: 0.7075\n",
            "Epoch 770/1000\n",
            "50/50 [==============================] - 7s 132ms/step - loss: 0.8087 - acc: 0.6994\n",
            "Epoch 771/1000\n",
            "50/50 [==============================] - 7s 131ms/step - loss: 0.7845 - acc: 0.7106\n",
            "Epoch 772/1000\n"
          ],
          "name": "stdout"
        },
        {
          "output_type": "stream",
          "text": [
            "50/50 [==============================] - 7s 132ms/step - loss: 0.8116 - acc: 0.6937\n",
            "Epoch 773/1000\n",
            "50/50 [==============================] - 7s 132ms/step - loss: 0.8210 - acc: 0.6994\n",
            "Epoch 774/1000\n",
            "50/50 [==============================] - 7s 132ms/step - loss: 0.7881 - acc: 0.7050\n",
            "Epoch 775/1000\n",
            "50/50 [==============================] - 7s 131ms/step - loss: 0.8199 - acc: 0.6959\n",
            "Epoch 776/1000\n",
            "50/50 [==============================] - 7s 132ms/step - loss: 0.7924 - acc: 0.7025\n",
            "Epoch 777/1000\n",
            "50/50 [==============================] - 7s 132ms/step - loss: 0.7945 - acc: 0.6997\n",
            "Epoch 778/1000\n"
          ],
          "name": "stdout"
        },
        {
          "output_type": "stream",
          "text": [
            "50/50 [==============================] - 7s 132ms/step - loss: 0.8009 - acc: 0.6928\n",
            "Epoch 779/1000\n",
            "50/50 [==============================] - 7s 131ms/step - loss: 0.7998 - acc: 0.7084\n",
            "Epoch 780/1000\n",
            "50/50 [==============================] - 7s 132ms/step - loss: 0.7925 - acc: 0.7069\n",
            "Epoch 781/1000\n",
            "50/50 [==============================] - 7s 133ms/step - loss: 0.8156 - acc: 0.6944\n",
            "Epoch 782/1000\n",
            "50/50 [==============================] - 7s 132ms/step - loss: 0.8171 - acc: 0.6928\n",
            "Epoch 783/1000\n",
            "50/50 [==============================] - 7s 132ms/step - loss: 0.8166 - acc: 0.6928\n",
            "Epoch 784/1000\n"
          ],
          "name": "stdout"
        },
        {
          "output_type": "stream",
          "text": [
            "50/50 [==============================] - 7s 132ms/step - loss: 0.8129 - acc: 0.7144\n",
            "Epoch 785/1000\n",
            "50/50 [==============================] - 7s 132ms/step - loss: 0.8174 - acc: 0.7047\n",
            "Epoch 786/1000\n",
            "50/50 [==============================] - 7s 132ms/step - loss: 0.7909 - acc: 0.7097\n",
            "Epoch 787/1000\n",
            "50/50 [==============================] - 7s 131ms/step - loss: 0.8071 - acc: 0.7041\n",
            "Epoch 788/1000\n",
            "50/50 [==============================] - 7s 132ms/step - loss: 0.8027 - acc: 0.6953\n",
            "Epoch 789/1000\n",
            "50/50 [==============================] - 7s 130ms/step - loss: 0.8218 - acc: 0.6929\n",
            "Epoch 790/1000\n"
          ],
          "name": "stdout"
        },
        {
          "output_type": "stream",
          "text": [
            "50/50 [==============================] - 7s 132ms/step - loss: 0.7757 - acc: 0.7153\n",
            "Epoch 791/1000\n",
            "50/50 [==============================] - 7s 131ms/step - loss: 0.7879 - acc: 0.7125\n",
            "Epoch 792/1000\n",
            "50/50 [==============================] - 7s 132ms/step - loss: 0.8055 - acc: 0.6978\n",
            "Epoch 793/1000\n",
            "50/50 [==============================] - 7s 132ms/step - loss: 0.8268 - acc: 0.6844\n",
            "Epoch 794/1000\n",
            "50/50 [==============================] - 7s 132ms/step - loss: 0.7967 - acc: 0.7069\n",
            "Epoch 795/1000\n",
            "50/50 [==============================] - 7s 132ms/step - loss: 0.8029 - acc: 0.6997\n",
            "Epoch 796/1000\n"
          ],
          "name": "stdout"
        },
        {
          "output_type": "stream",
          "text": [
            "50/50 [==============================] - 7s 132ms/step - loss: 0.7889 - acc: 0.7109\n",
            "Epoch 797/1000\n",
            "50/50 [==============================] - 7s 132ms/step - loss: 0.7742 - acc: 0.7200\n",
            "Epoch 798/1000\n",
            "50/50 [==============================] - 7s 132ms/step - loss: 0.8010 - acc: 0.6975\n",
            "Epoch 799/1000\n",
            "50/50 [==============================] - 7s 132ms/step - loss: 0.8067 - acc: 0.7016\n",
            "Epoch 800/1000\n",
            "50/50 [==============================] - 7s 131ms/step - loss: 0.8159 - acc: 0.7009\n",
            "Epoch 801/1000\n",
            "50/50 [==============================] - 7s 131ms/step - loss: 0.7883 - acc: 0.7061\n",
            "Epoch 802/1000\n"
          ],
          "name": "stdout"
        },
        {
          "output_type": "stream",
          "text": [
            "50/50 [==============================] - 7s 132ms/step - loss: 0.7913 - acc: 0.6987\n",
            "Epoch 803/1000\n",
            "50/50 [==============================] - 7s 132ms/step - loss: 0.7912 - acc: 0.7078\n",
            "Epoch 804/1000\n",
            "50/50 [==============================] - 7s 133ms/step - loss: 0.7843 - acc: 0.7075\n",
            "Epoch 805/1000\n",
            "50/50 [==============================] - 7s 132ms/step - loss: 0.7888 - acc: 0.7141\n",
            "Epoch 806/1000\n",
            "50/50 [==============================] - 7s 132ms/step - loss: 0.8072 - acc: 0.7075\n",
            "Epoch 807/1000\n",
            "50/50 [==============================] - 7s 131ms/step - loss: 0.7898 - acc: 0.7053\n",
            "Epoch 808/1000\n"
          ],
          "name": "stdout"
        },
        {
          "output_type": "stream",
          "text": [
            "50/50 [==============================] - 7s 132ms/step - loss: 0.7962 - acc: 0.7069\n",
            "Epoch 809/1000\n",
            "50/50 [==============================] - 7s 132ms/step - loss: 0.7851 - acc: 0.7078\n",
            "Epoch 810/1000\n",
            "50/50 [==============================] - 7s 132ms/step - loss: 0.7829 - acc: 0.7178\n",
            "Epoch 811/1000\n",
            "50/50 [==============================] - 7s 132ms/step - loss: 0.7934 - acc: 0.7072\n",
            "Epoch 812/1000\n",
            "50/50 [==============================] - 7s 132ms/step - loss: 0.7835 - acc: 0.7003\n",
            "Epoch 813/1000\n",
            "50/50 [==============================] - 7s 133ms/step - loss: 0.7805 - acc: 0.7206\n",
            "Epoch 814/1000\n"
          ],
          "name": "stdout"
        },
        {
          "output_type": "stream",
          "text": [
            "50/50 [==============================] - 7s 132ms/step - loss: 0.8016 - acc: 0.7119\n",
            "Epoch 815/1000\n",
            "50/50 [==============================] - 7s 132ms/step - loss: 0.7846 - acc: 0.7134\n",
            "Epoch 816/1000\n",
            "50/50 [==============================] - 7s 133ms/step - loss: 0.7999 - acc: 0.7075\n",
            "Epoch 817/1000\n",
            "50/50 [==============================] - 7s 132ms/step - loss: 0.8457 - acc: 0.6859\n",
            "Epoch 818/1000\n",
            "50/50 [==============================] - 7s 132ms/step - loss: 0.7794 - acc: 0.7156\n",
            "Epoch 819/1000\n",
            "50/50 [==============================] - 7s 132ms/step - loss: 0.7931 - acc: 0.7122\n",
            "Epoch 820/1000\n"
          ],
          "name": "stdout"
        },
        {
          "output_type": "stream",
          "text": [
            "50/50 [==============================] - 7s 131ms/step - loss: 0.7785 - acc: 0.7101\n",
            "Epoch 821/1000\n",
            "50/50 [==============================] - 7s 131ms/step - loss: 0.7721 - acc: 0.7125\n",
            "Epoch 822/1000\n",
            "50/50 [==============================] - 7s 132ms/step - loss: 0.7792 - acc: 0.7163\n",
            "Epoch 823/1000\n",
            "50/50 [==============================] - 7s 132ms/step - loss: 0.7738 - acc: 0.7172\n",
            "Epoch 824/1000\n",
            "50/50 [==============================] - 7s 132ms/step - loss: 0.7811 - acc: 0.7037\n",
            "Epoch 825/1000\n",
            "50/50 [==============================] - 7s 131ms/step - loss: 0.8132 - acc: 0.6963\n",
            "Epoch 826/1000\n"
          ],
          "name": "stdout"
        },
        {
          "output_type": "stream",
          "text": [
            "50/50 [==============================] - 7s 132ms/step - loss: 0.7902 - acc: 0.7087\n",
            "Epoch 827/1000\n",
            "50/50 [==============================] - 7s 132ms/step - loss: 0.7696 - acc: 0.7137\n",
            "Epoch 828/1000\n",
            "50/50 [==============================] - 7s 132ms/step - loss: 0.8154 - acc: 0.7053\n",
            "Epoch 829/1000\n",
            "50/50 [==============================] - 7s 132ms/step - loss: 0.8075 - acc: 0.7009\n",
            "Epoch 830/1000\n",
            "50/50 [==============================] - 7s 133ms/step - loss: 0.7728 - acc: 0.7094\n",
            "Epoch 831/1000\n",
            "50/50 [==============================] - 7s 132ms/step - loss: 0.7827 - acc: 0.7116\n",
            "Epoch 832/1000\n"
          ],
          "name": "stdout"
        },
        {
          "output_type": "stream",
          "text": [
            "50/50 [==============================] - 7s 132ms/step - loss: 0.7897 - acc: 0.7028\n",
            "Epoch 833/1000\n",
            "50/50 [==============================] - 7s 133ms/step - loss: 0.7818 - acc: 0.7122\n",
            "Epoch 834/1000\n",
            "50/50 [==============================] - 7s 132ms/step - loss: 0.7799 - acc: 0.7109\n",
            "Epoch 835/1000\n",
            "50/50 [==============================] - 7s 132ms/step - loss: 0.8154 - acc: 0.7041\n",
            "Epoch 836/1000\n",
            "50/50 [==============================] - 7s 131ms/step - loss: 0.7788 - acc: 0.7141\n",
            "Epoch 837/1000\n",
            "50/50 [==============================] - 7s 132ms/step - loss: 0.7814 - acc: 0.7081\n",
            "Epoch 838/1000\n"
          ],
          "name": "stdout"
        },
        {
          "output_type": "stream",
          "text": [
            "50/50 [==============================] - 7s 132ms/step - loss: 0.7700 - acc: 0.7084\n",
            "Epoch 839/1000\n",
            "50/50 [==============================] - 7s 132ms/step - loss: 0.7575 - acc: 0.7087\n",
            "Epoch 840/1000\n",
            "50/50 [==============================] - 7s 131ms/step - loss: 0.8246 - acc: 0.7034\n",
            "Epoch 841/1000\n",
            "50/50 [==============================] - 7s 132ms/step - loss: 0.7765 - acc: 0.7306\n",
            "Epoch 842/1000\n",
            "50/50 [==============================] - 7s 132ms/step - loss: 0.7939 - acc: 0.7022\n",
            "Epoch 843/1000\n",
            "50/50 [==============================] - 7s 132ms/step - loss: 0.7887 - acc: 0.7078\n",
            "Epoch 844/1000\n"
          ],
          "name": "stdout"
        },
        {
          "output_type": "stream",
          "text": [
            "50/50 [==============================] - 7s 132ms/step - loss: 0.8066 - acc: 0.7028\n",
            "Epoch 845/1000\n",
            "50/50 [==============================] - 7s 131ms/step - loss: 0.7873 - acc: 0.7048\n",
            "Epoch 846/1000\n",
            "50/50 [==============================] - 7s 132ms/step - loss: 0.7890 - acc: 0.7031\n",
            "Epoch 847/1000\n",
            "50/50 [==============================] - 7s 132ms/step - loss: 0.7668 - acc: 0.7137\n",
            "Epoch 848/1000\n",
            "50/50 [==============================] - 7s 132ms/step - loss: 0.7796 - acc: 0.7034\n",
            "Epoch 849/1000\n",
            "50/50 [==============================] - 7s 132ms/step - loss: 0.7510 - acc: 0.7144\n",
            "Epoch 850/1000\n"
          ],
          "name": "stdout"
        },
        {
          "output_type": "stream",
          "text": [
            "50/50 [==============================] - 7s 132ms/step - loss: 0.7704 - acc: 0.7094\n",
            "Epoch 851/1000\n",
            "50/50 [==============================] - 7s 132ms/step - loss: 0.7479 - acc: 0.7306\n",
            "Epoch 852/1000\n",
            "50/50 [==============================] - 7s 132ms/step - loss: 0.7782 - acc: 0.7109\n",
            "Epoch 853/1000\n",
            "50/50 [==============================] - 7s 132ms/step - loss: 0.8013 - acc: 0.7016\n",
            "Epoch 854/1000\n",
            "50/50 [==============================] - 7s 132ms/step - loss: 0.7733 - acc: 0.7175\n",
            "Epoch 855/1000\n",
            "50/50 [==============================] - 7s 132ms/step - loss: 0.8104 - acc: 0.7069\n",
            "Epoch 856/1000\n"
          ],
          "name": "stdout"
        },
        {
          "output_type": "stream",
          "text": [
            "50/50 [==============================] - 7s 133ms/step - loss: 0.7813 - acc: 0.7141\n",
            "Epoch 857/1000\n",
            "50/50 [==============================] - 7s 132ms/step - loss: 0.7727 - acc: 0.7125\n",
            "Epoch 858/1000\n",
            "50/50 [==============================] - 7s 132ms/step - loss: 0.7451 - acc: 0.7212\n",
            "Epoch 859/1000\n",
            "50/50 [==============================] - 7s 132ms/step - loss: 0.7328 - acc: 0.7356\n",
            "Epoch 860/1000\n",
            "50/50 [==============================] - 7s 132ms/step - loss: 0.7620 - acc: 0.7262\n",
            "Epoch 861/1000\n",
            "50/50 [==============================] - 7s 132ms/step - loss: 0.7877 - acc: 0.7169\n",
            "Epoch 862/1000\n"
          ],
          "name": "stdout"
        },
        {
          "output_type": "stream",
          "text": [
            "50/50 [==============================] - 7s 132ms/step - loss: 0.7879 - acc: 0.7087\n",
            "Epoch 863/1000\n",
            "50/50 [==============================] - 7s 132ms/step - loss: 0.7762 - acc: 0.7200\n",
            "Epoch 864/1000\n",
            "50/50 [==============================] - 7s 133ms/step - loss: 0.7792 - acc: 0.7131\n",
            "Epoch 865/1000\n",
            "50/50 [==============================] - 7s 132ms/step - loss: 0.7775 - acc: 0.7178\n",
            "Epoch 866/1000\n",
            "50/50 [==============================] - 7s 132ms/step - loss: 0.7713 - acc: 0.7212\n",
            "Epoch 867/1000\n",
            "50/50 [==============================] - 7s 132ms/step - loss: 0.7618 - acc: 0.7150\n",
            "Epoch 868/1000\n"
          ],
          "name": "stdout"
        },
        {
          "output_type": "stream",
          "text": [
            "50/50 [==============================] - 7s 132ms/step - loss: 0.7936 - acc: 0.7119\n",
            "Epoch 869/1000\n",
            "50/50 [==============================] - 7s 132ms/step - loss: 0.7623 - acc: 0.7250\n",
            "Epoch 870/1000\n",
            "50/50 [==============================] - 7s 132ms/step - loss: 0.7793 - acc: 0.7094\n",
            "Epoch 871/1000\n",
            "50/50 [==============================] - 7s 132ms/step - loss: 0.7501 - acc: 0.7219\n",
            "Epoch 872/1000\n",
            "50/50 [==============================] - 7s 132ms/step - loss: 0.7660 - acc: 0.7231\n",
            "Epoch 873/1000\n",
            "50/50 [==============================] - 7s 132ms/step - loss: 0.7713 - acc: 0.7166\n",
            "Epoch 874/1000\n"
          ],
          "name": "stdout"
        },
        {
          "output_type": "stream",
          "text": [
            "50/50 [==============================] - 7s 132ms/step - loss: 0.7730 - acc: 0.7172\n",
            "Epoch 875/1000\n",
            "50/50 [==============================] - 7s 133ms/step - loss: 0.7612 - acc: 0.7169\n",
            "Epoch 876/1000\n",
            "50/50 [==============================] - 7s 132ms/step - loss: 0.7858 - acc: 0.7163\n",
            "Epoch 877/1000\n",
            "50/50 [==============================] - 7s 132ms/step - loss: 0.7798 - acc: 0.7150\n",
            "Epoch 878/1000\n",
            "50/50 [==============================] - 7s 133ms/step - loss: 0.7858 - acc: 0.7106\n",
            "Epoch 879/1000\n",
            "50/50 [==============================] - 7s 133ms/step - loss: 0.7710 - acc: 0.7122\n",
            "Epoch 880/1000\n"
          ],
          "name": "stdout"
        },
        {
          "output_type": "stream",
          "text": [
            "50/50 [==============================] - 7s 130ms/step - loss: 0.7887 - acc: 0.7101\n",
            "Epoch 881/1000\n",
            "50/50 [==============================] - 7s 133ms/step - loss: 0.7563 - acc: 0.7184\n",
            "Epoch 882/1000\n",
            "50/50 [==============================] - 7s 132ms/step - loss: 0.7752 - acc: 0.7234\n",
            "Epoch 883/1000\n",
            "50/50 [==============================] - 7s 132ms/step - loss: 0.7449 - acc: 0.7259\n",
            "Epoch 884/1000\n",
            "50/50 [==============================] - 7s 130ms/step - loss: 0.7490 - acc: 0.7290\n",
            "Epoch 885/1000\n",
            "50/50 [==============================] - 7s 132ms/step - loss: 0.7550 - acc: 0.7231\n",
            "Epoch 886/1000\n"
          ],
          "name": "stdout"
        },
        {
          "output_type": "stream",
          "text": [
            "50/50 [==============================] - 7s 131ms/step - loss: 0.7663 - acc: 0.7300\n",
            "Epoch 887/1000\n",
            "50/50 [==============================] - 7s 132ms/step - loss: 0.7412 - acc: 0.7203\n",
            "Epoch 888/1000\n",
            "50/50 [==============================] - 7s 132ms/step - loss: 0.7404 - acc: 0.7272\n",
            "Epoch 889/1000\n",
            "50/50 [==============================] - 7s 132ms/step - loss: 0.7751 - acc: 0.7197\n",
            "Epoch 890/1000\n",
            "50/50 [==============================] - 7s 132ms/step - loss: 0.7473 - acc: 0.7272\n",
            "Epoch 891/1000\n",
            "50/50 [==============================] - 7s 132ms/step - loss: 0.7507 - acc: 0.7328\n",
            "Epoch 892/1000\n"
          ],
          "name": "stdout"
        },
        {
          "output_type": "stream",
          "text": [
            "50/50 [==============================] - 7s 132ms/step - loss: 0.8030 - acc: 0.7078\n",
            "Epoch 893/1000\n",
            "50/50 [==============================] - 7s 132ms/step - loss: 0.7792 - acc: 0.7259\n",
            "Epoch 894/1000\n",
            "50/50 [==============================] - 7s 132ms/step - loss: 0.7653 - acc: 0.7191\n",
            "Epoch 895/1000\n",
            "50/50 [==============================] - 7s 131ms/step - loss: 0.7725 - acc: 0.7156\n",
            "Epoch 896/1000\n",
            "50/50 [==============================] - 7s 132ms/step - loss: 0.7762 - acc: 0.7144\n",
            "Epoch 897/1000\n",
            "50/50 [==============================] - 7s 132ms/step - loss: 0.7741 - acc: 0.7137\n",
            "Epoch 898/1000\n"
          ],
          "name": "stdout"
        },
        {
          "output_type": "stream",
          "text": [
            "50/50 [==============================] - 7s 131ms/step - loss: 0.7682 - acc: 0.7219\n",
            "Epoch 899/1000\n",
            "50/50 [==============================] - 7s 131ms/step - loss: 0.7802 - acc: 0.7122\n",
            "Epoch 900/1000\n",
            "50/50 [==============================] - 7s 132ms/step - loss: 0.7579 - acc: 0.7334\n",
            "Epoch 901/1000\n",
            "50/50 [==============================] - 7s 130ms/step - loss: 0.7602 - acc: 0.7219\n",
            "Epoch 902/1000\n",
            "50/50 [==============================] - 7s 131ms/step - loss: 0.7685 - acc: 0.7216\n",
            "Epoch 903/1000\n",
            "50/50 [==============================] - 7s 131ms/step - loss: 0.7599 - acc: 0.7209\n",
            "Epoch 904/1000\n"
          ],
          "name": "stdout"
        },
        {
          "output_type": "stream",
          "text": [
            "50/50 [==============================] - 7s 132ms/step - loss: 0.7634 - acc: 0.7216\n",
            "Epoch 905/1000\n",
            "50/50 [==============================] - 7s 131ms/step - loss: 0.7502 - acc: 0.7253\n",
            "Epoch 906/1000\n",
            "50/50 [==============================] - 7s 131ms/step - loss: 0.7435 - acc: 0.7275\n",
            "Epoch 907/1000\n",
            "50/50 [==============================] - 7s 132ms/step - loss: 0.7476 - acc: 0.7256\n",
            "Epoch 908/1000\n",
            "50/50 [==============================] - 7s 132ms/step - loss: 0.7776 - acc: 0.7203\n",
            "Epoch 909/1000\n",
            "50/50 [==============================] - 7s 132ms/step - loss: 0.7479 - acc: 0.7238\n",
            "Epoch 910/1000\n"
          ],
          "name": "stdout"
        },
        {
          "output_type": "stream",
          "text": [
            "50/50 [==============================] - 7s 132ms/step - loss: 0.7277 - acc: 0.7338\n",
            "Epoch 911/1000\n",
            "50/50 [==============================] - 7s 131ms/step - loss: 0.7677 - acc: 0.7184\n",
            "Epoch 912/1000\n",
            "50/50 [==============================] - 7s 131ms/step - loss: 0.7499 - acc: 0.7275\n",
            "Epoch 913/1000\n",
            "50/50 [==============================] - 7s 131ms/step - loss: 0.7843 - acc: 0.7163\n",
            "Epoch 914/1000\n",
            "50/50 [==============================] - 7s 132ms/step - loss: 0.7729 - acc: 0.7203\n",
            "Epoch 915/1000\n",
            "50/50 [==============================] - 7s 132ms/step - loss: 0.7427 - acc: 0.7294\n",
            "Epoch 916/1000\n"
          ],
          "name": "stdout"
        },
        {
          "output_type": "stream",
          "text": [
            "50/50 [==============================] - 7s 131ms/step - loss: 0.7517 - acc: 0.7216\n",
            "Epoch 917/1000\n",
            "50/50 [==============================] - 7s 131ms/step - loss: 0.7348 - acc: 0.7344\n",
            "Epoch 918/1000\n",
            "50/50 [==============================] - 7s 132ms/step - loss: 0.7249 - acc: 0.7347\n",
            "Epoch 919/1000\n",
            "50/50 [==============================] - 7s 132ms/step - loss: 0.7617 - acc: 0.7191\n",
            "Epoch 920/1000\n",
            "50/50 [==============================] - 7s 132ms/step - loss: 0.7686 - acc: 0.7175\n",
            "Epoch 921/1000\n",
            "50/50 [==============================] - 7s 132ms/step - loss: 0.7472 - acc: 0.7238\n",
            "Epoch 922/1000\n"
          ],
          "name": "stdout"
        },
        {
          "output_type": "stream",
          "text": [
            "50/50 [==============================] - 7s 131ms/step - loss: 0.7527 - acc: 0.7166\n",
            "Epoch 923/1000\n",
            "50/50 [==============================] - 7s 132ms/step - loss: 0.7462 - acc: 0.7159\n",
            "Epoch 924/1000\n",
            "50/50 [==============================] - 7s 131ms/step - loss: 0.7467 - acc: 0.7344\n",
            "Epoch 925/1000\n",
            "50/50 [==============================] - 7s 132ms/step - loss: 0.7769 - acc: 0.7225\n",
            "Epoch 926/1000\n",
            "50/50 [==============================] - 7s 131ms/step - loss: 0.7393 - acc: 0.7259\n",
            "Epoch 927/1000\n",
            "50/50 [==============================] - 7s 131ms/step - loss: 0.7335 - acc: 0.7275\n",
            "Epoch 928/1000\n"
          ],
          "name": "stdout"
        },
        {
          "output_type": "stream",
          "text": [
            "50/50 [==============================] - 7s 132ms/step - loss: 0.7620 - acc: 0.7194\n",
            "Epoch 929/1000\n",
            "50/50 [==============================] - 7s 132ms/step - loss: 0.7453 - acc: 0.7275\n",
            "Epoch 930/1000\n",
            "50/50 [==============================] - 7s 132ms/step - loss: 0.7165 - acc: 0.7447\n",
            "Epoch 931/1000\n",
            "50/50 [==============================] - 7s 133ms/step - loss: 0.7363 - acc: 0.7313\n",
            "Epoch 932/1000\n",
            "50/50 [==============================] - 7s 132ms/step - loss: 0.7641 - acc: 0.7212\n",
            "Epoch 933/1000\n",
            "50/50 [==============================] - 7s 131ms/step - loss: 0.7555 - acc: 0.7181\n",
            "Epoch 934/1000\n"
          ],
          "name": "stdout"
        },
        {
          "output_type": "stream",
          "text": [
            "50/50 [==============================] - 7s 131ms/step - loss: 0.7624 - acc: 0.7313\n",
            "Epoch 935/1000\n",
            "50/50 [==============================] - 7s 132ms/step - loss: 0.7266 - acc: 0.7272\n",
            "Epoch 936/1000\n",
            "50/50 [==============================] - 7s 132ms/step - loss: 0.7246 - acc: 0.7391\n",
            "Epoch 937/1000\n",
            "50/50 [==============================] - 7s 131ms/step - loss: 0.7495 - acc: 0.7303\n",
            "Epoch 938/1000\n",
            "50/50 [==============================] - 7s 132ms/step - loss: 0.7626 - acc: 0.7122\n",
            "Epoch 939/1000\n",
            "50/50 [==============================] - 7s 132ms/step - loss: 0.7457 - acc: 0.7306\n",
            "Epoch 940/1000\n"
          ],
          "name": "stdout"
        },
        {
          "output_type": "stream",
          "text": [
            "50/50 [==============================] - 7s 132ms/step - loss: 0.7591 - acc: 0.7119\n",
            "Epoch 941/1000\n",
            "50/50 [==============================] - 7s 132ms/step - loss: 0.7342 - acc: 0.7225\n",
            "Epoch 942/1000\n",
            "50/50 [==============================] - 7s 132ms/step - loss: 0.7230 - acc: 0.7400\n",
            "Epoch 943/1000\n",
            "50/50 [==============================] - 7s 132ms/step - loss: 0.7607 - acc: 0.7116\n",
            "Epoch 944/1000\n",
            "50/50 [==============================] - 7s 132ms/step - loss: 0.7434 - acc: 0.7291\n",
            "Epoch 945/1000\n",
            "50/50 [==============================] - 7s 132ms/step - loss: 0.7579 - acc: 0.7219\n",
            "Epoch 946/1000\n"
          ],
          "name": "stdout"
        },
        {
          "output_type": "stream",
          "text": [
            "50/50 [==============================] - 7s 130ms/step - loss: 0.7725 - acc: 0.7142\n",
            "Epoch 947/1000\n",
            "50/50 [==============================] - 7s 132ms/step - loss: 0.7555 - acc: 0.7228\n",
            "Epoch 948/1000\n",
            "50/50 [==============================] - 7s 133ms/step - loss: 0.7916 - acc: 0.7128\n",
            "Epoch 949/1000\n",
            "50/50 [==============================] - 7s 133ms/step - loss: 0.7446 - acc: 0.7272\n",
            "Epoch 950/1000\n",
            "50/50 [==============================] - 7s 133ms/step - loss: 0.7511 - acc: 0.7175\n",
            "Epoch 951/1000\n",
            "50/50 [==============================] - 7s 133ms/step - loss: 0.7325 - acc: 0.7316\n",
            "Epoch 952/1000\n"
          ],
          "name": "stdout"
        },
        {
          "output_type": "stream",
          "text": [
            "50/50 [==============================] - 7s 131ms/step - loss: 0.7476 - acc: 0.7219\n",
            "Epoch 953/1000\n",
            "50/50 [==============================] - 7s 132ms/step - loss: 0.7839 - acc: 0.7250\n",
            "Epoch 954/1000\n",
            "50/50 [==============================] - 7s 132ms/step - loss: 0.7550 - acc: 0.7156\n",
            "Epoch 955/1000\n",
            "50/50 [==============================] - 7s 132ms/step - loss: 0.7246 - acc: 0.7362\n",
            "Epoch 956/1000\n",
            "50/50 [==============================] - 7s 132ms/step - loss: 0.7409 - acc: 0.7269\n",
            "Epoch 957/1000\n",
            "50/50 [==============================] - 7s 132ms/step - loss: 0.7270 - acc: 0.7362\n",
            "Epoch 958/1000\n"
          ],
          "name": "stdout"
        },
        {
          "output_type": "stream",
          "text": [
            "50/50 [==============================] - 7s 132ms/step - loss: 0.7426 - acc: 0.7262\n",
            "Epoch 959/1000\n",
            "50/50 [==============================] - 7s 133ms/step - loss: 0.7305 - acc: 0.7250\n",
            "Epoch 960/1000\n",
            "50/50 [==============================] - 7s 132ms/step - loss: 0.7530 - acc: 0.7172\n",
            "Epoch 961/1000\n",
            "50/50 [==============================] - 7s 132ms/step - loss: 0.7370 - acc: 0.7275\n",
            "Epoch 962/1000\n",
            "50/50 [==============================] - 7s 132ms/step - loss: 0.7324 - acc: 0.7262\n",
            "Epoch 963/1000\n",
            "50/50 [==============================] - 7s 132ms/step - loss: 0.7405 - acc: 0.7338\n",
            "Epoch 964/1000\n"
          ],
          "name": "stdout"
        },
        {
          "output_type": "stream",
          "text": [
            "50/50 [==============================] - 7s 131ms/step - loss: 0.7159 - acc: 0.7437\n",
            "Epoch 965/1000\n",
            "50/50 [==============================] - 7s 132ms/step - loss: 0.7481 - acc: 0.7262\n",
            "Epoch 966/1000\n",
            "50/50 [==============================] - 7s 131ms/step - loss: 0.7366 - acc: 0.7219\n",
            "Epoch 967/1000\n",
            "50/50 [==============================] - 7s 132ms/step - loss: 0.7411 - acc: 0.7269\n",
            "Epoch 968/1000\n",
            "50/50 [==============================] - 7s 132ms/step - loss: 0.7469 - acc: 0.7191\n",
            "Epoch 969/1000\n",
            "50/50 [==============================] - 7s 132ms/step - loss: 0.7252 - acc: 0.7353\n",
            "Epoch 970/1000\n"
          ],
          "name": "stdout"
        },
        {
          "output_type": "stream",
          "text": [
            "50/50 [==============================] - 7s 132ms/step - loss: 0.7331 - acc: 0.7203\n",
            "Epoch 971/1000\n",
            "50/50 [==============================] - 7s 132ms/step - loss: 0.7002 - acc: 0.7409\n",
            "Epoch 972/1000\n",
            "50/50 [==============================] - 7s 132ms/step - loss: 0.7249 - acc: 0.7344\n",
            "Epoch 973/1000\n",
            "50/50 [==============================] - 6s 129ms/step - loss: 0.7164 - acc: 0.7353\n",
            "Epoch 974/1000\n",
            "50/50 [==============================] - 7s 131ms/step - loss: 0.7451 - acc: 0.7206\n",
            "Epoch 975/1000\n",
            "50/50 [==============================] - 7s 132ms/step - loss: 0.7133 - acc: 0.7338\n",
            "Epoch 976/1000\n"
          ],
          "name": "stdout"
        },
        {
          "output_type": "stream",
          "text": [
            "50/50 [==============================] - 7s 133ms/step - loss: 0.7460 - acc: 0.7334\n",
            "Epoch 977/1000\n",
            "50/50 [==============================] - 7s 132ms/step - loss: 0.7609 - acc: 0.7209\n",
            "Epoch 978/1000\n",
            "50/50 [==============================] - 7s 132ms/step - loss: 0.7429 - acc: 0.7341\n",
            "Epoch 979/1000\n",
            "50/50 [==============================] - 7s 133ms/step - loss: 0.7243 - acc: 0.7419\n",
            "Epoch 980/1000\n",
            "50/50 [==============================] - 7s 132ms/step - loss: 0.7161 - acc: 0.7397\n",
            "Epoch 981/1000\n",
            "50/50 [==============================] - 7s 132ms/step - loss: 0.7438 - acc: 0.7316\n",
            "Epoch 982/1000\n"
          ],
          "name": "stdout"
        },
        {
          "output_type": "stream",
          "text": [
            "50/50 [==============================] - 7s 132ms/step - loss: 0.7768 - acc: 0.7100\n",
            "Epoch 983/1000\n",
            "50/50 [==============================] - 7s 132ms/step - loss: 0.7266 - acc: 0.7272\n",
            "Epoch 984/1000\n",
            "50/50 [==============================] - 7s 132ms/step - loss: 0.7535 - acc: 0.7284\n",
            "Epoch 985/1000\n",
            "50/50 [==============================] - 7s 132ms/step - loss: 0.7224 - acc: 0.7406\n",
            "Epoch 986/1000\n",
            "50/50 [==============================] - 7s 132ms/step - loss: 0.7282 - acc: 0.7272\n",
            "Epoch 987/1000\n",
            "50/50 [==============================] - 7s 132ms/step - loss: 0.7401 - acc: 0.7325\n",
            "Epoch 988/1000\n"
          ],
          "name": "stdout"
        },
        {
          "output_type": "stream",
          "text": [
            "50/50 [==============================] - 7s 133ms/step - loss: 0.7251 - acc: 0.7262\n",
            "Epoch 989/1000\n",
            "50/50 [==============================] - 7s 132ms/step - loss: 0.7155 - acc: 0.7338\n",
            "Epoch 990/1000\n",
            "50/50 [==============================] - 7s 131ms/step - loss: 0.7299 - acc: 0.7265\n",
            "Epoch 991/1000\n",
            "50/50 [==============================] - 7s 132ms/step - loss: 0.7342 - acc: 0.7362\n",
            "Epoch 992/1000\n",
            "50/50 [==============================] - 7s 132ms/step - loss: 0.7139 - acc: 0.7391\n",
            "Epoch 993/1000\n",
            "50/50 [==============================] - 7s 133ms/step - loss: 0.7341 - acc: 0.7203\n",
            "Epoch 994/1000\n"
          ],
          "name": "stdout"
        },
        {
          "output_type": "stream",
          "text": [
            "50/50 [==============================] - 7s 132ms/step - loss: 0.7624 - acc: 0.7163\n",
            "Epoch 995/1000\n",
            "50/50 [==============================] - 7s 131ms/step - loss: 0.7208 - acc: 0.7350\n",
            "Epoch 996/1000\n",
            "50/50 [==============================] - 7s 132ms/step - loss: 0.7335 - acc: 0.7294\n",
            "Epoch 997/1000\n",
            "50/50 [==============================] - 7s 131ms/step - loss: 0.7188 - acc: 0.7341\n",
            "Epoch 998/1000\n",
            "50/50 [==============================] - 7s 132ms/step - loss: 0.7257 - acc: 0.7350\n",
            "Epoch 999/1000\n",
            "50/50 [==============================] - 7s 132ms/step - loss: 0.7106 - acc: 0.7353\n",
            "Epoch 1000/1000\n"
          ],
          "name": "stdout"
        },
        {
          "output_type": "stream",
          "text": [
            "50/50 [==============================] - 7s 132ms/step - loss: 0.7031 - acc: 0.7419\n"
          ],
          "name": "stdout"
        },
        {
          "output_type": "execute_result",
          "data": {
            "text/plain": [
              "<keras.callbacks.History at 0x7fa133695320>"
            ]
          },
          "metadata": {
            "tags": []
          },
          "execution_count": 49
        }
      ]
    },
    {
      "metadata": {
        "id": "YjWGZALYrXWl",
        "colab_type": "code",
        "colab": {}
      },
      "cell_type": "code",
      "source": [
        "model1_2.save(\"drive/face_expr_model1_2.h5\")"
      ],
      "execution_count": 0,
      "outputs": []
    },
    {
      "metadata": {
        "id": "xEg5Pvgarfuq",
        "colab_type": "code",
        "colab": {
          "base_uri": "https://localhost:8080/",
          "height": 50
        },
        "outputId": "d0b3a590-220b-4f30-acb4-1669a4cf4958"
      },
      "cell_type": "code",
      "source": [
        "model1_2.evaluate(X_valid, Y_valid, batch_size=64)"
      ],
      "execution_count": 51,
      "outputs": [
        {
          "output_type": "stream",
          "text": [
            "3589/3589 [==============================] - 3s 788us/step\n"
          ],
          "name": "stdout"
        },
        {
          "output_type": "execute_result",
          "data": {
            "text/plain": [
              "[0.9549317865957619, 0.6726107551181971]"
            ]
          },
          "metadata": {
            "tags": []
          },
          "execution_count": 51
        }
      ]
    },
    {
      "metadata": {
        "id": "aYA-f0zNlcsn",
        "colab_type": "text"
      },
      "cell_type": "markdown",
      "source": [
        "### 2- Model2 - https://arxiv.org/pdf/1706.01509"
      ]
    },
    {
      "metadata": {
        "id": "cWN5Pq1-lgi5",
        "colab_type": "code",
        "colab": {}
      },
      "cell_type": "code",
      "source": [
        "def Model2(input_shape=(48,48,3)):\n",
        "  model = Sequential()\n",
        "  model.add(Conv2D(1, kernel_size=(1, 1), activation='relu', input_shape=input_shape, data_format='channels_last', kernel_regularizer=l2(0.01)))\n",
        "  model.add(Conv2D(10, (5,5), activation='relu'))\n",
        "  model.add(MaxPooling2D())\n",
        "  model.add(Dropout(0.1))\n",
        "  model.add(Conv2D(10, (5,5), activation='relu'))\n",
        "  model.add(MaxPooling2D())\n",
        "  model.add(Dropout(0.15))\n",
        "  model.add(Conv2D(10, (3,3), activation='relu'))\n",
        "  model.add(MaxPooling2D()) \n",
        "  model.add(Dropout(0.1))\n",
        "\n",
        "  model.add(Flatten())\n",
        "\n",
        "  model.add(Dense(256, activation='relu'))\n",
        "  model.add(Dropout(0.2))\n",
        "  model.add(Dense(128, activation='relu'))\n",
        "  model.add(Dropout(0.2))\n",
        "  model.add(Dense(num_labels, activation='softmax'))\n",
        "  return model\n",
        "\n",
        "# TODO - replace "
      ],
      "execution_count": 0,
      "outputs": []
    },
    {
      "metadata": {
        "id": "39oaxtDKxcCq",
        "colab_type": "code",
        "colab": {
          "base_uri": "https://localhost:8080/",
          "height": 669
        },
        "outputId": "880d9c6e-5977-4227-8b1c-8dfafb8e3209"
      },
      "cell_type": "code",
      "source": [
        "model2 = Model2()\n",
        "model2.summary()"
      ],
      "execution_count": 62,
      "outputs": [
        {
          "output_type": "stream",
          "text": [
            "_________________________________________________________________\n",
            "Layer (type)                 Output Shape              Param #   \n",
            "=================================================================\n",
            "conv2d_19 (Conv2D)           (None, 48, 48, 1)         4         \n",
            "_________________________________________________________________\n",
            "conv2d_20 (Conv2D)           (None, 44, 44, 10)        260       \n",
            "_________________________________________________________________\n",
            "max_pooling2d_9 (MaxPooling2 (None, 22, 22, 10)        0         \n",
            "_________________________________________________________________\n",
            "dropout_15 (Dropout)         (None, 22, 22, 10)        0         \n",
            "_________________________________________________________________\n",
            "conv2d_21 (Conv2D)           (None, 18, 18, 10)        2510      \n",
            "_________________________________________________________________\n",
            "max_pooling2d_10 (MaxPooling (None, 9, 9, 10)          0         \n",
            "_________________________________________________________________\n",
            "dropout_16 (Dropout)         (None, 9, 9, 10)          0         \n",
            "_________________________________________________________________\n",
            "conv2d_22 (Conv2D)           (None, 7, 7, 10)          910       \n",
            "_________________________________________________________________\n",
            "max_pooling2d_11 (MaxPooling (None, 3, 3, 10)          0         \n",
            "_________________________________________________________________\n",
            "dropout_17 (Dropout)         (None, 3, 3, 10)          0         \n",
            "_________________________________________________________________\n",
            "flatten_3 (Flatten)          (None, 90)                0         \n",
            "_________________________________________________________________\n",
            "dense_9 (Dense)              (None, 256)               23296     \n",
            "_________________________________________________________________\n",
            "dropout_18 (Dropout)         (None, 256)               0         \n",
            "_________________________________________________________________\n",
            "dense_10 (Dense)             (None, 128)               32896     \n",
            "_________________________________________________________________\n",
            "dropout_19 (Dropout)         (None, 128)               0         \n",
            "_________________________________________________________________\n",
            "dense_11 (Dense)             (None, 7)                 903       \n",
            "=================================================================\n",
            "Total params: 60,779\n",
            "Trainable params: 60,779\n",
            "Non-trainable params: 0\n",
            "_________________________________________________________________\n"
          ],
          "name": "stdout"
        }
      ]
    },
    {
      "metadata": {
        "id": "zpHBq76n6hJk",
        "colab_type": "code",
        "colab": {}
      },
      "cell_type": "code",
      "source": [
        "lr_reducer2 = ReduceLROnPlateau(monitor='val_loss', factor=0.9, patience=3, verbose=1)\n",
        "tensorboard2 = TensorBoard(log_dir='./logs')\n",
        "early_stopper2 = EarlyStopping(monitor='val_loss', min_delta=0, patience=8, verbose=1, mode='auto')\n",
        "checkpointer2 = ModelCheckpoint(\"/drive\", monitor='val_loss', verbose=1, save_best_only=True)"
      ],
      "execution_count": 0,
      "outputs": []
    },
    {
      "metadata": {
        "id": "MRGCpXAsxfv8",
        "colab_type": "code",
        "colab": {}
      },
      "cell_type": "code",
      "source": [
        "model2.compile(loss=categorical_crossentropy,\n",
        "              optimizer=Adam(lr=0.001, beta_1=0.9, beta_2=0.999, epsilon=1e-7),\n",
        "              metrics=['accuracy'])"
      ],
      "execution_count": 0,
      "outputs": []
    },
    {
      "metadata": {
        "id": "skdbB7IwzwzF",
        "colab_type": "code",
        "colab": {}
      },
      "cell_type": "code",
      "source": [
        "model2.load_weights(\"drive/face_expr_model2.h5\")"
      ],
      "execution_count": 0,
      "outputs": []
    },
    {
      "metadata": {
        "id": "gh4JqzcLxnLs",
        "colab_type": "code",
        "colab": {
          "base_uri": "https://localhost:8080/",
          "height": 1592
        },
        "outputId": "df77f9d0-0ebd-45fe-d398-6e3db099940a"
      },
      "cell_type": "code",
      "source": [
        "model2.fit(X_train,Y_train,\n",
        "          batch_size=batch_size,\n",
        "          epochs=500,\n",
        "          verbose=1,\n",
        "          validation_data=(X_valid, Y_valid),\n",
        "          shuffle=True,\n",
        "          callbacks=[lr_reducer2, tensorboard2, checkpointer2, early_stopper2])"
      ],
      "execution_count": 58,
      "outputs": [
        {
          "output_type": "stream",
          "text": [
            "Train on 57418 samples, validate on 3589 samples\n",
            "Epoch 1/500\n",
            "57418/57418 [==============================] - 16s 284us/step - loss: 1.1250 - acc: 0.5673 - val_loss: 1.1268 - val_acc: 0.5704\n",
            "\n",
            "Epoch 00001: val_loss did not improve from 1.12588\n",
            "Epoch 2/500\n",
            "33024/57418 [================>.............] - ETA: 6s - loss: 1.1167 - acc: 0.5743"
          ],
          "name": "stdout"
        },
        {
          "output_type": "stream",
          "text": [
            "57418/57418 [==============================] - 16s 280us/step - loss: 1.1234 - acc: 0.5704 - val_loss: 1.1273 - val_acc: 0.5720\n",
            "\n",
            "Epoch 00002: val_loss did not improve from 1.12588\n",
            "Epoch 3/500\n",
            "57418/57418 [==============================] - 16s 284us/step - loss: 1.1276 - acc: 0.5683 - val_loss: 1.1267 - val_acc: 0.5704\n",
            "\n",
            "Epoch 00003: val_loss did not improve from 1.12588\n",
            "Epoch 4/500\n",
            " 2560/57418 [>.............................] - ETA: 15s - loss: 1.0876 - acc: 0.5754"
          ],
          "name": "stdout"
        },
        {
          "output_type": "stream",
          "text": [
            "57418/57418 [==============================] - 16s 283us/step - loss: 1.1223 - acc: 0.5680 - val_loss: 1.1269 - val_acc: 0.5678\n",
            "\n",
            "Epoch 00004: val_loss did not improve from 1.12588\n",
            "Epoch 5/500\n",
            "53312/57418 [==========================>...] - ETA: 1s - loss: 1.1230 - acc: 0.5676"
          ],
          "name": "stdout"
        },
        {
          "output_type": "stream",
          "text": [
            "57418/57418 [==============================] - 16s 282us/step - loss: 1.1240 - acc: 0.5672 - val_loss: 1.1273 - val_acc: 0.5681\n",
            "\n",
            "Epoch 00005: val_loss did not improve from 1.12588\n",
            "Epoch 6/500\n",
            "57418/57418 [==============================] - 16s 281us/step - loss: 1.1254 - acc: 0.5670 - val_loss: 1.1273 - val_acc: 0.5690\n",
            "\n",
            "Epoch 00006: ReduceLROnPlateau reducing learning rate to 3.7571025586657926e-06.\n",
            "\n",
            "Epoch 00006: val_loss did not improve from 1.12588\n",
            "Epoch 7/500\n",
            " 5824/57418 [==>...........................] - ETA: 14s - loss: 1.1126 - acc: 0.5682"
          ],
          "name": "stdout"
        },
        {
          "output_type": "stream",
          "text": [
            "57418/57418 [==============================] - 16s 284us/step - loss: 1.1241 - acc: 0.5666 - val_loss: 1.1271 - val_acc: 0.5678\n",
            "\n",
            "Epoch 00007: val_loss did not improve from 1.12588\n",
            "Epoch 8/500\n",
            "54592/57418 [===========================>..] - ETA: 0s - loss: 1.1270 - acc: 0.5680"
          ],
          "name": "stdout"
        },
        {
          "output_type": "stream",
          "text": [
            "57418/57418 [==============================] - 16s 282us/step - loss: 1.1254 - acc: 0.5687 - val_loss: 1.1266 - val_acc: 0.5678\n",
            "\n",
            "Epoch 00008: val_loss did not improve from 1.12588\n",
            "Epoch 9/500\n",
            "57418/57418 [==============================] - 16s 280us/step - loss: 1.1234 - acc: 0.5669 - val_loss: 1.1272 - val_acc: 0.5709\n",
            "\n",
            "Epoch 00009: val_loss did not improve from 1.12588\n",
            "Epoch 10/500\n",
            " 7168/57418 [==>...........................] - ETA: 13s - loss: 1.1251 - acc: 0.5709"
          ],
          "name": "stdout"
        },
        {
          "output_type": "stream",
          "text": [
            "57418/57418 [==============================] - 16s 282us/step - loss: 1.1222 - acc: 0.5669 - val_loss: 1.1273 - val_acc: 0.5684\n",
            "\n",
            "Epoch 00010: val_loss did not improve from 1.12588\n",
            "Epoch 11/500\n",
            "54144/57418 [===========================>..] - ETA: 0s - loss: 1.1265 - acc: 0.5683"
          ],
          "name": "stdout"
        },
        {
          "output_type": "stream",
          "text": [
            "57418/57418 [==============================] - 16s 287us/step - loss: 1.1247 - acc: 0.5690 - val_loss: 1.1271 - val_acc: 0.5684\n",
            "\n",
            "Epoch 00011: ReduceLROnPlateau reducing learning rate to 3.381392343726475e-06.\n",
            "\n",
            "Epoch 00011: val_loss did not improve from 1.12588\n",
            "Epoch 12/500\n",
            "52672/57418 [==========================>...] - ETA: 1s - loss: 1.1224 - acc: 0.5657"
          ],
          "name": "stdout"
        },
        {
          "output_type": "stream",
          "text": [
            "57418/57418 [==============================] - 17s 288us/step - loss: 1.1234 - acc: 0.5653 - val_loss: 1.1265 - val_acc: 0.5698\n",
            "\n",
            "Epoch 00012: val_loss did not improve from 1.12588\n",
            "Epoch 13/500\n",
            "57418/57418 [==============================] - 16s 283us/step - loss: 1.1232 - acc: 0.5675 - val_loss: 1.1267 - val_acc: 0.5701\n",
            "\n",
            "Epoch 00013: val_loss did not improve from 1.12588\n",
            "Epoch 14/500\n",
            " 6208/57418 [==>...........................] - ETA: 14s - loss: 1.1378 - acc: 0.5583"
          ],
          "name": "stdout"
        },
        {
          "output_type": "stream",
          "text": [
            "57418/57418 [==============================] - 16s 286us/step - loss: 1.1265 - acc: 0.5676 - val_loss: 1.1270 - val_acc: 0.5692\n",
            "\n",
            "Epoch 00014: ReduceLROnPlateau reducing learning rate to 3.043253150281089e-06.\n",
            "\n",
            "Epoch 00014: val_loss did not improve from 1.12588\n",
            "Epoch 15/500\n",
            "42112/57418 [=====================>........] - ETA: 4s - loss: 1.1188 - acc: 0.5696"
          ],
          "name": "stdout"
        },
        {
          "output_type": "stream",
          "text": [
            "57418/57418 [==============================] - 16s 280us/step - loss: 1.1230 - acc: 0.5683 - val_loss: 1.1271 - val_acc: 0.5690\n",
            "\n",
            "Epoch 00015: val_loss did not improve from 1.12588\n",
            "Epoch 16/500\n",
            "57418/57418 [==============================] - 16s 282us/step - loss: 1.1265 - acc: 0.5685 - val_loss: 1.1271 - val_acc: 0.5695\n",
            "\n",
            "Epoch 00016: val_loss did not improve from 1.12588\n",
            "Epoch 17/500\n",
            " 4288/57418 [=>............................] - ETA: 15s - loss: 1.1360 - acc: 0.5648"
          ],
          "name": "stdout"
        },
        {
          "output_type": "stream",
          "text": [
            "57418/57418 [==============================] - 16s 282us/step - loss: 1.1245 - acc: 0.5667 - val_loss: 1.1271 - val_acc: 0.5684\n",
            "\n",
            "Epoch 00017: ReduceLROnPlateau reducing learning rate to 2.7389278557166107e-06.\n",
            "\n",
            "Epoch 00017: val_loss did not improve from 1.12588\n",
            "Epoch 18/500\n",
            "41344/57418 [====================>.........] - ETA: 4s - loss: 1.1274 - acc: 0.5668"
          ],
          "name": "stdout"
        },
        {
          "output_type": "stream",
          "text": [
            "57418/57418 [==============================] - 16s 284us/step - loss: 1.1274 - acc: 0.5657 - val_loss: 1.1271 - val_acc: 0.5701\n",
            "\n",
            "Epoch 00018: val_loss did not improve from 1.12588\n",
            "Epoch 19/500\n",
            "57418/57418 [==============================] - 16s 280us/step - loss: 1.1263 - acc: 0.5685 - val_loss: 1.1272 - val_acc: 0.5687\n",
            "\n",
            "Epoch 00019: val_loss did not improve from 1.12588\n",
            "Epoch 20/500\n",
            " 4864/57418 [=>............................] - ETA: 14s - loss: 1.1097 - acc: 0.5730"
          ],
          "name": "stdout"
        },
        {
          "output_type": "stream",
          "text": [
            "57418/57418 [==============================] - 16s 279us/step - loss: 1.1206 - acc: 0.5681 - val_loss: 1.1272 - val_acc: 0.5687\n",
            "\n",
            "Epoch 00020: ReduceLROnPlateau reducing learning rate to 2.465035049681319e-06.\n",
            "\n",
            "Epoch 00020: val_loss did not improve from 1.12588\n",
            "Epoch 00020: early stopping\n"
          ],
          "name": "stdout"
        },
        {
          "output_type": "execute_result",
          "data": {
            "text/plain": [
              "<keras.callbacks.History at 0x7fa12fa54828>"
            ]
          },
          "metadata": {
            "tags": []
          },
          "execution_count": 58
        }
      ]
    },
    {
      "metadata": {
        "id": "2z5Xq5RgyJgn",
        "colab_type": "code",
        "colab": {}
      },
      "cell_type": "code",
      "source": [
        "model2.save_weights(\"drive/face_expr_model2.h5\")"
      ],
      "execution_count": 0,
      "outputs": []
    },
    {
      "metadata": {
        "id": "YBUGjVtXyUDZ",
        "colab_type": "code",
        "colab": {
          "base_uri": "https://localhost:8080/",
          "height": 50
        },
        "outputId": "811a09dd-7e00-420a-8c80-a56ce3365deb"
      },
      "cell_type": "code",
      "source": [
        "model2.evaluate(X_test, Y_test, batch_size=batch_size)"
      ],
      "execution_count": 60,
      "outputs": [
        {
          "output_type": "stream",
          "text": [
            "3589/3589 [==============================] - 0s 89us/step\n"
          ],
          "name": "stdout"
        },
        {
          "output_type": "execute_result",
          "data": {
            "text/plain": [
              "[1.1752877810367404, 0.5522429646307062]"
            ]
          },
          "metadata": {
            "tags": []
          },
          "execution_count": 60
        }
      ]
    },
    {
      "metadata": {
        "id": "RlI2rjGdI85C",
        "colab_type": "text"
      },
      "cell_type": "markdown",
      "source": [
        "### Model3 - My own"
      ]
    },
    {
      "metadata": {
        "id": "JQhWxjYBAiaG",
        "colab_type": "code",
        "colab": {}
      },
      "cell_type": "code",
      "source": [
        "def Model3(input_shape=(48,48,3)):\n",
        "  model = Sequential()\n",
        "  model.add(Conv2D(1, kernel_size=(1, 1), activation='relu', input_shape=input_shape, data_format='channels_last', kernel_regularizer=l2(0.01)))\n",
        "  model.add(Conv2D(64, (5, 5), activation='relu'))\n",
        "  model.add(MaxPooling2D(pool_size=(5,5), strides=(2, 2)))\n",
        "  model.add(Dropout(0.2))\n",
        "\n",
        "  model.add(Conv2D(64, (3, 3), activation='relu'))\n",
        "  model.add(Conv2D(64, (3, 3), activation='relu'))\n",
        "  model.add(MaxPooling2D(pool_size=(3,3), strides=(2, 2)))\n",
        "  model.add(Dropout(0.2))\n",
        "  \n",
        "  model.add(Conv2D(128, (3, 3), activation='relu'))\n",
        "  model.add(Conv2D(128, (3, 3), activation='relu'))\n",
        "  model.add(MaxPooling2D(pool_size=(3,3), strides=(2, 2)))\n",
        "  model.add(Dropout(0.2))\n",
        "  \n",
        "  model.add(Flatten())\n",
        "\n",
        "  model.add(Dense(1024, activation='relu'))\n",
        "  model.add(Dropout(0.1))\n",
        "  model.add(Dense(1024, activation='relu'))\n",
        "  model.add(Dropout(0.1))\n",
        "\n",
        "  model.add(Dense(7, activation='softmax'))\n",
        "  return model\n",
        "\n",
        "# TODO - replace MaxPooling with stochastic pooling"
      ],
      "execution_count": 0,
      "outputs": []
    },
    {
      "metadata": {
        "id": "QfA9kpRUNSit",
        "colab_type": "code",
        "colab": {}
      },
      "cell_type": "code",
      "source": [
        "model3=Model3()"
      ],
      "execution_count": 0,
      "outputs": []
    },
    {
      "metadata": {
        "id": "ApvAbwezztRx",
        "colab_type": "code",
        "colab": {
          "base_uri": "https://localhost:8080/",
          "height": 736
        },
        "outputId": "bc57a8fe-3064-415e-9135-0ada1af14c41"
      },
      "cell_type": "code",
      "source": [
        "model3.summary()"
      ],
      "execution_count": 96,
      "outputs": [
        {
          "output_type": "stream",
          "text": [
            "_________________________________________________________________\n",
            "Layer (type)                 Output Shape              Param #   \n",
            "=================================================================\n",
            "conv2d_23 (Conv2D)           (None, 48, 48, 1)         4         \n",
            "_________________________________________________________________\n",
            "conv2d_24 (Conv2D)           (None, 44, 44, 64)        1664      \n",
            "_________________________________________________________________\n",
            "max_pooling2d_12 (MaxPooling (None, 20, 20, 64)        0         \n",
            "_________________________________________________________________\n",
            "dropout_20 (Dropout)         (None, 20, 20, 64)        0         \n",
            "_________________________________________________________________\n",
            "conv2d_25 (Conv2D)           (None, 18, 18, 64)        36928     \n",
            "_________________________________________________________________\n",
            "conv2d_26 (Conv2D)           (None, 16, 16, 64)        36928     \n",
            "_________________________________________________________________\n",
            "max_pooling2d_13 (MaxPooling (None, 7, 7, 64)          0         \n",
            "_________________________________________________________________\n",
            "dropout_21 (Dropout)         (None, 7, 7, 64)          0         \n",
            "_________________________________________________________________\n",
            "conv2d_27 (Conv2D)           (None, 5, 5, 128)         73856     \n",
            "_________________________________________________________________\n",
            "conv2d_28 (Conv2D)           (None, 3, 3, 128)         147584    \n",
            "_________________________________________________________________\n",
            "max_pooling2d_14 (MaxPooling (None, 1, 1, 128)         0         \n",
            "_________________________________________________________________\n",
            "dropout_22 (Dropout)         (None, 1, 1, 128)         0         \n",
            "_________________________________________________________________\n",
            "flatten_4 (Flatten)          (None, 128)               0         \n",
            "_________________________________________________________________\n",
            "dense_12 (Dense)             (None, 1024)              132096    \n",
            "_________________________________________________________________\n",
            "dropout_23 (Dropout)         (None, 1024)              0         \n",
            "_________________________________________________________________\n",
            "dense_13 (Dense)             (None, 1024)              1049600   \n",
            "_________________________________________________________________\n",
            "dropout_24 (Dropout)         (None, 1024)              0         \n",
            "_________________________________________________________________\n",
            "dense_14 (Dense)             (None, 7)                 7175      \n",
            "=================================================================\n",
            "Total params: 1,485,835\n",
            "Trainable params: 1,485,835\n",
            "Non-trainable params: 0\n",
            "_________________________________________________________________\n"
          ],
          "name": "stdout"
        }
      ]
    },
    {
      "metadata": {
        "id": "R4NakEqqxw1J",
        "colab_type": "code",
        "colab": {}
      },
      "cell_type": "code",
      "source": [
        "from keras.preprocessing.image import ImageDataGenerator\n",
        "gen = ImageDataGenerator()\n",
        "train_generator = gen.flow(X_train, Y_train, batch_size=batch_size)\n",
        " \n",
        "model3.compile(loss='categorical_crossentropy'\n",
        ", optimizer=Adam()\n",
        ", metrics=['accuracy']\n",
        ")\n",
        " "
      ],
      "execution_count": 0,
      "outputs": []
    },
    {
      "metadata": {
        "id": "F_tqVd2yUxtv",
        "colab_type": "code",
        "colab": {}
      },
      "cell_type": "code",
      "source": [
        "model3.load_weights(\"drive/face_expr_model3.h5\")"
      ],
      "execution_count": 0,
      "outputs": []
    },
    {
      "metadata": {
        "id": "zuvOjzW8JRxg",
        "colab_type": "code",
        "colab": {
          "base_uri": "https://localhost:8080/",
          "height": 33508
        },
        "outputId": "5c4a64d2-cad8-4699-89ce-6df3610d9ec8"
      },
      "cell_type": "code",
      "source": [
        "model3.fit_generator(train_generator, steps_per_epoch=50, epochs=1000)"
      ],
      "execution_count": 64,
      "outputs": [
        {
          "output_type": "stream",
          "text": [
            "Epoch 1/1000\n",
            "50/50 [==============================] - 3s 65ms/step - loss: 1.8597 - acc: 0.2484\n",
            "Epoch 2/1000\n",
            "50/50 [==============================] - 2s 38ms/step - loss: 1.8210 - acc: 0.2662\n",
            "Epoch 3/1000\n",
            "50/50 [==============================] - 2s 37ms/step - loss: 1.8314 - acc: 0.2406\n",
            "Epoch 4/1000\n",
            "50/50 [==============================] - 2s 37ms/step - loss: 1.8306 - acc: 0.2437\n",
            "Epoch 5/1000\n",
            "50/50 [==============================] - 2s 36ms/step - loss: 1.8329 - acc: 0.2459\n",
            "Epoch 6/1000\n",
            "50/50 [==============================] - 2s 36ms/step - loss: 1.8276 - acc: 0.2462\n",
            "Epoch 7/1000\n",
            "50/50 [==============================] - 2s 35ms/step - loss: 1.8150 - acc: 0.2519\n",
            "Epoch 8/1000\n",
            "50/50 [==============================] - 2s 35ms/step - loss: 1.8344 - acc: 0.2387\n",
            "Epoch 9/1000\n",
            "15/50 [========>.....................] - ETA: 1s - loss: 1.8351 - acc: 0.2437"
          ],
          "name": "stdout"
        },
        {
          "output_type": "stream",
          "text": [
            "50/50 [==============================] - 2s 35ms/step - loss: 1.8220 - acc: 0.2481\n",
            "Epoch 10/1000\n",
            "50/50 [==============================] - 2s 36ms/step - loss: 1.8159 - acc: 0.2553\n",
            "Epoch 11/1000\n",
            "50/50 [==============================] - 2s 35ms/step - loss: 1.8257 - acc: 0.2509\n",
            "Epoch 12/1000\n",
            "50/50 [==============================] - 2s 35ms/step - loss: 1.8202 - acc: 0.2587\n",
            "Epoch 13/1000\n",
            "50/50 [==============================] - 2s 36ms/step - loss: 1.8136 - acc: 0.2469\n",
            "Epoch 14/1000\n",
            "50/50 [==============================] - 2s 35ms/step - loss: 1.8043 - acc: 0.2497\n",
            "Epoch 15/1000\n",
            "50/50 [==============================] - 2s 35ms/step - loss: 1.7894 - acc: 0.2553\n",
            "Epoch 16/1000\n",
            "50/50 [==============================] - 2s 35ms/step - loss: 1.7603 - acc: 0.2734\n",
            "Epoch 17/1000\n",
            "23/50 [============>.................] - ETA: 0s - loss: 1.7453 - acc: 0.2853"
          ],
          "name": "stdout"
        },
        {
          "output_type": "stream",
          "text": [
            "50/50 [==============================] - 2s 35ms/step - loss: 1.7346 - acc: 0.2925\n",
            "Epoch 18/1000\n",
            "50/50 [==============================] - 2s 36ms/step - loss: 1.7367 - acc: 0.2972\n",
            "Epoch 19/1000\n",
            "50/50 [==============================] - 2s 36ms/step - loss: 1.7008 - acc: 0.3041\n",
            "Epoch 20/1000\n",
            "50/50 [==============================] - 2s 36ms/step - loss: 1.7196 - acc: 0.3063\n",
            "Epoch 21/1000\n",
            "50/50 [==============================] - 2s 35ms/step - loss: 1.6925 - acc: 0.2988\n",
            "Epoch 22/1000\n",
            "50/50 [==============================] - 2s 35ms/step - loss: 1.6961 - acc: 0.3041\n",
            "Epoch 23/1000\n",
            "50/50 [==============================] - 2s 35ms/step - loss: 1.6684 - acc: 0.3200\n",
            "Epoch 24/1000\n",
            "50/50 [==============================] - 2s 35ms/step - loss: 1.6780 - acc: 0.3150\n",
            "Epoch 25/1000\n",
            "23/50 [============>.................] - ETA: 0s - loss: 1.6720 - acc: 0.3390"
          ],
          "name": "stdout"
        },
        {
          "output_type": "stream",
          "text": [
            "50/50 [==============================] - 2s 35ms/step - loss: 1.6548 - acc: 0.3412\n",
            "Epoch 26/1000\n",
            "50/50 [==============================] - 2s 36ms/step - loss: 1.6544 - acc: 0.3344\n",
            "Epoch 27/1000\n",
            "50/50 [==============================] - 2s 36ms/step - loss: 1.6497 - acc: 0.3316\n",
            "Epoch 28/1000\n",
            "50/50 [==============================] - 2s 36ms/step - loss: 1.6197 - acc: 0.3603\n",
            "Epoch 29/1000\n",
            "50/50 [==============================] - 2s 36ms/step - loss: 1.5966 - acc: 0.3616\n",
            "Epoch 30/1000\n",
            "50/50 [==============================] - 2s 35ms/step - loss: 1.6088 - acc: 0.3641\n",
            "Epoch 31/1000\n",
            "50/50 [==============================] - 2s 36ms/step - loss: 1.5653 - acc: 0.3753\n",
            "Epoch 32/1000\n",
            "50/50 [==============================] - 2s 36ms/step - loss: 1.5666 - acc: 0.3806\n",
            "Epoch 33/1000\n",
            "21/50 [===========>..................] - ETA: 1s - loss: 1.5493 - acc: 0.3943"
          ],
          "name": "stdout"
        },
        {
          "output_type": "stream",
          "text": [
            "50/50 [==============================] - 2s 35ms/step - loss: 1.5436 - acc: 0.4003\n",
            "Epoch 34/1000\n",
            "50/50 [==============================] - 2s 37ms/step - loss: 1.5308 - acc: 0.4037\n",
            "Epoch 35/1000\n",
            "50/50 [==============================] - 2s 36ms/step - loss: 1.5265 - acc: 0.4075\n",
            "Epoch 36/1000\n",
            "50/50 [==============================] - 2s 36ms/step - loss: 1.5223 - acc: 0.4009\n",
            "Epoch 37/1000\n",
            "50/50 [==============================] - 2s 36ms/step - loss: 1.4969 - acc: 0.4216\n",
            "Epoch 38/1000\n",
            "50/50 [==============================] - 2s 36ms/step - loss: 1.5053 - acc: 0.4163\n",
            "Epoch 39/1000\n",
            "50/50 [==============================] - 2s 35ms/step - loss: 1.4901 - acc: 0.4191\n",
            "Epoch 40/1000\n",
            "50/50 [==============================] - 2s 36ms/step - loss: 1.5002 - acc: 0.4194\n",
            "Epoch 41/1000\n",
            "23/50 [============>.................] - ETA: 0s - loss: 1.4828 - acc: 0.4158"
          ],
          "name": "stdout"
        },
        {
          "output_type": "stream",
          "text": [
            "50/50 [==============================] - 2s 36ms/step - loss: 1.4668 - acc: 0.4303\n",
            "Epoch 42/1000\n",
            "50/50 [==============================] - 2s 35ms/step - loss: 1.4757 - acc: 0.4199\n",
            "Epoch 43/1000\n",
            "50/50 [==============================] - 2s 35ms/step - loss: 1.4773 - acc: 0.4237\n",
            "Epoch 44/1000\n",
            "50/50 [==============================] - 2s 35ms/step - loss: 1.4538 - acc: 0.4328\n",
            "Epoch 45/1000\n",
            "50/50 [==============================] - 2s 36ms/step - loss: 1.4627 - acc: 0.4387\n",
            "Epoch 46/1000\n",
            "50/50 [==============================] - 2s 36ms/step - loss: 1.4297 - acc: 0.4409\n",
            "Epoch 47/1000\n",
            "50/50 [==============================] - 2s 36ms/step - loss: 1.4470 - acc: 0.4425\n",
            "Epoch 48/1000\n",
            "50/50 [==============================] - 2s 36ms/step - loss: 1.4490 - acc: 0.4403\n",
            "Epoch 49/1000\n",
            "23/50 [============>.................] - ETA: 0s - loss: 1.4585 - acc: 0.4382"
          ],
          "name": "stdout"
        },
        {
          "output_type": "stream",
          "text": [
            "50/50 [==============================] - 2s 35ms/step - loss: 1.4226 - acc: 0.4494\n",
            "Epoch 50/1000\n",
            "50/50 [==============================] - 2s 35ms/step - loss: 1.4250 - acc: 0.4584\n",
            "Epoch 51/1000\n",
            "50/50 [==============================] - 2s 36ms/step - loss: 1.4307 - acc: 0.4556\n",
            "Epoch 52/1000\n",
            "50/50 [==============================] - 2s 36ms/step - loss: 1.3886 - acc: 0.4581\n",
            "Epoch 53/1000\n",
            "50/50 [==============================] - 2s 36ms/step - loss: 1.4193 - acc: 0.4453\n",
            "Epoch 54/1000\n",
            "50/50 [==============================] - 2s 36ms/step - loss: 1.4138 - acc: 0.4491\n",
            "Epoch 55/1000\n",
            "50/50 [==============================] - 2s 35ms/step - loss: 1.3820 - acc: 0.4816\n",
            "Epoch 56/1000\n",
            "50/50 [==============================] - 2s 36ms/step - loss: 1.3767 - acc: 0.4719\n",
            "Epoch 57/1000\n",
            "23/50 [============>.................] - ETA: 0s - loss: 1.3626 - acc: 0.4721"
          ],
          "name": "stdout"
        },
        {
          "output_type": "stream",
          "text": [
            "50/50 [==============================] - 2s 35ms/step - loss: 1.3638 - acc: 0.4725\n",
            "Epoch 58/1000\n",
            "50/50 [==============================] - 2s 36ms/step - loss: 1.3760 - acc: 0.4753\n",
            "Epoch 59/1000\n",
            "50/50 [==============================] - 2s 36ms/step - loss: 1.3706 - acc: 0.4791\n",
            "Epoch 60/1000\n",
            "50/50 [==============================] - 2s 35ms/step - loss: 1.3588 - acc: 0.4734\n",
            "Epoch 61/1000\n",
            "50/50 [==============================] - 2s 36ms/step - loss: 1.3979 - acc: 0.4675\n",
            "Epoch 62/1000\n",
            "50/50 [==============================] - 2s 35ms/step - loss: 1.3708 - acc: 0.4716\n",
            "Epoch 63/1000\n",
            "50/50 [==============================] - 2s 36ms/step - loss: 1.3688 - acc: 0.4690\n",
            "Epoch 64/1000\n",
            "50/50 [==============================] - 2s 36ms/step - loss: 1.3832 - acc: 0.4722\n",
            "Epoch 65/1000\n",
            "25/50 [==============>...............] - ETA: 0s - loss: 1.3295 - acc: 0.4800"
          ],
          "name": "stdout"
        },
        {
          "output_type": "stream",
          "text": [
            "50/50 [==============================] - 2s 35ms/step - loss: 1.3456 - acc: 0.4791\n",
            "Epoch 66/1000\n",
            "50/50 [==============================] - 2s 35ms/step - loss: 1.3668 - acc: 0.4681\n",
            "Epoch 67/1000\n",
            "50/50 [==============================] - 2s 36ms/step - loss: 1.3510 - acc: 0.4859\n",
            "Epoch 68/1000\n",
            "50/50 [==============================] - 2s 36ms/step - loss: 1.3636 - acc: 0.4722\n",
            "Epoch 69/1000\n",
            "50/50 [==============================] - 2s 36ms/step - loss: 1.3807 - acc: 0.4688\n",
            "Epoch 70/1000\n",
            "50/50 [==============================] - 2s 35ms/step - loss: 1.3417 - acc: 0.4850\n",
            "Epoch 71/1000\n",
            "50/50 [==============================] - 2s 35ms/step - loss: 1.3737 - acc: 0.4738\n",
            "Epoch 72/1000\n",
            "50/50 [==============================] - 2s 36ms/step - loss: 1.3255 - acc: 0.4831\n",
            "Epoch 73/1000\n",
            "23/50 [============>.................] - ETA: 0s - loss: 1.3096 - acc: 0.5068"
          ],
          "name": "stdout"
        },
        {
          "output_type": "stream",
          "text": [
            "50/50 [==============================] - 2s 36ms/step - loss: 1.2787 - acc: 0.5147\n",
            "Epoch 74/1000\n",
            "50/50 [==============================] - 2s 35ms/step - loss: 1.3379 - acc: 0.4894\n",
            "Epoch 75/1000\n",
            "50/50 [==============================] - 2s 35ms/step - loss: 1.3259 - acc: 0.4944\n",
            "Epoch 76/1000\n",
            "50/50 [==============================] - 2s 36ms/step - loss: 1.3376 - acc: 0.4841\n",
            "Epoch 77/1000\n",
            "50/50 [==============================] - 2s 36ms/step - loss: 1.3223 - acc: 0.4978\n",
            "Epoch 78/1000\n",
            "50/50 [==============================] - 2s 35ms/step - loss: 1.3277 - acc: 0.4859\n",
            "Epoch 79/1000\n",
            "50/50 [==============================] - 2s 35ms/step - loss: 1.3417 - acc: 0.4891\n",
            "Epoch 80/1000\n",
            "50/50 [==============================] - 2s 35ms/step - loss: 1.3097 - acc: 0.5022\n",
            "Epoch 81/1000\n",
            "23/50 [============>.................] - ETA: 0s - loss: 1.2964 - acc: 0.5095"
          ],
          "name": "stdout"
        },
        {
          "output_type": "stream",
          "text": [
            "50/50 [==============================] - 2s 36ms/step - loss: 1.3071 - acc: 0.5109\n",
            "Epoch 82/1000\n",
            "50/50 [==============================] - 2s 36ms/step - loss: 1.2905 - acc: 0.5059\n",
            "Epoch 83/1000\n",
            "50/50 [==============================] - 2s 35ms/step - loss: 1.3243 - acc: 0.4969\n",
            "Epoch 84/1000\n",
            "50/50 [==============================] - 2s 35ms/step - loss: 1.3171 - acc: 0.4978\n",
            "Epoch 85/1000\n",
            "50/50 [==============================] - 2s 35ms/step - loss: 1.2988 - acc: 0.5084\n",
            "Epoch 86/1000\n",
            "50/50 [==============================] - 2s 36ms/step - loss: 1.2853 - acc: 0.5072\n",
            "Epoch 87/1000\n",
            "50/50 [==============================] - 2s 36ms/step - loss: 1.2915 - acc: 0.4991\n",
            "Epoch 88/1000\n",
            "50/50 [==============================] - 2s 35ms/step - loss: 1.3105 - acc: 0.5031\n",
            "Epoch 89/1000\n",
            "23/50 [============>.................] - ETA: 0s - loss: 1.3140 - acc: 0.4980"
          ],
          "name": "stdout"
        },
        {
          "output_type": "stream",
          "text": [
            "50/50 [==============================] - 2s 36ms/step - loss: 1.2985 - acc: 0.4969\n",
            "Epoch 90/1000\n",
            "50/50 [==============================] - 2s 36ms/step - loss: 1.2870 - acc: 0.5006\n",
            "Epoch 91/1000\n",
            "50/50 [==============================] - 2s 36ms/step - loss: 1.3089 - acc: 0.4988\n",
            "Epoch 92/1000\n",
            "50/50 [==============================] - 2s 36ms/step - loss: 1.3075 - acc: 0.5022\n",
            "Epoch 93/1000\n",
            "50/50 [==============================] - 2s 36ms/step - loss: 1.2943 - acc: 0.4988\n",
            "Epoch 94/1000\n",
            "50/50 [==============================] - 2s 36ms/step - loss: 1.2810 - acc: 0.5016\n",
            "Epoch 95/1000\n",
            "50/50 [==============================] - 2s 36ms/step - loss: 1.2763 - acc: 0.5122\n",
            "Epoch 96/1000\n",
            "50/50 [==============================] - 2s 36ms/step - loss: 1.2760 - acc: 0.5128\n",
            "Epoch 97/1000\n",
            "23/50 [============>.................] - ETA: 0s - loss: 1.2918 - acc: 0.5156"
          ],
          "name": "stdout"
        },
        {
          "output_type": "stream",
          "text": [
            "50/50 [==============================] - 2s 36ms/step - loss: 1.2968 - acc: 0.5059\n",
            "Epoch 98/1000\n",
            "50/50 [==============================] - 2s 36ms/step - loss: 1.2878 - acc: 0.4978\n",
            "Epoch 99/1000\n",
            "50/50 [==============================] - 2s 36ms/step - loss: 1.2588 - acc: 0.5125\n",
            "Epoch 100/1000\n",
            "50/50 [==============================] - 2s 36ms/step - loss: 1.2474 - acc: 0.5134\n",
            "Epoch 101/1000\n",
            "50/50 [==============================] - 2s 36ms/step - loss: 1.3049 - acc: 0.5000\n",
            "Epoch 102/1000\n",
            "50/50 [==============================] - 2s 35ms/step - loss: 1.2854 - acc: 0.5044\n",
            "Epoch 103/1000\n",
            "50/50 [==============================] - 2s 36ms/step - loss: 1.2932 - acc: 0.5012\n",
            "Epoch 104/1000\n",
            "50/50 [==============================] - 2s 36ms/step - loss: 1.2757 - acc: 0.5122\n",
            "Epoch 105/1000\n",
            "21/50 [===========>..................] - ETA: 1s - loss: 1.2346 - acc: 0.5271"
          ],
          "name": "stdout"
        },
        {
          "output_type": "stream",
          "text": [
            "50/50 [==============================] - 2s 36ms/step - loss: 1.2840 - acc: 0.5079\n",
            "Epoch 106/1000\n",
            "50/50 [==============================] - 2s 36ms/step - loss: 1.2906 - acc: 0.5028\n",
            "Epoch 107/1000\n",
            "50/50 [==============================] - 2s 36ms/step - loss: 1.2811 - acc: 0.5019\n",
            "Epoch 108/1000\n",
            "50/50 [==============================] - 2s 37ms/step - loss: 1.2701 - acc: 0.5112\n",
            "Epoch 109/1000\n",
            "50/50 [==============================] - 2s 36ms/step - loss: 1.2539 - acc: 0.5241\n",
            "Epoch 110/1000\n",
            "50/50 [==============================] - 2s 36ms/step - loss: 1.2729 - acc: 0.5162\n",
            "Epoch 111/1000\n",
            "50/50 [==============================] - 2s 36ms/step - loss: 1.2509 - acc: 0.5262\n",
            "Epoch 112/1000\n",
            "50/50 [==============================] - 2s 36ms/step - loss: 1.2632 - acc: 0.5228\n",
            "Epoch 113/1000\n",
            "21/50 [===========>..................] - ETA: 1s - loss: 1.2740 - acc: 0.5260"
          ],
          "name": "stdout"
        },
        {
          "output_type": "stream",
          "text": [
            "50/50 [==============================] - 2s 36ms/step - loss: 1.2775 - acc: 0.5150\n",
            "Epoch 114/1000\n",
            "50/50 [==============================] - 2s 36ms/step - loss: 1.2747 - acc: 0.5209\n",
            "Epoch 115/1000\n",
            "50/50 [==============================] - 2s 35ms/step - loss: 1.2472 - acc: 0.5289\n",
            "Epoch 116/1000\n",
            "50/50 [==============================] - 2s 36ms/step - loss: 1.2618 - acc: 0.5125\n",
            "Epoch 117/1000\n",
            "50/50 [==============================] - 2s 36ms/step - loss: 1.2595 - acc: 0.5222\n",
            "Epoch 118/1000\n",
            "50/50 [==============================] - 2s 37ms/step - loss: 1.2719 - acc: 0.5247\n",
            "Epoch 119/1000\n",
            "50/50 [==============================] - 2s 36ms/step - loss: 1.2574 - acc: 0.5128\n",
            "Epoch 120/1000\n",
            "50/50 [==============================] - 2s 36ms/step - loss: 1.2387 - acc: 0.5247\n",
            "Epoch 121/1000\n",
            "21/50 [===========>..................] - ETA: 1s - loss: 1.2592 - acc: 0.5186"
          ],
          "name": "stdout"
        },
        {
          "output_type": "stream",
          "text": [
            "50/50 [==============================] - 2s 36ms/step - loss: 1.2472 - acc: 0.5144\n",
            "Epoch 122/1000\n",
            "50/50 [==============================] - 2s 35ms/step - loss: 1.2525 - acc: 0.5084\n",
            "Epoch 123/1000\n",
            "50/50 [==============================] - 2s 36ms/step - loss: 1.2802 - acc: 0.5031\n",
            "Epoch 124/1000\n",
            "50/50 [==============================] - 2s 36ms/step - loss: 1.2411 - acc: 0.5256\n",
            "Epoch 125/1000\n",
            "50/50 [==============================] - 2s 36ms/step - loss: 1.2407 - acc: 0.5244\n",
            "Epoch 126/1000\n",
            "50/50 [==============================] - 2s 36ms/step - loss: 1.2071 - acc: 0.5366\n",
            "Epoch 127/1000\n",
            "50/50 [==============================] - 2s 36ms/step - loss: 1.2415 - acc: 0.5144\n",
            "Epoch 128/1000\n",
            "50/50 [==============================] - 2s 36ms/step - loss: 1.2541 - acc: 0.5166\n",
            "Epoch 129/1000\n",
            "21/50 [===========>..................] - ETA: 1s - loss: 1.2296 - acc: 0.5216"
          ],
          "name": "stdout"
        },
        {
          "output_type": "stream",
          "text": [
            "50/50 [==============================] - 2s 36ms/step - loss: 1.2419 - acc: 0.5212\n",
            "Epoch 130/1000\n",
            "50/50 [==============================] - 2s 36ms/step - loss: 1.2224 - acc: 0.5272\n",
            "Epoch 131/1000\n",
            "50/50 [==============================] - 2s 36ms/step - loss: 1.2501 - acc: 0.5228\n",
            "Epoch 132/1000\n",
            "50/50 [==============================] - 2s 36ms/step - loss: 1.2040 - acc: 0.5447\n",
            "Epoch 133/1000\n",
            "50/50 [==============================] - 2s 35ms/step - loss: 1.2203 - acc: 0.5269\n",
            "Epoch 134/1000\n",
            "50/50 [==============================] - 2s 36ms/step - loss: 1.2654 - acc: 0.5169\n",
            "Epoch 135/1000\n",
            "50/50 [==============================] - 2s 36ms/step - loss: 1.2380 - acc: 0.5381\n",
            "Epoch 136/1000\n",
            "50/50 [==============================] - 2s 36ms/step - loss: 1.2222 - acc: 0.5338\n",
            "Epoch 137/1000\n",
            "21/50 [===========>..................] - ETA: 1s - loss: 1.2623 - acc: 0.5216"
          ],
          "name": "stdout"
        },
        {
          "output_type": "stream",
          "text": [
            "50/50 [==============================] - 2s 35ms/step - loss: 1.2476 - acc: 0.5241\n",
            "Epoch 138/1000\n",
            "50/50 [==============================] - 2s 36ms/step - loss: 1.2580 - acc: 0.5259\n",
            "Epoch 139/1000\n",
            "50/50 [==============================] - 2s 36ms/step - loss: 1.2330 - acc: 0.5197\n",
            "Epoch 140/1000\n",
            "50/50 [==============================] - 2s 35ms/step - loss: 1.2291 - acc: 0.5259\n",
            "Epoch 141/1000\n",
            "50/50 [==============================] - 2s 36ms/step - loss: 1.2024 - acc: 0.5425\n",
            "Epoch 142/1000\n",
            "50/50 [==============================] - 2s 36ms/step - loss: 1.2216 - acc: 0.5247\n",
            "Epoch 143/1000\n",
            "50/50 [==============================] - 2s 36ms/step - loss: 1.2144 - acc: 0.5319\n",
            "Epoch 144/1000\n",
            "50/50 [==============================] - 2s 36ms/step - loss: 1.2156 - acc: 0.5425\n",
            "Epoch 145/1000\n",
            "21/50 [===========>..................] - ETA: 1s - loss: 1.2310 - acc: 0.5223"
          ],
          "name": "stdout"
        },
        {
          "output_type": "stream",
          "text": [
            "50/50 [==============================] - 2s 35ms/step - loss: 1.2132 - acc: 0.5325\n",
            "Epoch 146/1000\n",
            "50/50 [==============================] - 2s 36ms/step - loss: 1.2421 - acc: 0.5234\n",
            "Epoch 147/1000\n",
            "50/50 [==============================] - 2s 36ms/step - loss: 1.2124 - acc: 0.5319\n",
            "Epoch 148/1000\n",
            "50/50 [==============================] - 2s 36ms/step - loss: 1.2103 - acc: 0.5331\n",
            "Epoch 149/1000\n",
            "50/50 [==============================] - 2s 36ms/step - loss: 1.1961 - acc: 0.5416\n",
            "Epoch 150/1000\n",
            "50/50 [==============================] - 2s 36ms/step - loss: 1.2397 - acc: 0.5219\n",
            "Epoch 151/1000\n",
            "50/50 [==============================] - 2s 36ms/step - loss: 1.1866 - acc: 0.5525\n",
            "Epoch 152/1000\n",
            "50/50 [==============================] - 2s 35ms/step - loss: 1.1829 - acc: 0.5444\n",
            "Epoch 153/1000\n",
            "21/50 [===========>..................] - ETA: 1s - loss: 1.2324 - acc: 0.5164"
          ],
          "name": "stdout"
        },
        {
          "output_type": "stream",
          "text": [
            "50/50 [==============================] - 2s 36ms/step - loss: 1.2337 - acc: 0.5278\n",
            "Epoch 154/1000\n",
            "50/50 [==============================] - 2s 35ms/step - loss: 1.1889 - acc: 0.5536\n",
            "Epoch 155/1000\n",
            "50/50 [==============================] - 2s 36ms/step - loss: 1.2347 - acc: 0.5250\n",
            "Epoch 156/1000\n",
            "50/50 [==============================] - 2s 36ms/step - loss: 1.2138 - acc: 0.5331\n",
            "Epoch 157/1000\n",
            "50/50 [==============================] - 2s 36ms/step - loss: 1.2095 - acc: 0.5281\n",
            "Epoch 158/1000\n",
            "50/50 [==============================] - 2s 36ms/step - loss: 1.2317 - acc: 0.5422\n",
            "Epoch 159/1000\n",
            "50/50 [==============================] - 2s 37ms/step - loss: 1.2016 - acc: 0.5456\n",
            "Epoch 160/1000\n",
            "50/50 [==============================] - 2s 36ms/step - loss: 1.2369 - acc: 0.5356\n",
            "Epoch 161/1000\n",
            "21/50 [===========>..................] - ETA: 1s - loss: 1.2372 - acc: 0.5231"
          ],
          "name": "stdout"
        },
        {
          "output_type": "stream",
          "text": [
            "50/50 [==============================] - 2s 36ms/step - loss: 1.2415 - acc: 0.5331\n",
            "Epoch 162/1000\n",
            "50/50 [==============================] - 2s 36ms/step - loss: 1.2132 - acc: 0.5409\n",
            "Epoch 163/1000\n",
            "50/50 [==============================] - 2s 36ms/step - loss: 1.1754 - acc: 0.5487\n",
            "Epoch 164/1000\n",
            "50/50 [==============================] - 2s 35ms/step - loss: 1.1715 - acc: 0.5419\n",
            "Epoch 165/1000\n",
            "50/50 [==============================] - 2s 35ms/step - loss: 1.2047 - acc: 0.5359\n",
            "Epoch 166/1000\n",
            "50/50 [==============================] - 2s 35ms/step - loss: 1.1920 - acc: 0.5581\n",
            "Epoch 167/1000\n",
            "50/50 [==============================] - 2s 36ms/step - loss: 1.2218 - acc: 0.5300\n",
            "Epoch 168/1000\n",
            "50/50 [==============================] - 2s 36ms/step - loss: 1.1842 - acc: 0.5469\n",
            "Epoch 169/1000\n",
            "21/50 [===========>..................] - ETA: 1s - loss: 1.2289 - acc: 0.5216"
          ],
          "name": "stdout"
        },
        {
          "output_type": "stream",
          "text": [
            "50/50 [==============================] - 2s 36ms/step - loss: 1.2206 - acc: 0.5303\n",
            "Epoch 170/1000\n",
            "50/50 [==============================] - 2s 36ms/step - loss: 1.2147 - acc: 0.5434\n",
            "Epoch 171/1000\n",
            "50/50 [==============================] - 2s 36ms/step - loss: 1.1916 - acc: 0.5456\n",
            "Epoch 172/1000\n",
            "50/50 [==============================] - 2s 35ms/step - loss: 1.1910 - acc: 0.5459\n",
            "Epoch 173/1000\n",
            "50/50 [==============================] - 2s 35ms/step - loss: 1.2197 - acc: 0.5347\n",
            "Epoch 174/1000\n",
            "50/50 [==============================] - 2s 35ms/step - loss: 1.1902 - acc: 0.5391\n",
            "Epoch 175/1000\n",
            "50/50 [==============================] - 2s 35ms/step - loss: 1.1998 - acc: 0.5347\n",
            "Epoch 176/1000\n",
            "50/50 [==============================] - 2s 35ms/step - loss: 1.1828 - acc: 0.5516\n",
            "Epoch 177/1000\n",
            "19/50 [==========>...................] - ETA: 1s - loss: 1.2529 - acc: 0.5296"
          ],
          "name": "stdout"
        },
        {
          "output_type": "stream",
          "text": [
            "50/50 [==============================] - 2s 36ms/step - loss: 1.2365 - acc: 0.5306\n",
            "Epoch 178/1000\n",
            "50/50 [==============================] - 2s 36ms/step - loss: 1.2140 - acc: 0.5341\n",
            "Epoch 179/1000\n",
            "50/50 [==============================] - 2s 36ms/step - loss: 1.2257 - acc: 0.5297\n",
            "Epoch 180/1000\n",
            "50/50 [==============================] - 2s 36ms/step - loss: 1.1891 - acc: 0.5478\n",
            "Epoch 181/1000\n",
            "50/50 [==============================] - 2s 36ms/step - loss: 1.1907 - acc: 0.5463\n",
            "Epoch 182/1000\n",
            "50/50 [==============================] - 2s 36ms/step - loss: 1.1699 - acc: 0.5419\n",
            "Epoch 183/1000\n",
            "50/50 [==============================] - 2s 36ms/step - loss: 1.2190 - acc: 0.5363\n",
            "Epoch 184/1000\n",
            "50/50 [==============================] - 2s 36ms/step - loss: 1.1634 - acc: 0.5453\n",
            "Epoch 185/1000\n",
            "21/50 [===========>..................] - ETA: 1s - loss: 1.1791 - acc: 0.5521"
          ],
          "name": "stdout"
        },
        {
          "output_type": "stream",
          "text": [
            "50/50 [==============================] - 2s 36ms/step - loss: 1.2050 - acc: 0.5331\n",
            "Epoch 186/1000\n",
            "50/50 [==============================] - 2s 36ms/step - loss: 1.1945 - acc: 0.5534\n",
            "Epoch 187/1000\n",
            "50/50 [==============================] - 2s 36ms/step - loss: 1.1493 - acc: 0.5569\n",
            "Epoch 188/1000\n",
            "50/50 [==============================] - 2s 36ms/step - loss: 1.2174 - acc: 0.5294\n",
            "Epoch 189/1000\n",
            "50/50 [==============================] - 2s 36ms/step - loss: 1.2009 - acc: 0.5400\n",
            "Epoch 190/1000\n",
            "50/50 [==============================] - 2s 36ms/step - loss: 1.2040 - acc: 0.5437\n",
            "Epoch 191/1000\n",
            "50/50 [==============================] - 2s 36ms/step - loss: 1.1947 - acc: 0.5450\n",
            "Epoch 192/1000\n",
            "50/50 [==============================] - 2s 36ms/step - loss: 1.1679 - acc: 0.5566\n",
            "Epoch 193/1000\n",
            "21/50 [===========>..................] - ETA: 1s - loss: 1.1808 - acc: 0.5528"
          ],
          "name": "stdout"
        },
        {
          "output_type": "stream",
          "text": [
            "50/50 [==============================] - 2s 36ms/step - loss: 1.1826 - acc: 0.5444\n",
            "Epoch 194/1000\n",
            "50/50 [==============================] - 2s 35ms/step - loss: 1.2038 - acc: 0.5487\n",
            "Epoch 195/1000\n",
            "50/50 [==============================] - 2s 36ms/step - loss: 1.2091 - acc: 0.5325\n",
            "Epoch 196/1000\n",
            "50/50 [==============================] - 2s 36ms/step - loss: 1.1740 - acc: 0.5572\n",
            "Epoch 197/1000\n",
            "50/50 [==============================] - 2s 36ms/step - loss: 1.2125 - acc: 0.5409\n",
            "Epoch 198/1000\n",
            "50/50 [==============================] - 2s 36ms/step - loss: 1.1832 - acc: 0.5550\n",
            "Epoch 199/1000\n",
            "50/50 [==============================] - 2s 35ms/step - loss: 1.1556 - acc: 0.5553\n",
            "Epoch 200/1000\n",
            "50/50 [==============================] - 2s 36ms/step - loss: 1.2036 - acc: 0.5353\n",
            "Epoch 201/1000\n",
            "21/50 [===========>..................] - ETA: 1s - loss: 1.2301 - acc: 0.5238"
          ],
          "name": "stdout"
        },
        {
          "output_type": "stream",
          "text": [
            "50/50 [==============================] - 2s 36ms/step - loss: 1.2001 - acc: 0.5419\n",
            "Epoch 202/1000\n",
            "50/50 [==============================] - 2s 36ms/step - loss: 1.1813 - acc: 0.5503\n",
            "Epoch 203/1000\n",
            "50/50 [==============================] - 2s 36ms/step - loss: 1.1804 - acc: 0.5516\n",
            "Epoch 204/1000\n",
            "50/50 [==============================] - 2s 36ms/step - loss: 1.1953 - acc: 0.5366\n",
            "Epoch 205/1000\n",
            "50/50 [==============================] - 2s 35ms/step - loss: 1.1702 - acc: 0.5534\n",
            "Epoch 206/1000\n",
            "50/50 [==============================] - 2s 35ms/step - loss: 1.1816 - acc: 0.5553\n",
            "Epoch 207/1000\n",
            "50/50 [==============================] - 2s 36ms/step - loss: 1.1911 - acc: 0.5391\n",
            "Epoch 208/1000\n",
            "50/50 [==============================] - 2s 35ms/step - loss: 1.1546 - acc: 0.5663\n",
            "Epoch 209/1000\n",
            "21/50 [===========>..................] - ETA: 1s - loss: 1.1680 - acc: 0.5461"
          ],
          "name": "stdout"
        },
        {
          "output_type": "stream",
          "text": [
            "50/50 [==============================] - 2s 36ms/step - loss: 1.1837 - acc: 0.5419\n",
            "Epoch 210/1000\n",
            "50/50 [==============================] - 2s 36ms/step - loss: 1.1718 - acc: 0.5541\n",
            "Epoch 211/1000\n",
            "50/50 [==============================] - 2s 36ms/step - loss: 1.1447 - acc: 0.5625\n",
            "Epoch 212/1000\n",
            "50/50 [==============================] - 2s 35ms/step - loss: 1.2216 - acc: 0.5277\n",
            "Epoch 213/1000\n",
            "50/50 [==============================] - 2s 37ms/step - loss: 1.1884 - acc: 0.5500\n",
            "Epoch 214/1000\n",
            "50/50 [==============================] - 2s 36ms/step - loss: 1.1656 - acc: 0.5516\n",
            "Epoch 215/1000\n",
            "50/50 [==============================] - 2s 36ms/step - loss: 1.1553 - acc: 0.5581\n",
            "Epoch 216/1000\n",
            "50/50 [==============================] - 2s 36ms/step - loss: 1.1750 - acc: 0.5453\n",
            "Epoch 217/1000\n",
            "17/50 [=========>....................] - ETA: 1s - loss: 1.1570 - acc: 0.5579"
          ],
          "name": "stdout"
        },
        {
          "output_type": "stream",
          "text": [
            "50/50 [==============================] - 2s 36ms/step - loss: 1.1358 - acc: 0.5703\n",
            "Epoch 218/1000\n",
            "50/50 [==============================] - 2s 35ms/step - loss: 1.1666 - acc: 0.5575\n",
            "Epoch 219/1000\n",
            "50/50 [==============================] - 2s 35ms/step - loss: 1.1436 - acc: 0.5581\n",
            "Epoch 220/1000\n",
            "50/50 [==============================] - 2s 35ms/step - loss: 1.1851 - acc: 0.5425\n",
            "Epoch 221/1000\n",
            "50/50 [==============================] - 2s 35ms/step - loss: 1.1841 - acc: 0.5569\n",
            "Epoch 222/1000\n",
            "50/50 [==============================] - 2s 36ms/step - loss: 1.1402 - acc: 0.5806\n",
            "Epoch 223/1000\n",
            "50/50 [==============================] - 2s 35ms/step - loss: 1.1853 - acc: 0.5506\n",
            "Epoch 224/1000\n",
            "50/50 [==============================] - 2s 35ms/step - loss: 1.1671 - acc: 0.5591\n",
            "Epoch 225/1000\n",
            "21/50 [===========>..................] - ETA: 1s - loss: 1.1477 - acc: 0.5469"
          ],
          "name": "stdout"
        },
        {
          "output_type": "stream",
          "text": [
            "50/50 [==============================] - 2s 35ms/step - loss: 1.1610 - acc: 0.5444\n",
            "Epoch 226/1000\n",
            "50/50 [==============================] - 2s 36ms/step - loss: 1.1628 - acc: 0.5597\n",
            "Epoch 227/1000\n",
            "50/50 [==============================] - 2s 36ms/step - loss: 1.1683 - acc: 0.5513\n",
            "Epoch 228/1000\n",
            "50/50 [==============================] - 2s 35ms/step - loss: 1.1679 - acc: 0.5497\n",
            "Epoch 229/1000\n",
            "50/50 [==============================] - 2s 35ms/step - loss: 1.1487 - acc: 0.5578\n",
            "Epoch 230/1000\n",
            "50/50 [==============================] - 2s 35ms/step - loss: 1.1366 - acc: 0.5772\n",
            "Epoch 231/1000\n",
            "50/50 [==============================] - 2s 36ms/step - loss: 1.1320 - acc: 0.5669\n",
            "Epoch 232/1000\n",
            "50/50 [==============================] - 2s 35ms/step - loss: 1.2054 - acc: 0.5406\n",
            "Epoch 233/1000\n",
            "21/50 [===========>..................] - ETA: 1s - loss: 1.1616 - acc: 0.5528"
          ],
          "name": "stdout"
        },
        {
          "output_type": "stream",
          "text": [
            "50/50 [==============================] - 2s 35ms/step - loss: 1.1590 - acc: 0.5584\n",
            "Epoch 234/1000\n",
            "50/50 [==============================] - 2s 36ms/step - loss: 1.1550 - acc: 0.5559\n",
            "Epoch 235/1000\n",
            "50/50 [==============================] - 2s 35ms/step - loss: 1.1714 - acc: 0.5637\n",
            "Epoch 236/1000\n",
            "50/50 [==============================] - 2s 35ms/step - loss: 1.1507 - acc: 0.5625\n",
            "Epoch 237/1000\n",
            "50/50 [==============================] - 2s 36ms/step - loss: 1.1429 - acc: 0.5716\n",
            "Epoch 238/1000\n",
            "50/50 [==============================] - 2s 35ms/step - loss: 1.1466 - acc: 0.5625\n",
            "Epoch 239/1000\n",
            "50/50 [==============================] - 2s 35ms/step - loss: 1.1523 - acc: 0.5553\n",
            "Epoch 240/1000\n",
            "50/50 [==============================] - 2s 35ms/step - loss: 1.1309 - acc: 0.5756\n",
            "Epoch 241/1000\n",
            "21/50 [===========>..................] - ETA: 1s - loss: 1.1354 - acc: 0.5692"
          ],
          "name": "stdout"
        },
        {
          "output_type": "stream",
          "text": [
            "50/50 [==============================] - 2s 36ms/step - loss: 1.1498 - acc: 0.5628\n",
            "Epoch 242/1000\n",
            "50/50 [==============================] - 2s 35ms/step - loss: 1.1389 - acc: 0.5687\n",
            "Epoch 243/1000\n",
            "50/50 [==============================] - 2s 35ms/step - loss: 1.1243 - acc: 0.5687\n",
            "Epoch 244/1000\n",
            "50/50 [==============================] - 2s 36ms/step - loss: 1.1655 - acc: 0.5475\n",
            "Epoch 245/1000\n",
            "50/50 [==============================] - 2s 34ms/step - loss: 1.1895 - acc: 0.5575\n",
            "Epoch 246/1000\n",
            "50/50 [==============================] - 2s 36ms/step - loss: 1.1352 - acc: 0.5692\n",
            "Epoch 247/1000\n",
            "50/50 [==============================] - 2s 35ms/step - loss: 1.1836 - acc: 0.5475\n",
            "Epoch 248/1000\n",
            "50/50 [==============================] - 2s 35ms/step - loss: 1.1712 - acc: 0.5609\n",
            "Epoch 249/1000\n",
            "19/50 [==========>...................] - ETA: 1s - loss: 1.1809 - acc: 0.5337"
          ],
          "name": "stdout"
        },
        {
          "output_type": "stream",
          "text": [
            "50/50 [==============================] - 2s 35ms/step - loss: 1.1621 - acc: 0.5563\n",
            "Epoch 250/1000\n",
            "50/50 [==============================] - 2s 35ms/step - loss: 1.1891 - acc: 0.5475\n",
            "Epoch 251/1000\n",
            "50/50 [==============================] - 2s 35ms/step - loss: 1.1133 - acc: 0.5884\n",
            "Epoch 252/1000\n",
            "50/50 [==============================] - 2s 35ms/step - loss: 1.1460 - acc: 0.5678\n",
            "Epoch 253/1000\n",
            "50/50 [==============================] - 2s 34ms/step - loss: 1.1118 - acc: 0.5820\n",
            "Epoch 254/1000\n",
            "50/50 [==============================] - 2s 36ms/step - loss: 1.1513 - acc: 0.5709\n",
            "Epoch 255/1000\n",
            "50/50 [==============================] - 2s 36ms/step - loss: 1.1421 - acc: 0.5684\n",
            "Epoch 256/1000\n",
            "50/50 [==============================] - 2s 36ms/step - loss: 1.1695 - acc: 0.5450\n",
            "Epoch 257/1000\n",
            "21/50 [===========>..................] - ETA: 1s - loss: 1.1325 - acc: 0.5632"
          ],
          "name": "stdout"
        },
        {
          "output_type": "stream",
          "text": [
            "50/50 [==============================] - 2s 35ms/step - loss: 1.1268 - acc: 0.5722\n",
            "Epoch 258/1000\n",
            "50/50 [==============================] - 2s 36ms/step - loss: 1.1877 - acc: 0.5463\n",
            "Epoch 259/1000\n",
            "50/50 [==============================] - 2s 36ms/step - loss: 1.1559 - acc: 0.5537\n",
            "Epoch 260/1000\n",
            "50/50 [==============================] - 2s 36ms/step - loss: 1.1466 - acc: 0.5713\n",
            "Epoch 261/1000\n",
            "50/50 [==============================] - 2s 35ms/step - loss: 1.1146 - acc: 0.5703\n",
            "Epoch 262/1000\n",
            "50/50 [==============================] - 2s 35ms/step - loss: 1.1276 - acc: 0.5672\n",
            "Epoch 263/1000\n",
            "50/50 [==============================] - 2s 35ms/step - loss: 1.1408 - acc: 0.5631\n",
            "Epoch 264/1000\n",
            "50/50 [==============================] - 2s 36ms/step - loss: 1.1393 - acc: 0.5666\n",
            "Epoch 265/1000\n",
            "21/50 [===========>..................] - ETA: 1s - loss: 1.1851 - acc: 0.5595"
          ],
          "name": "stdout"
        },
        {
          "output_type": "stream",
          "text": [
            "50/50 [==============================] - 2s 36ms/step - loss: 1.1667 - acc: 0.5694\n",
            "Epoch 266/1000\n",
            "50/50 [==============================] - 2s 35ms/step - loss: 1.1384 - acc: 0.5659\n",
            "Epoch 267/1000\n",
            "50/50 [==============================] - 2s 36ms/step - loss: 1.1333 - acc: 0.5781\n",
            "Epoch 268/1000\n",
            "50/50 [==============================] - 2s 36ms/step - loss: 1.1430 - acc: 0.5694\n",
            "Epoch 269/1000\n",
            "50/50 [==============================] - 2s 35ms/step - loss: 1.1276 - acc: 0.5769\n",
            "Epoch 270/1000\n",
            "50/50 [==============================] - 2s 36ms/step - loss: 1.1482 - acc: 0.5706\n",
            "Epoch 271/1000\n",
            "50/50 [==============================] - 2s 36ms/step - loss: 1.1372 - acc: 0.5619\n",
            "Epoch 272/1000\n",
            "50/50 [==============================] - 2s 36ms/step - loss: 1.1526 - acc: 0.5619\n",
            "Epoch 273/1000\n",
            "21/50 [===========>..................] - ETA: 1s - loss: 1.1349 - acc: 0.5714"
          ],
          "name": "stdout"
        },
        {
          "output_type": "stream",
          "text": [
            "50/50 [==============================] - 2s 36ms/step - loss: 1.1353 - acc: 0.5678\n",
            "Epoch 274/1000\n",
            "50/50 [==============================] - 2s 36ms/step - loss: 1.1440 - acc: 0.5684\n",
            "Epoch 275/1000\n",
            "50/50 [==============================] - 2s 35ms/step - loss: 1.1268 - acc: 0.5656\n",
            "Epoch 276/1000\n",
            "50/50 [==============================] - 2s 36ms/step - loss: 1.1684 - acc: 0.5484\n",
            "Epoch 277/1000\n",
            "50/50 [==============================] - 2s 35ms/step - loss: 1.1196 - acc: 0.5787\n",
            "Epoch 278/1000\n",
            "50/50 [==============================] - 2s 35ms/step - loss: 1.1438 - acc: 0.5725\n",
            "Epoch 279/1000\n",
            "50/50 [==============================] - 2s 36ms/step - loss: 1.1505 - acc: 0.5572\n",
            "Epoch 280/1000\n",
            "50/50 [==============================] - 2s 35ms/step - loss: 1.1461 - acc: 0.5684\n",
            "Epoch 281/1000\n",
            "21/50 [===========>..................] - ETA: 1s - loss: 1.1403 - acc: 0.5588"
          ],
          "name": "stdout"
        },
        {
          "output_type": "stream",
          "text": [
            "50/50 [==============================] - 2s 35ms/step - loss: 1.1331 - acc: 0.5663\n",
            "Epoch 282/1000\n",
            "50/50 [==============================] - 2s 36ms/step - loss: 1.1366 - acc: 0.5672\n",
            "Epoch 283/1000\n",
            "50/50 [==============================] - 2s 35ms/step - loss: 1.1355 - acc: 0.5703\n",
            "Epoch 284/1000\n",
            "50/50 [==============================] - 2s 36ms/step - loss: 1.1396 - acc: 0.5694\n",
            "Epoch 285/1000\n",
            "50/50 [==============================] - 2s 36ms/step - loss: 1.1377 - acc: 0.5653\n",
            "Epoch 286/1000\n",
            "50/50 [==============================] - 2s 35ms/step - loss: 1.1228 - acc: 0.5656\n",
            "Epoch 287/1000\n",
            "50/50 [==============================] - 2s 35ms/step - loss: 1.1489 - acc: 0.5619\n",
            "Epoch 288/1000\n",
            "50/50 [==============================] - 2s 37ms/step - loss: 1.1018 - acc: 0.5794\n",
            "Epoch 289/1000\n",
            "21/50 [===========>..................] - ETA: 1s - loss: 1.1551 - acc: 0.5625"
          ],
          "name": "stdout"
        },
        {
          "output_type": "stream",
          "text": [
            "50/50 [==============================] - 2s 36ms/step - loss: 1.1346 - acc: 0.5687\n",
            "Epoch 290/1000\n",
            "50/50 [==============================] - 2s 36ms/step - loss: 1.1503 - acc: 0.5556\n",
            "Epoch 291/1000\n",
            "50/50 [==============================] - 2s 37ms/step - loss: 1.1052 - acc: 0.5797\n",
            "Epoch 292/1000\n",
            "50/50 [==============================] - 2s 36ms/step - loss: 1.1371 - acc: 0.5597\n",
            "Epoch 293/1000\n",
            "50/50 [==============================] - 2s 36ms/step - loss: 1.1030 - acc: 0.5906\n",
            "Epoch 294/1000\n",
            "50/50 [==============================] - 2s 36ms/step - loss: 1.1144 - acc: 0.5822\n",
            "Epoch 295/1000\n",
            "50/50 [==============================] - 2s 36ms/step - loss: 1.1148 - acc: 0.5653\n",
            "Epoch 296/1000\n",
            "50/50 [==============================] - 2s 36ms/step - loss: 1.1286 - acc: 0.5731\n",
            "Epoch 297/1000\n",
            "21/50 [===========>..................] - ETA: 1s - loss: 1.1442 - acc: 0.5670"
          ],
          "name": "stdout"
        },
        {
          "output_type": "stream",
          "text": [
            "50/50 [==============================] - 2s 35ms/step - loss: 1.1456 - acc: 0.5653\n",
            "Epoch 298/1000\n",
            "50/50 [==============================] - 2s 36ms/step - loss: 1.1462 - acc: 0.5644\n",
            "Epoch 299/1000\n",
            "50/50 [==============================] - 2s 36ms/step - loss: 1.1117 - acc: 0.5784\n",
            "Epoch 300/1000\n",
            "50/50 [==============================] - 2s 36ms/step - loss: 1.1414 - acc: 0.5687\n",
            "Epoch 301/1000\n",
            "50/50 [==============================] - 2s 35ms/step - loss: 1.1112 - acc: 0.5855\n",
            "Epoch 302/1000\n",
            "50/50 [==============================] - 2s 36ms/step - loss: 1.1326 - acc: 0.5741\n",
            "Epoch 303/1000\n",
            "50/50 [==============================] - 2s 36ms/step - loss: 1.1148 - acc: 0.5569\n",
            "Epoch 304/1000\n",
            "50/50 [==============================] - 2s 36ms/step - loss: 1.1365 - acc: 0.5647\n",
            "Epoch 305/1000\n",
            "21/50 [===========>..................] - ETA: 1s - loss: 1.1279 - acc: 0.5647"
          ],
          "name": "stdout"
        },
        {
          "output_type": "stream",
          "text": [
            "50/50 [==============================] - 2s 35ms/step - loss: 1.1164 - acc: 0.5719\n",
            "Epoch 306/1000\n",
            "50/50 [==============================] - 2s 36ms/step - loss: 1.1233 - acc: 0.5697\n",
            "Epoch 307/1000\n",
            "50/50 [==============================] - 2s 35ms/step - loss: 1.1274 - acc: 0.5750\n",
            "Epoch 308/1000\n",
            "50/50 [==============================] - 2s 36ms/step - loss: 1.1402 - acc: 0.5725\n",
            "Epoch 309/1000\n",
            "50/50 [==============================] - 2s 35ms/step - loss: 1.1045 - acc: 0.5753\n",
            "Epoch 310/1000\n",
            "50/50 [==============================] - 2s 36ms/step - loss: 1.1442 - acc: 0.5644\n",
            "Epoch 311/1000\n",
            "50/50 [==============================] - 2s 36ms/step - loss: 1.1671 - acc: 0.5603\n",
            "Epoch 312/1000\n",
            "50/50 [==============================] - 2s 35ms/step - loss: 1.0981 - acc: 0.5831\n",
            "Epoch 313/1000\n",
            "21/50 [===========>..................] - ETA: 1s - loss: 1.0920 - acc: 0.5744"
          ],
          "name": "stdout"
        },
        {
          "output_type": "stream",
          "text": [
            "50/50 [==============================] - 2s 36ms/step - loss: 1.1095 - acc: 0.5775\n",
            "Epoch 314/1000\n",
            "50/50 [==============================] - 2s 36ms/step - loss: 1.0786 - acc: 0.6050\n",
            "Epoch 315/1000\n",
            "50/50 [==============================] - 2s 36ms/step - loss: 1.1392 - acc: 0.5656\n",
            "Epoch 316/1000\n",
            "50/50 [==============================] - 2s 36ms/step - loss: 1.1231 - acc: 0.5763\n",
            "Epoch 317/1000\n",
            "50/50 [==============================] - 2s 36ms/step - loss: 1.1166 - acc: 0.5781\n",
            "Epoch 318/1000\n",
            "50/50 [==============================] - 2s 36ms/step - loss: 1.1055 - acc: 0.5813\n",
            "Epoch 319/1000\n",
            "50/50 [==============================] - 2s 35ms/step - loss: 1.1263 - acc: 0.5759\n",
            "Epoch 320/1000\n",
            "50/50 [==============================] - 2s 36ms/step - loss: 1.1097 - acc: 0.5809\n",
            "Epoch 321/1000\n",
            "21/50 [===========>..................] - ETA: 1s - loss: 1.1598 - acc: 0.5692"
          ],
          "name": "stdout"
        },
        {
          "output_type": "stream",
          "text": [
            "50/50 [==============================] - 2s 35ms/step - loss: 1.1270 - acc: 0.5813\n",
            "Epoch 322/1000\n",
            "50/50 [==============================] - 2s 36ms/step - loss: 1.1165 - acc: 0.5691\n",
            "Epoch 323/1000\n",
            "50/50 [==============================] - 2s 36ms/step - loss: 1.1302 - acc: 0.5716\n",
            "Epoch 324/1000\n",
            "50/50 [==============================] - 2s 36ms/step - loss: 1.0857 - acc: 0.5791\n",
            "Epoch 325/1000\n",
            "50/50 [==============================] - 2s 36ms/step - loss: 1.0916 - acc: 0.5950\n",
            "Epoch 326/1000\n",
            "50/50 [==============================] - 2s 36ms/step - loss: 1.0980 - acc: 0.5858\n",
            "Epoch 327/1000\n",
            "50/50 [==============================] - 2s 35ms/step - loss: 1.0995 - acc: 0.5800\n",
            "Epoch 328/1000\n",
            "50/50 [==============================] - 2s 35ms/step - loss: 1.1277 - acc: 0.5722\n",
            "Epoch 329/1000\n",
            "21/50 [===========>..................] - ETA: 1s - loss: 1.1205 - acc: 0.5766"
          ],
          "name": "stdout"
        },
        {
          "output_type": "stream",
          "text": [
            "50/50 [==============================] - 2s 35ms/step - loss: 1.1103 - acc: 0.5806\n",
            "Epoch 330/1000\n",
            "50/50 [==============================] - 2s 35ms/step - loss: 1.1331 - acc: 0.5703\n",
            "Epoch 331/1000\n",
            "50/50 [==============================] - 2s 35ms/step - loss: 1.1172 - acc: 0.5772\n",
            "Epoch 332/1000\n",
            "50/50 [==============================] - 2s 35ms/step - loss: 1.0965 - acc: 0.5947\n",
            "Epoch 333/1000\n",
            "50/50 [==============================] - 2s 35ms/step - loss: 1.1201 - acc: 0.5741\n",
            "Epoch 334/1000\n",
            "50/50 [==============================] - 2s 35ms/step - loss: 1.1173 - acc: 0.5703\n",
            "Epoch 335/1000\n",
            "50/50 [==============================] - 2s 35ms/step - loss: 1.0957 - acc: 0.5828\n",
            "Epoch 336/1000\n",
            "50/50 [==============================] - 2s 35ms/step - loss: 1.1178 - acc: 0.5750\n",
            "Epoch 337/1000\n",
            "19/50 [==========>...................] - ETA: 1s - loss: 1.1408 - acc: 0.5617"
          ],
          "name": "stdout"
        },
        {
          "output_type": "stream",
          "text": [
            "50/50 [==============================] - 2s 36ms/step - loss: 1.1355 - acc: 0.5625\n",
            "Epoch 338/1000\n",
            "50/50 [==============================] - 2s 35ms/step - loss: 1.1079 - acc: 0.5794\n",
            "Epoch 339/1000\n",
            "50/50 [==============================] - 2s 36ms/step - loss: 1.1102 - acc: 0.5734\n",
            "Epoch 340/1000\n",
            "50/50 [==============================] - 2s 36ms/step - loss: 1.0979 - acc: 0.5847\n",
            "Epoch 341/1000\n",
            "50/50 [==============================] - 2s 36ms/step - loss: 1.0945 - acc: 0.5787\n",
            "Epoch 342/1000\n",
            "50/50 [==============================] - 2s 36ms/step - loss: 1.1198 - acc: 0.5731\n",
            "Epoch 343/1000\n",
            "50/50 [==============================] - 2s 36ms/step - loss: 1.0903 - acc: 0.5891\n",
            "Epoch 344/1000\n",
            "50/50 [==============================] - 2s 36ms/step - loss: 1.1122 - acc: 0.5809\n",
            "Epoch 345/1000\n",
            "21/50 [===========>..................] - ETA: 1s - loss: 1.0862 - acc: 0.5960"
          ],
          "name": "stdout"
        },
        {
          "output_type": "stream",
          "text": [
            "50/50 [==============================] - 2s 36ms/step - loss: 1.1090 - acc: 0.5772\n",
            "Epoch 346/1000\n",
            "50/50 [==============================] - 2s 35ms/step - loss: 1.0959 - acc: 0.5800\n",
            "Epoch 347/1000\n",
            "50/50 [==============================] - 2s 35ms/step - loss: 1.0774 - acc: 0.6003\n",
            "Epoch 348/1000\n",
            "50/50 [==============================] - 2s 36ms/step - loss: 1.1169 - acc: 0.5731\n",
            "Epoch 349/1000\n",
            "50/50 [==============================] - 2s 35ms/step - loss: 1.0947 - acc: 0.5794\n",
            "Epoch 350/1000\n",
            "50/50 [==============================] - 2s 35ms/step - loss: 1.1205 - acc: 0.5794\n",
            "Epoch 351/1000\n",
            "50/50 [==============================] - 2s 35ms/step - loss: 1.1146 - acc: 0.5747\n",
            "Epoch 352/1000\n",
            "50/50 [==============================] - 2s 35ms/step - loss: 1.0985 - acc: 0.5841\n",
            "Epoch 353/1000\n",
            "21/50 [===========>..................] - ETA: 0s - loss: 1.1025 - acc: 0.5900"
          ],
          "name": "stdout"
        },
        {
          "output_type": "stream",
          "text": [
            "50/50 [==============================] - 2s 35ms/step - loss: 1.0954 - acc: 0.5887\n",
            "Epoch 354/1000\n",
            "50/50 [==============================] - 2s 35ms/step - loss: 1.1270 - acc: 0.5684\n",
            "Epoch 355/1000\n",
            "50/50 [==============================] - 2s 35ms/step - loss: 1.1326 - acc: 0.5759\n",
            "Epoch 356/1000\n",
            "50/50 [==============================] - 2s 35ms/step - loss: 1.1014 - acc: 0.5828\n",
            "Epoch 357/1000\n",
            "50/50 [==============================] - 2s 35ms/step - loss: 1.1160 - acc: 0.5681\n",
            "Epoch 358/1000\n",
            "50/50 [==============================] - 2s 36ms/step - loss: 1.1228 - acc: 0.5709\n",
            "Epoch 359/1000\n",
            "50/50 [==============================] - 2s 36ms/step - loss: 1.1014 - acc: 0.5784\n",
            "Epoch 360/1000\n",
            "50/50 [==============================] - 2s 35ms/step - loss: 1.1041 - acc: 0.5872\n",
            "Epoch 361/1000\n",
            "21/50 [===========>..................] - ETA: 1s - loss: 1.0460 - acc: 0.6079"
          ],
          "name": "stdout"
        },
        {
          "output_type": "stream",
          "text": [
            "50/50 [==============================] - 2s 36ms/step - loss: 1.0743 - acc: 0.5881\n",
            "Epoch 362/1000\n",
            "50/50 [==============================] - 2s 36ms/step - loss: 1.0942 - acc: 0.5850\n",
            "Epoch 363/1000\n",
            "50/50 [==============================] - 2s 36ms/step - loss: 1.0655 - acc: 0.5978\n",
            "Epoch 364/1000\n",
            "50/50 [==============================] - 2s 36ms/step - loss: 1.1057 - acc: 0.5847\n",
            "Epoch 365/1000\n",
            "50/50 [==============================] - 2s 36ms/step - loss: 1.0736 - acc: 0.5916\n",
            "Epoch 366/1000\n",
            "50/50 [==============================] - 2s 36ms/step - loss: 1.1041 - acc: 0.5931\n",
            "Epoch 367/1000\n",
            "50/50 [==============================] - 2s 35ms/step - loss: 1.1050 - acc: 0.5828\n",
            "Epoch 368/1000\n",
            "50/50 [==============================] - 2s 36ms/step - loss: 1.0690 - acc: 0.5984\n",
            "Epoch 369/1000\n",
            "21/50 [===========>..................] - ETA: 1s - loss: 1.0913 - acc: 0.5893"
          ],
          "name": "stdout"
        },
        {
          "output_type": "stream",
          "text": [
            "50/50 [==============================] - 2s 36ms/step - loss: 1.1004 - acc: 0.5819\n",
            "Epoch 370/1000\n",
            "50/50 [==============================] - 2s 35ms/step - loss: 1.0934 - acc: 0.5797\n",
            "Epoch 371/1000\n",
            "50/50 [==============================] - 2s 36ms/step - loss: 1.1130 - acc: 0.5784\n",
            "Epoch 372/1000\n",
            "50/50 [==============================] - 2s 36ms/step - loss: 1.0799 - acc: 0.5897\n",
            "Epoch 373/1000\n",
            "50/50 [==============================] - 2s 36ms/step - loss: 1.0995 - acc: 0.5809\n",
            "Epoch 374/1000\n",
            "50/50 [==============================] - 2s 36ms/step - loss: 1.0983 - acc: 0.5800\n",
            "Epoch 375/1000\n",
            "50/50 [==============================] - 2s 35ms/step - loss: 1.0955 - acc: 0.5868\n",
            "Epoch 376/1000\n",
            "50/50 [==============================] - 2s 36ms/step - loss: 1.1113 - acc: 0.5763\n",
            "Epoch 377/1000\n",
            "21/50 [===========>..................] - ETA: 1s - loss: 1.0762 - acc: 0.5945"
          ],
          "name": "stdout"
        },
        {
          "output_type": "stream",
          "text": [
            "50/50 [==============================] - 2s 36ms/step - loss: 1.1112 - acc: 0.5803\n",
            "Epoch 378/1000\n",
            "50/50 [==============================] - 2s 36ms/step - loss: 1.0730 - acc: 0.5978\n",
            "Epoch 379/1000\n",
            "50/50 [==============================] - 2s 36ms/step - loss: 1.0838 - acc: 0.5809\n",
            "Epoch 380/1000\n",
            "50/50 [==============================] - 2s 35ms/step - loss: 1.0696 - acc: 0.5978\n",
            "Epoch 381/1000\n",
            "50/50 [==============================] - 2s 36ms/step - loss: 1.0809 - acc: 0.5863\n",
            "Epoch 382/1000\n",
            "50/50 [==============================] - 2s 36ms/step - loss: 1.1185 - acc: 0.5663\n",
            "Epoch 383/1000\n",
            "50/50 [==============================] - 2s 36ms/step - loss: 1.1172 - acc: 0.5766\n",
            "Epoch 384/1000\n",
            "50/50 [==============================] - 2s 36ms/step - loss: 1.0971 - acc: 0.5791\n",
            "Epoch 385/1000\n",
            "21/50 [===========>..................] - ETA: 1s - loss: 1.0904 - acc: 0.5878"
          ],
          "name": "stdout"
        },
        {
          "output_type": "stream",
          "text": [
            "50/50 [==============================] - 2s 36ms/step - loss: 1.0836 - acc: 0.5925\n",
            "Epoch 386/1000\n",
            "50/50 [==============================] - 2s 36ms/step - loss: 1.0877 - acc: 0.5819\n",
            "Epoch 387/1000\n",
            "50/50 [==============================] - 2s 36ms/step - loss: 1.0916 - acc: 0.5844\n",
            "Epoch 388/1000\n",
            "50/50 [==============================] - 2s 36ms/step - loss: 1.0686 - acc: 0.5894\n",
            "Epoch 389/1000\n",
            "50/50 [==============================] - 2s 35ms/step - loss: 1.0678 - acc: 0.5898\n",
            "Epoch 390/1000\n",
            "50/50 [==============================] - 2s 35ms/step - loss: 1.1252 - acc: 0.5703\n",
            "Epoch 391/1000\n",
            "50/50 [==============================] - 2s 36ms/step - loss: 1.0844 - acc: 0.5941\n",
            "Epoch 392/1000\n",
            "50/50 [==============================] - 2s 35ms/step - loss: 1.0979 - acc: 0.5822\n",
            "Epoch 393/1000\n",
            "21/50 [===========>..................] - ETA: 1s - loss: 1.1000 - acc: 0.5885"
          ],
          "name": "stdout"
        },
        {
          "output_type": "stream",
          "text": [
            "50/50 [==============================] - 2s 36ms/step - loss: 1.0899 - acc: 0.5856\n",
            "Epoch 394/1000\n",
            "50/50 [==============================] - 2s 36ms/step - loss: 1.0905 - acc: 0.5891\n",
            "Epoch 395/1000\n",
            "50/50 [==============================] - 2s 36ms/step - loss: 1.0973 - acc: 0.5859\n",
            "Epoch 396/1000\n",
            "50/50 [==============================] - 2s 36ms/step - loss: 1.0707 - acc: 0.5922\n",
            "Epoch 397/1000\n",
            "50/50 [==============================] - 2s 36ms/step - loss: 1.0818 - acc: 0.5881\n",
            "Epoch 398/1000\n",
            "50/50 [==============================] - 2s 35ms/step - loss: 1.0864 - acc: 0.5863\n",
            "Epoch 399/1000\n",
            "50/50 [==============================] - 2s 36ms/step - loss: 1.0853 - acc: 0.5875\n",
            "Epoch 400/1000\n",
            "50/50 [==============================] - 2s 35ms/step - loss: 1.1039 - acc: 0.5806\n",
            "Epoch 401/1000\n",
            "21/50 [===========>..................] - ETA: 1s - loss: 1.0417 - acc: 0.6161"
          ],
          "name": "stdout"
        },
        {
          "output_type": "stream",
          "text": [
            "50/50 [==============================] - 2s 35ms/step - loss: 1.0675 - acc: 0.5969\n",
            "Epoch 402/1000\n",
            "50/50 [==============================] - 2s 35ms/step - loss: 1.0756 - acc: 0.5959\n",
            "Epoch 403/1000\n",
            "50/50 [==============================] - 2s 35ms/step - loss: 1.0901 - acc: 0.5837\n",
            "Epoch 404/1000\n",
            "50/50 [==============================] - 2s 35ms/step - loss: 1.0780 - acc: 0.5932\n",
            "Epoch 405/1000\n",
            "50/50 [==============================] - 2s 36ms/step - loss: 1.0766 - acc: 0.5875\n",
            "Epoch 406/1000\n",
            "50/50 [==============================] - 2s 35ms/step - loss: 1.0814 - acc: 0.5816\n",
            "Epoch 407/1000\n",
            "50/50 [==============================] - 2s 35ms/step - loss: 1.1215 - acc: 0.5750\n",
            "Epoch 408/1000\n",
            "50/50 [==============================] - 2s 35ms/step - loss: 1.0948 - acc: 0.5831\n",
            "Epoch 409/1000\n",
            "21/50 [===========>..................] - ETA: 1s - loss: 1.0571 - acc: 0.5789"
          ],
          "name": "stdout"
        },
        {
          "output_type": "stream",
          "text": [
            "50/50 [==============================] - 2s 36ms/step - loss: 1.0545 - acc: 0.5931\n",
            "Epoch 410/1000\n",
            "50/50 [==============================] - 2s 35ms/step - loss: 1.0908 - acc: 0.5872\n",
            "Epoch 411/1000\n",
            "50/50 [==============================] - 2s 36ms/step - loss: 1.0891 - acc: 0.5938\n",
            "Epoch 412/1000\n",
            "50/50 [==============================] - 2s 36ms/step - loss: 1.0932 - acc: 0.5819\n",
            "Epoch 413/1000\n",
            "50/50 [==============================] - 2s 35ms/step - loss: 1.0981 - acc: 0.5884\n",
            "Epoch 414/1000\n",
            "50/50 [==============================] - 2s 37ms/step - loss: 1.0554 - acc: 0.5972\n",
            "Epoch 415/1000\n",
            "50/50 [==============================] - 2s 36ms/step - loss: 1.0649 - acc: 0.5891\n",
            "Epoch 416/1000\n",
            "50/50 [==============================] - 2s 36ms/step - loss: 1.0616 - acc: 0.5978\n",
            "Epoch 417/1000\n",
            "21/50 [===========>..................] - ETA: 1s - loss: 1.0560 - acc: 0.6057"
          ],
          "name": "stdout"
        },
        {
          "output_type": "stream",
          "text": [
            "50/50 [==============================] - 2s 35ms/step - loss: 1.0654 - acc: 0.5988\n",
            "Epoch 418/1000\n",
            "50/50 [==============================] - 2s 35ms/step - loss: 1.1093 - acc: 0.5753\n",
            "Epoch 419/1000\n",
            "50/50 [==============================] - 2s 35ms/step - loss: 1.1144 - acc: 0.5766\n",
            "Epoch 420/1000\n",
            "50/50 [==============================] - 2s 35ms/step - loss: 1.0747 - acc: 0.5878\n",
            "Epoch 421/1000\n",
            "50/50 [==============================] - 2s 35ms/step - loss: 1.0670 - acc: 0.5916\n",
            "Epoch 422/1000\n",
            "50/50 [==============================] - 2s 36ms/step - loss: 1.0937 - acc: 0.5853\n",
            "Epoch 423/1000\n",
            "50/50 [==============================] - 2s 36ms/step - loss: 1.0673 - acc: 0.5869\n",
            "Epoch 424/1000\n",
            "50/50 [==============================] - 2s 35ms/step - loss: 1.0419 - acc: 0.6003\n",
            "Epoch 425/1000\n",
            "21/50 [===========>..................] - ETA: 1s - loss: 1.1171 - acc: 0.5647"
          ],
          "name": "stdout"
        },
        {
          "output_type": "stream",
          "text": [
            "50/50 [==============================] - 2s 35ms/step - loss: 1.0870 - acc: 0.5831\n",
            "Epoch 426/1000\n",
            "50/50 [==============================] - 2s 35ms/step - loss: 1.0961 - acc: 0.5759\n",
            "Epoch 427/1000\n",
            "50/50 [==============================] - 2s 35ms/step - loss: 1.0510 - acc: 0.6019\n",
            "Epoch 428/1000\n",
            "50/50 [==============================] - 2s 36ms/step - loss: 1.0849 - acc: 0.5881\n",
            "Epoch 429/1000\n",
            "50/50 [==============================] - 2s 36ms/step - loss: 1.0841 - acc: 0.5950\n",
            "Epoch 430/1000\n",
            "50/50 [==============================] - 2s 36ms/step - loss: 1.0950 - acc: 0.5881\n",
            "Epoch 431/1000\n",
            "50/50 [==============================] - 2s 35ms/step - loss: 1.1139 - acc: 0.5750\n",
            "Epoch 432/1000\n",
            "50/50 [==============================] - 2s 36ms/step - loss: 1.0843 - acc: 0.5869\n",
            "Epoch 433/1000\n",
            "21/50 [===========>..................] - ETA: 1s - loss: 1.0622 - acc: 0.6116"
          ],
          "name": "stdout"
        },
        {
          "output_type": "stream",
          "text": [
            "50/50 [==============================] - 2s 36ms/step - loss: 1.0576 - acc: 0.6078\n",
            "Epoch 434/1000\n",
            "50/50 [==============================] - 2s 36ms/step - loss: 1.0817 - acc: 0.5797\n",
            "Epoch 435/1000\n",
            "50/50 [==============================] - 2s 36ms/step - loss: 1.0961 - acc: 0.5716\n",
            "Epoch 436/1000\n",
            "50/50 [==============================] - 2s 36ms/step - loss: 1.0619 - acc: 0.6003\n",
            "Epoch 437/1000\n",
            "50/50 [==============================] - 2s 35ms/step - loss: 1.0636 - acc: 0.6034\n",
            "Epoch 438/1000\n",
            "50/50 [==============================] - 2s 35ms/step - loss: 1.0840 - acc: 0.5891\n",
            "Epoch 439/1000\n",
            "50/50 [==============================] - 2s 35ms/step - loss: 1.1277 - acc: 0.5650\n",
            "Epoch 440/1000\n",
            "50/50 [==============================] - 2s 35ms/step - loss: 1.0894 - acc: 0.5919\n",
            "Epoch 441/1000\n",
            "21/50 [===========>..................] - ETA: 1s - loss: 1.0898 - acc: 0.5826"
          ],
          "name": "stdout"
        },
        {
          "output_type": "stream",
          "text": [
            "50/50 [==============================] - 2s 36ms/step - loss: 1.0605 - acc: 0.6006\n",
            "Epoch 442/1000\n",
            "50/50 [==============================] - 2s 36ms/step - loss: 1.0958 - acc: 0.5850\n",
            "Epoch 443/1000\n",
            "50/50 [==============================] - 2s 37ms/step - loss: 1.0231 - acc: 0.6094\n",
            "Epoch 444/1000\n",
            "50/50 [==============================] - 2s 36ms/step - loss: 1.0708 - acc: 0.5906\n",
            "Epoch 445/1000\n",
            "50/50 [==============================] - 2s 36ms/step - loss: 1.0822 - acc: 0.5934\n",
            "Epoch 446/1000\n",
            "50/50 [==============================] - 2s 35ms/step - loss: 1.0709 - acc: 0.5934\n",
            "Epoch 447/1000\n",
            "50/50 [==============================] - 2s 36ms/step - loss: 1.0904 - acc: 0.5866\n",
            "Epoch 448/1000\n",
            "50/50 [==============================] - 2s 36ms/step - loss: 1.0466 - acc: 0.6034\n",
            "Epoch 449/1000\n",
            "21/50 [===========>..................] - ETA: 1s - loss: 1.0843 - acc: 0.5789"
          ],
          "name": "stdout"
        },
        {
          "output_type": "stream",
          "text": [
            "50/50 [==============================] - 2s 35ms/step - loss: 1.0871 - acc: 0.5878\n",
            "Epoch 450/1000\n",
            "50/50 [==============================] - 2s 37ms/step - loss: 1.0795 - acc: 0.5831\n",
            "Epoch 451/1000\n",
            "50/50 [==============================] - 2s 36ms/step - loss: 1.0237 - acc: 0.6091\n",
            "Epoch 452/1000\n",
            "50/50 [==============================] - 2s 35ms/step - loss: 1.0626 - acc: 0.5969\n",
            "Epoch 453/1000\n",
            "50/50 [==============================] - 2s 36ms/step - loss: 1.0707 - acc: 0.5828\n",
            "Epoch 454/1000\n",
            "50/50 [==============================] - 2s 36ms/step - loss: 1.0634 - acc: 0.5994\n",
            "Epoch 455/1000\n",
            "50/50 [==============================] - 2s 36ms/step - loss: 1.0403 - acc: 0.6009\n",
            "Epoch 456/1000\n",
            "50/50 [==============================] - 2s 35ms/step - loss: 1.0817 - acc: 0.5869\n",
            "Epoch 457/1000\n",
            "21/50 [===========>..................] - ETA: 1s - loss: 1.0646 - acc: 0.5900"
          ],
          "name": "stdout"
        },
        {
          "output_type": "stream",
          "text": [
            "50/50 [==============================] - 2s 36ms/step - loss: 1.0700 - acc: 0.5972\n",
            "Epoch 458/1000\n",
            "50/50 [==============================] - 2s 36ms/step - loss: 1.0852 - acc: 0.5950\n",
            "Epoch 459/1000\n",
            "50/50 [==============================] - 2s 36ms/step - loss: 1.0680 - acc: 0.5931\n",
            "Epoch 460/1000\n",
            "50/50 [==============================] - 2s 36ms/step - loss: 1.0856 - acc: 0.5994\n",
            "Epoch 461/1000\n",
            "50/50 [==============================] - 2s 36ms/step - loss: 1.0827 - acc: 0.5966\n",
            "Epoch 462/1000\n",
            "50/50 [==============================] - 2s 35ms/step - loss: 1.0616 - acc: 0.5934\n",
            "Epoch 463/1000\n",
            "50/50 [==============================] - 2s 36ms/step - loss: 1.0751 - acc: 0.5938\n",
            "Epoch 464/1000\n",
            "50/50 [==============================] - 2s 36ms/step - loss: 1.0620 - acc: 0.5903\n",
            "Epoch 465/1000\n",
            "21/50 [===========>..................] - ETA: 1s - loss: 1.0953 - acc: 0.5878"
          ],
          "name": "stdout"
        },
        {
          "output_type": "stream",
          "text": [
            "50/50 [==============================] - 2s 35ms/step - loss: 1.0897 - acc: 0.5809\n",
            "Epoch 466/1000\n",
            "50/50 [==============================] - 2s 36ms/step - loss: 1.0475 - acc: 0.5909\n",
            "Epoch 467/1000\n",
            "50/50 [==============================] - 2s 37ms/step - loss: 1.0400 - acc: 0.6059\n",
            "Epoch 468/1000\n",
            "50/50 [==============================] - 2s 35ms/step - loss: 1.0225 - acc: 0.6116\n",
            "Epoch 469/1000\n",
            "50/50 [==============================] - 2s 37ms/step - loss: 1.0551 - acc: 0.6003\n",
            "Epoch 470/1000\n",
            "50/50 [==============================] - 2s 35ms/step - loss: 1.0831 - acc: 0.5860\n",
            "Epoch 471/1000\n",
            "50/50 [==============================] - 2s 37ms/step - loss: 1.0587 - acc: 0.6069\n",
            "Epoch 472/1000\n",
            "50/50 [==============================] - 2s 36ms/step - loss: 1.0472 - acc: 0.5978\n",
            "Epoch 473/1000\n",
            "21/50 [===========>..................] - ETA: 1s - loss: 1.0598 - acc: 0.5908"
          ],
          "name": "stdout"
        },
        {
          "output_type": "stream",
          "text": [
            "50/50 [==============================] - 2s 36ms/step - loss: 1.0605 - acc: 0.5928\n",
            "Epoch 474/1000\n",
            "50/50 [==============================] - 2s 36ms/step - loss: 1.0862 - acc: 0.5887\n",
            "Epoch 475/1000\n",
            "50/50 [==============================] - 2s 36ms/step - loss: 1.0419 - acc: 0.5984\n",
            "Epoch 476/1000\n",
            "50/50 [==============================] - 2s 36ms/step - loss: 1.0476 - acc: 0.6019\n",
            "Epoch 477/1000\n",
            "50/50 [==============================] - 2s 36ms/step - loss: 1.0612 - acc: 0.5959\n",
            "Epoch 478/1000\n",
            "50/50 [==============================] - 2s 36ms/step - loss: 1.0833 - acc: 0.5909\n",
            "Epoch 479/1000\n",
            "50/50 [==============================] - 2s 36ms/step - loss: 1.0729 - acc: 0.5966\n",
            "Epoch 480/1000\n",
            "50/50 [==============================] - 2s 36ms/step - loss: 1.0547 - acc: 0.5906\n",
            "Epoch 481/1000\n",
            "21/50 [===========>..................] - ETA: 1s - loss: 1.1341 - acc: 0.5670"
          ],
          "name": "stdout"
        },
        {
          "output_type": "stream",
          "text": [
            "50/50 [==============================] - 2s 36ms/step - loss: 1.0898 - acc: 0.5822\n",
            "Epoch 482/1000\n",
            "50/50 [==============================] - 2s 36ms/step - loss: 1.0523 - acc: 0.6000\n",
            "Epoch 483/1000\n",
            "50/50 [==============================] - 2s 36ms/step - loss: 1.0532 - acc: 0.5984\n",
            "Epoch 484/1000\n",
            "50/50 [==============================] - 2s 35ms/step - loss: 1.0402 - acc: 0.6003\n",
            "Epoch 485/1000\n",
            "50/50 [==============================] - 2s 36ms/step - loss: 1.0609 - acc: 0.5922\n",
            "Epoch 486/1000\n",
            "50/50 [==============================] - 2s 35ms/step - loss: 1.0478 - acc: 0.6016\n",
            "Epoch 487/1000\n",
            "50/50 [==============================] - 2s 36ms/step - loss: 1.0589 - acc: 0.6022\n",
            "Epoch 488/1000\n",
            "50/50 [==============================] - 2s 36ms/step - loss: 1.0553 - acc: 0.5981\n",
            "Epoch 489/1000\n",
            "21/50 [===========>..................] - ETA: 1s - loss: 1.0449 - acc: 0.6019"
          ],
          "name": "stdout"
        },
        {
          "output_type": "stream",
          "text": [
            "50/50 [==============================] - 2s 36ms/step - loss: 1.0513 - acc: 0.6050\n",
            "Epoch 490/1000\n",
            "50/50 [==============================] - 2s 36ms/step - loss: 1.0434 - acc: 0.6125\n",
            "Epoch 491/1000\n",
            "50/50 [==============================] - 2s 36ms/step - loss: 1.0845 - acc: 0.5875\n",
            "Epoch 492/1000\n",
            "50/50 [==============================] - 2s 36ms/step - loss: 1.0387 - acc: 0.6153\n",
            "Epoch 493/1000\n",
            "50/50 [==============================] - 2s 36ms/step - loss: 1.0591 - acc: 0.6033\n",
            "Epoch 494/1000\n",
            "50/50 [==============================] - 2s 36ms/step - loss: 1.0594 - acc: 0.5984\n",
            "Epoch 495/1000\n",
            "50/50 [==============================] - 2s 36ms/step - loss: 1.0321 - acc: 0.6169\n",
            "Epoch 496/1000\n",
            "50/50 [==============================] - 2s 36ms/step - loss: 1.0683 - acc: 0.5944\n",
            "Epoch 497/1000\n",
            "21/50 [===========>..................] - ETA: 1s - loss: 1.0968 - acc: 0.5856"
          ],
          "name": "stdout"
        },
        {
          "output_type": "stream",
          "text": [
            "50/50 [==============================] - 2s 37ms/step - loss: 1.0722 - acc: 0.5941\n",
            "Epoch 498/1000\n",
            "50/50 [==============================] - 2s 36ms/step - loss: 1.0311 - acc: 0.6053\n",
            "Epoch 499/1000\n",
            "50/50 [==============================] - 2s 36ms/step - loss: 1.0584 - acc: 0.5922\n",
            "Epoch 500/1000\n",
            "50/50 [==============================] - 2s 36ms/step - loss: 1.0601 - acc: 0.6009\n",
            "Epoch 501/1000\n",
            "50/50 [==============================] - 2s 35ms/step - loss: 1.0654 - acc: 0.5969\n",
            "Epoch 502/1000\n",
            "50/50 [==============================] - 2s 35ms/step - loss: 1.0447 - acc: 0.6016\n",
            "Epoch 503/1000\n",
            "50/50 [==============================] - 2s 36ms/step - loss: 1.0782 - acc: 0.5884\n",
            "Epoch 504/1000\n",
            "50/50 [==============================] - 2s 35ms/step - loss: 1.0575 - acc: 0.5909\n",
            "Epoch 505/1000\n",
            "21/50 [===========>..................] - ETA: 1s - loss: 1.0526 - acc: 0.5945"
          ],
          "name": "stdout"
        },
        {
          "output_type": "stream",
          "text": [
            "50/50 [==============================] - 2s 36ms/step - loss: 1.0592 - acc: 0.6041\n",
            "Epoch 506/1000\n",
            "50/50 [==============================] - 2s 35ms/step - loss: 1.0270 - acc: 0.6206\n",
            "Epoch 507/1000\n",
            "50/50 [==============================] - 2s 35ms/step - loss: 1.0343 - acc: 0.6025\n",
            "Epoch 508/1000\n",
            "50/50 [==============================] - 2s 35ms/step - loss: 1.0545 - acc: 0.5981\n",
            "Epoch 509/1000\n",
            "50/50 [==============================] - 2s 35ms/step - loss: 1.0781 - acc: 0.5859\n",
            "Epoch 510/1000\n",
            "50/50 [==============================] - 2s 36ms/step - loss: 1.0555 - acc: 0.5978\n",
            "Epoch 511/1000\n",
            "50/50 [==============================] - 2s 36ms/step - loss: 1.0462 - acc: 0.6028\n",
            "Epoch 512/1000\n",
            "50/50 [==============================] - 2s 36ms/step - loss: 1.0528 - acc: 0.5988\n",
            "Epoch 513/1000\n",
            "19/50 [==========>...................] - ETA: 1s - loss: 1.0309 - acc: 0.6201\b\b\b\b\b\b\b\b\b\b\b\b\b\b\b\b\b\b\b\b\b\b\b\b\b\b\b\b\b\b\b\b\b\b\b\b\b\b\b\b\b\b\b\b\b\b\b\b\b\b\b\b\b\b\b\b\b\b\b\b\b\b\b\b\b\b\b\b\b\b\b\b\b\b\b\b\b"
          ],
          "name": "stdout"
        },
        {
          "output_type": "stream",
          "text": [
            "50/50 [==============================] - 2s 36ms/step - loss: 1.0355 - acc: 0.6183\n",
            "Epoch 514/1000\n",
            "50/50 [==============================] - 2s 36ms/step - loss: 1.0557 - acc: 0.6009\n",
            "Epoch 515/1000\n",
            "50/50 [==============================] - 2s 35ms/step - loss: 1.0844 - acc: 0.5934\n",
            "Epoch 516/1000\n",
            "50/50 [==============================] - 2s 36ms/step - loss: 1.0724 - acc: 0.5906\n",
            "Epoch 517/1000\n",
            "50/50 [==============================] - 2s 36ms/step - loss: 1.0328 - acc: 0.6084\n",
            "Epoch 518/1000\n",
            "50/50 [==============================] - 2s 36ms/step - loss: 1.0593 - acc: 0.6006\n",
            "Epoch 519/1000\n",
            "50/50 [==============================] - 2s 36ms/step - loss: 1.0558 - acc: 0.5912\n",
            "Epoch 520/1000\n",
            "50/50 [==============================] - 2s 36ms/step - loss: 1.0357 - acc: 0.6097\n",
            "Epoch 521/1000\n",
            "21/50 [===========>..................] - ETA: 1s - loss: 1.0801 - acc: 0.5915"
          ],
          "name": "stdout"
        },
        {
          "output_type": "stream",
          "text": [
            "50/50 [==============================] - 2s 37ms/step - loss: 1.0486 - acc: 0.6022\n",
            "Epoch 522/1000\n",
            "50/50 [==============================] - 2s 36ms/step - loss: 1.0436 - acc: 0.6000\n",
            "Epoch 523/1000\n",
            "50/50 [==============================] - 2s 36ms/step - loss: 1.0450 - acc: 0.5963\n",
            "Epoch 524/1000\n",
            "50/50 [==============================] - 2s 35ms/step - loss: 1.0321 - acc: 0.6134\n",
            "Epoch 525/1000\n",
            "50/50 [==============================] - 2s 36ms/step - loss: 1.0789 - acc: 0.5903\n",
            "Epoch 526/1000\n",
            "50/50 [==============================] - 2s 36ms/step - loss: 1.0643 - acc: 0.6028\n",
            "Epoch 527/1000\n",
            "50/50 [==============================] - 2s 36ms/step - loss: 1.0321 - acc: 0.6103\n",
            "Epoch 528/1000\n",
            "50/50 [==============================] - 2s 36ms/step - loss: 1.0642 - acc: 0.5950\n",
            "Epoch 529/1000\n",
            "21/50 [===========>..................] - ETA: 1s - loss: 0.9750 - acc: 0.6376"
          ],
          "name": "stdout"
        },
        {
          "output_type": "stream",
          "text": [
            "50/50 [==============================] - 2s 36ms/step - loss: 1.0188 - acc: 0.6134\n",
            "Epoch 530/1000\n",
            "50/50 [==============================] - 2s 36ms/step - loss: 1.0394 - acc: 0.6022\n",
            "Epoch 531/1000\n",
            "50/50 [==============================] - 2s 35ms/step - loss: 1.0303 - acc: 0.6116\n",
            "Epoch 532/1000\n",
            "50/50 [==============================] - 2s 35ms/step - loss: 1.0576 - acc: 0.5947\n",
            "Epoch 533/1000\n",
            "50/50 [==============================] - 2s 35ms/step - loss: 1.0403 - acc: 0.6103\n",
            "Epoch 534/1000\n",
            "50/50 [==============================] - 2s 36ms/step - loss: 1.0286 - acc: 0.6165\n",
            "Epoch 535/1000\n",
            "50/50 [==============================] - 2s 36ms/step - loss: 1.0464 - acc: 0.6053\n",
            "Epoch 536/1000\n",
            "50/50 [==============================] - 2s 35ms/step - loss: 1.0633 - acc: 0.5884\n",
            "Epoch 537/1000\n",
            "21/50 [===========>..................] - ETA: 1s - loss: 1.0608 - acc: 0.5990"
          ],
          "name": "stdout"
        },
        {
          "output_type": "stream",
          "text": [
            "50/50 [==============================] - 2s 36ms/step - loss: 1.0641 - acc: 0.5947\n",
            "Epoch 538/1000\n",
            "50/50 [==============================] - 2s 36ms/step - loss: 1.0817 - acc: 0.5944\n",
            "Epoch 539/1000\n",
            "50/50 [==============================] - 2s 37ms/step - loss: 1.0053 - acc: 0.6228\n",
            "Epoch 540/1000\n",
            "50/50 [==============================] - 2s 36ms/step - loss: 1.0309 - acc: 0.6112\n",
            "Epoch 541/1000\n",
            "50/50 [==============================] - 2s 36ms/step - loss: 1.0459 - acc: 0.6094\n",
            "Epoch 542/1000\n",
            "50/50 [==============================] - 2s 36ms/step - loss: 1.0179 - acc: 0.6219\n",
            "Epoch 543/1000\n",
            "50/50 [==============================] - 2s 36ms/step - loss: 1.0317 - acc: 0.6081\n",
            "Epoch 544/1000\n",
            "50/50 [==============================] - 2s 36ms/step - loss: 1.0110 - acc: 0.6078\n",
            "Epoch 545/1000\n",
            "21/50 [===========>..................] - ETA: 1s - loss: 1.0244 - acc: 0.6094"
          ],
          "name": "stdout"
        },
        {
          "output_type": "stream",
          "text": [
            "50/50 [==============================] - 2s 36ms/step - loss: 1.0203 - acc: 0.6125\n",
            "Epoch 546/1000\n",
            "50/50 [==============================] - 2s 36ms/step - loss: 1.0142 - acc: 0.6128\n",
            "Epoch 547/1000\n",
            "50/50 [==============================] - 2s 36ms/step - loss: 1.0739 - acc: 0.5941\n",
            "Epoch 548/1000\n",
            "50/50 [==============================] - 2s 36ms/step - loss: 1.0277 - acc: 0.6088\n",
            "Epoch 549/1000\n",
            "50/50 [==============================] - 2s 36ms/step - loss: 1.0332 - acc: 0.6112\n",
            "Epoch 550/1000\n",
            "50/50 [==============================] - 2s 36ms/step - loss: 1.0327 - acc: 0.6103\n",
            "Epoch 551/1000\n",
            "50/50 [==============================] - 2s 36ms/step - loss: 1.0558 - acc: 0.6072\n",
            "Epoch 552/1000\n",
            "50/50 [==============================] - 2s 36ms/step - loss: 1.0355 - acc: 0.6112\n",
            "Epoch 553/1000\n",
            "21/50 [===========>..................] - ETA: 1s - loss: 1.0404 - acc: 0.5848"
          ],
          "name": "stdout"
        },
        {
          "output_type": "stream",
          "text": [
            "50/50 [==============================] - 2s 36ms/step - loss: 1.0229 - acc: 0.6031\n",
            "Epoch 554/1000\n",
            "50/50 [==============================] - 2s 36ms/step - loss: 1.0564 - acc: 0.6141\n",
            "Epoch 555/1000\n",
            "50/50 [==============================] - 2s 35ms/step - loss: 1.0481 - acc: 0.6056\n",
            "Epoch 556/1000\n",
            "50/50 [==============================] - 2s 36ms/step - loss: 1.0413 - acc: 0.5959\n",
            "Epoch 557/1000\n",
            "50/50 [==============================] - 2s 36ms/step - loss: 1.0413 - acc: 0.6019\n",
            "Epoch 558/1000\n",
            "50/50 [==============================] - 2s 36ms/step - loss: 1.0153 - acc: 0.6200\n",
            "Epoch 559/1000\n",
            "50/50 [==============================] - 2s 36ms/step - loss: 1.0382 - acc: 0.5934\n",
            "Epoch 560/1000\n",
            "50/50 [==============================] - 2s 35ms/step - loss: 1.0378 - acc: 0.6172\n",
            "Epoch 561/1000\n",
            "21/50 [===========>..................] - ETA: 1s - loss: 1.0281 - acc: 0.6109"
          ],
          "name": "stdout"
        },
        {
          "output_type": "stream",
          "text": [
            "50/50 [==============================] - 2s 36ms/step - loss: 1.0277 - acc: 0.6069\n",
            "Epoch 562/1000\n",
            "50/50 [==============================] - 2s 36ms/step - loss: 1.0373 - acc: 0.6125\n",
            "Epoch 563/1000\n",
            "50/50 [==============================] - 2s 36ms/step - loss: 1.0363 - acc: 0.6072\n",
            "Epoch 564/1000\n",
            "50/50 [==============================] - 2s 35ms/step - loss: 1.0178 - acc: 0.6222\n",
            "Epoch 565/1000\n",
            "50/50 [==============================] - 2s 35ms/step - loss: 1.0460 - acc: 0.6085\n",
            "Epoch 566/1000\n",
            "50/50 [==============================] - 2s 36ms/step - loss: 1.0374 - acc: 0.6088\n",
            "Epoch 567/1000\n",
            "50/50 [==============================] - 2s 36ms/step - loss: 1.0636 - acc: 0.5947\n",
            "Epoch 568/1000\n",
            "50/50 [==============================] - 2s 36ms/step - loss: 1.0481 - acc: 0.6059\n",
            "Epoch 569/1000\n",
            "19/50 [==========>...................] - ETA: 1s - loss: 1.0508 - acc: 0.5905"
          ],
          "name": "stdout"
        },
        {
          "output_type": "stream",
          "text": [
            "50/50 [==============================] - 2s 36ms/step - loss: 1.0420 - acc: 0.5978\n",
            "Epoch 570/1000\n",
            "50/50 [==============================] - 2s 35ms/step - loss: 1.0198 - acc: 0.6122\n",
            "Epoch 571/1000\n",
            "50/50 [==============================] - 2s 35ms/step - loss: 1.0242 - acc: 0.6184\n",
            "Epoch 572/1000\n",
            "50/50 [==============================] - 2s 35ms/step - loss: 1.0267 - acc: 0.6028\n",
            "Epoch 573/1000\n",
            "50/50 [==============================] - 2s 36ms/step - loss: 1.0336 - acc: 0.6019\n",
            "Epoch 574/1000\n",
            "50/50 [==============================] - 2s 35ms/step - loss: 1.0321 - acc: 0.6019\n",
            "Epoch 575/1000\n",
            "50/50 [==============================] - 2s 36ms/step - loss: 1.0472 - acc: 0.5991\n",
            "Epoch 576/1000\n",
            "50/50 [==============================] - 2s 35ms/step - loss: 1.0359 - acc: 0.6031\n",
            "Epoch 577/1000\n",
            "21/50 [===========>..................] - ETA: 1s - loss: 1.0065 - acc: 0.6153"
          ],
          "name": "stdout"
        },
        {
          "output_type": "stream",
          "text": [
            "50/50 [==============================] - 2s 36ms/step - loss: 1.0317 - acc: 0.6084\n",
            "Epoch 578/1000\n",
            "50/50 [==============================] - 2s 35ms/step - loss: 1.0309 - acc: 0.6147\n",
            "Epoch 579/1000\n",
            "50/50 [==============================] - 2s 35ms/step - loss: 1.0427 - acc: 0.6047\n",
            "Epoch 580/1000\n",
            "50/50 [==============================] - 2s 36ms/step - loss: 1.0252 - acc: 0.6034\n",
            "Epoch 581/1000\n",
            "50/50 [==============================] - 2s 35ms/step - loss: 1.0141 - acc: 0.6216\n",
            "Epoch 582/1000\n",
            "50/50 [==============================] - 2s 35ms/step - loss: 1.0228 - acc: 0.6150\n",
            "Epoch 583/1000\n",
            "50/50 [==============================] - 2s 36ms/step - loss: 1.0154 - acc: 0.6159\n",
            "Epoch 584/1000\n",
            "50/50 [==============================] - 2s 35ms/step - loss: 1.0267 - acc: 0.6112\n",
            "Epoch 585/1000\n",
            "21/50 [===========>..................] - ETA: 1s - loss: 1.0195 - acc: 0.6138"
          ],
          "name": "stdout"
        },
        {
          "output_type": "stream",
          "text": [
            "50/50 [==============================] - 2s 35ms/step - loss: 1.0442 - acc: 0.6106\n",
            "Epoch 586/1000\n",
            "50/50 [==============================] - 2s 35ms/step - loss: 1.0396 - acc: 0.6119\n",
            "Epoch 587/1000\n",
            "50/50 [==============================] - 2s 35ms/step - loss: 1.0569 - acc: 0.6059\n",
            "Epoch 588/1000\n",
            "50/50 [==============================] - 2s 35ms/step - loss: 1.0434 - acc: 0.6100\n",
            "Epoch 589/1000\n",
            "50/50 [==============================] - 2s 35ms/step - loss: 1.0273 - acc: 0.6150\n",
            "Epoch 590/1000\n",
            "50/50 [==============================] - 2s 35ms/step - loss: 1.0485 - acc: 0.6006\n",
            "Epoch 591/1000\n",
            "50/50 [==============================] - 2s 35ms/step - loss: 1.0527 - acc: 0.5962\n",
            "Epoch 592/1000\n",
            "50/50 [==============================] - 2s 36ms/step - loss: 1.0204 - acc: 0.6125\n",
            "Epoch 593/1000\n",
            "21/50 [===========>..................] - ETA: 1s - loss: 1.0563 - acc: 0.5997"
          ],
          "name": "stdout"
        },
        {
          "output_type": "stream",
          "text": [
            "50/50 [==============================] - 2s 37ms/step - loss: 1.0293 - acc: 0.6034\n",
            "Epoch 594/1000\n",
            "50/50 [==============================] - 2s 36ms/step - loss: 1.0352 - acc: 0.6100\n",
            "Epoch 595/1000\n",
            "50/50 [==============================] - 2s 36ms/step - loss: 1.0092 - acc: 0.6125\n",
            "Epoch 596/1000\n",
            "50/50 [==============================] - 2s 35ms/step - loss: 1.0180 - acc: 0.6181\n",
            "Epoch 597/1000\n",
            "50/50 [==============================] - 2s 36ms/step - loss: 1.0172 - acc: 0.6106\n",
            "Epoch 598/1000\n",
            "50/50 [==============================] - 2s 36ms/step - loss: 1.0173 - acc: 0.6016\n",
            "Epoch 599/1000\n",
            "50/50 [==============================] - 2s 36ms/step - loss: 1.0507 - acc: 0.6047\n",
            "Epoch 600/1000\n",
            "50/50 [==============================] - 2s 36ms/step - loss: 1.0399 - acc: 0.6097\n",
            "Epoch 601/1000\n",
            "21/50 [===========>..................] - ETA: 1s - loss: 1.0544 - acc: 0.5938"
          ],
          "name": "stdout"
        },
        {
          "output_type": "stream",
          "text": [
            "50/50 [==============================] - 2s 35ms/step - loss: 1.0629 - acc: 0.5863\n",
            "Epoch 602/1000\n",
            "50/50 [==============================] - 2s 35ms/step - loss: 1.0009 - acc: 0.6153\n",
            "Epoch 603/1000\n",
            "50/50 [==============================] - 2s 36ms/step - loss: 1.0398 - acc: 0.6128\n",
            "Epoch 604/1000\n",
            "50/50 [==============================] - 2s 35ms/step - loss: 1.0249 - acc: 0.6147\n",
            "Epoch 605/1000\n",
            "50/50 [==============================] - 2s 36ms/step - loss: 1.0547 - acc: 0.5912\n",
            "Epoch 606/1000\n",
            "50/50 [==============================] - 2s 36ms/step - loss: 1.0196 - acc: 0.6169\n",
            "Epoch 607/1000\n",
            "50/50 [==============================] - 2s 36ms/step - loss: 1.0217 - acc: 0.6050\n",
            "Epoch 608/1000\n",
            "50/50 [==============================] - 2s 36ms/step - loss: 1.0229 - acc: 0.6191\n",
            "Epoch 609/1000\n",
            "19/50 [==========>...................] - ETA: 1s - loss: 1.0608 - acc: 0.6036"
          ],
          "name": "stdout"
        },
        {
          "output_type": "stream",
          "text": [
            "50/50 [==============================] - 2s 35ms/step - loss: 1.0475 - acc: 0.6047\n",
            "Epoch 610/1000\n",
            "50/50 [==============================] - 2s 36ms/step - loss: 1.0402 - acc: 0.5984\n",
            "Epoch 611/1000\n",
            "50/50 [==============================] - 2s 36ms/step - loss: 1.0089 - acc: 0.6138\n",
            "Epoch 612/1000\n",
            "50/50 [==============================] - 2s 35ms/step - loss: 1.0253 - acc: 0.6050\n",
            "Epoch 613/1000\n",
            "50/50 [==============================] - 2s 36ms/step - loss: 1.0034 - acc: 0.6222\n",
            "Epoch 614/1000\n",
            "50/50 [==============================] - 2s 36ms/step - loss: 1.0268 - acc: 0.6141\n",
            "Epoch 615/1000\n",
            "50/50 [==============================] - 2s 36ms/step - loss: 1.0159 - acc: 0.6156\n",
            "Epoch 616/1000\n",
            "50/50 [==============================] - 2s 35ms/step - loss: 1.0433 - acc: 0.6069\n",
            "Epoch 617/1000\n",
            "21/50 [===========>..................] - ETA: 1s - loss: 1.0291 - acc: 0.5938"
          ],
          "name": "stdout"
        },
        {
          "output_type": "stream",
          "text": [
            "50/50 [==============================] - 2s 36ms/step - loss: 0.9970 - acc: 0.6219\n",
            "Epoch 618/1000\n",
            "50/50 [==============================] - 2s 36ms/step - loss: 1.0237 - acc: 0.6131\n",
            "Epoch 619/1000\n",
            "50/50 [==============================] - 2s 36ms/step - loss: 1.0445 - acc: 0.5994\n",
            "Epoch 620/1000\n",
            "50/50 [==============================] - 2s 36ms/step - loss: 0.9764 - acc: 0.6312\n",
            "Epoch 621/1000\n",
            "50/50 [==============================] - 2s 36ms/step - loss: 1.0267 - acc: 0.6200\n",
            "Epoch 622/1000\n",
            "50/50 [==============================] - 2s 36ms/step - loss: 1.0441 - acc: 0.6112\n",
            "Epoch 623/1000\n",
            "50/50 [==============================] - 2s 36ms/step - loss: 1.0168 - acc: 0.6081\n",
            "Epoch 624/1000\n",
            "50/50 [==============================] - 2s 35ms/step - loss: 1.0289 - acc: 0.6150\n",
            "Epoch 625/1000\n",
            "21/50 [===========>..................] - ETA: 1s - loss: 1.0678 - acc: 0.5997"
          ],
          "name": "stdout"
        },
        {
          "output_type": "stream",
          "text": [
            "50/50 [==============================] - 2s 35ms/step - loss: 1.0405 - acc: 0.6028\n",
            "Epoch 626/1000\n",
            "50/50 [==============================] - 2s 35ms/step - loss: 1.0294 - acc: 0.6169\n",
            "Epoch 627/1000\n",
            "50/50 [==============================] - 2s 35ms/step - loss: 1.0422 - acc: 0.6127\n",
            "Epoch 628/1000\n",
            "50/50 [==============================] - 2s 36ms/step - loss: 1.0327 - acc: 0.6238\n",
            "Epoch 629/1000\n",
            "50/50 [==============================] - 2s 36ms/step - loss: 1.0197 - acc: 0.6147\n",
            "Epoch 630/1000\n",
            "50/50 [==============================] - 2s 35ms/step - loss: 1.0025 - acc: 0.6147\n",
            "Epoch 631/1000\n",
            "50/50 [==============================] - 2s 36ms/step - loss: 1.0208 - acc: 0.6122\n",
            "Epoch 632/1000\n",
            "50/50 [==============================] - 2s 36ms/step - loss: 1.0241 - acc: 0.6053\n",
            "Epoch 633/1000\n",
            "21/50 [===========>..................] - ETA: 1s - loss: 0.9817 - acc: 0.6324"
          ],
          "name": "stdout"
        },
        {
          "output_type": "stream",
          "text": [
            "50/50 [==============================] - 2s 36ms/step - loss: 1.0035 - acc: 0.6234\n",
            "Epoch 634/1000\n",
            "50/50 [==============================] - 2s 36ms/step - loss: 1.0243 - acc: 0.6128\n",
            "Epoch 635/1000\n",
            "50/50 [==============================] - 2s 36ms/step - loss: 1.0324 - acc: 0.5934\n",
            "Epoch 636/1000\n",
            "50/50 [==============================] - 2s 36ms/step - loss: 0.9868 - acc: 0.6244\n",
            "Epoch 637/1000\n",
            "50/50 [==============================] - 2s 35ms/step - loss: 1.0047 - acc: 0.6178\n",
            "Epoch 638/1000\n",
            "50/50 [==============================] - 2s 35ms/step - loss: 1.0086 - acc: 0.6019\n",
            "Epoch 639/1000\n",
            "50/50 [==============================] - 2s 36ms/step - loss: 1.0565 - acc: 0.6031\n",
            "Epoch 640/1000\n",
            "50/50 [==============================] - 2s 36ms/step - loss: 1.0107 - acc: 0.6119\n",
            "Epoch 641/1000\n",
            "21/50 [===========>..................] - ETA: 1s - loss: 1.0103 - acc: 0.6176"
          ],
          "name": "stdout"
        },
        {
          "output_type": "stream",
          "text": [
            "50/50 [==============================] - 2s 36ms/step - loss: 1.0271 - acc: 0.6147\n",
            "Epoch 642/1000\n",
            "50/50 [==============================] - 2s 36ms/step - loss: 1.0395 - acc: 0.6053\n",
            "Epoch 643/1000\n",
            "50/50 [==============================] - 2s 36ms/step - loss: 0.9989 - acc: 0.6178\n",
            "Epoch 644/1000\n",
            "50/50 [==============================] - 2s 36ms/step - loss: 1.0169 - acc: 0.6119\n",
            "Epoch 645/1000\n",
            "50/50 [==============================] - 2s 35ms/step - loss: 1.0465 - acc: 0.6103\n",
            "Epoch 646/1000\n",
            "50/50 [==============================] - 2s 35ms/step - loss: 1.0110 - acc: 0.6119\n",
            "Epoch 647/1000\n",
            "50/50 [==============================] - 2s 35ms/step - loss: 1.0634 - acc: 0.5938\n",
            "Epoch 648/1000\n",
            "50/50 [==============================] - 2s 36ms/step - loss: 1.0017 - acc: 0.6197\n",
            "Epoch 649/1000\n",
            "21/50 [===========>..................] - ETA: 1s - loss: 1.0334 - acc: 0.6131"
          ],
          "name": "stdout"
        },
        {
          "output_type": "stream",
          "text": [
            "50/50 [==============================] - 2s 36ms/step - loss: 1.0373 - acc: 0.6259\n",
            "Epoch 650/1000\n",
            "50/50 [==============================] - 2s 36ms/step - loss: 0.9861 - acc: 0.6325\n",
            "Epoch 651/1000\n",
            "50/50 [==============================] - 2s 36ms/step - loss: 0.9842 - acc: 0.6272\n",
            "Epoch 652/1000\n",
            "50/50 [==============================] - 2s 35ms/step - loss: 1.0164 - acc: 0.6228\n",
            "Epoch 653/1000\n",
            "50/50 [==============================] - 2s 35ms/step - loss: 1.0345 - acc: 0.6069\n",
            "Epoch 654/1000\n",
            "50/50 [==============================] - 2s 36ms/step - loss: 1.0235 - acc: 0.6122\n",
            "Epoch 655/1000\n",
            "50/50 [==============================] - 2s 36ms/step - loss: 1.0230 - acc: 0.6050\n",
            "Epoch 656/1000\n",
            "50/50 [==============================] - 2s 36ms/step - loss: 1.0383 - acc: 0.6078\n",
            "Epoch 657/1000\n",
            "21/50 [===========>..................] - ETA: 1s - loss: 1.0549 - acc: 0.6079"
          ],
          "name": "stdout"
        },
        {
          "output_type": "stream",
          "text": [
            "50/50 [==============================] - 2s 36ms/step - loss: 1.0325 - acc: 0.6119\n",
            "Epoch 658/1000\n",
            "50/50 [==============================] - 2s 36ms/step - loss: 1.0221 - acc: 0.6178\n",
            "Epoch 659/1000\n",
            "50/50 [==============================] - 2s 36ms/step - loss: 1.0229 - acc: 0.6097\n",
            "Epoch 660/1000\n",
            "50/50 [==============================] - 2s 36ms/step - loss: 0.9932 - acc: 0.6156\n",
            "Epoch 661/1000\n",
            "50/50 [==============================] - 2s 36ms/step - loss: 1.0150 - acc: 0.6178\n",
            "Epoch 662/1000\n",
            "50/50 [==============================] - 2s 35ms/step - loss: 1.0283 - acc: 0.6025\n",
            "Epoch 663/1000\n",
            "50/50 [==============================] - 2s 36ms/step - loss: 0.9933 - acc: 0.6209\n",
            "Epoch 664/1000\n",
            "50/50 [==============================] - 2s 36ms/step - loss: 1.0146 - acc: 0.6212\n",
            "Epoch 665/1000\n",
            "21/50 [===========>..................] - ETA: 1s - loss: 1.0076 - acc: 0.6183"
          ],
          "name": "stdout"
        },
        {
          "output_type": "stream",
          "text": [
            "50/50 [==============================] - 2s 36ms/step - loss: 1.0015 - acc: 0.6225\n",
            "Epoch 666/1000\n",
            "50/50 [==============================] - 2s 36ms/step - loss: 1.0150 - acc: 0.6231\n",
            "Epoch 667/1000\n",
            "50/50 [==============================] - 2s 36ms/step - loss: 1.0169 - acc: 0.6178\n",
            "Epoch 668/1000\n",
            "50/50 [==============================] - 2s 35ms/step - loss: 1.0043 - acc: 0.6188\n",
            "Epoch 669/1000\n",
            "50/50 [==============================] - 2s 35ms/step - loss: 1.0163 - acc: 0.6247\n",
            "Epoch 670/1000\n",
            "50/50 [==============================] - 2s 35ms/step - loss: 1.0175 - acc: 0.6147\n",
            "Epoch 671/1000\n",
            "50/50 [==============================] - 2s 36ms/step - loss: 0.9866 - acc: 0.6144\n",
            "Epoch 672/1000\n",
            "50/50 [==============================] - 2s 36ms/step - loss: 0.9854 - acc: 0.6281\n",
            "Epoch 673/1000\n",
            "21/50 [===========>..................] - ETA: 1s - loss: 1.0332 - acc: 0.6101"
          ],
          "name": "stdout"
        },
        {
          "output_type": "stream",
          "text": [
            "50/50 [==============================] - 2s 36ms/step - loss: 1.0343 - acc: 0.6138\n",
            "Epoch 674/1000\n",
            "50/50 [==============================] - 2s 36ms/step - loss: 0.9919 - acc: 0.6244\n",
            "Epoch 675/1000\n",
            "50/50 [==============================] - 2s 35ms/step - loss: 1.0082 - acc: 0.6172\n",
            "Epoch 676/1000\n",
            "50/50 [==============================] - 2s 36ms/step - loss: 1.0089 - acc: 0.6250\n",
            "Epoch 677/1000\n",
            "50/50 [==============================] - 2s 36ms/step - loss: 1.0028 - acc: 0.6212\n",
            "Epoch 678/1000\n",
            "50/50 [==============================] - 2s 35ms/step - loss: 0.9954 - acc: 0.6225\n",
            "Epoch 679/1000\n",
            "50/50 [==============================] - 2s 36ms/step - loss: 1.0390 - acc: 0.6078\n",
            "Epoch 680/1000\n",
            "50/50 [==============================] - 2s 36ms/step - loss: 1.0238 - acc: 0.6062\n",
            "Epoch 681/1000\n",
            "21/50 [===========>..................] - ETA: 0s - loss: 1.0063 - acc: 0.6287"
          ],
          "name": "stdout"
        },
        {
          "output_type": "stream",
          "text": [
            "50/50 [==============================] - 2s 35ms/step - loss: 1.0078 - acc: 0.6256\n",
            "Epoch 682/1000\n",
            "50/50 [==============================] - 2s 35ms/step - loss: 1.0370 - acc: 0.6111\n",
            "Epoch 683/1000\n",
            "50/50 [==============================] - 2s 35ms/step - loss: 1.0203 - acc: 0.6153\n",
            "Epoch 684/1000\n",
            "50/50 [==============================] - 2s 35ms/step - loss: 1.0098 - acc: 0.6141\n",
            "Epoch 685/1000\n",
            "50/50 [==============================] - 2s 35ms/step - loss: 1.0051 - acc: 0.6194\n",
            "Epoch 686/1000\n",
            "50/50 [==============================] - 2s 35ms/step - loss: 1.0042 - acc: 0.6228\n",
            "Epoch 687/1000\n",
            "50/50 [==============================] - 2s 35ms/step - loss: 0.9828 - acc: 0.6309\n",
            "Epoch 688/1000\n",
            "50/50 [==============================] - 2s 36ms/step - loss: 1.0216 - acc: 0.6181\n",
            "Epoch 689/1000\n",
            "21/50 [===========>..................] - ETA: 1s - loss: 0.9971 - acc: 0.6146"
          ],
          "name": "stdout"
        },
        {
          "output_type": "stream",
          "text": [
            "50/50 [==============================] - 2s 35ms/step - loss: 0.9907 - acc: 0.6266\n",
            "Epoch 690/1000\n",
            "50/50 [==============================] - 2s 36ms/step - loss: 0.9976 - acc: 0.6247\n",
            "Epoch 691/1000\n",
            "50/50 [==============================] - 2s 36ms/step - loss: 0.9996 - acc: 0.6178\n",
            "Epoch 692/1000\n",
            "50/50 [==============================] - 2s 35ms/step - loss: 0.9934 - acc: 0.6312\n",
            "Epoch 693/1000\n",
            "50/50 [==============================] - 2s 35ms/step - loss: 1.0016 - acc: 0.6238\n",
            "Epoch 694/1000\n",
            "50/50 [==============================] - 2s 35ms/step - loss: 1.0300 - acc: 0.6147\n",
            "Epoch 695/1000\n",
            "50/50 [==============================] - 2s 36ms/step - loss: 1.0112 - acc: 0.6169\n",
            "Epoch 696/1000\n",
            "50/50 [==============================] - 2s 35ms/step - loss: 0.9728 - acc: 0.6347\n",
            "Epoch 697/1000\n",
            "21/50 [===========>..................] - ETA: 1s - loss: 1.0325 - acc: 0.5945"
          ],
          "name": "stdout"
        },
        {
          "output_type": "stream",
          "text": [
            "50/50 [==============================] - 2s 36ms/step - loss: 1.0238 - acc: 0.6078\n",
            "Epoch 698/1000\n",
            "50/50 [==============================] - 2s 35ms/step - loss: 1.0208 - acc: 0.6131\n",
            "Epoch 699/1000\n",
            "50/50 [==============================] - 2s 36ms/step - loss: 0.9883 - acc: 0.6359\n",
            "Epoch 700/1000\n",
            "50/50 [==============================] - 2s 35ms/step - loss: 1.0316 - acc: 0.6097\n",
            "Epoch 701/1000\n",
            "50/50 [==============================] - 2s 36ms/step - loss: 0.9904 - acc: 0.6253\n",
            "Epoch 702/1000\n",
            "50/50 [==============================] - 2s 37ms/step - loss: 0.9976 - acc: 0.6200\n",
            "Epoch 703/1000\n",
            "50/50 [==============================] - 2s 35ms/step - loss: 1.0027 - acc: 0.6144\n",
            "Epoch 704/1000\n",
            "50/50 [==============================] - 2s 36ms/step - loss: 0.9784 - acc: 0.6341\n",
            "Epoch 705/1000\n",
            "21/50 [===========>..................] - ETA: 1s - loss: 0.9853 - acc: 0.6339"
          ],
          "name": "stdout"
        },
        {
          "output_type": "stream",
          "text": [
            "50/50 [==============================] - 2s 35ms/step - loss: 0.9788 - acc: 0.6347\n",
            "Epoch 706/1000\n",
            "50/50 [==============================] - 2s 35ms/step - loss: 0.9941 - acc: 0.6231\n",
            "Epoch 707/1000\n",
            "50/50 [==============================] - 2s 35ms/step - loss: 1.0154 - acc: 0.6150\n",
            "Epoch 708/1000\n",
            "50/50 [==============================] - 2s 35ms/step - loss: 0.9795 - acc: 0.6338\n",
            "Epoch 709/1000\n",
            "50/50 [==============================] - 2s 35ms/step - loss: 1.0150 - acc: 0.6038\n",
            "Epoch 710/1000\n",
            "50/50 [==============================] - 2s 36ms/step - loss: 1.0055 - acc: 0.6056\n",
            "Epoch 711/1000\n",
            "50/50 [==============================] - 2s 36ms/step - loss: 1.0366 - acc: 0.6088\n",
            "Epoch 712/1000\n",
            "50/50 [==============================] - 2s 35ms/step - loss: 1.0091 - acc: 0.6178\n",
            "Epoch 713/1000\n",
            "21/50 [===========>..................] - ETA: 1s - loss: 1.0346 - acc: 0.6220"
          ],
          "name": "stdout"
        },
        {
          "output_type": "stream",
          "text": [
            "50/50 [==============================] - 2s 35ms/step - loss: 1.0291 - acc: 0.6194\n",
            "Epoch 714/1000\n",
            "50/50 [==============================] - 2s 35ms/step - loss: 1.0078 - acc: 0.6184\n",
            "Epoch 715/1000\n",
            "50/50 [==============================] - 2s 36ms/step - loss: 1.0153 - acc: 0.6197\n",
            "Epoch 716/1000\n",
            "50/50 [==============================] - 2s 36ms/step - loss: 0.9985 - acc: 0.6197\n",
            "Epoch 717/1000\n",
            "50/50 [==============================] - 2s 35ms/step - loss: 1.0111 - acc: 0.6134\n",
            "Epoch 718/1000\n",
            "50/50 [==============================] - 2s 35ms/step - loss: 1.0108 - acc: 0.6259\n",
            "Epoch 719/1000\n",
            "50/50 [==============================] - 2s 35ms/step - loss: 0.9801 - acc: 0.6284\n",
            "Epoch 720/1000\n",
            "50/50 [==============================] - 2s 35ms/step - loss: 0.9847 - acc: 0.6109\n",
            "Epoch 721/1000\n",
            "21/50 [===========>..................] - ETA: 1s - loss: 1.0322 - acc: 0.5975"
          ],
          "name": "stdout"
        },
        {
          "output_type": "stream",
          "text": [
            "50/50 [==============================] - 2s 35ms/step - loss: 1.0087 - acc: 0.6141\n",
            "Epoch 722/1000\n",
            "50/50 [==============================] - 2s 35ms/step - loss: 1.0229 - acc: 0.6119\n",
            "Epoch 723/1000\n",
            "50/50 [==============================] - 2s 35ms/step - loss: 1.0189 - acc: 0.6125\n",
            "Epoch 724/1000\n",
            "50/50 [==============================] - 2s 35ms/step - loss: 1.0179 - acc: 0.6162\n",
            "Epoch 725/1000\n",
            "50/50 [==============================] - 2s 35ms/step - loss: 0.9932 - acc: 0.6228\n",
            "Epoch 726/1000\n",
            "50/50 [==============================] - 2s 35ms/step - loss: 0.9819 - acc: 0.6334\n",
            "Epoch 727/1000\n",
            "50/50 [==============================] - 2s 35ms/step - loss: 1.0065 - acc: 0.6234\n",
            "Epoch 728/1000\n",
            "50/50 [==============================] - 2s 35ms/step - loss: 0.9972 - acc: 0.6284\n",
            "Epoch 729/1000\n",
            "21/50 [===========>..................] - ETA: 1s - loss: 1.0096 - acc: 0.6146"
          ],
          "name": "stdout"
        },
        {
          "output_type": "stream",
          "text": [
            "50/50 [==============================] - 2s 36ms/step - loss: 0.9716 - acc: 0.6284\n",
            "Epoch 730/1000\n",
            "50/50 [==============================] - 2s 35ms/step - loss: 0.9951 - acc: 0.6181\n",
            "Epoch 731/1000\n",
            "50/50 [==============================] - 2s 35ms/step - loss: 0.9969 - acc: 0.6209\n",
            "Epoch 732/1000\n",
            "50/50 [==============================] - 2s 35ms/step - loss: 0.9844 - acc: 0.6209\n",
            "Epoch 733/1000\n",
            "50/50 [==============================] - 2s 36ms/step - loss: 1.0159 - acc: 0.6078\n",
            "Epoch 734/1000\n",
            "50/50 [==============================] - 2s 36ms/step - loss: 0.9687 - acc: 0.6309\n",
            "Epoch 735/1000\n",
            "50/50 [==============================] - 2s 36ms/step - loss: 1.0384 - acc: 0.6072\n",
            "Epoch 736/1000\n",
            "50/50 [==============================] - 2s 36ms/step - loss: 1.0443 - acc: 0.6056\n",
            "Epoch 737/1000\n",
            "21/50 [===========>..................] - ETA: 1s - loss: 1.0155 - acc: 0.6131"
          ],
          "name": "stdout"
        },
        {
          "output_type": "stream",
          "text": [
            "50/50 [==============================] - 2s 37ms/step - loss: 0.9959 - acc: 0.6216\n",
            "Epoch 738/1000\n",
            "50/50 [==============================] - 2s 35ms/step - loss: 0.9878 - acc: 0.6289\n",
            "Epoch 739/1000\n",
            "50/50 [==============================] - 2s 36ms/step - loss: 0.9892 - acc: 0.6253\n",
            "Epoch 740/1000\n",
            "50/50 [==============================] - 2s 36ms/step - loss: 1.0371 - acc: 0.6178\n",
            "Epoch 741/1000\n",
            "50/50 [==============================] - 2s 35ms/step - loss: 0.9689 - acc: 0.6322\n",
            "Epoch 742/1000\n",
            "50/50 [==============================] - 2s 36ms/step - loss: 1.0216 - acc: 0.6028\n",
            "Epoch 743/1000\n",
            "50/50 [==============================] - 2s 36ms/step - loss: 0.9882 - acc: 0.6178\n",
            "Epoch 744/1000\n",
            "50/50 [==============================] - 2s 36ms/step - loss: 1.0075 - acc: 0.6250\n",
            "Epoch 745/1000\n",
            "21/50 [===========>..................] - ETA: 1s - loss: 1.0005 - acc: 0.6272"
          ],
          "name": "stdout"
        },
        {
          "output_type": "stream",
          "text": [
            "50/50 [==============================] - 2s 36ms/step - loss: 0.9969 - acc: 0.6231\n",
            "Epoch 746/1000\n",
            "50/50 [==============================] - 2s 35ms/step - loss: 1.0020 - acc: 0.6247\n",
            "Epoch 747/1000\n",
            "50/50 [==============================] - 2s 36ms/step - loss: 1.0058 - acc: 0.6300\n",
            "Epoch 748/1000\n",
            "50/50 [==============================] - 2s 36ms/step - loss: 0.9869 - acc: 0.6247\n",
            "Epoch 749/1000\n",
            "50/50 [==============================] - 2s 36ms/step - loss: 1.0028 - acc: 0.6153\n",
            "Epoch 750/1000\n",
            "50/50 [==============================] - 2s 36ms/step - loss: 1.0247 - acc: 0.6103\n",
            "Epoch 751/1000\n",
            "50/50 [==============================] - 2s 36ms/step - loss: 0.9951 - acc: 0.6231\n",
            "Epoch 752/1000\n",
            "50/50 [==============================] - 2s 36ms/step - loss: 1.0158 - acc: 0.6209\n",
            "Epoch 753/1000\n",
            "21/50 [===========>..................] - ETA: 1s - loss: 0.9841 - acc: 0.6265"
          ],
          "name": "stdout"
        },
        {
          "output_type": "stream",
          "text": [
            "50/50 [==============================] - 2s 36ms/step - loss: 0.9839 - acc: 0.6234\n",
            "Epoch 754/1000\n",
            "50/50 [==============================] - 2s 36ms/step - loss: 1.0190 - acc: 0.6116\n",
            "Epoch 755/1000\n",
            "50/50 [==============================] - 2s 36ms/step - loss: 1.0056 - acc: 0.6094\n",
            "Epoch 756/1000\n",
            "50/50 [==============================] - 2s 36ms/step - loss: 0.9707 - acc: 0.6241\n",
            "Epoch 757/1000\n",
            "50/50 [==============================] - 2s 36ms/step - loss: 0.9762 - acc: 0.6338\n",
            "Epoch 758/1000\n",
            "50/50 [==============================] - 2s 36ms/step - loss: 0.9994 - acc: 0.6197\n",
            "Epoch 759/1000\n",
            "50/50 [==============================] - 2s 36ms/step - loss: 0.9980 - acc: 0.6188\n",
            "Epoch 760/1000\n",
            "50/50 [==============================] - 2s 36ms/step - loss: 0.9982 - acc: 0.6112\n",
            "Epoch 761/1000\n",
            "21/50 [===========>..................] - ETA: 1s - loss: 0.9684 - acc: 0.6272"
          ],
          "name": "stdout"
        },
        {
          "output_type": "stream",
          "text": [
            "50/50 [==============================] - 2s 36ms/step - loss: 0.9962 - acc: 0.6159\n",
            "Epoch 762/1000\n",
            "50/50 [==============================] - 2s 36ms/step - loss: 0.9781 - acc: 0.6319\n",
            "Epoch 763/1000\n",
            "50/50 [==============================] - 2s 35ms/step - loss: 0.9997 - acc: 0.6162\n",
            "Epoch 764/1000\n",
            "50/50 [==============================] - 2s 35ms/step - loss: 0.9488 - acc: 0.6416\n",
            "Epoch 765/1000\n",
            "50/50 [==============================] - 2s 35ms/step - loss: 1.0212 - acc: 0.6262\n",
            "Epoch 766/1000\n",
            "50/50 [==============================] - 2s 34ms/step - loss: 0.9840 - acc: 0.6315\n",
            "Epoch 767/1000\n",
            "50/50 [==============================] - 2s 35ms/step - loss: 0.9910 - acc: 0.6241\n",
            "Epoch 768/1000\n",
            "50/50 [==============================] - 2s 36ms/step - loss: 0.9852 - acc: 0.6238\n",
            "Epoch 769/1000\n",
            "21/50 [===========>..................] - ETA: 1s - loss: 1.0484 - acc: 0.5915"
          ],
          "name": "stdout"
        },
        {
          "output_type": "stream",
          "text": [
            "50/50 [==============================] - 2s 36ms/step - loss: 1.0145 - acc: 0.6156\n",
            "Epoch 770/1000\n",
            "50/50 [==============================] - 2s 36ms/step - loss: 0.9962 - acc: 0.6181\n",
            "Epoch 771/1000\n",
            "50/50 [==============================] - 2s 35ms/step - loss: 0.9989 - acc: 0.6247\n",
            "Epoch 772/1000\n",
            "50/50 [==============================] - 2s 35ms/step - loss: 1.0089 - acc: 0.6197\n",
            "Epoch 773/1000\n",
            "50/50 [==============================] - 2s 36ms/step - loss: 0.9885 - acc: 0.6259\n",
            "Epoch 774/1000\n",
            "50/50 [==============================] - 2s 35ms/step - loss: 1.0062 - acc: 0.6072\n",
            "Epoch 775/1000\n",
            "50/50 [==============================] - 2s 35ms/step - loss: 0.9787 - acc: 0.6306\n",
            "Epoch 776/1000\n",
            "50/50 [==============================] - 2s 35ms/step - loss: 0.9922 - acc: 0.6259\n",
            "Epoch 777/1000\n",
            "21/50 [===========>..................] - ETA: 0s - loss: 1.0169 - acc: 0.6124"
          ],
          "name": "stdout"
        },
        {
          "output_type": "stream",
          "text": [
            "50/50 [==============================] - 2s 35ms/step - loss: 0.9864 - acc: 0.6266\n",
            "Epoch 778/1000\n",
            "50/50 [==============================] - 2s 35ms/step - loss: 0.9753 - acc: 0.6325\n",
            "Epoch 779/1000\n",
            "50/50 [==============================] - 2s 36ms/step - loss: 0.9950 - acc: 0.6231\n",
            "Epoch 780/1000\n",
            "50/50 [==============================] - 2s 36ms/step - loss: 0.9798 - acc: 0.6366\n",
            "Epoch 781/1000\n",
            "50/50 [==============================] - 2s 36ms/step - loss: 0.9979 - acc: 0.6194\n",
            "Epoch 782/1000\n",
            "50/50 [==============================] - 2s 36ms/step - loss: 0.9973 - acc: 0.6216\n",
            "Epoch 783/1000\n",
            "50/50 [==============================] - 2s 35ms/step - loss: 1.0000 - acc: 0.6162\n",
            "Epoch 784/1000\n",
            "50/50 [==============================] - 2s 35ms/step - loss: 0.9847 - acc: 0.6297\n",
            "Epoch 785/1000\n",
            "21/50 [===========>..................] - ETA: 1s - loss: 0.9265 - acc: 0.6362"
          ],
          "name": "stdout"
        },
        {
          "output_type": "stream",
          "text": [
            "50/50 [==============================] - 2s 36ms/step - loss: 0.9676 - acc: 0.6234\n",
            "Epoch 786/1000\n",
            "50/50 [==============================] - 2s 35ms/step - loss: 1.0085 - acc: 0.6178\n",
            "Epoch 787/1000\n",
            "50/50 [==============================] - 2s 35ms/step - loss: 1.0194 - acc: 0.6125\n",
            "Epoch 788/1000\n",
            "50/50 [==============================] - 2s 35ms/step - loss: 0.9970 - acc: 0.6259\n",
            "Epoch 789/1000\n",
            "50/50 [==============================] - 2s 35ms/step - loss: 0.9870 - acc: 0.6241\n",
            "Epoch 790/1000\n",
            "50/50 [==============================] - 2s 35ms/step - loss: 0.9880 - acc: 0.6212\n",
            "Epoch 791/1000\n",
            "50/50 [==============================] - 2s 36ms/step - loss: 1.0103 - acc: 0.6216\n",
            "Epoch 792/1000\n",
            "50/50 [==============================] - 2s 35ms/step - loss: 0.9735 - acc: 0.6316\n",
            "Epoch 793/1000\n",
            "21/50 [===========>..................] - ETA: 1s - loss: 0.9791 - acc: 0.6458"
          ],
          "name": "stdout"
        },
        {
          "output_type": "stream",
          "text": [
            "50/50 [==============================] - 2s 35ms/step - loss: 0.9806 - acc: 0.6369\n",
            "Epoch 794/1000\n",
            "50/50 [==============================] - 2s 35ms/step - loss: 0.9926 - acc: 0.6275\n",
            "Epoch 795/1000\n",
            "50/50 [==============================] - 2s 36ms/step - loss: 0.9609 - acc: 0.6350\n",
            "Epoch 796/1000\n",
            "50/50 [==============================] - 2s 36ms/step - loss: 0.9922 - acc: 0.6122\n",
            "Epoch 797/1000\n",
            "50/50 [==============================] - 2s 35ms/step - loss: 0.9647 - acc: 0.6319\n",
            "Epoch 798/1000\n",
            "50/50 [==============================] - 2s 36ms/step - loss: 0.9915 - acc: 0.6244\n",
            "Epoch 799/1000\n",
            "50/50 [==============================] - 2s 35ms/step - loss: 1.0087 - acc: 0.6175\n",
            "Epoch 800/1000\n",
            "50/50 [==============================] - 2s 36ms/step - loss: 0.9944 - acc: 0.6234\n",
            "Epoch 801/1000\n",
            "21/50 [===========>..................] - ETA: 1s - loss: 0.9782 - acc: 0.6272"
          ],
          "name": "stdout"
        },
        {
          "output_type": "stream",
          "text": [
            "50/50 [==============================] - 2s 36ms/step - loss: 0.9977 - acc: 0.6216\n",
            "Epoch 802/1000\n",
            "50/50 [==============================] - 2s 35ms/step - loss: 0.9982 - acc: 0.6106\n",
            "Epoch 803/1000\n",
            "50/50 [==============================] - 2s 36ms/step - loss: 0.9839 - acc: 0.6178\n",
            "Epoch 804/1000\n",
            "50/50 [==============================] - 2s 36ms/step - loss: 0.9979 - acc: 0.6334\n",
            "Epoch 805/1000\n",
            "50/50 [==============================] - 2s 36ms/step - loss: 0.9830 - acc: 0.6178\n",
            "Epoch 806/1000\n",
            "50/50 [==============================] - 2s 36ms/step - loss: 1.0075 - acc: 0.6144\n",
            "Epoch 807/1000\n",
            "50/50 [==============================] - 2s 36ms/step - loss: 0.9858 - acc: 0.6322\n",
            "Epoch 808/1000\n",
            "50/50 [==============================] - 2s 35ms/step - loss: 1.0058 - acc: 0.6284\n",
            "Epoch 809/1000\n",
            "21/50 [===========>..................] - ETA: 1s - loss: 0.9765 - acc: 0.6295"
          ],
          "name": "stdout"
        },
        {
          "output_type": "stream",
          "text": [
            "50/50 [==============================] - 2s 36ms/step - loss: 0.9475 - acc: 0.6447\n",
            "Epoch 810/1000\n",
            "50/50 [==============================] - 2s 36ms/step - loss: 0.9985 - acc: 0.6228\n",
            "Epoch 811/1000\n",
            "50/50 [==============================] - 2s 36ms/step - loss: 0.9327 - acc: 0.6475\n",
            "Epoch 812/1000\n",
            "50/50 [==============================] - 2s 35ms/step - loss: 0.9844 - acc: 0.6203\n",
            "Epoch 813/1000\n",
            "50/50 [==============================] - 2s 36ms/step - loss: 1.0096 - acc: 0.6200\n",
            "Epoch 814/1000\n",
            "50/50 [==============================] - 2s 36ms/step - loss: 0.9697 - acc: 0.6316\n",
            "Epoch 815/1000\n",
            "50/50 [==============================] - 2s 36ms/step - loss: 0.9723 - acc: 0.6269\n",
            "Epoch 816/1000\n",
            "50/50 [==============================] - 2s 36ms/step - loss: 0.9693 - acc: 0.6412\n",
            "Epoch 817/1000\n",
            "21/50 [===========>..................] - ETA: 1s - loss: 0.9887 - acc: 0.6302"
          ],
          "name": "stdout"
        },
        {
          "output_type": "stream",
          "text": [
            "50/50 [==============================] - 2s 36ms/step - loss: 0.9885 - acc: 0.6169\n",
            "Epoch 818/1000\n",
            "50/50 [==============================] - 2s 35ms/step - loss: 0.9862 - acc: 0.6216\n",
            "Epoch 819/1000\n",
            "50/50 [==============================] - 2s 36ms/step - loss: 0.9800 - acc: 0.6388\n",
            "Epoch 820/1000\n",
            "50/50 [==============================] - 2s 36ms/step - loss: 0.9830 - acc: 0.6272\n",
            "Epoch 821/1000\n",
            "50/50 [==============================] - 2s 36ms/step - loss: 0.9809 - acc: 0.6372\n",
            "Epoch 822/1000\n",
            "50/50 [==============================] - 2s 35ms/step - loss: 0.9873 - acc: 0.6234\n",
            "Epoch 823/1000\n",
            "50/50 [==============================] - 2s 36ms/step - loss: 0.9970 - acc: 0.6184\n",
            "Epoch 824/1000\n",
            "50/50 [==============================] - 2s 36ms/step - loss: 1.0033 - acc: 0.6362\n",
            "Epoch 825/1000\n",
            "21/50 [===========>..................] - ETA: 1s - loss: 1.0160 - acc: 0.6086"
          ],
          "name": "stdout"
        },
        {
          "output_type": "stream",
          "text": [
            "50/50 [==============================] - 2s 36ms/step - loss: 1.0270 - acc: 0.6100\n",
            "Epoch 826/1000\n",
            "50/50 [==============================] - 2s 36ms/step - loss: 0.9875 - acc: 0.6194\n",
            "Epoch 827/1000\n",
            "50/50 [==============================] - 2s 36ms/step - loss: 0.9735 - acc: 0.6297\n",
            "Epoch 828/1000\n",
            "50/50 [==============================] - 2s 36ms/step - loss: 0.9488 - acc: 0.6381\n",
            "Epoch 829/1000\n",
            "50/50 [==============================] - 2s 36ms/step - loss: 0.9576 - acc: 0.6369\n",
            "Epoch 830/1000\n",
            "50/50 [==============================] - 2s 36ms/step - loss: 0.9874 - acc: 0.6300\n",
            "Epoch 831/1000\n",
            "50/50 [==============================] - 2s 36ms/step - loss: 0.9836 - acc: 0.6325\n",
            "Epoch 832/1000\n",
            "50/50 [==============================] - 2s 36ms/step - loss: 0.9553 - acc: 0.6331\n",
            "Epoch 833/1000\n",
            "23/50 [============>.................] - ETA: 0s - loss: 0.9814 - acc: 0.6311"
          ],
          "name": "stdout"
        },
        {
          "output_type": "stream",
          "text": [
            "50/50 [==============================] - 2s 36ms/step - loss: 0.9770 - acc: 0.6281\n",
            "Epoch 834/1000\n",
            "50/50 [==============================] - 2s 36ms/step - loss: 0.9926 - acc: 0.6278\n",
            "Epoch 835/1000\n",
            "50/50 [==============================] - 2s 36ms/step - loss: 0.9681 - acc: 0.6300\n",
            "Epoch 836/1000\n",
            "50/50 [==============================] - 2s 36ms/step - loss: 0.9970 - acc: 0.6272\n",
            "Epoch 837/1000\n",
            "50/50 [==============================] - 2s 36ms/step - loss: 1.0150 - acc: 0.6207\n",
            "Epoch 838/1000\n",
            "50/50 [==============================] - 2s 36ms/step - loss: 1.0138 - acc: 0.6106\n",
            "Epoch 839/1000\n",
            "50/50 [==============================] - 2s 35ms/step - loss: 0.9819 - acc: 0.6362\n",
            "Epoch 840/1000\n",
            "50/50 [==============================] - 2s 36ms/step - loss: 0.9759 - acc: 0.6159\n",
            "Epoch 841/1000\n",
            "21/50 [===========>..................] - ETA: 1s - loss: 0.9910 - acc: 0.6027"
          ],
          "name": "stdout"
        },
        {
          "output_type": "stream",
          "text": [
            "50/50 [==============================] - 2s 36ms/step - loss: 0.9867 - acc: 0.6272\n",
            "Epoch 842/1000\n",
            "50/50 [==============================] - 2s 36ms/step - loss: 0.9921 - acc: 0.6119\n",
            "Epoch 843/1000\n",
            "50/50 [==============================] - 2s 36ms/step - loss: 0.9737 - acc: 0.6297\n",
            "Epoch 844/1000\n",
            "50/50 [==============================] - 2s 35ms/step - loss: 1.0173 - acc: 0.6131\n",
            "Epoch 845/1000\n",
            "50/50 [==============================] - 2s 36ms/step - loss: 0.9933 - acc: 0.6206\n",
            "Epoch 846/1000\n",
            "50/50 [==============================] - 2s 36ms/step - loss: 0.9548 - acc: 0.6272\n",
            "Epoch 847/1000\n",
            "50/50 [==============================] - 2s 36ms/step - loss: 0.9658 - acc: 0.6428\n",
            "Epoch 848/1000\n",
            "50/50 [==============================] - 2s 36ms/step - loss: 0.9898 - acc: 0.6189\n",
            "Epoch 849/1000\n",
            "17/50 [=========>....................] - ETA: 1s - loss: 0.9887 - acc: 0.6296"
          ],
          "name": "stdout"
        },
        {
          "output_type": "stream",
          "text": [
            "50/50 [==============================] - 2s 36ms/step - loss: 0.9596 - acc: 0.6419\n",
            "Epoch 850/1000\n",
            "50/50 [==============================] - 2s 37ms/step - loss: 0.9436 - acc: 0.6459\n",
            "Epoch 851/1000\n",
            "50/50 [==============================] - 2s 35ms/step - loss: 1.0018 - acc: 0.6359\n",
            "Epoch 852/1000\n",
            "50/50 [==============================] - 2s 36ms/step - loss: 0.9887 - acc: 0.6262\n",
            "Epoch 853/1000\n",
            "50/50 [==============================] - 2s 35ms/step - loss: 1.0065 - acc: 0.6184\n",
            "Epoch 854/1000\n",
            "50/50 [==============================] - 2s 35ms/step - loss: 1.0049 - acc: 0.6153\n",
            "Epoch 855/1000\n",
            "50/50 [==============================] - 2s 36ms/step - loss: 0.9717 - acc: 0.6362\n",
            "Epoch 856/1000\n",
            "50/50 [==============================] - 2s 36ms/step - loss: 0.9761 - acc: 0.6350\n",
            "Epoch 857/1000\n",
            "21/50 [===========>..................] - ETA: 1s - loss: 0.9520 - acc: 0.6295"
          ],
          "name": "stdout"
        },
        {
          "output_type": "stream",
          "text": [
            "50/50 [==============================] - 2s 36ms/step - loss: 0.9711 - acc: 0.6256\n",
            "Epoch 858/1000\n",
            "50/50 [==============================] - 2s 36ms/step - loss: 0.9716 - acc: 0.6281\n",
            "Epoch 859/1000\n",
            "50/50 [==============================] - 2s 35ms/step - loss: 0.9681 - acc: 0.6234\n",
            "Epoch 860/1000\n",
            "50/50 [==============================] - 2s 36ms/step - loss: 0.9884 - acc: 0.6297\n",
            "Epoch 861/1000\n",
            "50/50 [==============================] - 2s 36ms/step - loss: 0.9812 - acc: 0.6347\n",
            "Epoch 862/1000\n",
            "50/50 [==============================] - 2s 36ms/step - loss: 0.9893 - acc: 0.6353\n",
            "Epoch 863/1000\n",
            "50/50 [==============================] - 2s 36ms/step - loss: 0.9299 - acc: 0.6541\n",
            "Epoch 864/1000\n",
            "50/50 [==============================] - 2s 36ms/step - loss: 0.9999 - acc: 0.6125\n",
            "Epoch 865/1000\n",
            "21/50 [===========>..................] - ETA: 1s - loss: 0.9894 - acc: 0.6280"
          ],
          "name": "stdout"
        },
        {
          "output_type": "stream",
          "text": [
            "50/50 [==============================] - 2s 35ms/step - loss: 0.9605 - acc: 0.6356\n",
            "Epoch 866/1000\n",
            "50/50 [==============================] - 2s 35ms/step - loss: 0.9719 - acc: 0.6256\n",
            "Epoch 867/1000\n",
            "50/50 [==============================] - 2s 35ms/step - loss: 0.9749 - acc: 0.6406\n",
            "Epoch 868/1000\n",
            "50/50 [==============================] - 2s 35ms/step - loss: 0.9840 - acc: 0.6272\n",
            "Epoch 869/1000\n",
            "50/50 [==============================] - 2s 36ms/step - loss: 0.9592 - acc: 0.6503\n",
            "Epoch 870/1000\n",
            "50/50 [==============================] - 2s 36ms/step - loss: 0.9863 - acc: 0.6328\n",
            "Epoch 871/1000\n",
            "50/50 [==============================] - 2s 36ms/step - loss: 0.9768 - acc: 0.6309\n",
            "Epoch 872/1000\n",
            "50/50 [==============================] - 2s 36ms/step - loss: 0.9845 - acc: 0.6250\n",
            "Epoch 873/1000\n",
            "21/50 [===========>..................] - ETA: 1s - loss: 1.0328 - acc: 0.6205"
          ],
          "name": "stdout"
        },
        {
          "output_type": "stream",
          "text": [
            "50/50 [==============================] - 2s 36ms/step - loss: 1.0049 - acc: 0.6272\n",
            "Epoch 874/1000\n",
            "50/50 [==============================] - 2s 35ms/step - loss: 0.9563 - acc: 0.6447\n",
            "Epoch 875/1000\n",
            "50/50 [==============================] - 2s 36ms/step - loss: 0.9741 - acc: 0.6291\n",
            "Epoch 876/1000\n",
            "50/50 [==============================] - 2s 36ms/step - loss: 0.9618 - acc: 0.6375\n",
            "Epoch 877/1000\n",
            "50/50 [==============================] - 2s 36ms/step - loss: 0.9843 - acc: 0.6228\n",
            "Epoch 878/1000\n",
            "50/50 [==============================] - 2s 35ms/step - loss: 0.9799 - acc: 0.6278\n",
            "Epoch 879/1000\n",
            "50/50 [==============================] - 2s 36ms/step - loss: 1.0059 - acc: 0.6110\n",
            "Epoch 880/1000\n",
            "50/50 [==============================] - 2s 36ms/step - loss: 0.9678 - acc: 0.6350\n",
            "Epoch 881/1000\n",
            "19/50 [==========>...................] - ETA: 1s - loss: 0.9444 - acc: 0.6332"
          ],
          "name": "stdout"
        },
        {
          "output_type": "stream",
          "text": [
            "50/50 [==============================] - 2s 35ms/step - loss: 0.9597 - acc: 0.6338\n",
            "Epoch 882/1000\n",
            "50/50 [==============================] - 2s 34ms/step - loss: 0.9698 - acc: 0.6378\n",
            "Epoch 883/1000\n",
            "50/50 [==============================] - 2s 35ms/step - loss: 0.9816 - acc: 0.6284\n",
            "Epoch 884/1000\n",
            "50/50 [==============================] - 2s 35ms/step - loss: 0.9610 - acc: 0.6284\n",
            "Epoch 885/1000\n",
            "50/50 [==============================] - 2s 35ms/step - loss: 0.9525 - acc: 0.6397\n",
            "Epoch 886/1000\n",
            "50/50 [==============================] - 2s 36ms/step - loss: 0.9814 - acc: 0.6250\n",
            "Epoch 887/1000\n",
            "50/50 [==============================] - 2s 36ms/step - loss: 0.9632 - acc: 0.6381\n",
            "Epoch 888/1000\n",
            "50/50 [==============================] - 2s 36ms/step - loss: 0.9531 - acc: 0.6344\n",
            "Epoch 889/1000\n",
            "21/50 [===========>..................] - ETA: 1s - loss: 0.9875 - acc: 0.6347"
          ],
          "name": "stdout"
        },
        {
          "output_type": "stream",
          "text": [
            "50/50 [==============================] - 2s 36ms/step - loss: 0.9925 - acc: 0.6303\n",
            "Epoch 890/1000\n",
            "50/50 [==============================] - 2s 35ms/step - loss: 0.9684 - acc: 0.6394\n",
            "Epoch 891/1000\n",
            "50/50 [==============================] - 2s 35ms/step - loss: 0.9866 - acc: 0.6178\n",
            "Epoch 892/1000\n",
            "50/50 [==============================] - 2s 35ms/step - loss: 0.9677 - acc: 0.6397\n",
            "Epoch 893/1000\n",
            "50/50 [==============================] - 2s 35ms/step - loss: 0.9990 - acc: 0.6222\n",
            "Epoch 894/1000\n",
            "50/50 [==============================] - 2s 35ms/step - loss: 0.9593 - acc: 0.6284\n",
            "Epoch 895/1000\n",
            "50/50 [==============================] - 2s 35ms/step - loss: 0.9894 - acc: 0.6262\n",
            "Epoch 896/1000\n",
            "50/50 [==============================] - 2s 35ms/step - loss: 0.9852 - acc: 0.6269\n",
            "Epoch 897/1000\n",
            "21/50 [===========>..................] - ETA: 1s - loss: 1.0956 - acc: 0.5863"
          ],
          "name": "stdout"
        },
        {
          "output_type": "stream",
          "text": [
            "50/50 [==============================] - 2s 36ms/step - loss: 1.0160 - acc: 0.6275\n",
            "Epoch 898/1000\n",
            "50/50 [==============================] - 2s 35ms/step - loss: 1.0231 - acc: 0.6059\n",
            "Epoch 899/1000\n",
            "50/50 [==============================] - 2s 36ms/step - loss: 0.9411 - acc: 0.6512\n",
            "Epoch 900/1000\n",
            "50/50 [==============================] - 2s 36ms/step - loss: 0.9600 - acc: 0.6347\n",
            "Epoch 901/1000\n",
            "50/50 [==============================] - 2s 35ms/step - loss: 0.9649 - acc: 0.6506\n",
            "Epoch 902/1000\n",
            "50/50 [==============================] - 2s 35ms/step - loss: 0.9692 - acc: 0.6271\n",
            "Epoch 903/1000\n",
            "50/50 [==============================] - 2s 35ms/step - loss: 0.9554 - acc: 0.6422\n",
            "Epoch 904/1000\n",
            "50/50 [==============================] - 2s 35ms/step - loss: 0.9825 - acc: 0.6384\n",
            "Epoch 905/1000\n",
            "21/50 [===========>..................] - ETA: 1s - loss: 0.9645 - acc: 0.6369"
          ],
          "name": "stdout"
        },
        {
          "output_type": "stream",
          "text": [
            "50/50 [==============================] - 2s 35ms/step - loss: 0.9710 - acc: 0.6328\n",
            "Epoch 906/1000\n",
            "50/50 [==============================] - 2s 35ms/step - loss: 0.9955 - acc: 0.6191\n",
            "Epoch 907/1000\n",
            "50/50 [==============================] - 2s 35ms/step - loss: 0.9708 - acc: 0.6281\n",
            "Epoch 908/1000\n",
            "50/50 [==============================] - 2s 35ms/step - loss: 0.9855 - acc: 0.6253\n",
            "Epoch 909/1000\n",
            "50/50 [==============================] - 2s 36ms/step - loss: 0.9613 - acc: 0.6428\n",
            "Epoch 910/1000\n",
            "50/50 [==============================] - 2s 36ms/step - loss: 0.9775 - acc: 0.6234\n",
            "Epoch 911/1000\n",
            "50/50 [==============================] - 2s 36ms/step - loss: 0.9591 - acc: 0.6406\n",
            "Epoch 912/1000\n",
            "50/50 [==============================] - 2s 35ms/step - loss: 0.9844 - acc: 0.6253\n",
            "Epoch 913/1000\n",
            "21/50 [===========>..................] - ETA: 1s - loss: 1.0066 - acc: 0.6205"
          ],
          "name": "stdout"
        },
        {
          "output_type": "stream",
          "text": [
            "50/50 [==============================] - 2s 35ms/step - loss: 1.0118 - acc: 0.6144\n",
            "Epoch 914/1000\n",
            "50/50 [==============================] - 2s 36ms/step - loss: 0.9490 - acc: 0.6444\n",
            "Epoch 915/1000\n",
            "50/50 [==============================] - 2s 36ms/step - loss: 0.9764 - acc: 0.6338\n",
            "Epoch 916/1000\n",
            "50/50 [==============================] - 2s 36ms/step - loss: 0.9460 - acc: 0.6400\n",
            "Epoch 917/1000\n",
            "50/50 [==============================] - 2s 35ms/step - loss: 0.9579 - acc: 0.6322\n",
            "Epoch 918/1000\n",
            "50/50 [==============================] - 2s 36ms/step - loss: 0.9508 - acc: 0.6462\n",
            "Epoch 919/1000\n",
            "50/50 [==============================] - 2s 35ms/step - loss: 0.9930 - acc: 0.6256\n",
            "Epoch 920/1000\n",
            "50/50 [==============================] - 2s 35ms/step - loss: 0.9903 - acc: 0.6303\n",
            "Epoch 921/1000\n",
            "21/50 [===========>..................] - ETA: 1s - loss: 0.9183 - acc: 0.6585"
          ],
          "name": "stdout"
        },
        {
          "output_type": "stream",
          "text": [
            "50/50 [==============================] - 2s 35ms/step - loss: 0.9321 - acc: 0.6522\n",
            "Epoch 922/1000\n",
            "50/50 [==============================] - 2s 36ms/step - loss: 0.9689 - acc: 0.6252\n",
            "Epoch 923/1000\n",
            "50/50 [==============================] - 2s 35ms/step - loss: 0.9379 - acc: 0.6491\n",
            "Epoch 924/1000\n",
            "50/50 [==============================] - 2s 36ms/step - loss: 0.9612 - acc: 0.6378\n",
            "Epoch 925/1000\n",
            "50/50 [==============================] - 2s 36ms/step - loss: 0.9409 - acc: 0.6475\n",
            "Epoch 926/1000\n",
            "50/50 [==============================] - 2s 36ms/step - loss: 0.9542 - acc: 0.6400\n",
            "Epoch 927/1000\n",
            "50/50 [==============================] - 2s 36ms/step - loss: 0.9681 - acc: 0.6325\n",
            "Epoch 928/1000\n",
            "50/50 [==============================] - 2s 35ms/step - loss: 0.9996 - acc: 0.6272\n",
            "Epoch 929/1000\n",
            "21/50 [===========>..................] - ETA: 1s - loss: 1.0187 - acc: 0.6220"
          ],
          "name": "stdout"
        },
        {
          "output_type": "stream",
          "text": [
            "50/50 [==============================] - 2s 35ms/step - loss: 0.9780 - acc: 0.6381\n",
            "Epoch 930/1000\n",
            "50/50 [==============================] - 2s 35ms/step - loss: 0.9971 - acc: 0.6266\n",
            "Epoch 931/1000\n",
            "50/50 [==============================] - 2s 36ms/step - loss: 0.9601 - acc: 0.6441\n",
            "Epoch 932/1000\n",
            "50/50 [==============================] - 2s 35ms/step - loss: 0.9533 - acc: 0.6434\n",
            "Epoch 933/1000\n",
            "50/50 [==============================] - 2s 35ms/step - loss: 1.0051 - acc: 0.6206\n",
            "Epoch 934/1000\n",
            "50/50 [==============================] - 2s 36ms/step - loss: 0.9426 - acc: 0.6368\n",
            "Epoch 935/1000\n",
            "50/50 [==============================] - 2s 35ms/step - loss: 0.9570 - acc: 0.6425\n",
            "Epoch 936/1000\n",
            "50/50 [==============================] - 2s 35ms/step - loss: 0.9587 - acc: 0.6366\n",
            "Epoch 937/1000\n",
            "23/50 [============>.................] - ETA: 0s - loss: 0.9125 - acc: 0.6556"
          ],
          "name": "stdout"
        },
        {
          "output_type": "stream",
          "text": [
            "50/50 [==============================] - 2s 35ms/step - loss: 0.9463 - acc: 0.6403\n",
            "Epoch 938/1000\n",
            "50/50 [==============================] - 2s 36ms/step - loss: 0.9506 - acc: 0.6356\n",
            "Epoch 939/1000\n",
            "50/50 [==============================] - 2s 36ms/step - loss: 0.9571 - acc: 0.6381\n",
            "Epoch 940/1000\n",
            "50/50 [==============================] - 2s 36ms/step - loss: 0.9445 - acc: 0.6497\n",
            "Epoch 941/1000\n",
            "50/50 [==============================] - 2s 36ms/step - loss: 0.9631 - acc: 0.6347\n",
            "Epoch 942/1000\n",
            "50/50 [==============================] - 2s 36ms/step - loss: 0.9532 - acc: 0.6431\n",
            "Epoch 943/1000\n",
            "50/50 [==============================] - 2s 36ms/step - loss: 1.0059 - acc: 0.6216\n",
            "Epoch 944/1000\n",
            "50/50 [==============================] - 2s 36ms/step - loss: 0.9215 - acc: 0.6525\n",
            "Epoch 945/1000\n",
            "21/50 [===========>..................] - ETA: 1s - loss: 0.9518 - acc: 0.6272"
          ],
          "name": "stdout"
        },
        {
          "output_type": "stream",
          "text": [
            "50/50 [==============================] - 2s 36ms/step - loss: 0.9619 - acc: 0.6319\n",
            "Epoch 946/1000\n",
            "50/50 [==============================] - 2s 36ms/step - loss: 0.9481 - acc: 0.6434\n",
            "Epoch 947/1000\n",
            "50/50 [==============================] - 2s 36ms/step - loss: 0.9531 - acc: 0.6516\n",
            "Epoch 948/1000\n",
            "50/50 [==============================] - 2s 36ms/step - loss: 0.9297 - acc: 0.6503\n",
            "Epoch 949/1000\n",
            "50/50 [==============================] - 2s 36ms/step - loss: 1.0061 - acc: 0.6212\n",
            "Epoch 950/1000\n",
            "50/50 [==============================] - 2s 36ms/step - loss: 0.9798 - acc: 0.6225\n",
            "Epoch 951/1000\n",
            "50/50 [==============================] - 2s 35ms/step - loss: 1.0033 - acc: 0.6216\n",
            "Epoch 952/1000\n",
            "50/50 [==============================] - 2s 36ms/step - loss: 0.9595 - acc: 0.6344\n",
            "Epoch 953/1000\n",
            "21/50 [===========>..................] - ETA: 1s - loss: 0.9747 - acc: 0.6287"
          ],
          "name": "stdout"
        },
        {
          "output_type": "stream",
          "text": [
            "50/50 [==============================] - 2s 36ms/step - loss: 0.9563 - acc: 0.6328\n",
            "Epoch 954/1000\n",
            "50/50 [==============================] - 2s 36ms/step - loss: 0.9242 - acc: 0.6466\n",
            "Epoch 955/1000\n",
            "50/50 [==============================] - 2s 36ms/step - loss: 0.9574 - acc: 0.6437\n",
            "Epoch 956/1000\n",
            "50/50 [==============================] - 2s 35ms/step - loss: 0.9370 - acc: 0.6540\n",
            "Epoch 957/1000\n",
            "50/50 [==============================] - 2s 36ms/step - loss: 0.9394 - acc: 0.6397\n",
            "Epoch 958/1000\n",
            "50/50 [==============================] - 2s 36ms/step - loss: 0.9552 - acc: 0.6437\n",
            "Epoch 959/1000\n",
            "50/50 [==============================] - 2s 36ms/step - loss: 0.9694 - acc: 0.6331\n",
            "Epoch 960/1000\n",
            "50/50 [==============================] - 2s 35ms/step - loss: 0.9487 - acc: 0.6425\n",
            "Epoch 961/1000\n",
            "23/50 [============>.................] - ETA: 0s - loss: 0.9760 - acc: 0.6352"
          ],
          "name": "stdout"
        },
        {
          "output_type": "stream",
          "text": [
            "50/50 [==============================] - 2s 36ms/step - loss: 0.9683 - acc: 0.6384\n",
            "Epoch 962/1000\n",
            "50/50 [==============================] - 2s 35ms/step - loss: 0.9625 - acc: 0.6325\n",
            "Epoch 963/1000\n",
            "50/50 [==============================] - 2s 36ms/step - loss: 0.9456 - acc: 0.6434\n",
            "Epoch 964/1000\n",
            "50/50 [==============================] - 2s 37ms/step - loss: 0.9793 - acc: 0.6281\n",
            "Epoch 965/1000\n",
            "50/50 [==============================] - 2s 35ms/step - loss: 0.9313 - acc: 0.6434\n",
            "Epoch 966/1000\n",
            "50/50 [==============================] - 2s 36ms/step - loss: 0.9762 - acc: 0.6403\n",
            "Epoch 967/1000\n",
            "50/50 [==============================] - 2s 36ms/step - loss: 0.9803 - acc: 0.6397\n",
            "Epoch 968/1000\n",
            "50/50 [==============================] - 2s 35ms/step - loss: 0.9725 - acc: 0.6262\n",
            "Epoch 969/1000\n",
            "21/50 [===========>..................] - ETA: 1s - loss: 0.9446 - acc: 0.6280"
          ],
          "name": "stdout"
        },
        {
          "output_type": "stream",
          "text": [
            "50/50 [==============================] - 2s 35ms/step - loss: 0.9602 - acc: 0.6294\n",
            "Epoch 970/1000\n",
            "50/50 [==============================] - 2s 36ms/step - loss: 0.9890 - acc: 0.6153\n",
            "Epoch 971/1000\n",
            "50/50 [==============================] - 2s 35ms/step - loss: 0.9570 - acc: 0.6319\n",
            "Epoch 972/1000\n",
            "50/50 [==============================] - 2s 35ms/step - loss: 0.9351 - acc: 0.6469\n",
            "Epoch 973/1000\n",
            "50/50 [==============================] - 2s 36ms/step - loss: 0.9499 - acc: 0.6506\n",
            "Epoch 974/1000\n",
            "50/50 [==============================] - 2s 35ms/step - loss: 0.9651 - acc: 0.6272\n",
            "Epoch 975/1000\n",
            "50/50 [==============================] - 2s 35ms/step - loss: 0.9399 - acc: 0.6394\n",
            "Epoch 976/1000\n",
            "50/50 [==============================] - 2s 36ms/step - loss: 0.9564 - acc: 0.6372\n",
            "Epoch 977/1000\n",
            "23/50 [============>.................] - ETA: 0s - loss: 0.9442 - acc: 0.6250"
          ],
          "name": "stdout"
        },
        {
          "output_type": "stream",
          "text": [
            "50/50 [==============================] - 2s 36ms/step - loss: 0.9344 - acc: 0.6450\n",
            "Epoch 978/1000\n",
            "50/50 [==============================] - 2s 36ms/step - loss: 0.9346 - acc: 0.6478\n",
            "Epoch 979/1000\n",
            "50/50 [==============================] - 2s 35ms/step - loss: 0.9598 - acc: 0.6300\n",
            "Epoch 980/1000\n",
            "50/50 [==============================] - 2s 35ms/step - loss: 0.9696 - acc: 0.6403\n",
            "Epoch 981/1000\n",
            "50/50 [==============================] - 2s 35ms/step - loss: 0.9537 - acc: 0.6472\n",
            "Epoch 982/1000\n",
            "50/50 [==============================] - 2s 35ms/step - loss: 0.9965 - acc: 0.6202\n",
            "Epoch 983/1000\n",
            "50/50 [==============================] - 2s 36ms/step - loss: 0.9584 - acc: 0.6356\n",
            "Epoch 984/1000\n",
            "50/50 [==============================] - 2s 36ms/step - loss: 0.9830 - acc: 0.6281\n",
            "Epoch 985/1000\n",
            "21/50 [===========>..................] - ETA: 1s - loss: 0.9533 - acc: 0.6332"
          ],
          "name": "stdout"
        },
        {
          "output_type": "stream",
          "text": [
            "50/50 [==============================] - 2s 36ms/step - loss: 0.9692 - acc: 0.6238\n",
            "Epoch 986/1000\n",
            "50/50 [==============================] - 2s 35ms/step - loss: 0.9934 - acc: 0.6259\n",
            "Epoch 987/1000\n",
            "50/50 [==============================] - 2s 36ms/step - loss: 0.9390 - acc: 0.6459\n",
            "Epoch 988/1000\n",
            "50/50 [==============================] - 2s 36ms/step - loss: 0.9766 - acc: 0.6149\n",
            "Epoch 989/1000\n",
            "50/50 [==============================] - 2s 35ms/step - loss: 0.9739 - acc: 0.6359\n",
            "Epoch 990/1000\n",
            "50/50 [==============================] - 2s 36ms/step - loss: 0.9433 - acc: 0.6428\n",
            "Epoch 991/1000\n",
            "50/50 [==============================] - 2s 35ms/step - loss: 0.9685 - acc: 0.6222\n",
            "Epoch 992/1000\n",
            "50/50 [==============================] - 2s 36ms/step - loss: 0.9495 - acc: 0.6425\n",
            "Epoch 993/1000\n",
            "21/50 [===========>..................] - ETA: 1s - loss: 0.9841 - acc: 0.6198"
          ],
          "name": "stdout"
        },
        {
          "output_type": "stream",
          "text": [
            "50/50 [==============================] - 2s 35ms/step - loss: 0.9636 - acc: 0.6316\n",
            "Epoch 994/1000\n",
            "50/50 [==============================] - 2s 35ms/step - loss: 0.9484 - acc: 0.6466\n",
            "Epoch 995/1000\n",
            "50/50 [==============================] - 2s 36ms/step - loss: 0.9723 - acc: 0.6391\n",
            "Epoch 996/1000\n",
            "50/50 [==============================] - 2s 36ms/step - loss: 0.9343 - acc: 0.6597\n",
            "Epoch 997/1000\n",
            "50/50 [==============================] - 2s 36ms/step - loss: 0.9514 - acc: 0.6319\n",
            "Epoch 998/1000\n",
            "50/50 [==============================] - 2s 36ms/step - loss: 0.9302 - acc: 0.6562\n",
            "Epoch 999/1000\n",
            "50/50 [==============================] - 2s 36ms/step - loss: 0.9441 - acc: 0.6388\n",
            "Epoch 1000/1000\n",
            "50/50 [==============================] - 2s 36ms/step - loss: 0.9590 - acc: 0.6391\n"
          ],
          "name": "stdout"
        },
        {
          "output_type": "execute_result",
          "data": {
            "text/plain": [
              "<keras.callbacks.History at 0x7fa12fb78550>"
            ]
          },
          "metadata": {
            "tags": []
          },
          "execution_count": 64
        }
      ]
    },
    {
      "metadata": {
        "id": "qSth_XTcMwv7",
        "colab_type": "code",
        "colab": {}
      },
      "cell_type": "code",
      "source": [
        "model3.save_weights(\"drive/face_expr_model3.h5\")"
      ],
      "execution_count": 0,
      "outputs": []
    },
    {
      "metadata": {
        "id": "jQzCcQQWOBxO",
        "colab_type": "code",
        "colab": {
          "base_uri": "https://localhost:8080/",
          "height": 50
        },
        "outputId": "01d1575e-f803-436e-d29d-efdc3da66744"
      },
      "cell_type": "code",
      "source": [
        "model3.evaluate(X_test, Y_test, batch_size=64)"
      ],
      "execution_count": 79,
      "outputs": [
        {
          "output_type": "stream",
          "text": [
            "3589/3589 [==============================] - 1s 413us/step\n"
          ],
          "name": "stdout"
        },
        {
          "output_type": "execute_result",
          "data": {
            "text/plain": [
              "[1.0909943778589928, 0.5840066871077744]"
            ]
          },
          "metadata": {
            "tags": []
          },
          "execution_count": 79
        }
      ]
    },
    {
      "metadata": {
        "id": "qNHEl5EC4YhG",
        "colab_type": "text"
      },
      "cell_type": "markdown",
      "source": [
        "### Model 4 "
      ]
    },
    {
      "metadata": {
        "id": "Lln36skXL0w9",
        "colab_type": "code",
        "colab": {}
      },
      "cell_type": "code",
      "source": [
        "import tensorflow as tf\n",
        "import keras.backend as K"
      ],
      "execution_count": 0,
      "outputs": []
    },
    {
      "metadata": {
        "id": "hYkrLGOp4cxl",
        "colab_type": "code",
        "colab": {}
      },
      "cell_type": "code",
      "source": [
        "def Model4():\n",
        "  model = Sequential()\n",
        "\n",
        "  model.add(MaxPooling2D(pool_size=(7,7), input_shape=(48,48,1)))\n",
        "  model.add(Conv2D(32, (5, 5), activation='relu'))\n",
        "  model.add(MaxPooling2D(pool_size=(3,3)))\n",
        "  model.add(Dropout(0.5))\n",
        "  model.add(Conv2D(128, (3, 3), activation='relu'))\n",
        "  model.add(MaxPooling2D(pool_size=(3,3)))\n",
        "  model.add(Dropout(0.5))\n",
        "  model.add(Flatten())\n",
        "\n",
        "  model.add(Dense(1024, activation='relu'))\n",
        "  model.add(Dropout(0.5))\n",
        "  model.add(Dense(1024, activation='relu'))\n",
        "  model.add(Dropout(0.5))\n",
        "\n",
        "  model.add(Dense(7, activation='softmax'))\n",
        "  return model"
      ],
      "execution_count": 0,
      "outputs": []
    },
    {
      "metadata": {
        "id": "VVQqRsWCNjPn",
        "colab_type": "code",
        "colab": {}
      },
      "cell_type": "code",
      "source": [
        "model4 = Model4()"
      ],
      "execution_count": 0,
      "outputs": []
    },
    {
      "metadata": {
        "id": "uJdqFwcB5jnG",
        "colab_type": "code",
        "colab": {}
      },
      "cell_type": "code",
      "source": [
        "lr_reducer3 = ReduceLROnPlateau(monitor='val_loss', factor=0.9, patience=3, verbose=1)\n",
        "tensorboard3 = TensorBoard(log_dir='./logs')\n",
        "early_stopper3 = EarlyStopping(monitor='val_loss', min_delta=0, patience=8, verbose=1, mode='auto')\n",
        "checkpointer3 = ModelCheckpoint(\"/drive\", monitor='val_loss', verbose=1, save_best_only=True)"
      ],
      "execution_count": 0,
      "outputs": []
    },
    {
      "metadata": {
        "id": "v9M2ajRN529S",
        "colab_type": "code",
        "colab": {}
      },
      "cell_type": "code",
      "source": [
        "model4.compile(loss=categorical_crossentropy,\n",
        "              optimizer=Adam(lr=0.005, beta_1=0.9, beta_2=0.999, epsilon=1e-7),\n",
        "              metrics=['accuracy'])"
      ],
      "execution_count": 0,
      "outputs": []
    },
    {
      "metadata": {
        "id": "x_WBAB825_z2",
        "colab_type": "code",
        "colab": {}
      },
      "cell_type": "code",
      "source": [
        "# overfitting\n",
        "model4.fit(X_train,Y_train,\n",
        "          batch_size=128,\n",
        "          epochs=100,\n",
        "          verbose=1,\n",
        "          validation_data=(X_validation, Y_valid),\n",
        "          shuffle=True,\n",
        "          callbacks=[lr_reducer3, tensorboard3, checkpointer3])"
      ],
      "execution_count": 0,
      "outputs": []
    },
    {
      "metadata": {
        "id": "_6KlM2yn6J3Z",
        "colab_type": "code",
        "colab": {}
      },
      "cell_type": "code",
      "source": [
        ""
      ],
      "execution_count": 0,
      "outputs": []
    },
    {
      "metadata": {
        "id": "pL8axmhgL1Ew",
        "colab_type": "text"
      },
      "cell_type": "markdown",
      "source": [
        "### Model5 - VGG"
      ]
    },
    {
      "metadata": {
        "id": "6mhvywIhL3Gz",
        "colab_type": "code",
        "colab": {}
      },
      "cell_type": "code",
      "source": [
        "from keras.applications import VGG16\n",
        "from keras.models import Model"
      ],
      "execution_count": 0,
      "outputs": []
    },
    {
      "metadata": {
        "id": "y2zTBo6mS4gv",
        "colab_type": "code",
        "colab": {}
      },
      "cell_type": "code",
      "source": [
        "def Model5():\n",
        "  vgg = VGG16(include_top=False, input_shape=(48,48,3))\n",
        "  k = Flatten()(vgg.output)\n",
        "  k = Dense(256, activation='relu')(k)\n",
        "  k = Dropout(0.2)(k)\n",
        "  k = Dense(128, activation='relu')(k)\n",
        "  k = Dropout(0.2)(k)\n",
        "  k = Dense(64, activation='relu')(k)\n",
        "\n",
        "  pred = Dense(7, activation='softmax')(k)\n",
        "  model = Model(input=vgg.input, output=pred)\n",
        "  return model"
      ],
      "execution_count": 0,
      "outputs": []
    },
    {
      "metadata": {
        "id": "GWeoU1ixUF9w",
        "colab_type": "code",
        "colab": {
          "base_uri": "https://localhost:8080/",
          "height": 104
        },
        "outputId": "f29df75a-81ac-406f-8159-330c9a8f2128"
      },
      "cell_type": "code",
      "source": [
        "model5 = Model5()"
      ],
      "execution_count": 71,
      "outputs": [
        {
          "output_type": "stream",
          "text": [
            "Downloading data from https://github.com/fchollet/deep-learning-models/releases/download/v0.1/vgg16_weights_tf_dim_ordering_tf_kernels_notop.h5\n",
            "58892288/58889256 [==============================] - 7s 0us/step\n"
          ],
          "name": "stdout"
        },
        {
          "output_type": "stream",
          "text": [
            "/usr/local/lib/python3.6/dist-packages/ipykernel_launcher.py:11: UserWarning: Update your `Model` call to the Keras 2 API: `Model(inputs=Tensor(\"in..., outputs=Tensor(\"de...)`\n",
            "  # This is added back by InteractiveShellApp.init_path()\n"
          ],
          "name": "stderr"
        }
      ]
    },
    {
      "metadata": {
        "id": "c0I2f0gmyZj3",
        "colab_type": "code",
        "colab": {
          "base_uri": "https://localhost:8080/",
          "height": 1004
        },
        "outputId": "e0f77a8f-fd0b-4dfc-963f-1b96dfe544b7"
      },
      "cell_type": "code",
      "source": [
        "model5.summary()"
      ],
      "execution_count": 72,
      "outputs": [
        {
          "output_type": "stream",
          "text": [
            "_________________________________________________________________\n",
            "Layer (type)                 Output Shape              Param #   \n",
            "=================================================================\n",
            "input_1 (InputLayer)         (None, 48, 48, 3)         0         \n",
            "_________________________________________________________________\n",
            "block1_conv1 (Conv2D)        (None, 48, 48, 64)        1792      \n",
            "_________________________________________________________________\n",
            "block1_conv2 (Conv2D)        (None, 48, 48, 64)        36928     \n",
            "_________________________________________________________________\n",
            "block1_pool (MaxPooling2D)   (None, 24, 24, 64)        0         \n",
            "_________________________________________________________________\n",
            "block2_conv1 (Conv2D)        (None, 24, 24, 128)       73856     \n",
            "_________________________________________________________________\n",
            "block2_conv2 (Conv2D)        (None, 24, 24, 128)       147584    \n",
            "_________________________________________________________________\n",
            "block2_pool (MaxPooling2D)   (None, 12, 12, 128)       0         \n",
            "_________________________________________________________________\n",
            "block3_conv1 (Conv2D)        (None, 12, 12, 256)       295168    \n",
            "_________________________________________________________________\n",
            "block3_conv2 (Conv2D)        (None, 12, 12, 256)       590080    \n",
            "_________________________________________________________________\n",
            "block3_conv3 (Conv2D)        (None, 12, 12, 256)       590080    \n",
            "_________________________________________________________________\n",
            "block3_pool (MaxPooling2D)   (None, 6, 6, 256)         0         \n",
            "_________________________________________________________________\n",
            "block4_conv1 (Conv2D)        (None, 6, 6, 512)         1180160   \n",
            "_________________________________________________________________\n",
            "block4_conv2 (Conv2D)        (None, 6, 6, 512)         2359808   \n",
            "_________________________________________________________________\n",
            "block4_conv3 (Conv2D)        (None, 6, 6, 512)         2359808   \n",
            "_________________________________________________________________\n",
            "block4_pool (MaxPooling2D)   (None, 3, 3, 512)         0         \n",
            "_________________________________________________________________\n",
            "block5_conv1 (Conv2D)        (None, 3, 3, 512)         2359808   \n",
            "_________________________________________________________________\n",
            "block5_conv2 (Conv2D)        (None, 3, 3, 512)         2359808   \n",
            "_________________________________________________________________\n",
            "block5_conv3 (Conv2D)        (None, 3, 3, 512)         2359808   \n",
            "_________________________________________________________________\n",
            "block5_pool (MaxPooling2D)   (None, 1, 1, 512)         0         \n",
            "_________________________________________________________________\n",
            "flatten_5 (Flatten)          (None, 512)               0         \n",
            "_________________________________________________________________\n",
            "dense_15 (Dense)             (None, 256)               131328    \n",
            "_________________________________________________________________\n",
            "dropout_25 (Dropout)         (None, 256)               0         \n",
            "_________________________________________________________________\n",
            "dense_16 (Dense)             (None, 128)               32896     \n",
            "_________________________________________________________________\n",
            "dropout_26 (Dropout)         (None, 128)               0         \n",
            "_________________________________________________________________\n",
            "dense_17 (Dense)             (None, 64)                8256      \n",
            "_________________________________________________________________\n",
            "dense_18 (Dense)             (None, 7)                 455       \n",
            "=================================================================\n",
            "Total params: 14,887,623\n",
            "Trainable params: 14,887,623\n",
            "Non-trainable params: 0\n",
            "_________________________________________________________________\n"
          ],
          "name": "stdout"
        }
      ]
    },
    {
      "metadata": {
        "id": "ltgJwnMnOtIg",
        "colab_type": "code",
        "colab": {}
      },
      "cell_type": "code",
      "source": [
        "lr_reducer5 = ReduceLROnPlateau(monitor='val_loss', factor=0.9, patience=3, verbose=1)\n",
        "tensorboard5 = TensorBoard(log_dir='./logs')\n",
        "early_stopper5 = EarlyStopping(monitor='val_loss', min_delta=0, patience=8, verbose=1, mode='auto')\n",
        "checkpointer5 = ModelCheckpoint(\"/drive\", monitor='val_loss', verbose=1, save_best_only=True)"
      ],
      "execution_count": 0,
      "outputs": []
    },
    {
      "metadata": {
        "id": "VBtpeIeV8tzc",
        "colab_type": "code",
        "colab": {}
      },
      "cell_type": "code",
      "source": [
        "model5.compile(loss=categorical_crossentropy,\n",
        "              optimizer=Adamax(),\n",
        "              metrics=['accuracy'])"
      ],
      "execution_count": 0,
      "outputs": []
    },
    {
      "metadata": {
        "id": "XK5TEt5K6_F1",
        "colab_type": "code",
        "colab": {}
      },
      "cell_type": "code",
      "source": [
        "model5.load_weights('drive/face_expr_model5.h5')"
      ],
      "execution_count": 0,
      "outputs": []
    },
    {
      "metadata": {
        "id": "GS4MYbjb8WwN",
        "colab_type": "code",
        "colab": {
          "base_uri": "https://localhost:8080/",
          "height": 756
        },
        "outputId": "c43e2e19-8fef-4f46-f232-3e87b198bee6"
      },
      "cell_type": "code",
      "source": [
        "model5.fit(X_train,Y_train,\n",
        "          batch_size=32,\n",
        "          epochs=500,\n",
        "          verbose=1,\n",
        "          validation_data=(X_valid, Y_valid),\n",
        "          shuffle=True,\n",
        "          callbacks=[lr_reducer5, tensorboard5, early_stopper5, checkpointer5])"
      ],
      "execution_count": 74,
      "outputs": [
        {
          "output_type": "stream",
          "text": [
            "Train on 57418 samples, validate on 3589 samples\n",
            "Epoch 1/500\n",
            "21760/57418 [==========>...................] - ETA: 1:57 - loss: 0.4441 - acc: 0.8551"
          ],
          "name": "stdout"
        },
        {
          "output_type": "stream",
          "text": [
            "57418/57418 [==============================] - 191s 3ms/step - loss: 0.4275 - acc: 0.8567 - val_loss: 1.2886 - val_acc: 0.6417\n",
            "\n",
            "Epoch 00001: val_loss improved from inf to 1.28858, saving model to /drive\n",
            "Epoch 2/500\n",
            "  544/57418 [..............................] - ETA: 3:03 - loss: 0.2946 - acc: 0.8915"
          ],
          "name": "stdout"
        },
        {
          "output_type": "stream",
          "text": [
            "57344/57418 [============================>.] - ETA: 0s - loss: 0.3540 - acc: 0.8784"
          ],
          "name": "stdout"
        },
        {
          "output_type": "stream",
          "text": [
            "57418/57418 [==============================] - 189s 3ms/step - loss: 0.3539 - acc: 0.8784 - val_loss: 1.4464 - val_acc: 0.6445\n",
            "\n",
            "Epoch 00002: val_loss did not improve from 1.28858\n",
            "Epoch 3/500\n",
            "11488/57418 [=====>........................] - ETA: 2:28 - loss: 0.2996 - acc: 0.8993"
          ],
          "name": "stdout"
        },
        {
          "output_type": "stream",
          "text": [
            "57408/57418 [============================>.] - ETA: 0s - loss: 0.3168 - acc: 0.8944"
          ],
          "name": "stdout"
        },
        {
          "output_type": "stream",
          "text": [
            "57418/57418 [==============================] - 189s 3ms/step - loss: 0.3169 - acc: 0.8944 - val_loss: 1.4762 - val_acc: 0.6403\n",
            "\n",
            "Epoch 00003: val_loss did not improve from 1.28858\n",
            "Epoch 4/500\n",
            "11520/57418 [=====>........................] - ETA: 2:28 - loss: 0.2329 - acc: 0.9260"
          ],
          "name": "stdout"
        },
        {
          "output_type": "stream",
          "text": [
            "57408/57418 [============================>.] - ETA: 0s - loss: 0.2590 - acc: 0.9146"
          ],
          "name": "stdout"
        },
        {
          "output_type": "stream",
          "text": [
            "57418/57418 [==============================] - 188s 3ms/step - loss: 0.2590 - acc: 0.9146 - val_loss: 1.4342 - val_acc: 0.6297\n",
            "\n",
            "Epoch 00004: ReduceLROnPlateau reducing learning rate to 0.0018000000854954123.\n",
            "\n",
            "Epoch 00004: val_loss did not improve from 1.28858\n",
            "Epoch 5/500\n",
            " 8896/57418 [===>..........................] - ETA: 2:36 - loss: 0.1904 - acc: 0.9405"
          ],
          "name": "stdout"
        },
        {
          "output_type": "stream",
          "text": [
            "57408/57418 [============================>.] - ETA: 0s - loss: 0.1994 - acc: 0.9353"
          ],
          "name": "stdout"
        },
        {
          "output_type": "stream",
          "text": [
            "57418/57418 [==============================] - 189s 3ms/step - loss: 0.1993 - acc: 0.9353 - val_loss: 1.7292 - val_acc: 0.6436\n",
            "\n",
            "Epoch 00005: val_loss did not improve from 1.28858\n",
            "Epoch 6/500\n",
            "11520/57418 [=====>........................] - ETA: 2:28 - loss: 0.1342 - acc: 0.9588"
          ],
          "name": "stdout"
        },
        {
          "output_type": "stream",
          "text": [
            "57408/57418 [============================>.] - ETA: 0s - loss: 0.1463 - acc: 0.9537"
          ],
          "name": "stdout"
        },
        {
          "output_type": "stream",
          "text": [
            "57418/57418 [==============================] - 189s 3ms/step - loss: 0.1463 - acc: 0.9537 - val_loss: 1.9447 - val_acc: 0.6445\n",
            "\n",
            "Epoch 00006: val_loss did not improve from 1.28858\n",
            "Epoch 7/500\n",
            "11520/57418 [=====>........................] - ETA: 2:28 - loss: 0.1197 - acc: 0.9635"
          ],
          "name": "stdout"
        },
        {
          "output_type": "stream",
          "text": [
            "57408/57418 [============================>.] - ETA: 0s - loss: 0.1404 - acc: 0.9561"
          ],
          "name": "stdout"
        },
        {
          "output_type": "stream",
          "text": [
            "57418/57418 [==============================] - 189s 3ms/step - loss: 0.1404 - acc: 0.9560 - val_loss: 1.7940 - val_acc: 0.6473\n",
            "\n",
            "Epoch 00007: ReduceLROnPlateau reducing learning rate to 0.0016200000769458712.\n",
            "\n",
            "Epoch 00007: val_loss did not improve from 1.28858\n",
            "Epoch 8/500\n",
            " 8896/57418 [===>..........................] - ETA: 2:36 - loss: 0.0885 - acc: 0.9721"
          ],
          "name": "stdout"
        },
        {
          "output_type": "stream",
          "text": [
            "57408/57418 [============================>.] - ETA: 0s - loss: 0.1127 - acc: 0.9647"
          ],
          "name": "stdout"
        },
        {
          "output_type": "stream",
          "text": [
            "57418/57418 [==============================] - 188s 3ms/step - loss: 0.1127 - acc: 0.9647 - val_loss: 1.8260 - val_acc: 0.6562\n",
            "\n",
            "Epoch 00008: val_loss did not improve from 1.28858\n",
            "Epoch 9/500\n",
            "11552/57418 [=====>........................] - ETA: 2:28 - loss: 0.0849 - acc: 0.9738"
          ],
          "name": "stdout"
        },
        {
          "output_type": "stream",
          "text": [
            "51360/57418 [=========================>....] - ETA: 19s - loss: 0.0953 - acc: 0.9702"
          ],
          "name": "stdout"
        },
        {
          "output_type": "stream",
          "text": [
            "57418/57418 [==============================] - 188s 3ms/step - loss: 0.0990 - acc: 0.9691 - val_loss: 1.7228 - val_acc: 0.6567\n",
            "\n",
            "Epoch 00009: val_loss did not improve from 1.28858\n",
            "Epoch 00009: early stopping\n"
          ],
          "name": "stdout"
        },
        {
          "output_type": "execute_result",
          "data": {
            "text/plain": [
              "<keras.callbacks.History at 0x7fa12f4eda90>"
            ]
          },
          "metadata": {
            "tags": []
          },
          "execution_count": 74
        }
      ]
    },
    {
      "metadata": {
        "id": "_4WULlkr7bwM",
        "colab_type": "code",
        "colab": {
          "base_uri": "https://localhost:8080/",
          "height": 50
        },
        "outputId": "21b8a115-3ea2-4fc3-e25d-cc6703e39e52"
      },
      "cell_type": "code",
      "source": [
        "model5.evaluate(X_test, Y_test)"
      ],
      "execution_count": 75,
      "outputs": [
        {
          "output_type": "stream",
          "text": [
            "3589/3589 [==============================] - 3s 879us/step\n"
          ],
          "name": "stdout"
        },
        {
          "output_type": "execute_result",
          "data": {
            "text/plain": [
              "[1.8532601447449517, 0.6336026748397883]"
            ]
          },
          "metadata": {
            "tags": []
          },
          "execution_count": 75
        }
      ]
    },
    {
      "metadata": {
        "id": "-judzES9TZoN",
        "colab_type": "code",
        "colab": {}
      },
      "cell_type": "code",
      "source": [
        "model5.save_weights('drive/face_expr_model5.h5')"
      ],
      "execution_count": 0,
      "outputs": []
    },
    {
      "metadata": {
        "id": "PL2kg2MbSX_7",
        "colab_type": "text"
      },
      "cell_type": "markdown",
      "source": [
        "Since the training error is much larger than the dev error .. this proves high variance thus overfitting . This is common when needed features are less and model is too big . So to solve that we will try data augmentation\""
      ]
    },
    {
      "metadata": {
        "id": "goDdCIZyTFpk",
        "colab_type": "code",
        "colab": {
          "base_uri": "https://localhost:8080/",
          "height": 70
        },
        "outputId": "af42ca18-9a07-4ad6-be6f-c52e9d16abdb"
      },
      "cell_type": "code",
      "source": [
        "model5_n = Model5()"
      ],
      "execution_count": 75,
      "outputs": [
        {
          "output_type": "stream",
          "text": [
            "/usr/local/lib/python3.6/dist-packages/ipykernel_launcher.py:11: UserWarning: Update your `Model` call to the Keras 2 API: `Model(inputs=Tensor(\"in..., outputs=Tensor(\"de...)`\n",
            "  # This is added back by InteractiveShellApp.init_path()\n"
          ],
          "name": "stderr"
        }
      ]
    },
    {
      "metadata": {
        "id": "ITR_xt8c0Qyh",
        "colab_type": "code",
        "colab": {}
      },
      "cell_type": "code",
      "source": [
        "from keras.preprocessing.image import ImageDataGenerator\n",
        "gen = ImageDataGenerator()\n",
        "train_generator = gen.flow(X_train, Y_train, batch_size=32)\n",
        " \n",
        "model5_n.compile(loss='categorical_crossentropy'\n",
        ", optimizer=Adamax(lr=0.0005)\n",
        ", metrics=['accuracy']\n",
        ")\n",
        " "
      ],
      "execution_count": 0,
      "outputs": []
    },
    {
      "metadata": {
        "id": "aeQz7Yqs6OOZ",
        "colab_type": "code",
        "colab": {}
      },
      "cell_type": "code",
      "source": [
        "model5_n.load_weights('drive/face_expr_model5_n.h5')"
      ],
      "execution_count": 0,
      "outputs": []
    },
    {
      "metadata": {
        "id": "H-grGHqU7qCw",
        "colab_type": "code",
        "colab": {
          "base_uri": "https://localhost:8080/",
          "height": 3399
        },
        "outputId": "2af9ea8b-c266-40f5-c78b-77704672942a"
      },
      "cell_type": "code",
      "source": [
        "model5_n.fit_generator(train_generator, steps_per_epoch=50, epochs=100)"
      ],
      "execution_count": 82,
      "outputs": [
        {
          "output_type": "stream",
          "text": [
            "Epoch 1/100\n",
            "50/50 [==============================] - 7s 136ms/step - loss: 0.4272 - acc: 0.8569\n",
            "Epoch 2/100\n",
            "50/50 [==============================] - 5s 105ms/step - loss: 0.3677 - acc: 0.8750\n",
            "Epoch 3/100\n",
            "50/50 [==============================] - 5s 105ms/step - loss: 0.3300 - acc: 0.8869\n",
            "Epoch 4/100\n",
            "50/50 [==============================] - 5s 104ms/step - loss: 0.2821 - acc: 0.9087\n",
            "Epoch 5/100\n",
            "50/50 [==============================] - 5s 104ms/step - loss: 0.2797 - acc: 0.9081\n",
            "Epoch 6/100\n",
            "49/50 [============================>.] - ETA: 0s - loss: 0.2896 - acc: 0.9069"
          ],
          "name": "stdout"
        },
        {
          "output_type": "stream",
          "text": [
            "\b\b\b\b\b\b\b\b\b\b\b\b\b\b\b\b\b\b\b\b\b\b\b\b\b\b\b\b\b\b\b\b\b\b\b\b\b\b\b\b\b\b\b\b\b\b\b\b\b\b\b\b\b\b\b\b\b\b\b\b\b\b\b\b\b\b\b\b\b\b\b\b\b\b\b\b\b\r50/50 [==============================] - 5s 104ms/step - loss: 0.2866 - acc: 0.9075\n",
            "Epoch 7/100\n",
            "50/50 [==============================] - 5s 105ms/step - loss: 0.2839 - acc: 0.9106\n",
            "Epoch 8/100\n",
            "50/50 [==============================] - 5s 105ms/step - loss: 0.2827 - acc: 0.9062\n",
            "Epoch 9/100\n",
            "50/50 [==============================] - 5s 105ms/step - loss: 0.2860 - acc: 0.9044\n",
            "Epoch 10/100\n",
            "50/50 [==============================] - 5s 104ms/step - loss: 0.2374 - acc: 0.9231\n",
            "Epoch 11/100\n",
            "29/50 [================>.............] - ETA: 2s - loss: 0.2147 - acc: 0.9300"
          ],
          "name": "stdout"
        },
        {
          "output_type": "stream",
          "text": [
            "50/50 [==============================] - 5s 104ms/step - loss: 0.2381 - acc: 0.9244\n",
            "Epoch 12/100\n",
            "50/50 [==============================] - 5s 105ms/step - loss: 0.2708 - acc: 0.9106\n",
            "Epoch 13/100\n",
            "50/50 [==============================] - 5s 104ms/step - loss: 0.2528 - acc: 0.9150\n",
            "Epoch 14/100\n",
            "50/50 [==============================] - 5s 104ms/step - loss: 0.2752 - acc: 0.9038\n",
            "Epoch 15/100\n",
            "50/50 [==============================] - 5s 105ms/step - loss: 0.2855 - acc: 0.9125\n",
            "Epoch 16/100\n",
            "50/50 [==============================] - 5s 104ms/step - loss: 0.2142 - acc: 0.9263\n",
            "Epoch 17/100\n",
            " 6/50 [==>...........................] - ETA: 4s - loss: 0.3226 - acc: 0.8698"
          ],
          "name": "stdout"
        },
        {
          "output_type": "stream",
          "text": [
            "50/50 [==============================] - 5s 104ms/step - loss: 0.2548 - acc: 0.9213\n",
            "Epoch 18/100\n",
            "50/50 [==============================] - 5s 105ms/step - loss: 0.2046 - acc: 0.9299\n",
            "Epoch 19/100\n",
            "50/50 [==============================] - 5s 104ms/step - loss: 0.2202 - acc: 0.9313\n",
            "Epoch 20/100\n",
            "50/50 [==============================] - 5s 105ms/step - loss: 0.2582 - acc: 0.9194\n",
            "Epoch 21/100\n",
            "50/50 [==============================] - 5s 105ms/step - loss: 0.2834 - acc: 0.9113\n",
            "Epoch 22/100\n",
            "50/50 [==============================] - 5s 105ms/step - loss: 0.2376 - acc: 0.9213\n",
            "Epoch 23/100\n",
            " 3/50 [>.............................] - ETA: 4s - loss: 0.3762 - acc: 0.9167"
          ],
          "name": "stdout"
        },
        {
          "output_type": "stream",
          "text": [
            "50/50 [==============================] - 5s 104ms/step - loss: 0.2593 - acc: 0.9194\n",
            "Epoch 24/100\n",
            "50/50 [==============================] - 5s 104ms/step - loss: 0.2141 - acc: 0.9269\n",
            "Epoch 25/100\n",
            "50/50 [==============================] - 5s 104ms/step - loss: 0.2516 - acc: 0.9131\n",
            "Epoch 26/100\n",
            "50/50 [==============================] - 5s 104ms/step - loss: 0.2209 - acc: 0.9237\n",
            "Epoch 27/100\n",
            "50/50 [==============================] - 5s 105ms/step - loss: 0.1997 - acc: 0.9275\n",
            "Epoch 28/100\n",
            "50/50 [==============================] - 5s 104ms/step - loss: 0.2734 - acc: 0.9081\n",
            "Epoch 29/100\n",
            " 2/50 [>.............................] - ETA: 4s - loss: 0.2797 - acc: 0.9219"
          ],
          "name": "stdout"
        },
        {
          "output_type": "stream",
          "text": [
            "50/50 [==============================] - 5s 105ms/step - loss: 0.2449 - acc: 0.9144\n",
            "Epoch 30/100\n",
            "50/50 [==============================] - 5s 105ms/step - loss: 0.2481 - acc: 0.9175\n",
            "Epoch 31/100\n",
            "50/50 [==============================] - 5s 105ms/step - loss: 0.2491 - acc: 0.9244\n",
            "Epoch 32/100\n",
            "50/50 [==============================] - 5s 105ms/step - loss: 0.2677 - acc: 0.9169\n",
            "Epoch 33/100\n",
            "50/50 [==============================] - 5s 104ms/step - loss: 0.2359 - acc: 0.9175\n",
            "Epoch 34/100\n",
            "50/50 [==============================] - 5s 105ms/step - loss: 0.2312 - acc: 0.9250\n",
            "Epoch 35/100\n",
            " 3/50 [>.............................] - ETA: 4s - loss: 0.3005 - acc: 0.9062"
          ],
          "name": "stdout"
        },
        {
          "output_type": "stream",
          "text": [
            "50/50 [==============================] - 5s 105ms/step - loss: 0.2391 - acc: 0.9194\n",
            "Epoch 36/100\n",
            "50/50 [==============================] - 5s 104ms/step - loss: 0.2359 - acc: 0.9300\n",
            "Epoch 37/100\n",
            "50/50 [==============================] - 5s 104ms/step - loss: 0.1451 - acc: 0.9562\n",
            "Epoch 38/100\n",
            "50/50 [==============================] - 5s 105ms/step - loss: 0.1733 - acc: 0.9387\n",
            "Epoch 39/100\n",
            "50/50 [==============================] - 5s 104ms/step - loss: 0.1374 - acc: 0.9562\n",
            "Epoch 40/100\n",
            "50/50 [==============================] - 5s 104ms/step - loss: 0.1805 - acc: 0.9506\n",
            "Epoch 41/100\n",
            " 3/50 [>.............................] - ETA: 4s - loss: 0.1994 - acc: 0.9271"
          ],
          "name": "stdout"
        },
        {
          "output_type": "stream",
          "text": [
            "50/50 [==============================] - 5s 104ms/step - loss: 0.1962 - acc: 0.9363\n",
            "Epoch 42/100\n",
            "50/50 [==============================] - 5s 105ms/step - loss: 0.2083 - acc: 0.9319\n",
            "Epoch 43/100\n",
            "50/50 [==============================] - 5s 104ms/step - loss: 0.1385 - acc: 0.9519\n",
            "Epoch 44/100\n",
            "50/50 [==============================] - 5s 104ms/step - loss: 0.1637 - acc: 0.9406\n",
            "Epoch 45/100\n",
            "50/50 [==============================] - 5s 105ms/step - loss: 0.2047 - acc: 0.9331\n",
            "Epoch 46/100\n",
            "50/50 [==============================] - 5s 105ms/step - loss: 0.1717 - acc: 0.9525\n",
            "Epoch 47/100\n",
            " 3/50 [>.............................] - ETA: 4s - loss: 0.2190 - acc: 0.9583"
          ],
          "name": "stdout"
        },
        {
          "output_type": "stream",
          "text": [
            "50/50 [==============================] - 5s 104ms/step - loss: 0.1452 - acc: 0.9556\n",
            "Epoch 48/100\n",
            "50/50 [==============================] - 5s 104ms/step - loss: 0.1780 - acc: 0.9481\n",
            "Epoch 49/100\n",
            "50/50 [==============================] - 5s 105ms/step - loss: 0.1768 - acc: 0.9444\n",
            "Epoch 50/100\n",
            "50/50 [==============================] - 5s 104ms/step - loss: 0.1510 - acc: 0.9519\n",
            "Epoch 51/100\n",
            "50/50 [==============================] - 5s 104ms/step - loss: 0.1504 - acc: 0.9425\n",
            "Epoch 52/100\n",
            "50/50 [==============================] - 5s 105ms/step - loss: 0.1921 - acc: 0.9375\n",
            "Epoch 53/100\n",
            " 3/50 [>.............................] - ETA: 4s - loss: 0.2207 - acc: 0.9271"
          ],
          "name": "stdout"
        },
        {
          "output_type": "stream",
          "text": [
            "50/50 [==============================] - 5s 105ms/step - loss: 0.2008 - acc: 0.9387\n",
            "Epoch 54/100\n",
            "50/50 [==============================] - 5s 104ms/step - loss: 0.1839 - acc: 0.9425\n",
            "Epoch 55/100\n",
            "50/50 [==============================] - 5s 104ms/step - loss: 0.1810 - acc: 0.9431\n",
            "Epoch 56/100\n",
            "50/50 [==============================] - 5s 105ms/step - loss: 0.1699 - acc: 0.9431\n",
            "Epoch 57/100\n",
            "50/50 [==============================] - 5s 105ms/step - loss: 0.2150 - acc: 0.9306\n",
            "Epoch 58/100\n",
            "50/50 [==============================] - 5s 104ms/step - loss: 0.1757 - acc: 0.9487\n",
            "Epoch 59/100\n",
            " 3/50 [>.............................] - ETA: 4s - loss: 0.0997 - acc: 0.9583"
          ],
          "name": "stdout"
        },
        {
          "output_type": "stream",
          "text": [
            "50/50 [==============================] - 5s 104ms/step - loss: 0.1722 - acc: 0.9425\n",
            "Epoch 60/100\n",
            "50/50 [==============================] - 5s 103ms/step - loss: 0.2202 - acc: 0.9287\n",
            "Epoch 61/100\n",
            "50/50 [==============================] - 5s 104ms/step - loss: 0.1681 - acc: 0.9461\n",
            "Epoch 62/100\n",
            "50/50 [==============================] - 5s 105ms/step - loss: 0.1810 - acc: 0.9456\n",
            "Epoch 63/100\n",
            "50/50 [==============================] - 5s 105ms/step - loss: 0.2304 - acc: 0.9263\n",
            "Epoch 64/100\n",
            "50/50 [==============================] - 5s 105ms/step - loss: 0.1942 - acc: 0.9375\n",
            "Epoch 65/100\n",
            " 2/50 [>.............................] - ETA: 4s - loss: 0.1196 - acc: 0.9688"
          ],
          "name": "stdout"
        },
        {
          "output_type": "stream",
          "text": [
            "50/50 [==============================] - 5s 105ms/step - loss: 0.1731 - acc: 0.9437\n",
            "Epoch 66/100\n",
            "50/50 [==============================] - 5s 105ms/step - loss: 0.2592 - acc: 0.9213\n",
            "Epoch 67/100\n",
            "50/50 [==============================] - 5s 105ms/step - loss: 0.1634 - acc: 0.9456\n",
            "Epoch 68/100\n",
            "50/50 [==============================] - 5s 104ms/step - loss: 0.2093 - acc: 0.9344\n",
            "Epoch 69/100\n",
            "50/50 [==============================] - 5s 104ms/step - loss: 0.1997 - acc: 0.9394\n",
            "Epoch 70/100\n",
            "50/50 [==============================] - 5s 105ms/step - loss: 0.1672 - acc: 0.9450\n",
            "Epoch 71/100\n",
            " 3/50 [>.............................] - ETA: 4s - loss: 0.1190 - acc: 0.9583"
          ],
          "name": "stdout"
        },
        {
          "output_type": "stream",
          "text": [
            "50/50 [==============================] - 5s 105ms/step - loss: 0.2068 - acc: 0.9356\n",
            "Epoch 72/100\n",
            "50/50 [==============================] - 5s 105ms/step - loss: 0.1692 - acc: 0.9406\n",
            "Epoch 73/100\n",
            "50/50 [==============================] - 5s 104ms/step - loss: 0.1443 - acc: 0.9513\n",
            "Epoch 74/100\n",
            "50/50 [==============================] - 5s 105ms/step - loss: 0.1505 - acc: 0.9544\n",
            "Epoch 75/100\n",
            "50/50 [==============================] - 5s 105ms/step - loss: 0.1161 - acc: 0.9650\n",
            "Epoch 76/100\n",
            "50/50 [==============================] - 5s 105ms/step - loss: 0.1513 - acc: 0.9500\n",
            "Epoch 77/100\n",
            " 2/50 [>.............................] - ETA: 4s - loss: 0.1415 - acc: 0.9219"
          ],
          "name": "stdout"
        },
        {
          "output_type": "stream",
          "text": [
            "50/50 [==============================] - 5s 104ms/step - loss: 0.1279 - acc: 0.9594\n",
            "Epoch 78/100\n",
            "50/50 [==============================] - 5s 104ms/step - loss: 0.1116 - acc: 0.9625\n",
            "Epoch 79/100\n",
            "50/50 [==============================] - 5s 104ms/step - loss: 0.1835 - acc: 0.9450\n",
            "Epoch 80/100\n",
            "50/50 [==============================] - 5s 105ms/step - loss: 0.1134 - acc: 0.9613\n",
            "Epoch 81/100\n",
            "50/50 [==============================] - 5s 105ms/step - loss: 0.1177 - acc: 0.9600\n",
            "Epoch 82/100\n",
            "50/50 [==============================] - 5s 105ms/step - loss: 0.1420 - acc: 0.9550\n",
            "Epoch 83/100\n",
            " 3/50 [>.............................] - ETA: 4s - loss: 0.1428 - acc: 0.9479"
          ],
          "name": "stdout"
        },
        {
          "output_type": "stream",
          "text": [
            "50/50 [==============================] - 5s 104ms/step - loss: 0.1610 - acc: 0.9475\n",
            "Epoch 84/100\n",
            "50/50 [==============================] - 5s 105ms/step - loss: 0.1456 - acc: 0.9544\n",
            "Epoch 85/100\n",
            "50/50 [==============================] - 5s 105ms/step - loss: 0.1317 - acc: 0.9556\n",
            "Epoch 86/100\n",
            "50/50 [==============================] - 5s 105ms/step - loss: 0.1378 - acc: 0.9544\n",
            "Epoch 87/100\n",
            "50/50 [==============================] - 5s 104ms/step - loss: 0.1497 - acc: 0.9519\n",
            "Epoch 88/100\n",
            "50/50 [==============================] - 5s 104ms/step - loss: 0.1600 - acc: 0.9500\n",
            "Epoch 89/100\n",
            " 3/50 [>.............................] - ETA: 4s - loss: 0.0531 - acc: 0.9792"
          ],
          "name": "stdout"
        },
        {
          "output_type": "stream",
          "text": [
            "50/50 [==============================] - 5s 104ms/step - loss: 0.1418 - acc: 0.9481\n",
            "Epoch 90/100\n",
            "50/50 [==============================] - 5s 104ms/step - loss: 0.1759 - acc: 0.9469\n",
            "Epoch 91/100\n",
            "50/50 [==============================] - 5s 104ms/step - loss: 0.1508 - acc: 0.9487\n",
            "Epoch 92/100\n",
            "50/50 [==============================] - 5s 105ms/step - loss: 0.1725 - acc: 0.9450\n",
            "Epoch 93/100\n",
            "50/50 [==============================] - 5s 104ms/step - loss: 0.1472 - acc: 0.9487\n",
            "Epoch 94/100\n",
            "50/50 [==============================] - 5s 104ms/step - loss: 0.1254 - acc: 0.9556\n",
            "Epoch 95/100\n",
            " 2/50 [>.............................] - ETA: 4s - loss: 0.0492 - acc: 0.9844"
          ],
          "name": "stdout"
        },
        {
          "output_type": "stream",
          "text": [
            "50/50 [==============================] - 5s 105ms/step - loss: 0.1586 - acc: 0.9481\n",
            "Epoch 96/100\n",
            "50/50 [==============================] - 5s 104ms/step - loss: 0.1348 - acc: 0.9531\n",
            "Epoch 97/100\n",
            "50/50 [==============================] - 5s 104ms/step - loss: 0.1414 - acc: 0.9506\n",
            "Epoch 98/100\n",
            "50/50 [==============================] - 5s 104ms/step - loss: 0.1389 - acc: 0.9525\n",
            "Epoch 99/100\n",
            "50/50 [==============================] - 5s 105ms/step - loss: 0.1335 - acc: 0.9513\n",
            "Epoch 100/100\n",
            "50/50 [==============================] - 5s 104ms/step - loss: 0.1587 - acc: 0.9475\n"
          ],
          "name": "stdout"
        },
        {
          "output_type": "execute_result",
          "data": {
            "text/plain": [
              "<keras.callbacks.History at 0x7fa12c1ec080>"
            ]
          },
          "metadata": {
            "tags": []
          },
          "execution_count": 82
        }
      ]
    },
    {
      "metadata": {
        "id": "ec-GKvX9U4Ui",
        "colab_type": "code",
        "colab": {
          "base_uri": "https://localhost:8080/",
          "height": 50
        },
        "outputId": "19c02d0d-35c2-43de-8f48-7f8db8aa52eb"
      },
      "cell_type": "code",
      "source": [
        "model5_n.evaluate(X_valid, Y_valid, batch_size=64)"
      ],
      "execution_count": 79,
      "outputs": [
        {
          "output_type": "stream",
          "text": [
            "3589/3589 [==============================] - 4s 1ms/step\n"
          ],
          "name": "stdout"
        },
        {
          "output_type": "execute_result",
          "data": {
            "text/plain": [
              "[1.6200687059887142, 0.6589579270157717]"
            ]
          },
          "metadata": {
            "tags": []
          },
          "execution_count": 79
        }
      ]
    },
    {
      "metadata": {
        "id": "zuWjRnPVXV66",
        "colab_type": "code",
        "colab": {}
      },
      "cell_type": "code",
      "source": [
        "model5_n.save_weights('drive/face_expr_model5_n.h5')"
      ],
      "execution_count": 0,
      "outputs": []
    },
    {
      "metadata": {
        "id": "dd1ryUoX44FW",
        "colab_type": "text"
      },
      "cell_type": "markdown",
      "source": [
        "## Ensemble voting\n",
        "\n"
      ]
    },
    {
      "metadata": {
        "id": "VDIRBm6YqFIU",
        "colab_type": "code",
        "colab": {}
      },
      "cell_type": "code",
      "source": [
        "from keras import layers"
      ],
      "execution_count": 0,
      "outputs": []
    },
    {
      "metadata": {
        "id": "Xuj7eF5OZduA",
        "colab_type": "code",
        "colab": {
          "base_uri": "https://localhost:8080/",
          "height": 70
        },
        "outputId": "716b68bf-689e-4a8f-a7b9-8b8a0b4b7e7e"
      },
      "cell_type": "code",
      "source": [
        "model1, model2, model3, model5 = Model1(), Model2(), Model3(), Model5()\n",
        "model1.load_weights('drive/face_expr_model1.h5')\n",
        "model2.load_weights('drive/face_expr_model2.h5')\n",
        "model3.load_weights('drive/face_expr_model3.h5')\n",
        "model5.load_weights('drive/face_expr_model5.h5')\n",
        "models = [model1, model2, model3, model5]\n",
        "model_input = Input(shape=(48, 48, 3))"
      ],
      "execution_count": 103,
      "outputs": [
        {
          "output_type": "stream",
          "text": [
            "/usr/local/lib/python3.6/dist-packages/ipykernel_launcher.py:11: UserWarning: Update your `Model` call to the Keras 2 API: `Model(inputs=Tensor(\"in..., outputs=Tensor(\"de...)`\n",
            "  # This is added back by InteractiveShellApp.init_path()\n"
          ],
          "name": "stderr"
        }
      ]
    },
    {
      "metadata": {
        "id": "330oqKK77xKv",
        "colab_type": "code",
        "colab": {}
      },
      "cell_type": "code",
      "source": [
        "def ensemble(models, model_input):\n",
        "    \n",
        "    yModels=[model(model_input) for model in models] \n",
        "    # averaging outputs\n",
        "    yAvg=layers.average(yModels) \n",
        "    # build model from same input and avg output\n",
        "    modelEns = Model(inputs=model_input, outputs=yAvg,name='ensemble')\n",
        "    return modelEns\n",
        "ensemble_model = ensemble(models, model_input)"
      ],
      "execution_count": 0,
      "outputs": []
    },
    {
      "metadata": {
        "id": "pe1GiN6vpveN",
        "colab_type": "code",
        "colab": {}
      },
      "cell_type": "code",
      "source": [
        ""
      ],
      "execution_count": 0,
      "outputs": []
    }
  ]
}