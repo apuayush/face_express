{
  "nbformat": 4,
  "nbformat_minor": 0,
  "metadata": {
    "colab": {
      "name": "training.ipynb",
      "version": "0.3.2",
      "provenance": []
    },
    "kernelspec": {
      "name": "python3",
      "display_name": "Python 3"
    },
    "accelerator": "GPU"
  },
  "cells": [
    {
      "metadata": {
        "id": "56zu04MAchOf",
        "colab_type": "code",
        "colab": {
          "base_uri": "https://localhost:8080/",
          "height": 107
        },
        "outputId": "e7f1cf0b-a439-4bbc-e8c2-eaf83928f536"
      },
      "cell_type": "code",
      "source": [
        "# for mounting drive with google colabs\n",
        "!apt-get install -y -qq software-properties-common python-software-properties module-init-tools\n",
        "!add-apt-repository -y ppa:alessandro-strada/ppa 2>&1 > /dev/null\n",
        "!apt-get update -qq 2>&1 > /dev/null\n",
        "!apt-get -y install -qq google-drive-ocamlfuse fuse\n",
        "from google.colab import auth\n",
        "auth.authenticate_user()\n",
        "from oauth2client.client import GoogleCredentials\n",
        "creds = GoogleCredentials.get_application_default()\n",
        "import getpass\n",
        "!google-drive-ocamlfuse -headless -id={creds.client_id} -secret={creds.client_secret} < /dev/null 2>&1 | grep URL\n",
        "vcode = getpass.getpass()\n",
        "!echo {vcode} | google-drive-ocamlfuse -headless -id={creds.client_id} -secret={creds.client_secret}"
      ],
      "execution_count": 8,
      "outputs": [
        {
          "output_type": "stream",
          "text": [
            "Please, open the following URL in a web browser: https://accounts.google.com/o/oauth2/auth?client_id=32555940559.apps.googleusercontent.com&redirect_uri=urn%3Aietf%3Awg%3Aoauth%3A2.0%3Aoob&scope=https%3A%2F%2Fwww.googleapis.com%2Fauth%2Fdrive&response_type=code&access_type=offline&approval_prompt=force\r\n",
            "··········\n",
            "Please, open the following URL in a web browser: https://accounts.google.com/o/oauth2/auth?client_id=32555940559.apps.googleusercontent.com&redirect_uri=urn%3Aietf%3Awg%3Aoauth%3A2.0%3Aoob&scope=https%3A%2F%2Fwww.googleapis.com%2Fauth%2Fdrive&response_type=code&access_type=offline&approval_prompt=force\n",
            "Please enter the verification code: Access token retrieved correctly.\n"
          ],
          "name": "stdout"
        }
      ]
    },
    {
      "metadata": {
        "id": "VIcp0a35KSHS",
        "colab_type": "code",
        "colab": {}
      },
      "cell_type": "code",
      "source": [
        "!mkdir -p drive\n",
        "!google-drive-ocamlfuse drive"
      ],
      "execution_count": 0,
      "outputs": []
    },
    {
      "metadata": {
        "id": "pnHOW57MKWV0",
        "colab_type": "code",
        "colab": {}
      },
      "cell_type": "code",
      "source": [
        "!pip install -q keras"
      ],
      "execution_count": 0,
      "outputs": []
    },
    {
      "metadata": {
        "id": "_jsMmkQq0TD7",
        "colab_type": "code",
        "colab": {
          "base_uri": "https://localhost:8080/",
          "height": 35
        },
        "outputId": "bb758b31-789e-42a5-9516-91f4d505162c"
      },
      "cell_type": "code",
      "source": [
        "!ls"
      ],
      "execution_count": 11,
      "outputs": [
        {
          "output_type": "stream",
          "text": [
            "datalab  drive\r\n"
          ],
          "name": "stdout"
        }
      ]
    },
    {
      "metadata": {
        "id": "AwcI6o1NkCAE",
        "colab_type": "code",
        "colab": {}
      },
      "cell_type": "code",
      "source": [
        "import sys\n",
        "import time \n",
        "import os\n",
        "import cv2\n",
        "import datetime\n",
        "from PIL import Image\n",
        "from matplotlib import pyplot as plt\n",
        "\n",
        "import pandas as pd\n",
        "import numpy as np\n",
        "% matplotlib inline"
      ],
      "execution_count": 0,
      "outputs": []
    },
    {
      "metadata": {
        "id": "Ep4jky9PJHZo",
        "colab_type": "text"
      },
      "cell_type": "markdown",
      "source": [
        "# Reading data"
      ]
    },
    {
      "metadata": {
        "id": "Qz-FqetJmBTb",
        "colab_type": "code",
        "colab": {}
      },
      "cell_type": "code",
      "source": [
        "data = pd.read_csv('drive/fer2013.csv')"
      ],
      "execution_count": 0,
      "outputs": []
    },
    {
      "metadata": {
        "id": "wvcWR4P4VMqr",
        "colab_type": "code",
        "colab": {
          "base_uri": "https://localhost:8080/",
          "height": 35
        },
        "outputId": "be9d0cf3-9d91-4e51-ea62-66dbe3679965"
      },
      "cell_type": "code",
      "source": [
        "data['Usage'].unique()"
      ],
      "execution_count": 14,
      "outputs": [
        {
          "output_type": "execute_result",
          "data": {
            "text/plain": [
              "array(['Training', 'PublicTest', 'PrivateTest'], dtype=object)"
            ]
          },
          "metadata": {
            "tags": []
          },
          "execution_count": 14
        }
      ]
    },
    {
      "metadata": {
        "id": "KLS-6PRJUbNQ",
        "colab_type": "code",
        "colab": {}
      },
      "cell_type": "code",
      "source": [
        "data_train = data.loc[data['Usage']=='Training']\n",
        "public_test = data.loc[data['Usage']=='PublicTest']\n",
        "private_test = data.loc[data['Usage']=='PrivateTest']"
      ],
      "execution_count": 0,
      "outputs": []
    },
    {
      "metadata": {
        "id": "W94GR_DZmHXJ",
        "colab_type": "code",
        "colab": {
          "base_uri": "https://localhost:8080/",
          "height": 202
        },
        "outputId": "c7765c96-efd1-41a2-f464-57a054af1083"
      },
      "cell_type": "code",
      "source": [
        "data_train.head()"
      ],
      "execution_count": 16,
      "outputs": [
        {
          "output_type": "execute_result",
          "data": {
            "text/html": [
              "<div>\n",
              "<style scoped>\n",
              "    .dataframe tbody tr th:only-of-type {\n",
              "        vertical-align: middle;\n",
              "    }\n",
              "\n",
              "    .dataframe tbody tr th {\n",
              "        vertical-align: top;\n",
              "    }\n",
              "\n",
              "    .dataframe thead th {\n",
              "        text-align: right;\n",
              "    }\n",
              "</style>\n",
              "<table border=\"1\" class=\"dataframe\">\n",
              "  <thead>\n",
              "    <tr style=\"text-align: right;\">\n",
              "      <th></th>\n",
              "      <th>emotion</th>\n",
              "      <th>pixels</th>\n",
              "      <th>Usage</th>\n",
              "    </tr>\n",
              "  </thead>\n",
              "  <tbody>\n",
              "    <tr>\n",
              "      <th>0</th>\n",
              "      <td>0</td>\n",
              "      <td>70 80 82 72 58 58 60 63 54 58 60 48 89 115 121...</td>\n",
              "      <td>Training</td>\n",
              "    </tr>\n",
              "    <tr>\n",
              "      <th>1</th>\n",
              "      <td>0</td>\n",
              "      <td>151 150 147 155 148 133 111 140 170 174 182 15...</td>\n",
              "      <td>Training</td>\n",
              "    </tr>\n",
              "    <tr>\n",
              "      <th>2</th>\n",
              "      <td>2</td>\n",
              "      <td>231 212 156 164 174 138 161 173 182 200 106 38...</td>\n",
              "      <td>Training</td>\n",
              "    </tr>\n",
              "    <tr>\n",
              "      <th>3</th>\n",
              "      <td>4</td>\n",
              "      <td>24 32 36 30 32 23 19 20 30 41 21 22 32 34 21 1...</td>\n",
              "      <td>Training</td>\n",
              "    </tr>\n",
              "    <tr>\n",
              "      <th>4</th>\n",
              "      <td>6</td>\n",
              "      <td>4 0 0 0 0 0 0 0 0 0 0 0 3 15 23 28 48 50 58 84...</td>\n",
              "      <td>Training</td>\n",
              "    </tr>\n",
              "  </tbody>\n",
              "</table>\n",
              "</div>"
            ],
            "text/plain": [
              "   emotion                                             pixels     Usage\n",
              "0        0  70 80 82 72 58 58 60 63 54 58 60 48 89 115 121...  Training\n",
              "1        0  151 150 147 155 148 133 111 140 170 174 182 15...  Training\n",
              "2        2  231 212 156 164 174 138 161 173 182 200 106 38...  Training\n",
              "3        4  24 32 36 30 32 23 19 20 30 41 21 22 32 34 21 1...  Training\n",
              "4        6  4 0 0 0 0 0 0 0 0 0 0 0 3 15 23 28 48 50 58 84...  Training"
            ]
          },
          "metadata": {
            "tags": []
          },
          "execution_count": 16
        }
      ]
    },
    {
      "metadata": {
        "id": "mbUnTOc_WCyi",
        "colab_type": "code",
        "colab": {
          "base_uri": "https://localhost:8080/",
          "height": 202
        },
        "outputId": "f2917269-f35f-4774-a255-a832bce7e3a5"
      },
      "cell_type": "code",
      "source": [
        "public_test.head()"
      ],
      "execution_count": 17,
      "outputs": [
        {
          "output_type": "execute_result",
          "data": {
            "text/html": [
              "<div>\n",
              "<style scoped>\n",
              "    .dataframe tbody tr th:only-of-type {\n",
              "        vertical-align: middle;\n",
              "    }\n",
              "\n",
              "    .dataframe tbody tr th {\n",
              "        vertical-align: top;\n",
              "    }\n",
              "\n",
              "    .dataframe thead th {\n",
              "        text-align: right;\n",
              "    }\n",
              "</style>\n",
              "<table border=\"1\" class=\"dataframe\">\n",
              "  <thead>\n",
              "    <tr style=\"text-align: right;\">\n",
              "      <th></th>\n",
              "      <th>emotion</th>\n",
              "      <th>pixels</th>\n",
              "      <th>Usage</th>\n",
              "    </tr>\n",
              "  </thead>\n",
              "  <tbody>\n",
              "    <tr>\n",
              "      <th>28709</th>\n",
              "      <td>0</td>\n",
              "      <td>254 254 254 254 254 249 255 160 2 58 53 70 77 ...</td>\n",
              "      <td>PublicTest</td>\n",
              "    </tr>\n",
              "    <tr>\n",
              "      <th>28710</th>\n",
              "      <td>1</td>\n",
              "      <td>156 184 198 202 204 207 210 212 213 214 215 21...</td>\n",
              "      <td>PublicTest</td>\n",
              "    </tr>\n",
              "    <tr>\n",
              "      <th>28711</th>\n",
              "      <td>4</td>\n",
              "      <td>69 118 61 60 96 121 103 87 103 88 70 90 115 12...</td>\n",
              "      <td>PublicTest</td>\n",
              "    </tr>\n",
              "    <tr>\n",
              "      <th>28712</th>\n",
              "      <td>6</td>\n",
              "      <td>205 203 236 157 83 158 120 116 94 86 155 180 2...</td>\n",
              "      <td>PublicTest</td>\n",
              "    </tr>\n",
              "    <tr>\n",
              "      <th>28713</th>\n",
              "      <td>3</td>\n",
              "      <td>87 79 74 66 74 96 77 80 80 84 83 89 102 91 84 ...</td>\n",
              "      <td>PublicTest</td>\n",
              "    </tr>\n",
              "  </tbody>\n",
              "</table>\n",
              "</div>"
            ],
            "text/plain": [
              "       emotion                                             pixels       Usage\n",
              "28709        0  254 254 254 254 254 249 255 160 2 58 53 70 77 ...  PublicTest\n",
              "28710        1  156 184 198 202 204 207 210 212 213 214 215 21...  PublicTest\n",
              "28711        4  69 118 61 60 96 121 103 87 103 88 70 90 115 12...  PublicTest\n",
              "28712        6  205 203 236 157 83 158 120 116 94 86 155 180 2...  PublicTest\n",
              "28713        3  87 79 74 66 74 96 77 80 80 84 83 89 102 91 84 ...  PublicTest"
            ]
          },
          "metadata": {
            "tags": []
          },
          "execution_count": 17
        }
      ]
    },
    {
      "metadata": {
        "id": "BtpLXlF4WG0I",
        "colab_type": "code",
        "colab": {
          "base_uri": "https://localhost:8080/",
          "height": 202
        },
        "outputId": "0a8f2afc-e10e-4e56-d1a4-ba4b97ce1a9f"
      },
      "cell_type": "code",
      "source": [
        "private_test.head()"
      ],
      "execution_count": 18,
      "outputs": [
        {
          "output_type": "execute_result",
          "data": {
            "text/html": [
              "<div>\n",
              "<style scoped>\n",
              "    .dataframe tbody tr th:only-of-type {\n",
              "        vertical-align: middle;\n",
              "    }\n",
              "\n",
              "    .dataframe tbody tr th {\n",
              "        vertical-align: top;\n",
              "    }\n",
              "\n",
              "    .dataframe thead th {\n",
              "        text-align: right;\n",
              "    }\n",
              "</style>\n",
              "<table border=\"1\" class=\"dataframe\">\n",
              "  <thead>\n",
              "    <tr style=\"text-align: right;\">\n",
              "      <th></th>\n",
              "      <th>emotion</th>\n",
              "      <th>pixels</th>\n",
              "      <th>Usage</th>\n",
              "    </tr>\n",
              "  </thead>\n",
              "  <tbody>\n",
              "    <tr>\n",
              "      <th>32298</th>\n",
              "      <td>0</td>\n",
              "      <td>170 118 101 88 88 75 78 82 66 74 68 59 63 64 6...</td>\n",
              "      <td>PrivateTest</td>\n",
              "    </tr>\n",
              "    <tr>\n",
              "      <th>32299</th>\n",
              "      <td>5</td>\n",
              "      <td>7 5 8 6 7 3 2 6 5 4 4 5 7 5 5 5 6 7 7 7 10 10 ...</td>\n",
              "      <td>PrivateTest</td>\n",
              "    </tr>\n",
              "    <tr>\n",
              "      <th>32300</th>\n",
              "      <td>6</td>\n",
              "      <td>232 240 241 239 237 235 246 117 24 24 22 13 12...</td>\n",
              "      <td>PrivateTest</td>\n",
              "    </tr>\n",
              "    <tr>\n",
              "      <th>32301</th>\n",
              "      <td>4</td>\n",
              "      <td>200 197 149 139 156 89 111 58 62 95 113 117 11...</td>\n",
              "      <td>PrivateTest</td>\n",
              "    </tr>\n",
              "    <tr>\n",
              "      <th>32302</th>\n",
              "      <td>2</td>\n",
              "      <td>40 28 33 56 45 33 31 78 152 194 200 186 196 20...</td>\n",
              "      <td>PrivateTest</td>\n",
              "    </tr>\n",
              "  </tbody>\n",
              "</table>\n",
              "</div>"
            ],
            "text/plain": [
              "       emotion                                             pixels        Usage\n",
              "32298        0  170 118 101 88 88 75 78 82 66 74 68 59 63 64 6...  PrivateTest\n",
              "32299        5  7 5 8 6 7 3 2 6 5 4 4 5 7 5 5 5 6 7 7 7 10 10 ...  PrivateTest\n",
              "32300        6  232 240 241 239 237 235 246 117 24 24 22 13 12...  PrivateTest\n",
              "32301        4  200 197 149 139 156 89 111 58 62 95 113 117 11...  PrivateTest\n",
              "32302        2  40 28 33 56 45 33 31 78 152 194 200 186 196 20...  PrivateTest"
            ]
          },
          "metadata": {
            "tags": []
          },
          "execution_count": 18
        }
      ]
    },
    {
      "metadata": {
        "id": "2gyerwiGNZ8F",
        "colab_type": "code",
        "colab": {
          "base_uri": "https://localhost:8080/",
          "height": 294
        },
        "outputId": "8cad8041-0eaf-473f-8c86-5acadc517748"
      },
      "cell_type": "code",
      "source": [
        "data_train.describe()"
      ],
      "execution_count": 19,
      "outputs": [
        {
          "output_type": "execute_result",
          "data": {
            "text/html": [
              "<div>\n",
              "<style scoped>\n",
              "    .dataframe tbody tr th:only-of-type {\n",
              "        vertical-align: middle;\n",
              "    }\n",
              "\n",
              "    .dataframe tbody tr th {\n",
              "        vertical-align: top;\n",
              "    }\n",
              "\n",
              "    .dataframe thead th {\n",
              "        text-align: right;\n",
              "    }\n",
              "</style>\n",
              "<table border=\"1\" class=\"dataframe\">\n",
              "  <thead>\n",
              "    <tr style=\"text-align: right;\">\n",
              "      <th></th>\n",
              "      <th>emotion</th>\n",
              "    </tr>\n",
              "  </thead>\n",
              "  <tbody>\n",
              "    <tr>\n",
              "      <th>count</th>\n",
              "      <td>28709.000000</td>\n",
              "    </tr>\n",
              "    <tr>\n",
              "      <th>mean</th>\n",
              "      <td>3.317427</td>\n",
              "    </tr>\n",
              "    <tr>\n",
              "      <th>std</th>\n",
              "      <td>1.876632</td>\n",
              "    </tr>\n",
              "    <tr>\n",
              "      <th>min</th>\n",
              "      <td>0.000000</td>\n",
              "    </tr>\n",
              "    <tr>\n",
              "      <th>25%</th>\n",
              "      <td>2.000000</td>\n",
              "    </tr>\n",
              "    <tr>\n",
              "      <th>50%</th>\n",
              "      <td>3.000000</td>\n",
              "    </tr>\n",
              "    <tr>\n",
              "      <th>75%</th>\n",
              "      <td>5.000000</td>\n",
              "    </tr>\n",
              "    <tr>\n",
              "      <th>max</th>\n",
              "      <td>6.000000</td>\n",
              "    </tr>\n",
              "  </tbody>\n",
              "</table>\n",
              "</div>"
            ],
            "text/plain": [
              "            emotion\n",
              "count  28709.000000\n",
              "mean       3.317427\n",
              "std        1.876632\n",
              "min        0.000000\n",
              "25%        2.000000\n",
              "50%        3.000000\n",
              "75%        5.000000\n",
              "max        6.000000"
            ]
          },
          "metadata": {
            "tags": []
          },
          "execution_count": 19
        }
      ]
    },
    {
      "metadata": {
        "id": "dXhgd_VRK9mH",
        "colab_type": "code",
        "colab": {}
      },
      "cell_type": "code",
      "source": [
        "k = data_train.iloc[1,1]"
      ],
      "execution_count": 0,
      "outputs": []
    },
    {
      "metadata": {
        "id": "7musTnWRMMhi",
        "colab_type": "code",
        "colab": {
          "base_uri": "https://localhost:8080/",
          "height": 35
        },
        "outputId": "2cf14afd-aba0-4394-f247-ffdf2e694131"
      },
      "cell_type": "code",
      "source": [
        "len(k.split())"
      ],
      "execution_count": 21,
      "outputs": [
        {
          "output_type": "execute_result",
          "data": {
            "text/plain": [
              "2304"
            ]
          },
          "metadata": {
            "tags": []
          },
          "execution_count": 21
        }
      ]
    },
    {
      "metadata": {
        "id": "gXUbIpYURgAN",
        "colab_type": "text"
      },
      "cell_type": "markdown",
      "source": [
        "# Data Preprocessing\n",
        "## Transforming csv to understandable image data"
      ]
    },
    {
      "metadata": {
        "id": "lhU2G8EKOeHP",
        "colab_type": "code",
        "colab": {}
      },
      "cell_type": "code",
      "source": [
        "from sklearn.utils import shuffle\n",
        "data_train = shuffle(data_train)\n",
        "public_test = shuffle(public_test)\n",
        "private_test = shuffle(private_test)"
      ],
      "execution_count": 0,
      "outputs": []
    },
    {
      "metadata": {
        "id": "hVU6a7pnMT1v",
        "colab_type": "code",
        "colab": {
          "base_uri": "https://localhost:8080/",
          "height": 35
        },
        "outputId": "feedfcdb-fce0-422d-f07c-fb22399bd3c3"
      },
      "cell_type": "code",
      "source": [
        "train = np.array(data_train.iloc[:,1])\n",
        "validation = np.array(private_test.iloc[:,1])\n",
        "test = np.array(public_test.iloc[:,1])\n",
        "print(train.shape, test.shape, validation.shape)"
      ],
      "execution_count": 23,
      "outputs": [
        {
          "output_type": "stream",
          "text": [
            "(28709,) (3589,) (3589,)\n"
          ],
          "name": "stdout"
        }
      ]
    },
    {
      "metadata": {
        "id": "-KKN2c-lPv5f",
        "colab_type": "code",
        "colab": {}
      },
      "cell_type": "code",
      "source": [
        "train = train.reshape(28709,1)\n",
        "test = test.reshape(3589,1)\n",
        "validation = validation.reshape(3589,1)\n",
        "X_train_flip = list()"
      ],
      "execution_count": 0,
      "outputs": []
    },
    {
      "metadata": {
        "id": "Ll4rh-3ZP3np",
        "colab_type": "code",
        "colab": {
          "base_uri": "https://localhost:8080/",
          "height": 35
        },
        "outputId": "96cd83b0-0c6b-438e-a467-26bb4226e843"
      },
      "cell_type": "code",
      "source": [
        "train.shape"
      ],
      "execution_count": 25,
      "outputs": [
        {
          "output_type": "execute_result",
          "data": {
            "text/plain": [
              "(28709, 1)"
            ]
          },
          "metadata": {
            "tags": []
          },
          "execution_count": 25
        }
      ]
    },
    {
      "metadata": {
        "id": "e-n86LvepCPY",
        "colab_type": "code",
        "colab": {}
      },
      "cell_type": "code",
      "source": [
        "def data_augmentation(img):\n",
        "  img = cv2.flip(img.reshape(48,48), 1)\n",
        "  return np.array(img.reshape(48,48,1)).astype(np.float32)"
      ],
      "execution_count": 0,
      "outputs": []
    },
    {
      "metadata": {
        "id": "74JKfL9yO981",
        "colab_type": "code",
        "colab": {}
      },
      "cell_type": "code",
      "source": [
        "def reform_data_aug(img_str):\n",
        "  t1 = img_str[0].split()\n",
        "  t2 = np.array(t1).astype(np.float32)\n",
        "  t3 = t2.reshape(48, 48, 1)\n",
        "\n",
        "  X_train_flip.append(data_augmentation(t3))\n",
        "  return t3"
      ],
      "execution_count": 0,
      "outputs": []
    },
    {
      "metadata": {
        "id": "PY2eyjItszJi",
        "colab_type": "code",
        "colab": {}
      },
      "cell_type": "code",
      "source": [
        "def reform_data(img_str):\n",
        "  t1 = img_str[0].split()\n",
        "  t2 = np.array(t1).astype(np.float32)\n",
        "  t3 = t2.reshape(48, 48, 1)\n",
        "  return t3"
      ],
      "execution_count": 0,
      "outputs": []
    },
    {
      "metadata": {
        "id": "v-SVD4HjNwN7",
        "colab_type": "code",
        "colab": {}
      },
      "cell_type": "code",
      "source": [
        "X_train_1 = np.apply_along_axis(reform_data_aug, 1, train)\n",
        "X_test = np.apply_along_axis(reform_data, 1, test)\n",
        "X_validation = np.apply_along_axis(reform_data, 1, validation)"
      ],
      "execution_count": 0,
      "outputs": []
    },
    {
      "metadata": {
        "id": "EQod7SNzsWK7",
        "colab_type": "code",
        "colab": {
          "base_uri": "https://localhost:8080/",
          "height": 35
        },
        "outputId": "ee150e20-7aea-45a1-af9b-26ef64a3a063"
      },
      "cell_type": "code",
      "source": [
        "np.array(X_train_flip).shape"
      ],
      "execution_count": 30,
      "outputs": [
        {
          "output_type": "execute_result",
          "data": {
            "text/plain": [
              "(28709, 48, 48, 1)"
            ]
          },
          "metadata": {
            "tags": []
          },
          "execution_count": 30
        }
      ]
    },
    {
      "metadata": {
        "id": "WZz2eBuiq1QX",
        "colab_type": "code",
        "colab": {
          "base_uri": "https://localhost:8080/",
          "height": 35
        },
        "outputId": "02f09018-7e07-493f-f26e-fb31194b87eb"
      },
      "cell_type": "code",
      "source": [
        "X_train = np.array(list(X_train_1) + X_train_flip)\n",
        "print(X_train.shape)"
      ],
      "execution_count": 31,
      "outputs": [
        {
          "output_type": "stream",
          "text": [
            "(57418, 48, 48, 1)\n"
          ],
          "name": "stdout"
        }
      ]
    },
    {
      "metadata": {
        "id": "_ZEDOnwDNxLm",
        "colab_type": "code",
        "colab": {
          "base_uri": "https://localhost:8080/",
          "height": 35
        },
        "outputId": "31e6ec3f-372d-4071-8c7b-bd9e7e1dfe9b"
      },
      "cell_type": "code",
      "source": [
        "print(X_train.shape, X_test.shape, X_validation.shape)"
      ],
      "execution_count": 32,
      "outputs": [
        {
          "output_type": "stream",
          "text": [
            "(57418, 48, 48, 1) (3589, 48, 48, 1) (3589, 48, 48, 1)\n"
          ],
          "name": "stdout"
        }
      ]
    },
    {
      "metadata": {
        "id": "VbThqV1cRZaw",
        "colab_type": "code",
        "colab": {
          "base_uri": "https://localhost:8080/",
          "height": 285
        },
        "outputId": "9d0d4583-91ed-47aa-9e9c-7f4a73e970be"
      },
      "cell_type": "code",
      "source": [
        "# Sample image\n",
        "plt.imshow(X_train[0].reshape(48,48))"
      ],
      "execution_count": 33,
      "outputs": [
        {
          "output_type": "execute_result",
          "data": {
            "text/plain": [
              "<matplotlib.image.AxesImage at 0x7f3732803be0>"
            ]
          },
          "metadata": {
            "tags": []
          },
          "execution_count": 33
        },
        {
          "output_type": "display_data",
          "data": {
            "image/png": "[encoded data removed]",
            "text/plain": [
              "<matplotlib.figure.Figure at 0x7f3732a7a278>"
            ]
          },
          "metadata": {
            "tags": []
          }
        }
      ]
    },
    {
      "metadata": {
        "id": "WYB7ls1PTmSe",
        "colab_type": "text"
      },
      "cell_type": "markdown",
      "source": [
        "### Normalization "
      ]
    },
    {
      "metadata": {
        "id": "SlrUS2YXSi3O",
        "colab_type": "code",
        "colab": {}
      },
      "cell_type": "code",
      "source": [
        "X_train = X_train/255\n",
        "X_test = X_test/255\n",
        "X_validation = X_validation/255"
      ],
      "execution_count": 0,
      "outputs": []
    },
    {
      "metadata": {
        "id": "VwsAGZnLT6LD",
        "colab_type": "text"
      },
      "cell_type": "markdown",
      "source": [
        "### One Hot Encoding"
      ]
    },
    {
      "metadata": {
        "id": "DddjY8kpTpRH",
        "colab_type": "code",
        "colab": {}
      },
      "cell_type": "code",
      "source": [
        "Y_train = data_train['emotion']\n",
        "Y_test = public_test['emotion']\n",
        "Y_validation = private_test['emotion']"
      ],
      "execution_count": 0,
      "outputs": []
    },
    {
      "metadata": {
        "id": "pqH6KdN9ZmaP",
        "colab_type": "code",
        "colab": {
          "base_uri": "https://localhost:8080/",
          "height": 35
        },
        "outputId": "b79a7374-ec69-43dd-ce36-10e8eaed0dd0"
      },
      "cell_type": "code",
      "source": [
        "print(Y_train.shape, Y_test.shape, Y_validation.shape)"
      ],
      "execution_count": 36,
      "outputs": [
        {
          "output_type": "stream",
          "text": [
            "(28709,) (3589,) (3589,)\n"
          ],
          "name": "stdout"
        }
      ]
    },
    {
      "metadata": {
        "id": "zvweNZgLZo4R",
        "colab_type": "code",
        "colab": {}
      },
      "cell_type": "code",
      "source": [
        "def onehot(Y, C):\n",
        "  Y = np.eye(C)[Y].T\n",
        "  return Y"
      ],
      "execution_count": 0,
      "outputs": []
    },
    {
      "metadata": {
        "id": "VsNoXc5HbDHR",
        "colab_type": "code",
        "colab": {
          "base_uri": "https://localhost:8080/",
          "height": 35
        },
        "outputId": "f1a8450b-9c6a-4f6c-dbb6-fcf5f20683f9"
      },
      "cell_type": "code",
      "source": [
        "data['emotion'].unique()"
      ],
      "execution_count": 38,
      "outputs": [
        {
          "output_type": "execute_result",
          "data": {
            "text/plain": [
              "array([0, 2, 4, 6, 3, 5, 1])"
            ]
          },
          "metadata": {
            "tags": []
          },
          "execution_count": 38
        }
      ]
    },
    {
      "metadata": {
        "id": "yNWyfJYNbMFB",
        "colab_type": "code",
        "colab": {}
      },
      "cell_type": "code",
      "source": [
        "Y_test = onehot(Y_test, 7).T\n",
        "Y_train = onehot(Y_train, 7).T\n",
        "Y_valid = onehot(Y_validation, 7).T"
      ],
      "execution_count": 0,
      "outputs": []
    },
    {
      "metadata": {
        "id": "_HLB4j6WbcWR",
        "colab_type": "code",
        "colab": {
          "base_uri": "https://localhost:8080/",
          "height": 35
        },
        "outputId": "a280f14a-030c-4058-b5a5-322c046fa581"
      },
      "cell_type": "code",
      "source": [
        "Y_train.shape"
      ],
      "execution_count": 40,
      "outputs": [
        {
          "output_type": "execute_result",
          "data": {
            "text/plain": [
              "(28709, 7)"
            ]
          },
          "metadata": {
            "tags": []
          },
          "execution_count": 40
        }
      ]
    },
    {
      "metadata": {
        "id": "0iMkGB1wtYNj",
        "colab_type": "code",
        "colab": {}
      },
      "cell_type": "code",
      "source": [
        "Y_train = np.array(list(Y_train) + list(Y_train))"
      ],
      "execution_count": 0,
      "outputs": []
    },
    {
      "metadata": {
        "id": "pw_OvfvF4rBT",
        "colab_type": "code",
        "colab": {
          "base_uri": "https://localhost:8080/",
          "height": 35
        },
        "outputId": "529481b4-ba1a-4ff7-86e6-14a66f593ec0"
      },
      "cell_type": "code",
      "source": [
        "Y_train.shape"
      ],
      "execution_count": 42,
      "outputs": [
        {
          "output_type": "execute_result",
          "data": {
            "text/plain": [
              "(57418, 7)"
            ]
          },
          "metadata": {
            "tags": []
          },
          "execution_count": 42
        }
      ]
    },
    {
      "metadata": {
        "id": "h_86wLen4vJR",
        "colab_type": "code",
        "colab": {}
      },
      "cell_type": "code",
      "source": [
        "X_train, Y_train = shuffle(X_train, Y_train, random_state=2)"
      ],
      "execution_count": 0,
      "outputs": []
    },
    {
      "metadata": {
        "id": "xJ2_D-9K69nZ",
        "colab_type": "code",
        "colab": {
          "base_uri": "https://localhost:8080/",
          "height": 35
        },
        "outputId": "d6dba19f-9b26-4f5c-d194-d833ca4fea88"
      },
      "cell_type": "code",
      "source": [
        "print(X_validation.shape, Y_valid.shape)"
      ],
      "execution_count": 44,
      "outputs": [
        {
          "output_type": "stream",
          "text": [
            "(3589, 48, 48, 1) (3589, 7)\n"
          ],
          "name": "stdout"
        }
      ]
    },
    {
      "metadata": {
        "id": "GpkHLbumbdvX",
        "colab_type": "code",
        "colab": {}
      },
      "cell_type": "code",
      "source": [
        "# Clear memory\n",
        "del data\n",
        "del data_train\n",
        "del public_test\n",
        "del private_test\n",
        "del Y_validation"
      ],
      "execution_count": 0,
      "outputs": []
    },
    {
      "metadata": {
        "id": "00cI1F-aSFhF",
        "colab_type": "text"
      },
      "cell_type": "markdown",
      "source": [
        "## CNN Models\n",
        "Taking 3 - 4 models for ensemble voting"
      ]
    },
    {
      "metadata": {
        "id": "3o79vhYEYKiI",
        "colab_type": "code",
        "colab": {}
      },
      "cell_type": "code",
      "source": [
        "from keras.models import Sequential\n",
        "from keras.layers import Dense, Dropout, Activation, Flatten\n",
        "from keras.layers import Conv2D, MaxPooling2D, BatchNormalization, AveragePooling2D\n",
        "from keras.losses import categorical_crossentropy\n",
        "from keras.optimizers import Adam, Adamax\n",
        "from keras.callbacks import ReduceLROnPlateau, TensorBoard, EarlyStopping, ModelCheckpoint\n",
        "from keras.models import load_model\n",
        "from keras.regularizers import l2"
      ],
      "execution_count": 0,
      "outputs": []
    },
    {
      "metadata": {
        "id": "S_M_Ig2oSLY1",
        "colab_type": "text"
      },
      "cell_type": "markdown",
      "source": [
        "### 1-Basic 5 layer model"
      ]
    },
    {
      "metadata": {
        "id": "eKGfnDEiSNlh",
        "colab_type": "code",
        "colab": {}
      },
      "cell_type": "code",
      "source": [
        "num_features = 64\n",
        "num_labels = 7\n",
        "batch_size = 64\n",
        "epochs = 100\n",
        "input_shape = (48, 48, 1)"
      ],
      "execution_count": 0,
      "outputs": []
    },
    {
      "metadata": {
        "id": "_aM9YHvESPbQ",
        "colab_type": "code",
        "colab": {}
      },
      "cell_type": "code",
      "source": [
        "def Model1(input_shape=(48,48,1)):\n",
        "  model = Sequential()\n",
        "  \n",
        "  model.add(Conv2D(num_features, kernel_size=(3, 3), activation='relu', input_shape=input_shape, data_format='channels_last', kernel_regularizer=l2(0.01)))\n",
        "  model.add(Conv2D(num_features, kernel_size=(3, 3), activation='relu', padding='same'))\n",
        "  model.add(BatchNormalization())\n",
        "  model.add(MaxPooling2D(pool_size=(2, 2), strides=(2, 2)))\n",
        "  model.add(Dropout(0.5))\n",
        "\n",
        "  model.add(Conv2D(2*num_features, kernel_size=(3, 3), activation='relu', padding='same'))\n",
        "  model.add(BatchNormalization())\n",
        "  model.add(Conv2D(2*num_features, kernel_size=(3, 3), activation='relu', padding='same'))\n",
        "  model.add(BatchNormalization())\n",
        "  model.add(MaxPooling2D(pool_size=(2, 2), strides=(2, 2)))\n",
        "  model.add(Dropout(0.5))\n",
        "\n",
        "  model.add(Conv2D(2*2*num_features, kernel_size=(3, 3), activation='relu', padding='same'))\n",
        "  model.add(BatchNormalization())\n",
        "  model.add(Conv2D(2*2*num_features, kernel_size=(3, 3), activation='relu', padding='same'))\n",
        "  model.add(BatchNormalization())\n",
        "  model.add(MaxPooling2D(pool_size=(2, 2), strides=(2, 2)))\n",
        "  model.add(Dropout(0.5))\n",
        "\n",
        "  model.add(Conv2D(2*2*2*num_features, kernel_size=(3, 3), activation='relu', padding='same'))\n",
        "  model.add(BatchNormalization())\n",
        "  model.add(Conv2D(2*2*2*num_features, kernel_size=(3, 3), activation='relu', padding='same'))\n",
        "  model.add(BatchNormalization())\n",
        "  model.add(MaxPooling2D(pool_size=(2, 2), strides=(2, 2)))\n",
        "  model.add(Dropout(0.5))\n",
        "\n",
        "  model.add(Flatten())\n",
        "\n",
        "  model.add(Dense(2*2*2*num_features, activation='relu'))\n",
        "  model.add(Dropout(0.4))\n",
        "  model.add(Dense(2*2*num_features, activation='relu'))\n",
        "  model.add(Dropout(0.4))\n",
        "  model.add(Dense(2*num_features, activation='relu'))\n",
        "  model.add(Dropout(0.5))\n",
        "\n",
        "  model.add(Dense(num_labels, activation='softmax'))\n",
        "  return model"
      ],
      "execution_count": 0,
      "outputs": []
    },
    {
      "metadata": {
        "id": "zI99IQASU6t-",
        "colab_type": "code",
        "colab": {
          "base_uri": "https://localhost:8080/",
          "height": 1213
        },
        "outputId": "4c2062d6-96e4-459a-e5d6-ffcb7a3c1213"
      },
      "cell_type": "code",
      "source": [
        "model1 = Model1()\n",
        "model1.summary()"
      ],
      "execution_count": 40,
      "outputs": [
        {
          "output_type": "stream",
          "text": [
            "_________________________________________________________________\n",
            "Layer (type)                 Output Shape              Param #   \n",
            "=================================================================\n",
            "conv2d_1 (Conv2D)            (None, 46, 46, 64)        640       \n",
            "_________________________________________________________________\n",
            "conv2d_2 (Conv2D)            (None, 46, 46, 64)        36928     \n",
            "_________________________________________________________________\n",
            "batch_normalization_1 (Batch (None, 46, 46, 64)        256       \n",
            "_________________________________________________________________\n",
            "max_pooling2d_1 (MaxPooling2 (None, 23, 23, 64)        0         \n",
            "_________________________________________________________________\n",
            "dropout_1 (Dropout)          (None, 23, 23, 64)        0         \n",
            "_________________________________________________________________\n",
            "conv2d_3 (Conv2D)            (None, 23, 23, 128)       73856     \n",
            "_________________________________________________________________\n",
            "batch_normalization_2 (Batch (None, 23, 23, 128)       512       \n",
            "_________________________________________________________________\n",
            "conv2d_4 (Conv2D)            (None, 23, 23, 128)       147584    \n",
            "_________________________________________________________________\n",
            "batch_normalization_3 (Batch (None, 23, 23, 128)       512       \n",
            "_________________________________________________________________\n",
            "max_pooling2d_2 (MaxPooling2 (None, 11, 11, 128)       0         \n",
            "_________________________________________________________________\n",
            "dropout_2 (Dropout)          (None, 11, 11, 128)       0         \n",
            "_________________________________________________________________\n",
            "conv2d_5 (Conv2D)            (None, 11, 11, 256)       295168    \n",
            "_________________________________________________________________\n",
            "batch_normalization_4 (Batch (None, 11, 11, 256)       1024      \n",
            "_________________________________________________________________\n",
            "conv2d_6 (Conv2D)            (None, 11, 11, 256)       590080    \n",
            "_________________________________________________________________\n",
            "batch_normalization_5 (Batch (None, 11, 11, 256)       1024      \n",
            "_________________________________________________________________\n",
            "max_pooling2d_3 (MaxPooling2 (None, 5, 5, 256)         0         \n",
            "_________________________________________________________________\n",
            "dropout_3 (Dropout)          (None, 5, 5, 256)         0         \n",
            "_________________________________________________________________\n",
            "conv2d_7 (Conv2D)            (None, 5, 5, 512)         1180160   \n",
            "_________________________________________________________________\n",
            "batch_normalization_6 (Batch (None, 5, 5, 512)         2048      \n",
            "_________________________________________________________________\n",
            "conv2d_8 (Conv2D)            (None, 5, 5, 512)         2359808   \n",
            "_________________________________________________________________\n",
            "batch_normalization_7 (Batch (None, 5, 5, 512)         2048      \n",
            "_________________________________________________________________\n",
            "max_pooling2d_4 (MaxPooling2 (None, 2, 2, 512)         0         \n",
            "_________________________________________________________________\n",
            "dropout_4 (Dropout)          (None, 2, 2, 512)         0         \n",
            "_________________________________________________________________\n",
            "flatten_1 (Flatten)          (None, 2048)              0         \n",
            "_________________________________________________________________\n",
            "dense_1 (Dense)              (None, 512)               1049088   \n",
            "_________________________________________________________________\n",
            "dropout_5 (Dropout)          (None, 512)               0         \n",
            "_________________________________________________________________\n",
            "dense_2 (Dense)              (None, 256)               131328    \n",
            "_________________________________________________________________\n",
            "dropout_6 (Dropout)          (None, 256)               0         \n",
            "_________________________________________________________________\n",
            "dense_3 (Dense)              (None, 128)               32896     \n",
            "_________________________________________________________________\n",
            "dropout_7 (Dropout)          (None, 128)               0         \n",
            "_________________________________________________________________\n",
            "dense_4 (Dense)              (None, 7)                 903       \n",
            "=================================================================\n",
            "Total params: 5,905,863\n",
            "Trainable params: 5,902,151\n",
            "Non-trainable params: 3,712\n",
            "_________________________________________________________________\n"
          ],
          "name": "stdout"
        }
      ]
    },
    {
      "metadata": {
        "id": "8piOth2iZGjD",
        "colab_type": "code",
        "colab": {}
      },
      "cell_type": "code",
      "source": [
        "model1.compile(loss=categorical_crossentropy,\n",
        "              optimizer=Adam(lr=0.001, beta_1=0.9, beta_2=0.999, epsilon=1e-7),\n",
        "              metrics=['accuracy'])"
      ],
      "execution_count": 0,
      "outputs": []
    },
    {
      "metadata": {
        "id": "8U4Oe6R5d95Y",
        "colab_type": "code",
        "colab": {}
      },
      "cell_type": "code",
      "source": [
        "lr_reducer = ReduceLROnPlateau(monitor='val_loss', factor=0.9, patience=3, verbose=1)\n",
        "tensorboard = TensorBoard(log_dir='./logs')\n",
        "early_stopper = EarlyStopping(monitor='val_loss', min_delta=0, patience=8, verbose=1, mode='auto')\n",
        "checkpointer = ModelCheckpoint(\"/drive\", monitor='val_loss', verbose=1, save_best_only=True)"
      ],
      "execution_count": 0,
      "outputs": []
    },
    {
      "metadata": {
        "id": "QjWde_EayatC",
        "colab_type": "code",
        "colab": {}
      },
      "cell_type": "code",
      "source": [
        "model1.load_weights(\"drive/face_expr_model1.h5\")"
      ],
      "execution_count": 0,
      "outputs": []
    },
    {
      "metadata": {
        "id": "C3ganIoqepJ_",
        "colab_type": "code",
        "colab": {
          "base_uri": "https://localhost:8080/",
          "height": 991
        },
        "outputId": "a6cce23b-a54d-483a-9ba1-85a650ff6e31"
      },
      "cell_type": "code",
      "source": [
        "model1.fit(X_train,Y_train,\n",
        "          batch_size=batch_size,\n",
        "          epochs=300,\n",
        "          verbose=1,\n",
        "          validation_data=(X_validation, Y_valid),\n",
        "          shuffle=True,\n",
        "          callbacks=[lr_reducer, early_stopper, tensorboard, checkpointer])"
      ],
      "execution_count": 47,
      "outputs": [
        {
          "output_type": "stream",
          "text": [
            "Train on 57418 samples, validate on 3589 samples\n",
            "Epoch 1/300\n",
            "43840/57418 [=====================>........] - ETA: 27s - loss: 0.3085 - acc: 0.8987"
          ],
          "name": "stdout"
        },
        {
          "output_type": "stream",
          "text": [
            "57418/57418 [==============================] - 120s 2ms/step - loss: 0.3182 - acc: 0.8963 - val_loss: 1.2731 - val_acc: 0.6709\n",
            "\n",
            "Epoch 00001: val_loss improved from inf to 1.27313, saving model to /drive\n",
            "Epoch 2/300\n",
            "17408/57418 [========>.....................] - ETA: 1:19 - loss: 0.3355 - acc: 0.8915"
          ],
          "name": "stdout"
        },
        {
          "output_type": "stream",
          "text": [
            "57418/57418 [==============================] - 117s 2ms/step - loss: 0.3466 - acc: 0.8868 - val_loss: 1.2974 - val_acc: 0.6489\n",
            "\n",
            "Epoch 00002: val_loss did not improve from 1.27313\n",
            "Epoch 3/300\n",
            "10944/57418 [====>.........................] - ETA: 1:32 - loss: 0.3368 - acc: 0.8865"
          ],
          "name": "stdout"
        },
        {
          "output_type": "stream",
          "text": [
            "57418/57418 [==============================] - 117s 2ms/step - loss: 0.3456 - acc: 0.8844 - val_loss: 1.3302 - val_acc: 0.6559\n",
            "\n",
            "Epoch 00003: val_loss did not improve from 1.27313\n",
            "Epoch 4/300\n",
            " 8896/57418 [===>..........................] - ETA: 1:36 - loss: 0.3441 - acc: 0.8853"
          ],
          "name": "stdout"
        },
        {
          "output_type": "stream",
          "text": [
            "57418/57418 [==============================] - 117s 2ms/step - loss: 0.3552 - acc: 0.8833 - val_loss: 1.2190 - val_acc: 0.6620\n",
            "\n",
            "Epoch 00004: val_loss improved from 1.27313 to 1.21900, saving model to /drive\n",
            "Epoch 5/300\n",
            " 7488/57418 [==>...........................] - ETA: 1:40 - loss: 0.3480 - acc: 0.8868"
          ],
          "name": "stdout"
        },
        {
          "output_type": "stream",
          "text": [
            "57418/57418 [==============================] - 117s 2ms/step - loss: 0.3649 - acc: 0.8793 - val_loss: 1.3062 - val_acc: 0.6601\n",
            "\n",
            "Epoch 00005: val_loss did not improve from 1.21900\n",
            "Epoch 6/300\n",
            " 7872/57418 [===>..........................] - ETA: 1:39 - loss: 0.4933 - acc: 0.8368"
          ],
          "name": "stdout"
        },
        {
          "output_type": "stream",
          "text": [
            "57418/57418 [==============================] - 117s 2ms/step - loss: 0.3878 - acc: 0.8713 - val_loss: 1.2542 - val_acc: 0.6704\n",
            "\n",
            "Epoch 00006: val_loss did not improve from 1.21900\n",
            "Epoch 7/300\n",
            " 8000/57418 [===>..........................] - ETA: 1:38 - loss: 0.3756 - acc: 0.8776"
          ],
          "name": "stdout"
        },
        {
          "output_type": "stream",
          "text": [
            "57418/57418 [==============================] - 117s 2ms/step - loss: 0.3630 - acc: 0.8800 - val_loss: 1.3386 - val_acc: 0.6592\n",
            "\n",
            "Epoch 00007: ReduceLROnPlateau reducing learning rate to 0.0009000000427477062.\n",
            "\n",
            "Epoch 00007: val_loss did not improve from 1.21900\n",
            "Epoch 8/300\n",
            " 6144/57418 [==>...........................] - ETA: 1:42 - loss: 0.4050 - acc: 0.8674"
          ],
          "name": "stdout"
        },
        {
          "output_type": "stream",
          "text": [
            "57418/57418 [==============================] - 117s 2ms/step - loss: 0.3581 - acc: 0.8812 - val_loss: 1.2405 - val_acc: 0.6634\n",
            "\n",
            "Epoch 00008: val_loss did not improve from 1.21900\n",
            "Epoch 9/300\n",
            " 7424/57418 [==>...........................] - ETA: 1:40 - loss: 0.3625 - acc: 0.8836"
          ],
          "name": "stdout"
        },
        {
          "output_type": "stream",
          "text": [
            "57418/57418 [==============================] - 117s 2ms/step - loss: 0.3454 - acc: 0.8872 - val_loss: 1.2977 - val_acc: 0.6565\n",
            "\n",
            "Epoch 00009: val_loss did not improve from 1.21900\n",
            "Epoch 10/300\n",
            " 7808/57418 [===>..........................] - ETA: 1:39 - loss: 0.3410 - acc: 0.8922"
          ],
          "name": "stdout"
        },
        {
          "output_type": "stream",
          "text": [
            "57418/57418 [==============================] - 117s 2ms/step - loss: 0.3412 - acc: 0.8890 - val_loss: 1.3018 - val_acc: 0.6581\n",
            "\n",
            "Epoch 00010: ReduceLROnPlateau reducing learning rate to 0.0008100000384729356.\n",
            "\n",
            "Epoch 00010: val_loss did not improve from 1.21900\n",
            "Epoch 11/300\n",
            " 6144/57418 [==>...........................] - ETA: 1:42 - loss: 0.3206 - acc: 0.8910"
          ],
          "name": "stdout"
        },
        {
          "output_type": "stream",
          "text": [
            "57418/57418 [==============================] - 117s 2ms/step - loss: 0.3303 - acc: 0.8903 - val_loss: 1.2574 - val_acc: 0.6665\n",
            "\n",
            "Epoch 00011: val_loss did not improve from 1.21900\n",
            "Epoch 12/300\n",
            " 7424/57418 [==>...........................] - ETA: 1:40 - loss: 0.3074 - acc: 0.8994"
          ],
          "name": "stdout"
        },
        {
          "output_type": "stream",
          "text": [
            "57418/57418 [==============================] - 117s 2ms/step - loss: 0.3177 - acc: 0.8942 - val_loss: 1.3263 - val_acc: 0.6701\n",
            "\n",
            "Epoch 00012: val_loss did not improve from 1.21900\n",
            "Epoch 00012: early stopping\n"
          ],
          "name": "stdout"
        },
        {
          "output_type": "execute_result",
          "data": {
            "text/plain": [
              "<keras.callbacks.History at 0x7f0a489375f8>"
            ]
          },
          "metadata": {
            "tags": []
          },
          "execution_count": 47
        }
      ]
    },
    {
      "metadata": {
        "id": "rXNlohhle1zS",
        "colab_type": "code",
        "colab": {}
      },
      "cell_type": "code",
      "source": [
        "model1.save_weights(\"drive/face_expr_model1.h5\")"
      ],
      "execution_count": 0,
      "outputs": []
    },
    {
      "metadata": {
        "id": "sLtAOTy6wMeA",
        "colab_type": "code",
        "colab": {
          "base_uri": "https://localhost:8080/",
          "height": 52
        },
        "outputId": "2be9da0a-8a77-4cf1-efda-275a9d9e0aa5"
      },
      "cell_type": "code",
      "source": [
        "model1.evaluate(X_test, Y_test, batch_size=batch_size)"
      ],
      "execution_count": 39,
      "outputs": [
        {
          "output_type": "stream",
          "text": [
            "3589/3589 [==============================] - 4s 1ms/step\n"
          ],
          "name": "stdout"
        },
        {
          "output_type": "execute_result",
          "data": {
            "text/plain": [
              "[1.3717110114995734, 0.670660351081026]"
            ]
          },
          "metadata": {
            "tags": []
          },
          "execution_count": 39
        }
      ]
    },
    {
      "metadata": {
        "id": "mmSMPa3hfV9r",
        "colab_type": "code",
        "colab": {}
      },
      "cell_type": "code",
      "source": [
        "model1_2 = Model1()"
      ],
      "execution_count": 0,
      "outputs": []
    },
    {
      "metadata": {
        "id": "ncSw76CFD7QW",
        "colab_type": "code",
        "colab": {}
      },
      "cell_type": "code",
      "source": [
        "from keras.preprocessing.image import ImageDataGenerator\n",
        "gen = ImageDataGenerator(horizontal_flip=True,\n",
        "                        vertical_flip=True)\n",
        "train_generator_1 = gen.flow(X_train, Y_train, batch_size=batch_size)\n",
        " \n",
        "model1_2.compile(loss=categorical_crossentropy\n",
        ", optimizer=Adam(lr=0.0001, beta_1=0.9, beta_2=0.999, epsilon=1e-7)\n",
        ", metrics=['accuracy']\n",
        ")\n",
        " "
      ],
      "execution_count": 0,
      "outputs": []
    },
    {
      "metadata": {
        "id": "rotCS-ZtJcBO",
        "colab_type": "code",
        "colab": {}
      },
      "cell_type": "code",
      "source": [
        "model1_2.load_weights(\"drive/face_expr_model1_2.h5\")"
      ],
      "execution_count": 0,
      "outputs": []
    },
    {
      "metadata": {
        "id": "M5hTjiarEnCo",
        "colab_type": "code",
        "colab": {
          "base_uri": "https://localhost:8080/",
          "height": 10455
        },
        "outputId": "6630b156-ff29-4421-a1cb-b0f147515257"
      },
      "cell_type": "code",
      "source": [
        "model1_2.fit_generator(train_generator_1, steps_per_epoch=50, epochs=300)"
      ],
      "execution_count": 128,
      "outputs": [
        {
          "output_type": "stream",
          "text": [
            "Epoch 1/300\n",
            "50/50 [==============================] - 6s 129ms/step - loss: 0.7288 - acc: 0.7403\n",
            "Epoch 2/300\n",
            "50/50 [==============================] - 6s 130ms/step - loss: 0.7266 - acc: 0.7422\n",
            "Epoch 3/300\n",
            "50/50 [==============================] - 7s 130ms/step - loss: 0.7050 - acc: 0.7494\n",
            "Epoch 4/300\n",
            "50/50 [==============================] - 6s 129ms/step - loss: 0.7082 - acc: 0.7441\n",
            "Epoch 5/300\n",
            "50/50 [==============================] - 6s 130ms/step - loss: 0.6933 - acc: 0.7562\n",
            "Epoch 6/300\n",
            "49/50 [============================>.] - ETA: 0s - loss: 0.7191 - acc: 0.7392"
          ],
          "name": "stdout"
        },
        {
          "output_type": "stream",
          "text": [
            "\b\b\b\b\b\b\b\b\b\b\b\b\b\b\b\b\b\b\b\b\b\b\b\b\b\b\b\b\b\b\b\b\b\b\b\b\b\b\b\b\b\b\b\b\b\b\b\b\b\b\b\b\b\b\b\b\b\b\b\b\b\b\b\b\b\b\b\b\b\b\b\b\b\b\b\b\b\r50/50 [==============================] - 6s 130ms/step - loss: 0.7149 - acc: 0.7419\n",
            "Epoch 7/300\n",
            "50/50 [==============================] - 6s 129ms/step - loss: 0.7051 - acc: 0.7478\n",
            "Epoch 8/300\n",
            "50/50 [==============================] - 7s 130ms/step - loss: 0.7328 - acc: 0.7381\n",
            "Epoch 9/300\n",
            "50/50 [==============================] - 6s 129ms/step - loss: 0.7043 - acc: 0.7562\n",
            "Epoch 10/300\n",
            "50/50 [==============================] - 6s 130ms/step - loss: 0.7610 - acc: 0.7316\n",
            "Epoch 11/300\n",
            "29/50 [================>.............] - ETA: 2s - loss: 0.7043 - acc: 0.7570"
          ],
          "name": "stdout"
        },
        {
          "output_type": "stream",
          "text": [
            "50/50 [==============================] - 7s 131ms/step - loss: 0.7217 - acc: 0.7519\n",
            "Epoch 12/300\n",
            "50/50 [==============================] - 7s 130ms/step - loss: 0.7337 - acc: 0.7519\n",
            "Epoch 13/300\n",
            "50/50 [==============================] - 7s 131ms/step - loss: 0.6854 - acc: 0.7556\n",
            "Epoch 14/300\n",
            "50/50 [==============================] - 7s 130ms/step - loss: 0.7102 - acc: 0.7612\n",
            "Epoch 15/300\n",
            "50/50 [==============================] - 7s 131ms/step - loss: 0.6921 - acc: 0.7603\n",
            "Epoch 16/300\n",
            "50/50 [==============================] - 7s 130ms/step - loss: 0.7817 - acc: 0.7244\n",
            "Epoch 17/300\n",
            " 6/50 [==>...........................] - ETA: 5s - loss: 0.6949 - acc: 0.7708"
          ],
          "name": "stdout"
        },
        {
          "output_type": "stream",
          "text": [
            "50/50 [==============================] - 6s 130ms/step - loss: 0.6954 - acc: 0.7550\n",
            "Epoch 18/300\n",
            "50/50 [==============================] - 6s 129ms/step - loss: 0.7357 - acc: 0.7428\n",
            "Epoch 19/300\n",
            "50/50 [==============================] - 7s 130ms/step - loss: 0.6979 - acc: 0.7431\n",
            "Epoch 20/300\n",
            "50/50 [==============================] - 6s 130ms/step - loss: 0.7041 - acc: 0.7516\n",
            "Epoch 21/300\n",
            "50/50 [==============================] - 7s 130ms/step - loss: 0.7343 - acc: 0.7447\n",
            "Epoch 22/300\n",
            "50/50 [==============================] - 6s 130ms/step - loss: 0.7057 - acc: 0.7569\n",
            "Epoch 23/300\n",
            " 3/50 [>.............................] - ETA: 6s - loss: 0.5399 - acc: 0.8229"
          ],
          "name": "stdout"
        },
        {
          "output_type": "stream",
          "text": [
            "50/50 [==============================] - 6s 130ms/step - loss: 0.7134 - acc: 0.7491\n",
            "Epoch 24/300\n",
            "50/50 [==============================] - 7s 130ms/step - loss: 0.7311 - acc: 0.7453\n",
            "Epoch 25/300\n",
            "50/50 [==============================] - 6s 130ms/step - loss: 0.7004 - acc: 0.7528\n",
            "Epoch 26/300\n",
            "50/50 [==============================] - 6s 129ms/step - loss: 0.6944 - acc: 0.7556\n",
            "Epoch 27/300\n",
            "50/50 [==============================] - 6s 129ms/step - loss: 0.6915 - acc: 0.7525\n",
            "Epoch 28/300\n",
            "50/50 [==============================] - 6s 130ms/step - loss: 0.7341 - acc: 0.7394\n",
            "Epoch 29/300\n",
            " 3/50 [>.............................] - ETA: 6s - loss: 0.7076 - acc: 0.7396"
          ],
          "name": "stdout"
        },
        {
          "output_type": "stream",
          "text": [
            "50/50 [==============================] - 6s 130ms/step - loss: 0.7019 - acc: 0.7550\n",
            "Epoch 30/300\n",
            "50/50 [==============================] - 7s 130ms/step - loss: 0.7397 - acc: 0.7378\n",
            "Epoch 31/300\n",
            "50/50 [==============================] - 7s 130ms/step - loss: 0.7214 - acc: 0.7419\n",
            "Epoch 32/300\n",
            "50/50 [==============================] - 6s 130ms/step - loss: 0.6928 - acc: 0.7584\n",
            "Epoch 33/300\n",
            "50/50 [==============================] - 6s 129ms/step - loss: 0.7086 - acc: 0.7509\n",
            "Epoch 34/300\n",
            "50/50 [==============================] - 6s 130ms/step - loss: 0.6945 - acc: 0.7537\n",
            "Epoch 35/300\n",
            " 3/50 [>.............................] - ETA: 6s - loss: 0.5888 - acc: 0.7969"
          ],
          "name": "stdout"
        },
        {
          "output_type": "stream",
          "text": [
            "50/50 [==============================] - 6s 130ms/step - loss: 0.7198 - acc: 0.7403\n",
            "Epoch 36/300\n",
            "50/50 [==============================] - 6s 129ms/step - loss: 0.7187 - acc: 0.7438\n",
            "Epoch 37/300\n",
            "50/50 [==============================] - 6s 129ms/step - loss: 0.7097 - acc: 0.7522\n",
            "Epoch 38/300\n",
            "50/50 [==============================] - 7s 130ms/step - loss: 0.7180 - acc: 0.7544\n",
            "Epoch 39/300\n",
            "50/50 [==============================] - 6s 130ms/step - loss: 0.6946 - acc: 0.7553\n",
            "Epoch 40/300\n",
            "50/50 [==============================] - 6s 130ms/step - loss: 0.6936 - acc: 0.7606\n",
            "Epoch 41/300\n",
            " 3/50 [>.............................] - ETA: 6s - loss: 0.7224 - acc: 0.7344"
          ],
          "name": "stdout"
        },
        {
          "output_type": "stream",
          "text": [
            "50/50 [==============================] - 6s 129ms/step - loss: 0.7047 - acc: 0.7419\n",
            "Epoch 42/300\n",
            "50/50 [==============================] - 6s 129ms/step - loss: 0.7134 - acc: 0.7556\n",
            "Epoch 43/300\n",
            "50/50 [==============================] - 6s 130ms/step - loss: 0.7018 - acc: 0.7572\n",
            "Epoch 44/300\n",
            "50/50 [==============================] - 6s 130ms/step - loss: 0.7245 - acc: 0.7438\n",
            "Epoch 45/300\n",
            "50/50 [==============================] - 6s 129ms/step - loss: 0.7308 - acc: 0.7466\n",
            "Epoch 46/300\n",
            "50/50 [==============================] - 6s 129ms/step - loss: 0.7115 - acc: 0.7441\n",
            "Epoch 47/300\n",
            " 3/50 [>.............................] - ETA: 6s - loss: 0.6285 - acc: 0.7812"
          ],
          "name": "stdout"
        },
        {
          "output_type": "stream",
          "text": [
            "50/50 [==============================] - 6s 129ms/step - loss: 0.6955 - acc: 0.7619\n",
            "Epoch 48/300\n",
            "50/50 [==============================] - 6s 129ms/step - loss: 0.7203 - acc: 0.7388\n",
            "Epoch 49/300\n",
            "50/50 [==============================] - 6s 129ms/step - loss: 0.7143 - acc: 0.7574\n",
            "Epoch 50/300\n",
            "50/50 [==============================] - 6s 129ms/step - loss: 0.7226 - acc: 0.7509\n",
            "Epoch 51/300\n",
            "50/50 [==============================] - 7s 130ms/step - loss: 0.7088 - acc: 0.7525\n",
            "Epoch 52/300\n",
            "50/50 [==============================] - 6s 130ms/step - loss: 0.7260 - acc: 0.7344\n",
            "Epoch 53/300\n",
            " 2/50 [>.............................] - ETA: 6s - loss: 0.6845 - acc: 0.7578"
          ],
          "name": "stdout"
        },
        {
          "output_type": "stream",
          "text": [
            "50/50 [==============================] - 6s 130ms/step - loss: 0.7352 - acc: 0.7425\n",
            "Epoch 54/300\n",
            "50/50 [==============================] - 6s 129ms/step - loss: 0.7083 - acc: 0.7516\n",
            "Epoch 55/300\n",
            "50/50 [==============================] - 6s 130ms/step - loss: 0.6926 - acc: 0.7600\n",
            "Epoch 56/300\n",
            "50/50 [==============================] - 6s 130ms/step - loss: 0.7096 - acc: 0.7516\n",
            "Epoch 57/300\n",
            "50/50 [==============================] - 7s 130ms/step - loss: 0.7233 - acc: 0.7409\n",
            "Epoch 58/300\n",
            "50/50 [==============================] - 6s 130ms/step - loss: 0.7180 - acc: 0.7481\n",
            "Epoch 59/300\n",
            " 3/50 [>.............................] - ETA: 6s - loss: 0.6166 - acc: 0.7604"
          ],
          "name": "stdout"
        },
        {
          "output_type": "stream",
          "text": [
            "50/50 [==============================] - 6s 129ms/step - loss: 0.6780 - acc: 0.7550\n",
            "Epoch 60/300\n",
            "50/50 [==============================] - 6s 130ms/step - loss: 0.7098 - acc: 0.7581\n",
            "Epoch 61/300\n",
            "50/50 [==============================] - 6s 130ms/step - loss: 0.6893 - acc: 0.7572\n",
            "Epoch 62/300\n",
            "50/50 [==============================] - 7s 130ms/step - loss: 0.6828 - acc: 0.7575\n",
            "Epoch 63/300\n",
            "50/50 [==============================] - 6s 128ms/step - loss: 0.7129 - acc: 0.7470\n",
            "Epoch 64/300\n",
            "50/50 [==============================] - 6s 129ms/step - loss: 0.7035 - acc: 0.7519\n",
            "Epoch 65/300\n",
            " 3/50 [>.............................] - ETA: 6s - loss: 0.7209 - acc: 0.7500"
          ],
          "name": "stdout"
        },
        {
          "output_type": "stream",
          "text": [
            "50/50 [==============================] - 6s 130ms/step - loss: 0.6989 - acc: 0.7456\n",
            "Epoch 66/300\n",
            "50/50 [==============================] - 7s 130ms/step - loss: 0.6935 - acc: 0.7641\n",
            "Epoch 67/300\n",
            "50/50 [==============================] - 6s 130ms/step - loss: 0.6933 - acc: 0.7531\n",
            "Epoch 68/300\n",
            "50/50 [==============================] - 6s 130ms/step - loss: 0.7384 - acc: 0.7397\n",
            "Epoch 69/300\n",
            "50/50 [==============================] - 6s 129ms/step - loss: 0.7125 - acc: 0.7447\n",
            "Epoch 70/300\n",
            "50/50 [==============================] - 6s 129ms/step - loss: 0.7259 - acc: 0.7325\n",
            "Epoch 71/300\n",
            " 3/50 [>.............................] - ETA: 5s - loss: 0.8495 - acc: 0.6927"
          ],
          "name": "stdout"
        },
        {
          "output_type": "stream",
          "text": [
            "50/50 [==============================] - 6s 130ms/step - loss: 0.7092 - acc: 0.7456\n",
            "Epoch 72/300\n",
            "50/50 [==============================] - 6s 129ms/step - loss: 0.6753 - acc: 0.7553\n",
            "Epoch 73/300\n",
            "50/50 [==============================] - 6s 129ms/step - loss: 0.6994 - acc: 0.7522\n",
            "Epoch 74/300\n",
            "50/50 [==============================] - 6s 129ms/step - loss: 0.6858 - acc: 0.7591\n",
            "Epoch 75/300\n",
            "50/50 [==============================] - 7s 131ms/step - loss: 0.6835 - acc: 0.7547\n",
            "Epoch 76/300\n",
            "50/50 [==============================] - 7s 131ms/step - loss: 0.6957 - acc: 0.7522\n",
            "Epoch 77/300\n",
            " 3/50 [>.............................] - ETA: 6s - loss: 0.6618 - acc: 0.7760"
          ],
          "name": "stdout"
        },
        {
          "output_type": "stream",
          "text": [
            "50/50 [==============================] - 6s 129ms/step - loss: 0.7262 - acc: 0.7408\n",
            "Epoch 78/300\n",
            "50/50 [==============================] - 6s 129ms/step - loss: 0.7021 - acc: 0.7466\n",
            "Epoch 79/300\n",
            "50/50 [==============================] - 6s 129ms/step - loss: 0.7176 - acc: 0.7444\n",
            "Epoch 80/300\n",
            "50/50 [==============================] - 6s 129ms/step - loss: 0.7125 - acc: 0.7512\n",
            "Epoch 81/300\n",
            "50/50 [==============================] - 7s 130ms/step - loss: 0.7316 - acc: 0.7450\n",
            "Epoch 82/300\n",
            "50/50 [==============================] - 6s 130ms/step - loss: 0.7187 - acc: 0.7438\n",
            "Epoch 83/300\n",
            " 3/50 [>.............................] - ETA: 5s - loss: 0.6543 - acc: 0.7604"
          ],
          "name": "stdout"
        },
        {
          "output_type": "stream",
          "text": [
            "50/50 [==============================] - 6s 130ms/step - loss: 0.6898 - acc: 0.7659\n",
            "Epoch 84/300\n",
            "50/50 [==============================] - 6s 129ms/step - loss: 0.6918 - acc: 0.7550\n",
            "Epoch 85/300\n",
            "50/50 [==============================] - 6s 130ms/step - loss: 0.7479 - acc: 0.7388\n",
            "Epoch 86/300\n",
            "50/50 [==============================] - 6s 130ms/step - loss: 0.6934 - acc: 0.7575\n",
            "Epoch 87/300\n",
            "50/50 [==============================] - 6s 130ms/step - loss: 0.7085 - acc: 0.7544\n",
            "Epoch 88/300\n",
            "50/50 [==============================] - 6s 130ms/step - loss: 0.6984 - acc: 0.7503\n",
            "Epoch 89/300\n",
            " 3/50 [>.............................] - ETA: 5s - loss: 0.5903 - acc: 0.7865"
          ],
          "name": "stdout"
        },
        {
          "output_type": "stream",
          "text": [
            "50/50 [==============================] - 6s 128ms/step - loss: 0.7339 - acc: 0.7322\n",
            "Epoch 90/300\n",
            "50/50 [==============================] - 6s 129ms/step - loss: 0.7216 - acc: 0.7556\n",
            "Epoch 91/300\n",
            "50/50 [==============================] - 6s 128ms/step - loss: 0.7083 - acc: 0.7488\n",
            "Epoch 92/300\n",
            "50/50 [==============================] - 6s 129ms/step - loss: 0.7015 - acc: 0.7441\n",
            "Epoch 93/300\n",
            "50/50 [==============================] - 6s 130ms/step - loss: 0.6746 - acc: 0.7469\n",
            "Epoch 94/300\n",
            "50/50 [==============================] - 6s 129ms/step - loss: 0.6822 - acc: 0.7625\n",
            "Epoch 95/300\n",
            " 3/50 [>.............................] - ETA: 6s - loss: 0.7391 - acc: 0.7240"
          ],
          "name": "stdout"
        },
        {
          "output_type": "stream",
          "text": [
            "50/50 [==============================] - 6s 129ms/step - loss: 0.6972 - acc: 0.7478\n",
            "Epoch 96/300\n",
            "50/50 [==============================] - 6s 130ms/step - loss: 0.6983 - acc: 0.7506\n",
            "Epoch 97/300\n",
            "50/50 [==============================] - 6s 130ms/step - loss: 0.7107 - acc: 0.7534\n",
            "Epoch 98/300\n",
            "50/50 [==============================] - 6s 129ms/step - loss: 0.7015 - acc: 0.7406\n",
            "Epoch 99/300\n",
            "50/50 [==============================] - 6s 129ms/step - loss: 0.7065 - acc: 0.7544\n",
            "Epoch 100/300\n",
            "50/50 [==============================] - 6s 129ms/step - loss: 0.7067 - acc: 0.7425\n",
            "Epoch 101/300\n",
            " 3/50 [>.............................] - ETA: 6s - loss: 0.6428 - acc: 0.7760"
          ],
          "name": "stdout"
        },
        {
          "output_type": "stream",
          "text": [
            "50/50 [==============================] - 6s 129ms/step - loss: 0.6836 - acc: 0.7619\n",
            "Epoch 102/300\n",
            "50/50 [==============================] - 7s 130ms/step - loss: 0.6800 - acc: 0.7594\n",
            "Epoch 103/300\n",
            "50/50 [==============================] - 6s 129ms/step - loss: 0.6816 - acc: 0.7663\n",
            "Epoch 104/300\n",
            "50/50 [==============================] - 6s 130ms/step - loss: 0.6873 - acc: 0.7600\n",
            "Epoch 105/300\n",
            "50/50 [==============================] - 6s 130ms/step - loss: 0.7099 - acc: 0.7531\n",
            "Epoch 106/300\n",
            "50/50 [==============================] - 6s 129ms/step - loss: 0.6757 - acc: 0.7497\n",
            "Epoch 107/300\n",
            " 2/50 [>.............................] - ETA: 6s - loss: 0.7980 - acc: 0.7578"
          ],
          "name": "stdout"
        },
        {
          "output_type": "stream",
          "text": [
            "50/50 [==============================] - 6s 129ms/step - loss: 0.6954 - acc: 0.7572\n",
            "Epoch 108/300\n",
            "50/50 [==============================] - 6s 130ms/step - loss: 0.7138 - acc: 0.7531\n",
            "Epoch 109/300\n",
            "50/50 [==============================] - 6s 129ms/step - loss: 0.6790 - acc: 0.7566\n",
            "Epoch 110/300\n",
            "50/50 [==============================] - 6s 130ms/step - loss: 0.7008 - acc: 0.7506\n",
            "Epoch 111/300\n",
            "50/50 [==============================] - 6s 130ms/step - loss: 0.7284 - acc: 0.7403\n",
            "Epoch 112/300\n",
            "50/50 [==============================] - 6s 130ms/step - loss: 0.6934 - acc: 0.7606\n",
            "Epoch 113/300\n",
            " 2/50 [>.............................] - ETA: 6s - loss: 0.6570 - acc: 0.7656"
          ],
          "name": "stdout"
        },
        {
          "output_type": "stream",
          "text": [
            "50/50 [==============================] - 7s 130ms/step - loss: 0.7090 - acc: 0.7497\n",
            "Epoch 114/300\n",
            "50/50 [==============================] - 6s 130ms/step - loss: 0.7105 - acc: 0.7566\n",
            "Epoch 115/300\n",
            "50/50 [==============================] - 6s 130ms/step - loss: 0.6978 - acc: 0.7537\n",
            "Epoch 116/300\n",
            "50/50 [==============================] - 6s 130ms/step - loss: 0.6810 - acc: 0.7669\n",
            "Epoch 117/300\n",
            "50/50 [==============================] - 6s 130ms/step - loss: 0.6893 - acc: 0.7597\n",
            "Epoch 118/300\n",
            "50/50 [==============================] - 6s 129ms/step - loss: 0.6860 - acc: 0.7641\n",
            "Epoch 119/300\n",
            " 2/50 [>.............................] - ETA: 6s - loss: 0.6612 - acc: 0.7500"
          ],
          "name": "stdout"
        },
        {
          "output_type": "stream",
          "text": [
            "50/50 [==============================] - 6s 129ms/step - loss: 0.7135 - acc: 0.7458\n",
            "Epoch 120/300\n",
            "50/50 [==============================] - 7s 130ms/step - loss: 0.6788 - acc: 0.7556\n",
            "Epoch 121/300\n",
            "50/50 [==============================] - 6s 130ms/step - loss: 0.7012 - acc: 0.7556\n",
            "Epoch 122/300\n",
            "50/50 [==============================] - 6s 130ms/step - loss: 0.7269 - acc: 0.7453\n",
            "Epoch 123/300\n",
            "50/50 [==============================] - 6s 130ms/step - loss: 0.6911 - acc: 0.7566\n",
            "Epoch 124/300\n",
            "50/50 [==============================] - 6s 129ms/step - loss: 0.7096 - acc: 0.7503\n",
            "Epoch 125/300\n",
            " 2/50 [>.............................] - ETA: 6s - loss: 0.7765 - acc: 0.7812"
          ],
          "name": "stdout"
        },
        {
          "output_type": "stream",
          "text": [
            "50/50 [==============================] - 6s 129ms/step - loss: 0.6935 - acc: 0.7566\n",
            "Epoch 126/300\n",
            "50/50 [==============================] - 6s 129ms/step - loss: 0.7087 - acc: 0.7503\n",
            "Epoch 127/300\n",
            "50/50 [==============================] - 7s 130ms/step - loss: 0.6724 - acc: 0.7678\n",
            "Epoch 128/300\n",
            "50/50 [==============================] - 6s 130ms/step - loss: 0.6781 - acc: 0.7641\n",
            "Epoch 129/300\n",
            "50/50 [==============================] - 6s 130ms/step - loss: 0.7074 - acc: 0.7531\n",
            "Epoch 130/300\n",
            "50/50 [==============================] - 6s 130ms/step - loss: 0.6803 - acc: 0.7575\n",
            "Epoch 131/300\n",
            " 2/50 [>.............................] - ETA: 6s - loss: 0.6496 - acc: 0.7344"
          ],
          "name": "stdout"
        },
        {
          "output_type": "stream",
          "text": [
            "50/50 [==============================] - 6s 130ms/step - loss: 0.6817 - acc: 0.7547\n",
            "Epoch 132/300\n",
            "50/50 [==============================] - 7s 130ms/step - loss: 0.6892 - acc: 0.7531\n",
            "Epoch 133/300\n",
            "50/50 [==============================] - 6s 129ms/step - loss: 0.6998 - acc: 0.7622\n",
            "Epoch 134/300\n",
            "50/50 [==============================] - 6s 129ms/step - loss: 0.6965 - acc: 0.7478\n",
            "Epoch 135/300\n",
            "50/50 [==============================] - 6s 128ms/step - loss: 0.7056 - acc: 0.7493\n",
            "Epoch 136/300\n",
            "50/50 [==============================] - 6s 129ms/step - loss: 0.7066 - acc: 0.7488\n",
            "Epoch 137/300\n",
            " 2/50 [>.............................] - ETA: 6s - loss: 0.8224 - acc: 0.7344"
          ],
          "name": "stdout"
        },
        {
          "output_type": "stream",
          "text": [
            "50/50 [==============================] - 6s 129ms/step - loss: 0.6957 - acc: 0.7516\n",
            "Epoch 138/300\n",
            "50/50 [==============================] - 6s 129ms/step - loss: 0.7069 - acc: 0.7503\n",
            "Epoch 139/300\n",
            "50/50 [==============================] - 7s 130ms/step - loss: 0.6755 - acc: 0.7628\n",
            "Epoch 140/300\n",
            "50/50 [==============================] - 6s 129ms/step - loss: 0.7167 - acc: 0.7488\n",
            "Epoch 141/300\n",
            "50/50 [==============================] - 6s 130ms/step - loss: 0.7006 - acc: 0.7509\n",
            "Epoch 142/300\n",
            "50/50 [==============================] - 7s 130ms/step - loss: 0.6831 - acc: 0.7603\n",
            "Epoch 143/300\n",
            " 2/50 [>.............................] - ETA: 6s - loss: 0.6064 - acc: 0.7734"
          ],
          "name": "stdout"
        },
        {
          "output_type": "stream",
          "text": [
            "50/50 [==============================] - 6s 130ms/step - loss: 0.6514 - acc: 0.7762\n",
            "Epoch 144/300\n",
            "50/50 [==============================] - 6s 130ms/step - loss: 0.7162 - acc: 0.7481\n",
            "Epoch 145/300\n",
            "50/50 [==============================] - 6s 130ms/step - loss: 0.7063 - acc: 0.7478\n",
            "Epoch 146/300\n",
            "50/50 [==============================] - 6s 130ms/step - loss: 0.6561 - acc: 0.7678\n",
            "Epoch 147/300\n",
            "50/50 [==============================] - 7s 130ms/step - loss: 0.6936 - acc: 0.7584\n",
            "Epoch 148/300\n",
            "50/50 [==============================] - 6s 128ms/step - loss: 0.6927 - acc: 0.7578\n",
            "Epoch 149/300\n",
            " 2/50 [>.............................] - ETA: 6s - loss: 0.8255 - acc: 0.6953"
          ],
          "name": "stdout"
        },
        {
          "output_type": "stream",
          "text": [
            "50/50 [==============================] - 7s 130ms/step - loss: 0.7345 - acc: 0.7425\n",
            "Epoch 150/300\n",
            "50/50 [==============================] - 7s 130ms/step - loss: 0.6935 - acc: 0.7581\n",
            "Epoch 151/300\n",
            "50/50 [==============================] - 7s 130ms/step - loss: 0.6964 - acc: 0.7506\n",
            "Epoch 152/300\n",
            "50/50 [==============================] - 6s 129ms/step - loss: 0.6714 - acc: 0.7628\n",
            "Epoch 153/300\n",
            "50/50 [==============================] - 6s 130ms/step - loss: 0.6737 - acc: 0.7672\n",
            "Epoch 154/300\n",
            "50/50 [==============================] - 7s 130ms/step - loss: 0.7234 - acc: 0.7412\n",
            "Epoch 155/300\n",
            " 2/50 [>.............................] - ETA: 6s - loss: 0.7827 - acc: 0.7188"
          ],
          "name": "stdout"
        },
        {
          "output_type": "stream",
          "text": [
            "50/50 [==============================] - 6s 130ms/step - loss: 0.6878 - acc: 0.7556\n",
            "Epoch 156/300\n",
            "50/50 [==============================] - 6s 129ms/step - loss: 0.6870 - acc: 0.7575\n",
            "Epoch 157/300\n",
            "50/50 [==============================] - 6s 129ms/step - loss: 0.6966 - acc: 0.7516\n",
            "Epoch 158/300\n",
            "50/50 [==============================] - 6s 129ms/step - loss: 0.6912 - acc: 0.7556\n",
            "Epoch 159/300\n",
            "50/50 [==============================] - 7s 130ms/step - loss: 0.6946 - acc: 0.7516\n",
            "Epoch 160/300\n",
            "50/50 [==============================] - 7s 130ms/step - loss: 0.7192 - acc: 0.7456\n",
            "Epoch 161/300\n",
            " 2/50 [>.............................] - ETA: 6s - loss: 0.6234 - acc: 0.8047"
          ],
          "name": "stdout"
        },
        {
          "output_type": "stream",
          "text": [
            "50/50 [==============================] - 6s 130ms/step - loss: 0.6830 - acc: 0.7703\n",
            "Epoch 162/300\n",
            "50/50 [==============================] - 6s 130ms/step - loss: 0.7104 - acc: 0.7494\n",
            "Epoch 163/300\n",
            "50/50 [==============================] - 6s 129ms/step - loss: 0.6528 - acc: 0.7747\n",
            "Epoch 164/300\n",
            "50/50 [==============================] - 6s 130ms/step - loss: 0.7057 - acc: 0.7537\n",
            "Epoch 165/300\n",
            "50/50 [==============================] - 7s 130ms/step - loss: 0.6817 - acc: 0.7647\n",
            "Epoch 166/300\n",
            "50/50 [==============================] - 7s 130ms/step - loss: 0.6780 - acc: 0.7678\n",
            "Epoch 167/300\n",
            " 2/50 [>.............................] - ETA: 6s - loss: 0.5558 - acc: 0.8047"
          ],
          "name": "stdout"
        },
        {
          "output_type": "stream",
          "text": [
            "50/50 [==============================] - 7s 130ms/step - loss: 0.6593 - acc: 0.7741\n",
            "Epoch 168/300\n",
            "50/50 [==============================] - 6s 129ms/step - loss: 0.6856 - acc: 0.7600\n",
            "Epoch 169/300\n",
            "50/50 [==============================] - 7s 130ms/step - loss: 0.6852 - acc: 0.7578\n",
            "Epoch 170/300\n",
            "50/50 [==============================] - 6s 129ms/step - loss: 0.6960 - acc: 0.7543\n",
            "Epoch 171/300\n",
            "50/50 [==============================] - 6s 129ms/step - loss: 0.7078 - acc: 0.7672\n",
            "Epoch 172/300\n",
            "50/50 [==============================] - 6s 129ms/step - loss: 0.7269 - acc: 0.7453\n",
            "Epoch 173/300\n",
            " 2/50 [>.............................] - ETA: 6s - loss: 0.6959 - acc: 0.7656"
          ],
          "name": "stdout"
        },
        {
          "output_type": "stream",
          "text": [
            "50/50 [==============================] - 6s 130ms/step - loss: 0.6941 - acc: 0.7609\n",
            "Epoch 174/300\n",
            "50/50 [==============================] - 6s 129ms/step - loss: 0.7056 - acc: 0.7581\n",
            "Epoch 175/300\n",
            "50/50 [==============================] - 6s 129ms/step - loss: 0.6633 - acc: 0.7653\n",
            "Epoch 176/300\n",
            "50/50 [==============================] - 7s 130ms/step - loss: 0.6944 - acc: 0.7544\n",
            "Epoch 177/300\n",
            "50/50 [==============================] - 6s 130ms/step - loss: 0.6554 - acc: 0.7647\n",
            "Epoch 178/300\n",
            "50/50 [==============================] - 6s 129ms/step - loss: 0.6990 - acc: 0.7491\n",
            "Epoch 179/300\n",
            " 2/50 [>.............................] - ETA: 6s - loss: 0.6825 - acc: 0.7500"
          ],
          "name": "stdout"
        },
        {
          "output_type": "stream",
          "text": [
            "50/50 [==============================] - 6s 130ms/step - loss: 0.6879 - acc: 0.7678\n",
            "Epoch 180/300\n",
            "50/50 [==============================] - 6s 129ms/step - loss: 0.7078 - acc: 0.7384\n",
            "Epoch 181/300\n",
            "50/50 [==============================] - 6s 130ms/step - loss: 0.6752 - acc: 0.7578\n",
            "Epoch 182/300\n",
            "50/50 [==============================] - 7s 130ms/step - loss: 0.6658 - acc: 0.7700\n",
            "Epoch 183/300\n",
            "50/50 [==============================] - 6s 129ms/step - loss: 0.7266 - acc: 0.7422\n",
            "Epoch 184/300\n",
            "50/50 [==============================] - 6s 129ms/step - loss: 0.7186 - acc: 0.7469\n",
            "Epoch 185/300\n",
            " 2/50 [>.............................] - ETA: 6s - loss: 0.6405 - acc: 0.7812"
          ],
          "name": "stdout"
        },
        {
          "output_type": "stream",
          "text": [
            "50/50 [==============================] - 6s 130ms/step - loss: 0.6753 - acc: 0.7650\n",
            "Epoch 186/300\n",
            "50/50 [==============================] - 7s 130ms/step - loss: 0.6480 - acc: 0.7788\n",
            "Epoch 187/300\n",
            "50/50 [==============================] - 6s 129ms/step - loss: 0.6725 - acc: 0.7609\n",
            "Epoch 188/300\n",
            "50/50 [==============================] - 6s 129ms/step - loss: 0.7031 - acc: 0.7534\n",
            "Epoch 189/300\n",
            "50/50 [==============================] - 6s 130ms/step - loss: 0.7081 - acc: 0.7488\n",
            "Epoch 190/300\n",
            "50/50 [==============================] - 6s 130ms/step - loss: 0.6674 - acc: 0.7594\n",
            "Epoch 191/300\n",
            " 2/50 [>.............................] - ETA: 6s - loss: 0.5037 - acc: 0.8203"
          ],
          "name": "stdout"
        },
        {
          "output_type": "stream",
          "text": [
            "50/50 [==============================] - 6s 130ms/step - loss: 0.6731 - acc: 0.7691\n",
            "Epoch 192/300\n",
            "50/50 [==============================] - 6s 130ms/step - loss: 0.6840 - acc: 0.7594\n",
            "Epoch 193/300\n",
            "50/50 [==============================] - 6s 129ms/step - loss: 0.6893 - acc: 0.7559\n",
            "Epoch 194/300\n",
            "50/50 [==============================] - 6s 129ms/step - loss: 0.6775 - acc: 0.7631\n",
            "Epoch 195/300\n",
            "50/50 [==============================] - 6s 130ms/step - loss: 0.6911 - acc: 0.7616\n",
            "Epoch 196/300\n",
            "50/50 [==============================] - 6s 130ms/step - loss: 0.7178 - acc: 0.7412\n",
            "Epoch 197/300\n",
            " 2/50 [>.............................] - ETA: 6s - loss: 0.8722 - acc: 0.6797"
          ],
          "name": "stdout"
        },
        {
          "output_type": "stream",
          "text": [
            "50/50 [==============================] - 7s 131ms/step - loss: 0.7274 - acc: 0.7472\n",
            "Epoch 198/300\n",
            "50/50 [==============================] - 6s 128ms/step - loss: 0.6985 - acc: 0.7550\n",
            "Epoch 199/300\n",
            "50/50 [==============================] - 6s 130ms/step - loss: 0.6965 - acc: 0.7591\n",
            "Epoch 200/300\n",
            "50/50 [==============================] - 6s 130ms/step - loss: 0.6866 - acc: 0.7575\n",
            "Epoch 201/300\n",
            "50/50 [==============================] - 7s 130ms/step - loss: 0.7016 - acc: 0.7619\n",
            "Epoch 202/300\n",
            "50/50 [==============================] - 6s 130ms/step - loss: 0.6838 - acc: 0.7644\n",
            "Epoch 203/300\n",
            " 2/50 [>.............................] - ETA: 6s - loss: 0.5994 - acc: 0.8281"
          ],
          "name": "stdout"
        },
        {
          "output_type": "stream",
          "text": [
            "50/50 [==============================] - 6s 129ms/step - loss: 0.6688 - acc: 0.7562\n",
            "Epoch 204/300\n",
            "50/50 [==============================] - 7s 130ms/step - loss: 0.6787 - acc: 0.7641\n",
            "Epoch 205/300\n",
            "50/50 [==============================] - 6s 130ms/step - loss: 0.7234 - acc: 0.7544\n",
            "Epoch 206/300\n",
            "50/50 [==============================] - 7s 130ms/step - loss: 0.6599 - acc: 0.7716\n",
            "Epoch 207/300\n",
            "50/50 [==============================] - 6s 129ms/step - loss: 0.6733 - acc: 0.7675\n",
            "Epoch 208/300\n",
            "50/50 [==============================] - 6s 129ms/step - loss: 0.6833 - acc: 0.7612\n",
            "Epoch 209/300\n",
            " 2/50 [>.............................] - ETA: 6s - loss: 0.7058 - acc: 0.7344"
          ],
          "name": "stdout"
        },
        {
          "output_type": "stream",
          "text": [
            "50/50 [==============================] - 6s 130ms/step - loss: 0.7076 - acc: 0.7472\n",
            "Epoch 210/300\n",
            "50/50 [==============================] - 6s 130ms/step - loss: 0.6898 - acc: 0.7625\n",
            "Epoch 211/300\n",
            "50/50 [==============================] - 7s 130ms/step - loss: 0.6833 - acc: 0.7603\n",
            "Epoch 212/300\n",
            "50/50 [==============================] - 6s 130ms/step - loss: 0.6694 - acc: 0.7628\n",
            "Epoch 213/300\n",
            "50/50 [==============================] - 6s 130ms/step - loss: 0.7144 - acc: 0.7453\n",
            "Epoch 214/300\n",
            "50/50 [==============================] - 6s 129ms/step - loss: 0.6885 - acc: 0.7662\n",
            "Epoch 215/300\n",
            " 2/50 [>.............................] - ETA: 6s - loss: 0.6513 - acc: 0.7812"
          ],
          "name": "stdout"
        },
        {
          "output_type": "stream",
          "text": [
            "50/50 [==============================] - 6s 130ms/step - loss: 0.6545 - acc: 0.7706\n",
            "Epoch 216/300\n",
            "50/50 [==============================] - 6s 130ms/step - loss: 0.7068 - acc: 0.7562\n",
            "Epoch 217/300\n",
            "50/50 [==============================] - 6s 129ms/step - loss: 0.7128 - acc: 0.7472\n",
            "Epoch 218/300\n",
            "50/50 [==============================] - 6s 129ms/step - loss: 0.6734 - acc: 0.7747\n",
            "Epoch 219/300\n",
            "50/50 [==============================] - 6s 129ms/step - loss: 0.6947 - acc: 0.7600\n",
            "Epoch 220/300\n",
            "50/50 [==============================] - 6s 130ms/step - loss: 0.6289 - acc: 0.7875\n",
            "Epoch 221/300\n",
            " 2/50 [>.............................] - ETA: 6s - loss: 0.7123 - acc: 0.7422"
          ],
          "name": "stdout"
        },
        {
          "output_type": "stream",
          "text": [
            "50/50 [==============================] - 6s 129ms/step - loss: 0.6679 - acc: 0.7616\n",
            "Epoch 222/300\n",
            "50/50 [==============================] - 6s 129ms/step - loss: 0.6995 - acc: 0.7562\n",
            "Epoch 223/300\n",
            "50/50 [==============================] - 6s 130ms/step - loss: 0.7041 - acc: 0.7525\n",
            "Epoch 224/300\n",
            "50/50 [==============================] - 6s 130ms/step - loss: 0.6915 - acc: 0.7522\n",
            "Epoch 225/300\n",
            "50/50 [==============================] - 7s 130ms/step - loss: 0.7130 - acc: 0.7466\n",
            "Epoch 226/300\n",
            "50/50 [==============================] - 6s 129ms/step - loss: 0.6733 - acc: 0.7616\n",
            "Epoch 227/300\n",
            " 2/50 [>.............................] - ETA: 6s - loss: 0.7525 - acc: 0.7344"
          ],
          "name": "stdout"
        },
        {
          "output_type": "stream",
          "text": [
            "50/50 [==============================] - 6s 130ms/step - loss: 0.7018 - acc: 0.7553\n",
            "Epoch 228/300\n",
            "50/50 [==============================] - 6s 129ms/step - loss: 0.7109 - acc: 0.7534\n",
            "Epoch 229/300\n",
            "50/50 [==============================] - 6s 128ms/step - loss: 0.6754 - acc: 0.7657\n",
            "Epoch 230/300\n",
            "50/50 [==============================] - 6s 130ms/step - loss: 0.6808 - acc: 0.7628\n",
            "Epoch 231/300\n",
            "50/50 [==============================] - 6s 130ms/step - loss: 0.7007 - acc: 0.7578\n",
            "Epoch 232/300\n",
            "50/50 [==============================] - 7s 130ms/step - loss: 0.6730 - acc: 0.7572\n",
            "Epoch 233/300\n",
            " 2/50 [>.............................] - ETA: 6s - loss: 0.8166 - acc: 0.7344"
          ],
          "name": "stdout"
        },
        {
          "output_type": "stream",
          "text": [
            "50/50 [==============================] - 6s 130ms/step - loss: 0.6849 - acc: 0.7681\n",
            "Epoch 234/300\n",
            "50/50 [==============================] - 6s 129ms/step - loss: 0.6998 - acc: 0.7547\n",
            "Epoch 235/300\n",
            "50/50 [==============================] - 6s 130ms/step - loss: 0.6645 - acc: 0.7722\n",
            "Epoch 236/300\n",
            "50/50 [==============================] - 6s 130ms/step - loss: 0.6670 - acc: 0.7638\n",
            "Epoch 237/300\n",
            "50/50 [==============================] - 6s 130ms/step - loss: 0.6838 - acc: 0.7553\n",
            "Epoch 238/300\n",
            "50/50 [==============================] - 6s 129ms/step - loss: 0.6803 - acc: 0.7584\n",
            "Epoch 239/300\n",
            " 2/50 [>.............................] - ETA: 6s - loss: 0.6038 - acc: 0.8125"
          ],
          "name": "stdout"
        },
        {
          "output_type": "stream",
          "text": [
            "50/50 [==============================] - 6s 130ms/step - loss: 0.6581 - acc: 0.7537\n",
            "Epoch 240/300\n",
            "50/50 [==============================] - 7s 130ms/step - loss: 0.7015 - acc: 0.7594\n",
            "Epoch 241/300\n",
            "50/50 [==============================] - 6s 130ms/step - loss: 0.6701 - acc: 0.7594\n",
            "Epoch 242/300\n",
            "50/50 [==============================] - 6s 130ms/step - loss: 0.6823 - acc: 0.7619\n",
            "Epoch 243/300\n",
            "50/50 [==============================] - 7s 131ms/step - loss: 0.6657 - acc: 0.7666\n",
            "Epoch 244/300\n",
            "50/50 [==============================] - 6s 129ms/step - loss: 0.7264 - acc: 0.7516\n",
            "Epoch 245/300\n",
            " 2/50 [>.............................] - ETA: 6s - loss: 0.7990 - acc: 0.6875"
          ],
          "name": "stdout"
        },
        {
          "output_type": "stream",
          "text": [
            "50/50 [==============================] - 6s 128ms/step - loss: 0.6897 - acc: 0.7519\n",
            "Epoch 246/300\n",
            "50/50 [==============================] - 6s 129ms/step - loss: 0.7163 - acc: 0.7591\n",
            "Epoch 247/300\n",
            "50/50 [==============================] - 6s 129ms/step - loss: 0.6993 - acc: 0.7609\n",
            "Epoch 248/300\n",
            "50/50 [==============================] - 6s 129ms/step - loss: 0.7250 - acc: 0.7456\n",
            "Epoch 249/300\n",
            "50/50 [==============================] - 6s 129ms/step - loss: 0.6787 - acc: 0.7578\n",
            "Epoch 250/300\n",
            "50/50 [==============================] - 6s 129ms/step - loss: 0.6633 - acc: 0.7656\n",
            "Epoch 251/300\n",
            " 2/50 [>.............................] - ETA: 6s - loss: 0.7197 - acc: 0.7734"
          ],
          "name": "stdout"
        },
        {
          "output_type": "stream",
          "text": [
            "50/50 [==============================] - 7s 130ms/step - loss: 0.6924 - acc: 0.7581\n",
            "Epoch 252/300\n",
            "50/50 [==============================] - 6s 130ms/step - loss: 0.6779 - acc: 0.7609\n",
            "Epoch 253/300\n",
            "50/50 [==============================] - 6s 128ms/step - loss: 0.6926 - acc: 0.7530\n",
            "Epoch 254/300\n",
            "50/50 [==============================] - 6s 130ms/step - loss: 0.6500 - acc: 0.7719\n",
            "Epoch 255/300\n",
            "50/50 [==============================] - 6s 129ms/step - loss: 0.6577 - acc: 0.7738\n",
            "Epoch 256/300\n",
            "50/50 [==============================] - 6s 130ms/step - loss: 0.6960 - acc: 0.7506\n",
            "Epoch 257/300\n",
            " 2/50 [>.............................] - ETA: 6s - loss: 0.5554 - acc: 0.8281"
          ],
          "name": "stdout"
        },
        {
          "output_type": "stream",
          "text": [
            "50/50 [==============================] - 6s 129ms/step - loss: 0.6381 - acc: 0.7656\n",
            "Epoch 258/300\n",
            "50/50 [==============================] - 6s 129ms/step - loss: 0.6951 - acc: 0.7494\n",
            "Epoch 259/300\n",
            "50/50 [==============================] - 6s 130ms/step - loss: 0.6507 - acc: 0.7784\n",
            "Epoch 260/300\n",
            "50/50 [==============================] - 7s 130ms/step - loss: 0.6915 - acc: 0.7506\n",
            "Epoch 261/300\n",
            "50/50 [==============================] - 7s 130ms/step - loss: 0.6821 - acc: 0.7716\n",
            "Epoch 262/300\n",
            "50/50 [==============================] - 6s 130ms/step - loss: 0.6626 - acc: 0.7638\n",
            "Epoch 263/300\n",
            " 2/50 [>.............................] - ETA: 6s - loss: 0.7265 - acc: 0.7188"
          ],
          "name": "stdout"
        },
        {
          "output_type": "stream",
          "text": [
            "50/50 [==============================] - 7s 130ms/step - loss: 0.6690 - acc: 0.7625\n",
            "Epoch 264/300\n",
            "50/50 [==============================] - 6s 130ms/step - loss: 0.6938 - acc: 0.7662\n",
            "Epoch 265/300\n",
            "50/50 [==============================] - 7s 130ms/step - loss: 0.6949 - acc: 0.7619\n",
            "Epoch 266/300\n",
            "50/50 [==============================] - 6s 130ms/step - loss: 0.6477 - acc: 0.7650\n",
            "Epoch 267/300\n",
            "50/50 [==============================] - 7s 130ms/step - loss: 0.6829 - acc: 0.7672\n",
            "Epoch 268/300\n",
            "50/50 [==============================] - 6s 129ms/step - loss: 0.6934 - acc: 0.7512\n",
            "Epoch 269/300\n",
            " 2/50 [>.............................] - ETA: 6s - loss: 0.7118 - acc: 0.7422"
          ],
          "name": "stdout"
        },
        {
          "output_type": "stream",
          "text": [
            "50/50 [==============================] - 6s 129ms/step - loss: 0.6644 - acc: 0.7634\n",
            "Epoch 270/300\n",
            "50/50 [==============================] - 6s 130ms/step - loss: 0.7114 - acc: 0.7559\n",
            "Epoch 271/300\n",
            "50/50 [==============================] - 6s 130ms/step - loss: 0.6573 - acc: 0.7753\n",
            "Epoch 272/300\n",
            "50/50 [==============================] - 6s 128ms/step - loss: 0.6602 - acc: 0.7697\n",
            "Epoch 273/300\n",
            "50/50 [==============================] - 6s 129ms/step - loss: 0.6712 - acc: 0.7656\n",
            "Epoch 274/300\n",
            "50/50 [==============================] - 7s 131ms/step - loss: 0.6934 - acc: 0.7578\n",
            "Epoch 275/300\n",
            " 2/50 [>.............................] - ETA: 6s - loss: 0.5740 - acc: 0.7969"
          ],
          "name": "stdout"
        },
        {
          "output_type": "stream",
          "text": [
            "50/50 [==============================] - 7s 130ms/step - loss: 0.6730 - acc: 0.7687\n",
            "Epoch 276/300\n",
            "50/50 [==============================] - 6s 130ms/step - loss: 0.6976 - acc: 0.7512\n",
            "Epoch 277/300\n",
            "50/50 [==============================] - 6s 130ms/step - loss: 0.6871 - acc: 0.7609\n",
            "Epoch 278/300\n",
            "50/50 [==============================] - 7s 130ms/step - loss: 0.6680 - acc: 0.7659\n",
            "Epoch 279/300\n",
            "50/50 [==============================] - 6s 130ms/step - loss: 0.6573 - acc: 0.7712\n",
            "Epoch 280/300\n",
            "50/50 [==============================] - 7s 130ms/step - loss: 0.6883 - acc: 0.7544\n",
            "Epoch 281/300\n",
            " 2/50 [>.............................] - ETA: 6s - loss: 0.5736 - acc: 0.8047"
          ],
          "name": "stdout"
        },
        {
          "output_type": "stream",
          "text": [
            "50/50 [==============================] - 7s 130ms/step - loss: 0.6510 - acc: 0.7656\n",
            "Epoch 282/300\n",
            "50/50 [==============================] - 6s 130ms/step - loss: 0.6755 - acc: 0.7744\n",
            "Epoch 283/300\n",
            "50/50 [==============================] - 6s 130ms/step - loss: 0.6563 - acc: 0.7747\n",
            "Epoch 284/300\n",
            "50/50 [==============================] - 6s 130ms/step - loss: 0.6819 - acc: 0.7594\n",
            "Epoch 285/300\n",
            "50/50 [==============================] - 6s 129ms/step - loss: 0.6759 - acc: 0.7594\n",
            "Epoch 286/300\n",
            "50/50 [==============================] - 6s 129ms/step - loss: 0.6792 - acc: 0.7597\n",
            "Epoch 287/300\n",
            " 2/50 [>.............................] - ETA: 6s - loss: 0.7662 - acc: 0.7734"
          ],
          "name": "stdout"
        },
        {
          "output_type": "stream",
          "text": [
            "50/50 [==============================] - 6s 130ms/step - loss: 0.6642 - acc: 0.7703\n",
            "Epoch 288/300\n",
            "50/50 [==============================] - 6s 129ms/step - loss: 0.6751 - acc: 0.7684\n",
            "Epoch 289/300\n",
            "50/50 [==============================] - 7s 130ms/step - loss: 0.6652 - acc: 0.7759\n",
            "Epoch 290/300\n",
            "50/50 [==============================] - 7s 130ms/step - loss: 0.6958 - acc: 0.7553\n",
            "Epoch 291/300\n",
            "50/50 [==============================] - 6s 129ms/step - loss: 0.6535 - acc: 0.7675\n",
            "Epoch 292/300\n",
            "50/50 [==============================] - 6s 129ms/step - loss: 0.7036 - acc: 0.7588\n",
            "Epoch 293/300\n",
            " 2/50 [>.............................] - ETA: 6s - loss: 0.6579 - acc: 0.7422"
          ],
          "name": "stdout"
        },
        {
          "output_type": "stream",
          "text": [
            "50/50 [==============================] - 6s 130ms/step - loss: 0.6814 - acc: 0.7594\n",
            "Epoch 294/300\n",
            "50/50 [==============================] - 6s 130ms/step - loss: 0.6749 - acc: 0.7597\n",
            "Epoch 295/300\n",
            "50/50 [==============================] - 6s 129ms/step - loss: 0.6738 - acc: 0.7559\n",
            "Epoch 296/300\n",
            "50/50 [==============================] - 6s 129ms/step - loss: 0.6391 - acc: 0.7744\n",
            "Epoch 297/300\n",
            "50/50 [==============================] - 6s 130ms/step - loss: 0.6736 - acc: 0.7597\n",
            "Epoch 298/300\n",
            "50/50 [==============================] - 6s 129ms/step - loss: 0.6613 - acc: 0.7703\n",
            "Epoch 299/300\n",
            " 2/50 [>.............................] - ETA: 6s - loss: 0.7904 - acc: 0.7500"
          ],
          "name": "stdout"
        },
        {
          "output_type": "stream",
          "text": [
            "50/50 [==============================] - 6s 130ms/step - loss: 0.6898 - acc: 0.7625\n",
            "Epoch 300/300\n",
            "50/50 [==============================] - 6s 130ms/step - loss: 0.6731 - acc: 0.7566\n"
          ],
          "name": "stdout"
        },
        {
          "output_type": "execute_result",
          "data": {
            "text/plain": [
              "<keras.callbacks.History at 0x7f5e3ea4f198>"
            ]
          },
          "metadata": {
            "tags": []
          },
          "execution_count": 128
        }
      ]
    },
    {
      "metadata": {
        "id": "YjWGZALYrXWl",
        "colab_type": "code",
        "colab": {}
      },
      "cell_type": "code",
      "source": [
        "model1_2.save(\"drive/face_expr_model1_2.h5\")"
      ],
      "execution_count": 0,
      "outputs": []
    },
    {
      "metadata": {
        "id": "xEg5Pvgarfuq",
        "colab_type": "code",
        "colab": {
          "base_uri": "https://localhost:8080/",
          "height": 52
        },
        "outputId": "4e088032-318d-4d04-b265-9dbe4c4ef280"
      },
      "cell_type": "code",
      "source": [
        "model1_2.evaluate(X_validation, Y_valid, batch_size=64)"
      ],
      "execution_count": 43,
      "outputs": [
        {
          "output_type": "stream",
          "text": [
            "3589/3589 [==============================] - 3s 728us/step\n"
          ],
          "name": "stdout"
        },
        {
          "output_type": "execute_result",
          "data": {
            "text/plain": [
              "[1.0729217210265047, 0.6595151853215964]"
            ]
          },
          "metadata": {
            "tags": []
          },
          "execution_count": 43
        }
      ]
    },
    {
      "metadata": {
        "id": "aYA-f0zNlcsn",
        "colab_type": "text"
      },
      "cell_type": "markdown",
      "source": [
        "### 2- Model2 - https://arxiv.org/pdf/1706.01509"
      ]
    },
    {
      "metadata": {
        "id": "cWN5Pq1-lgi5",
        "colab_type": "code",
        "colab": {}
      },
      "cell_type": "code",
      "source": [
        "def Model2(input_shape=(48,48,1)):\n",
        "  model = Sequential()\n",
        "  model.add(Conv2D(10, (5,5), activation='relu', kernel_regularizer=l2(0.01), input_shape=input_shape))\n",
        "  model.add(MaxPooling2D())\n",
        "#   model.add(Dropout(0.5))\n",
        "  model.add(Conv2D(10, (5,5), activation='relu'))\n",
        "  model.add(MaxPooling2D())\n",
        "#   model.add(Dropout(0.5))\n",
        "  model.add(Conv2D(10, (3,3), activation='relu'))\n",
        "  model.add(MaxPooling2D()) \n",
        "#   model.add(Dropout(0.5))\n",
        "\n",
        "  model.add(Flatten())\n",
        "\n",
        "  model.add(Dense(256, activation='relu'))\n",
        "  model.add(Dropout(0.2))\n",
        "  model.add(Dense(128, activation='relu'))\n",
        "  model.add(Dropout(0.2))\n",
        "  model.add(Dense(num_labels, activation='softmax'))\n",
        "  return model\n",
        "\n",
        "# TODO - replace "
      ],
      "execution_count": 0,
      "outputs": []
    },
    {
      "metadata": {
        "id": "39oaxtDKxcCq",
        "colab_type": "code",
        "colab": {
          "base_uri": "https://localhost:8080/",
          "height": 555
        },
        "outputId": "25aa5dd1-f86c-477d-d733-a9df35a1e764"
      },
      "cell_type": "code",
      "source": [
        "model2 = Model2()\n",
        "model2.summary()"
      ],
      "execution_count": 45,
      "outputs": [
        {
          "output_type": "stream",
          "text": [
            "_________________________________________________________________\n",
            "Layer (type)                 Output Shape              Param #   \n",
            "=================================================================\n",
            "conv2d_17 (Conv2D)           (None, 44, 44, 10)        260       \n",
            "_________________________________________________________________\n",
            "max_pooling2d_9 (MaxPooling2 (None, 22, 22, 10)        0         \n",
            "_________________________________________________________________\n",
            "conv2d_18 (Conv2D)           (None, 18, 18, 10)        2510      \n",
            "_________________________________________________________________\n",
            "max_pooling2d_10 (MaxPooling (None, 9, 9, 10)          0         \n",
            "_________________________________________________________________\n",
            "conv2d_19 (Conv2D)           (None, 7, 7, 10)          910       \n",
            "_________________________________________________________________\n",
            "max_pooling2d_11 (MaxPooling (None, 3, 3, 10)          0         \n",
            "_________________________________________________________________\n",
            "flatten_3 (Flatten)          (None, 90)                0         \n",
            "_________________________________________________________________\n",
            "dense_9 (Dense)              (None, 256)               23296     \n",
            "_________________________________________________________________\n",
            "dropout_15 (Dropout)         (None, 256)               0         \n",
            "_________________________________________________________________\n",
            "dense_10 (Dense)             (None, 128)               32896     \n",
            "_________________________________________________________________\n",
            "dropout_16 (Dropout)         (None, 128)               0         \n",
            "_________________________________________________________________\n",
            "dense_11 (Dense)             (None, 7)                 903       \n",
            "=================================================================\n",
            "Total params: 60,775\n",
            "Trainable params: 60,775\n",
            "Non-trainable params: 0\n",
            "_________________________________________________________________\n"
          ],
          "name": "stdout"
        }
      ]
    },
    {
      "metadata": {
        "id": "zpHBq76n6hJk",
        "colab_type": "code",
        "colab": {}
      },
      "cell_type": "code",
      "source": [
        "lr_reducer2 = ReduceLROnPlateau(monitor='val_loss', factor=0.9, patience=3, verbose=1)\n",
        "tensorboard2 = TensorBoard(log_dir='./logs')\n",
        "early_stopper2 = EarlyStopping(monitor='val_loss', min_delta=0, patience=8, verbose=1, mode='auto')\n",
        "checkpointer2 = ModelCheckpoint(\"/drive\", monitor='val_loss', verbose=1, save_best_only=True)"
      ],
      "execution_count": 0,
      "outputs": []
    },
    {
      "metadata": {
        "id": "MRGCpXAsxfv8",
        "colab_type": "code",
        "colab": {}
      },
      "cell_type": "code",
      "source": [
        "model2.compile(loss=categorical_crossentropy,\n",
        "              optimizer=Adam(lr=0.001, beta_1=0.9, beta_2=0.999, epsilon=1e-7),\n",
        "              metrics=['accuracy'])"
      ],
      "execution_count": 0,
      "outputs": []
    },
    {
      "metadata": {
        "id": "bRbbgsPExK8F",
        "colab_type": "code",
        "colab": {}
      },
      "cell_type": "code",
      "source": [
        "model2.load_weights(\"drive/face_expr_model2.h5\")"
      ],
      "execution_count": 0,
      "outputs": []
    },
    {
      "metadata": {
        "id": "gh4JqzcLxnLs",
        "colab_type": "code",
        "colab": {
          "base_uri": "https://localhost:8080/",
          "height": 20612
        },
        "outputId": "447bb2b8-0f2c-4328-8538-b2367dd9f169"
      },
      "cell_type": "code",
      "source": [
        "model2.fit(X_train,Y_train,\n",
        "          batch_size=batch_size,\n",
        "          epochs=500,\n",
        "          verbose=1,\n",
        "          validation_data=(X_validation, Y_valid),\n",
        "          shuffle=True,\n",
        "          callbacks=[lr_reducer2, tensorboard2, checkpointer2])"
      ],
      "execution_count": 0,
      "outputs": [
        {
          "output_type": "stream",
          "text": [
            "Train on 57418 samples, validate on 3589 samples\n",
            "Epoch 1/500\n",
            "57418/57418 [==============================] - 13s 221us/step - loss: 1.0620 - acc: 0.5969 - val_loss: 1.2250 - val_acc: 0.5425\n",
            "\n",
            "Epoch 00001: val_loss did not improve from 1.21309\n",
            "Epoch 2/500\n",
            "50816/57418 [=========================>....] - ETA: 1s - loss: 1.0611 - acc: 0.5987"
          ],
          "name": "stdout"
        },
        {
          "output_type": "stream",
          "text": [
            "57418/57418 [==============================] - 13s 221us/step - loss: 1.0620 - acc: 0.5982 - val_loss: 1.2250 - val_acc: 0.5425\n",
            "\n",
            "Epoch 00002: val_loss did not improve from 1.21309\n",
            "Epoch 3/500\n",
            "57418/57418 [==============================] - 13s 223us/step - loss: 1.0606 - acc: 0.5976 - val_loss: 1.2250 - val_acc: 0.5425\n",
            "\n",
            "Epoch 00003: val_loss did not improve from 1.21309\n",
            "Epoch 4/500\n",
            "18880/57418 [========>.....................] - ETA: 8s - loss: 1.0741 - acc: 0.5960"
          ],
          "name": "stdout"
        },
        {
          "output_type": "stream",
          "text": [
            "57418/57418 [==============================] - 13s 222us/step - loss: 1.0644 - acc: 0.5983 - val_loss: 1.2250 - val_acc: 0.5425\n",
            "\n",
            "Epoch 00004: ReduceLROnPlateau reducing learning rate to 3.426607435297324e-12.\n",
            "\n",
            "Epoch 00004: val_loss did not improve from 1.21309\n",
            "Epoch 5/500\n",
            "57418/57418 [==============================] - 13s 223us/step - loss: 1.0598 - acc: 0.5974 - val_loss: 1.2250 - val_acc: 0.5425\n",
            "\n",
            "Epoch 00005: val_loss did not improve from 1.21309\n",
            "Epoch 6/500\n",
            " 2880/57418 [>.............................] - ETA: 12s - loss: 1.0792 - acc: 0.5938"
          ],
          "name": "stdout"
        },
        {
          "output_type": "stream",
          "text": [
            "57418/57418 [==============================] - 13s 222us/step - loss: 1.0603 - acc: 0.5990 - val_loss: 1.2250 - val_acc: 0.5425\n",
            "\n",
            "Epoch 00006: val_loss did not improve from 1.21309\n",
            "Epoch 7/500\n",
            "57418/57418 [==============================] - 13s 221us/step - loss: 1.0614 - acc: 0.5968 - val_loss: 1.2250 - val_acc: 0.5425\n",
            "\n",
            "Epoch 00007: ReduceLROnPlateau reducing learning rate to 3.0839467698301484e-12.\n",
            "\n",
            "Epoch 00007: val_loss did not improve from 1.21309\n",
            "Epoch 8/500\n",
            " 9024/57418 [===>..........................] - ETA: 10s - loss: 1.0601 - acc: 0.5961"
          ],
          "name": "stdout"
        },
        {
          "output_type": "stream",
          "text": [
            "57418/57418 [==============================] - 13s 221us/step - loss: 1.0617 - acc: 0.5988 - val_loss: 1.2250 - val_acc: 0.5425\n",
            "\n",
            "Epoch 00008: val_loss did not improve from 1.21309\n",
            "Epoch 9/500\n",
            "57418/57418 [==============================] - 13s 223us/step - loss: 1.0618 - acc: 0.5975 - val_loss: 1.2250 - val_acc: 0.5425\n",
            "\n",
            "Epoch 00009: val_loss did not improve from 1.21309\n",
            "Epoch 10/500\n",
            "11520/57418 [=====>........................] - ETA: 9s - loss: 1.0641 - acc: 0.5943 "
          ],
          "name": "stdout"
        },
        {
          "output_type": "stream",
          "text": [
            "57418/57418 [==============================] - 13s 225us/step - loss: 1.0589 - acc: 0.5987 - val_loss: 1.2250 - val_acc: 0.5425\n",
            "\n",
            "Epoch 00010: ReduceLROnPlateau reducing learning rate to 2.775552053815855e-12.\n",
            "\n",
            "Epoch 00010: val_loss did not improve from 1.21309\n",
            "Epoch 11/500\n",
            "57418/57418 [==============================] - 13s 222us/step - loss: 1.0617 - acc: 0.5979 - val_loss: 1.2250 - val_acc: 0.5425\n",
            "\n",
            "Epoch 00011: val_loss did not improve from 1.21309\n",
            "Epoch 12/500\n",
            " 1600/57418 [..............................] - ETA: 12s - loss: 1.0690 - acc: 0.5875"
          ],
          "name": "stdout"
        },
        {
          "output_type": "stream",
          "text": [
            "57418/57418 [==============================] - 13s 224us/step - loss: 1.0611 - acc: 0.5998 - val_loss: 1.2250 - val_acc: 0.5425\n",
            "\n",
            "Epoch 00012: val_loss did not improve from 1.21309\n",
            "Epoch 13/500\n",
            "57418/57418 [==============================] - 13s 225us/step - loss: 1.0619 - acc: 0.5990 - val_loss: 1.2250 - val_acc: 0.5425\n",
            "\n",
            "Epoch 00013: ReduceLROnPlateau reducing learning rate to 2.497996926496826e-12.\n",
            "\n",
            "Epoch 00013: val_loss did not improve from 1.21309\n",
            "Epoch 14/500\n",
            " 8512/57418 [===>..........................] - ETA: 10s - loss: 1.0569 - acc: 0.6001"
          ],
          "name": "stdout"
        },
        {
          "output_type": "stream",
          "text": [
            "57418/57418 [==============================] - 13s 225us/step - loss: 1.0583 - acc: 0.6005 - val_loss: 1.2250 - val_acc: 0.5425\n",
            "\n",
            "Epoch 00014: val_loss did not improve from 1.21309\n",
            "Epoch 15/500\n",
            "57418/57418 [==============================] - 13s 223us/step - loss: 1.0562 - acc: 0.5990 - val_loss: 1.2250 - val_acc: 0.5425\n",
            "\n",
            "Epoch 00015: val_loss did not improve from 1.21309\n",
            "Epoch 16/500\n",
            "11008/57418 [====>.........................] - ETA: 10s - loss: 1.0755 - acc: 0.5975"
          ],
          "name": "stdout"
        },
        {
          "output_type": "stream",
          "text": [
            "57418/57418 [==============================] - 13s 225us/step - loss: 1.0635 - acc: 0.5980 - val_loss: 1.2250 - val_acc: 0.5425\n",
            "\n",
            "Epoch 00016: ReduceLROnPlateau reducing learning rate to 2.248197331425339e-12.\n",
            "\n",
            "Epoch 00016: val_loss did not improve from 1.21309\n",
            "Epoch 17/500\n",
            "57418/57418 [==============================] - 13s 225us/step - loss: 1.0603 - acc: 0.5995 - val_loss: 1.2250 - val_acc: 0.5425\n",
            "\n",
            "Epoch 00017: val_loss did not improve from 1.21309\n",
            "Epoch 18/500\n",
            " 1600/57418 [..............................] - ETA: 12s - loss: 1.0526 - acc: 0.6038"
          ],
          "name": "stdout"
        },
        {
          "output_type": "stream",
          "text": [
            "57418/57418 [==============================] - 13s 223us/step - loss: 1.0603 - acc: 0.6001 - val_loss: 1.2250 - val_acc: 0.5425\n",
            "\n",
            "Epoch 00018: val_loss did not improve from 1.21309\n",
            "Epoch 19/500\n",
            "57418/57418 [==============================] - 13s 225us/step - loss: 1.0589 - acc: 0.6002 - val_loss: 1.2250 - val_acc: 0.5425\n",
            "\n",
            "Epoch 00019: ReduceLROnPlateau reducing learning rate to 2.023377559251527e-12.\n",
            "\n",
            "Epoch 00019: val_loss did not improve from 1.21309\n",
            "Epoch 20/500\n",
            " 8192/57418 [===>..........................] - ETA: 10s - loss: 1.0488 - acc: 0.6052"
          ],
          "name": "stdout"
        },
        {
          "output_type": "stream",
          "text": [
            "57418/57418 [==============================] - 13s 225us/step - loss: 1.0579 - acc: 0.6012 - val_loss: 1.2250 - val_acc: 0.5425\n",
            "\n",
            "Epoch 00020: val_loss did not improve from 1.21309\n",
            "Epoch 21/500\n",
            "57418/57418 [==============================] - 13s 226us/step - loss: 1.0628 - acc: 0.5986 - val_loss: 1.2250 - val_acc: 0.5425\n",
            "\n",
            "Epoch 00021: val_loss did not improve from 1.21309\n",
            "Epoch 22/500\n",
            "10944/57418 [====>.........................] - ETA: 10s - loss: 1.0598 - acc: 0.5960"
          ],
          "name": "stdout"
        },
        {
          "output_type": "stream",
          "text": [
            "57418/57418 [==============================] - 13s 224us/step - loss: 1.0595 - acc: 0.5997 - val_loss: 1.2250 - val_acc: 0.5425\n",
            "\n",
            "Epoch 00022: ReduceLROnPlateau reducing learning rate to 1.8210398033263743e-12.\n",
            "\n",
            "Epoch 00022: val_loss did not improve from 1.21309\n",
            "Epoch 23/500\n",
            "57418/57418 [==============================] - 13s 223us/step - loss: 1.0606 - acc: 0.5970 - val_loss: 1.2250 - val_acc: 0.5425\n",
            "\n",
            "Epoch 00023: val_loss did not improve from 1.21309\n",
            "Epoch 24/500\n",
            " 1344/57418 [..............................] - ETA: 12s - loss: 1.0411 - acc: 0.6064"
          ],
          "name": "stdout"
        },
        {
          "output_type": "stream",
          "text": [
            "57418/57418 [==============================] - 13s 224us/step - loss: 1.0586 - acc: 0.5992 - val_loss: 1.2250 - val_acc: 0.5425\n",
            "\n",
            "Epoch 00024: val_loss did not improve from 1.21309\n",
            "Epoch 25/500\n",
            "57418/57418 [==============================] - 13s 223us/step - loss: 1.0609 - acc: 0.5956 - val_loss: 1.2250 - val_acc: 0.5425\n",
            "\n",
            "Epoch 00025: ReduceLROnPlateau reducing learning rate to 1.638935862025015e-12.\n",
            "\n",
            "Epoch 00025: val_loss did not improve from 1.21309\n",
            "Epoch 26/500\n",
            " 8384/57418 [===>..........................] - ETA: 10s - loss: 1.0623 - acc: 0.5980"
          ],
          "name": "stdout"
        },
        {
          "output_type": "stream",
          "text": [
            "57418/57418 [==============================] - 13s 223us/step - loss: 1.0549 - acc: 0.5993 - val_loss: 1.2250 - val_acc: 0.5425\n",
            "\n",
            "Epoch 00026: val_loss did not improve from 1.21309\n",
            "Epoch 27/500\n",
            "57418/57418 [==============================] - 13s 223us/step - loss: 1.0571 - acc: 0.5984 - val_loss: 1.2250 - val_acc: 0.5425\n",
            "\n",
            "Epoch 00027: val_loss did not improve from 1.21309\n",
            "Epoch 28/500\n",
            "11264/57418 [====>.........................] - ETA: 10s - loss: 1.0624 - acc: 0.6025"
          ],
          "name": "stdout"
        },
        {
          "output_type": "stream",
          "text": [
            "57418/57418 [==============================] - 13s 223us/step - loss: 1.0596 - acc: 0.6002 - val_loss: 1.2250 - val_acc: 0.5425\n",
            "\n",
            "Epoch 00028: ReduceLROnPlateau reducing learning rate to 1.4750422563068744e-12.\n",
            "\n",
            "Epoch 00028: val_loss did not improve from 1.21309\n",
            "Epoch 29/500\n",
            "57418/57418 [==============================] - 13s 221us/step - loss: 1.0590 - acc: 0.5996 - val_loss: 1.2250 - val_acc: 0.5425\n",
            "\n",
            "Epoch 00029: val_loss did not improve from 1.21309\n",
            "Epoch 30/500\n",
            " 1344/57418 [..............................] - ETA: 12s - loss: 1.0670 - acc: 0.6034"
          ],
          "name": "stdout"
        },
        {
          "output_type": "stream",
          "text": [
            "57418/57418 [==============================] - 13s 222us/step - loss: 1.0610 - acc: 0.5990 - val_loss: 1.2250 - val_acc: 0.5425\n",
            "\n",
            "Epoch 00030: val_loss did not improve from 1.21309\n",
            "Epoch 31/500\n",
            "57418/57418 [==============================] - 13s 224us/step - loss: 1.0624 - acc: 0.5986 - val_loss: 1.2250 - val_acc: 0.5425\n",
            "\n",
            "Epoch 00031: ReduceLROnPlateau reducing learning rate to 1.3275380794652846e-12.\n",
            "\n",
            "Epoch 00031: val_loss did not improve from 1.21309\n",
            "Epoch 32/500\n",
            " 8512/57418 [===>..........................] - ETA: 10s - loss: 1.0440 - acc: 0.6077"
          ],
          "name": "stdout"
        },
        {
          "output_type": "stream",
          "text": [
            "57418/57418 [==============================] - 13s 222us/step - loss: 1.0570 - acc: 0.5995 - val_loss: 1.2250 - val_acc: 0.5425\n",
            "\n",
            "Epoch 00032: val_loss did not improve from 1.21309\n",
            "Epoch 33/500\n",
            "57418/57418 [==============================] - 13s 222us/step - loss: 1.0583 - acc: 0.6009 - val_loss: 1.2250 - val_acc: 0.5425\n",
            "\n",
            "Epoch 00033: val_loss did not improve from 1.21309\n",
            "Epoch 34/500\n",
            "11008/57418 [====>.........................] - ETA: 10s - loss: 1.0417 - acc: 0.6051"
          ],
          "name": "stdout"
        },
        {
          "output_type": "stream",
          "text": [
            "57418/57418 [==============================] - 13s 221us/step - loss: 1.0596 - acc: 0.5990 - val_loss: 1.2250 - val_acc: 0.5425\n",
            "\n",
            "Epoch 00034: ReduceLROnPlateau reducing learning rate to 1.1947843105500345e-12.\n",
            "\n",
            "Epoch 00034: val_loss did not improve from 1.21309\n",
            "Epoch 35/500\n",
            "57418/57418 [==============================] - 13s 221us/step - loss: 1.0629 - acc: 0.5976 - val_loss: 1.2250 - val_acc: 0.5425\n",
            "\n",
            "Epoch 00035: val_loss did not improve from 1.21309\n",
            "Epoch 36/500\n",
            " 1344/57418 [..............................] - ETA: 12s - loss: 1.0427 - acc: 0.5893"
          ],
          "name": "stdout"
        },
        {
          "output_type": "stream",
          "text": [
            "57418/57418 [==============================] - 13s 221us/step - loss: 1.0611 - acc: 0.5985 - val_loss: 1.2250 - val_acc: 0.5425\n",
            "\n",
            "Epoch 00036: val_loss did not improve from 1.21309\n",
            "Epoch 37/500\n",
            "57418/57418 [==============================] - 13s 222us/step - loss: 1.0628 - acc: 0.5965 - val_loss: 1.2250 - val_acc: 0.5425\n",
            "\n",
            "Epoch 00037: ReduceLROnPlateau reducing learning rate to 1.0753058599793919e-12.\n",
            "\n",
            "Epoch 00037: val_loss did not improve from 1.21309\n",
            "Epoch 38/500\n",
            " 8512/57418 [===>..........................] - ETA: 10s - loss: 1.0696 - acc: 0.5921"
          ],
          "name": "stdout"
        },
        {
          "output_type": "stream",
          "text": [
            "57418/57418 [==============================] - 13s 222us/step - loss: 1.0600 - acc: 0.5989 - val_loss: 1.2250 - val_acc: 0.5425\n",
            "\n",
            "Epoch 00038: val_loss did not improve from 1.21309\n",
            "Epoch 39/500\n",
            "57418/57418 [==============================] - 13s 221us/step - loss: 1.0613 - acc: 0.5986 - val_loss: 1.2250 - val_acc: 0.5425\n",
            "\n",
            "Epoch 00039: val_loss did not improve from 1.21309\n",
            "Epoch 40/500\n",
            "11200/57418 [====>.........................] - ETA: 9s - loss: 1.0476 - acc: 0.6029 "
          ],
          "name": "stdout"
        },
        {
          "output_type": "stream",
          "text": [
            "57418/57418 [==============================] - 13s 219us/step - loss: 1.0577 - acc: 0.5995 - val_loss: 1.2250 - val_acc: 0.5425\n",
            "\n",
            "Epoch 00040: ReduceLROnPlateau reducing learning rate to 9.677752739814527e-13.\n",
            "\n",
            "Epoch 00040: val_loss did not improve from 1.21309\n",
            "Epoch 41/500\n",
            "57418/57418 [==============================] - 13s 220us/step - loss: 1.0596 - acc: 0.5972 - val_loss: 1.2250 - val_acc: 0.5425\n",
            "\n",
            "Epoch 00041: val_loss did not improve from 1.21309\n",
            "Epoch 42/500\n",
            " 1600/57418 [..............................] - ETA: 12s - loss: 1.0802 - acc: 0.5988"
          ],
          "name": "stdout"
        },
        {
          "output_type": "stream",
          "text": [
            "57418/57418 [==============================] - 13s 226us/step - loss: 1.0598 - acc: 0.5982 - val_loss: 1.2250 - val_acc: 0.5425\n",
            "\n",
            "Epoch 00042: val_loss did not improve from 1.21309\n",
            "Epoch 43/500\n",
            "57418/57418 [==============================] - 13s 225us/step - loss: 1.0604 - acc: 0.5970 - val_loss: 1.2250 - val_acc: 0.5425\n",
            "\n",
            "Epoch 00043: ReduceLROnPlateau reducing learning rate to 8.709977075520293e-13.\n",
            "\n",
            "Epoch 00043: val_loss did not improve from 1.21309\n",
            "Epoch 44/500\n",
            " 8256/57418 [===>..........................] - ETA: 10s - loss: 1.0722 - acc: 0.5962"
          ],
          "name": "stdout"
        },
        {
          "output_type": "stream",
          "text": [
            "57418/57418 [==============================] - 13s 223us/step - loss: 1.0629 - acc: 0.5972 - val_loss: 1.2250 - val_acc: 0.5425\n",
            "\n",
            "Epoch 00044: val_loss did not improve from 1.21309\n",
            "Epoch 45/500\n",
            "57418/57418 [==============================] - 13s 225us/step - loss: 1.0573 - acc: 0.5994 - val_loss: 1.2250 - val_acc: 0.5425\n",
            "\n",
            "Epoch 00045: val_loss did not improve from 1.21309\n",
            "Epoch 46/500\n",
            "11072/57418 [====>.........................] - ETA: 10s - loss: 1.0446 - acc: 0.6083"
          ],
          "name": "stdout"
        },
        {
          "output_type": "stream",
          "text": [
            "57418/57418 [==============================] - 13s 224us/step - loss: 1.0620 - acc: 0.5977 - val_loss: 1.2250 - val_acc: 0.5425\n",
            "\n",
            "Epoch 00046: ReduceLROnPlateau reducing learning rate to 7.838979465546459e-13.\n",
            "\n",
            "Epoch 00046: val_loss did not improve from 1.21309\n",
            "Epoch 47/500\n",
            "57418/57418 [==============================] - 13s 224us/step - loss: 1.0580 - acc: 0.5992 - val_loss: 1.2250 - val_acc: 0.5425\n",
            "\n",
            "Epoch 00047: val_loss did not improve from 1.21309\n",
            "Epoch 48/500\n",
            " 1344/57418 [..............................] - ETA: 12s - loss: 1.0603 - acc: 0.5908"
          ],
          "name": "stdout"
        },
        {
          "output_type": "stream",
          "text": [
            "57418/57418 [==============================] - 13s 223us/step - loss: 1.0615 - acc: 0.5983 - val_loss: 1.2250 - val_acc: 0.5425\n",
            "\n",
            "Epoch 00048: val_loss did not improve from 1.21309\n",
            "Epoch 49/500\n",
            "57418/57418 [==============================] - 13s 226us/step - loss: 1.0610 - acc: 0.5988 - val_loss: 1.2250 - val_acc: 0.5425\n",
            "\n",
            "Epoch 00049: ReduceLROnPlateau reducing learning rate to 7.055081616570008e-13.\n",
            "\n",
            "Epoch 00049: val_loss did not improve from 1.21309\n",
            "Epoch 50/500\n",
            " 8448/57418 [===>..........................] - ETA: 10s - loss: 1.0677 - acc: 0.6035"
          ],
          "name": "stdout"
        },
        {
          "output_type": "stream",
          "text": [
            "57418/57418 [==============================] - 13s 224us/step - loss: 1.0592 - acc: 0.6015 - val_loss: 1.2250 - val_acc: 0.5425\n",
            "\n",
            "Epoch 00050: val_loss did not improve from 1.21309\n",
            "Epoch 51/500\n",
            "57418/57418 [==============================] - 13s 223us/step - loss: 1.0586 - acc: 0.6004 - val_loss: 1.2250 - val_acc: 0.5425\n",
            "\n",
            "Epoch 00051: val_loss did not improve from 1.21309\n",
            "Epoch 52/500\n",
            "11328/57418 [====>.........................] - ETA: 10s - loss: 1.0598 - acc: 0.5988"
          ],
          "name": "stdout"
        },
        {
          "output_type": "stream",
          "text": [
            "57418/57418 [==============================] - 13s 227us/step - loss: 1.0618 - acc: 0.5978 - val_loss: 1.2250 - val_acc: 0.5425\n",
            "\n",
            "Epoch 00052: ReduceLROnPlateau reducing learning rate to 6.349573210967519e-13.\n",
            "\n",
            "Epoch 00052: val_loss did not improve from 1.21309\n",
            "Epoch 53/500\n",
            "57418/57418 [==============================] - 13s 223us/step - loss: 1.0613 - acc: 0.5967 - val_loss: 1.2250 - val_acc: 0.5425\n",
            "\n",
            "Epoch 00053: val_loss did not improve from 1.21309\n",
            "Epoch 54/500\n",
            " 1600/57418 [..............................] - ETA: 12s - loss: 1.0627 - acc: 0.5944"
          ],
          "name": "stdout"
        },
        {
          "output_type": "stream",
          "text": [
            "57418/57418 [==============================] - 13s 223us/step - loss: 1.0594 - acc: 0.5982 - val_loss: 1.2250 - val_acc: 0.5425\n",
            "\n",
            "Epoch 00054: val_loss did not improve from 1.21309\n",
            "Epoch 55/500\n",
            "57418/57418 [==============================] - 13s 222us/step - loss: 1.0597 - acc: 0.5965 - val_loss: 1.2250 - val_acc: 0.5425\n",
            "\n",
            "Epoch 00055: ReduceLROnPlateau reducing learning rate to 5.714615792292571e-13.\n",
            "\n",
            "Epoch 00055: val_loss did not improve from 1.21309\n",
            "Epoch 56/500\n",
            " 8448/57418 [===>..........................] - ETA: 10s - loss: 1.0587 - acc: 0.6004"
          ],
          "name": "stdout"
        },
        {
          "output_type": "stream",
          "text": [
            "57418/57418 [==============================] - 13s 223us/step - loss: 1.0590 - acc: 0.5971 - val_loss: 1.2250 - val_acc: 0.5425\n",
            "\n",
            "Epoch 00056: val_loss did not improve from 1.21309\n",
            "Epoch 57/500\n",
            "57418/57418 [==============================] - 13s 223us/step - loss: 1.0598 - acc: 0.5981 - val_loss: 1.2250 - val_acc: 0.5425\n",
            "\n",
            "Epoch 00057: val_loss did not improve from 1.21309\n",
            "Epoch 58/500\n",
            "11008/57418 [====>.........................] - ETA: 10s - loss: 1.0501 - acc: 0.6007"
          ],
          "name": "stdout"
        },
        {
          "output_type": "stream",
          "text": [
            "57418/57418 [==============================] - 13s 222us/step - loss: 1.0591 - acc: 0.5992 - val_loss: 1.2250 - val_acc: 0.5425\n",
            "\n",
            "Epoch 00058: ReduceLROnPlateau reducing learning rate to 5.143154457008803e-13.\n",
            "\n",
            "Epoch 00058: val_loss did not improve from 1.21309\n",
            "Epoch 59/500\n",
            "57418/57418 [==============================] - 13s 223us/step - loss: 1.0619 - acc: 0.5976 - val_loss: 1.2250 - val_acc: 0.5425\n",
            "\n",
            "Epoch 00059: val_loss did not improve from 1.21309\n",
            "Epoch 60/500\n",
            " 1344/57418 [..............................] - ETA: 11s - loss: 1.0469 - acc: 0.5885"
          ],
          "name": "stdout"
        },
        {
          "output_type": "stream",
          "text": [
            "57418/57418 [==============================] - 13s 221us/step - loss: 1.0585 - acc: 0.5983 - val_loss: 1.2250 - val_acc: 0.5425\n",
            "\n",
            "Epoch 00060: val_loss did not improve from 1.21309\n",
            "Epoch 61/500\n",
            "57418/57418 [==============================] - 13s 222us/step - loss: 1.0641 - acc: 0.5962 - val_loss: 1.2250 - val_acc: 0.5425\n",
            "\n",
            "Epoch 00061: ReduceLROnPlateau reducing learning rate to 4.628838816151531e-13.\n",
            "\n",
            "Epoch 00061: val_loss did not improve from 1.21309\n",
            "Epoch 62/500\n",
            " 8512/57418 [===>..........................] - ETA: 10s - loss: 1.0435 - acc: 0.6070"
          ],
          "name": "stdout"
        },
        {
          "output_type": "stream",
          "text": [
            "57418/57418 [==============================] - 13s 221us/step - loss: 1.0609 - acc: 0.5994 - val_loss: 1.2250 - val_acc: 0.5425\n",
            "\n",
            "Epoch 00062: val_loss did not improve from 1.21309\n",
            "Epoch 63/500\n",
            "57418/57418 [==============================] - 13s 224us/step - loss: 1.0628 - acc: 0.5990 - val_loss: 1.2250 - val_acc: 0.5425\n",
            "\n",
            "Epoch 00063: val_loss did not improve from 1.21309\n",
            "Epoch 64/500\n",
            "11264/57418 [====>.........................] - ETA: 10s - loss: 1.0670 - acc: 0.5945"
          ],
          "name": "stdout"
        },
        {
          "output_type": "stream",
          "text": [
            "57418/57418 [==============================] - 13s 222us/step - loss: 1.0623 - acc: 0.5978 - val_loss: 1.2250 - val_acc: 0.5425\n",
            "\n",
            "Epoch 00064: ReduceLROnPlateau reducing learning rate to 4.1659546905908895e-13.\n",
            "\n",
            "Epoch 00064: val_loss did not improve from 1.21309\n",
            "Epoch 65/500\n",
            "57418/57418 [==============================] - 13s 224us/step - loss: 1.0616 - acc: 0.5981 - val_loss: 1.2250 - val_acc: 0.5425\n",
            "\n",
            "Epoch 00065: val_loss did not improve from 1.21309\n",
            "Epoch 66/500\n",
            " 1088/57418 [..............................] - ETA: 12s - loss: 1.0881 - acc: 0.6039"
          ],
          "name": "stdout"
        },
        {
          "output_type": "stream",
          "text": [
            "57418/57418 [==============================] - 13s 225us/step - loss: 1.0613 - acc: 0.5980 - val_loss: 1.2250 - val_acc: 0.5425\n",
            "\n",
            "Epoch 00066: val_loss did not improve from 1.21309\n",
            "Epoch 67/500\n",
            "57418/57418 [==============================] - 13s 224us/step - loss: 1.0589 - acc: 0.5996 - val_loss: 1.2250 - val_acc: 0.5425\n",
            "\n",
            "Epoch 00067: ReduceLROnPlateau reducing learning rate to 3.7493592215318006e-13.\n",
            "\n",
            "Epoch 00067: val_loss did not improve from 1.21309\n",
            "Epoch 68/500\n",
            " 8256/57418 [===>..........................] - ETA: 10s - loss: 1.0479 - acc: 0.6045"
          ],
          "name": "stdout"
        },
        {
          "output_type": "stream",
          "text": [
            "57418/57418 [==============================] - 13s 223us/step - loss: 1.0598 - acc: 0.5990 - val_loss: 1.2250 - val_acc: 0.5425\n",
            "\n",
            "Epoch 00068: val_loss did not improve from 1.21309\n",
            "Epoch 69/500\n",
            "57418/57418 [==============================] - 13s 222us/step - loss: 1.0613 - acc: 0.5973 - val_loss: 1.2250 - val_acc: 0.5425\n",
            "\n",
            "Epoch 00069: val_loss did not improve from 1.21309\n",
            "Epoch 70/500\n",
            "11200/57418 [====>.........................] - ETA: 10s - loss: 1.0638 - acc: 0.5946"
          ],
          "name": "stdout"
        },
        {
          "output_type": "stream",
          "text": [
            "57418/57418 [==============================] - 13s 224us/step - loss: 1.0607 - acc: 0.5978 - val_loss: 1.2250 - val_acc: 0.5425\n",
            "\n",
            "Epoch 00070: ReduceLROnPlateau reducing learning rate to 3.3744232993786204e-13.\n",
            "\n",
            "Epoch 00070: val_loss did not improve from 1.21309\n",
            "Epoch 71/500\n",
            "57418/57418 [==============================] - 13s 226us/step - loss: 1.0619 - acc: 0.5973 - val_loss: 1.2250 - val_acc: 0.5425\n",
            "\n",
            "Epoch 00071: val_loss did not improve from 1.21309\n",
            "Epoch 72/500\n",
            " 1344/57418 [..............................] - ETA: 12s - loss: 1.0578 - acc: 0.6124"
          ],
          "name": "stdout"
        },
        {
          "output_type": "stream",
          "text": [
            "57418/57418 [==============================] - 13s 224us/step - loss: 1.0627 - acc: 0.5968 - val_loss: 1.2250 - val_acc: 0.5425\n",
            "\n",
            "Epoch 00072: val_loss did not improve from 1.21309\n",
            "Epoch 73/500\n",
            "57418/57418 [==============================] - 13s 227us/step - loss: 1.0589 - acc: 0.6006 - val_loss: 1.2250 - val_acc: 0.5425\n",
            "\n",
            "Epoch 00073: ReduceLROnPlateau reducing learning rate to 3.036981067018954e-13.\n",
            "\n",
            "Epoch 00073: val_loss did not improve from 1.21309\n",
            "Epoch 74/500\n",
            " 8256/57418 [===>..........................] - ETA: 10s - loss: 1.0618 - acc: 0.5928"
          ],
          "name": "stdout"
        },
        {
          "output_type": "stream",
          "text": [
            "57418/57418 [==============================] - 13s 224us/step - loss: 1.0586 - acc: 0.5996 - val_loss: 1.2250 - val_acc: 0.5425\n",
            "\n",
            "Epoch 00074: val_loss did not improve from 1.21309\n",
            "Epoch 75/500\n",
            "57418/57418 [==============================] - 13s 224us/step - loss: 1.0610 - acc: 0.5984 - val_loss: 1.2250 - val_acc: 0.5425\n",
            "\n",
            "Epoch 00075: val_loss did not improve from 1.21309\n",
            "Epoch 76/500\n",
            "11008/57418 [====>.........................] - ETA: 10s - loss: 1.0621 - acc: 0.5913"
          ],
          "name": "stdout"
        },
        {
          "output_type": "stream",
          "text": [
            "57418/57418 [==============================] - 13s 224us/step - loss: 1.0613 - acc: 0.5974 - val_loss: 1.2250 - val_acc: 0.5425\n",
            "\n",
            "Epoch 00076: ReduceLROnPlateau reducing learning rate to 2.7332828383443144e-13.\n",
            "\n",
            "Epoch 00076: val_loss did not improve from 1.21309\n",
            "Epoch 77/500\n",
            "57418/57418 [==============================] - 13s 224us/step - loss: 1.0592 - acc: 0.5978 - val_loss: 1.2250 - val_acc: 0.5425\n",
            "\n",
            "Epoch 00077: val_loss did not improve from 1.21309\n",
            "Epoch 78/500\n",
            " 1088/57418 [..............................] - ETA: 12s - loss: 1.0542 - acc: 0.6029"
          ],
          "name": "stdout"
        },
        {
          "output_type": "stream",
          "text": [
            "57418/57418 [==============================] - 13s 224us/step - loss: 1.0575 - acc: 0.6003 - val_loss: 1.2250 - val_acc: 0.5425\n",
            "\n",
            "Epoch 00078: val_loss did not improve from 1.21309\n",
            "Epoch 79/500\n",
            "57418/57418 [==============================] - 13s 222us/step - loss: 1.0614 - acc: 0.5973 - val_loss: 1.2250 - val_acc: 0.5425\n",
            "\n",
            "Epoch 00079: ReduceLROnPlateau reducing learning rate to 2.4599546032989804e-13.\n",
            "\n",
            "Epoch 00079: val_loss did not improve from 1.21309\n",
            "Epoch 80/500\n",
            " 8256/57418 [===>..........................] - ETA: 10s - loss: 1.0771 - acc: 0.5921"
          ],
          "name": "stdout"
        },
        {
          "output_type": "stream",
          "text": [
            "57418/57418 [==============================] - 13s 222us/step - loss: 1.0597 - acc: 0.5977 - val_loss: 1.2250 - val_acc: 0.5425\n",
            "\n",
            "Epoch 00080: val_loss did not improve from 1.21309\n",
            "Epoch 81/500\n",
            "57418/57418 [==============================] - 13s 221us/step - loss: 1.0601 - acc: 0.5973 - val_loss: 1.2250 - val_acc: 0.5425\n",
            "\n",
            "Epoch 00081: val_loss did not improve from 1.21309\n",
            "Epoch 82/500\n",
            "11328/57418 [====>.........................] - ETA: 9s - loss: 1.0405 - acc: 0.6054 "
          ],
          "name": "stdout"
        },
        {
          "output_type": "stream",
          "text": [
            "57418/57418 [==============================] - 13s 222us/step - loss: 1.0569 - acc: 0.5994 - val_loss: 1.2250 - val_acc: 0.5425\n",
            "\n",
            "Epoch 00082: ReduceLROnPlateau reducing learning rate to 2.213959240547278e-13.\n",
            "\n",
            "Epoch 00082: val_loss did not improve from 1.21309\n",
            "Epoch 83/500\n",
            "57418/57418 [==============================] - 13s 223us/step - loss: 1.0579 - acc: 0.5992 - val_loss: 1.2250 - val_acc: 0.5425\n",
            "\n",
            "Epoch 00083: val_loss did not improve from 1.21309\n",
            "Epoch 84/500\n",
            " 1344/57418 [..............................] - ETA: 12s - loss: 1.0850 - acc: 0.5975"
          ],
          "name": "stdout"
        },
        {
          "output_type": "stream",
          "text": [
            "57418/57418 [==============================] - 13s 224us/step - loss: 1.0612 - acc: 0.6011 - val_loss: 1.2250 - val_acc: 0.5425\n",
            "\n",
            "Epoch 00084: val_loss did not improve from 1.21309\n",
            "Epoch 85/500\n",
            "57418/57418 [==============================] - 13s 222us/step - loss: 1.0598 - acc: 0.5991 - val_loss: 1.2250 - val_acc: 0.5425\n",
            "\n",
            "Epoch 00085: ReduceLROnPlateau reducing learning rate to 1.9925633408870991e-13.\n",
            "\n",
            "Epoch 00085: val_loss did not improve from 1.21309\n",
            "Epoch 86/500\n",
            " 8512/57418 [===>..........................] - ETA: 10s - loss: 1.0593 - acc: 0.6007"
          ],
          "name": "stdout"
        },
        {
          "output_type": "stream",
          "text": [
            "57418/57418 [==============================] - 13s 221us/step - loss: 1.0588 - acc: 0.5991 - val_loss: 1.2250 - val_acc: 0.5425\n",
            "\n",
            "Epoch 00086: val_loss did not improve from 1.21309\n",
            "Epoch 87/500\n",
            "57418/57418 [==============================] - 13s 221us/step - loss: 1.0597 - acc: 0.5985 - val_loss: 1.2250 - val_acc: 0.5425\n",
            "\n",
            "Epoch 00087: val_loss did not improve from 1.21309\n",
            "Epoch 88/500\n",
            "11328/57418 [====>.........................] - ETA: 10s - loss: 1.0434 - acc: 0.6047"
          ],
          "name": "stdout"
        },
        {
          "output_type": "stream",
          "text": [
            "57418/57418 [==============================] - 13s 221us/step - loss: 1.0574 - acc: 0.6004 - val_loss: 1.2250 - val_acc: 0.5425\n",
            "\n",
            "Epoch 00088: ReduceLROnPlateau reducing learning rate to 1.7933069580092915e-13.\n",
            "\n",
            "Epoch 00088: val_loss did not improve from 1.21309\n",
            "Epoch 89/500\n",
            "57418/57418 [==============================] - 13s 219us/step - loss: 1.0583 - acc: 0.5989 - val_loss: 1.2250 - val_acc: 0.5425\n",
            "\n",
            "Epoch 00089: val_loss did not improve from 1.21309\n",
            "Epoch 90/500\n",
            " 1344/57418 [..............................] - ETA: 11s - loss: 1.0532 - acc: 0.5997"
          ],
          "name": "stdout"
        },
        {
          "output_type": "stream",
          "text": [
            "57418/57418 [==============================] - 13s 221us/step - loss: 1.0575 - acc: 0.5966 - val_loss: 1.2250 - val_acc: 0.5425\n",
            "\n",
            "Epoch 00090: val_loss did not improve from 1.21309\n",
            "Epoch 91/500\n",
            "57418/57418 [==============================] - 13s 219us/step - loss: 1.0589 - acc: 0.5984 - val_loss: 1.2250 - val_acc: 0.5425\n",
            "\n",
            "Epoch 00091: ReduceLROnPlateau reducing learning rate to 1.6139762866029111e-13.\n",
            "\n",
            "Epoch 00091: val_loss did not improve from 1.21309\n",
            "Epoch 92/500\n",
            " 8448/57418 [===>..........................] - ETA: 10s - loss: 1.0633 - acc: 0.5949"
          ],
          "name": "stdout"
        },
        {
          "output_type": "stream",
          "text": [
            "57418/57418 [==============================] - 13s 222us/step - loss: 1.0640 - acc: 0.5994 - val_loss: 1.2250 - val_acc: 0.5425\n",
            "\n",
            "Epoch 00092: val_loss did not improve from 1.21309\n",
            "Epoch 93/500\n",
            "57418/57418 [==============================] - 13s 221us/step - loss: 1.0590 - acc: 0.5977 - val_loss: 1.2250 - val_acc: 0.5425\n",
            "\n",
            "Epoch 00093: val_loss did not improve from 1.21309\n",
            "Epoch 94/500\n",
            "11136/57418 [====>.........................] - ETA: 10s - loss: 1.0591 - acc: 0.5989"
          ],
          "name": "stdout"
        },
        {
          "output_type": "stream",
          "text": [
            "57418/57418 [==============================] - 13s 224us/step - loss: 1.0604 - acc: 0.5990 - val_loss: 1.2250 - val_acc: 0.5425\n",
            "\n",
            "Epoch 00094: ReduceLROnPlateau reducing learning rate to 1.4525786579426202e-13.\n",
            "\n",
            "Epoch 00094: val_loss did not improve from 1.21309\n",
            "Epoch 95/500\n",
            "57418/57418 [==============================] - 13s 222us/step - loss: 1.0578 - acc: 0.6012 - val_loss: 1.2250 - val_acc: 0.5425\n",
            "\n",
            "Epoch 00095: val_loss did not improve from 1.21309\n",
            "Epoch 96/500\n",
            " 1344/57418 [..............................] - ETA: 12s - loss: 1.0573 - acc: 0.5967"
          ],
          "name": "stdout"
        },
        {
          "output_type": "stream",
          "text": [
            "57418/57418 [==============================] - 13s 223us/step - loss: 1.0592 - acc: 0.5981 - val_loss: 1.2250 - val_acc: 0.5425\n",
            "\n",
            "Epoch 00096: val_loss did not improve from 1.21309\n",
            "Epoch 97/500\n",
            "57418/57418 [==============================] - 13s 224us/step - loss: 1.0609 - acc: 0.5978 - val_loss: 1.2250 - val_acc: 0.5425\n",
            "\n",
            "Epoch 00097: ReduceLROnPlateau reducing learning rate to 1.3073208287401813e-13.\n",
            "\n",
            "Epoch 00097: val_loss did not improve from 1.21309\n",
            "Epoch 98/500\n",
            " 8256/57418 [===>..........................] - ETA: 10s - loss: 1.0476 - acc: 0.5963"
          ],
          "name": "stdout"
        },
        {
          "output_type": "stream",
          "text": [
            "57418/57418 [==============================] - 13s 223us/step - loss: 1.0605 - acc: 0.5975 - val_loss: 1.2250 - val_acc: 0.5425\n",
            "\n",
            "Epoch 00098: val_loss did not improve from 1.21309\n",
            "Epoch 99/500\n",
            "57418/57418 [==============================] - 13s 222us/step - loss: 1.0617 - acc: 0.5984 - val_loss: 1.2250 - val_acc: 0.5425\n",
            "\n",
            "Epoch 00099: val_loss did not improve from 1.21309\n",
            "Epoch 100/500\n",
            "11008/57418 [====>.........................] - ETA: 10s - loss: 1.0552 - acc: 0.6028"
          ],
          "name": "stdout"
        },
        {
          "output_type": "stream",
          "text": [
            "57418/57418 [==============================] - 13s 224us/step - loss: 1.0576 - acc: 0.5978 - val_loss: 1.2250 - val_acc: 0.5425\n",
            "\n",
            "Epoch 00100: ReduceLROnPlateau reducing learning rate to 1.1765887336688888e-13.\n",
            "\n",
            "Epoch 00100: val_loss did not improve from 1.21309\n",
            "Epoch 101/500\n",
            "57418/57418 [==============================] - 13s 226us/step - loss: 1.0585 - acc: 0.5989 - val_loss: 1.2250 - val_acc: 0.5425\n",
            "\n",
            "Epoch 00101: val_loss did not improve from 1.21309\n",
            "Epoch 102/500\n",
            "  832/57418 [..............................] - ETA: 12s - loss: 1.0933 - acc: 0.5853"
          ],
          "name": "stdout"
        },
        {
          "output_type": "stream",
          "text": [
            "57418/57418 [==============================] - 13s 224us/step - loss: 1.0560 - acc: 0.6002 - val_loss: 1.2250 - val_acc: 0.5425\n",
            "\n",
            "Epoch 00102: val_loss did not improve from 1.21309\n",
            "Epoch 103/500\n",
            "57418/57418 [==============================] - 13s 225us/step - loss: 1.0627 - acc: 0.5967 - val_loss: 1.2250 - val_acc: 0.5425\n",
            "\n",
            "Epoch 00103: ReduceLROnPlateau reducing learning rate to 1.0589297993156277e-13.\n",
            "\n",
            "Epoch 00103: val_loss did not improve from 1.21309\n",
            "Epoch 104/500\n",
            " 7872/57418 [===>..........................] - ETA: 10s - loss: 1.0590 - acc: 0.5922"
          ],
          "name": "stdout"
        },
        {
          "output_type": "stream",
          "text": [
            "57418/57418 [==============================] - 13s 226us/step - loss: 1.0632 - acc: 0.5982 - val_loss: 1.2250 - val_acc: 0.5425\n",
            "\n",
            "Epoch 00104: val_loss did not improve from 1.21309\n",
            "Epoch 105/500\n",
            "57418/57418 [==============================] - 13s 225us/step - loss: 1.0608 - acc: 0.5999 - val_loss: 1.2250 - val_acc: 0.5425\n",
            "\n",
            "Epoch 00105: val_loss did not improve from 1.21309\n",
            "Epoch 106/500\n",
            "10752/57418 [====>.........................] - ETA: 10s - loss: 1.0554 - acc: 0.6084"
          ],
          "name": "stdout"
        },
        {
          "output_type": "stream",
          "text": [
            "57418/57418 [==============================] - 13s 223us/step - loss: 1.0627 - acc: 0.5985 - val_loss: 1.2250 - val_acc: 0.5425\n",
            "\n",
            "Epoch 00106: ReduceLROnPlateau reducing learning rate to 9.530368437786138e-14.\n",
            "\n",
            "Epoch 00106: val_loss did not improve from 1.21309\n",
            "Epoch 107/500\n",
            "57418/57418 [==============================] - 13s 222us/step - loss: 1.0605 - acc: 0.5991 - val_loss: 1.2250 - val_acc: 0.5425\n",
            "\n",
            "Epoch 00107: val_loss did not improve from 1.21309\n",
            "Epoch 108/500\n",
            " 1088/57418 [..............................] - ETA: 12s - loss: 1.0519 - acc: 0.6002"
          ],
          "name": "stdout"
        },
        {
          "output_type": "stream",
          "text": [
            "57418/57418 [==============================] - 13s 220us/step - loss: 1.0619 - acc: 0.5977 - val_loss: 1.2250 - val_acc: 0.5425\n",
            "\n",
            "Epoch 00108: val_loss did not improve from 1.21309\n",
            "Epoch 109/500\n",
            "57418/57418 [==============================] - 13s 222us/step - loss: 1.0610 - acc: 0.5994 - val_loss: 1.2250 - val_acc: 0.5425\n",
            "\n",
            "Epoch 00109: ReduceLROnPlateau reducing learning rate to 8.577331350062036e-14.\n",
            "\n",
            "Epoch 00109: val_loss did not improve from 1.21309\n",
            "Epoch 110/500\n",
            " 8192/57418 [===>..........................] - ETA: 10s - loss: 1.0623 - acc: 0.6002"
          ],
          "name": "stdout"
        },
        {
          "output_type": "stream",
          "text": [
            "57418/57418 [==============================] - 13s 219us/step - loss: 1.0610 - acc: 0.6010 - val_loss: 1.2250 - val_acc: 0.5425\n",
            "\n",
            "Epoch 00110: val_loss did not improve from 1.21309\n",
            "Epoch 111/500\n",
            "57418/57418 [==============================] - 13s 223us/step - loss: 1.0572 - acc: 0.6005 - val_loss: 1.2250 - val_acc: 0.5425\n",
            "\n",
            "Epoch 00111: val_loss did not improve from 1.21309\n",
            "Epoch 112/500\n",
            "11072/57418 [====>.........................] - ETA: 10s - loss: 1.0491 - acc: 0.6004"
          ],
          "name": "stdout"
        },
        {
          "output_type": "stream",
          "text": [
            "57418/57418 [==============================] - 13s 220us/step - loss: 1.0567 - acc: 0.5983 - val_loss: 1.2250 - val_acc: 0.5425\n",
            "\n",
            "Epoch 00112: ReduceLROnPlateau reducing learning rate to 7.719598276042205e-14.\n",
            "\n",
            "Epoch 00112: val_loss did not improve from 1.21309\n",
            "Epoch 113/500\n",
            "57418/57418 [==============================] - 13s 221us/step - loss: 1.0593 - acc: 0.5992 - val_loss: 1.2250 - val_acc: 0.5425\n",
            "\n",
            "Epoch 00113: val_loss did not improve from 1.21309\n",
            "Epoch 114/500\n",
            " 1344/57418 [..............................] - ETA: 12s - loss: 1.0771 - acc: 0.5804"
          ],
          "name": "stdout"
        },
        {
          "output_type": "stream",
          "text": [
            "57418/57418 [==============================] - 13s 224us/step - loss: 1.0634 - acc: 0.5990 - val_loss: 1.2250 - val_acc: 0.5425\n",
            "\n",
            "Epoch 00114: val_loss did not improve from 1.21309\n",
            "Epoch 115/500\n",
            "57418/57418 [==============================] - 13s 222us/step - loss: 1.0599 - acc: 0.5995 - val_loss: 1.2250 - val_acc: 0.5425\n",
            "\n",
            "Epoch 00115: ReduceLROnPlateau reducing learning rate to 6.947638265478867e-14.\n",
            "\n",
            "Epoch 00115: val_loss did not improve from 1.21309\n",
            "Epoch 116/500\n",
            " 8192/57418 [===>..........................] - ETA: 11s - loss: 1.0525 - acc: 0.6082"
          ],
          "name": "stdout"
        },
        {
          "output_type": "stream",
          "text": [
            "57418/57418 [==============================] - 13s 223us/step - loss: 1.0594 - acc: 0.6007 - val_loss: 1.2250 - val_acc: 0.5425\n",
            "\n",
            "Epoch 00116: val_loss did not improve from 1.21309\n",
            "Epoch 117/500\n",
            "57418/57418 [==============================] - 13s 223us/step - loss: 1.0574 - acc: 0.5989 - val_loss: 1.2250 - val_acc: 0.5425\n",
            "\n",
            "Epoch 00117: val_loss did not improve from 1.21309\n",
            "Epoch 118/500\n",
            "10752/57418 [====>.........................] - ETA: 10s - loss: 1.0580 - acc: 0.5985"
          ],
          "name": "stdout"
        },
        {
          "output_type": "stream",
          "text": [
            "57418/57418 [==============================] - 13s 224us/step - loss: 1.0620 - acc: 0.5979 - val_loss: 1.2250 - val_acc: 0.5425\n",
            "\n",
            "Epoch 00118: ReduceLROnPlateau reducing learning rate to 6.252874194985491e-14.\n",
            "\n",
            "Epoch 00118: val_loss did not improve from 1.21309\n",
            "Epoch 119/500\n",
            "57418/57418 [==============================] - 13s 221us/step - loss: 1.0594 - acc: 0.5977 - val_loss: 1.2250 - val_acc: 0.5425\n",
            "\n",
            "Epoch 00119: val_loss did not improve from 1.21309\n",
            "Epoch 120/500\n",
            " 1344/57418 [..............................] - ETA: 12s - loss: 1.0429 - acc: 0.6116"
          ],
          "name": "stdout"
        },
        {
          "output_type": "stream",
          "text": [
            "57418/57418 [==============================] - 13s 225us/step - loss: 1.0626 - acc: 0.5972 - val_loss: 1.2250 - val_acc: 0.5425\n",
            "\n",
            "Epoch 00120: val_loss did not improve from 1.21309\n",
            "Epoch 121/500\n",
            "57418/57418 [==============================] - 13s 225us/step - loss: 1.0575 - acc: 0.6000 - val_loss: 1.2250 - val_acc: 0.5425\n",
            "\n",
            "Epoch 00121: ReduceLROnPlateau reducing learning rate to 5.6275870194324316e-14.\n",
            "\n",
            "Epoch 00121: val_loss did not improve from 1.21309\n",
            "Epoch 122/500\n",
            " 8128/57418 [===>..........................] - ETA: 10s - loss: 1.0740 - acc: 0.5928"
          ],
          "name": "stdout"
        },
        {
          "output_type": "stream",
          "text": [
            "57418/57418 [==============================] - 13s 224us/step - loss: 1.0600 - acc: 0.5976 - val_loss: 1.2250 - val_acc: 0.5425\n",
            "\n",
            "Epoch 00122: val_loss did not improve from 1.21309\n",
            "Epoch 123/500\n",
            "57418/57418 [==============================] - 13s 224us/step - loss: 1.0605 - acc: 0.6000 - val_loss: 1.2250 - val_acc: 0.5425\n",
            "\n",
            "Epoch 00123: val_loss did not improve from 1.21309\n",
            "Epoch 124/500\n",
            "11072/57418 [====>.........................] - ETA: 10s - loss: 1.0483 - acc: 0.6012"
          ],
          "name": "stdout"
        },
        {
          "output_type": "stream",
          "text": [
            "57418/57418 [==============================] - 13s 223us/step - loss: 1.0570 - acc: 0.5997 - val_loss: 1.2250 - val_acc: 0.5425\n",
            "\n",
            "Epoch 00124: ReduceLROnPlateau reducing learning rate to 5.064828256502816e-14.\n",
            "\n",
            "Epoch 00124: val_loss did not improve from 1.21309\n",
            "Epoch 125/500\n",
            "57418/57418 [==============================] - 13s 223us/step - loss: 1.0598 - acc: 0.5985 - val_loss: 1.2250 - val_acc: 0.5425\n",
            "\n",
            "Epoch 00125: val_loss did not improve from 1.21309\n",
            "Epoch 126/500\n",
            " 1344/57418 [..............................] - ETA: 12s - loss: 1.1078 - acc: 0.5707"
          ],
          "name": "stdout"
        },
        {
          "output_type": "stream",
          "text": [
            "57418/57418 [==============================] - 13s 223us/step - loss: 1.0592 - acc: 0.5992 - val_loss: 1.2250 - val_acc: 0.5425\n",
            "\n",
            "Epoch 00126: val_loss did not improve from 1.21309\n",
            "Epoch 127/500\n",
            "57418/57418 [==============================] - 13s 224us/step - loss: 1.0624 - acc: 0.5980 - val_loss: 1.2250 - val_acc: 0.5425\n",
            "\n",
            "Epoch 00127: ReduceLROnPlateau reducing learning rate to 4.5583452783866037e-14.\n",
            "\n",
            "Epoch 00127: val_loss did not improve from 1.21309\n",
            "Epoch 128/500\n",
            " 8256/57418 [===>..........................] - ETA: 10s - loss: 1.0599 - acc: 0.5987"
          ],
          "name": "stdout"
        },
        {
          "output_type": "stream",
          "text": [
            "57418/57418 [==============================] - 13s 223us/step - loss: 1.0608 - acc: 0.5997 - val_loss: 1.2250 - val_acc: 0.5425\n",
            "\n",
            "Epoch 00128: val_loss did not improve from 1.21309\n",
            "Epoch 129/500\n",
            "57418/57418 [==============================] - 13s 222us/step - loss: 1.0613 - acc: 0.5967 - val_loss: 1.2250 - val_acc: 0.5425\n",
            "\n",
            "Epoch 00129: val_loss did not improve from 1.21309\n",
            "Epoch 130/500\n",
            "10944/57418 [====>.........................] - ETA: 10s - loss: 1.0638 - acc: 0.6012"
          ],
          "name": "stdout"
        },
        {
          "output_type": "stream",
          "text": [
            "57418/57418 [==============================] - 13s 224us/step - loss: 1.0590 - acc: 0.5984 - val_loss: 1.2250 - val_acc: 0.5425\n",
            "\n",
            "Epoch 00130: ReduceLROnPlateau reducing learning rate to 4.102510872520688e-14.\n",
            "\n",
            "Epoch 00130: val_loss did not improve from 1.21309\n",
            "Epoch 131/500\n",
            "57418/57418 [==============================] - 13s 224us/step - loss: 1.0562 - acc: 0.5990 - val_loss: 1.2250 - val_acc: 0.5425\n",
            "\n",
            "Epoch 00131: val_loss did not improve from 1.21309\n",
            "Epoch 132/500\n",
            " 1088/57418 [..............................] - ETA: 12s - loss: 1.0651 - acc: 0.5974"
          ],
          "name": "stdout"
        },
        {
          "output_type": "stream",
          "text": [
            "57418/57418 [==============================] - 13s 221us/step - loss: 1.0596 - acc: 0.5992 - val_loss: 1.2250 - val_acc: 0.5425\n",
            "\n",
            "Epoch 00132: val_loss did not improve from 1.21309\n",
            "Epoch 133/500\n",
            "57418/57418 [==============================] - 13s 222us/step - loss: 1.0593 - acc: 0.5993 - val_loss: 1.2250 - val_acc: 0.5425\n",
            "\n",
            "Epoch 00133: ReduceLROnPlateau reducing learning rate to 3.692259815761805e-14.\n",
            "\n",
            "Epoch 00133: val_loss did not improve from 1.21309\n",
            "Epoch 134/500\n",
            " 8256/57418 [===>..........................] - ETA: 10s - loss: 1.0747 - acc: 0.5912"
          ],
          "name": "stdout"
        },
        {
          "output_type": "stream",
          "text": [
            "57418/57418 [==============================] - 13s 223us/step - loss: 1.0620 - acc: 0.5981 - val_loss: 1.2250 - val_acc: 0.5425\n",
            "\n",
            "Epoch 00134: val_loss did not improve from 1.21309\n",
            "Epoch 135/500\n",
            "57418/57418 [==============================] - 13s 223us/step - loss: 1.0593 - acc: 0.5979 - val_loss: 1.2250 - val_acc: 0.5425\n",
            "\n",
            "Epoch 00135: val_loss did not improve from 1.21309\n",
            "Epoch 136/500\n",
            "11008/57418 [====>.........................] - ETA: 10s - loss: 1.0506 - acc: 0.6022"
          ],
          "name": "stdout"
        },
        {
          "output_type": "stream",
          "text": [
            "57418/57418 [==============================] - 13s 221us/step - loss: 1.0594 - acc: 0.5989 - val_loss: 1.2250 - val_acc: 0.5425\n",
            "\n",
            "Epoch 00136: ReduceLROnPlateau reducing learning rate to 3.3230339866515555e-14.\n",
            "\n",
            "Epoch 00136: val_loss did not improve from 1.21309\n",
            "Epoch 137/500\n",
            "57418/57418 [==============================] - 13s 223us/step - loss: 1.0583 - acc: 0.6004 - val_loss: 1.2250 - val_acc: 0.5425\n",
            "\n",
            "Epoch 00137: val_loss did not improve from 1.21309\n",
            "Epoch 138/500\n",
            " 1344/57418 [..............................] - ETA: 12s - loss: 1.0341 - acc: 0.6124"
          ],
          "name": "stdout"
        },
        {
          "output_type": "stream",
          "text": [
            "57418/57418 [==============================] - 13s 221us/step - loss: 1.0563 - acc: 0.6005 - val_loss: 1.2250 - val_acc: 0.5425\n",
            "\n",
            "Epoch 00138: val_loss did not improve from 1.21309\n",
            "Epoch 139/500\n",
            "57418/57418 [==============================] - 13s 222us/step - loss: 1.0600 - acc: 0.6002 - val_loss: 1.2250 - val_acc: 0.5425\n",
            "\n",
            "Epoch 00139: ReduceLROnPlateau reducing learning rate to 2.9907305270000274e-14.\n",
            "\n",
            "Epoch 00139: val_loss did not improve from 1.21309\n",
            "Epoch 140/500\n",
            " 8192/57418 [===>..........................] - ETA: 10s - loss: 1.0428 - acc: 0.6058"
          ],
          "name": "stdout"
        },
        {
          "output_type": "stream",
          "text": [
            "57418/57418 [==============================] - 13s 222us/step - loss: 1.0605 - acc: 0.5979 - val_loss: 1.2250 - val_acc: 0.5425\n",
            "\n",
            "Epoch 00140: val_loss did not improve from 1.21309\n",
            "Epoch 141/500\n",
            "57418/57418 [==============================] - 13s 225us/step - loss: 1.0634 - acc: 0.5989 - val_loss: 1.2250 - val_acc: 0.5425\n",
            "\n",
            "Epoch 00141: val_loss did not improve from 1.21309\n",
            "Epoch 142/500\n",
            "11008/57418 [====>.........................] - ETA: 9s - loss: 1.0579 - acc: 0.5947"
          ],
          "name": "stdout"
        },
        {
          "output_type": "stream",
          "text": [
            "57418/57418 [==============================] - 13s 222us/step - loss: 1.0557 - acc: 0.6000 - val_loss: 1.2250 - val_acc: 0.5425\n",
            "\n",
            "Epoch 00142: ReduceLROnPlateau reducing learning rate to 2.6916573218340942e-14.\n",
            "\n",
            "Epoch 00142: val_loss did not improve from 1.21309\n",
            "Epoch 143/500\n",
            "57418/57418 [==============================] - 13s 222us/step - loss: 1.0600 - acc: 0.5974 - val_loss: 1.2250 - val_acc: 0.5425\n",
            "\n",
            "Epoch 00143: val_loss did not improve from 1.21309\n",
            "Epoch 144/500\n",
            " 1344/57418 [..............................] - ETA: 12s - loss: 0.9999 - acc: 0.6287"
          ],
          "name": "stdout"
        },
        {
          "output_type": "stream",
          "text": [
            "57418/57418 [==============================] - 13s 221us/step - loss: 1.0615 - acc: 0.5958 - val_loss: 1.2250 - val_acc: 0.5425\n",
            "\n",
            "Epoch 00144: val_loss did not improve from 1.21309\n",
            "Epoch 145/500\n",
            "57418/57418 [==============================] - 13s 221us/step - loss: 1.0621 - acc: 0.5994 - val_loss: 1.2250 - val_acc: 0.5425\n",
            "\n",
            "Epoch 00145: ReduceLROnPlateau reducing learning rate to 2.4224915286643126e-14.\n",
            "\n",
            "Epoch 00145: val_loss did not improve from 1.21309\n",
            "Epoch 146/500\n",
            " 8192/57418 [===>..........................] - ETA: 10s - loss: 1.0656 - acc: 0.5918"
          ],
          "name": "stdout"
        },
        {
          "output_type": "stream",
          "text": [
            "57418/57418 [==============================] - 13s 223us/step - loss: 1.0572 - acc: 0.5983 - val_loss: 1.2250 - val_acc: 0.5425\n",
            "\n",
            "Epoch 00146: val_loss did not improve from 1.21309\n",
            "Epoch 147/500\n",
            "57418/57418 [==============================] - 13s 226us/step - loss: 1.0581 - acc: 0.5996 - val_loss: 1.2250 - val_acc: 0.5425\n",
            "\n",
            "Epoch 00147: val_loss did not improve from 1.21309\n",
            "Epoch 148/500\n",
            "11008/57418 [====>.........................] - ETA: 9s - loss: 1.0563 - acc: 0.5982 "
          ],
          "name": "stdout"
        },
        {
          "output_type": "stream",
          "text": [
            "57418/57418 [==============================] - 13s 220us/step - loss: 1.0648 - acc: 0.5962 - val_loss: 1.2250 - val_acc: 0.5425\n",
            "\n",
            "Epoch 00148: ReduceLROnPlateau reducing learning rate to 2.1802423757978814e-14.\n",
            "\n",
            "Epoch 00148: val_loss did not improve from 1.21309\n",
            "Epoch 149/500\n",
            "57418/57418 [==============================] - 13s 220us/step - loss: 1.0603 - acc: 0.5961 - val_loss: 1.2250 - val_acc: 0.5425\n",
            "\n",
            "Epoch 00149: val_loss did not improve from 1.21309\n",
            "Epoch 150/500\n",
            " 1344/57418 [..............................] - ETA: 12s - loss: 1.0838 - acc: 0.5871"
          ],
          "name": "stdout"
        },
        {
          "output_type": "stream",
          "text": [
            "57418/57418 [==============================] - 13s 224us/step - loss: 1.0597 - acc: 0.5974 - val_loss: 1.2250 - val_acc: 0.5425\n",
            "\n",
            "Epoch 00150: val_loss did not improve from 1.21309\n",
            "Epoch 151/500\n",
            "57418/57418 [==============================] - 13s 226us/step - loss: 1.0597 - acc: 0.5980 - val_loss: 1.2250 - val_acc: 0.5425\n",
            "\n",
            "Epoch 00151: ReduceLROnPlateau reducing learning rate to 1.962218077231721e-14.\n",
            "\n",
            "Epoch 00151: val_loss did not improve from 1.21309\n",
            "Epoch 152/500\n",
            " 7872/57418 [===>..........................] - ETA: 10s - loss: 1.0632 - acc: 0.5913"
          ],
          "name": "stdout"
        },
        {
          "output_type": "stream",
          "text": [
            "57418/57418 [==============================] - 13s 223us/step - loss: 1.0602 - acc: 0.5966 - val_loss: 1.2250 - val_acc: 0.5425\n",
            "\n",
            "Epoch 00152: val_loss did not improve from 1.21309\n",
            "Epoch 153/500\n",
            "57418/57418 [==============================] - 13s 225us/step - loss: 1.0620 - acc: 0.5983 - val_loss: 1.2250 - val_acc: 0.5425\n",
            "\n",
            "Epoch 00153: val_loss did not improve from 1.21309\n",
            "Epoch 154/500\n",
            "10688/57418 [====>.........................] - ETA: 10s - loss: 1.0674 - acc: 0.5945"
          ],
          "name": "stdout"
        },
        {
          "output_type": "stream",
          "text": [
            "57418/57418 [==============================] - 13s 224us/step - loss: 1.0587 - acc: 0.5987 - val_loss: 1.2250 - val_acc: 0.5425\n",
            "\n",
            "Epoch 00154: ReduceLROnPlateau reducing learning rate to 1.765996254261956e-14.\n",
            "\n",
            "Epoch 00154: val_loss did not improve from 1.21309\n",
            "Epoch 155/500\n",
            "57418/57418 [==============================] - 13s 222us/step - loss: 1.0621 - acc: 0.5984 - val_loss: 1.2250 - val_acc: 0.5425\n",
            "\n",
            "Epoch 00155: val_loss did not improve from 1.21309\n",
            "Epoch 156/500\n",
            " 1088/57418 [..............................] - ETA: 12s - loss: 1.1071 - acc: 0.5744"
          ],
          "name": "stdout"
        },
        {
          "output_type": "stream",
          "text": [
            "57418/57418 [==============================] - 13s 223us/step - loss: 1.0564 - acc: 0.5998 - val_loss: 1.2250 - val_acc: 0.5425\n",
            "\n",
            "Epoch 00156: val_loss did not improve from 1.21309\n",
            "Epoch 157/500\n",
            "57418/57418 [==============================] - 13s 223us/step - loss: 1.0589 - acc: 0.6002 - val_loss: 1.2250 - val_acc: 0.5425\n",
            "\n",
            "Epoch 00157: ReduceLROnPlateau reducing learning rate to 1.5893966440823534e-14.\n",
            "\n",
            "Epoch 00157: val_loss did not improve from 1.21309\n",
            "Epoch 158/500\n",
            " 8256/57418 [===>..........................] - ETA: 11s - loss: 1.0611 - acc: 0.5996"
          ],
          "name": "stdout"
        },
        {
          "output_type": "stream",
          "text": [
            "57418/57418 [==============================] - 13s 226us/step - loss: 1.0623 - acc: 0.5991 - val_loss: 1.2250 - val_acc: 0.5425\n",
            "\n",
            "Epoch 00158: val_loss did not improve from 1.21309\n",
            "Epoch 159/500\n",
            "57418/57418 [==============================] - 13s 224us/step - loss: 1.0618 - acc: 0.5992 - val_loss: 1.2250 - val_acc: 0.5425\n",
            "\n",
            "Epoch 00159: val_loss did not improve from 1.21309\n",
            "Epoch 160/500\n",
            "10688/57418 [====>.........................] - ETA: 10s - loss: 1.0516 - acc: 0.6008"
          ],
          "name": "stdout"
        },
        {
          "output_type": "stream",
          "text": [
            "57418/57418 [==============================] - 13s 222us/step - loss: 1.0593 - acc: 0.5992 - val_loss: 1.2250 - val_acc: 0.5425\n",
            "\n",
            "Epoch 00160: ReduceLROnPlateau reducing learning rate to 1.4304570101673042e-14.\n",
            "\n",
            "Epoch 00160: val_loss did not improve from 1.21309\n",
            "Epoch 161/500\n",
            "57418/57418 [==============================] - 13s 222us/step - loss: 1.0632 - acc: 0.5966 - val_loss: 1.2250 - val_acc: 0.5425\n",
            "\n",
            "Epoch 00161: val_loss did not improve from 1.21309\n",
            "Epoch 162/500\n",
            " 1344/57418 [..............................] - ETA: 12s - loss: 1.0563 - acc: 0.5990"
          ],
          "name": "stdout"
        },
        {
          "output_type": "stream",
          "text": [
            "57418/57418 [==============================] - 13s 222us/step - loss: 1.0635 - acc: 0.5992 - val_loss: 1.2250 - val_acc: 0.5425\n",
            "\n",
            "Epoch 00162: val_loss did not improve from 1.21309\n",
            "Epoch 163/500\n",
            "57418/57418 [==============================] - 13s 222us/step - loss: 1.0582 - acc: 0.5981 - val_loss: 1.2250 - val_acc: 0.5425\n",
            "\n",
            "Epoch 00163: ReduceLROnPlateau reducing learning rate to 1.2874113396437598e-14.\n",
            "\n",
            "Epoch 00163: val_loss did not improve from 1.21309\n",
            "Epoch 164/500\n",
            " 8512/57418 [===>..........................] - ETA: 10s - loss: 1.0596 - acc: 0.6026"
          ],
          "name": "stdout"
        },
        {
          "output_type": "stream",
          "text": [
            "57418/57418 [==============================] - 13s 221us/step - loss: 1.0603 - acc: 0.5976 - val_loss: 1.2250 - val_acc: 0.5425\n",
            "\n",
            "Epoch 00164: val_loss did not improve from 1.21309\n",
            "Epoch 165/500\n",
            "57418/57418 [==============================] - 13s 223us/step - loss: 1.0570 - acc: 0.5995 - val_loss: 1.2250 - val_acc: 0.5425\n",
            "\n",
            "Epoch 00165: val_loss did not improve from 1.21309\n",
            "Epoch 166/500\n",
            "10880/57418 [====>.........................] - ETA: 10s - loss: 1.0636 - acc: 0.5912"
          ],
          "name": "stdout"
        },
        {
          "output_type": "stream",
          "text": [
            "57418/57418 [==============================] - 13s 222us/step - loss: 1.0594 - acc: 0.6005 - val_loss: 1.2250 - val_acc: 0.5425\n",
            "\n",
            "Epoch 00166: ReduceLROnPlateau reducing learning rate to 1.1586701751861977e-14.\n",
            "\n",
            "Epoch 00166: val_loss did not improve from 1.21309\n",
            "Epoch 167/500\n",
            "57418/57418 [==============================] - 13s 221us/step - loss: 1.0638 - acc: 0.5965 - val_loss: 1.2250 - val_acc: 0.5425\n",
            "\n",
            "Epoch 00167: val_loss did not improve from 1.21309\n",
            "Epoch 168/500\n",
            " 1344/57418 [..............................] - ETA: 12s - loss: 1.0547 - acc: 0.5893"
          ],
          "name": "stdout"
        },
        {
          "output_type": "stream",
          "text": [
            "57418/57418 [==============================] - 13s 226us/step - loss: 1.0596 - acc: 0.5970 - val_loss: 1.2250 - val_acc: 0.5425\n",
            "\n",
            "Epoch 00168: val_loss did not improve from 1.21309\n",
            "Epoch 169/500\n",
            "57418/57418 [==============================] - 13s 222us/step - loss: 1.0593 - acc: 0.6005 - val_loss: 1.2250 - val_acc: 0.5425\n",
            "\n",
            "Epoch 00169: ReduceLROnPlateau reducing learning rate to 1.042803157667578e-14.\n",
            "\n",
            "Epoch 00169: val_loss did not improve from 1.21309\n",
            "Epoch 170/500\n",
            " 8256/57418 [===>..........................] - ETA: 10s - loss: 1.0493 - acc: 0.6045"
          ],
          "name": "stdout"
        },
        {
          "output_type": "stream",
          "text": [
            "57418/57418 [==============================] - 13s 222us/step - loss: 1.0605 - acc: 0.5973 - val_loss: 1.2250 - val_acc: 0.5425\n",
            "\n",
            "Epoch 00170: val_loss did not improve from 1.21309\n",
            "Epoch 171/500\n",
            "57418/57418 [==============================] - 13s 224us/step - loss: 1.0604 - acc: 0.5976 - val_loss: 1.2250 - val_acc: 0.5425\n",
            "\n",
            "Epoch 00171: val_loss did not improve from 1.21309\n",
            "Epoch 172/500\n",
            "11072/57418 [====>.........................] - ETA: 10s - loss: 1.0646 - acc: 0.5987"
          ],
          "name": "stdout"
        },
        {
          "output_type": "stream",
          "text": [
            "57418/57418 [==============================] - 13s 222us/step - loss: 1.0584 - acc: 0.6000 - val_loss: 1.2250 - val_acc: 0.5425\n",
            "\n",
            "Epoch 00172: ReduceLROnPlateau reducing learning rate to 9.385228647707098e-15.\n",
            "\n",
            "Epoch 00172: val_loss did not improve from 1.21309\n",
            "Epoch 173/500\n",
            "57418/57418 [==============================] - 13s 223us/step - loss: 1.0581 - acc: 0.5980 - val_loss: 1.2250 - val_acc: 0.5425\n",
            "\n",
            "Epoch 00173: val_loss did not improve from 1.21309\n",
            "Epoch 174/500\n",
            " 1344/57418 [..............................] - ETA: 12s - loss: 1.0253 - acc: 0.6243"
          ],
          "name": "stdout"
        },
        {
          "output_type": "stream",
          "text": [
            "57418/57418 [==============================] - 13s 225us/step - loss: 1.0579 - acc: 0.5989 - val_loss: 1.2250 - val_acc: 0.5425\n",
            "\n",
            "Epoch 00174: val_loss did not improve from 1.21309\n",
            "Epoch 175/500\n",
            "57418/57418 [==============================] - 13s 224us/step - loss: 1.0607 - acc: 0.5978 - val_loss: 1.2250 - val_acc: 0.5425\n",
            "\n",
            "Epoch 00175: ReduceLROnPlateau reducing learning rate to 8.446705554237492e-15.\n",
            "\n",
            "Epoch 00175: val_loss did not improve from 1.21309\n",
            "Epoch 176/500\n",
            " 8256/57418 [===>..........................] - ETA: 10s - loss: 1.0535 - acc: 0.6009"
          ],
          "name": "stdout"
        },
        {
          "output_type": "stream",
          "text": [
            "57418/57418 [==============================] - 13s 222us/step - loss: 1.0590 - acc: 0.6000 - val_loss: 1.2250 - val_acc: 0.5425\n",
            "\n",
            "Epoch 00176: val_loss did not improve from 1.21309\n",
            "Epoch 177/500\n",
            "57418/57418 [==============================] - 13s 227us/step - loss: 1.0611 - acc: 0.5978 - val_loss: 1.2250 - val_acc: 0.5425\n",
            "\n",
            "Epoch 00177: val_loss did not improve from 1.21309\n",
            "Epoch 178/500\n",
            "10944/57418 [====>.........................] - ETA: 10s - loss: 1.0621 - acc: 0.5962"
          ],
          "name": "stdout"
        },
        {
          "output_type": "stream",
          "text": [
            "57418/57418 [==============================] - 13s 224us/step - loss: 1.0588 - acc: 0.6009 - val_loss: 1.2250 - val_acc: 0.5425\n",
            "\n",
            "Epoch 00178: ReduceLROnPlateau reducing learning rate to 7.602035151279673e-15.\n",
            "\n",
            "Epoch 00178: val_loss did not improve from 1.21309\n",
            "Epoch 179/500\n",
            "57418/57418 [==============================] - 13s 226us/step - loss: 1.0609 - acc: 0.5975 - val_loss: 1.2250 - val_acc: 0.5425\n",
            "\n",
            "Epoch 00179: val_loss did not improve from 1.21309\n",
            "Epoch 180/500\n",
            " 1088/57418 [..............................] - ETA: 12s - loss: 1.0676 - acc: 0.5965"
          ],
          "name": "stdout"
        },
        {
          "output_type": "stream",
          "text": [
            "57418/57418 [==============================] - 13s 223us/step - loss: 1.0604 - acc: 0.5980 - val_loss: 1.2250 - val_acc: 0.5425\n",
            "\n",
            "Epoch 00180: val_loss did not improve from 1.21309\n",
            "Epoch 181/500\n",
            "57418/57418 [==============================] - 13s 222us/step - loss: 1.0617 - acc: 0.5981 - val_loss: 1.2250 - val_acc: 0.5425\n",
            "\n",
            "Epoch 00181: ReduceLROnPlateau reducing learning rate to 6.841831636151706e-15.\n",
            "\n",
            "Epoch 00181: val_loss did not improve from 1.21309\n",
            "Epoch 182/500\n",
            " 8256/57418 [===>..........................] - ETA: 10s - loss: 1.0571 - acc: 0.6017"
          ],
          "name": "stdout"
        },
        {
          "output_type": "stream",
          "text": [
            "57418/57418 [==============================] - 13s 222us/step - loss: 1.0658 - acc: 0.5970 - val_loss: 1.2250 - val_acc: 0.5425\n",
            "\n",
            "Epoch 00182: val_loss did not improve from 1.21309\n",
            "Epoch 183/500\n",
            "57418/57418 [==============================] - 13s 223us/step - loss: 1.0604 - acc: 0.5982 - val_loss: 1.2250 - val_acc: 0.5425\n",
            "\n",
            "Epoch 00183: val_loss did not improve from 1.21309\n",
            "Epoch 184/500\n",
            "11072/57418 [====>.........................] - ETA: 10s - loss: 1.0589 - acc: 0.5993"
          ],
          "name": "stdout"
        },
        {
          "output_type": "stream",
          "text": [
            "57418/57418 [==============================] - 13s 223us/step - loss: 1.0607 - acc: 0.5989 - val_loss: 1.2250 - val_acc: 0.5425\n",
            "\n",
            "Epoch 00184: ReduceLROnPlateau reducing learning rate to 6.15764839630357e-15.\n",
            "\n",
            "Epoch 00184: val_loss did not improve from 1.21309\n",
            "Epoch 185/500\n",
            "57418/57418 [==============================] - 13s 222us/step - loss: 1.0592 - acc: 0.5986 - val_loss: 1.2250 - val_acc: 0.5425\n",
            "\n",
            "Epoch 00185: val_loss did not improve from 1.21309\n",
            "Epoch 186/500\n",
            " 1344/57418 [..............................] - ETA: 12s - loss: 1.0842 - acc: 0.5871"
          ],
          "name": "stdout"
        },
        {
          "output_type": "stream",
          "text": [
            "57418/57418 [==============================] - 13s 222us/step - loss: 1.0603 - acc: 0.5974 - val_loss: 1.2250 - val_acc: 0.5425\n",
            "\n",
            "Epoch 00186: val_loss did not improve from 1.21309\n",
            "Epoch 187/500\n",
            "57418/57418 [==============================] - 13s 221us/step - loss: 1.0603 - acc: 0.5974 - val_loss: 1.2250 - val_acc: 0.5425\n",
            "\n",
            "Epoch 00187: ReduceLROnPlateau reducing learning rate to 5.541883480440248e-15.\n",
            "\n",
            "Epoch 00187: val_loss did not improve from 1.21309\n",
            "Epoch 188/500\n",
            " 8448/57418 [===>..........................] - ETA: 10s - loss: 1.0530 - acc: 0.5960"
          ],
          "name": "stdout"
        },
        {
          "output_type": "stream",
          "text": [
            "57418/57418 [==============================] - 13s 221us/step - loss: 1.0572 - acc: 0.5968 - val_loss: 1.2250 - val_acc: 0.5425\n",
            "\n",
            "Epoch 00188: val_loss did not improve from 1.21309\n",
            "Epoch 189/500\n",
            "57418/57418 [==============================] - 13s 226us/step - loss: 1.0558 - acc: 0.5997 - val_loss: 1.2250 - val_acc: 0.5425\n",
            "\n",
            "Epoch 00189: val_loss did not improve from 1.21309\n",
            "Epoch 190/500\n",
            "10752/57418 [====>.........................] - ETA: 10s - loss: 1.0527 - acc: 0.5968"
          ],
          "name": "stdout"
        },
        {
          "output_type": "stream",
          "text": [
            "57418/57418 [==============================] - 13s 226us/step - loss: 1.0614 - acc: 0.5975 - val_loss: 1.2250 - val_acc: 0.5425\n",
            "\n",
            "Epoch 00190: ReduceLROnPlateau reducing learning rate to 4.9876949799302926e-15.\n",
            "\n",
            "Epoch 00190: val_loss did not improve from 1.21309\n",
            "Epoch 191/500\n",
            "57418/57418 [==============================] - 13s 234us/step - loss: 1.0569 - acc: 0.6004 - val_loss: 1.2250 - val_acc: 0.5425\n",
            "\n",
            "Epoch 00191: val_loss did not improve from 1.21309\n",
            "Epoch 192/500\n",
            "  832/57418 [..............................] - ETA: 12s - loss: 1.0728 - acc: 0.5962"
          ],
          "name": "stdout"
        },
        {
          "output_type": "stream",
          "text": [
            "57418/57418 [==============================] - 13s 233us/step - loss: 1.0630 - acc: 0.5975 - val_loss: 1.2250 - val_acc: 0.5425\n",
            "\n",
            "Epoch 00192: val_loss did not improve from 1.21309\n",
            "Epoch 193/500\n",
            "57418/57418 [==============================] - 14s 236us/step - loss: 1.0565 - acc: 0.6019 - val_loss: 1.2250 - val_acc: 0.5425\n",
            "\n",
            "Epoch 00193: ReduceLROnPlateau reducing learning rate to 4.488925558170229e-15.\n",
            "\n",
            "Epoch 00193: val_loss did not improve from 1.21309\n",
            "Epoch 194/500\n",
            " 7744/57418 [===>..........................] - ETA: 11s - loss: 1.0603 - acc: 0.5975"
          ],
          "name": "stdout"
        },
        {
          "output_type": "stream",
          "text": [
            "57418/57418 [==============================] - 14s 238us/step - loss: 1.0590 - acc: 0.6006 - val_loss: 1.2250 - val_acc: 0.5425\n",
            "\n",
            "Epoch 00194: val_loss did not improve from 1.21309\n",
            "Epoch 195/500\n",
            "57418/57418 [==============================] - 13s 235us/step - loss: 1.0583 - acc: 0.5981 - val_loss: 1.2250 - val_acc: 0.5425\n",
            "\n",
            "Epoch 00195: val_loss did not improve from 1.21309\n",
            "Epoch 196/500\n",
            "10176/57418 [====>.........................] - ETA: 10s - loss: 1.0709 - acc: 0.5962"
          ],
          "name": "stdout"
        },
        {
          "output_type": "stream",
          "text": [
            "57418/57418 [==============================] - 13s 234us/step - loss: 1.0613 - acc: 0.5974 - val_loss: 1.2250 - val_acc: 0.5425\n",
            "\n",
            "Epoch 00196: ReduceLROnPlateau reducing learning rate to 4.040033078586171e-15.\n",
            "\n",
            "Epoch 00196: val_loss did not improve from 1.21309\n",
            "Epoch 197/500\n",
            "57418/57418 [==============================] - 13s 234us/step - loss: 1.0587 - acc: 0.5977 - val_loss: 1.2250 - val_acc: 0.5425\n",
            "\n",
            "Epoch 00197: val_loss did not improve from 1.21309\n",
            "Epoch 198/500\n",
            "  576/57418 [..............................] - ETA: 12s - loss: 0.9627 - acc: 0.6528"
          ],
          "name": "stdout"
        },
        {
          "output_type": "stream",
          "text": [
            "57418/57418 [==============================] - 14s 236us/step - loss: 1.0569 - acc: 0.6001 - val_loss: 1.2250 - val_acc: 0.5425\n",
            "\n",
            "Epoch 00198: val_loss did not improve from 1.21309\n",
            "Epoch 199/500\n",
            "57418/57418 [==============================] - 13s 234us/step - loss: 1.0605 - acc: 0.5992 - val_loss: 1.2250 - val_acc: 0.5425\n",
            "\n",
            "Epoch 00199: ReduceLROnPlateau reducing learning rate to 3.636029618261624e-15.\n",
            "\n",
            "Epoch 00199: val_loss did not improve from 1.21309\n",
            "Epoch 200/500\n",
            " 7680/57418 [===>..........................] - ETA: 10s - loss: 1.0785 - acc: 0.5923"
          ],
          "name": "stdout"
        },
        {
          "output_type": "stream",
          "text": [
            "57418/57418 [==============================] - 13s 227us/step - loss: 1.0602 - acc: 0.6000 - val_loss: 1.2250 - val_acc: 0.5425\n",
            "\n",
            "Epoch 00200: val_loss did not improve from 1.21309\n",
            "Epoch 201/500\n",
            "57418/57418 [==============================] - 13s 232us/step - loss: 1.0594 - acc: 0.5983 - val_loss: 1.2250 - val_acc: 0.5425\n",
            "\n",
            "Epoch 00201: val_loss did not improve from 1.21309\n",
            "Epoch 202/500\n",
            "10688/57418 [====>.........................] - ETA: 10s - loss: 1.0566 - acc: 0.6070"
          ],
          "name": "stdout"
        },
        {
          "output_type": "stream",
          "text": [
            "57418/57418 [==============================] - 13s 235us/step - loss: 1.0583 - acc: 0.6002 - val_loss: 1.2250 - val_acc: 0.5425\n",
            "\n",
            "Epoch 00202: ReduceLROnPlateau reducing learning rate to 3.2724265802024955e-15.\n",
            "\n",
            "Epoch 00202: val_loss did not improve from 1.21309\n",
            "Epoch 203/500\n",
            "57418/57418 [==============================] - 13s 233us/step - loss: 1.0601 - acc: 0.5981 - val_loss: 1.2250 - val_acc: 0.5425\n",
            "\n",
            "Epoch 00203: val_loss did not improve from 1.21309\n",
            "Epoch 204/500\n",
            "  576/57418 [..............................] - ETA: 12s - loss: 1.0737 - acc: 0.5990"
          ],
          "name": "stdout"
        },
        {
          "output_type": "stream",
          "text": [
            "57418/57418 [==============================] - 13s 230us/step - loss: 1.0569 - acc: 0.6001 - val_loss: 1.2250 - val_acc: 0.5425\n",
            "\n",
            "Epoch 00204: val_loss did not improve from 1.21309\n",
            "Epoch 205/500\n",
            "57418/57418 [==============================] - 13s 234us/step - loss: 1.0584 - acc: 0.5996 - val_loss: 1.2250 - val_acc: 0.5425\n",
            "\n",
            "Epoch 00205: ReduceLROnPlateau reducing learning rate to 2.9451839984152115e-15.\n",
            "\n",
            "Epoch 00205: val_loss did not improve from 1.21309\n",
            "Epoch 206/500\n",
            " 7616/57418 [==>...........................] - ETA: 11s - loss: 1.0515 - acc: 0.6082"
          ],
          "name": "stdout"
        },
        {
          "output_type": "stream",
          "text": [
            "57418/57418 [==============================] - 13s 231us/step - loss: 1.0592 - acc: 0.5992 - val_loss: 1.2250 - val_acc: 0.5425\n",
            "\n",
            "Epoch 00206: val_loss did not improve from 1.21309\n",
            "Epoch 207/500\n",
            "57418/57418 [==============================] - 14s 235us/step - loss: 1.0639 - acc: 0.5979 - val_loss: 1.2250 - val_acc: 0.5425\n",
            "\n",
            "Epoch 00207: val_loss did not improve from 1.21309\n",
            "Epoch 208/500\n",
            "10496/57418 [====>.........................] - ETA: 10s - loss: 1.0470 - acc: 0.6064"
          ],
          "name": "stdout"
        },
        {
          "output_type": "stream",
          "text": [
            "57418/57418 [==============================] - 13s 229us/step - loss: 1.0623 - acc: 0.5983 - val_loss: 1.2250 - val_acc: 0.5425\n",
            "\n",
            "Epoch 00208: ReduceLROnPlateau reducing learning rate to 2.6506655604572078e-15.\n",
            "\n",
            "Epoch 00208: val_loss did not improve from 1.21309\n",
            "Epoch 209/500\n",
            "57418/57418 [==============================] - 13s 232us/step - loss: 1.0581 - acc: 0.5989 - val_loss: 1.2250 - val_acc: 0.5425\n",
            "\n",
            "Epoch 00209: val_loss did not improve from 1.21309\n",
            "Epoch 210/500\n",
            "  576/57418 [..............................] - ETA: 13s - loss: 1.0428 - acc: 0.5920"
          ],
          "name": "stdout"
        },
        {
          "output_type": "stream",
          "text": [
            "57418/57418 [==============================] - 13s 227us/step - loss: 1.0599 - acc: 0.5979 - val_loss: 1.2250 - val_acc: 0.5425\n",
            "\n",
            "Epoch 00210: val_loss did not improve from 1.21309\n",
            "Epoch 211/500\n",
            "57418/57418 [==============================] - 13s 230us/step - loss: 1.0576 - acc: 0.5978 - val_loss: 1.2250 - val_acc: 0.5425\n",
            "\n",
            "Epoch 00211: ReduceLROnPlateau reducing learning rate to 2.385598966295004e-15.\n",
            "\n",
            "Epoch 00211: val_loss did not improve from 1.21309\n",
            "Epoch 212/500\n",
            " 7872/57418 [===>..........................] - ETA: 11s - loss: 1.0569 - acc: 0.6007"
          ],
          "name": "stdout"
        },
        {
          "output_type": "stream",
          "text": [
            "57418/57418 [==============================] - 13s 228us/step - loss: 1.0598 - acc: 0.5989 - val_loss: 1.2250 - val_acc: 0.5425\n",
            "\n",
            "Epoch 00212: val_loss did not improve from 1.21309\n",
            "Epoch 213/500\n",
            "57418/57418 [==============================] - 14s 237us/step - loss: 1.0592 - acc: 0.5987 - val_loss: 1.2250 - val_acc: 0.5425\n",
            "\n",
            "Epoch 00213: val_loss did not improve from 1.21309\n",
            "Epoch 214/500\n",
            "10432/57418 [====>.........................] - ETA: 10s - loss: 1.0713 - acc: 0.5986"
          ],
          "name": "stdout"
        },
        {
          "output_type": "stream",
          "text": [
            "57418/57418 [==============================] - 13s 231us/step - loss: 1.0595 - acc: 0.6000 - val_loss: 1.2250 - val_acc: 0.5425\n",
            "\n",
            "Epoch 00214: ReduceLROnPlateau reducing learning rate to 2.1470391458984692e-15.\n",
            "\n",
            "Epoch 00214: val_loss did not improve from 1.21309\n",
            "Epoch 215/500\n",
            "57418/57418 [==============================] - 13s 233us/step - loss: 1.0606 - acc: 0.5976 - val_loss: 1.2250 - val_acc: 0.5425\n",
            "\n",
            "Epoch 00215: val_loss did not improve from 1.21309\n",
            "Epoch 216/500\n",
            "  576/57418 [..............................] - ETA: 13s - loss: 0.9742 - acc: 0.6389"
          ],
          "name": "stdout"
        },
        {
          "output_type": "stream",
          "text": [
            "57418/57418 [==============================] - 13s 230us/step - loss: 1.0592 - acc: 0.5975 - val_loss: 1.2250 - val_acc: 0.5425\n",
            "\n",
            "Epoch 00216: val_loss did not improve from 1.21309\n",
            "Epoch 217/500\n",
            "57418/57418 [==============================] - 13s 231us/step - loss: 1.0605 - acc: 0.5991 - val_loss: 1.2250 - val_acc: 0.5425\n",
            "\n",
            "Epoch 00217: ReduceLROnPlateau reducing learning rate to 1.932335288483346e-15.\n",
            "\n",
            "Epoch 00217: val_loss did not improve from 1.21309\n",
            "Epoch 218/500\n",
            " 7360/57418 [==>...........................] - ETA: 11s - loss: 1.0591 - acc: 0.6023"
          ],
          "name": "stdout"
        },
        {
          "output_type": "stream",
          "text": [
            "57418/57418 [==============================] - 13s 230us/step - loss: 1.0596 - acc: 0.5989 - val_loss: 1.2250 - val_acc: 0.5425\n",
            "\n",
            "Epoch 00218: val_loss did not improve from 1.21309\n",
            "Epoch 219/500\n",
            "57418/57418 [==============================] - 13s 232us/step - loss: 1.0592 - acc: 0.5989 - val_loss: 1.2250 - val_acc: 0.5425\n",
            "\n",
            "Epoch 00219: val_loss did not improve from 1.21309\n",
            "Epoch 220/500\n",
            "10240/57418 [====>.........................] - ETA: 10s - loss: 1.0551 - acc: 0.5999"
          ],
          "name": "stdout"
        },
        {
          "output_type": "stream",
          "text": [
            "57418/57418 [==============================] - 13s 233us/step - loss: 1.0590 - acc: 0.5980 - val_loss: 1.2250 - val_acc: 0.5425\n",
            "\n",
            "Epoch 00220: ReduceLROnPlateau reducing learning rate to 1.7391016834020462e-15.\n",
            "\n",
            "Epoch 00220: val_loss did not improve from 1.21309\n",
            "Epoch 221/500\n",
            "57418/57418 [==============================] - 13s 233us/step - loss: 1.0568 - acc: 0.5977 - val_loss: 1.2250 - val_acc: 0.5425\n",
            "\n",
            "Epoch 00221: val_loss did not improve from 1.21309\n",
            "Epoch 222/500\n",
            "  576/57418 [..............................] - ETA: 13s - loss: 1.0028 - acc: 0.6406"
          ],
          "name": "stdout"
        },
        {
          "output_type": "stream",
          "text": [
            "57418/57418 [==============================] - 13s 228us/step - loss: 1.0619 - acc: 0.5992 - val_loss: 1.2250 - val_acc: 0.5425\n",
            "\n",
            "Epoch 00222: val_loss did not improve from 1.21309\n",
            "Epoch 223/500\n",
            "57418/57418 [==============================] - 13s 223us/step - loss: 1.0603 - acc: 0.5975 - val_loss: 1.2250 - val_acc: 0.5425\n",
            "\n",
            "Epoch 00223: ReduceLROnPlateau reducing learning rate to 1.5651915150618416e-15.\n",
            "\n",
            "Epoch 00223: val_loss did not improve from 1.21309\n",
            "Epoch 224/500\n",
            " 8000/57418 [===>..........................] - ETA: 10s - loss: 1.0811 - acc: 0.5940"
          ],
          "name": "stdout"
        },
        {
          "output_type": "stream",
          "text": [
            "57418/57418 [==============================] - 13s 222us/step - loss: 1.0582 - acc: 0.6000 - val_loss: 1.2250 - val_acc: 0.5425\n",
            "\n",
            "Epoch 00224: val_loss did not improve from 1.21309\n",
            "Epoch 225/500\n",
            "57418/57418 [==============================] - 13s 223us/step - loss: 1.0563 - acc: 0.6000 - val_loss: 1.2250 - val_acc: 0.5425\n",
            "\n",
            "Epoch 00225: val_loss did not improve from 1.21309\n",
            "Epoch 226/500\n",
            "10816/57418 [====>.........................] - ETA: 10s - loss: 1.0493 - acc: 0.6035"
          ],
          "name": "stdout"
        },
        {
          "output_type": "stream",
          "text": [
            "57418/57418 [==============================] - 13s 221us/step - loss: 1.0601 - acc: 0.5999 - val_loss: 1.2250 - val_acc: 0.5425\n",
            "\n",
            "Epoch 00226: ReduceLROnPlateau reducing learning rate to 1.408672373084778e-15.\n",
            "\n",
            "Epoch 00226: val_loss did not improve from 1.21309\n",
            "Epoch 227/500\n",
            "57418/57418 [==============================] - 13s 219us/step - loss: 1.0597 - acc: 0.5987 - val_loss: 1.2250 - val_acc: 0.5425\n",
            "\n",
            "Epoch 00227: val_loss did not improve from 1.21309\n",
            "Epoch 228/500\n",
            " 1344/57418 [..............................] - ETA: 12s - loss: 1.0897 - acc: 0.5952"
          ],
          "name": "stdout"
        },
        {
          "output_type": "stream",
          "text": [
            "57418/57418 [==============================] - 13s 221us/step - loss: 1.0581 - acc: 0.5985 - val_loss: 1.2250 - val_acc: 0.5425\n",
            "\n",
            "Epoch 00228: val_loss did not improve from 1.21309\n",
            "Epoch 229/500\n",
            "57418/57418 [==============================] - 13s 221us/step - loss: 1.0642 - acc: 0.5975 - val_loss: 1.2250 - val_acc: 0.5425\n",
            "\n",
            "Epoch 00229: ReduceLROnPlateau reducing learning rate to 1.2678050976598176e-15.\n",
            "\n",
            "Epoch 00229: val_loss did not improve from 1.21309\n",
            "Epoch 230/500\n",
            " 8448/57418 [===>..........................] - ETA: 10s - loss: 1.0698 - acc: 0.6009"
          ],
          "name": "stdout"
        },
        {
          "output_type": "stream",
          "text": [
            "57418/57418 [==============================] - 13s 224us/step - loss: 1.0567 - acc: 0.5990 - val_loss: 1.2250 - val_acc: 0.5425\n",
            "\n",
            "Epoch 00230: val_loss did not improve from 1.21309\n",
            "Epoch 231/500\n",
            "57418/57418 [==============================] - 13s 218us/step - loss: 1.0588 - acc: 0.5981 - val_loss: 1.2250 - val_acc: 0.5425\n",
            "\n",
            "Epoch 00231: val_loss did not improve from 1.21309\n",
            "Epoch 232/500\n",
            "11072/57418 [====>.........................] - ETA: 9s - loss: 1.0725 - acc: 0.5943"
          ],
          "name": "stdout"
        },
        {
          "output_type": "stream",
          "text": [
            "57418/57418 [==============================] - 13s 220us/step - loss: 1.0618 - acc: 0.5989 - val_loss: 1.2250 - val_acc: 0.5425\n",
            "\n",
            "Epoch 00232: ReduceLROnPlateau reducing learning rate to 1.1410246260103185e-15.\n",
            "\n",
            "Epoch 00232: val_loss did not improve from 1.21309\n",
            "Epoch 233/500\n",
            "57418/57418 [==============================] - 13s 221us/step - loss: 1.0583 - acc: 0.5997 - val_loss: 1.2250 - val_acc: 0.5425\n",
            "\n",
            "Epoch 00233: val_loss did not improve from 1.21309\n",
            "Epoch 234/500\n",
            " 1344/57418 [..............................] - ETA: 12s - loss: 1.1217 - acc: 0.5796"
          ],
          "name": "stdout"
        },
        {
          "output_type": "stream",
          "text": [
            "57418/57418 [==============================] - 13s 220us/step - loss: 1.0616 - acc: 0.5981 - val_loss: 1.2250 - val_acc: 0.5425\n",
            "\n",
            "Epoch 00234: val_loss did not improve from 1.21309\n",
            "Epoch 235/500\n",
            "57418/57418 [==============================] - 13s 220us/step - loss: 1.0605 - acc: 0.5979 - val_loss: 1.2250 - val_acc: 0.5425\n",
            "\n",
            "Epoch 00235: ReduceLROnPlateau reducing learning rate to 1.0269221729384074e-15.\n",
            "\n",
            "Epoch 00235: val_loss did not improve from 1.21309\n",
            "Epoch 236/500\n",
            " 8256/57418 [===>..........................] - ETA: 10s - loss: 1.0564 - acc: 0.6009"
          ],
          "name": "stdout"
        },
        {
          "output_type": "stream",
          "text": [
            "57418/57418 [==============================] - 13s 225us/step - loss: 1.0628 - acc: 0.5983 - val_loss: 1.2250 - val_acc: 0.5425\n",
            "\n",
            "Epoch 00236: val_loss did not improve from 1.21309\n",
            "Epoch 237/500\n",
            "57418/57418 [==============================] - 13s 224us/step - loss: 1.0644 - acc: 0.5987 - val_loss: 1.2250 - val_acc: 0.5425\n",
            "\n",
            "Epoch 00237: val_loss did not improve from 1.21309\n",
            "Epoch 238/500\n",
            "11072/57418 [====>.........................] - ETA: 9s - loss: 1.0613 - acc: 0.5968 "
          ],
          "name": "stdout"
        },
        {
          "output_type": "stream",
          "text": [
            "57418/57418 [==============================] - 13s 222us/step - loss: 1.0577 - acc: 0.5998 - val_loss: 1.2250 - val_acc: 0.5425\n",
            "\n",
            "Epoch 00238: ReduceLROnPlateau reducing learning rate to 9.242299842319286e-16.\n",
            "\n",
            "Epoch 00238: val_loss did not improve from 1.21309\n",
            "Epoch 239/500\n",
            "57418/57418 [==============================] - 13s 224us/step - loss: 1.0594 - acc: 0.5999 - val_loss: 1.2250 - val_acc: 0.5425\n",
            "\n",
            "Epoch 00239: val_loss did not improve from 1.21309\n",
            "Epoch 240/500\n",
            " 1344/57418 [..............................] - ETA: 11s - loss: 1.0695 - acc: 0.5960"
          ],
          "name": "stdout"
        },
        {
          "output_type": "stream",
          "text": [
            "57418/57418 [==============================] - 13s 222us/step - loss: 1.0612 - acc: 0.5988 - val_loss: 1.2250 - val_acc: 0.5425\n",
            "\n",
            "Epoch 00240: val_loss did not improve from 1.21309\n",
            "Epoch 241/500\n",
            "57418/57418 [==============================] - 13s 223us/step - loss: 1.0583 - acc: 0.5986 - val_loss: 1.2250 - val_acc: 0.5425\n",
            "\n",
            "Epoch 00241: ReduceLROnPlateau reducing learning rate to 8.318069476922531e-16.\n",
            "\n",
            "Epoch 00241: val_loss did not improve from 1.21309\n",
            "Epoch 242/500\n",
            " 8256/57418 [===>..........................] - ETA: 10s - loss: 1.0377 - acc: 0.6074"
          ],
          "name": "stdout"
        },
        {
          "output_type": "stream",
          "text": [
            "57418/57418 [==============================] - 13s 219us/step - loss: 1.0576 - acc: 0.5985 - val_loss: 1.2250 - val_acc: 0.5425\n",
            "\n",
            "Epoch 00242: val_loss did not improve from 1.21309\n",
            "Epoch 243/500\n",
            "57418/57418 [==============================] - 13s 220us/step - loss: 1.0605 - acc: 0.5993 - val_loss: 1.2250 - val_acc: 0.5425\n",
            "\n",
            "Epoch 00243: val_loss did not improve from 1.21309\n",
            "Epoch 244/500\n",
            "11008/57418 [====>.........................] - ETA: 10s - loss: 1.0401 - acc: 0.6068"
          ],
          "name": "stdout"
        },
        {
          "output_type": "stream",
          "text": [
            "57418/57418 [==============================] - 13s 223us/step - loss: 1.0586 - acc: 0.6017 - val_loss: 1.2250 - val_acc: 0.5425\n",
            "\n",
            "Epoch 00244: ReduceLROnPlateau reducing learning rate to 7.486262529230277e-16.\n",
            "\n",
            "Epoch 00244: val_loss did not improve from 1.21309\n",
            "Epoch 245/500\n",
            "57418/57418 [==============================] - 13s 219us/step - loss: 1.0618 - acc: 0.5964 - val_loss: 1.2250 - val_acc: 0.5425\n",
            "\n",
            "Epoch 00245: val_loss did not improve from 1.21309\n",
            "Epoch 246/500\n",
            " 1344/57418 [..............................] - ETA: 12s - loss: 1.0592 - acc: 0.6034"
          ],
          "name": "stdout"
        },
        {
          "output_type": "stream",
          "text": [
            "57418/57418 [==============================] - 13s 223us/step - loss: 1.0612 - acc: 0.5997 - val_loss: 1.2250 - val_acc: 0.5425\n",
            "\n",
            "Epoch 00246: val_loss did not improve from 1.21309\n",
            "Epoch 247/500\n",
            "57418/57418 [==============================] - 13s 222us/step - loss: 1.0617 - acc: 0.5983 - val_loss: 1.2250 - val_acc: 0.5425\n",
            "\n",
            "Epoch 00247: ReduceLROnPlateau reducing learning rate to 6.737636228661646e-16.\n",
            "\n",
            "Epoch 00247: val_loss did not improve from 1.21309\n",
            "Epoch 248/500\n",
            " 8256/57418 [===>..........................] - ETA: 10s - loss: 1.0731 - acc: 0.5939"
          ],
          "name": "stdout"
        },
        {
          "output_type": "stream",
          "text": [
            "57418/57418 [==============================] - 13s 224us/step - loss: 1.0615 - acc: 0.5965 - val_loss: 1.2250 - val_acc: 0.5425\n",
            "\n",
            "Epoch 00248: val_loss did not improve from 1.21309\n",
            "Epoch 249/500\n",
            "57418/57418 [==============================] - 13s 220us/step - loss: 1.0574 - acc: 0.5995 - val_loss: 1.2250 - val_acc: 0.5425\n",
            "\n",
            "Epoch 00249: val_loss did not improve from 1.21309\n",
            "Epoch 250/500\n",
            "11072/57418 [====>.........................] - ETA: 9s - loss: 1.0670 - acc: 0.6004 "
          ],
          "name": "stdout"
        },
        {
          "output_type": "stream",
          "text": [
            "57418/57418 [==============================] - 13s 221us/step - loss: 1.0593 - acc: 0.5996 - val_loss: 1.2250 - val_acc: 0.5425\n",
            "\n",
            "Epoch 00250: ReduceLROnPlateau reducing learning rate to 6.063872605795482e-16.\n",
            "\n",
            "Epoch 00250: val_loss did not improve from 1.21309\n",
            "Epoch 251/500\n",
            "57418/57418 [==============================] - 13s 223us/step - loss: 1.0590 - acc: 0.5984 - val_loss: 1.2250 - val_acc: 0.5425\n",
            "\n",
            "Epoch 00251: val_loss did not improve from 1.21309\n",
            "Epoch 252/500\n",
            " 1344/57418 [..............................] - ETA: 12s - loss: 1.0739 - acc: 0.6079"
          ],
          "name": "stdout"
        },
        {
          "output_type": "stream",
          "text": [
            "57418/57418 [==============================] - 13s 221us/step - loss: 1.0592 - acc: 0.6014 - val_loss: 1.2250 - val_acc: 0.5425\n",
            "\n",
            "Epoch 00252: val_loss did not improve from 1.21309\n",
            "Epoch 253/500\n",
            "57418/57418 [==============================] - 13s 220us/step - loss: 1.0578 - acc: 0.5982 - val_loss: 1.2250 - val_acc: 0.5425\n",
            "\n",
            "Epoch 00253: ReduceLROnPlateau reducing learning rate to 5.45748558344395e-16.\n",
            "\n",
            "Epoch 00253: val_loss did not improve from 1.21309\n",
            "Epoch 254/500\n",
            " 8512/57418 [===>..........................] - ETA: 10s - loss: 1.0684 - acc: 0.5943"
          ],
          "name": "stdout"
        },
        {
          "output_type": "stream",
          "text": [
            "57418/57418 [==============================] - 13s 220us/step - loss: 1.0615 - acc: 0.5982 - val_loss: 1.2250 - val_acc: 0.5425\n",
            "\n",
            "Epoch 00254: val_loss did not improve from 1.21309\n",
            "Epoch 255/500\n",
            "23296/57418 [===========>..................] - ETA: 7s - loss: 1.0686 - acc: 0.5944"
          ],
          "name": "stdout"
        }
      ]
    },
    {
      "metadata": {
        "id": "2z5Xq5RgyJgn",
        "colab_type": "code",
        "colab": {}
      },
      "cell_type": "code",
      "source": [
        "model2.save_weights(\"drive/face_expr_model2.h5\")"
      ],
      "execution_count": 0,
      "outputs": []
    },
    {
      "metadata": {
        "id": "YBUGjVtXyUDZ",
        "colab_type": "code",
        "colab": {
          "base_uri": "https://localhost:8080/",
          "height": 52
        },
        "outputId": "e35ba933-764e-406e-f7ec-8059c3118f92"
      },
      "cell_type": "code",
      "source": [
        "model2.evaluate(X_test, Y_test, batch_size=batch_size)"
      ],
      "execution_count": 51,
      "outputs": [
        {
          "output_type": "stream",
          "text": [
            "3589/3589 [==============================] - 0s 106us/step\n"
          ],
          "name": "stdout"
        },
        {
          "output_type": "execute_result",
          "data": {
            "text/plain": [
              "[1.2448785638171473, 0.5402619114042359]"
            ]
          },
          "metadata": {
            "tags": []
          },
          "execution_count": 51
        }
      ]
    },
    {
      "metadata": {
        "id": "RlI2rjGdI85C",
        "colab_type": "text"
      },
      "cell_type": "markdown",
      "source": [
        "### Model3 - My own"
      ]
    },
    {
      "metadata": {
        "id": "JQhWxjYBAiaG",
        "colab_type": "code",
        "colab": {}
      },
      "cell_type": "code",
      "source": [
        "def Model3():\n",
        "  model = Sequential()\n",
        "\n",
        "  model.add(Conv2D(64, (5, 5), activation='relu', input_shape=(48,48,1)))\n",
        "  model.add(MaxPooling2D(pool_size=(5,5), strides=(2, 2)))\n",
        "  model.add(Dropout(0.2))\n",
        "\n",
        "  model.add(Conv2D(64, (3, 3), activation='relu'))\n",
        "  model.add(Conv2D(64, (3, 3), activation='relu'))\n",
        "  model.add(MaxPooling2D(pool_size=(3,3), strides=(2, 2)))\n",
        "  model.add(Dropout(0.2))\n",
        "  \n",
        "  model.add(Conv2D(128, (3, 3), activation='relu'))\n",
        "  model.add(Conv2D(128, (3, 3), activation='relu'))\n",
        "  model.add(MaxPooling2D(pool_size=(3,3), strides=(2, 2)))\n",
        "  model.add(Dropout(0.2))\n",
        "  \n",
        "  model.add(Flatten())\n",
        "\n",
        "  model.add(Dense(1024, activation='relu'))\n",
        "  model.add(Dropout(0.1))\n",
        "  model.add(Dense(1024, activation='relu'))\n",
        "  model.add(Dropout(0.1))\n",
        "\n",
        "  model.add(Dense(7, activation='softmax'))\n",
        "  return model\n",
        "\n",
        "# TODO - replace MaxPooling with stochastic pooling"
      ],
      "execution_count": 0,
      "outputs": []
    },
    {
      "metadata": {
        "id": "QfA9kpRUNSit",
        "colab_type": "code",
        "colab": {}
      },
      "cell_type": "code",
      "source": [
        "model3=Model3()"
      ],
      "execution_count": 0,
      "outputs": []
    },
    {
      "metadata": {
        "id": "R4NakEqqxw1J",
        "colab_type": "code",
        "colab": {}
      },
      "cell_type": "code",
      "source": [
        "from keras.preprocessing.image import ImageDataGenerator\n",
        "gen = ImageDataGenerator()\n",
        "train_generator = gen.flow(X_train, Y_train, batch_size=batch_size)\n",
        " \n",
        "model3.compile(loss='categorical_crossentropy'\n",
        ", optimizer=Adam()\n",
        ", metrics=['accuracy']\n",
        ")\n",
        " "
      ],
      "execution_count": 0,
      "outputs": []
    },
    {
      "metadata": {
        "id": "d3Dfmh5nxa5Z",
        "colab_type": "code",
        "colab": {}
      },
      "cell_type": "code",
      "source": [
        "model3.load_weights(\"drive/face_expr_model3.h5\")"
      ],
      "execution_count": 0,
      "outputs": []
    },
    {
      "metadata": {
        "id": "zuvOjzW8JRxg",
        "colab_type": "code",
        "colab": {
          "base_uri": "https://localhost:8080/",
          "height": 34721
        },
        "outputId": "da79fa05-41de-4570-bcf3-fc11cb177f11"
      },
      "cell_type": "code",
      "source": [
        "model3.fit_generator(train_generator, steps_per_epoch=50, epochs=1000)"
      ],
      "execution_count": 67,
      "outputs": [
        {
          "output_type": "stream",
          "text": [
            "Epoch 1/1000\n",
            "50/50 [==============================] - 2s 35ms/step - loss: 0.9092 - acc: 0.6594\n",
            "Epoch 2/1000\n",
            "50/50 [==============================] - 2s 32ms/step - loss: 0.9269 - acc: 0.6567\n",
            "Epoch 3/1000\n",
            "50/50 [==============================] - 2s 32ms/step - loss: 0.8901 - acc: 0.6803\n",
            "Epoch 4/1000\n",
            "50/50 [==============================] - 2s 32ms/step - loss: 0.9860 - acc: 0.6312\n",
            "Epoch 5/1000\n",
            "50/50 [==============================] - 2s 33ms/step - loss: 0.9531 - acc: 0.6591\n",
            "Epoch 6/1000\n",
            "50/50 [==============================] - 2s 32ms/step - loss: 1.4164 - acc: 0.4559\n",
            "Epoch 7/1000\n",
            "50/50 [==============================] - 2s 33ms/step - loss: 1.3232 - acc: 0.4972\n",
            "Epoch 8/1000\n",
            "50/50 [==============================] - 2s 33ms/step - loss: 1.2291 - acc: 0.5409\n",
            "Epoch 9/1000\n",
            "11/50 [=====>........................] - ETA: 1s - loss: 1.2220 - acc: 0.5312"
          ],
          "name": "stdout"
        },
        {
          "output_type": "stream",
          "text": [
            "50/50 [==============================] - 2s 32ms/step - loss: 1.1575 - acc: 0.5672\n",
            "Epoch 10/1000\n",
            "50/50 [==============================] - 2s 32ms/step - loss: 1.0875 - acc: 0.6016\n",
            "Epoch 11/1000\n",
            "50/50 [==============================] - 2s 32ms/step - loss: 1.0367 - acc: 0.6169\n",
            "Epoch 12/1000\n",
            "50/50 [==============================] - 2s 33ms/step - loss: 1.0058 - acc: 0.6238\n",
            "Epoch 13/1000\n",
            "50/50 [==============================] - 2s 32ms/step - loss: 0.9812 - acc: 0.6347\n",
            "Epoch 14/1000\n",
            "50/50 [==============================] - 2s 33ms/step - loss: 0.9568 - acc: 0.6522\n",
            "Epoch 15/1000\n",
            "50/50 [==============================] - 2s 33ms/step - loss: 0.9796 - acc: 0.6369\n",
            "Epoch 16/1000\n",
            "50/50 [==============================] - 2s 33ms/step - loss: 0.9505 - acc: 0.6425\n",
            "Epoch 17/1000\n",
            "13/50 [======>.......................] - ETA: 1s - loss: 0.9309 - acc: 0.6478"
          ],
          "name": "stdout"
        },
        {
          "output_type": "stream",
          "text": [
            "50/50 [==============================] - 2s 32ms/step - loss: 0.9050 - acc: 0.6653\n",
            "Epoch 18/1000\n",
            "50/50 [==============================] - 2s 33ms/step - loss: 0.9496 - acc: 0.6491\n",
            "Epoch 19/1000\n",
            "50/50 [==============================] - 2s 32ms/step - loss: 0.9204 - acc: 0.6572\n",
            "Epoch 20/1000\n",
            "50/50 [==============================] - 2s 32ms/step - loss: 0.9726 - acc: 0.6461\n",
            "Epoch 21/1000\n",
            "50/50 [==============================] - 2s 32ms/step - loss: 0.9102 - acc: 0.6562\n",
            "Epoch 22/1000\n",
            "50/50 [==============================] - 2s 33ms/step - loss: 0.9243 - acc: 0.6622\n",
            "Epoch 23/1000\n",
            "50/50 [==============================] - 2s 32ms/step - loss: 0.9152 - acc: 0.6591\n",
            "Epoch 24/1000\n",
            "50/50 [==============================] - 2s 32ms/step - loss: 0.9227 - acc: 0.6603\n",
            "Epoch 25/1000\n",
            "21/50 [===========>..................] - ETA: 0s - loss: 0.9332 - acc: 0.6607"
          ],
          "name": "stdout"
        },
        {
          "output_type": "stream",
          "text": [
            "50/50 [==============================] - 2s 32ms/step - loss: 0.9171 - acc: 0.6628\n",
            "Epoch 26/1000\n",
            "50/50 [==============================] - 2s 32ms/step - loss: 0.9085 - acc: 0.6672\n",
            "Epoch 27/1000\n",
            "50/50 [==============================] - 2s 33ms/step - loss: 0.9413 - acc: 0.6506\n",
            "Epoch 28/1000\n",
            "50/50 [==============================] - 2s 32ms/step - loss: 0.9392 - acc: 0.6441\n",
            "Epoch 29/1000\n",
            "50/50 [==============================] - 2s 33ms/step - loss: 0.9110 - acc: 0.6634\n",
            "Epoch 30/1000\n",
            "50/50 [==============================] - 2s 32ms/step - loss: 1.0794 - acc: 0.5966\n",
            "Epoch 31/1000\n",
            "50/50 [==============================] - 2s 32ms/step - loss: 1.1508 - acc: 0.5747\n",
            "Epoch 32/1000\n",
            "50/50 [==============================] - 2s 33ms/step - loss: 1.0247 - acc: 0.6134\n",
            "Epoch 33/1000\n",
            "19/50 [==========>...................] - ETA: 1s - loss: 0.9496 - acc: 0.6464"
          ],
          "name": "stdout"
        },
        {
          "output_type": "stream",
          "text": [
            "50/50 [==============================] - 2s 32ms/step - loss: 0.9653 - acc: 0.6456\n",
            "Epoch 34/1000\n",
            "50/50 [==============================] - 2s 32ms/step - loss: 0.9896 - acc: 0.6228\n",
            "Epoch 35/1000\n",
            "50/50 [==============================] - 2s 33ms/step - loss: 0.9546 - acc: 0.6497\n",
            "Epoch 36/1000\n",
            "50/50 [==============================] - 2s 33ms/step - loss: 0.9234 - acc: 0.6509\n",
            "Epoch 37/1000\n",
            "50/50 [==============================] - 2s 33ms/step - loss: 0.9315 - acc: 0.6491\n",
            "Epoch 38/1000\n",
            "50/50 [==============================] - 2s 33ms/step - loss: 0.9444 - acc: 0.6519\n",
            "Epoch 39/1000\n",
            "50/50 [==============================] - 2s 33ms/step - loss: 0.9317 - acc: 0.6600\n",
            "Epoch 40/1000\n",
            "50/50 [==============================] - 2s 33ms/step - loss: 0.9258 - acc: 0.6553\n",
            "Epoch 41/1000\n",
            "19/50 [==========>...................] - ETA: 1s - loss: 0.8884 - acc: 0.6776"
          ],
          "name": "stdout"
        },
        {
          "output_type": "stream",
          "text": [
            "50/50 [==============================] - 2s 33ms/step - loss: 0.9022 - acc: 0.6709\n",
            "Epoch 42/1000\n",
            "50/50 [==============================] - 2s 33ms/step - loss: 0.9379 - acc: 0.6519\n",
            "Epoch 43/1000\n",
            "50/50 [==============================] - 2s 33ms/step - loss: 0.9198 - acc: 0.6644\n",
            "Epoch 44/1000\n",
            "50/50 [==============================] - 2s 32ms/step - loss: 0.9453 - acc: 0.6572\n",
            "Epoch 45/1000\n",
            "50/50 [==============================] - 2s 33ms/step - loss: 0.9371 - acc: 0.6600\n",
            "Epoch 46/1000\n",
            "50/50 [==============================] - 2s 32ms/step - loss: 0.9247 - acc: 0.6637\n",
            "Epoch 47/1000\n",
            "50/50 [==============================] - 2s 32ms/step - loss: 0.9243 - acc: 0.6475\n",
            "Epoch 48/1000\n",
            "50/50 [==============================] - 2s 33ms/step - loss: 0.9012 - acc: 0.6628\n",
            "Epoch 49/1000\n",
            "18/50 [=========>....................] - ETA: 1s - loss: 0.9262 - acc: 0.6490"
          ],
          "name": "stdout"
        },
        {
          "output_type": "stream",
          "text": [
            "50/50 [==============================] - 2s 32ms/step - loss: 0.9058 - acc: 0.6610\n",
            "Epoch 50/1000\n",
            "50/50 [==============================] - 2s 33ms/step - loss: 0.9223 - acc: 0.6641\n",
            "Epoch 51/1000\n",
            "50/50 [==============================] - 2s 32ms/step - loss: 0.9536 - acc: 0.6497\n",
            "Epoch 52/1000\n",
            "50/50 [==============================] - 2s 33ms/step - loss: 0.9392 - acc: 0.6541\n",
            "Epoch 53/1000\n",
            "50/50 [==============================] - 2s 33ms/step - loss: 0.9035 - acc: 0.6650\n",
            "Epoch 54/1000\n",
            "50/50 [==============================] - 2s 34ms/step - loss: 0.9072 - acc: 0.6525\n",
            "Epoch 55/1000\n",
            "50/50 [==============================] - 2s 33ms/step - loss: 0.9068 - acc: 0.6766\n",
            "Epoch 56/1000\n",
            "50/50 [==============================] - 2s 33ms/step - loss: 0.9491 - acc: 0.6597\n",
            "Epoch 57/1000\n",
            "19/50 [==========>...................] - ETA: 1s - loss: 0.9210 - acc: 0.6661"
          ],
          "name": "stdout"
        },
        {
          "output_type": "stream",
          "text": [
            "50/50 [==============================] - 2s 32ms/step - loss: 0.8927 - acc: 0.6694\n",
            "Epoch 58/1000\n",
            "50/50 [==============================] - 2s 33ms/step - loss: 0.9593 - acc: 0.6566\n",
            "Epoch 59/1000\n",
            "50/50 [==============================] - 2s 33ms/step - loss: 0.9144 - acc: 0.6613\n",
            "Epoch 60/1000\n",
            "50/50 [==============================] - 2s 33ms/step - loss: 0.9172 - acc: 0.6663\n",
            "Epoch 61/1000\n",
            "50/50 [==============================] - 2s 33ms/step - loss: 0.9494 - acc: 0.6459\n",
            "Epoch 62/1000\n",
            "50/50 [==============================] - 2s 32ms/step - loss: 0.9560 - acc: 0.6459\n",
            "Epoch 63/1000\n",
            "50/50 [==============================] - 2s 32ms/step - loss: 0.9076 - acc: 0.6566\n",
            "Epoch 64/1000\n",
            "50/50 [==============================] - 2s 33ms/step - loss: 0.9019 - acc: 0.6500\n",
            "Epoch 65/1000\n",
            "25/50 [==============>...............] - ETA: 0s - loss: 0.9240 - acc: 0.6631"
          ],
          "name": "stdout"
        },
        {
          "output_type": "stream",
          "text": [
            "50/50 [==============================] - 2s 32ms/step - loss: 0.9548 - acc: 0.6462\n",
            "Epoch 66/1000\n",
            "50/50 [==============================] - 2s 32ms/step - loss: 0.9945 - acc: 0.6334\n",
            "Epoch 67/1000\n",
            "50/50 [==============================] - 2s 32ms/step - loss: 0.9561 - acc: 0.6481\n",
            "Epoch 68/1000\n",
            "50/50 [==============================] - 2s 33ms/step - loss: 0.9664 - acc: 0.6334\n",
            "Epoch 69/1000\n",
            "50/50 [==============================] - 2s 33ms/step - loss: 0.9282 - acc: 0.6619\n",
            "Epoch 70/1000\n",
            "50/50 [==============================] - 2s 33ms/step - loss: 0.9200 - acc: 0.6666\n",
            "Epoch 71/1000\n",
            "50/50 [==============================] - 2s 32ms/step - loss: 0.9949 - acc: 0.6352\n",
            "Epoch 72/1000\n",
            "50/50 [==============================] - 2s 33ms/step - loss: 0.9315 - acc: 0.6587\n",
            "Epoch 73/1000\n",
            "23/50 [============>.................] - ETA: 0s - loss: 0.9179 - acc: 0.6678"
          ],
          "name": "stdout"
        },
        {
          "output_type": "stream",
          "text": [
            "50/50 [==============================] - 2s 33ms/step - loss: 0.9128 - acc: 0.6587\n",
            "Epoch 74/1000\n",
            "50/50 [==============================] - 2s 32ms/step - loss: 0.9564 - acc: 0.6609\n",
            "Epoch 75/1000\n",
            "50/50 [==============================] - 2s 33ms/step - loss: 0.9406 - acc: 0.6547\n",
            "Epoch 76/1000\n",
            "50/50 [==============================] - 2s 33ms/step - loss: 0.8925 - acc: 0.6675\n",
            "Epoch 77/1000\n",
            "50/50 [==============================] - 2s 33ms/step - loss: 0.9578 - acc: 0.6478\n",
            "Epoch 78/1000\n",
            "50/50 [==============================] - 2s 33ms/step - loss: 0.9308 - acc: 0.6575\n",
            "Epoch 79/1000\n",
            "50/50 [==============================] - 2s 32ms/step - loss: 0.8863 - acc: 0.6634\n",
            "Epoch 80/1000\n",
            "50/50 [==============================] - 2s 33ms/step - loss: 0.9284 - acc: 0.6684\n",
            "Epoch 81/1000\n",
            "23/50 [============>.................] - ETA: 0s - loss: 0.8946 - acc: 0.6644"
          ],
          "name": "stdout"
        },
        {
          "output_type": "stream",
          "text": [
            "50/50 [==============================] - 2s 32ms/step - loss: 0.8908 - acc: 0.6703\n",
            "Epoch 82/1000\n",
            "50/50 [==============================] - 2s 33ms/step - loss: 0.9150 - acc: 0.6606\n",
            "Epoch 83/1000\n",
            "50/50 [==============================] - 2s 33ms/step - loss: 0.9055 - acc: 0.6684\n",
            "Epoch 84/1000\n",
            "50/50 [==============================] - 2s 33ms/step - loss: 0.9505 - acc: 0.6559\n",
            "Epoch 85/1000\n",
            "50/50 [==============================] - 2s 33ms/step - loss: 0.9490 - acc: 0.6412\n",
            "Epoch 86/1000\n",
            "50/50 [==============================] - 2s 32ms/step - loss: 0.9120 - acc: 0.6644\n",
            "Epoch 87/1000\n",
            "50/50 [==============================] - 2s 33ms/step - loss: 0.9292 - acc: 0.6497\n",
            "Epoch 88/1000\n",
            "50/50 [==============================] - 2s 33ms/step - loss: 0.9332 - acc: 0.6512\n",
            "Epoch 89/1000\n",
            "17/50 [=========>....................] - ETA: 1s - loss: 0.8793 - acc: 0.6829"
          ],
          "name": "stdout"
        },
        {
          "output_type": "stream",
          "text": [
            "50/50 [==============================] - 2s 32ms/step - loss: 0.9007 - acc: 0.6690\n",
            "Epoch 90/1000\n",
            "50/50 [==============================] - 2s 34ms/step - loss: 0.9022 - acc: 0.6703\n",
            "Epoch 91/1000\n",
            "50/50 [==============================] - 2s 33ms/step - loss: 0.9120 - acc: 0.6566\n",
            "Epoch 92/1000\n",
            "50/50 [==============================] - 2s 32ms/step - loss: 0.9219 - acc: 0.6691\n",
            "Epoch 93/1000\n",
            "50/50 [==============================] - 2s 32ms/step - loss: 0.9711 - acc: 0.6538\n",
            "Epoch 94/1000\n",
            "50/50 [==============================] - 2s 32ms/step - loss: 0.9446 - acc: 0.6478\n",
            "Epoch 95/1000\n",
            "50/50 [==============================] - 2s 33ms/step - loss: 0.9417 - acc: 0.6484\n",
            "Epoch 96/1000\n",
            "50/50 [==============================] - 2s 32ms/step - loss: 0.9228 - acc: 0.6684\n",
            "Epoch 97/1000\n",
            "19/50 [==========>...................] - ETA: 1s - loss: 0.9254 - acc: 0.6497"
          ],
          "name": "stdout"
        },
        {
          "output_type": "stream",
          "text": [
            "50/50 [==============================] - 2s 33ms/step - loss: 0.9301 - acc: 0.6503\n",
            "Epoch 98/1000\n",
            "50/50 [==============================] - 2s 33ms/step - loss: 0.9641 - acc: 0.6397\n",
            "Epoch 99/1000\n",
            "50/50 [==============================] - 2s 33ms/step - loss: 0.8991 - acc: 0.6806\n",
            "Epoch 100/1000\n",
            "50/50 [==============================] - 2s 32ms/step - loss: 0.9545 - acc: 0.6441\n",
            "Epoch 101/1000\n",
            "50/50 [==============================] - 2s 33ms/step - loss: 0.9138 - acc: 0.6647\n",
            "Epoch 102/1000\n",
            "50/50 [==============================] - 2s 33ms/step - loss: 0.8944 - acc: 0.6749\n",
            "Epoch 103/1000\n",
            "50/50 [==============================] - 2s 33ms/step - loss: 0.9116 - acc: 0.6559\n",
            "Epoch 104/1000\n",
            "50/50 [==============================] - 2s 33ms/step - loss: 0.9122 - acc: 0.6684\n",
            "Epoch 105/1000\n",
            "21/50 [===========>..................] - ETA: 0s - loss: 0.9142 - acc: 0.6510"
          ],
          "name": "stdout"
        },
        {
          "output_type": "stream",
          "text": [
            "50/50 [==============================] - 2s 33ms/step - loss: 0.9203 - acc: 0.6550\n",
            "Epoch 106/1000\n",
            "50/50 [==============================] - 2s 33ms/step - loss: 0.9329 - acc: 0.6625\n",
            "Epoch 107/1000\n",
            "50/50 [==============================] - 2s 33ms/step - loss: 0.9560 - acc: 0.6594\n",
            "Epoch 108/1000\n",
            "50/50 [==============================] - 2s 34ms/step - loss: 0.9033 - acc: 0.6663\n",
            "Epoch 109/1000\n",
            "50/50 [==============================] - 2s 33ms/step - loss: 0.8951 - acc: 0.6706\n",
            "Epoch 110/1000\n",
            "50/50 [==============================] - 2s 33ms/step - loss: 0.8991 - acc: 0.6769\n",
            "Epoch 111/1000\n",
            "50/50 [==============================] - 2s 33ms/step - loss: 0.9128 - acc: 0.6709\n",
            "Epoch 112/1000\n",
            "50/50 [==============================] - 2s 33ms/step - loss: 0.8749 - acc: 0.6859\n",
            "Epoch 113/1000\n",
            " 3/50 [>.............................] - ETA: 1s - loss: 0.8283 - acc: 0.6625"
          ],
          "name": "stdout"
        },
        {
          "output_type": "stream",
          "text": [
            "50/50 [==============================] - 2s 32ms/step - loss: 0.8830 - acc: 0.6766\n",
            "Epoch 114/1000\n",
            "50/50 [==============================] - 2s 32ms/step - loss: 0.9116 - acc: 0.6656\n",
            "Epoch 115/1000\n",
            "50/50 [==============================] - 2s 32ms/step - loss: 0.9158 - acc: 0.6631\n",
            "Epoch 116/1000\n",
            "50/50 [==============================] - 2s 32ms/step - loss: 0.9225 - acc: 0.6581\n",
            "Epoch 117/1000\n",
            "50/50 [==============================] - 2s 32ms/step - loss: 0.9127 - acc: 0.6663\n",
            "Epoch 118/1000\n",
            "50/50 [==============================] - 2s 32ms/step - loss: 0.9051 - acc: 0.6688\n",
            "Epoch 119/1000\n",
            "50/50 [==============================] - 2s 32ms/step - loss: 0.9082 - acc: 0.6641\n",
            "Epoch 120/1000\n",
            "50/50 [==============================] - 2s 32ms/step - loss: 0.9260 - acc: 0.6625\n",
            "Epoch 121/1000\n",
            "25/50 [==============>...............] - ETA: 0s - loss: 0.9520 - acc: 0.6525"
          ],
          "name": "stdout"
        },
        {
          "output_type": "stream",
          "text": [
            "50/50 [==============================] - 2s 33ms/step - loss: 0.8953 - acc: 0.6719\n",
            "Epoch 122/1000\n",
            "50/50 [==============================] - 2s 33ms/step - loss: 0.9955 - acc: 0.6369\n",
            "Epoch 123/1000\n",
            "50/50 [==============================] - 2s 32ms/step - loss: 0.9298 - acc: 0.6575\n",
            "Epoch 124/1000\n",
            "50/50 [==============================] - 2s 32ms/step - loss: 0.9152 - acc: 0.6538\n",
            "Epoch 125/1000\n",
            "50/50 [==============================] - 2s 32ms/step - loss: 0.8981 - acc: 0.6616\n",
            "Epoch 126/1000\n",
            "50/50 [==============================] - 2s 33ms/step - loss: 0.9004 - acc: 0.6691\n",
            "Epoch 127/1000\n",
            "50/50 [==============================] - 2s 32ms/step - loss: 0.9391 - acc: 0.6522\n",
            "Epoch 128/1000\n",
            "50/50 [==============================] - 2s 32ms/step - loss: 0.8985 - acc: 0.6672\n",
            "Epoch 129/1000\n",
            "25/50 [==============>...............] - ETA: 0s - loss: 0.9107 - acc: 0.6631"
          ],
          "name": "stdout"
        },
        {
          "output_type": "stream",
          "text": [
            "50/50 [==============================] - 2s 33ms/step - loss: 0.9114 - acc: 0.6584\n",
            "Epoch 130/1000\n",
            "50/50 [==============================] - 2s 32ms/step - loss: 0.9186 - acc: 0.6637\n",
            "Epoch 131/1000\n",
            "50/50 [==============================] - 2s 32ms/step - loss: 0.8880 - acc: 0.6725\n",
            "Epoch 132/1000\n",
            "50/50 [==============================] - 2s 33ms/step - loss: 0.9029 - acc: 0.6725\n",
            "Epoch 133/1000\n",
            "50/50 [==============================] - 2s 32ms/step - loss: 0.9119 - acc: 0.6644\n",
            "Epoch 134/1000\n",
            "50/50 [==============================] - 2s 32ms/step - loss: 0.9086 - acc: 0.6566\n",
            "Epoch 135/1000\n",
            "50/50 [==============================] - 2s 32ms/step - loss: 0.9064 - acc: 0.6759\n",
            "Epoch 136/1000\n",
            "50/50 [==============================] - 2s 32ms/step - loss: 0.9306 - acc: 0.6544\n",
            "Epoch 137/1000\n",
            "17/50 [=========>....................] - ETA: 1s - loss: 0.8733 - acc: 0.6976\b\b\b\b\b\b\b\b\b\b\b\b\b\b\b\b\b\b\b\b\b\b\b\b\b\b\b\b\b\b\b\b\b\b\b\b\b\b\b\b\b\b\b\b\b\b\b\b\b\b\b\b\b\b\b\b\b\b\b\b\b\b\b\b\b\b\b\b\b\b\b\b\b\b\b\b\b"
          ],
          "name": "stdout"
        },
        {
          "output_type": "stream",
          "text": [
            "50/50 [==============================] - 2s 33ms/step - loss: 0.8833 - acc: 0.6853\n",
            "Epoch 138/1000\n",
            "50/50 [==============================] - 2s 33ms/step - loss: 1.0036 - acc: 0.6303\n",
            "Epoch 139/1000\n",
            "50/50 [==============================] - 2s 33ms/step - loss: 0.9567 - acc: 0.6625\n",
            "Epoch 140/1000\n",
            "50/50 [==============================] - 2s 32ms/step - loss: 0.9106 - acc: 0.6566\n",
            "Epoch 141/1000\n",
            "50/50 [==============================] - 2s 32ms/step - loss: 0.9692 - acc: 0.6472\n",
            "Epoch 142/1000\n",
            "50/50 [==============================] - 2s 32ms/step - loss: 0.9193 - acc: 0.6578\n",
            "Epoch 143/1000\n",
            "50/50 [==============================] - 2s 32ms/step - loss: 0.8902 - acc: 0.6791\n",
            "Epoch 144/1000\n",
            "50/50 [==============================] - 2s 33ms/step - loss: 0.9427 - acc: 0.6494\n",
            "Epoch 145/1000\n",
            "25/50 [==============>...............] - ETA: 0s - loss: 0.8419 - acc: 0.6844"
          ],
          "name": "stdout"
        },
        {
          "output_type": "stream",
          "text": [
            "50/50 [==============================] - 2s 32ms/step - loss: 0.8760 - acc: 0.6822\n",
            "Epoch 146/1000\n",
            "50/50 [==============================] - 2s 32ms/step - loss: 0.9262 - acc: 0.6538\n",
            "Epoch 147/1000\n",
            "50/50 [==============================] - 2s 32ms/step - loss: 0.9309 - acc: 0.6581\n",
            "Epoch 148/1000\n",
            "50/50 [==============================] - 2s 32ms/step - loss: 0.9182 - acc: 0.6609\n",
            "Epoch 149/1000\n",
            "50/50 [==============================] - 2s 32ms/step - loss: 0.9602 - acc: 0.6538\n",
            "Epoch 150/1000\n",
            "50/50 [==============================] - 2s 32ms/step - loss: 0.9377 - acc: 0.6573\n",
            "Epoch 151/1000\n",
            "50/50 [==============================] - 2s 32ms/step - loss: 0.9407 - acc: 0.6391\n",
            "Epoch 152/1000\n",
            "50/50 [==============================] - 2s 32ms/step - loss: 0.9352 - acc: 0.6441\n",
            "Epoch 153/1000\n",
            "23/50 [============>.................] - ETA: 0s - loss: 0.8949 - acc: 0.6590"
          ],
          "name": "stdout"
        },
        {
          "output_type": "stream",
          "text": [
            "50/50 [==============================] - 2s 32ms/step - loss: 0.9099 - acc: 0.6556\n",
            "Epoch 154/1000\n",
            "50/50 [==============================] - 2s 33ms/step - loss: 0.8987 - acc: 0.6750\n",
            "Epoch 155/1000\n",
            "50/50 [==============================] - 2s 33ms/step - loss: 0.9272 - acc: 0.6541\n",
            "Epoch 156/1000\n",
            "50/50 [==============================] - 2s 32ms/step - loss: 0.9410 - acc: 0.6534\n",
            "Epoch 157/1000\n",
            "50/50 [==============================] - 2s 32ms/step - loss: 0.9322 - acc: 0.6500\n",
            "Epoch 158/1000\n",
            "50/50 [==============================] - 2s 32ms/step - loss: 0.9151 - acc: 0.6688\n",
            "Epoch 159/1000\n",
            "50/50 [==============================] - 2s 32ms/step - loss: 0.9184 - acc: 0.6675\n",
            "Epoch 160/1000\n",
            "50/50 [==============================] - 2s 32ms/step - loss: 0.9188 - acc: 0.6584\n",
            "Epoch 161/1000\n",
            "27/50 [===============>..............] - ETA: 0s - loss: 0.8889 - acc: 0.6725"
          ],
          "name": "stdout"
        },
        {
          "output_type": "stream",
          "text": [
            "50/50 [==============================] - 2s 32ms/step - loss: 0.9375 - acc: 0.6594\n",
            "Epoch 162/1000\n",
            "50/50 [==============================] - 2s 33ms/step - loss: 1.0096 - acc: 0.6316\n",
            "Epoch 163/1000\n",
            "50/50 [==============================] - 2s 32ms/step - loss: 0.9665 - acc: 0.6553\n",
            "Epoch 164/1000\n",
            "50/50 [==============================] - 2s 32ms/step - loss: 0.8955 - acc: 0.6772\n",
            "Epoch 165/1000\n",
            "50/50 [==============================] - 2s 33ms/step - loss: 0.9014 - acc: 0.6669\n",
            "Epoch 166/1000\n",
            "50/50 [==============================] - 2s 32ms/step - loss: 0.9103 - acc: 0.6703\n",
            "Epoch 167/1000\n",
            "50/50 [==============================] - 2s 32ms/step - loss: 0.9799 - acc: 0.6475\n",
            "Epoch 168/1000\n",
            "50/50 [==============================] - 2s 32ms/step - loss: 0.9596 - acc: 0.6559\n",
            "Epoch 169/1000\n",
            "25/50 [==============>...............] - ETA: 0s - loss: 0.9169 - acc: 0.6475"
          ],
          "name": "stdout"
        },
        {
          "output_type": "stream",
          "text": [
            "50/50 [==============================] - 2s 32ms/step - loss: 0.9035 - acc: 0.6566\n",
            "Epoch 170/1000\n",
            "50/50 [==============================] - 2s 33ms/step - loss: 0.9462 - acc: 0.6566\n",
            "Epoch 171/1000\n",
            "50/50 [==============================] - 2s 32ms/step - loss: 0.9493 - acc: 0.6512\n",
            "Epoch 172/1000\n",
            "50/50 [==============================] - 2s 32ms/step - loss: 0.8832 - acc: 0.6759\n",
            "Epoch 173/1000\n",
            "50/50 [==============================] - 2s 32ms/step - loss: 0.9150 - acc: 0.6663\n",
            "Epoch 174/1000\n",
            "50/50 [==============================] - 2s 32ms/step - loss: 0.9030 - acc: 0.6787\n",
            "Epoch 175/1000\n",
            "50/50 [==============================] - 2s 32ms/step - loss: 0.9524 - acc: 0.6553\n",
            "Epoch 176/1000\n",
            "50/50 [==============================] - 2s 33ms/step - loss: 0.9167 - acc: 0.6600\n",
            "Epoch 177/1000\n",
            "25/50 [==============>...............] - ETA: 0s - loss: 0.9181 - acc: 0.6700"
          ],
          "name": "stdout"
        },
        {
          "output_type": "stream",
          "text": [
            "50/50 [==============================] - 2s 33ms/step - loss: 0.9417 - acc: 0.6547\n",
            "Epoch 178/1000\n",
            "50/50 [==============================] - 2s 32ms/step - loss: 0.8701 - acc: 0.6731\n",
            "Epoch 179/1000\n",
            "50/50 [==============================] - 2s 32ms/step - loss: 0.9360 - acc: 0.6516\n",
            "Epoch 180/1000\n",
            "50/50 [==============================] - 2s 34ms/step - loss: 0.9201 - acc: 0.6637\n",
            "Epoch 181/1000\n",
            "50/50 [==============================] - 2s 32ms/step - loss: 0.9042 - acc: 0.6688\n",
            "Epoch 182/1000\n",
            "50/50 [==============================] - 2s 33ms/step - loss: 0.9306 - acc: 0.6506\n",
            "Epoch 183/1000\n",
            "50/50 [==============================] - 2s 33ms/step - loss: 0.9152 - acc: 0.6706\n",
            "Epoch 184/1000\n",
            "50/50 [==============================] - 2s 32ms/step - loss: 0.9441 - acc: 0.6522\n",
            "Epoch 185/1000\n",
            "21/50 [===========>..................] - ETA: 0s - loss: 0.9451 - acc: 0.6376"
          ],
          "name": "stdout"
        },
        {
          "output_type": "stream",
          "text": [
            "50/50 [==============================] - 2s 32ms/step - loss: 0.9294 - acc: 0.6526\n",
            "Epoch 186/1000\n",
            "50/50 [==============================] - 2s 33ms/step - loss: 0.9529 - acc: 0.6437\n",
            "Epoch 187/1000\n",
            "50/50 [==============================] - 2s 32ms/step - loss: 0.8800 - acc: 0.6775\n",
            "Epoch 188/1000\n",
            "50/50 [==============================] - 2s 32ms/step - loss: 0.9056 - acc: 0.6653\n",
            "Epoch 189/1000\n",
            "50/50 [==============================] - 2s 33ms/step - loss: 0.8958 - acc: 0.6756\n",
            "Epoch 190/1000\n",
            "50/50 [==============================] - 2s 33ms/step - loss: 0.8878 - acc: 0.6747\n",
            "Epoch 191/1000\n",
            "50/50 [==============================] - 2s 33ms/step - loss: 0.8901 - acc: 0.6747\n",
            "Epoch 192/1000\n",
            "50/50 [==============================] - 2s 33ms/step - loss: 0.9703 - acc: 0.6391\n",
            "Epoch 193/1000\n",
            "11/50 [=====>........................] - ETA: 1s - loss: 0.9171 - acc: 0.6520"
          ],
          "name": "stdout"
        },
        {
          "output_type": "stream",
          "text": [
            "50/50 [==============================] - 2s 32ms/step - loss: 0.8958 - acc: 0.6681\n",
            "Epoch 194/1000\n",
            "50/50 [==============================] - 2s 32ms/step - loss: 0.8977 - acc: 0.6675\n",
            "Epoch 195/1000\n",
            "50/50 [==============================] - 2s 33ms/step - loss: 0.9175 - acc: 0.6597\n",
            "Epoch 196/1000\n",
            "50/50 [==============================] - 2s 33ms/step - loss: 0.8816 - acc: 0.6756\n",
            "Epoch 197/1000\n",
            "50/50 [==============================] - 2s 32ms/step - loss: 0.9284 - acc: 0.6559\n",
            "Epoch 198/1000\n",
            "50/50 [==============================] - 2s 33ms/step - loss: 0.9242 - acc: 0.6591\n",
            "Epoch 199/1000\n",
            "50/50 [==============================] - 2s 33ms/step - loss: 0.9000 - acc: 0.6700\n",
            "Epoch 200/1000\n",
            "50/50 [==============================] - 2s 32ms/step - loss: 0.9137 - acc: 0.6697\n",
            "Epoch 201/1000\n",
            "23/50 [============>.................] - ETA: 0s - loss: 0.8932 - acc: 0.6685"
          ],
          "name": "stdout"
        },
        {
          "output_type": "stream",
          "text": [
            "50/50 [==============================] - 2s 32ms/step - loss: 0.8960 - acc: 0.6707\n",
            "Epoch 202/1000\n",
            "50/50 [==============================] - 2s 33ms/step - loss: 0.9018 - acc: 0.6600\n",
            "Epoch 203/1000\n",
            "50/50 [==============================] - 2s 32ms/step - loss: 0.9397 - acc: 0.6691\n",
            "Epoch 204/1000\n",
            "50/50 [==============================] - 2s 33ms/step - loss: 0.9091 - acc: 0.6616\n",
            "Epoch 205/1000\n",
            "50/50 [==============================] - 2s 32ms/step - loss: 0.9147 - acc: 0.6581\n",
            "Epoch 206/1000\n",
            "50/50 [==============================] - 2s 32ms/step - loss: 0.8981 - acc: 0.6700\n",
            "Epoch 207/1000\n",
            "50/50 [==============================] - 2s 32ms/step - loss: 0.8826 - acc: 0.6819\n",
            "Epoch 208/1000\n",
            "50/50 [==============================] - 2s 32ms/step - loss: 0.9338 - acc: 0.6528\n",
            "Epoch 209/1000\n",
            "25/50 [==============>...............] - ETA: 0s - loss: 0.9072 - acc: 0.6637"
          ],
          "name": "stdout"
        },
        {
          "output_type": "stream",
          "text": [
            "50/50 [==============================] - 2s 32ms/step - loss: 0.9065 - acc: 0.6663\n",
            "Epoch 210/1000\n",
            "50/50 [==============================] - 2s 32ms/step - loss: 0.8975 - acc: 0.6744\n",
            "Epoch 211/1000\n",
            "50/50 [==============================] - 2s 32ms/step - loss: 0.9135 - acc: 0.6641\n",
            "Epoch 212/1000\n",
            "50/50 [==============================] - 2s 32ms/step - loss: 0.9073 - acc: 0.6706\n",
            "Epoch 213/1000\n",
            "50/50 [==============================] - 2s 32ms/step - loss: 0.9187 - acc: 0.6544\n",
            "Epoch 214/1000\n",
            "50/50 [==============================] - 2s 33ms/step - loss: 0.9217 - acc: 0.6609\n",
            "Epoch 215/1000\n",
            "50/50 [==============================] - 2s 32ms/step - loss: 0.9356 - acc: 0.6497\n",
            "Epoch 216/1000\n",
            "50/50 [==============================] - 2s 33ms/step - loss: 0.9228 - acc: 0.6559\n",
            "Epoch 217/1000\n",
            "25/50 [==============>...............] - ETA: 0s - loss: 0.8660 - acc: 0.6856"
          ],
          "name": "stdout"
        },
        {
          "output_type": "stream",
          "text": [
            "50/50 [==============================] - 2s 32ms/step - loss: 0.8600 - acc: 0.6859\n",
            "Epoch 218/1000\n",
            "50/50 [==============================] - 2s 32ms/step - loss: 0.8831 - acc: 0.6747\n",
            "Epoch 219/1000\n",
            "50/50 [==============================] - 2s 33ms/step - loss: 0.9179 - acc: 0.6644\n",
            "Epoch 220/1000\n",
            "50/50 [==============================] - 2s 32ms/step - loss: 0.9084 - acc: 0.6574\n",
            "Epoch 221/1000\n",
            "50/50 [==============================] - 2s 32ms/step - loss: 0.9207 - acc: 0.6691\n",
            "Epoch 222/1000\n",
            "50/50 [==============================] - 2s 32ms/step - loss: 0.9057 - acc: 0.6747\n",
            "Epoch 223/1000\n",
            "50/50 [==============================] - 2s 32ms/step - loss: 1.0205 - acc: 0.6297\n",
            "Epoch 224/1000\n",
            "50/50 [==============================] - 2s 33ms/step - loss: 0.9309 - acc: 0.6569\n",
            "Epoch 225/1000\n",
            "15/50 [========>.....................] - ETA: 1s - loss: 0.8936 - acc: 0.6677"
          ],
          "name": "stdout"
        },
        {
          "output_type": "stream",
          "text": [
            "50/50 [==============================] - 2s 33ms/step - loss: 0.9195 - acc: 0.6606\n",
            "Epoch 226/1000\n",
            "50/50 [==============================] - 2s 32ms/step - loss: 0.9839 - acc: 0.6431\n",
            "Epoch 227/1000\n",
            "50/50 [==============================] - 2s 32ms/step - loss: 0.9136 - acc: 0.6653\n",
            "Epoch 228/1000\n",
            "50/50 [==============================] - 2s 32ms/step - loss: 0.9210 - acc: 0.6606\n",
            "Epoch 229/1000\n",
            "50/50 [==============================] - 2s 32ms/step - loss: 0.9254 - acc: 0.6663\n",
            "Epoch 230/1000\n",
            "50/50 [==============================] - 2s 33ms/step - loss: 0.9158 - acc: 0.6597\n",
            "Epoch 231/1000\n",
            "50/50 [==============================] - 2s 33ms/step - loss: 0.9138 - acc: 0.6572\n",
            "Epoch 232/1000\n",
            "50/50 [==============================] - 2s 33ms/step - loss: 0.8952 - acc: 0.6675\n",
            "Epoch 233/1000\n",
            "13/50 [======>.......................] - ETA: 1s - loss: 0.9492 - acc: 0.6502"
          ],
          "name": "stdout"
        },
        {
          "output_type": "stream",
          "text": [
            "50/50 [==============================] - 2s 33ms/step - loss: 0.9923 - acc: 0.6366\n",
            "Epoch 234/1000\n",
            "50/50 [==============================] - 2s 33ms/step - loss: 1.4269 - acc: 0.4547\n",
            "Epoch 235/1000\n",
            "50/50 [==============================] - 2s 33ms/step - loss: 1.1219 - acc: 0.5772\n",
            "Epoch 236/1000\n",
            "50/50 [==============================] - 2s 32ms/step - loss: 1.0146 - acc: 0.6247\n",
            "Epoch 237/1000\n",
            "50/50 [==============================] - 2s 32ms/step - loss: 0.9940 - acc: 0.6378\n",
            "Epoch 238/1000\n",
            "50/50 [==============================] - 2s 33ms/step - loss: 0.9566 - acc: 0.6544\n",
            "Epoch 239/1000\n",
            "50/50 [==============================] - 2s 32ms/step - loss: 0.9693 - acc: 0.6369\n",
            "Epoch 240/1000\n",
            "50/50 [==============================] - 2s 33ms/step - loss: 0.9479 - acc: 0.6488\n",
            "Epoch 241/1000\n",
            "19/50 [==========>...................] - ETA: 0s - loss: 0.9422 - acc: 0.6579"
          ],
          "name": "stdout"
        },
        {
          "output_type": "stream",
          "text": [
            "50/50 [==============================] - 2s 32ms/step - loss: 0.9195 - acc: 0.6600\n",
            "Epoch 242/1000\n",
            "50/50 [==============================] - 2s 32ms/step - loss: 0.9799 - acc: 0.6509\n",
            "Epoch 243/1000\n",
            "50/50 [==============================] - 2s 32ms/step - loss: 0.9641 - acc: 0.6472\n",
            "Epoch 244/1000\n",
            "50/50 [==============================] - 2s 32ms/step - loss: 0.9018 - acc: 0.6684\n",
            "Epoch 245/1000\n",
            "50/50 [==============================] - 2s 32ms/step - loss: 0.9067 - acc: 0.6713\n",
            "Epoch 246/1000\n",
            "50/50 [==============================] - 2s 32ms/step - loss: 0.9205 - acc: 0.6613\n",
            "Epoch 247/1000\n",
            "50/50 [==============================] - 2s 32ms/step - loss: 0.9298 - acc: 0.6663\n",
            "Epoch 248/1000\n",
            "50/50 [==============================] - 2s 32ms/step - loss: 0.9519 - acc: 0.6450\n",
            "Epoch 249/1000\n",
            "27/50 [===============>..............] - ETA: 0s - loss: 0.9321 - acc: 0.6522"
          ],
          "name": "stdout"
        },
        {
          "output_type": "stream",
          "text": [
            "50/50 [==============================] - 2s 32ms/step - loss: 0.9496 - acc: 0.6459\n",
            "Epoch 250/1000\n",
            "50/50 [==============================] - 2s 33ms/step - loss: 0.8841 - acc: 0.6791\n",
            "Epoch 251/1000\n",
            "50/50 [==============================] - 2s 32ms/step - loss: 0.9180 - acc: 0.6561\n",
            "Epoch 252/1000\n",
            "50/50 [==============================] - 2s 33ms/step - loss: 0.9512 - acc: 0.6503\n",
            "Epoch 253/1000\n",
            "50/50 [==============================] - 2s 32ms/step - loss: 1.0326 - acc: 0.6182\n",
            "Epoch 254/1000\n",
            "50/50 [==============================] - 2s 32ms/step - loss: 0.9557 - acc: 0.6503\n",
            "Epoch 255/1000\n",
            "50/50 [==============================] - 2s 32ms/step - loss: 0.9280 - acc: 0.6522\n",
            "Epoch 256/1000\n",
            "50/50 [==============================] - 2s 32ms/step - loss: 0.9166 - acc: 0.6609\n",
            "Epoch 257/1000\n",
            "23/50 [============>.................] - ETA: 0s - loss: 0.9160 - acc: 0.6576"
          ],
          "name": "stdout"
        },
        {
          "output_type": "stream",
          "text": [
            "50/50 [==============================] - 2s 32ms/step - loss: 0.9149 - acc: 0.6600\n",
            "Epoch 258/1000\n",
            "50/50 [==============================] - 2s 32ms/step - loss: 0.8848 - acc: 0.6775\n",
            "Epoch 259/1000\n",
            "50/50 [==============================] - 2s 32ms/step - loss: 0.8926 - acc: 0.6731\n",
            "Epoch 260/1000\n",
            "50/50 [==============================] - 2s 33ms/step - loss: 0.8676 - acc: 0.6878\n",
            "Epoch 261/1000\n",
            "50/50 [==============================] - 2s 33ms/step - loss: 0.8777 - acc: 0.6694\n",
            "Epoch 262/1000\n",
            "50/50 [==============================] - 2s 32ms/step - loss: 0.9514 - acc: 0.6416\n",
            "Epoch 263/1000\n",
            "50/50 [==============================] - 2s 32ms/step - loss: 0.9083 - acc: 0.6659\n",
            "Epoch 264/1000\n",
            "50/50 [==============================] - 2s 32ms/step - loss: 0.9135 - acc: 0.6741\n",
            "Epoch 265/1000\n",
            "25/50 [==============>...............] - ETA: 0s - loss: 0.8636 - acc: 0.6850"
          ],
          "name": "stdout"
        },
        {
          "output_type": "stream",
          "text": [
            "50/50 [==============================] - 2s 32ms/step - loss: 0.8879 - acc: 0.6778\n",
            "Epoch 266/1000\n",
            "50/50 [==============================] - 2s 32ms/step - loss: 0.9564 - acc: 0.6497\n",
            "Epoch 267/1000\n",
            "50/50 [==============================] - 2s 32ms/step - loss: 0.9353 - acc: 0.6450\n",
            "Epoch 268/1000\n",
            "50/50 [==============================] - 2s 32ms/step - loss: 0.9317 - acc: 0.6587\n",
            "Epoch 269/1000\n",
            "50/50 [==============================] - 2s 33ms/step - loss: 0.8707 - acc: 0.6847\n",
            "Epoch 270/1000\n",
            "50/50 [==============================] - 2s 33ms/step - loss: 0.9051 - acc: 0.6603\n",
            "Epoch 271/1000\n",
            "50/50 [==============================] - 2s 32ms/step - loss: 0.9203 - acc: 0.6425\n",
            "Epoch 272/1000\n",
            "50/50 [==============================] - 2s 32ms/step - loss: 0.8800 - acc: 0.6803\n",
            "Epoch 273/1000\n",
            "27/50 [===============>..............] - ETA: 0s - loss: 1.0281 - acc: 0.6273"
          ],
          "name": "stdout"
        },
        {
          "output_type": "stream",
          "text": [
            "50/50 [==============================] - 2s 32ms/step - loss: 1.0883 - acc: 0.5947\n",
            "Epoch 274/1000\n",
            "50/50 [==============================] - 2s 32ms/step - loss: 0.9454 - acc: 0.6500\n",
            "Epoch 275/1000\n",
            "50/50 [==============================] - 2s 32ms/step - loss: 0.9299 - acc: 0.6562\n",
            "Epoch 276/1000\n",
            "50/50 [==============================] - 2s 32ms/step - loss: 0.8866 - acc: 0.6700\n",
            "Epoch 277/1000\n",
            "50/50 [==============================] - 2s 33ms/step - loss: 0.9019 - acc: 0.6759\n",
            "Epoch 278/1000\n",
            "50/50 [==============================] - 2s 32ms/step - loss: 0.8977 - acc: 0.6691\n",
            "Epoch 279/1000\n",
            "50/50 [==============================] - 2s 33ms/step - loss: 0.8994 - acc: 0.6706\n",
            "Epoch 280/1000\n",
            "50/50 [==============================] - 2s 32ms/step - loss: 0.8514 - acc: 0.6853\n",
            "Epoch 281/1000\n",
            "27/50 [===============>..............] - ETA: 0s - loss: 0.9029 - acc: 0.6661"
          ],
          "name": "stdout"
        },
        {
          "output_type": "stream",
          "text": [
            "50/50 [==============================] - 2s 32ms/step - loss: 0.8941 - acc: 0.6688\n",
            "Epoch 282/1000\n",
            "50/50 [==============================] - 2s 32ms/step - loss: 0.9115 - acc: 0.6650\n",
            "Epoch 283/1000\n",
            "50/50 [==============================] - 2s 32ms/step - loss: 0.9286 - acc: 0.6584\n",
            "Epoch 284/1000\n",
            "50/50 [==============================] - 2s 32ms/step - loss: 0.9180 - acc: 0.6634\n",
            "Epoch 285/1000\n",
            "50/50 [==============================] - 2s 33ms/step - loss: 0.9163 - acc: 0.6531\n",
            "Epoch 286/1000\n",
            "50/50 [==============================] - 2s 32ms/step - loss: 0.9030 - acc: 0.6672\n",
            "Epoch 287/1000\n",
            "50/50 [==============================] - 2s 32ms/step - loss: 0.8976 - acc: 0.6688\n",
            "Epoch 288/1000\n",
            "50/50 [==============================] - 2s 34ms/step - loss: 0.9014 - acc: 0.6750\n",
            "Epoch 289/1000\n",
            "19/50 [==========>...................] - ETA: 1s - loss: 0.9584 - acc: 0.6480"
          ],
          "name": "stdout"
        },
        {
          "output_type": "stream",
          "text": [
            "50/50 [==============================] - 2s 33ms/step - loss: 0.9718 - acc: 0.6381\n",
            "Epoch 290/1000\n",
            "50/50 [==============================] - 2s 32ms/step - loss: 0.9584 - acc: 0.6403\n",
            "Epoch 291/1000\n",
            "50/50 [==============================] - 2s 33ms/step - loss: 0.9332 - acc: 0.6553\n",
            "Epoch 292/1000\n",
            "50/50 [==============================] - 2s 32ms/step - loss: 0.9054 - acc: 0.6731\n",
            "Epoch 293/1000\n",
            "50/50 [==============================] - 2s 32ms/step - loss: 0.9155 - acc: 0.6625\n",
            "Epoch 294/1000\n",
            "50/50 [==============================] - 2s 33ms/step - loss: 0.8648 - acc: 0.6828\n",
            "Epoch 295/1000\n",
            "50/50 [==============================] - 2s 32ms/step - loss: 0.9100 - acc: 0.6622\n",
            "Epoch 296/1000\n",
            "50/50 [==============================] - 2s 32ms/step - loss: 0.9180 - acc: 0.6622\n",
            "Epoch 297/1000\n",
            "19/50 [==========>...................] - ETA: 1s - loss: 0.8913 - acc: 0.6694"
          ],
          "name": "stdout"
        },
        {
          "output_type": "stream",
          "text": [
            "50/50 [==============================] - 2s 33ms/step - loss: 0.8832 - acc: 0.6734\n",
            "Epoch 298/1000\n",
            "50/50 [==============================] - 2s 32ms/step - loss: 0.9828 - acc: 0.6328\n",
            "Epoch 299/1000\n",
            "50/50 [==============================] - 2s 32ms/step - loss: 0.9407 - acc: 0.6572\n",
            "Epoch 300/1000\n",
            "50/50 [==============================] - 2s 32ms/step - loss: 0.9245 - acc: 0.6600\n",
            "Epoch 301/1000\n",
            "50/50 [==============================] - 2s 32ms/step - loss: 0.8940 - acc: 0.6731\n",
            "Epoch 302/1000\n",
            "50/50 [==============================] - 2s 32ms/step - loss: 0.9282 - acc: 0.6557\n",
            "Epoch 303/1000\n",
            "50/50 [==============================] - 2s 32ms/step - loss: 0.9614 - acc: 0.6441\n",
            "Epoch 304/1000\n",
            "50/50 [==============================] - 2s 32ms/step - loss: 0.9204 - acc: 0.6650\n",
            "Epoch 305/1000\n",
            "19/50 [==========>...................] - ETA: 0s - loss: 0.8879 - acc: 0.6702"
          ],
          "name": "stdout"
        },
        {
          "output_type": "stream",
          "text": [
            "50/50 [==============================] - 2s 32ms/step - loss: 0.8684 - acc: 0.6822\n",
            "Epoch 306/1000\n",
            "50/50 [==============================] - 2s 34ms/step - loss: 0.8778 - acc: 0.6781\n",
            "Epoch 307/1000\n",
            "50/50 [==============================] - 2s 32ms/step - loss: 1.0748 - acc: 0.5994\n",
            "Epoch 308/1000\n",
            "50/50 [==============================] - 2s 32ms/step - loss: 1.1584 - acc: 0.5700\n",
            "Epoch 309/1000\n",
            "50/50 [==============================] - 2s 32ms/step - loss: 1.0107 - acc: 0.6225\n",
            "Epoch 310/1000\n",
            "50/50 [==============================] - 2s 32ms/step - loss: 0.9717 - acc: 0.6356\n",
            "Epoch 311/1000\n",
            "50/50 [==============================] - 2s 32ms/step - loss: 0.9699 - acc: 0.6481\n",
            "Epoch 312/1000\n",
            "50/50 [==============================] - 2s 32ms/step - loss: 0.9120 - acc: 0.6672\n",
            "Epoch 313/1000\n",
            "25/50 [==============>...............] - ETA: 0s - loss: 0.8866 - acc: 0.6763"
          ],
          "name": "stdout"
        },
        {
          "output_type": "stream",
          "text": [
            "50/50 [==============================] - 2s 32ms/step - loss: 0.8788 - acc: 0.6844\n",
            "Epoch 314/1000\n",
            "50/50 [==============================] - 2s 32ms/step - loss: 0.9143 - acc: 0.6559\n",
            "Epoch 315/1000\n",
            "50/50 [==============================] - 2s 32ms/step - loss: 0.8959 - acc: 0.6700\n",
            "Epoch 316/1000\n",
            "50/50 [==============================] - 2s 32ms/step - loss: 0.9220 - acc: 0.6569\n",
            "Epoch 317/1000\n",
            "50/50 [==============================] - 2s 32ms/step - loss: 0.9158 - acc: 0.6691\n",
            "Epoch 318/1000\n",
            "50/50 [==============================] - 2s 32ms/step - loss: 0.8912 - acc: 0.6684\n",
            "Epoch 319/1000\n",
            "50/50 [==============================] - 2s 32ms/step - loss: 0.9077 - acc: 0.6697\n",
            "Epoch 320/1000\n",
            "50/50 [==============================] - 2s 32ms/step - loss: 0.8861 - acc: 0.6684\n",
            "Epoch 321/1000\n",
            "23/50 [============>.................] - ETA: 0s - loss: 0.8170 - acc: 0.7140"
          ],
          "name": "stdout"
        },
        {
          "output_type": "stream",
          "text": [
            "50/50 [==============================] - 2s 32ms/step - loss: 0.8729 - acc: 0.6897\n",
            "Epoch 322/1000\n",
            "50/50 [==============================] - 2s 32ms/step - loss: 0.9198 - acc: 0.6534\n",
            "Epoch 323/1000\n",
            "50/50 [==============================] - 2s 32ms/step - loss: 0.9030 - acc: 0.6637\n",
            "Epoch 324/1000\n",
            "50/50 [==============================] - 2s 34ms/step - loss: 0.8902 - acc: 0.6847\n",
            "Epoch 325/1000\n",
            "50/50 [==============================] - 2s 32ms/step - loss: 0.9300 - acc: 0.6644\n",
            "Epoch 326/1000\n",
            "50/50 [==============================] - 2s 33ms/step - loss: 0.9374 - acc: 0.6669\n",
            "Epoch 327/1000\n",
            "50/50 [==============================] - 2s 32ms/step - loss: 0.9000 - acc: 0.6775\n",
            "Epoch 328/1000\n",
            "50/50 [==============================] - 2s 32ms/step - loss: 0.8949 - acc: 0.6741\n",
            "Epoch 329/1000\n",
            "25/50 [==============>...............] - ETA: 0s - loss: 0.8863 - acc: 0.6763"
          ],
          "name": "stdout"
        },
        {
          "output_type": "stream",
          "text": [
            "50/50 [==============================] - 2s 32ms/step - loss: 0.8731 - acc: 0.6834\n",
            "Epoch 330/1000\n",
            "50/50 [==============================] - 2s 32ms/step - loss: 0.8930 - acc: 0.6759\n",
            "Epoch 331/1000\n",
            "50/50 [==============================] - 2s 33ms/step - loss: 0.8959 - acc: 0.6772\n",
            "Epoch 332/1000\n",
            "50/50 [==============================] - 2s 32ms/step - loss: 0.8908 - acc: 0.6734\n",
            "Epoch 333/1000\n",
            "50/50 [==============================] - 2s 32ms/step - loss: 0.8851 - acc: 0.6731\n",
            "Epoch 334/1000\n",
            "50/50 [==============================] - 2s 32ms/step - loss: 0.9004 - acc: 0.6650\n",
            "Epoch 335/1000\n",
            "50/50 [==============================] - 2s 32ms/step - loss: 0.9086 - acc: 0.6669\n",
            "Epoch 336/1000\n",
            "50/50 [==============================] - 2s 32ms/step - loss: 0.8885 - acc: 0.6707\n",
            "Epoch 337/1000\n",
            "27/50 [===============>..............] - ETA: 0s - loss: 0.9405 - acc: 0.6487"
          ],
          "name": "stdout"
        },
        {
          "output_type": "stream",
          "text": [
            "50/50 [==============================] - 2s 32ms/step - loss: 0.9142 - acc: 0.6641\n",
            "Epoch 338/1000\n",
            "50/50 [==============================] - 2s 32ms/step - loss: 0.9072 - acc: 0.6647\n",
            "Epoch 339/1000\n",
            "50/50 [==============================] - 2s 32ms/step - loss: 0.8859 - acc: 0.6753\n",
            "Epoch 340/1000\n",
            "50/50 [==============================] - 2s 33ms/step - loss: 0.8939 - acc: 0.6731\n",
            "Epoch 341/1000\n",
            "50/50 [==============================] - 2s 32ms/step - loss: 0.9543 - acc: 0.6469\n",
            "Epoch 342/1000\n",
            "50/50 [==============================] - 2s 34ms/step - loss: 1.0018 - acc: 0.6316\n",
            "Epoch 343/1000\n",
            "50/50 [==============================] - 2s 32ms/step - loss: 0.8687 - acc: 0.6731\n",
            "Epoch 344/1000\n",
            "50/50 [==============================] - 2s 32ms/step - loss: 0.9052 - acc: 0.6706\n",
            "Epoch 345/1000\n",
            "19/50 [==========>...................] - ETA: 0s - loss: 0.9494 - acc: 0.6505"
          ],
          "name": "stdout"
        },
        {
          "output_type": "stream",
          "text": [
            "50/50 [==============================] - 2s 32ms/step - loss: 0.9190 - acc: 0.6675\n",
            "Epoch 346/1000\n",
            "50/50 [==============================] - 2s 32ms/step - loss: 0.8788 - acc: 0.6747\n",
            "Epoch 347/1000\n",
            "50/50 [==============================] - 2s 32ms/step - loss: 0.9220 - acc: 0.6559\n",
            "Epoch 348/1000\n",
            "50/50 [==============================] - 2s 32ms/step - loss: 0.8909 - acc: 0.6763\n",
            "Epoch 349/1000\n",
            "50/50 [==============================] - 2s 32ms/step - loss: 0.8979 - acc: 0.6734\n",
            "Epoch 350/1000\n",
            "50/50 [==============================] - 2s 32ms/step - loss: 0.9392 - acc: 0.6453\n",
            "Epoch 351/1000\n",
            "50/50 [==============================] - 2s 33ms/step - loss: 0.9323 - acc: 0.6628\n",
            "Epoch 352/1000\n",
            "50/50 [==============================] - 2s 33ms/step - loss: 0.9086 - acc: 0.6719\n",
            "Epoch 353/1000\n",
            "19/50 [==========>...................] - ETA: 1s - loss: 0.8797 - acc: 0.6743"
          ],
          "name": "stdout"
        },
        {
          "output_type": "stream",
          "text": [
            "50/50 [==============================] - 2s 33ms/step - loss: 0.8707 - acc: 0.6800\n",
            "Epoch 354/1000\n",
            "50/50 [==============================] - 2s 33ms/step - loss: 0.9067 - acc: 0.6475\n",
            "Epoch 355/1000\n",
            "50/50 [==============================] - 2s 32ms/step - loss: 0.8629 - acc: 0.6841\n",
            "Epoch 356/1000\n",
            "50/50 [==============================] - 2s 32ms/step - loss: 0.8990 - acc: 0.6731\n",
            "Epoch 357/1000\n",
            "50/50 [==============================] - 2s 33ms/step - loss: 0.8974 - acc: 0.6731\n",
            "Epoch 358/1000\n",
            "50/50 [==============================] - 2s 32ms/step - loss: 0.9108 - acc: 0.6572\n",
            "Epoch 359/1000\n",
            "50/50 [==============================] - 2s 32ms/step - loss: 0.9287 - acc: 0.6528\n",
            "Epoch 360/1000\n",
            "50/50 [==============================] - 2s 34ms/step - loss: 0.9305 - acc: 0.6672\n",
            "Epoch 361/1000\n",
            "27/50 [===============>..............] - ETA: 0s - loss: 0.9337 - acc: 0.6609"
          ],
          "name": "stdout"
        },
        {
          "output_type": "stream",
          "text": [
            "50/50 [==============================] - 2s 32ms/step - loss: 0.9223 - acc: 0.6628\n",
            "Epoch 362/1000\n",
            "50/50 [==============================] - 2s 33ms/step - loss: 0.8963 - acc: 0.6600\n",
            "Epoch 363/1000\n",
            "50/50 [==============================] - 2s 32ms/step - loss: 0.8924 - acc: 0.6644\n",
            "Epoch 364/1000\n",
            "50/50 [==============================] - 2s 32ms/step - loss: 0.9224 - acc: 0.6644\n",
            "Epoch 365/1000\n",
            "50/50 [==============================] - 2s 33ms/step - loss: 0.9329 - acc: 0.6597\n",
            "Epoch 366/1000\n",
            "50/50 [==============================] - 2s 32ms/step - loss: 0.9281 - acc: 0.6538\n",
            "Epoch 367/1000\n",
            "50/50 [==============================] - 2s 32ms/step - loss: 0.8773 - acc: 0.6691\n",
            "Epoch 368/1000\n",
            "50/50 [==============================] - 2s 32ms/step - loss: 0.8905 - acc: 0.6700\n",
            "Epoch 369/1000\n",
            "23/50 [============>.................] - ETA: 0s - loss: 0.9050 - acc: 0.6692"
          ],
          "name": "stdout"
        },
        {
          "output_type": "stream",
          "text": [
            "50/50 [==============================] - 2s 33ms/step - loss: 0.8800 - acc: 0.6847\n",
            "Epoch 370/1000\n",
            "50/50 [==============================] - 2s 32ms/step - loss: 0.9272 - acc: 0.6597\n",
            "Epoch 371/1000\n",
            "50/50 [==============================] - 2s 32ms/step - loss: 0.8782 - acc: 0.6919\n",
            "Epoch 372/1000\n",
            "50/50 [==============================] - 2s 33ms/step - loss: 0.8814 - acc: 0.6906\n",
            "Epoch 373/1000\n",
            "50/50 [==============================] - 2s 32ms/step - loss: 0.9027 - acc: 0.6697\n",
            "Epoch 374/1000\n",
            "50/50 [==============================] - 2s 32ms/step - loss: 0.8875 - acc: 0.6734\n",
            "Epoch 375/1000\n",
            "50/50 [==============================] - 2s 32ms/step - loss: 0.9111 - acc: 0.6713\n",
            "Epoch 376/1000\n",
            "50/50 [==============================] - 2s 32ms/step - loss: 0.8932 - acc: 0.6725\n",
            "Epoch 377/1000\n",
            "23/50 [============>.................] - ETA: 0s - loss: 0.8953 - acc: 0.6692"
          ],
          "name": "stdout"
        },
        {
          "output_type": "stream",
          "text": [
            "50/50 [==============================] - 2s 32ms/step - loss: 0.8902 - acc: 0.6756\n",
            "Epoch 378/1000\n",
            "50/50 [==============================] - 2s 32ms/step - loss: 0.8878 - acc: 0.6817\n",
            "Epoch 379/1000\n",
            "50/50 [==============================] - 2s 32ms/step - loss: 0.9987 - acc: 0.6369\n",
            "Epoch 380/1000\n",
            "50/50 [==============================] - 2s 32ms/step - loss: 1.1265 - acc: 0.5819\n",
            "Epoch 381/1000\n",
            "50/50 [==============================] - 2s 33ms/step - loss: 0.9877 - acc: 0.6459\n",
            "Epoch 382/1000\n",
            "50/50 [==============================] - 2s 32ms/step - loss: 1.2995 - acc: 0.5109\n",
            "Epoch 383/1000\n",
            "50/50 [==============================] - 2s 33ms/step - loss: 1.1901 - acc: 0.5578\n",
            "Epoch 384/1000\n",
            "50/50 [==============================] - 2s 33ms/step - loss: 1.0442 - acc: 0.6166\n",
            "Epoch 385/1000\n",
            "19/50 [==========>...................] - ETA: 0s - loss: 1.0863 - acc: 0.6217"
          ],
          "name": "stdout"
        },
        {
          "output_type": "stream",
          "text": [
            "50/50 [==============================] - 2s 32ms/step - loss: 1.0386 - acc: 0.6338\n",
            "Epoch 386/1000\n",
            "50/50 [==============================] - 2s 32ms/step - loss: 0.9983 - acc: 0.6391\n",
            "Epoch 387/1000\n",
            "50/50 [==============================] - 2s 32ms/step - loss: 0.9664 - acc: 0.6478\n",
            "Epoch 388/1000\n",
            "50/50 [==============================] - 2s 32ms/step - loss: 0.9841 - acc: 0.6331\n",
            "Epoch 389/1000\n",
            "50/50 [==============================] - 2s 32ms/step - loss: 0.9555 - acc: 0.6462\n",
            "Epoch 390/1000\n",
            "50/50 [==============================] - 2s 32ms/step - loss: 1.2269 - acc: 0.5497\n",
            "Epoch 391/1000\n",
            "50/50 [==============================] - 2s 33ms/step - loss: 1.0505 - acc: 0.6078\n",
            "Epoch 392/1000\n",
            "50/50 [==============================] - 2s 32ms/step - loss: 0.9838 - acc: 0.6368\n",
            "Epoch 393/1000\n",
            "27/50 [===============>..............] - ETA: 0s - loss: 1.0054 - acc: 0.6395"
          ],
          "name": "stdout"
        },
        {
          "output_type": "stream",
          "text": [
            "50/50 [==============================] - 2s 33ms/step - loss: 0.9816 - acc: 0.6400\n",
            "Epoch 394/1000\n",
            "50/50 [==============================] - 2s 33ms/step - loss: 0.9407 - acc: 0.6500\n",
            "Epoch 395/1000\n",
            "50/50 [==============================] - 2s 32ms/step - loss: 0.9633 - acc: 0.6469\n",
            "Epoch 396/1000\n",
            "50/50 [==============================] - 2s 33ms/step - loss: 0.9189 - acc: 0.6659\n",
            "Epoch 397/1000\n",
            "50/50 [==============================] - 2s 33ms/step - loss: 1.0308 - acc: 0.6253\n",
            "Epoch 398/1000\n",
            "50/50 [==============================] - 2s 32ms/step - loss: 0.9462 - acc: 0.6550\n",
            "Epoch 399/1000\n",
            "50/50 [==============================] - 2s 32ms/step - loss: 0.9277 - acc: 0.6534\n",
            "Epoch 400/1000\n",
            "50/50 [==============================] - 2s 32ms/step - loss: 0.9416 - acc: 0.6587\n",
            "Epoch 401/1000\n",
            "21/50 [===========>..................] - ETA: 0s - loss: 0.9000 - acc: 0.6637"
          ],
          "name": "stdout"
        },
        {
          "output_type": "stream",
          "text": [
            "50/50 [==============================] - 2s 32ms/step - loss: 0.8866 - acc: 0.6775\n",
            "Epoch 402/1000\n",
            "50/50 [==============================] - 2s 33ms/step - loss: 0.8576 - acc: 0.6822\n",
            "Epoch 403/1000\n",
            "50/50 [==============================] - 2s 32ms/step - loss: 0.9064 - acc: 0.6647\n",
            "Epoch 404/1000\n",
            "50/50 [==============================] - 2s 32ms/step - loss: 0.9283 - acc: 0.6550\n",
            "Epoch 405/1000\n",
            "50/50 [==============================] - 2s 33ms/step - loss: 0.9319 - acc: 0.6488\n",
            "Epoch 406/1000\n",
            "50/50 [==============================] - 2s 32ms/step - loss: 0.8878 - acc: 0.6794\n",
            "Epoch 407/1000\n",
            "50/50 [==============================] - 2s 32ms/step - loss: 1.1969 - acc: 0.5610\n",
            "Epoch 408/1000\n",
            "50/50 [==============================] - 2s 33ms/step - loss: 1.5284 - acc: 0.4059\n",
            "Epoch 409/1000\n",
            "15/50 [========>.....................] - ETA: 1s - loss: 1.4289 - acc: 0.4385"
          ],
          "name": "stdout"
        },
        {
          "output_type": "stream",
          "text": [
            "50/50 [==============================] - 2s 32ms/step - loss: 1.3811 - acc: 0.4697\n",
            "Epoch 410/1000\n",
            "50/50 [==============================] - 2s 32ms/step - loss: 1.2937 - acc: 0.5094\n",
            "Epoch 411/1000\n",
            "50/50 [==============================] - 2s 33ms/step - loss: 1.2497 - acc: 0.5394\n",
            "Epoch 412/1000\n",
            "50/50 [==============================] - 2s 33ms/step - loss: 1.1693 - acc: 0.5656\n",
            "Epoch 413/1000\n",
            "50/50 [==============================] - 2s 32ms/step - loss: 1.1573 - acc: 0.5637\n",
            "Epoch 414/1000\n",
            "50/50 [==============================] - 2s 34ms/step - loss: 1.1201 - acc: 0.5837\n",
            "Epoch 415/1000\n",
            "50/50 [==============================] - 2s 32ms/step - loss: 1.0743 - acc: 0.5972\n",
            "Epoch 416/1000\n",
            "50/50 [==============================] - 2s 33ms/step - loss: 1.0747 - acc: 0.6047\n",
            "Epoch 417/1000\n",
            "27/50 [===============>..............] - ETA: 0s - loss: 1.0447 - acc: 0.6036"
          ],
          "name": "stdout"
        },
        {
          "output_type": "stream",
          "text": [
            "50/50 [==============================] - 2s 33ms/step - loss: 1.0631 - acc: 0.5969\n",
            "Epoch 418/1000\n",
            "50/50 [==============================] - 2s 33ms/step - loss: 1.0436 - acc: 0.6056\n",
            "Epoch 419/1000\n",
            "50/50 [==============================] - 2s 32ms/step - loss: 1.0383 - acc: 0.6175\n",
            "Epoch 420/1000\n",
            "50/50 [==============================] - 2s 33ms/step - loss: 1.0359 - acc: 0.6234\n",
            "Epoch 421/1000\n",
            "50/50 [==============================] - 2s 33ms/step - loss: 0.9738 - acc: 0.6391\n",
            "Epoch 422/1000\n",
            "50/50 [==============================] - 2s 33ms/step - loss: 1.0037 - acc: 0.6262\n",
            "Epoch 423/1000\n",
            "50/50 [==============================] - 2s 33ms/step - loss: 1.0037 - acc: 0.6384\n",
            "Epoch 424/1000\n",
            "50/50 [==============================] - 2s 32ms/step - loss: 0.9851 - acc: 0.6319\n",
            "Epoch 425/1000\n",
            "17/50 [=========>....................] - ETA: 1s - loss: 1.0535 - acc: 0.6121"
          ],
          "name": "stdout"
        },
        {
          "output_type": "stream",
          "text": [
            "50/50 [==============================] - 2s 32ms/step - loss: 1.0546 - acc: 0.6100\n",
            "Epoch 426/1000\n",
            "50/50 [==============================] - 2s 33ms/step - loss: 1.0000 - acc: 0.6316\n",
            "Epoch 427/1000\n",
            "50/50 [==============================] - 2s 33ms/step - loss: 0.9892 - acc: 0.6291\n",
            "Epoch 428/1000\n",
            "50/50 [==============================] - 2s 33ms/step - loss: 0.9737 - acc: 0.6344\n",
            "Epoch 429/1000\n",
            "50/50 [==============================] - 2s 33ms/step - loss: 0.9164 - acc: 0.6578\n",
            "Epoch 430/1000\n",
            "50/50 [==============================] - 2s 33ms/step - loss: 0.9563 - acc: 0.6437\n",
            "Epoch 431/1000\n",
            "50/50 [==============================] - 2s 32ms/step - loss: 0.9013 - acc: 0.6713\n",
            "Epoch 432/1000\n",
            "50/50 [==============================] - 2s 34ms/step - loss: 0.9658 - acc: 0.6484\n",
            "Epoch 433/1000\n",
            "23/50 [============>.................] - ETA: 0s - loss: 0.9351 - acc: 0.6658"
          ],
          "name": "stdout"
        },
        {
          "output_type": "stream",
          "text": [
            "50/50 [==============================] - 2s 32ms/step - loss: 0.9234 - acc: 0.6653\n",
            "Epoch 434/1000\n",
            "50/50 [==============================] - 2s 32ms/step - loss: 0.9006 - acc: 0.6744\n",
            "Epoch 435/1000\n",
            "50/50 [==============================] - 2s 33ms/step - loss: 0.9292 - acc: 0.6572\n",
            "Epoch 436/1000\n",
            "50/50 [==============================] - 2s 32ms/step - loss: 0.8711 - acc: 0.6744\n",
            "Epoch 437/1000\n",
            "50/50 [==============================] - 2s 32ms/step - loss: 0.8917 - acc: 0.6631\n",
            "Epoch 438/1000\n",
            "50/50 [==============================] - 2s 32ms/step - loss: 0.9214 - acc: 0.6691\n",
            "Epoch 439/1000\n",
            "50/50 [==============================] - 2s 32ms/step - loss: 0.9017 - acc: 0.6575\n",
            "Epoch 440/1000\n",
            "50/50 [==============================] - 2s 32ms/step - loss: 0.8921 - acc: 0.6741\n",
            "Epoch 441/1000\n",
            "27/50 [===============>..............] - ETA: 0s - loss: 0.8614 - acc: 0.6904"
          ],
          "name": "stdout"
        },
        {
          "output_type": "stream",
          "text": [
            "50/50 [==============================] - 2s 32ms/step - loss: 0.8740 - acc: 0.6891\n",
            "Epoch 442/1000\n",
            "50/50 [==============================] - 2s 33ms/step - loss: 0.9221 - acc: 0.6591\n",
            "Epoch 443/1000\n",
            "50/50 [==============================] - 2s 32ms/step - loss: 0.9169 - acc: 0.6559\n",
            "Epoch 444/1000\n",
            "50/50 [==============================] - 2s 33ms/step - loss: 0.8931 - acc: 0.6663\n",
            "Epoch 445/1000\n",
            "50/50 [==============================] - 2s 32ms/step - loss: 0.8975 - acc: 0.6622\n",
            "Epoch 446/1000\n",
            "50/50 [==============================] - 2s 32ms/step - loss: 0.9353 - acc: 0.6637\n",
            "Epoch 447/1000\n",
            "50/50 [==============================] - 2s 33ms/step - loss: 0.9468 - acc: 0.6594\n",
            "Epoch 448/1000\n",
            "50/50 [==============================] - 2s 32ms/step - loss: 0.9217 - acc: 0.6606\n",
            "Epoch 449/1000\n",
            "21/50 [===========>..................] - ETA: 0s - loss: 0.9037 - acc: 0.6570"
          ],
          "name": "stdout"
        },
        {
          "output_type": "stream",
          "text": [
            "50/50 [==============================] - 2s 33ms/step - loss: 0.8910 - acc: 0.6659\n",
            "Epoch 450/1000\n",
            "50/50 [==============================] - 2s 33ms/step - loss: 0.9104 - acc: 0.6619\n",
            "Epoch 451/1000\n",
            "50/50 [==============================] - 2s 32ms/step - loss: 0.8791 - acc: 0.6725\n",
            "Epoch 452/1000\n",
            "50/50 [==============================] - 2s 32ms/step - loss: 0.8603 - acc: 0.6766\n",
            "Epoch 453/1000\n",
            "50/50 [==============================] - 2s 32ms/step - loss: 0.8982 - acc: 0.6688\n",
            "Epoch 454/1000\n",
            "50/50 [==============================] - 2s 32ms/step - loss: 0.9135 - acc: 0.6653\n",
            "Epoch 455/1000\n",
            "50/50 [==============================] - 2s 32ms/step - loss: 0.9067 - acc: 0.6678\n",
            "Epoch 456/1000\n",
            "50/50 [==============================] - 2s 32ms/step - loss: 0.8923 - acc: 0.6747\n",
            "Epoch 457/1000\n",
            "27/50 [===============>..............] - ETA: 0s - loss: 0.8632 - acc: 0.6696"
          ],
          "name": "stdout"
        },
        {
          "output_type": "stream",
          "text": [
            "50/50 [==============================] - 2s 32ms/step - loss: 0.8698 - acc: 0.6728\n",
            "Epoch 458/1000\n",
            "50/50 [==============================] - 2s 32ms/step - loss: 0.8967 - acc: 0.6693\n",
            "Epoch 459/1000\n",
            "50/50 [==============================] - 2s 33ms/step - loss: 0.9190 - acc: 0.6562\n",
            "Epoch 460/1000\n",
            "50/50 [==============================] - 2s 33ms/step - loss: 0.8967 - acc: 0.6678\n",
            "Epoch 461/1000\n",
            "50/50 [==============================] - 2s 33ms/step - loss: 0.9351 - acc: 0.6569\n",
            "Epoch 462/1000\n",
            "50/50 [==============================] - 2s 32ms/step - loss: 0.9349 - acc: 0.6669\n",
            "Epoch 463/1000\n",
            "50/50 [==============================] - 2s 32ms/step - loss: 0.9243 - acc: 0.6587\n",
            "Epoch 464/1000\n",
            "50/50 [==============================] - 2s 32ms/step - loss: 0.8712 - acc: 0.6766\n",
            "Epoch 465/1000\n",
            "19/50 [==========>...................] - ETA: 0s - loss: 0.8680 - acc: 0.6809"
          ],
          "name": "stdout"
        },
        {
          "output_type": "stream",
          "text": [
            "50/50 [==============================] - 2s 32ms/step - loss: 0.9035 - acc: 0.6709\n",
            "Epoch 466/1000\n",
            "50/50 [==============================] - 2s 33ms/step - loss: 0.8854 - acc: 0.6791\n",
            "Epoch 467/1000\n",
            "50/50 [==============================] - 2s 33ms/step - loss: 0.8890 - acc: 0.6787\n",
            "Epoch 468/1000\n",
            "50/50 [==============================] - 2s 32ms/step - loss: 0.8925 - acc: 0.6689\n",
            "Epoch 469/1000\n",
            "50/50 [==============================] - 2s 33ms/step - loss: 0.9058 - acc: 0.6600\n",
            "Epoch 470/1000\n",
            "50/50 [==============================] - 2s 33ms/step - loss: 0.9068 - acc: 0.6653\n",
            "Epoch 471/1000\n",
            "50/50 [==============================] - 2s 32ms/step - loss: 0.9054 - acc: 0.6703\n",
            "Epoch 472/1000\n",
            "50/50 [==============================] - 2s 32ms/step - loss: 0.9040 - acc: 0.6734\n",
            "Epoch 473/1000\n",
            "25/50 [==============>...............] - ETA: 0s - loss: 0.9440 - acc: 0.6594"
          ],
          "name": "stdout"
        },
        {
          "output_type": "stream",
          "text": [
            "50/50 [==============================] - 2s 33ms/step - loss: 0.9149 - acc: 0.6681\n",
            "Epoch 474/1000\n",
            "50/50 [==============================] - 2s 32ms/step - loss: 0.9002 - acc: 0.6722\n",
            "Epoch 475/1000\n",
            "50/50 [==============================] - 2s 32ms/step - loss: 0.8846 - acc: 0.6784\n",
            "Epoch 476/1000\n",
            "50/50 [==============================] - 2s 32ms/step - loss: 0.8497 - acc: 0.6841\n",
            "Epoch 477/1000\n",
            "50/50 [==============================] - 2s 32ms/step - loss: 0.8591 - acc: 0.6737\n",
            "Epoch 478/1000\n",
            "50/50 [==============================] - 2s 32ms/step - loss: 0.9110 - acc: 0.6625\n",
            "Epoch 479/1000\n",
            "50/50 [==============================] - 2s 33ms/step - loss: 0.8801 - acc: 0.6756\n",
            "Epoch 480/1000\n",
            "50/50 [==============================] - 2s 32ms/step - loss: 0.8812 - acc: 0.6703\n",
            "Epoch 481/1000\n",
            "25/50 [==============>...............] - ETA: 0s - loss: 0.8467 - acc: 0.6919"
          ],
          "name": "stdout"
        },
        {
          "output_type": "stream",
          "text": [
            "50/50 [==============================] - 2s 33ms/step - loss: 0.8711 - acc: 0.6759\n",
            "Epoch 482/1000\n",
            "50/50 [==============================] - 2s 33ms/step - loss: 0.8784 - acc: 0.6816\n",
            "Epoch 483/1000\n",
            "50/50 [==============================] - 2s 33ms/step - loss: 0.9061 - acc: 0.6678\n",
            "Epoch 484/1000\n",
            "50/50 [==============================] - 2s 32ms/step - loss: 0.9201 - acc: 0.6619\n",
            "Epoch 485/1000\n",
            "50/50 [==============================] - 2s 33ms/step - loss: 0.8876 - acc: 0.6659\n",
            "Epoch 486/1000\n",
            "50/50 [==============================] - 2s 32ms/step - loss: 0.9006 - acc: 0.6719\n",
            "Epoch 487/1000\n",
            "50/50 [==============================] - 2s 32ms/step - loss: 0.8952 - acc: 0.6766\n",
            "Epoch 488/1000\n",
            "50/50 [==============================] - 2s 32ms/step - loss: 0.8820 - acc: 0.6803\n",
            "Epoch 489/1000\n",
            "27/50 [===============>..............] - ETA: 0s - loss: 0.8853 - acc: 0.6782"
          ],
          "name": "stdout"
        },
        {
          "output_type": "stream",
          "text": [
            "50/50 [==============================] - 2s 32ms/step - loss: 0.8743 - acc: 0.6787\n",
            "Epoch 490/1000\n",
            "50/50 [==============================] - 2s 32ms/step - loss: 0.8719 - acc: 0.6797\n",
            "Epoch 491/1000\n",
            "50/50 [==============================] - 2s 32ms/step - loss: 0.8984 - acc: 0.6619\n",
            "Epoch 492/1000\n",
            "50/50 [==============================] - 2s 32ms/step - loss: 0.8766 - acc: 0.6819\n",
            "Epoch 493/1000\n",
            "50/50 [==============================] - 2s 32ms/step - loss: 0.9076 - acc: 0.6731\n",
            "Epoch 494/1000\n",
            "50/50 [==============================] - 2s 32ms/step - loss: 0.8751 - acc: 0.6816\n",
            "Epoch 495/1000\n",
            "50/50 [==============================] - 2s 33ms/step - loss: 0.8990 - acc: 0.6756\n",
            "Epoch 496/1000\n",
            "50/50 [==============================] - 2s 32ms/step - loss: 0.8878 - acc: 0.6703\n",
            "Epoch 497/1000\n",
            "21/50 [===========>..................] - ETA: 0s - loss: 0.9592 - acc: 0.6429"
          ],
          "name": "stdout"
        },
        {
          "output_type": "stream",
          "text": [
            "50/50 [==============================] - 2s 32ms/step - loss: 0.9498 - acc: 0.6475\n",
            "Epoch 498/1000\n",
            "50/50 [==============================] - 2s 32ms/step - loss: 0.9050 - acc: 0.6644\n",
            "Epoch 499/1000\n",
            "50/50 [==============================] - 2s 32ms/step - loss: 0.9453 - acc: 0.6547\n",
            "Epoch 500/1000\n",
            "50/50 [==============================] - 2s 32ms/step - loss: 0.9232 - acc: 0.6512\n",
            "Epoch 501/1000\n",
            "50/50 [==============================] - 2s 32ms/step - loss: 0.8846 - acc: 0.6809\n",
            "Epoch 502/1000\n",
            "50/50 [==============================] - 2s 32ms/step - loss: 0.9038 - acc: 0.6713\n",
            "Epoch 503/1000\n",
            "50/50 [==============================] - 2s 33ms/step - loss: 0.8823 - acc: 0.6822\n",
            "Epoch 504/1000\n",
            "50/50 [==============================] - 2s 33ms/step - loss: 0.8582 - acc: 0.6784\n",
            "Epoch 505/1000\n",
            "21/50 [===========>..................] - ETA: 0s - loss: 0.9685 - acc: 0.6540"
          ],
          "name": "stdout"
        },
        {
          "output_type": "stream",
          "text": [
            "50/50 [==============================] - 2s 32ms/step - loss: 0.8981 - acc: 0.6744\n",
            "Epoch 506/1000\n",
            "50/50 [==============================] - 2s 33ms/step - loss: 0.8655 - acc: 0.6775\n",
            "Epoch 507/1000\n",
            "50/50 [==============================] - 2s 32ms/step - loss: 0.8911 - acc: 0.6684\n",
            "Epoch 508/1000\n",
            "50/50 [==============================] - 2s 33ms/step - loss: 0.8950 - acc: 0.6725\n",
            "Epoch 509/1000\n",
            "50/50 [==============================] - 2s 33ms/step - loss: 0.8814 - acc: 0.6822\n",
            "Epoch 510/1000\n",
            "50/50 [==============================] - 2s 33ms/step - loss: 0.8732 - acc: 0.6834\n",
            "Epoch 511/1000\n",
            "50/50 [==============================] - 2s 32ms/step - loss: 0.8906 - acc: 0.6787\n",
            "Epoch 512/1000\n",
            "50/50 [==============================] - 2s 32ms/step - loss: 0.9190 - acc: 0.6594\n",
            "Epoch 513/1000\n",
            "25/50 [==============>...............] - ETA: 0s - loss: 0.8996 - acc: 0.6613"
          ],
          "name": "stdout"
        },
        {
          "output_type": "stream",
          "text": [
            "50/50 [==============================] - 2s 33ms/step - loss: 0.8907 - acc: 0.6628\n",
            "Epoch 514/1000\n",
            "50/50 [==============================] - 2s 32ms/step - loss: 0.8693 - acc: 0.6825\n",
            "Epoch 515/1000\n",
            "50/50 [==============================] - 2s 32ms/step - loss: 0.8969 - acc: 0.6675\n",
            "Epoch 516/1000\n",
            "50/50 [==============================] - 2s 33ms/step - loss: 0.8978 - acc: 0.6625\n",
            "Epoch 517/1000\n",
            "50/50 [==============================] - 2s 33ms/step - loss: 0.9179 - acc: 0.6737\n",
            "Epoch 518/1000\n",
            "50/50 [==============================] - 2s 33ms/step - loss: 0.9603 - acc: 0.6494\n",
            "Epoch 519/1000\n",
            "50/50 [==============================] - 2s 33ms/step - loss: 1.0132 - acc: 0.6281\n",
            "Epoch 520/1000\n",
            "50/50 [==============================] - 2s 32ms/step - loss: 0.9275 - acc: 0.6652\n",
            "Epoch 521/1000\n",
            "15/50 [========>.....................] - ETA: 1s - loss: 0.8833 - acc: 0.6677"
          ],
          "name": "stdout"
        },
        {
          "output_type": "stream",
          "text": [
            "50/50 [==============================] - 2s 34ms/step - loss: 0.9131 - acc: 0.6641\n",
            "Epoch 522/1000\n",
            "50/50 [==============================] - 2s 32ms/step - loss: 0.8805 - acc: 0.6691\n",
            "Epoch 523/1000\n",
            "50/50 [==============================] - 2s 32ms/step - loss: 0.8814 - acc: 0.6719\n",
            "Epoch 524/1000\n",
            "50/50 [==============================] - 2s 32ms/step - loss: 0.8919 - acc: 0.6697\n",
            "Epoch 525/1000\n",
            "50/50 [==============================] - 2s 32ms/step - loss: 0.9103 - acc: 0.6631\n",
            "Epoch 526/1000\n",
            "50/50 [==============================] - 2s 32ms/step - loss: 0.8565 - acc: 0.6763\n",
            "Epoch 527/1000\n",
            "50/50 [==============================] - 2s 32ms/step - loss: 0.8811 - acc: 0.6731\n",
            "Epoch 528/1000\n",
            "50/50 [==============================] - 2s 32ms/step - loss: 0.9087 - acc: 0.6753\n",
            "Epoch 529/1000\n",
            "27/50 [===============>..............] - ETA: 0s - loss: 0.8894 - acc: 0.6748"
          ],
          "name": "stdout"
        },
        {
          "output_type": "stream",
          "text": [
            "50/50 [==============================] - 2s 32ms/step - loss: 0.8657 - acc: 0.6831\n",
            "Epoch 530/1000\n",
            "50/50 [==============================] - 2s 32ms/step - loss: 0.9117 - acc: 0.6587\n",
            "Epoch 531/1000\n",
            "50/50 [==============================] - 2s 33ms/step - loss: 0.8510 - acc: 0.6847\n",
            "Epoch 532/1000\n",
            "50/50 [==============================] - 2s 32ms/step - loss: 0.8885 - acc: 0.6781\n",
            "Epoch 533/1000\n",
            "50/50 [==============================] - 2s 33ms/step - loss: 0.8811 - acc: 0.6725\n",
            "Epoch 534/1000\n",
            "50/50 [==============================] - 2s 33ms/step - loss: 0.9033 - acc: 0.6725\n",
            "Epoch 535/1000\n",
            "50/50 [==============================] - 2s 33ms/step - loss: 0.9998 - acc: 0.6266\n",
            "Epoch 536/1000\n",
            "50/50 [==============================] - 2s 32ms/step - loss: 1.2535 - acc: 0.5375\n",
            "Epoch 537/1000\n",
            "14/50 [=======>......................] - ETA: 1s - loss: 1.4522 - acc: 0.4801"
          ],
          "name": "stdout"
        },
        {
          "output_type": "stream",
          "text": [
            "50/50 [==============================] - 2s 31ms/step - loss: 1.3325 - acc: 0.5004\n",
            "Epoch 538/1000\n",
            "50/50 [==============================] - 2s 32ms/step - loss: 1.2158 - acc: 0.5419\n",
            "Epoch 539/1000\n",
            "50/50 [==============================] - 2s 33ms/step - loss: 1.1521 - acc: 0.5666\n",
            "Epoch 540/1000\n",
            "50/50 [==============================] - 2s 33ms/step - loss: 1.0375 - acc: 0.6162\n",
            "Epoch 541/1000\n",
            "50/50 [==============================] - 2s 33ms/step - loss: 1.0315 - acc: 0.6153\n",
            "Epoch 542/1000\n",
            "50/50 [==============================] - 2s 32ms/step - loss: 1.0188 - acc: 0.6250\n",
            "Epoch 543/1000\n",
            "50/50 [==============================] - 2s 32ms/step - loss: 0.9690 - acc: 0.6359\n",
            "Epoch 544/1000\n",
            "50/50 [==============================] - 2s 32ms/step - loss: 0.9587 - acc: 0.6425\n",
            "Epoch 545/1000\n",
            "15/50 [========>.....................] - ETA: 1s - loss: 0.9368 - acc: 0.6635"
          ],
          "name": "stdout"
        },
        {
          "output_type": "stream",
          "text": [
            "50/50 [==============================] - 2s 32ms/step - loss: 0.9055 - acc: 0.6697\n",
            "Epoch 546/1000\n",
            "50/50 [==============================] - 2s 33ms/step - loss: 0.9001 - acc: 0.6741\n",
            "Epoch 547/1000\n",
            "50/50 [==============================] - 2s 33ms/step - loss: 0.9369 - acc: 0.6503\n",
            "Epoch 548/1000\n",
            "50/50 [==============================] - 2s 32ms/step - loss: 0.9403 - acc: 0.6606\n",
            "Epoch 549/1000\n",
            "50/50 [==============================] - 2s 33ms/step - loss: 0.9306 - acc: 0.6578\n",
            "Epoch 550/1000\n",
            "50/50 [==============================] - 2s 32ms/step - loss: 0.9080 - acc: 0.6672\n",
            "Epoch 551/1000\n",
            "50/50 [==============================] - 2s 33ms/step - loss: 0.8941 - acc: 0.6703\n",
            "Epoch 552/1000\n",
            "50/50 [==============================] - 2s 33ms/step - loss: 0.8990 - acc: 0.6700\n",
            "Epoch 553/1000\n",
            "21/50 [===========>..................] - ETA: 0s - loss: 0.8779 - acc: 0.6756"
          ],
          "name": "stdout"
        },
        {
          "output_type": "stream",
          "text": [
            "50/50 [==============================] - 2s 32ms/step - loss: 0.8876 - acc: 0.6700\n",
            "Epoch 554/1000\n",
            "50/50 [==============================] - 2s 32ms/step - loss: 0.9559 - acc: 0.6472\n",
            "Epoch 555/1000\n",
            "50/50 [==============================] - 2s 32ms/step - loss: 0.8774 - acc: 0.6797\n",
            "Epoch 556/1000\n",
            "50/50 [==============================] - 2s 32ms/step - loss: 0.9060 - acc: 0.6606\n",
            "Epoch 557/1000\n",
            "50/50 [==============================] - 2s 34ms/step - loss: 0.9107 - acc: 0.6641\n",
            "Epoch 558/1000\n",
            "50/50 [==============================] - 2s 32ms/step - loss: 0.8663 - acc: 0.6759\n",
            "Epoch 559/1000\n",
            "50/50 [==============================] - 2s 32ms/step - loss: 0.8739 - acc: 0.6844\n",
            "Epoch 560/1000\n",
            "50/50 [==============================] - 2s 32ms/step - loss: 0.8581 - acc: 0.6847\n",
            "Epoch 561/1000\n",
            "23/50 [============>.................] - ETA: 0s - loss: 0.8655 - acc: 0.6800"
          ],
          "name": "stdout"
        },
        {
          "output_type": "stream",
          "text": [
            "50/50 [==============================] - 2s 32ms/step - loss: 0.8824 - acc: 0.6734\n",
            "Epoch 562/1000\n",
            "50/50 [==============================] - 2s 32ms/step - loss: 0.8927 - acc: 0.6816\n",
            "Epoch 563/1000\n",
            "50/50 [==============================] - 2s 32ms/step - loss: 0.9246 - acc: 0.6581\n",
            "Epoch 564/1000\n",
            "50/50 [==============================] - 2s 32ms/step - loss: 0.9203 - acc: 0.6678\n",
            "Epoch 565/1000\n",
            "50/50 [==============================] - 2s 33ms/step - loss: 0.9471 - acc: 0.6528\n",
            "Epoch 566/1000\n",
            "50/50 [==============================] - 2s 33ms/step - loss: 0.8786 - acc: 0.6797\n",
            "Epoch 567/1000\n",
            "50/50 [==============================] - 2s 32ms/step - loss: 0.9278 - acc: 0.6578\n",
            "Epoch 568/1000\n",
            "50/50 [==============================] - 2s 32ms/step - loss: 0.8709 - acc: 0.6884\n",
            "Epoch 569/1000\n",
            "17/50 [=========>....................] - ETA: 1s - loss: 0.7922 - acc: 0.7096"
          ],
          "name": "stdout"
        },
        {
          "output_type": "stream",
          "text": [
            "50/50 [==============================] - 2s 33ms/step - loss: 0.8775 - acc: 0.6828\n",
            "Epoch 570/1000\n",
            "50/50 [==============================] - 2s 33ms/step - loss: 0.8889 - acc: 0.6806\n",
            "Epoch 571/1000\n",
            "50/50 [==============================] - 2s 33ms/step - loss: 0.9046 - acc: 0.6653\n",
            "Epoch 572/1000\n",
            "50/50 [==============================] - 2s 32ms/step - loss: 0.9066 - acc: 0.6636\n",
            "Epoch 573/1000\n",
            "50/50 [==============================] - 2s 32ms/step - loss: 0.9117 - acc: 0.6634\n",
            "Epoch 574/1000\n",
            "50/50 [==============================] - 2s 32ms/step - loss: 0.9137 - acc: 0.6763\n",
            "Epoch 575/1000\n",
            "50/50 [==============================] - 2s 34ms/step - loss: 0.8781 - acc: 0.6869\n",
            "Epoch 576/1000\n",
            "50/50 [==============================] - 2s 32ms/step - loss: 0.8632 - acc: 0.6753\n",
            "Epoch 577/1000\n",
            "25/50 [==============>...............] - ETA: 0s - loss: 0.8571 - acc: 0.6931"
          ],
          "name": "stdout"
        },
        {
          "output_type": "stream",
          "text": [
            "50/50 [==============================] - 2s 32ms/step - loss: 0.8515 - acc: 0.6900\n",
            "Epoch 578/1000\n",
            "50/50 [==============================] - 2s 33ms/step - loss: 0.8981 - acc: 0.6794\n",
            "Epoch 579/1000\n",
            "50/50 [==============================] - 2s 32ms/step - loss: 0.8571 - acc: 0.6956\n",
            "Epoch 580/1000\n",
            "50/50 [==============================] - 2s 32ms/step - loss: 0.8988 - acc: 0.6811\n",
            "Epoch 581/1000\n",
            "50/50 [==============================] - 2s 32ms/step - loss: 0.9080 - acc: 0.6797\n",
            "Epoch 582/1000\n",
            "50/50 [==============================] - 2s 32ms/step - loss: 0.8758 - acc: 0.6684\n",
            "Epoch 583/1000\n",
            "50/50 [==============================] - 2s 32ms/step - loss: 0.8927 - acc: 0.6684\n",
            "Epoch 584/1000\n",
            "50/50 [==============================] - 2s 32ms/step - loss: 0.9152 - acc: 0.6747\n",
            "Epoch 585/1000\n",
            "25/50 [==============>...............] - ETA: 0s - loss: 0.9339 - acc: 0.6669"
          ],
          "name": "stdout"
        },
        {
          "output_type": "stream",
          "text": [
            "50/50 [==============================] - 2s 32ms/step - loss: 0.9421 - acc: 0.6562\n",
            "Epoch 586/1000\n",
            "50/50 [==============================] - 2s 32ms/step - loss: 0.9251 - acc: 0.6613\n",
            "Epoch 587/1000\n",
            "50/50 [==============================] - 2s 32ms/step - loss: 0.8951 - acc: 0.6772\n",
            "Epoch 588/1000\n",
            "50/50 [==============================] - 2s 32ms/step - loss: 0.9603 - acc: 0.6488\n",
            "Epoch 589/1000\n",
            "50/50 [==============================] - 2s 32ms/step - loss: 0.9074 - acc: 0.6713\n",
            "Epoch 590/1000\n",
            "50/50 [==============================] - 2s 32ms/step - loss: 0.8872 - acc: 0.6706\n",
            "Epoch 591/1000\n",
            "50/50 [==============================] - 2s 32ms/step - loss: 0.8885 - acc: 0.6684\n",
            "Epoch 592/1000\n",
            "50/50 [==============================] - 2s 32ms/step - loss: 0.9248 - acc: 0.6625\n",
            "Epoch 593/1000\n",
            "19/50 [==========>...................] - ETA: 1s - loss: 0.8714 - acc: 0.6776"
          ],
          "name": "stdout"
        },
        {
          "output_type": "stream",
          "text": [
            "50/50 [==============================] - 2s 34ms/step - loss: 0.8749 - acc: 0.6791\n",
            "Epoch 594/1000\n",
            "50/50 [==============================] - 2s 32ms/step - loss: 0.8744 - acc: 0.6725\n",
            "Epoch 595/1000\n",
            "50/50 [==============================] - 2s 32ms/step - loss: 0.9101 - acc: 0.6644\n",
            "Epoch 596/1000\n",
            "50/50 [==============================] - 2s 32ms/step - loss: 0.8983 - acc: 0.6647\n",
            "Epoch 597/1000\n",
            "50/50 [==============================] - 2s 32ms/step - loss: 0.8769 - acc: 0.6728\n",
            "Epoch 598/1000\n",
            "50/50 [==============================] - 2s 32ms/step - loss: 0.8937 - acc: 0.6756\n",
            "Epoch 599/1000\n",
            "50/50 [==============================] - 2s 33ms/step - loss: 0.9057 - acc: 0.6734\n",
            "Epoch 600/1000\n",
            "50/50 [==============================] - 2s 33ms/step - loss: 0.8539 - acc: 0.6881\n",
            "Epoch 601/1000\n",
            "17/50 [=========>....................] - ETA: 1s - loss: 0.9065 - acc: 0.6682"
          ],
          "name": "stdout"
        },
        {
          "output_type": "stream",
          "text": [
            "50/50 [==============================] - 2s 32ms/step - loss: 0.8789 - acc: 0.6775\n",
            "Epoch 602/1000\n",
            "50/50 [==============================] - 2s 32ms/step - loss: 0.8884 - acc: 0.6675\n",
            "Epoch 603/1000\n",
            "50/50 [==============================] - 2s 32ms/step - loss: 0.9390 - acc: 0.6697\n",
            "Epoch 604/1000\n",
            "50/50 [==============================] - 2s 32ms/step - loss: 0.9851 - acc: 0.6369\n",
            "Epoch 605/1000\n",
            "50/50 [==============================] - 2s 32ms/step - loss: 0.9002 - acc: 0.6816\n",
            "Epoch 606/1000\n",
            "50/50 [==============================] - 2s 32ms/step - loss: 0.9025 - acc: 0.6720\n",
            "Epoch 607/1000\n",
            "50/50 [==============================] - 2s 32ms/step - loss: 0.8760 - acc: 0.6850\n",
            "Epoch 608/1000\n",
            "50/50 [==============================] - 2s 32ms/step - loss: 0.8521 - acc: 0.6900\n",
            "Epoch 609/1000\n",
            "27/50 [===============>..............] - ETA: 0s - loss: 0.8698 - acc: 0.6823"
          ],
          "name": "stdout"
        },
        {
          "output_type": "stream",
          "text": [
            "50/50 [==============================] - 2s 32ms/step - loss: 0.8788 - acc: 0.6847\n",
            "Epoch 610/1000\n",
            "50/50 [==============================] - 2s 32ms/step - loss: 0.9190 - acc: 0.6594\n",
            "Epoch 611/1000\n",
            "50/50 [==============================] - 2s 34ms/step - loss: 0.9271 - acc: 0.6706\n",
            "Epoch 612/1000\n",
            "50/50 [==============================] - 2s 33ms/step - loss: 0.8831 - acc: 0.6666\n",
            "Epoch 613/1000\n",
            "50/50 [==============================] - 2s 33ms/step - loss: 0.9875 - acc: 0.6416\n",
            "Epoch 614/1000\n",
            "50/50 [==============================] - 2s 32ms/step - loss: 1.0984 - acc: 0.5934\n",
            "Epoch 615/1000\n",
            "50/50 [==============================] - 2s 32ms/step - loss: 0.8901 - acc: 0.6681\n",
            "Epoch 616/1000\n",
            "50/50 [==============================] - 2s 33ms/step - loss: 0.8932 - acc: 0.6634\n",
            "Epoch 617/1000\n",
            "21/50 [===========>..................] - ETA: 0s - loss: 0.9213 - acc: 0.6756"
          ],
          "name": "stdout"
        },
        {
          "output_type": "stream",
          "text": [
            "50/50 [==============================] - 2s 32ms/step - loss: 0.8869 - acc: 0.6822\n",
            "Epoch 618/1000\n",
            "50/50 [==============================] - 2s 32ms/step - loss: 0.8910 - acc: 0.6781\n",
            "Epoch 619/1000\n",
            "50/50 [==============================] - 2s 33ms/step - loss: 0.8781 - acc: 0.6734\n",
            "Epoch 620/1000\n",
            "50/50 [==============================] - 2s 33ms/step - loss: 0.8889 - acc: 0.6697\n",
            "Epoch 621/1000\n",
            "50/50 [==============================] - 2s 32ms/step - loss: 0.8746 - acc: 0.6813\n",
            "Epoch 622/1000\n",
            "50/50 [==============================] - 2s 32ms/step - loss: 1.1986 - acc: 0.5588\n",
            "Epoch 623/1000\n",
            "50/50 [==============================] - 2s 33ms/step - loss: 1.0829 - acc: 0.5922\n",
            "Epoch 624/1000\n",
            "50/50 [==============================] - 2s 32ms/step - loss: 0.9394 - acc: 0.6578\n",
            "Epoch 625/1000\n",
            "21/50 [===========>..................] - ETA: 0s - loss: 0.8953 - acc: 0.6629"
          ],
          "name": "stdout"
        },
        {
          "output_type": "stream",
          "text": [
            "50/50 [==============================] - 2s 32ms/step - loss: 0.8833 - acc: 0.6747\n",
            "Epoch 626/1000\n",
            "50/50 [==============================] - 2s 33ms/step - loss: 0.8685 - acc: 0.6775\n",
            "Epoch 627/1000\n",
            "50/50 [==============================] - 2s 33ms/step - loss: 0.9262 - acc: 0.6497\n",
            "Epoch 628/1000\n",
            "50/50 [==============================] - 2s 32ms/step - loss: 0.8772 - acc: 0.6787\n",
            "Epoch 629/1000\n",
            "50/50 [==============================] - 2s 34ms/step - loss: 0.8663 - acc: 0.6834\n",
            "Epoch 630/1000\n",
            "50/50 [==============================] - 2s 32ms/step - loss: 0.8785 - acc: 0.6741\n",
            "Epoch 631/1000\n",
            "50/50 [==============================] - 2s 32ms/step - loss: 0.8735 - acc: 0.6778\n",
            "Epoch 632/1000\n",
            "50/50 [==============================] - 2s 32ms/step - loss: 0.8825 - acc: 0.6750\n",
            "Epoch 633/1000\n",
            "23/50 [============>.................] - ETA: 0s - loss: 0.8388 - acc: 0.6848"
          ],
          "name": "stdout"
        },
        {
          "output_type": "stream",
          "text": [
            "50/50 [==============================] - 2s 32ms/step - loss: 0.8790 - acc: 0.6769\n",
            "Epoch 634/1000\n",
            "50/50 [==============================] - 2s 32ms/step - loss: 0.8827 - acc: 0.6737\n",
            "Epoch 635/1000\n",
            "50/50 [==============================] - 2s 32ms/step - loss: 0.9124 - acc: 0.6678\n",
            "Epoch 636/1000\n",
            "50/50 [==============================] - 2s 32ms/step - loss: 0.9087 - acc: 0.6766\n",
            "Epoch 637/1000\n",
            "50/50 [==============================] - 2s 32ms/step - loss: 0.9276 - acc: 0.6548\n",
            "Epoch 638/1000\n",
            "50/50 [==============================] - 2s 32ms/step - loss: 0.9077 - acc: 0.6675\n",
            "Epoch 639/1000\n",
            "50/50 [==============================] - 2s 32ms/step - loss: 1.1320 - acc: 0.5872\n",
            "Epoch 640/1000\n",
            "50/50 [==============================] - 2s 32ms/step - loss: 0.9453 - acc: 0.6550\n",
            "Epoch 641/1000\n",
            "29/50 [================>.............] - ETA: 0s - loss: 0.9080 - acc: 0.6600"
          ],
          "name": "stdout"
        },
        {
          "output_type": "stream",
          "text": [
            "50/50 [==============================] - 2s 32ms/step - loss: 0.9027 - acc: 0.6581\n",
            "Epoch 642/1000\n",
            "50/50 [==============================] - 2s 33ms/step - loss: 0.8805 - acc: 0.6784\n",
            "Epoch 643/1000\n",
            "50/50 [==============================] - 2s 32ms/step - loss: 0.8709 - acc: 0.6803\n",
            "Epoch 644/1000\n",
            "50/50 [==============================] - 2s 32ms/step - loss: 1.1251 - acc: 0.5856\n",
            "Epoch 645/1000\n",
            "50/50 [==============================] - 2s 33ms/step - loss: 0.9860 - acc: 0.6356\n",
            "Epoch 646/1000\n",
            "50/50 [==============================] - 2s 33ms/step - loss: 0.9250 - acc: 0.6597\n",
            "Epoch 647/1000\n",
            "50/50 [==============================] - 2s 33ms/step - loss: 0.8911 - acc: 0.6650\n",
            "Epoch 648/1000\n",
            "50/50 [==============================] - 2s 32ms/step - loss: 0.8921 - acc: 0.6691\n",
            "Epoch 649/1000\n",
            "23/50 [============>.................] - ETA: 0s - loss: 0.8593 - acc: 0.6848"
          ],
          "name": "stdout"
        },
        {
          "output_type": "stream",
          "text": [
            "50/50 [==============================] - 2s 33ms/step - loss: 0.8909 - acc: 0.6706\n",
            "Epoch 650/1000\n",
            "50/50 [==============================] - 2s 32ms/step - loss: 0.9185 - acc: 0.6606\n",
            "Epoch 651/1000\n",
            "50/50 [==============================] - 2s 33ms/step - loss: 0.9031 - acc: 0.6800\n",
            "Epoch 652/1000\n",
            "50/50 [==============================] - 2s 32ms/step - loss: 0.8940 - acc: 0.6741\n",
            "Epoch 653/1000\n",
            "50/50 [==============================] - 2s 33ms/step - loss: 0.8693 - acc: 0.6734\n",
            "Epoch 654/1000\n",
            "50/50 [==============================] - 2s 32ms/step - loss: 0.8814 - acc: 0.6769\n",
            "Epoch 655/1000\n",
            "50/50 [==============================] - 2s 32ms/step - loss: 0.9057 - acc: 0.6634\n",
            "Epoch 656/1000\n",
            "50/50 [==============================] - 2s 32ms/step - loss: 0.8794 - acc: 0.6744\n",
            "Epoch 657/1000\n",
            "19/50 [==========>...................] - ETA: 0s - loss: 0.8642 - acc: 0.6776"
          ],
          "name": "stdout"
        },
        {
          "output_type": "stream",
          "text": [
            "50/50 [==============================] - 2s 32ms/step - loss: 0.8732 - acc: 0.6744\n",
            "Epoch 658/1000\n",
            "50/50 [==============================] - 2s 32ms/step - loss: 0.8633 - acc: 0.6877\n",
            "Epoch 659/1000\n",
            "50/50 [==============================] - 2s 32ms/step - loss: 0.8610 - acc: 0.6894\n",
            "Epoch 660/1000\n",
            "50/50 [==============================] - 2s 32ms/step - loss: 0.8773 - acc: 0.6722\n",
            "Epoch 661/1000\n",
            "50/50 [==============================] - 2s 32ms/step - loss: 0.9202 - acc: 0.6713\n",
            "Epoch 662/1000\n",
            "50/50 [==============================] - 2s 32ms/step - loss: 0.8799 - acc: 0.6703\n",
            "Epoch 663/1000\n",
            "50/50 [==============================] - 2s 32ms/step - loss: 0.8678 - acc: 0.6753\n",
            "Epoch 664/1000\n",
            "50/50 [==============================] - 2s 32ms/step - loss: 0.9174 - acc: 0.6637\n",
            "Epoch 665/1000\n",
            "23/50 [============>.................] - ETA: 0s - loss: 0.9120 - acc: 0.6705"
          ],
          "name": "stdout"
        },
        {
          "output_type": "stream",
          "text": [
            "50/50 [==============================] - 2s 34ms/step - loss: 0.9078 - acc: 0.6744\n",
            "Epoch 666/1000\n",
            "50/50 [==============================] - 2s 32ms/step - loss: 0.8754 - acc: 0.6706\n",
            "Epoch 667/1000\n",
            "50/50 [==============================] - 2s 33ms/step - loss: 0.8943 - acc: 0.6750\n",
            "Epoch 668/1000\n",
            "50/50 [==============================] - 2s 32ms/step - loss: 0.8608 - acc: 0.6756\n",
            "Epoch 669/1000\n",
            "50/50 [==============================] - 2s 33ms/step - loss: 0.9133 - acc: 0.6675\n",
            "Epoch 670/1000\n",
            "50/50 [==============================] - 2s 32ms/step - loss: 0.8647 - acc: 0.6825\n",
            "Epoch 671/1000\n",
            "50/50 [==============================] - 2s 33ms/step - loss: 0.8743 - acc: 0.6825\n",
            "Epoch 672/1000\n",
            "50/50 [==============================] - 2s 32ms/step - loss: 0.9087 - acc: 0.6650\n",
            "Epoch 673/1000\n",
            "23/50 [============>.................] - ETA: 0s - loss: 0.8470 - acc: 0.6855"
          ],
          "name": "stdout"
        },
        {
          "output_type": "stream",
          "text": [
            "50/50 [==============================] - 2s 32ms/step - loss: 0.8614 - acc: 0.6859\n",
            "Epoch 674/1000\n",
            "50/50 [==============================] - 2s 32ms/step - loss: 0.8532 - acc: 0.6947\n",
            "Epoch 675/1000\n",
            "50/50 [==============================] - 2s 32ms/step - loss: 0.9126 - acc: 0.6697\n",
            "Epoch 676/1000\n",
            "50/50 [==============================] - 2s 32ms/step - loss: 0.8637 - acc: 0.6786\n",
            "Epoch 677/1000\n",
            "50/50 [==============================] - 2s 32ms/step - loss: 0.8842 - acc: 0.6722\n",
            "Epoch 678/1000\n",
            "50/50 [==============================] - 2s 32ms/step - loss: 0.9032 - acc: 0.6644\n",
            "Epoch 679/1000\n",
            "50/50 [==============================] - 2s 32ms/step - loss: 0.8720 - acc: 0.6838\n",
            "Epoch 680/1000\n",
            "50/50 [==============================] - 2s 32ms/step - loss: 0.8759 - acc: 0.6675\n",
            "Epoch 681/1000\n",
            "27/50 [===============>..............] - ETA: 0s - loss: 0.8916 - acc: 0.6690"
          ],
          "name": "stdout"
        },
        {
          "output_type": "stream",
          "text": [
            "50/50 [==============================] - 2s 32ms/step - loss: 0.9029 - acc: 0.6663\n",
            "Epoch 682/1000\n",
            "50/50 [==============================] - 2s 32ms/step - loss: 0.8807 - acc: 0.6891\n",
            "Epoch 683/1000\n",
            "50/50 [==============================] - 2s 33ms/step - loss: 0.8572 - acc: 0.6887\n",
            "Epoch 684/1000\n",
            "50/50 [==============================] - 2s 32ms/step - loss: 0.8857 - acc: 0.6813\n",
            "Epoch 685/1000\n",
            "50/50 [==============================] - 2s 32ms/step - loss: 0.8975 - acc: 0.6719\n",
            "Epoch 686/1000\n",
            "50/50 [==============================] - 2s 32ms/step - loss: 0.9010 - acc: 0.6634\n",
            "Epoch 687/1000\n",
            "50/50 [==============================] - 2s 32ms/step - loss: 0.8949 - acc: 0.6721\n",
            "Epoch 688/1000\n",
            "50/50 [==============================] - 2s 32ms/step - loss: 0.8821 - acc: 0.6866\n",
            "Epoch 689/1000\n",
            "27/50 [===============>..............] - ETA: 0s - loss: 0.8715 - acc: 0.6725"
          ],
          "name": "stdout"
        },
        {
          "output_type": "stream",
          "text": [
            "50/50 [==============================] - 2s 32ms/step - loss: 0.8595 - acc: 0.6791\n",
            "Epoch 690/1000\n",
            "50/50 [==============================] - 2s 32ms/step - loss: 0.8665 - acc: 0.6875\n",
            "Epoch 691/1000\n",
            "50/50 [==============================] - 2s 32ms/step - loss: 0.8767 - acc: 0.6819\n",
            "Epoch 692/1000\n",
            "50/50 [==============================] - 2s 33ms/step - loss: 0.8515 - acc: 0.6813\n",
            "Epoch 693/1000\n",
            "50/50 [==============================] - 2s 33ms/step - loss: 0.8813 - acc: 0.6744\n",
            "Epoch 694/1000\n",
            "50/50 [==============================] - 2s 32ms/step - loss: 0.9151 - acc: 0.6631\n",
            "Epoch 695/1000\n",
            "50/50 [==============================] - 2s 32ms/step - loss: 0.9787 - acc: 0.6419\n",
            "Epoch 696/1000\n",
            "50/50 [==============================] - 2s 32ms/step - loss: 0.8790 - acc: 0.6809\n",
            "Epoch 697/1000\n",
            " 9/50 [====>.........................] - ETA: 1s - loss: 0.8996 - acc: 0.6580"
          ],
          "name": "stdout"
        },
        {
          "output_type": "stream",
          "text": [
            "50/50 [==============================] - 2s 32ms/step - loss: 0.9002 - acc: 0.6647\n",
            "Epoch 698/1000\n",
            "50/50 [==============================] - 2s 32ms/step - loss: 0.8955 - acc: 0.6706\n",
            "Epoch 699/1000\n",
            "50/50 [==============================] - 2s 32ms/step - loss: 0.9300 - acc: 0.6606\n",
            "Epoch 700/1000\n",
            "50/50 [==============================] - 2s 32ms/step - loss: 0.9020 - acc: 0.6666\n",
            "Epoch 701/1000\n",
            "50/50 [==============================] - 2s 34ms/step - loss: 0.9052 - acc: 0.6806\n",
            "Epoch 702/1000\n",
            "50/50 [==============================] - 2s 32ms/step - loss: 0.9224 - acc: 0.6728\n",
            "Epoch 703/1000\n",
            "50/50 [==============================] - 2s 32ms/step - loss: 0.8370 - acc: 0.6916\n",
            "Epoch 704/1000\n",
            "50/50 [==============================] - 2s 32ms/step - loss: 0.8517 - acc: 0.6922\n",
            "Epoch 705/1000\n",
            "27/50 [===============>..............] - ETA: 0s - loss: 0.8528 - acc: 0.6765"
          ],
          "name": "stdout"
        },
        {
          "output_type": "stream",
          "text": [
            "50/50 [==============================] - 2s 32ms/step - loss: 0.8575 - acc: 0.6775\n",
            "Epoch 706/1000\n",
            "50/50 [==============================] - 2s 32ms/step - loss: 0.9197 - acc: 0.6591\n",
            "Epoch 707/1000\n",
            "50/50 [==============================] - 2s 32ms/step - loss: 1.0121 - acc: 0.6381\n",
            "Epoch 708/1000\n",
            "50/50 [==============================] - 2s 33ms/step - loss: 0.9971 - acc: 0.6297\n",
            "Epoch 709/1000\n",
            "50/50 [==============================] - 2s 32ms/step - loss: 0.9289 - acc: 0.6644\n",
            "Epoch 710/1000\n",
            "50/50 [==============================] - 2s 32ms/step - loss: 0.9075 - acc: 0.6653\n",
            "Epoch 711/1000\n",
            "50/50 [==============================] - 2s 32ms/step - loss: 0.9097 - acc: 0.6603\n",
            "Epoch 712/1000\n",
            "50/50 [==============================] - 2s 32ms/step - loss: 0.9053 - acc: 0.6750\n",
            "Epoch 713/1000\n",
            "21/50 [===========>..................] - ETA: 0s - loss: 0.9290 - acc: 0.6637"
          ],
          "name": "stdout"
        },
        {
          "output_type": "stream",
          "text": [
            "50/50 [==============================] - 2s 33ms/step - loss: 0.9194 - acc: 0.6653\n",
            "Epoch 714/1000\n",
            "50/50 [==============================] - 2s 33ms/step - loss: 0.8851 - acc: 0.6737\n",
            "Epoch 715/1000\n",
            "50/50 [==============================] - 2s 33ms/step - loss: 0.9036 - acc: 0.6678\n",
            "Epoch 716/1000\n",
            "50/50 [==============================] - 2s 33ms/step - loss: 0.8763 - acc: 0.6688\n",
            "Epoch 717/1000\n",
            "50/50 [==============================] - 2s 33ms/step - loss: 0.8929 - acc: 0.6684\n",
            "Epoch 718/1000\n",
            "50/50 [==============================] - 2s 32ms/step - loss: 0.8630 - acc: 0.6813\n",
            "Epoch 719/1000\n",
            "50/50 [==============================] - 2s 33ms/step - loss: 0.8768 - acc: 0.6709\n",
            "Epoch 720/1000\n",
            "50/50 [==============================] - 2s 32ms/step - loss: 0.8338 - acc: 0.6956\n",
            "Epoch 721/1000\n",
            "19/50 [==========>...................] - ETA: 1s - loss: 0.9057 - acc: 0.6776"
          ],
          "name": "stdout"
        },
        {
          "output_type": "stream",
          "text": [
            "50/50 [==============================] - 2s 32ms/step - loss: 0.8511 - acc: 0.6919\n",
            "Epoch 722/1000\n",
            "50/50 [==============================] - 2s 32ms/step - loss: 0.8825 - acc: 0.6719\n",
            "Epoch 723/1000\n",
            "50/50 [==============================] - 2s 33ms/step - loss: 0.8924 - acc: 0.6616\n",
            "Epoch 724/1000\n",
            "50/50 [==============================] - 2s 33ms/step - loss: 0.8689 - acc: 0.6834\n",
            "Epoch 725/1000\n",
            "50/50 [==============================] - 2s 32ms/step - loss: 0.8591 - acc: 0.6884\n",
            "Epoch 726/1000\n",
            "50/50 [==============================] - 2s 32ms/step - loss: 0.8605 - acc: 0.6847\n",
            "Epoch 727/1000\n",
            "50/50 [==============================] - 2s 32ms/step - loss: 0.8769 - acc: 0.6805\n",
            "Epoch 728/1000\n",
            "50/50 [==============================] - 2s 32ms/step - loss: 0.8903 - acc: 0.6625\n",
            "Epoch 729/1000\n",
            "17/50 [=========>....................] - ETA: 1s - loss: 0.8913 - acc: 0.6765"
          ],
          "name": "stdout"
        },
        {
          "output_type": "stream",
          "text": [
            "50/50 [==============================] - 2s 32ms/step - loss: 0.8596 - acc: 0.6853\n",
            "Epoch 730/1000\n",
            "50/50 [==============================] - 2s 32ms/step - loss: 0.8470 - acc: 0.6881\n",
            "Epoch 731/1000\n",
            "50/50 [==============================] - 2s 32ms/step - loss: 0.8886 - acc: 0.6744\n",
            "Epoch 732/1000\n",
            "50/50 [==============================] - 2s 32ms/step - loss: 0.8795 - acc: 0.6863\n",
            "Epoch 733/1000\n",
            "50/50 [==============================] - 2s 32ms/step - loss: 0.8703 - acc: 0.6763\n",
            "Epoch 734/1000\n",
            "50/50 [==============================] - 2s 32ms/step - loss: 0.9390 - acc: 0.6538\n",
            "Epoch 735/1000\n",
            "50/50 [==============================] - 2s 32ms/step - loss: 0.9394 - acc: 0.6587\n",
            "Epoch 736/1000\n",
            "50/50 [==============================] - 2s 32ms/step - loss: 0.9256 - acc: 0.6688\n",
            "Epoch 737/1000\n",
            "27/50 [===============>..............] - ETA: 0s - loss: 0.8983 - acc: 0.6667"
          ],
          "name": "stdout"
        },
        {
          "output_type": "stream",
          "text": [
            "50/50 [==============================] - 2s 33ms/step - loss: 0.8861 - acc: 0.6653\n",
            "Epoch 738/1000\n",
            "50/50 [==============================] - 2s 32ms/step - loss: 0.8735 - acc: 0.6850\n",
            "Epoch 739/1000\n",
            "50/50 [==============================] - 2s 32ms/step - loss: 0.8539 - acc: 0.6772\n",
            "Epoch 740/1000\n",
            "50/50 [==============================] - 2s 32ms/step - loss: 0.8574 - acc: 0.6912\n",
            "Epoch 741/1000\n",
            "50/50 [==============================] - 2s 33ms/step - loss: 0.8982 - acc: 0.6656\n",
            "Epoch 742/1000\n",
            "50/50 [==============================] - 2s 32ms/step - loss: 1.0704 - acc: 0.6016\n",
            "Epoch 743/1000\n",
            "50/50 [==============================] - 2s 32ms/step - loss: 0.9690 - acc: 0.6488\n",
            "Epoch 744/1000\n",
            "50/50 [==============================] - 2s 32ms/step - loss: 1.0122 - acc: 0.6266\n",
            "Epoch 745/1000\n",
            "25/50 [==============>...............] - ETA: 0s - loss: 1.0788 - acc: 0.5975"
          ],
          "name": "stdout"
        },
        {
          "output_type": "stream",
          "text": [
            "50/50 [==============================] - 2s 32ms/step - loss: 1.0395 - acc: 0.6153\n",
            "Epoch 746/1000\n",
            "50/50 [==============================] - 2s 32ms/step - loss: 0.9476 - acc: 0.6500\n",
            "Epoch 747/1000\n",
            "50/50 [==============================] - 2s 32ms/step - loss: 0.9642 - acc: 0.6359\n",
            "Epoch 748/1000\n",
            "50/50 [==============================] - 2s 32ms/step - loss: 0.8853 - acc: 0.6747\n",
            "Epoch 749/1000\n",
            "50/50 [==============================] - 2s 33ms/step - loss: 0.9503 - acc: 0.6553\n",
            "Epoch 750/1000\n",
            "50/50 [==============================] - 2s 33ms/step - loss: 0.9104 - acc: 0.6706\n",
            "Epoch 751/1000\n",
            "50/50 [==============================] - 2s 32ms/step - loss: 0.8836 - acc: 0.6813\n",
            "Epoch 752/1000\n",
            "50/50 [==============================] - 2s 32ms/step - loss: 0.9028 - acc: 0.6694\n",
            "Epoch 753/1000\n",
            "23/50 [============>.................] - ETA: 0s - loss: 0.8786 - acc: 0.6827"
          ],
          "name": "stdout"
        },
        {
          "output_type": "stream",
          "text": [
            "50/50 [==============================] - 2s 32ms/step - loss: 0.8716 - acc: 0.6850\n",
            "Epoch 754/1000\n",
            "50/50 [==============================] - 2s 32ms/step - loss: 0.8655 - acc: 0.6819\n",
            "Epoch 755/1000\n",
            "50/50 [==============================] - 2s 33ms/step - loss: 0.8798 - acc: 0.6719\n",
            "Epoch 756/1000\n",
            "50/50 [==============================] - 2s 33ms/step - loss: 0.8818 - acc: 0.6831\n",
            "Epoch 757/1000\n",
            "50/50 [==============================] - 2s 32ms/step - loss: 0.8738 - acc: 0.6751\n",
            "Epoch 758/1000\n",
            "50/50 [==============================] - 2s 32ms/step - loss: 0.8665 - acc: 0.6859\n",
            "Epoch 759/1000\n",
            "50/50 [==============================] - 2s 32ms/step - loss: 0.8980 - acc: 0.6737\n",
            "Epoch 760/1000\n",
            "50/50 [==============================] - 2s 33ms/step - loss: 0.9028 - acc: 0.6653\n",
            "Epoch 761/1000\n",
            "23/50 [============>.................] - ETA: 0s - loss: 0.9164 - acc: 0.6726"
          ],
          "name": "stdout"
        },
        {
          "output_type": "stream",
          "text": [
            "50/50 [==============================] - 2s 33ms/step - loss: 0.8948 - acc: 0.6716\n",
            "Epoch 762/1000\n",
            "50/50 [==============================] - 2s 32ms/step - loss: 0.8755 - acc: 0.6766\n",
            "Epoch 763/1000\n",
            "50/50 [==============================] - 2s 32ms/step - loss: 1.0230 - acc: 0.6431\n",
            "Epoch 764/1000\n",
            "50/50 [==============================] - 2s 33ms/step - loss: 1.0868 - acc: 0.6300\n",
            "Epoch 765/1000\n",
            "50/50 [==============================] - 2s 33ms/step - loss: 0.9153 - acc: 0.6703\n",
            "Epoch 766/1000\n",
            "50/50 [==============================] - 2s 33ms/step - loss: 0.8965 - acc: 0.6716\n",
            "Epoch 767/1000\n",
            "50/50 [==============================] - 2s 32ms/step - loss: 1.0060 - acc: 0.6247\n",
            "Epoch 768/1000\n",
            "50/50 [==============================] - 2s 32ms/step - loss: 0.8873 - acc: 0.6759\n",
            "Epoch 769/1000\n",
            "19/50 [==========>...................] - ETA: 0s - loss: 0.9196 - acc: 0.6579"
          ],
          "name": "stdout"
        },
        {
          "output_type": "stream",
          "text": [
            "50/50 [==============================] - 2s 32ms/step - loss: 0.8958 - acc: 0.6622\n",
            "Epoch 770/1000\n",
            "50/50 [==============================] - 2s 33ms/step - loss: 1.0321 - acc: 0.6259\n",
            "Epoch 771/1000\n",
            "50/50 [==============================] - 2s 33ms/step - loss: 0.9511 - acc: 0.6481\n",
            "Epoch 772/1000\n",
            "50/50 [==============================] - 2s 33ms/step - loss: 0.8909 - acc: 0.6666\n",
            "Epoch 773/1000\n",
            "50/50 [==============================] - 2s 33ms/step - loss: 0.8977 - acc: 0.6684\n",
            "Epoch 774/1000\n",
            "50/50 [==============================] - 2s 33ms/step - loss: 0.8585 - acc: 0.6816\n",
            "Epoch 775/1000\n",
            "50/50 [==============================] - 2s 32ms/step - loss: 0.8705 - acc: 0.6903\n",
            "Epoch 776/1000\n",
            "50/50 [==============================] - 2s 32ms/step - loss: 0.8734 - acc: 0.6794\n",
            "Epoch 777/1000\n",
            "13/50 [======>.......................] - ETA: 1s - loss: 0.8851 - acc: 0.6659"
          ],
          "name": "stdout"
        },
        {
          "output_type": "stream",
          "text": [
            "50/50 [==============================] - 2s 32ms/step - loss: 0.8951 - acc: 0.6737\n",
            "Epoch 778/1000\n",
            "50/50 [==============================] - 2s 33ms/step - loss: 0.8981 - acc: 0.6763\n",
            "Epoch 779/1000\n",
            "50/50 [==============================] - 2s 32ms/step - loss: 0.8901 - acc: 0.6688\n",
            "Epoch 780/1000\n",
            "50/50 [==============================] - 2s 32ms/step - loss: 0.8799 - acc: 0.6753\n",
            "Epoch 781/1000\n",
            "50/50 [==============================] - 2s 32ms/step - loss: 0.8704 - acc: 0.6856\n",
            "Epoch 782/1000\n",
            "50/50 [==============================] - 2s 32ms/step - loss: 0.9000 - acc: 0.6825\n",
            "Epoch 783/1000\n",
            "50/50 [==============================] - 2s 32ms/step - loss: 0.8817 - acc: 0.6816\n",
            "Epoch 784/1000\n",
            "50/50 [==============================] - 2s 32ms/step - loss: 0.8858 - acc: 0.6716\n",
            "Epoch 785/1000\n",
            "21/50 [===========>..................] - ETA: 0s - loss: 0.8668 - acc: 0.6808"
          ],
          "name": "stdout"
        },
        {
          "output_type": "stream",
          "text": [
            "50/50 [==============================] - 2s 32ms/step - loss: 0.8455 - acc: 0.6809\n",
            "Epoch 786/1000\n",
            "50/50 [==============================] - 2s 32ms/step - loss: 0.9023 - acc: 0.6690\n",
            "Epoch 787/1000\n",
            "50/50 [==============================] - 2s 33ms/step - loss: 0.8494 - acc: 0.6894\n",
            "Epoch 788/1000\n",
            "50/50 [==============================] - 2s 32ms/step - loss: 0.8953 - acc: 0.6800\n",
            "Epoch 789/1000\n",
            "50/50 [==============================] - 2s 32ms/step - loss: 0.8841 - acc: 0.6753\n",
            "Epoch 790/1000\n",
            "50/50 [==============================] - 2s 32ms/step - loss: 0.8839 - acc: 0.6747\n",
            "Epoch 791/1000\n",
            "50/50 [==============================] - 2s 33ms/step - loss: 0.8819 - acc: 0.6853\n",
            "Epoch 792/1000\n",
            "50/50 [==============================] - 2s 32ms/step - loss: 0.8687 - acc: 0.6925\n",
            "Epoch 793/1000\n",
            "25/50 [==============>...............] - ETA: 0s - loss: 0.8517 - acc: 0.6931"
          ],
          "name": "stdout"
        },
        {
          "output_type": "stream",
          "text": [
            "50/50 [==============================] - 2s 32ms/step - loss: 0.8666 - acc: 0.6866\n",
            "Epoch 794/1000\n",
            "50/50 [==============================] - 2s 32ms/step - loss: 0.8570 - acc: 0.6950\n",
            "Epoch 795/1000\n",
            "50/50 [==============================] - 2s 32ms/step - loss: 0.8474 - acc: 0.6834\n",
            "Epoch 796/1000\n",
            "50/50 [==============================] - 2s 32ms/step - loss: 0.8661 - acc: 0.6831\n",
            "Epoch 797/1000\n",
            "50/50 [==============================] - 2s 32ms/step - loss: 0.9766 - acc: 0.6488\n",
            "Epoch 798/1000\n",
            "50/50 [==============================] - 2s 32ms/step - loss: 0.9099 - acc: 0.6650\n",
            "Epoch 799/1000\n",
            "50/50 [==============================] - 2s 32ms/step - loss: 0.9214 - acc: 0.6600\n",
            "Epoch 800/1000\n",
            "50/50 [==============================] - 2s 33ms/step - loss: 0.8592 - acc: 0.6797\n",
            "Epoch 801/1000\n",
            "17/50 [=========>....................] - ETA: 1s - loss: 0.9430 - acc: 0.6737"
          ],
          "name": "stdout"
        },
        {
          "output_type": "stream",
          "text": [
            "50/50 [==============================] - 2s 32ms/step - loss: 0.9284 - acc: 0.6625\n",
            "Epoch 802/1000\n",
            "50/50 [==============================] - 2s 32ms/step - loss: 0.9239 - acc: 0.6709\n",
            "Epoch 803/1000\n",
            "50/50 [==============================] - 2s 32ms/step - loss: 0.8702 - acc: 0.6750\n",
            "Epoch 804/1000\n",
            "50/50 [==============================] - 2s 32ms/step - loss: 0.8702 - acc: 0.6863\n",
            "Epoch 805/1000\n",
            "50/50 [==============================] - 2s 33ms/step - loss: 0.8806 - acc: 0.6828\n",
            "Epoch 806/1000\n",
            "50/50 [==============================] - 2s 33ms/step - loss: 0.8841 - acc: 0.6763\n",
            "Epoch 807/1000\n",
            "50/50 [==============================] - 2s 32ms/step - loss: 0.8644 - acc: 0.6847\n",
            "Epoch 808/1000\n",
            "50/50 [==============================] - 2s 32ms/step - loss: 0.8720 - acc: 0.6869\n",
            "Epoch 809/1000\n",
            "23/50 [============>.................] - ETA: 0s - loss: 0.8463 - acc: 0.6753"
          ],
          "name": "stdout"
        },
        {
          "output_type": "stream",
          "text": [
            "50/50 [==============================] - 2s 34ms/step - loss: 0.8492 - acc: 0.6794\n",
            "Epoch 810/1000\n",
            "50/50 [==============================] - 2s 32ms/step - loss: 0.8460 - acc: 0.6950\n",
            "Epoch 811/1000\n",
            "50/50 [==============================] - 2s 33ms/step - loss: 0.8584 - acc: 0.6818\n",
            "Epoch 812/1000\n",
            "50/50 [==============================] - 2s 33ms/step - loss: 0.9102 - acc: 0.6753\n",
            "Epoch 813/1000\n",
            "50/50 [==============================] - 2s 33ms/step - loss: 0.8711 - acc: 0.6737\n",
            "Epoch 814/1000\n",
            "50/50 [==============================] - 2s 33ms/step - loss: 0.8736 - acc: 0.6844\n",
            "Epoch 815/1000\n",
            "50/50 [==============================] - 2s 33ms/step - loss: 0.8385 - acc: 0.6978\n",
            "Epoch 816/1000\n",
            "50/50 [==============================] - 2s 33ms/step - loss: 0.8721 - acc: 0.6834\n",
            "Epoch 817/1000\n",
            "21/50 [===========>..................] - ETA: 0s - loss: 0.8872 - acc: 0.6853"
          ],
          "name": "stdout"
        },
        {
          "output_type": "stream",
          "text": [
            "50/50 [==============================] - 2s 33ms/step - loss: 0.9528 - acc: 0.6650\n",
            "Epoch 818/1000\n",
            "50/50 [==============================] - 2s 33ms/step - loss: 0.9910 - acc: 0.6453\n",
            "Epoch 819/1000\n",
            "50/50 [==============================] - 2s 33ms/step - loss: 0.9870 - acc: 0.6278\n",
            "Epoch 820/1000\n",
            "50/50 [==============================] - 2s 32ms/step - loss: 0.9032 - acc: 0.6656\n",
            "Epoch 821/1000\n",
            "50/50 [==============================] - 2s 32ms/step - loss: 0.8915 - acc: 0.6781\n",
            "Epoch 822/1000\n",
            "50/50 [==============================] - 2s 33ms/step - loss: 0.8738 - acc: 0.6753\n",
            "Epoch 823/1000\n",
            "50/50 [==============================] - 2s 33ms/step - loss: 0.8952 - acc: 0.6775\n",
            "Epoch 824/1000\n",
            "50/50 [==============================] - 2s 33ms/step - loss: 0.8546 - acc: 0.6866\n",
            "Epoch 825/1000\n",
            "17/50 [=========>....................] - ETA: 1s - loss: 0.9539 - acc: 0.6480"
          ],
          "name": "stdout"
        },
        {
          "output_type": "stream",
          "text": [
            "50/50 [==============================] - 2s 32ms/step - loss: 0.9197 - acc: 0.6622\n",
            "Epoch 826/1000\n",
            "50/50 [==============================] - 2s 33ms/step - loss: 0.8980 - acc: 0.6756\n",
            "Epoch 827/1000\n",
            "50/50 [==============================] - 2s 34ms/step - loss: 0.8942 - acc: 0.6784\n",
            "Epoch 828/1000\n",
            "50/50 [==============================] - 2s 32ms/step - loss: 0.8686 - acc: 0.6866\n",
            "Epoch 829/1000\n",
            "50/50 [==============================] - 2s 33ms/step - loss: 1.1911 - acc: 0.5800\n",
            "Epoch 830/1000\n",
            "50/50 [==============================] - 2s 32ms/step - loss: 1.4967 - acc: 0.4228\n",
            "Epoch 831/1000\n",
            "50/50 [==============================] - 2s 32ms/step - loss: 1.4287 - acc: 0.4609\n",
            "Epoch 832/1000\n",
            "50/50 [==============================] - 2s 32ms/step - loss: 1.3088 - acc: 0.4984\n",
            "Epoch 833/1000\n",
            "21/50 [===========>..................] - ETA: 0s - loss: 1.2270 - acc: 0.5379"
          ],
          "name": "stdout"
        },
        {
          "output_type": "stream",
          "text": [
            "50/50 [==============================] - 2s 33ms/step - loss: 1.2529 - acc: 0.5291\n",
            "Epoch 834/1000\n",
            "50/50 [==============================] - 2s 33ms/step - loss: 1.1747 - acc: 0.5563\n",
            "Epoch 835/1000\n",
            "50/50 [==============================] - 2s 32ms/step - loss: 1.1262 - acc: 0.5741\n",
            "Epoch 836/1000\n",
            "50/50 [==============================] - 2s 33ms/step - loss: 1.0802 - acc: 0.6038\n",
            "Epoch 837/1000\n",
            "50/50 [==============================] - 2s 33ms/step - loss: 1.0580 - acc: 0.6012\n",
            "Epoch 838/1000\n",
            "50/50 [==============================] - 2s 32ms/step - loss: 1.0008 - acc: 0.6272\n",
            "Epoch 839/1000\n",
            "50/50 [==============================] - 2s 32ms/step - loss: 0.9429 - acc: 0.6566\n",
            "Epoch 840/1000\n",
            "50/50 [==============================] - 2s 32ms/step - loss: 0.9726 - acc: 0.6483\n",
            "Epoch 841/1000\n",
            "19/50 [==========>...................] - ETA: 1s - loss: 0.9397 - acc: 0.6472"
          ],
          "name": "stdout"
        },
        {
          "output_type": "stream",
          "text": [
            "50/50 [==============================] - 2s 32ms/step - loss: 0.9539 - acc: 0.6522\n",
            "Epoch 842/1000\n",
            "50/50 [==============================] - 2s 32ms/step - loss: 0.9199 - acc: 0.6619\n",
            "Epoch 843/1000\n",
            "50/50 [==============================] - 2s 33ms/step - loss: 0.9622 - acc: 0.6566\n",
            "Epoch 844/1000\n",
            "50/50 [==============================] - 2s 32ms/step - loss: 0.9037 - acc: 0.6772\n",
            "Epoch 845/1000\n",
            "50/50 [==============================] - 2s 34ms/step - loss: 0.9035 - acc: 0.6628\n",
            "Epoch 846/1000\n",
            "50/50 [==============================] - 2s 32ms/step - loss: 0.8893 - acc: 0.6737\n",
            "Epoch 847/1000\n",
            "50/50 [==============================] - 2s 32ms/step - loss: 0.9203 - acc: 0.6669\n",
            "Epoch 848/1000\n",
            "50/50 [==============================] - 2s 33ms/step - loss: 0.9056 - acc: 0.6625\n",
            "Epoch 849/1000\n",
            "19/50 [==========>...................] - ETA: 1s - loss: 0.9053 - acc: 0.6702"
          ],
          "name": "stdout"
        },
        {
          "output_type": "stream",
          "text": [
            "50/50 [==============================] - 2s 33ms/step - loss: 0.9043 - acc: 0.6650\n",
            "Epoch 850/1000\n",
            "50/50 [==============================] - 2s 32ms/step - loss: 0.8818 - acc: 0.6756\n",
            "Epoch 851/1000\n",
            "50/50 [==============================] - 2s 32ms/step - loss: 0.9185 - acc: 0.6622\n",
            "Epoch 852/1000\n",
            "50/50 [==============================] - 2s 32ms/step - loss: 0.8957 - acc: 0.6694\n",
            "Epoch 853/1000\n",
            "50/50 [==============================] - 2s 32ms/step - loss: 0.8999 - acc: 0.6688\n",
            "Epoch 854/1000\n",
            "50/50 [==============================] - 2s 33ms/step - loss: 0.8808 - acc: 0.6731\n",
            "Epoch 855/1000\n",
            "50/50 [==============================] - 2s 32ms/step - loss: 0.9111 - acc: 0.6656\n",
            "Epoch 856/1000\n",
            "50/50 [==============================] - 2s 32ms/step - loss: 0.9035 - acc: 0.6775\n",
            "Epoch 857/1000\n",
            "19/50 [==========>...................] - ETA: 0s - loss: 0.8995 - acc: 0.6933"
          ],
          "name": "stdout"
        },
        {
          "output_type": "stream",
          "text": [
            "50/50 [==============================] - 2s 32ms/step - loss: 0.9000 - acc: 0.6915\n",
            "Epoch 858/1000\n",
            "50/50 [==============================] - 2s 32ms/step - loss: 0.9201 - acc: 0.6656\n",
            "Epoch 859/1000\n",
            "50/50 [==============================] - 2s 32ms/step - loss: 0.9065 - acc: 0.6637\n",
            "Epoch 860/1000\n",
            "50/50 [==============================] - 2s 32ms/step - loss: 0.8705 - acc: 0.6816\n",
            "Epoch 861/1000\n",
            "50/50 [==============================] - 2s 32ms/step - loss: 0.8976 - acc: 0.6722\n",
            "Epoch 862/1000\n",
            "50/50 [==============================] - 2s 32ms/step - loss: 0.9161 - acc: 0.6637\n",
            "Epoch 863/1000\n",
            "50/50 [==============================] - 2s 34ms/step - loss: 0.8924 - acc: 0.6750\n",
            "Epoch 864/1000\n",
            "50/50 [==============================] - 2s 33ms/step - loss: 0.8960 - acc: 0.6722\n",
            "Epoch 865/1000\n",
            "21/50 [===========>..................] - ETA: 0s - loss: 0.9054 - acc: 0.6786"
          ],
          "name": "stdout"
        },
        {
          "output_type": "stream",
          "text": [
            "50/50 [==============================] - 2s 32ms/step - loss: 0.9016 - acc: 0.6706\n",
            "Epoch 866/1000\n",
            "50/50 [==============================] - 2s 33ms/step - loss: 0.8697 - acc: 0.6759\n",
            "Epoch 867/1000\n",
            "50/50 [==============================] - 2s 32ms/step - loss: 0.8790 - acc: 0.6694\n",
            "Epoch 868/1000\n",
            "50/50 [==============================] - 2s 32ms/step - loss: 0.8638 - acc: 0.6847\n",
            "Epoch 869/1000\n",
            "50/50 [==============================] - 2s 32ms/step - loss: 0.9243 - acc: 0.6666\n",
            "Epoch 870/1000\n",
            "50/50 [==============================] - 2s 32ms/step - loss: 0.9005 - acc: 0.6747\n",
            "Epoch 871/1000\n",
            "50/50 [==============================] - 2s 32ms/step - loss: 0.9001 - acc: 0.6700\n",
            "Epoch 872/1000\n",
            "50/50 [==============================] - 2s 32ms/step - loss: 0.8968 - acc: 0.6657\n",
            "Epoch 873/1000\n",
            "23/50 [============>.................] - ETA: 0s - loss: 0.8670 - acc: 0.6895"
          ],
          "name": "stdout"
        },
        {
          "output_type": "stream",
          "text": [
            "50/50 [==============================] - 2s 32ms/step - loss: 0.8415 - acc: 0.6959\n",
            "Epoch 874/1000\n",
            "50/50 [==============================] - 2s 32ms/step - loss: 0.8908 - acc: 0.6784\n",
            "Epoch 875/1000\n",
            "50/50 [==============================] - 2s 32ms/step - loss: 0.9176 - acc: 0.6644\n",
            "Epoch 876/1000\n",
            "50/50 [==============================] - 2s 33ms/step - loss: 0.9510 - acc: 0.6506\n",
            "Epoch 877/1000\n",
            "50/50 [==============================] - 2s 32ms/step - loss: 0.8585 - acc: 0.6803\n",
            "Epoch 878/1000\n",
            "50/50 [==============================] - 2s 32ms/step - loss: 0.9235 - acc: 0.6775\n",
            "Epoch 879/1000\n",
            "50/50 [==============================] - 2s 32ms/step - loss: 0.8826 - acc: 0.6794\n",
            "Epoch 880/1000\n",
            "50/50 [==============================] - 2s 32ms/step - loss: 0.8696 - acc: 0.6775\n",
            "Epoch 881/1000\n",
            "25/50 [==============>...............] - ETA: 0s - loss: 0.8968 - acc: 0.6681"
          ],
          "name": "stdout"
        },
        {
          "output_type": "stream",
          "text": [
            "50/50 [==============================] - 2s 33ms/step - loss: 0.8855 - acc: 0.6744\n",
            "Epoch 882/1000\n",
            "50/50 [==============================] - 2s 32ms/step - loss: 0.8414 - acc: 0.6900\n",
            "Epoch 883/1000\n",
            "50/50 [==============================] - 2s 32ms/step - loss: 0.8771 - acc: 0.6775\n",
            "Epoch 884/1000\n",
            "50/50 [==============================] - 2s 33ms/step - loss: 1.0783 - acc: 0.6000\n",
            "Epoch 885/1000\n",
            "50/50 [==============================] - 2s 32ms/step - loss: 0.9328 - acc: 0.6656\n",
            "Epoch 886/1000\n",
            "50/50 [==============================] - 2s 32ms/step - loss: 0.8960 - acc: 0.6691\n",
            "Epoch 887/1000\n",
            "50/50 [==============================] - 2s 32ms/step - loss: 0.8941 - acc: 0.6763\n",
            "Epoch 888/1000\n",
            "50/50 [==============================] - 2s 32ms/step - loss: 0.8877 - acc: 0.6725\n",
            "Epoch 889/1000\n",
            "25/50 [==============>...............] - ETA: 0s - loss: 0.9454 - acc: 0.6594"
          ],
          "name": "stdout"
        },
        {
          "output_type": "stream",
          "text": [
            "50/50 [==============================] - 2s 32ms/step - loss: 0.8956 - acc: 0.6725\n",
            "Epoch 890/1000\n",
            "50/50 [==============================] - 2s 32ms/step - loss: 0.9203 - acc: 0.6647\n",
            "Epoch 891/1000\n",
            "50/50 [==============================] - 2s 32ms/step - loss: 0.8988 - acc: 0.6688\n",
            "Epoch 892/1000\n",
            "50/50 [==============================] - 2s 32ms/step - loss: 0.8720 - acc: 0.6868\n",
            "Epoch 893/1000\n",
            "50/50 [==============================] - 2s 32ms/step - loss: 0.8688 - acc: 0.6859\n",
            "Epoch 894/1000\n",
            "50/50 [==============================] - 2s 32ms/step - loss: 0.8556 - acc: 0.6853\n",
            "Epoch 895/1000\n",
            "50/50 [==============================] - 2s 32ms/step - loss: 0.8588 - acc: 0.6856\n",
            "Epoch 896/1000\n",
            "50/50 [==============================] - 2s 33ms/step - loss: 0.9013 - acc: 0.6741\n",
            "Epoch 897/1000\n",
            "21/50 [===========>..................] - ETA: 0s - loss: 0.8552 - acc: 0.6875"
          ],
          "name": "stdout"
        },
        {
          "output_type": "stream",
          "text": [
            "50/50 [==============================] - 2s 32ms/step - loss: 0.8741 - acc: 0.6853\n",
            "Epoch 898/1000\n",
            "50/50 [==============================] - 2s 32ms/step - loss: 0.8707 - acc: 0.6763\n",
            "Epoch 899/1000\n",
            "50/50 [==============================] - 2s 33ms/step - loss: 0.8619 - acc: 0.6819\n",
            "Epoch 900/1000\n",
            "50/50 [==============================] - 2s 32ms/step - loss: 0.8463 - acc: 0.6959\n",
            "Epoch 901/1000\n",
            "50/50 [==============================] - 2s 33ms/step - loss: 0.8635 - acc: 0.6897\n",
            "Epoch 902/1000\n",
            "50/50 [==============================] - 2s 32ms/step - loss: 0.8687 - acc: 0.6756\n",
            "Epoch 903/1000\n",
            "50/50 [==============================] - 2s 32ms/step - loss: 0.8607 - acc: 0.6731\n",
            "Epoch 904/1000\n",
            "50/50 [==============================] - 2s 32ms/step - loss: 0.8892 - acc: 0.6744\n",
            "Epoch 905/1000\n",
            "25/50 [==============>...............] - ETA: 0s - loss: 0.8747 - acc: 0.6844"
          ],
          "name": "stdout"
        },
        {
          "output_type": "stream",
          "text": [
            "50/50 [==============================] - 2s 32ms/step - loss: 0.8791 - acc: 0.6813\n",
            "Epoch 906/1000\n",
            "50/50 [==============================] - 2s 32ms/step - loss: 0.8552 - acc: 0.6884\n",
            "Epoch 907/1000\n",
            "50/50 [==============================] - 2s 32ms/step - loss: 0.8844 - acc: 0.6798\n",
            "Epoch 908/1000\n",
            "50/50 [==============================] - 2s 32ms/step - loss: 0.8849 - acc: 0.6772\n",
            "Epoch 909/1000\n",
            "50/50 [==============================] - 2s 32ms/step - loss: 0.8924 - acc: 0.6734\n",
            "Epoch 910/1000\n",
            "50/50 [==============================] - 2s 32ms/step - loss: 0.8659 - acc: 0.6922\n",
            "Epoch 911/1000\n",
            "50/50 [==============================] - 2s 33ms/step - loss: 1.0406 - acc: 0.6216\n",
            "Epoch 912/1000\n",
            "50/50 [==============================] - 2s 33ms/step - loss: 1.5913 - acc: 0.3750\n",
            "Epoch 913/1000\n",
            "25/50 [==============>...............] - ETA: 0s - loss: 1.4405 - acc: 0.4406"
          ],
          "name": "stdout"
        },
        {
          "output_type": "stream",
          "text": [
            "50/50 [==============================] - 2s 32ms/step - loss: 1.4061 - acc: 0.4562\n",
            "Epoch 914/1000\n",
            "50/50 [==============================] - 2s 32ms/step - loss: 1.3244 - acc: 0.5003\n",
            "Epoch 915/1000\n",
            "50/50 [==============================] - 2s 32ms/step - loss: 1.2364 - acc: 0.5369\n",
            "Epoch 916/1000\n",
            "50/50 [==============================] - 2s 33ms/step - loss: 1.1733 - acc: 0.5641\n",
            "Epoch 917/1000\n",
            "50/50 [==============================] - 2s 32ms/step - loss: 1.1091 - acc: 0.5956\n",
            "Epoch 918/1000\n",
            "50/50 [==============================] - 2s 32ms/step - loss: 1.0836 - acc: 0.6000\n",
            "Epoch 919/1000\n",
            "50/50 [==============================] - 2s 32ms/step - loss: 1.0534 - acc: 0.6172\n",
            "Epoch 920/1000\n",
            "50/50 [==============================] - 2s 32ms/step - loss: 1.0271 - acc: 0.6287\n",
            "Epoch 921/1000\n",
            "21/50 [===========>..................] - ETA: 0s - loss: 0.9898 - acc: 0.6391"
          ],
          "name": "stdout"
        },
        {
          "output_type": "stream",
          "text": [
            "50/50 [==============================] - 2s 32ms/step - loss: 0.9882 - acc: 0.6419\n",
            "Epoch 922/1000\n",
            "50/50 [==============================] - 2s 32ms/step - loss: 0.9531 - acc: 0.6494\n",
            "Epoch 923/1000\n",
            "50/50 [==============================] - 2s 32ms/step - loss: 1.0025 - acc: 0.6231\n",
            "Epoch 924/1000\n",
            "50/50 [==============================] - 2s 33ms/step - loss: 1.0590 - acc: 0.6181\n",
            "Epoch 925/1000\n",
            "50/50 [==============================] - 2s 32ms/step - loss: 1.0065 - acc: 0.6322\n",
            "Epoch 926/1000\n",
            "50/50 [==============================] - 2s 32ms/step - loss: 0.9613 - acc: 0.6462\n",
            "Epoch 927/1000\n",
            "50/50 [==============================] - 2s 33ms/step - loss: 0.9226 - acc: 0.6750\n",
            "Epoch 928/1000\n",
            "50/50 [==============================] - 2s 32ms/step - loss: 0.8933 - acc: 0.6794\n",
            "Epoch 929/1000\n",
            "25/50 [==============>...............] - ETA: 0s - loss: 0.8958 - acc: 0.6806"
          ],
          "name": "stdout"
        },
        {
          "output_type": "stream",
          "text": [
            "50/50 [==============================] - 2s 32ms/step - loss: 0.9091 - acc: 0.6741\n",
            "Epoch 930/1000\n",
            "50/50 [==============================] - 2s 32ms/step - loss: 0.9122 - acc: 0.6637\n",
            "Epoch 931/1000\n",
            "50/50 [==============================] - 2s 32ms/step - loss: 0.9436 - acc: 0.6611\n",
            "Epoch 932/1000\n",
            "50/50 [==============================] - 2s 32ms/step - loss: 0.9208 - acc: 0.6703\n",
            "Epoch 933/1000\n",
            "50/50 [==============================] - 2s 32ms/step - loss: 0.9138 - acc: 0.6747\n",
            "Epoch 934/1000\n",
            "50/50 [==============================] - 2s 34ms/step - loss: 0.9168 - acc: 0.6681\n",
            "Epoch 935/1000\n",
            "50/50 [==============================] - 2s 32ms/step - loss: 0.9141 - acc: 0.6681\n",
            "Epoch 936/1000\n",
            "50/50 [==============================] - 2s 32ms/step - loss: 0.9071 - acc: 0.6713\n",
            "Epoch 937/1000\n",
            "21/50 [===========>..................] - ETA: 0s - loss: 0.9235 - acc: 0.6615"
          ],
          "name": "stdout"
        },
        {
          "output_type": "stream",
          "text": [
            "50/50 [==============================] - 2s 32ms/step - loss: 0.9063 - acc: 0.6663\n",
            "Epoch 938/1000\n",
            "50/50 [==============================] - 2s 33ms/step - loss: 0.8914 - acc: 0.6769\n",
            "Epoch 939/1000\n",
            "50/50 [==============================] - 2s 33ms/step - loss: 0.8745 - acc: 0.6875\n",
            "Epoch 940/1000\n",
            "50/50 [==============================] - 2s 32ms/step - loss: 0.8875 - acc: 0.6816\n",
            "Epoch 941/1000\n",
            "50/50 [==============================] - 2s 33ms/step - loss: 0.8748 - acc: 0.6753\n",
            "Epoch 942/1000\n",
            "50/50 [==============================] - 2s 32ms/step - loss: 0.9696 - acc: 0.6512\n",
            "Epoch 943/1000\n",
            "50/50 [==============================] - 2s 32ms/step - loss: 0.9487 - acc: 0.6491\n",
            "Epoch 944/1000\n",
            "50/50 [==============================] - 2s 33ms/step - loss: 0.8749 - acc: 0.6831\n",
            "Epoch 945/1000\n",
            "17/50 [=========>....................] - ETA: 1s - loss: 0.8834 - acc: 0.6884"
          ],
          "name": "stdout"
        },
        {
          "output_type": "stream",
          "text": [
            "50/50 [==============================] - 2s 32ms/step - loss: 0.8634 - acc: 0.6863\n",
            "Epoch 946/1000\n",
            "50/50 [==============================] - 2s 33ms/step - loss: 0.8800 - acc: 0.6775\n",
            "Epoch 947/1000\n",
            "50/50 [==============================] - 2s 33ms/step - loss: 0.8977 - acc: 0.6684\n",
            "Epoch 948/1000\n",
            "50/50 [==============================] - 2s 33ms/step - loss: 0.9060 - acc: 0.6763\n",
            "Epoch 949/1000\n",
            "50/50 [==============================] - 2s 32ms/step - loss: 0.8520 - acc: 0.6781\n",
            "Epoch 950/1000\n",
            "50/50 [==============================] - 2s 33ms/step - loss: 0.8655 - acc: 0.6763\n",
            "Epoch 951/1000\n",
            "50/50 [==============================] - 2s 33ms/step - loss: 0.8644 - acc: 0.6884\n",
            "Epoch 952/1000\n",
            "50/50 [==============================] - 2s 33ms/step - loss: 0.8744 - acc: 0.6814\n",
            "Epoch 953/1000\n",
            "17/50 [=========>....................] - ETA: 1s - loss: 0.8900 - acc: 0.6939"
          ],
          "name": "stdout"
        },
        {
          "output_type": "stream",
          "text": [
            "50/50 [==============================] - 2s 33ms/step - loss: 0.9012 - acc: 0.6794\n",
            "Epoch 954/1000\n",
            "50/50 [==============================] - 2s 33ms/step - loss: 0.8612 - acc: 0.6869\n",
            "Epoch 955/1000\n",
            "50/50 [==============================] - 2s 33ms/step - loss: 0.8552 - acc: 0.6856\n",
            "Epoch 956/1000\n",
            "50/50 [==============================] - 2s 33ms/step - loss: 0.8791 - acc: 0.6828\n",
            "Epoch 957/1000\n",
            "50/50 [==============================] - 2s 32ms/step - loss: 0.8632 - acc: 0.6928\n",
            "Epoch 958/1000\n",
            "50/50 [==============================] - 2s 33ms/step - loss: 0.9931 - acc: 0.6188\n",
            "Epoch 959/1000\n",
            "50/50 [==============================] - 2s 33ms/step - loss: 0.8764 - acc: 0.6756\n",
            "Epoch 960/1000\n",
            "50/50 [==============================] - 2s 32ms/step - loss: 0.8874 - acc: 0.6754\n",
            "Epoch 961/1000\n",
            "13/50 [======>.......................] - ETA: 1s - loss: 0.8996 - acc: 0.6659"
          ],
          "name": "stdout"
        },
        {
          "output_type": "stream",
          "text": [
            "50/50 [==============================] - 2s 32ms/step - loss: 0.8557 - acc: 0.6863\n",
            "Epoch 962/1000\n",
            "50/50 [==============================] - 2s 33ms/step - loss: 0.9005 - acc: 0.6725\n",
            "Epoch 963/1000\n",
            "50/50 [==============================] - 2s 32ms/step - loss: 0.8329 - acc: 0.7000\n",
            "Epoch 964/1000\n",
            "50/50 [==============================] - 2s 32ms/step - loss: 0.8481 - acc: 0.6894\n",
            "Epoch 965/1000\n",
            "50/50 [==============================] - 2s 32ms/step - loss: 0.8701 - acc: 0.6731\n",
            "Epoch 966/1000\n",
            "50/50 [==============================] - 2s 33ms/step - loss: 0.8762 - acc: 0.6784\n",
            "Epoch 967/1000\n",
            "50/50 [==============================] - 2s 33ms/step - loss: 0.8906 - acc: 0.6797\n",
            "Epoch 968/1000\n",
            "50/50 [==============================] - 2s 33ms/step - loss: 0.8743 - acc: 0.6841\n",
            "Epoch 969/1000\n",
            "21/50 [===========>..................] - ETA: 0s - loss: 0.8332 - acc: 0.6875"
          ],
          "name": "stdout"
        },
        {
          "output_type": "stream",
          "text": [
            "50/50 [==============================] - 2s 32ms/step - loss: 0.9091 - acc: 0.6694\n",
            "Epoch 970/1000\n",
            "50/50 [==============================] - 2s 34ms/step - loss: 1.0068 - acc: 0.6378\n",
            "Epoch 971/1000\n",
            "50/50 [==============================] - 2s 32ms/step - loss: 0.8887 - acc: 0.6722\n",
            "Epoch 972/1000\n",
            "50/50 [==============================] - 2s 32ms/step - loss: 0.8500 - acc: 0.6906\n",
            "Epoch 973/1000\n",
            "50/50 [==============================] - 2s 33ms/step - loss: 0.8634 - acc: 0.6819\n",
            "Epoch 974/1000\n",
            "50/50 [==============================] - 2s 32ms/step - loss: 0.8774 - acc: 0.6828\n",
            "Epoch 975/1000\n",
            "50/50 [==============================] - 2s 33ms/step - loss: 0.8696 - acc: 0.6844\n",
            "Epoch 976/1000\n",
            "50/50 [==============================] - 2s 33ms/step - loss: 0.8921 - acc: 0.6813\n",
            "Epoch 977/1000\n",
            "15/50 [========>.....................] - ETA: 1s - loss: 0.8649 - acc: 0.6813"
          ],
          "name": "stdout"
        },
        {
          "output_type": "stream",
          "text": [
            "50/50 [==============================] - 2s 33ms/step - loss: 0.8614 - acc: 0.6769\n",
            "Epoch 978/1000\n",
            "50/50 [==============================] - 2s 32ms/step - loss: 0.8660 - acc: 0.6906\n",
            "Epoch 979/1000\n",
            "50/50 [==============================] - 2s 33ms/step - loss: 0.8275 - acc: 0.6966\n",
            "Epoch 980/1000\n",
            "50/50 [==============================] - 2s 32ms/step - loss: 0.8583 - acc: 0.6787\n",
            "Epoch 981/1000\n",
            "50/50 [==============================] - 2s 33ms/step - loss: 0.8414 - acc: 0.6987\n",
            "Epoch 982/1000\n",
            "50/50 [==============================] - 2s 32ms/step - loss: 0.9070 - acc: 0.6750\n",
            "Epoch 983/1000\n",
            "50/50 [==============================] - 2s 33ms/step - loss: 1.3133 - acc: 0.4975\n",
            "Epoch 984/1000\n",
            "50/50 [==============================] - 2s 32ms/step - loss: 1.1164 - acc: 0.5750\n",
            "Epoch 985/1000\n"
          ],
          "name": "stdout"
        },
        {
          "output_type": "stream",
          "text": [
            "50/50 [==============================] - 2s 33ms/step - loss: 1.0234 - acc: 0.6175\n",
            "Epoch 986/1000\n",
            "50/50 [==============================] - 2s 32ms/step - loss: 1.0410 - acc: 0.6022\n",
            "Epoch 987/1000\n",
            "50/50 [==============================] - 2s 32ms/step - loss: 1.0040 - acc: 0.6175\n",
            "Epoch 988/1000\n",
            "50/50 [==============================] - 2s 34ms/step - loss: 0.9977 - acc: 0.6356\n",
            "Epoch 989/1000\n",
            "50/50 [==============================] - 2s 32ms/step - loss: 0.9516 - acc: 0.6462\n",
            "Epoch 990/1000\n",
            "50/50 [==============================] - 2s 32ms/step - loss: 0.9235 - acc: 0.6587\n",
            "Epoch 991/1000\n",
            "50/50 [==============================] - 2s 32ms/step - loss: 0.9362 - acc: 0.6569\n",
            "Epoch 992/1000\n",
            "50/50 [==============================] - 2s 33ms/step - loss: 0.9647 - acc: 0.6491\n",
            "Epoch 993/1000\n",
            "25/50 [==============>...............] - ETA: 0s - loss: 0.9078 - acc: 0.6619"
          ],
          "name": "stdout"
        },
        {
          "output_type": "stream",
          "text": [
            "50/50 [==============================] - 2s 32ms/step - loss: 0.9008 - acc: 0.6719\n",
            "Epoch 994/1000\n",
            "50/50 [==============================] - 2s 33ms/step - loss: 0.9459 - acc: 0.6562\n",
            "Epoch 995/1000\n",
            "50/50 [==============================] - 2s 32ms/step - loss: 0.9630 - acc: 0.6572\n",
            "Epoch 996/1000\n",
            "50/50 [==============================] - 2s 32ms/step - loss: 0.8963 - acc: 0.6784\n",
            "Epoch 997/1000\n",
            "50/50 [==============================] - 2s 32ms/step - loss: 0.9293 - acc: 0.6603\n",
            "Epoch 998/1000\n",
            "50/50 [==============================] - 2s 32ms/step - loss: 0.9048 - acc: 0.6631\n",
            "Epoch 999/1000\n",
            "50/50 [==============================] - 2s 32ms/step - loss: 0.8976 - acc: 0.6819\n",
            "Epoch 1000/1000\n",
            "50/50 [==============================] - 2s 33ms/step - loss: 0.9320 - acc: 0.6606\n"
          ],
          "name": "stdout"
        },
        {
          "output_type": "execute_result",
          "data": {
            "text/plain": [
              "<keras.callbacks.History at 0x7f276adc1128>"
            ]
          },
          "metadata": {
            "tags": []
          },
          "execution_count": 67
        }
      ]
    },
    {
      "metadata": {
        "id": "qSth_XTcMwv7",
        "colab_type": "code",
        "colab": {}
      },
      "cell_type": "code",
      "source": [
        "model3.save_weights(\"drive/face_expr_model3.h5\")"
      ],
      "execution_count": 0,
      "outputs": []
    },
    {
      "metadata": {
        "id": "jQzCcQQWOBxO",
        "colab_type": "code",
        "colab": {
          "base_uri": "https://localhost:8080/",
          "height": 52
        },
        "outputId": "468d31d0-e9bd-4e8a-97f3-14a578330791"
      },
      "cell_type": "code",
      "source": [
        "model3.evaluate(X_test, Y_test, batch_size=64)"
      ],
      "execution_count": 71,
      "outputs": [
        {
          "output_type": "stream",
          "text": [
            "3589/3589 [==============================] - 1s 153us/step\n"
          ],
          "name": "stdout"
        },
        {
          "output_type": "execute_result",
          "data": {
            "text/plain": [
              "[1.1278167347550625, 0.5971022569126789]"
            ]
          },
          "metadata": {
            "tags": []
          },
          "execution_count": 71
        }
      ]
    },
    {
      "metadata": {
        "id": "qNHEl5EC4YhG",
        "colab_type": "text"
      },
      "cell_type": "markdown",
      "source": [
        "### Model 4 "
      ]
    },
    {
      "metadata": {
        "id": "Lln36skXL0w9",
        "colab_type": "code",
        "colab": {}
      },
      "cell_type": "code",
      "source": [
        "import tensorflow as tf\n",
        "import keras.backend as K"
      ],
      "execution_count": 0,
      "outputs": []
    },
    {
      "metadata": {
        "id": "hYkrLGOp4cxl",
        "colab_type": "code",
        "colab": {}
      },
      "cell_type": "code",
      "source": [
        "def Model4():\n",
        "  model = Sequential()\n",
        "\n",
        "  model.add(MaxPooling2D(pool_size=(7,7), input_shape=(48,48,1)))\n",
        "  model.add(Conv2D(32, (5, 5), activation='relu'))\n",
        "  model.add(MaxPooling2D(pool_size=(3,3)))\n",
        "  model.add(Dropout(0.5))\n",
        "  model.add(Conv2D(128, (3, 3), activation='relu'))\n",
        "  model.add(MaxPooling2D(pool_size=(3,3)))\n",
        "  model.add(Dropout(0.5))\n",
        "  model.add(Flatten())\n",
        "\n",
        "  model.add(Dense(1024, activation='relu'))\n",
        "  model.add(Dropout(0.5))\n",
        "  model.add(Dense(1024, activation='relu'))\n",
        "  model.add(Dropout(0.5))\n",
        "\n",
        "  model.add(Dense(7, activation='softmax'))\n",
        "  return model"
      ],
      "execution_count": 0,
      "outputs": []
    },
    {
      "metadata": {
        "id": "VVQqRsWCNjPn",
        "colab_type": "code",
        "colab": {}
      },
      "cell_type": "code",
      "source": [
        "model4 = Model4()"
      ],
      "execution_count": 0,
      "outputs": []
    },
    {
      "metadata": {
        "id": "uJdqFwcB5jnG",
        "colab_type": "code",
        "colab": {}
      },
      "cell_type": "code",
      "source": [
        "lr_reducer3 = ReduceLROnPlateau(monitor='val_loss', factor=0.9, patience=3, verbose=1)\n",
        "tensorboard3 = TensorBoard(log_dir='./logs')\n",
        "early_stopper3 = EarlyStopping(monitor='val_loss', min_delta=0, patience=8, verbose=1, mode='auto')\n",
        "checkpointer3 = ModelCheckpoint(\"/drive\", monitor='val_loss', verbose=1, save_best_only=True)"
      ],
      "execution_count": 0,
      "outputs": []
    },
    {
      "metadata": {
        "id": "v9M2ajRN529S",
        "colab_type": "code",
        "colab": {}
      },
      "cell_type": "code",
      "source": [
        "model4.compile(loss=categorical_crossentropy,\n",
        "              optimizer=Adam(lr=0.005, beta_1=0.9, beta_2=0.999, epsilon=1e-7),\n",
        "              metrics=['accuracy'])"
      ],
      "execution_count": 0,
      "outputs": []
    },
    {
      "metadata": {
        "id": "x_WBAB825_z2",
        "colab_type": "code",
        "colab": {}
      },
      "cell_type": "code",
      "source": [
        "# overfitting\n",
        "model4.fit(X_train,Y_train,\n",
        "          batch_size=128,\n",
        "          epochs=100,\n",
        "          verbose=1,\n",
        "          validation_data=(X_validation, Y_valid),\n",
        "          shuffle=True,\n",
        "          callbacks=[lr_reducer3, tensorboard3, checkpointer3])"
      ],
      "execution_count": 0,
      "outputs": []
    },
    {
      "metadata": {
        "id": "_6KlM2yn6J3Z",
        "colab_type": "code",
        "colab": {}
      },
      "cell_type": "code",
      "source": [
        ""
      ],
      "execution_count": 0,
      "outputs": []
    },
    {
      "metadata": {
        "id": "pL8axmhgL1Ew",
        "colab_type": "text"
      },
      "cell_type": "markdown",
      "source": [
        "### Model5 - VGG"
      ]
    },
    {
      "metadata": {
        "id": "6mhvywIhL3Gz",
        "colab_type": "code",
        "colab": {}
      },
      "cell_type": "code",
      "source": [
        "from keras.applications import VGG16\n",
        "from keras.models import Model"
      ],
      "execution_count": 0,
      "outputs": []
    },
    {
      "metadata": {
        "id": "we5H3kQSBUWf",
        "colab_type": "code",
        "colab": {}
      },
      "cell_type": "code",
      "source": [
        "disp = True"
      ],
      "execution_count": 0,
      "outputs": []
    },
    {
      "metadata": {
        "id": "Jv1peT99UlEo",
        "colab_type": "code",
        "colab": {}
      },
      "cell_type": "code",
      "source": [
        "def VGG_preprocessing(img):\n",
        "  global disp\n",
        "  img_1 = img*255\n",
        "  img_1 = img_1.reshape(48,48)\n",
        "  img_2 = cv2.cvtColor(img_1, cv2.COLOR_GRAY2BGR)\n",
        "  if disp==True:\n",
        "    plt.imshow(img_2)\n",
        "    disp=False\n",
        "  img_3 = img_2/255\n",
        "  return img_3"
      ],
      "execution_count": 0,
      "outputs": []
    },
    {
      "metadata": {
        "id": "L-UxHJNZwoVf",
        "colab_type": "code",
        "colab": {
          "base_uri": "https://localhost:8080/",
          "height": 35
        },
        "outputId": "f801e1b6-4970-4593-ba69-35f770e82d42"
      },
      "cell_type": "code",
      "source": [
        "X_train_1 = X_train.reshape(X_train.shape[0], -1)\n",
        "X_test_1 = X_test.reshape(X_test.shape[0], -1)\n",
        "X_valid_1 = X_validation.reshape(X_validation.shape[0], -1)\n",
        "X_train_1.shape"
      ],
      "execution_count": 50,
      "outputs": [
        {
          "output_type": "execute_result",
          "data": {
            "text/plain": [
              "(57418, 2304)"
            ]
          },
          "metadata": {
            "tags": []
          },
          "execution_count": 50
        }
      ]
    },
    {
      "metadata": {
        "id": "SsW2bh5ZV0Iw",
        "colab_type": "code",
        "colab": {
          "base_uri": "https://localhost:8080/",
          "height": 267
        },
        "outputId": "2ae8c0a7-aeb2-4d98-d8e3-55aa2ccc33ff"
      },
      "cell_type": "code",
      "source": [
        "vgg_train = np.apply_along_axis(VGG_preprocessing, 1, X_train_1)\n",
        "vgg_test = np.apply_along_axis(VGG_preprocessing, 1, X_test_1)\n",
        "vgg_valid = np.apply_along_axis(VGG_preprocessing, 1, X_valid_1)"
      ],
      "execution_count": 51,
      "outputs": [
        {
          "output_type": "display_data",
          "data": {
            "image/png": "[encoded data removed]",
            "text/plain": [
              "<matplotlib.figure.Figure at 0x7f373287e320>"
            ]
          },
          "metadata": {
            "tags": []
          }
        }
      ]
    },
    {
      "metadata": {
        "id": "L2xyo_Vbx3vC",
        "colab_type": "code",
        "colab": {
          "base_uri": "https://localhost:8080/",
          "height": 35
        },
        "outputId": "a4aa8bf6-2d1c-4270-8fb3-3eae153b8744"
      },
      "cell_type": "code",
      "source": [
        "vgg_train.shape"
      ],
      "execution_count": 52,
      "outputs": [
        {
          "output_type": "execute_result",
          "data": {
            "text/plain": [
              "(57418, 48, 48, 3)"
            ]
          },
          "metadata": {
            "tags": []
          },
          "execution_count": 52
        }
      ]
    },
    {
      "metadata": {
        "id": "y2zTBo6mS4gv",
        "colab_type": "code",
        "colab": {}
      },
      "cell_type": "code",
      "source": [
        "def Model5():\n",
        "    vgg = VGG16(include_top=False, input_shape=(48,48,3), weights='imagenet')\n",
        "    k = Flatten()(vgg.output)\n",
        "    k = Dense(256, activation='relu')(k)\n",
        "    k = Dropout(0.2)(k)\n",
        "    k = Dense(128, activation='relu')(k)\n",
        "    k = Dropout(0.2)(k)\n",
        "    k = Dense(64)(k)\n",
        "\n",
        "    pred = Dense(7, activation='softmax')(k)\n",
        "    model = Model(input=vgg.input, output=pred)\n",
        "    return model"
      ],
      "execution_count": 0,
      "outputs": []
    },
    {
      "metadata": {
        "id": "GWeoU1ixUF9w",
        "colab_type": "code",
        "colab": {
          "base_uri": "https://localhost:8080/",
          "height": 107
        },
        "outputId": "6b891757-a2b6-404f-bf2f-02face1789ac"
      },
      "cell_type": "code",
      "source": [
        "model5 = Model5()"
      ],
      "execution_count": 54,
      "outputs": [
        {
          "output_type": "stream",
          "text": [
            "Downloading data from https://github.com/fchollet/deep-learning-models/releases/download/v0.1/vgg16_weights_tf_dim_ordering_tf_kernels_notop.h5\n",
            "58892288/58889256 [==============================] - 1s 0us/step\n"
          ],
          "name": "stdout"
        },
        {
          "output_type": "stream",
          "text": [
            "/usr/local/lib/python3.6/dist-packages/ipykernel_launcher.py:11: UserWarning: Update your `Model` call to the Keras 2 API: `Model(inputs=Tensor(\"in..., outputs=Tensor(\"de...)`\n",
            "  # This is added back by InteractiveShellApp.init_path()\n"
          ],
          "name": "stderr"
        }
      ]
    },
    {
      "metadata": {
        "id": "c0I2f0gmyZj3",
        "colab_type": "code",
        "colab": {
          "base_uri": "https://localhost:8080/",
          "height": 1040
        },
        "outputId": "32acdc28-f58e-4782-c982-c2ca372564c8"
      },
      "cell_type": "code",
      "source": [
        "model5.summary()"
      ],
      "execution_count": 55,
      "outputs": [
        {
          "output_type": "stream",
          "text": [
            "_________________________________________________________________\n",
            "Layer (type)                 Output Shape              Param #   \n",
            "=================================================================\n",
            "input_1 (InputLayer)         (None, 48, 48, 3)         0         \n",
            "_________________________________________________________________\n",
            "block1_conv1 (Conv2D)        (None, 48, 48, 64)        1792      \n",
            "_________________________________________________________________\n",
            "block1_conv2 (Conv2D)        (None, 48, 48, 64)        36928     \n",
            "_________________________________________________________________\n",
            "block1_pool (MaxPooling2D)   (None, 24, 24, 64)        0         \n",
            "_________________________________________________________________\n",
            "block2_conv1 (Conv2D)        (None, 24, 24, 128)       73856     \n",
            "_________________________________________________________________\n",
            "block2_conv2 (Conv2D)        (None, 24, 24, 128)       147584    \n",
            "_________________________________________________________________\n",
            "block2_pool (MaxPooling2D)   (None, 12, 12, 128)       0         \n",
            "_________________________________________________________________\n",
            "block3_conv1 (Conv2D)        (None, 12, 12, 256)       295168    \n",
            "_________________________________________________________________\n",
            "block3_conv2 (Conv2D)        (None, 12, 12, 256)       590080    \n",
            "_________________________________________________________________\n",
            "block3_conv3 (Conv2D)        (None, 12, 12, 256)       590080    \n",
            "_________________________________________________________________\n",
            "block3_pool (MaxPooling2D)   (None, 6, 6, 256)         0         \n",
            "_________________________________________________________________\n",
            "block4_conv1 (Conv2D)        (None, 6, 6, 512)         1180160   \n",
            "_________________________________________________________________\n",
            "block4_conv2 (Conv2D)        (None, 6, 6, 512)         2359808   \n",
            "_________________________________________________________________\n",
            "block4_conv3 (Conv2D)        (None, 6, 6, 512)         2359808   \n",
            "_________________________________________________________________\n",
            "block4_pool (MaxPooling2D)   (None, 3, 3, 512)         0         \n",
            "_________________________________________________________________\n",
            "block5_conv1 (Conv2D)        (None, 3, 3, 512)         2359808   \n",
            "_________________________________________________________________\n",
            "block5_conv2 (Conv2D)        (None, 3, 3, 512)         2359808   \n",
            "_________________________________________________________________\n",
            "block5_conv3 (Conv2D)        (None, 3, 3, 512)         2359808   \n",
            "_________________________________________________________________\n",
            "block5_pool (MaxPooling2D)   (None, 1, 1, 512)         0         \n",
            "_________________________________________________________________\n",
            "flatten_1 (Flatten)          (None, 512)               0         \n",
            "_________________________________________________________________\n",
            "dense_1 (Dense)              (None, 256)               131328    \n",
            "_________________________________________________________________\n",
            "dropout_1 (Dropout)          (None, 256)               0         \n",
            "_________________________________________________________________\n",
            "dense_2 (Dense)              (None, 128)               32896     \n",
            "_________________________________________________________________\n",
            "dropout_2 (Dropout)          (None, 128)               0         \n",
            "_________________________________________________________________\n",
            "dense_3 (Dense)              (None, 64)                8256      \n",
            "_________________________________________________________________\n",
            "dense_4 (Dense)              (None, 7)                 455       \n",
            "=================================================================\n",
            "Total params: 14,887,623\n",
            "Trainable params: 14,887,623\n",
            "Non-trainable params: 0\n",
            "_________________________________________________________________\n"
          ],
          "name": "stdout"
        }
      ]
    },
    {
      "metadata": {
        "id": "ltgJwnMnOtIg",
        "colab_type": "code",
        "colab": {}
      },
      "cell_type": "code",
      "source": [
        "lr_reducer5 = ReduceLROnPlateau(monitor='val_loss', factor=0.9, patience=3, verbose=1)\n",
        "tensorboard5 = TensorBoard(log_dir='./logs')\n",
        "early_stopper5 = EarlyStopping(monitor='val_loss', min_delta=0, patience=8, verbose=1, mode='auto')\n",
        "checkpointer5 = ModelCheckpoint(\"/drive\", monitor='val_loss', verbose=1, save_best_only=True)"
      ],
      "execution_count": 0,
      "outputs": []
    },
    {
      "metadata": {
        "id": "VBtpeIeV8tzc",
        "colab_type": "code",
        "colab": {}
      },
      "cell_type": "code",
      "source": [
        "model5.compile(loss=categorical_crossentropy,\n",
        "              optimizer=Adamax(),\n",
        "              metrics=['accuracy'])"
      ],
      "execution_count": 0,
      "outputs": []
    },
    {
      "metadata": {
        "id": "GS4MYbjb8WwN",
        "colab_type": "code",
        "colab": {
          "base_uri": "https://localhost:8080/",
          "height": 921
        },
        "outputId": "2909eba1-18a6-4301-d978-1662326526ec"
      },
      "cell_type": "code",
      "source": [
        "model5.fit(vgg_train,Y_train,\n",
        "          batch_size=128,\n",
        "          epochs=100,\n",
        "          verbose=1,\n",
        "          validation_data=(vgg_valid, Y_valid),\n",
        "          shuffle=True,\n",
        "          callbacks=[lr_reducer5, tensorboard5, early_stopper5, checkpointer5])"
      ],
      "execution_count": 59,
      "outputs": [
        {
          "output_type": "stream",
          "text": [
            "Train on 57418 samples, validate on 3589 samples\n",
            "Epoch 1/100\n",
            "57418/57418 [==============================] - 105s 2ms/step - loss: 0.9276 - acc: 0.6572 - val_loss: 1.0209 - val_acc: 0.6102\n",
            "\n",
            "Epoch 00001: val_loss improved from inf to 1.02088, saving model to /drive\n",
            "Epoch 2/100\n",
            "12032/57418 [=====>........................] - ETA: 1:21 - loss: 0.8316 - acc: 0.6999"
          ],
          "name": "stdout"
        },
        {
          "output_type": "stream",
          "text": [
            "57418/57418 [==============================] - 105s 2ms/step - loss: 0.8362 - acc: 0.6937 - val_loss: 1.0041 - val_acc: 0.6272\n",
            "\n",
            "Epoch 00002: val_loss improved from 1.02088 to 1.00408, saving model to /drive\n",
            "Epoch 3/100\n",
            "29184/57418 [==============>...............] - ETA: 50s - loss: 0.7316 - acc: 0.7343"
          ],
          "name": "stdout"
        },
        {
          "output_type": "stream",
          "text": [
            "57418/57418 [==============================] - 105s 2ms/step - loss: 0.7421 - acc: 0.7314 - val_loss: 0.9972 - val_acc: 0.6442\n",
            "\n",
            "Epoch 00003: val_loss improved from 1.00408 to 0.99718, saving model to /drive\n",
            "Epoch 4/100\n",
            "34048/57418 [================>.............] - ETA: 42s - loss: 0.6321 - acc: 0.7753"
          ],
          "name": "stdout"
        },
        {
          "output_type": "stream",
          "text": [
            "57418/57418 [==============================] - 105s 2ms/step - loss: 0.6442 - acc: 0.7730 - val_loss: 1.0956 - val_acc: 0.6222\n",
            "\n",
            "Epoch 00004: val_loss did not improve from 0.99718\n",
            "Epoch 5/100\n",
            "39168/57418 [===================>..........] - ETA: 32s - loss: 0.5445 - acc: 0.8087"
          ],
          "name": "stdout"
        },
        {
          "output_type": "stream",
          "text": [
            "57418/57418 [==============================] - 106s 2ms/step - loss: 0.5515 - acc: 0.8050 - val_loss: 1.0645 - val_acc: 0.6481\n",
            "\n",
            "Epoch 00005: val_loss did not improve from 0.99718\n",
            "Epoch 6/100\n",
            "40704/57418 [====================>.........] - ETA: 30s - loss: 0.4451 - acc: 0.8473"
          ],
          "name": "stdout"
        },
        {
          "output_type": "stream",
          "text": [
            "57418/57418 [==============================] - 106s 2ms/step - loss: 0.4577 - acc: 0.8413 - val_loss: 1.1697 - val_acc: 0.6431\n",
            "\n",
            "Epoch 00006: ReduceLROnPlateau reducing learning rate to 0.0018000000854954123.\n",
            "\n",
            "Epoch 00006: val_loss did not improve from 0.99718\n",
            "Epoch 7/100\n",
            "31744/57418 [===============>..............] - ETA: 46s - loss: 0.3454 - acc: 0.8820"
          ],
          "name": "stdout"
        },
        {
          "output_type": "stream",
          "text": [
            "57418/57418 [==============================] - 105s 2ms/step - loss: 0.3494 - acc: 0.8803 - val_loss: 1.2672 - val_acc: 0.6308\n",
            "\n",
            "Epoch 00007: val_loss did not improve from 0.99718\n",
            "Epoch 8/100\n",
            "38400/57418 [===================>..........] - ETA: 34s - loss: 0.2751 - acc: 0.9084"
          ],
          "name": "stdout"
        },
        {
          "output_type": "stream",
          "text": [
            "57418/57418 [==============================] - 105s 2ms/step - loss: 0.2804 - acc: 0.9065 - val_loss: 1.4211 - val_acc: 0.6459\n",
            "\n",
            "Epoch 00008: val_loss did not improve from 0.99718\n",
            "Epoch 9/100\n",
            "40448/57418 [====================>.........] - ETA: 30s - loss: 0.2237 - acc: 0.9269"
          ],
          "name": "stdout"
        },
        {
          "output_type": "stream",
          "text": [
            "57418/57418 [==============================] - 105s 2ms/step - loss: 0.2286 - acc: 0.9252 - val_loss: 1.4638 - val_acc: 0.6383\n",
            "\n",
            "Epoch 00009: ReduceLROnPlateau reducing learning rate to 0.0016200000769458712.\n",
            "\n",
            "Epoch 00009: val_loss did not improve from 0.99718\n",
            "Epoch 10/100\n",
            "31616/57418 [===============>..............] - ETA: 46s - loss: 0.1670 - acc: 0.9474"
          ],
          "name": "stdout"
        },
        {
          "output_type": "stream",
          "text": [
            "57418/57418 [==============================] - 105s 2ms/step - loss: 0.1744 - acc: 0.9447 - val_loss: 1.6003 - val_acc: 0.6595\n",
            "\n",
            "Epoch 00010: val_loss did not improve from 0.99718\n",
            "Epoch 11/100\n",
            "38272/57418 [==================>...........] - ETA: 34s - loss: 0.1378 - acc: 0.9568"
          ],
          "name": "stdout"
        },
        {
          "output_type": "stream",
          "text": [
            "57418/57418 [==============================] - 105s 2ms/step - loss: 0.1420 - acc: 0.9550 - val_loss: 1.6608 - val_acc: 0.6553\n",
            "\n",
            "Epoch 00011: val_loss did not improve from 0.99718\n",
            "Epoch 00011: early stopping\n"
          ],
          "name": "stdout"
        },
        {
          "output_type": "execute_result",
          "data": {
            "text/plain": [
              "<keras.callbacks.History at 0x7f37303e8588>"
            ]
          },
          "metadata": {
            "tags": []
          },
          "execution_count": 59
        }
      ]
    },
    {
      "metadata": {
        "id": "YIM0DTB20G6U",
        "colab_type": "code",
        "colab": {
          "base_uri": "https://localhost:8080/",
          "height": 52
        },
        "outputId": "2ac8324e-9cd4-42aa-93ad-5b6f736e2cf1"
      },
      "cell_type": "code",
      "source": [
        "model5.evaluate(vgg_test, Y_test)"
      ],
      "execution_count": 60,
      "outputs": [
        {
          "output_type": "stream",
          "text": [
            "3589/3589 [==============================] - 3s 941us/step\n"
          ],
          "name": "stdout"
        },
        {
          "output_type": "execute_result",
          "data": {
            "text/plain": [
              "[1.7430417702768666, 0.6433546949176943]"
            ]
          },
          "metadata": {
            "tags": []
          },
          "execution_count": 60
        }
      ]
    },
    {
      "metadata": {
        "id": "-judzES9TZoN",
        "colab_type": "code",
        "colab": {}
      },
      "cell_type": "code",
      "source": [
        "model5.save_weights('drive/face_expr_model5.h5')"
      ],
      "execution_count": 0,
      "outputs": []
    },
    {
      "metadata": {
        "id": "PL2kg2MbSX_7",
        "colab_type": "text"
      },
      "cell_type": "markdown",
      "source": [
        "Since the training error is much larger than the dev error .. this proves high variance thus overfitting . This is common when needed features are less and model is too big . So to solve that we will try data augmentation\""
      ]
    },
    {
      "metadata": {
        "id": "goDdCIZyTFpk",
        "colab_type": "code",
        "colab": {
          "base_uri": "https://localhost:8080/",
          "height": 72
        },
        "outputId": "7fe9f9aa-4ed9-4e8a-b38f-68308bf2b79f"
      },
      "cell_type": "code",
      "source": [
        "model5_n = Model5()"
      ],
      "execution_count": 66,
      "outputs": [
        {
          "output_type": "stream",
          "text": [
            "/usr/local/lib/python3.6/dist-packages/ipykernel_launcher.py:11: UserWarning: Update your `Model` call to the Keras 2 API: `Model(inputs=Tensor(\"in..., outputs=Tensor(\"de...)`\n",
            "  # This is added back by InteractiveShellApp.init_path()\n"
          ],
          "name": "stderr"
        }
      ]
    },
    {
      "metadata": {
        "id": "ITR_xt8c0Qyh",
        "colab_type": "code",
        "colab": {}
      },
      "cell_type": "code",
      "source": [
        "from keras.preprocessing.image import ImageDataGenerator\n",
        "gen = ImageDataGenerator()\n",
        "train_generator = gen.flow(vgg_train, Y_train, batch_size=64)\n",
        " \n",
        "model5_n.compile(loss='categorical_crossentropy'\n",
        ", optimizer=Adamax(lr=0.0005)\n",
        ", metrics=['accuracy']\n",
        ")\n",
        " "
      ],
      "execution_count": 0,
      "outputs": []
    },
    {
      "metadata": {
        "id": "CX1-Ds631UZx",
        "colab_type": "code",
        "colab": {
          "base_uri": "https://localhost:8080/",
          "height": 1181
        },
        "outputId": "35b3b602-c2b4-4e53-9f18-9ab7cf2ac460"
      },
      "cell_type": "code",
      "source": [
        "model5_n.fit_generator(train_generator, steps_per_epoch=50, epochs=60)"
      ],
      "execution_count": 0,
      "outputs": [
        {
          "output_type": "stream",
          "text": [
            "Epoch 1/60\n",
            "50/50 [==============================] - 8s 150ms/step - loss: 1.1295 - acc: 0.5772\n",
            "Epoch 2/60\n",
            "50/50 [==============================] - 8s 150ms/step - loss: 1.1209 - acc: 0.5747\n",
            "Epoch 3/60\n",
            "50/50 [==============================] - 7s 150ms/step - loss: 1.1314 - acc: 0.5844\n",
            "Epoch 4/60\n",
            "50/50 [==============================] - 8s 150ms/step - loss: 1.0830 - acc: 0.5925\n",
            "Epoch 5/60\n",
            "50/50 [==============================] - 8s 151ms/step - loss: 1.0916 - acc: 0.6034\n",
            "Epoch 6/60\n",
            "50/50 [==============================] - 8s 150ms/step - loss: 1.1099 - acc: 0.5900\n",
            "Epoch 7/60\n"
          ],
          "name": "stdout"
        },
        {
          "output_type": "stream",
          "text": [
            "50/50 [==============================] - 7s 150ms/step - loss: 1.0682 - acc: 0.6075\n",
            "Epoch 8/60\n",
            "50/50 [==============================] - 8s 150ms/step - loss: 1.0757 - acc: 0.5994\n",
            "Epoch 9/60\n",
            "50/50 [==============================] - 8s 150ms/step - loss: 1.0564 - acc: 0.6053\n",
            "Epoch 10/60\n",
            "50/50 [==============================] - 8s 150ms/step - loss: 1.0543 - acc: 0.6025\n",
            "Epoch 11/60\n",
            "50/50 [==============================] - 7s 150ms/step - loss: 1.0766 - acc: 0.5934\n",
            "Epoch 12/60\n",
            "50/50 [==============================] - 8s 150ms/step - loss: 1.0268 - acc: 0.6175\n",
            "Epoch 13/60\n",
            " 5/50 [==>...........................] - ETA: 6s - loss: 1.0498 - acc: 0.6031"
          ],
          "name": "stdout"
        },
        {
          "output_type": "stream",
          "text": [
            "50/50 [==============================] - 7s 149ms/step - loss: 1.0415 - acc: 0.6188\n",
            "Epoch 14/60\n",
            "50/50 [==============================] - 7s 150ms/step - loss: 1.0059 - acc: 0.6216\n",
            "Epoch 15/60\n",
            "50/50 [==============================] - 7s 149ms/step - loss: 1.0377 - acc: 0.6166\n",
            "Epoch 16/60\n",
            "50/50 [==============================] - 7s 150ms/step - loss: 1.0232 - acc: 0.6200\n",
            "Epoch 17/60\n",
            "50/50 [==============================] - 7s 150ms/step - loss: 0.9993 - acc: 0.6328\n",
            "Epoch 18/60\n",
            "50/50 [==============================] - 8s 150ms/step - loss: 1.0523 - acc: 0.6159\n",
            "Epoch 19/60\n",
            " 4/50 [=>............................] - ETA: 6s - loss: 1.0233 - acc: 0.6250"
          ],
          "name": "stdout"
        },
        {
          "output_type": "stream",
          "text": [
            "50/50 [==============================] - 8s 151ms/step - loss: 0.9567 - acc: 0.6416\n",
            "Epoch 20/60\n",
            "50/50 [==============================] - 8s 151ms/step - loss: 0.9342 - acc: 0.6494\n",
            "Epoch 21/60\n",
            "50/50 [==============================] - 7s 149ms/step - loss: 0.9099 - acc: 0.6616\n",
            "Epoch 22/60\n",
            "50/50 [==============================] - 8s 150ms/step - loss: 0.9040 - acc: 0.6672\n",
            "Epoch 23/60\n",
            "50/50 [==============================] - 8s 151ms/step - loss: 0.9286 - acc: 0.6559\n",
            "Epoch 24/60\n",
            "50/50 [==============================] - 8s 151ms/step - loss: 0.9710 - acc: 0.6475\n",
            "Epoch 25/60\n",
            " 4/50 [=>............................] - ETA: 6s - loss: 0.9917 - acc: 0.6406"
          ],
          "name": "stdout"
        },
        {
          "output_type": "stream",
          "text": [
            "50/50 [==============================] - 7s 150ms/step - loss: 0.9328 - acc: 0.6603\n",
            "Epoch 26/60\n",
            "50/50 [==============================] - 8s 150ms/step - loss: 0.8776 - acc: 0.6734\n",
            "Epoch 27/60\n",
            "50/50 [==============================] - 8s 150ms/step - loss: 0.9114 - acc: 0.6594\n",
            "Epoch 28/60\n",
            "50/50 [==============================] - 8s 151ms/step - loss: 0.9236 - acc: 0.6550\n",
            "Epoch 29/60\n",
            "50/50 [==============================] - 8s 150ms/step - loss: 0.9326 - acc: 0.6566\n",
            "Epoch 30/60\n",
            "50/50 [==============================] - 7s 149ms/step - loss: 0.9501 - acc: 0.6644\n",
            "Epoch 31/60\n",
            " 4/50 [=>............................] - ETA: 7s - loss: 0.7811 - acc: 0.7070"
          ],
          "name": "stdout"
        },
        {
          "output_type": "stream",
          "text": [
            "50/50 [==============================] - 7s 150ms/step - loss: 0.9097 - acc: 0.6600\n",
            "Epoch 32/60\n",
            "50/50 [==============================] - 7s 149ms/step - loss: 0.9012 - acc: 0.6706\n",
            "Epoch 33/60\n",
            "20/50 [===========>..................] - ETA: 4s - loss: 0.9524 - acc: 0.6531"
          ],
          "name": "stdout"
        }
      ]
    },
    {
      "metadata": {
        "id": "ec-GKvX9U4Ui",
        "colab_type": "code",
        "colab": {}
      },
      "cell_type": "code",
      "source": [
        ""
      ],
      "execution_count": 0,
      "outputs": []
    }
  ]
}